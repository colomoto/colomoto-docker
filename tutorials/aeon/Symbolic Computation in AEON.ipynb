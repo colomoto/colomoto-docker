{
 "cells": [
  {
   "cell_type": "markdown",
   "metadata": {
    "cell_id": "00000-9c3cda86-6e93-405a-bbb2-816c16218eae",
    "deepnote_app_coordinates": {
     "h": 5,
     "w": 12,
     "x": 0,
     "y": null
    },
    "deepnote_cell_height": 608.578125,
    "deepnote_cell_type": "markdown",
    "tags": []
   },
   "source": [
    "# Symbolic computation using BDDs in AEON.py\n",
    "\n",
    "This notebook shows examples of how to use binary decision diagrams (BDDs) available in the AEON.py tool. It assumes that you already know what BDDs are and their capabilities (i.e., we will not talk about BDDs, just the technical implementation of the library).\n",
    "\n",
    "Compared to other BDD libraries, here we do not have a single shared \"BDD storage\" or \"BDD manager\". Instead, **every BDD is a separate object**, which means it can be more easily passed around during asynchronous or parallel computing (i.e. more than one BDD operation can be running at the same time).\n",
    "\n",
    "That being said, we still use a separate `BddVariableSet` to manage the mapping from *names* to the BDD variables, since these are not used as often and there is no need to keep them around in each BDD. This `BddVariableSet` object is also used to initially create atomic BDDs, so it is probably the first thing that you'll need to create before creating the BDDs. However, each BDD actually maintains the *number* of variables that it supports (which is injected based on the `BddVariableSet`), and you **cannot mix BDDs with a different variable count**. So in practice, you should try to only use together BDDs created using the same `BddVariableSet`."
   ]
  },
  {
   "cell_type": "code",
   "execution_count": 1,
   "metadata": {
    "cell_id": "00001-13ec6659-4a0f-40a7-84bb-28684bbfa711",
    "deepnote_app_coordinates": {
     "h": 5,
     "w": 12,
     "x": 0,
     "y": 6
    },
    "deepnote_cell_height": 81,
    "deepnote_cell_type": "code",
    "deepnote_to_be_reexecuted": false,
    "execution_millis": 44,
    "execution_start": 1647976186903,
    "source_hash": "1370dff5",
    "tags": []
   },
   "outputs": [],
   "source": [
    "from biodivine_aeon import *"
   ]
  },
  {
   "cell_type": "markdown",
   "metadata": {
    "cell_id": "00001-6fdbbc9e-2cd9-471d-af64-ef167d5a24b5",
    "deepnote_app_coordinates": {
     "h": 5,
     "w": 12,
     "x": 0,
     "y": 12
    },
    "deepnote_cell_height": 74.796875,
    "deepnote_cell_type": "markdown",
    "tags": []
   },
   "source": [
    "To create a `BddVariableSet`, you have two options: If you already know the number of variables (and their names), you can create it directly. Alternatively, you can create it gradually using a `BddVariableSetBuilder` while figuring out what variables to use."
   ]
  },
  {
   "cell_type": "code",
   "execution_count": 2,
   "metadata": {
    "cell_id": "00000-03bcff83-4489-454d-bc8b-948df30269a3",
    "deepnote_app_coordinates": {
     "h": 5,
     "w": 12,
     "x": 0,
     "y": 18
    },
    "deepnote_cell_height": 550.1875,
    "deepnote_cell_type": "code",
    "deepnote_output_heights": [
     21.1875
    ],
    "deepnote_to_be_reexecuted": false,
    "execution_millis": 12,
    "execution_start": 1647976186947,
    "source_hash": "f1dff02e",
    "tags": []
   },
   "outputs": [
    {
     "data": {
      "text/plain": [
       "['x_0', 'x_1', 'x_2', 'x_3', 'x_4', 'x_5', 'x_6', 'x_7', 'x_8', 'x_9']"
      ]
     },
     "execution_count": 2,
     "metadata": {},
     "output_type": "execute_result"
    }
   ],
   "source": [
    "# Create a BddVariableSet with 5 variables names a, b, c, d, e.\n",
    "vars = BddVariableSet([\"a\", \"b\", \"c\", \"d\", \"e\"])\n",
    "assert vars.var_count() == 5\n",
    "# To actually use the variables in the future, we have to use a reference. \n",
    "# Here, v_a now contains a BDD variable reference. \n",
    "v_a = vars.find_variable(\"a\")\n",
    "v_c = vars.find_variable(\"c\")\n",
    "\n",
    "# For example, we can use the variable reference to create a literal.\n",
    "# That is, a BDD which corresponds either to just \"a\", or to \"!a\".\n",
    "positive_bdd_literal = vars.mk_literal(v_a, True)\n",
    "negative_bdd_literal = vars.mk_literal(v_a, False)\n",
    "\n",
    "# We can also use the variable set to create constants:\n",
    "bdd_true = vars.mk_const(True)\n",
    "\n",
    "assert positive_bdd_literal.is_true() == False\n",
    "assert bdd_true.is_true() == True  \n",
    "\n",
    "# You can create an \"anonymous\" variable set, where the names of \n",
    "# the variables are \"x_0\", \"x_1\", ... , \"x_{n-1}\" by default\n",
    "anonymous_vars = BddVariableSet(10)\n",
    "\n",
    "# It is always possible to obtain all variables in the set, just in case:\n",
    "actual_anonymous_vars = anonymous_vars.all_variables()\n",
    "\n",
    "# This gives you a list of all \"variable references\". \n",
    "# You can however read back their names easily:\n",
    "list(map(lambda v: anonymous_vars.name_of(v), actual_anonymous_vars))"
   ]
  },
  {
   "cell_type": "markdown",
   "metadata": {
    "cell_id": "00004-129e740e-07e0-4989-ace9-a38c4302f633",
    "deepnote_app_coordinates": {
     "h": 5,
     "w": 12,
     "x": 0,
     "y": 24
    },
    "deepnote_cell_height": 74.796875,
    "deepnote_cell_type": "markdown",
    "tags": []
   },
   "source": [
    "In some cases, you don't know the number (or names) of variables initially. For example, you want to have a function that creates the variables while reading the problem input, and saves the BDD variable references for future use:"
   ]
  },
  {
   "cell_type": "code",
   "execution_count": 3,
   "metadata": {
    "cell_id": "00005-1e2f1981-6dc4-42e4-ac68-5ec5b09c9a28",
    "deepnote_app_coordinates": {
     "h": 5,
     "w": 12,
     "x": 0,
     "y": 30
    },
    "deepnote_cell_height": 316.1875,
    "deepnote_cell_type": "code",
    "deepnote_output_heights": [
     21.1875
    ],
    "deepnote_to_be_reexecuted": false,
    "execution_millis": 394,
    "execution_start": 1647976186990,
    "source_hash": "61443f38",
    "tags": []
   },
   "outputs": [
    {
     "data": {
      "text/plain": [
       "4"
      ]
     },
     "execution_count": 3,
     "metadata": {},
     "output_type": "execute_result"
    }
   ],
   "source": [
    "builder = BddVariableSetBuilder()\n",
    "\n",
    "# You can create variables one by one, and the builder will always \n",
    "# give you the variable reference for later use.\n",
    "v_first = builder.make_variable(\"first\")\n",
    "\n",
    "# You can also create multiple variable at the same time if you want to.\n",
    "created = builder.make([\"second\", \"third\", \"fourth\"])\n",
    "v_third = created[1]\n",
    "\n",
    "# In the end, you can just call build to turn the builder into \n",
    "# a valid variable set.\n",
    "four_vars = builder.build()\n",
    "four_vars.var_count()"
   ]
  },
  {
   "cell_type": "markdown",
   "metadata": {
    "cell_id": "00006-cc682d42-034c-4dce-acbd-b6155fdcf6af",
    "deepnote_app_coordinates": {
     "h": 5,
     "w": 12,
     "x": 0,
     "y": 36
    },
    "deepnote_cell_height": 111.1875,
    "deepnote_cell_type": "markdown",
    "tags": []
   },
   "source": [
    "Note that the library will automatically check whether you used duplicate variables. Furthermore, some special characters (like `!` or other logical operators) cannot be used in a variable name.\n",
    "\n",
    "The reason for this is mainly that `BddVariableSet` can actually do quite a bit more than what we've shown already:"
   ]
  },
  {
   "cell_type": "code",
   "execution_count": 4,
   "metadata": {
    "cell_id": "00007-d0aba704-3d53-4103-9b04-439996288d91",
    "deepnote_app_coordinates": {
     "h": 5,
     "w": 12,
     "x": 0,
     "y": 42
    },
    "deepnote_cell_height": 316.1875,
    "deepnote_cell_type": "code",
    "deepnote_output_heights": [
     21.1875
    ],
    "deepnote_to_be_reexecuted": false,
    "execution_millis": 393,
    "execution_start": 1647976186991,
    "source_hash": "c81f7362",
    "tags": []
   },
   "outputs": [
    {
     "data": {
      "text/plain": [
       "4.0"
      ]
     },
     "execution_count": 4,
     "metadata": {},
     "output_type": "execute_result"
    }
   ],
   "source": [
    "# If you have a formula that you want to quickly turn into a BDD, you can simply evaluate it as a string:\n",
    "# (as long as the variable names match the ones in your BddVariableSet)\n",
    "formula = vars.eval_expression(\"a & (b => !c) & (d <=> (c & !a))\")\n",
    "\n",
    "# Furthermore, if you have a formula saved in CNF/DNF, you can also build it quite easily.\n",
    "# Each element in the list is a dictionary containing the literals in the CNF/DNF clause. \n",
    "# These can use either the BDD variable references, or the names of the variables\n",
    "conjunction = vars.mk_cnf([{v_a: True, \"b\": False}, {\"c\": False, \"d\": False}, {v_a: True, \"c\": True}])\n",
    "\n",
    "# If you only want to create one clause, you can do that as well:\n",
    "clause = vars.mk_conjunctive_clause({v_a: True, \"b\": False, \"c\": True})\n",
    "clause.cardinality() # Get the number of valuations satisfied in this BDD."
   ]
  },
  {
   "cell_type": "markdown",
   "metadata": {
    "cell_id": "00008-eeeac323-340f-40a4-a578-f1a064173163",
    "deepnote_app_coordinates": {
     "h": 5,
     "w": 12,
     "x": 0,
     "y": 48
    },
    "deepnote_cell_height": 52.390625,
    "deepnote_cell_type": "markdown",
    "tags": []
   },
   "source": [
    "To visually inspect the BDDs, you can use a conversion to `.dot`. Here, we are using `graphviz` to actually show the pictures of the BDD:"
   ]
  },
  {
   "cell_type": "code",
   "execution_count": 5,
   "metadata": {
    "cell_id": "00009-4ebaf19c-04c0-427b-add6-229c6e4ee693",
    "deepnote_app_coordinates": {
     "h": 5,
     "w": 12,
     "x": 0,
     "y": 54
    },
    "deepnote_cell_height": 609.65625,
    "deepnote_cell_type": "code",
    "deepnote_output_heights": [
     476.65625
    ],
    "deepnote_to_be_reexecuted": false,
    "execution_millis": 395,
    "execution_start": 1647976186992,
    "source_hash": "91a95f1f",
    "tags": []
   },
   "outputs": [
    {
     "data": {
      "image/svg+xml": [
       "<?xml version=\"1.0\" encoding=\"UTF-8\" standalone=\"no\"?>\n",
       "<!DOCTYPE svg PUBLIC \"-//W3C//DTD SVG 1.1//EN\"\n",
       " \"http://www.w3.org/Graphics/SVG/1.1/DTD/svg11.dtd\">\n",
       "<!-- Generated by graphviz version 2.42.3 (20191010.1750)\n",
       " -->\n",
       "<!-- Title: G Pages: 1 -->\n",
       "<svg width=\"90pt\" height=\"356pt\"\n",
       " viewBox=\"0.00 0.00 90.00 356.00\" xmlns=\"http://www.w3.org/2000/svg\" xmlns:xlink=\"http://www.w3.org/1999/xlink\">\n",
       "<g id=\"graph0\" class=\"graph\" transform=\"scale(1 1) rotate(0) translate(4 352)\">\n",
       "<title>G</title>\n",
       "<polygon fill=\"white\" stroke=\"transparent\" points=\"-4,4 -4,-352 86,-352 86,4 -4,4\"/>\n",
       "<!-- init__ -->\n",
       "<!-- 5 -->\n",
       "<g id=\"node2\" class=\"node\">\n",
       "<title>5</title>\n",
       "<ellipse fill=\"none\" stroke=\"black\" cx=\"27\" cy=\"-293\" rx=\"27\" ry=\"18\"/>\n",
       "<text text-anchor=\"middle\" x=\"27\" y=\"-289.3\" font-family=\"Times,serif\" font-size=\"14.00\">x_0</text>\n",
       "</g>\n",
       "<!-- init__&#45;&gt;5 -->\n",
       "<g id=\"edge1\" class=\"edge\">\n",
       "<title>init__&#45;&gt;5</title>\n",
       "<path fill=\"none\" stroke=\"black\" d=\"M27,-346.85C27,-345.37 27,-333.32 27,-321.1\"/>\n",
       "<polygon fill=\"black\" stroke=\"black\" points=\"30.5,-321.02 27,-311.02 23.5,-321.02 30.5,-321.02\"/>\n",
       "</g>\n",
       "<!-- 4 -->\n",
       "<g id=\"node6\" class=\"node\">\n",
       "<title>4</title>\n",
       "<ellipse fill=\"none\" stroke=\"black\" cx=\"27\" cy=\"-221\" rx=\"27\" ry=\"18\"/>\n",
       "<text text-anchor=\"middle\" x=\"27\" y=\"-217.3\" font-family=\"Times,serif\" font-size=\"14.00\">x_1</text>\n",
       "</g>\n",
       "<!-- 5&#45;&gt;4 -->\n",
       "<g id=\"edge6\" class=\"edge\">\n",
       "<title>5&#45;&gt;4</title>\n",
       "<path fill=\"none\" stroke=\"black\" d=\"M27,-274.7C27,-266.98 27,-257.71 27,-249.11\"/>\n",
       "<polygon fill=\"black\" stroke=\"black\" points=\"30.5,-249.1 27,-239.1 23.5,-249.1 30.5,-249.1\"/>\n",
       "</g>\n",
       "<!-- 1 -->\n",
       "<g id=\"node3\" class=\"node\">\n",
       "<title>1</title>\n",
       "<polygon fill=\"lightgrey\" stroke=\"black\" points=\"40,-23 14,-23 14,0 40,0 40,-23\"/>\n",
       "<text text-anchor=\"middle\" x=\"27\" y=\"-7.8\" font-family=\"Times,serif\" font-size=\"14.00\">1</text>\n",
       "</g>\n",
       "<!-- 2 -->\n",
       "<g id=\"node4\" class=\"node\">\n",
       "<title>2</title>\n",
       "<ellipse fill=\"none\" stroke=\"black\" cx=\"27\" cy=\"-77\" rx=\"27\" ry=\"18\"/>\n",
       "<text text-anchor=\"middle\" x=\"27\" y=\"-73.3\" font-family=\"Times,serif\" font-size=\"14.00\">x_3</text>\n",
       "</g>\n",
       "<!-- 2&#45;&gt;1 -->\n",
       "<g id=\"edge2\" class=\"edge\">\n",
       "<title>2&#45;&gt;1</title>\n",
       "<path fill=\"none\" stroke=\"black\" stroke-dasharray=\"1,5\" d=\"M27,-58.98C27,-51.12 27,-41.7 27,-33.4\"/>\n",
       "<polygon fill=\"black\" stroke=\"black\" points=\"30.5,-33.37 27,-23.37 23.5,-33.37 30.5,-33.37\"/>\n",
       "</g>\n",
       "<!-- 3 -->\n",
       "<g id=\"node5\" class=\"node\">\n",
       "<title>3</title>\n",
       "<ellipse fill=\"none\" stroke=\"black\" cx=\"55\" cy=\"-149\" rx=\"27\" ry=\"18\"/>\n",
       "<text text-anchor=\"middle\" x=\"55\" y=\"-145.3\" font-family=\"Times,serif\" font-size=\"14.00\">x_2</text>\n",
       "</g>\n",
       "<!-- 3&#45;&gt;2 -->\n",
       "<g id=\"edge3\" class=\"edge\">\n",
       "<title>3&#45;&gt;2</title>\n",
       "<path fill=\"none\" stroke=\"black\" stroke-dasharray=\"1,5\" d=\"M48.36,-131.41C45.09,-123.22 41.06,-113.14 37.38,-103.95\"/>\n",
       "<polygon fill=\"black\" stroke=\"black\" points=\"40.55,-102.45 33.59,-94.47 34.05,-105.05 40.55,-102.45\"/>\n",
       "</g>\n",
       "<!-- 4&#45;&gt;2 -->\n",
       "<g id=\"edge5\" class=\"edge\">\n",
       "<title>4&#45;&gt;2</title>\n",
       "<path fill=\"none\" stroke=\"black\" stroke-dasharray=\"1,5\" d=\"M23.75,-202.89C21.95,-192.54 19.91,-179.06 19,-167 17.8,-151.04 17.8,-146.96 19,-131 19.64,-122.52 20.84,-113.34 22.12,-105.04\"/>\n",
       "<polygon fill=\"black\" stroke=\"black\" points=\"25.58,-105.55 23.75,-95.11 18.68,-104.41 25.58,-105.55\"/>\n",
       "</g>\n",
       "<!-- 4&#45;&gt;3 -->\n",
       "<g id=\"edge4\" class=\"edge\">\n",
       "<title>4&#45;&gt;3</title>\n",
       "<path fill=\"none\" stroke=\"black\" d=\"M33.64,-203.41C36.91,-195.22 40.94,-185.14 44.62,-175.95\"/>\n",
       "<polygon fill=\"black\" stroke=\"black\" points=\"47.95,-177.05 48.41,-166.47 41.45,-174.45 47.95,-177.05\"/>\n",
       "</g>\n",
       "</g>\n",
       "</svg>\n"
      ],
      "text/plain": [
       "<graphviz.files.Source at 0x7f1b041c3a60>"
      ]
     },
     "execution_count": 5,
     "metadata": {},
     "output_type": "execute_result"
    }
   ],
   "source": [
    "import graphviz\n",
    "\n",
    "graphviz.Source(formula.to_dot())"
   ]
  },
  {
   "cell_type": "markdown",
   "metadata": {
    "cell_id": "00010-79ddeca4-2d57-4217-8069-9022a3be6e1e",
    "deepnote_app_coordinates": {
     "h": 5,
     "w": 12,
     "x": 0,
     "y": 60
    },
    "deepnote_cell_height": 74.796875,
    "deepnote_cell_type": "markdown",
    "tags": []
   },
   "source": [
    "For readability, the generated plot omits edges that lead to the `zero` terminal node, as these are easy to infer. However, the plot is also missing **variable names** -- defaulting to anonymous variables instead. If we want to actually use the names we declared when creating the BDD, we have to provide the variable set during conversion."
   ]
  },
  {
   "cell_type": "code",
   "execution_count": 6,
   "metadata": {
    "cell_id": "00011-b86b95bc-607b-4ee8-9df7-81b801fc107d",
    "deepnote_app_coordinates": {
     "h": 5,
     "w": 12,
     "x": 0,
     "y": 66
    },
    "deepnote_cell_height": 573.65625,
    "deepnote_cell_type": "code",
    "deepnote_output_heights": [
     476.65625
    ],
    "deepnote_to_be_reexecuted": false,
    "execution_millis": 182,
    "execution_start": 1647976187206,
    "source_hash": "eb7f5b43",
    "tags": []
   },
   "outputs": [
    {
     "data": {
      "image/svg+xml": [
       "<?xml version=\"1.0\" encoding=\"UTF-8\" standalone=\"no\"?>\n",
       "<!DOCTYPE svg PUBLIC \"-//W3C//DTD SVG 1.1//EN\"\n",
       " \"http://www.w3.org/Graphics/SVG/1.1/DTD/svg11.dtd\">\n",
       "<!-- Generated by graphviz version 2.42.3 (20191010.1750)\n",
       " -->\n",
       "<!-- Title: G Pages: 1 -->\n",
       "<svg width=\"90pt\" height=\"356pt\"\n",
       " viewBox=\"0.00 0.00 90.00 356.00\" xmlns=\"http://www.w3.org/2000/svg\" xmlns:xlink=\"http://www.w3.org/1999/xlink\">\n",
       "<g id=\"graph0\" class=\"graph\" transform=\"scale(1 1) rotate(0) translate(4 352)\">\n",
       "<title>G</title>\n",
       "<polygon fill=\"white\" stroke=\"transparent\" points=\"-4,4 -4,-352 86,-352 86,4 -4,4\"/>\n",
       "<!-- init__ -->\n",
       "<!-- 5 -->\n",
       "<g id=\"node2\" class=\"node\">\n",
       "<title>5</title>\n",
       "<ellipse fill=\"none\" stroke=\"black\" cx=\"27\" cy=\"-293\" rx=\"27\" ry=\"18\"/>\n",
       "<text text-anchor=\"middle\" x=\"27\" y=\"-289.3\" font-family=\"Times,serif\" font-size=\"14.00\">a</text>\n",
       "</g>\n",
       "<!-- init__&#45;&gt;5 -->\n",
       "<g id=\"edge1\" class=\"edge\">\n",
       "<title>init__&#45;&gt;5</title>\n",
       "<path fill=\"none\" stroke=\"black\" d=\"M27,-346.85C27,-345.37 27,-333.32 27,-321.1\"/>\n",
       "<polygon fill=\"black\" stroke=\"black\" points=\"30.5,-321.02 27,-311.02 23.5,-321.02 30.5,-321.02\"/>\n",
       "</g>\n",
       "<!-- 4 -->\n",
       "<g id=\"node6\" class=\"node\">\n",
       "<title>4</title>\n",
       "<ellipse fill=\"none\" stroke=\"black\" cx=\"27\" cy=\"-221\" rx=\"27\" ry=\"18\"/>\n",
       "<text text-anchor=\"middle\" x=\"27\" y=\"-217.3\" font-family=\"Times,serif\" font-size=\"14.00\">b</text>\n",
       "</g>\n",
       "<!-- 5&#45;&gt;4 -->\n",
       "<g id=\"edge6\" class=\"edge\">\n",
       "<title>5&#45;&gt;4</title>\n",
       "<path fill=\"none\" stroke=\"black\" d=\"M27,-274.7C27,-266.98 27,-257.71 27,-249.11\"/>\n",
       "<polygon fill=\"black\" stroke=\"black\" points=\"30.5,-249.1 27,-239.1 23.5,-249.1 30.5,-249.1\"/>\n",
       "</g>\n",
       "<!-- 1 -->\n",
       "<g id=\"node3\" class=\"node\">\n",
       "<title>1</title>\n",
       "<polygon fill=\"lightgrey\" stroke=\"black\" points=\"40,-23 14,-23 14,0 40,0 40,-23\"/>\n",
       "<text text-anchor=\"middle\" x=\"27\" y=\"-7.8\" font-family=\"Times,serif\" font-size=\"14.00\">1</text>\n",
       "</g>\n",
       "<!-- 2 -->\n",
       "<g id=\"node4\" class=\"node\">\n",
       "<title>2</title>\n",
       "<ellipse fill=\"none\" stroke=\"black\" cx=\"27\" cy=\"-77\" rx=\"27\" ry=\"18\"/>\n",
       "<text text-anchor=\"middle\" x=\"27\" y=\"-73.3\" font-family=\"Times,serif\" font-size=\"14.00\">d</text>\n",
       "</g>\n",
       "<!-- 2&#45;&gt;1 -->\n",
       "<g id=\"edge2\" class=\"edge\">\n",
       "<title>2&#45;&gt;1</title>\n",
       "<path fill=\"none\" stroke=\"black\" stroke-dasharray=\"1,5\" d=\"M27,-58.98C27,-51.12 27,-41.7 27,-33.4\"/>\n",
       "<polygon fill=\"black\" stroke=\"black\" points=\"30.5,-33.37 27,-23.37 23.5,-33.37 30.5,-33.37\"/>\n",
       "</g>\n",
       "<!-- 3 -->\n",
       "<g id=\"node5\" class=\"node\">\n",
       "<title>3</title>\n",
       "<ellipse fill=\"none\" stroke=\"black\" cx=\"55\" cy=\"-149\" rx=\"27\" ry=\"18\"/>\n",
       "<text text-anchor=\"middle\" x=\"55\" y=\"-145.3\" font-family=\"Times,serif\" font-size=\"14.00\">c</text>\n",
       "</g>\n",
       "<!-- 3&#45;&gt;2 -->\n",
       "<g id=\"edge3\" class=\"edge\">\n",
       "<title>3&#45;&gt;2</title>\n",
       "<path fill=\"none\" stroke=\"black\" stroke-dasharray=\"1,5\" d=\"M48.36,-131.41C45.09,-123.22 41.06,-113.14 37.38,-103.95\"/>\n",
       "<polygon fill=\"black\" stroke=\"black\" points=\"40.55,-102.45 33.59,-94.47 34.05,-105.05 40.55,-102.45\"/>\n",
       "</g>\n",
       "<!-- 4&#45;&gt;2 -->\n",
       "<g id=\"edge5\" class=\"edge\">\n",
       "<title>4&#45;&gt;2</title>\n",
       "<path fill=\"none\" stroke=\"black\" stroke-dasharray=\"1,5\" d=\"M23.75,-202.89C21.95,-192.54 19.91,-179.06 19,-167 17.8,-151.04 17.8,-146.96 19,-131 19.64,-122.52 20.84,-113.34 22.12,-105.04\"/>\n",
       "<polygon fill=\"black\" stroke=\"black\" points=\"25.58,-105.55 23.75,-95.11 18.68,-104.41 25.58,-105.55\"/>\n",
       "</g>\n",
       "<!-- 4&#45;&gt;3 -->\n",
       "<g id=\"edge4\" class=\"edge\">\n",
       "<title>4&#45;&gt;3</title>\n",
       "<path fill=\"none\" stroke=\"black\" d=\"M33.64,-203.41C36.91,-195.22 40.94,-185.14 44.62,-175.95\"/>\n",
       "<polygon fill=\"black\" stroke=\"black\" points=\"47.95,-177.05 48.41,-166.47 41.45,-174.45 47.95,-177.05\"/>\n",
       "</g>\n",
       "</g>\n",
       "</svg>\n"
      ],
      "text/plain": [
       "<graphviz.files.Source at 0x7f1b041c3f10>"
      ]
     },
     "execution_count": 6,
     "metadata": {},
     "output_type": "execute_result"
    }
   ],
   "source": [
    "graphviz.Source(formula.to_dot(vars))"
   ]
  },
  {
   "cell_type": "markdown",
   "metadata": {
    "cell_id": "00012-14e1fa98-e712-478d-b9a6-19e52aefe0c3",
    "deepnote_app_coordinates": {
     "h": 5,
     "w": 12,
     "x": 0,
     "y": 72
    },
    "deepnote_cell_height": 74.796875,
    "deepnote_cell_type": "markdown",
    "tags": []
   },
   "source": [
    "We can also convert the BDD back to a Boolean expression. However, we are not doing any special minification of the formula here, so the result will be probably larger than the original formula:"
   ]
  },
  {
   "cell_type": "code",
   "execution_count": 8,
   "metadata": {
    "cell_id": "00013-18879db0-9e86-44a6-b0a7-b43416ae95a6",
    "deepnote_app_coordinates": {
     "h": 5,
     "w": 12,
     "x": 0,
     "y": 78
    },
    "deepnote_cell_height": 111.6875,
    "deepnote_cell_type": "code",
    "deepnote_to_be_reexecuted": false,
    "execution_millis": 123,
    "execution_start": 1647976187266,
    "source_hash": "a369336b",
    "tags": []
   },
   "outputs": [
    {
     "data": {
      "text/plain": [
       "(x_0 & ((x_1 & (!x_2 & !x_3)) | (!x_1 & !x_3)))"
      ]
     },
     "execution_count": 8,
     "metadata": {},
     "output_type": "execute_result"
    }
   ],
   "source": [
    "formula.to_boolean_expression()"
   ]
  },
  {
   "cell_type": "markdown",
   "metadata": {
    "cell_id": "00014-ee26678c-1724-44d8-9f16-479aa0bafabd",
    "deepnote_app_coordinates": {
     "h": 5,
     "w": 12,
     "x": 0,
     "y": 84
    },
    "deepnote_cell_height": 52.390625,
    "deepnote_cell_type": "markdown",
    "tags": []
   },
   "source": [
    "Here, the variable names are again missing, but we can again easily fix it by providing the original variable set:"
   ]
  },
  {
   "cell_type": "code",
   "execution_count": 9,
   "metadata": {
    "cell_id": "00015-8efb1249-2f9c-41d6-8978-349041072d88",
    "deepnote_app_coordinates": {
     "h": 5,
     "w": 12,
     "x": 0,
     "y": 90
    },
    "deepnote_cell_height": 111.6875,
    "deepnote_cell_type": "code",
    "deepnote_to_be_reexecuted": false,
    "execution_millis": 123,
    "execution_start": 1647976187267,
    "source_hash": "31c25269",
    "tags": []
   },
   "outputs": [
    {
     "data": {
      "text/plain": [
       "(a & ((b & (!c & !d)) | (!b & !d)))"
      ]
     },
     "execution_count": 9,
     "metadata": {},
     "output_type": "execute_result"
    }
   ],
   "source": [
    "formula.to_boolean_expression(vars)"
   ]
  },
  {
   "cell_type": "markdown",
   "metadata": {
    "cell_id": "00016-6e4c4f7c-cd0b-4dc0-b6a4-d3fbd4b9a2d7",
    "deepnote_app_coordinates": {
     "h": 5,
     "w": 12,
     "x": 0,
     "y": 96
    },
    "deepnote_cell_height": 74.796875,
    "deepnote_cell_type": "markdown",
    "tags": []
   },
   "source": [
    "To actually manipulate the BDDs, we can use normal logical operators, as well as projection and selection. But note that Python automatically translates methods `and` and `or` to infix notation. Unfortunately, the rest of the logical operations do not support this notation."
   ]
  },
  {
   "cell_type": "code",
   "execution_count": 10,
   "metadata": {
    "cell_id": "00017-25f4af71-30db-432d-ba30-9573d9490f35",
    "deepnote_app_coordinates": {
     "h": 5,
     "w": 12,
     "x": 0,
     "y": 102
    },
    "deepnote_cell_height": 747.65625,
    "deepnote_cell_type": "code",
    "deepnote_output_heights": [
     380.65625
    ],
    "deepnote_to_be_reexecuted": false,
    "execution_millis": 122,
    "execution_start": 1647976187268,
    "source_hash": "478dd516",
    "tags": []
   },
   "outputs": [
    {
     "data": {
      "image/svg+xml": [
       "<?xml version=\"1.0\" encoding=\"UTF-8\" standalone=\"no\"?>\n",
       "<!DOCTYPE svg PUBLIC \"-//W3C//DTD SVG 1.1//EN\"\n",
       " \"http://www.w3.org/Graphics/SVG/1.1/DTD/svg11.dtd\">\n",
       "<!-- Generated by graphviz version 2.42.3 (20191010.1750)\n",
       " -->\n",
       "<!-- Title: G Pages: 1 -->\n",
       "<svg width=\"90pt\" height=\"284pt\"\n",
       " viewBox=\"0.00 0.00 90.00 284.00\" xmlns=\"http://www.w3.org/2000/svg\" xmlns:xlink=\"http://www.w3.org/1999/xlink\">\n",
       "<g id=\"graph0\" class=\"graph\" transform=\"scale(1 1) rotate(0) translate(4 280)\">\n",
       "<title>G</title>\n",
       "<polygon fill=\"white\" stroke=\"transparent\" points=\"-4,4 -4,-280 86,-280 86,4 -4,4\"/>\n",
       "<!-- init__ -->\n",
       "<!-- 4 -->\n",
       "<g id=\"node2\" class=\"node\">\n",
       "<title>4</title>\n",
       "<ellipse fill=\"none\" stroke=\"black\" cx=\"27\" cy=\"-221\" rx=\"27\" ry=\"18\"/>\n",
       "<text text-anchor=\"middle\" x=\"27\" y=\"-217.3\" font-family=\"Times,serif\" font-size=\"14.00\">b</text>\n",
       "</g>\n",
       "<!-- init__&#45;&gt;4 -->\n",
       "<g id=\"edge1\" class=\"edge\">\n",
       "<title>init__&#45;&gt;4</title>\n",
       "<path fill=\"none\" stroke=\"black\" d=\"M27,-274.85C27,-273.37 27,-261.32 27,-249.1\"/>\n",
       "<polygon fill=\"black\" stroke=\"black\" points=\"30.5,-249.02 27,-239.02 23.5,-249.02 30.5,-249.02\"/>\n",
       "</g>\n",
       "<!-- 2 -->\n",
       "<g id=\"node4\" class=\"node\">\n",
       "<title>2</title>\n",
       "<ellipse fill=\"none\" stroke=\"black\" cx=\"27\" cy=\"-77\" rx=\"27\" ry=\"18\"/>\n",
       "<text text-anchor=\"middle\" x=\"27\" y=\"-73.3\" font-family=\"Times,serif\" font-size=\"14.00\">d</text>\n",
       "</g>\n",
       "<!-- 4&#45;&gt;2 -->\n",
       "<g id=\"edge5\" class=\"edge\">\n",
       "<title>4&#45;&gt;2</title>\n",
       "<path fill=\"none\" stroke=\"black\" stroke-dasharray=\"1,5\" d=\"M23.75,-202.89C21.95,-192.54 19.91,-179.06 19,-167 17.8,-151.04 17.8,-146.96 19,-131 19.64,-122.52 20.84,-113.34 22.12,-105.04\"/>\n",
       "<polygon fill=\"black\" stroke=\"black\" points=\"25.58,-105.55 23.75,-95.11 18.68,-104.41 25.58,-105.55\"/>\n",
       "</g>\n",
       "<!-- 3 -->\n",
       "<g id=\"node5\" class=\"node\">\n",
       "<title>3</title>\n",
       "<ellipse fill=\"none\" stroke=\"black\" cx=\"55\" cy=\"-149\" rx=\"27\" ry=\"18\"/>\n",
       "<text text-anchor=\"middle\" x=\"55\" y=\"-145.3\" font-family=\"Times,serif\" font-size=\"14.00\">c</text>\n",
       "</g>\n",
       "<!-- 4&#45;&gt;3 -->\n",
       "<g id=\"edge4\" class=\"edge\">\n",
       "<title>4&#45;&gt;3</title>\n",
       "<path fill=\"none\" stroke=\"black\" d=\"M33.64,-203.41C36.91,-195.22 40.94,-185.14 44.62,-175.95\"/>\n",
       "<polygon fill=\"black\" stroke=\"black\" points=\"47.95,-177.05 48.41,-166.47 41.45,-174.45 47.95,-177.05\"/>\n",
       "</g>\n",
       "<!-- 1 -->\n",
       "<g id=\"node3\" class=\"node\">\n",
       "<title>1</title>\n",
       "<polygon fill=\"lightgrey\" stroke=\"black\" points=\"40,-23 14,-23 14,0 40,0 40,-23\"/>\n",
       "<text text-anchor=\"middle\" x=\"27\" y=\"-7.8\" font-family=\"Times,serif\" font-size=\"14.00\">1</text>\n",
       "</g>\n",
       "<!-- 2&#45;&gt;1 -->\n",
       "<g id=\"edge2\" class=\"edge\">\n",
       "<title>2&#45;&gt;1</title>\n",
       "<path fill=\"none\" stroke=\"black\" stroke-dasharray=\"1,5\" d=\"M27,-58.98C27,-51.12 27,-41.7 27,-33.4\"/>\n",
       "<polygon fill=\"black\" stroke=\"black\" points=\"30.5,-33.37 27,-23.37 23.5,-33.37 30.5,-33.37\"/>\n",
       "</g>\n",
       "<!-- 3&#45;&gt;2 -->\n",
       "<g id=\"edge3\" class=\"edge\">\n",
       "<title>3&#45;&gt;2</title>\n",
       "<path fill=\"none\" stroke=\"black\" stroke-dasharray=\"1,5\" d=\"M48.36,-131.41C45.09,-123.22 41.06,-113.14 37.38,-103.95\"/>\n",
       "<polygon fill=\"black\" stroke=\"black\" points=\"40.55,-102.45 33.59,-94.47 34.05,-105.05 40.55,-102.45\"/>\n",
       "</g>\n",
       "</g>\n",
       "</svg>\n"
      ],
      "text/plain": [
       "<graphviz.files.Source at 0x7f1b041c3790>"
      ]
     },
     "execution_count": 10,
     "metadata": {},
     "output_type": "execute_result"
    }
   ],
   "source": [
    "# Basic logical operators:\n",
    "\n",
    "formula and conjunction\n",
    "formula or conjunction\n",
    "formula.xor(conjunction)\n",
    "formula.imp(conjunction)\n",
    "formula.iff(conjunction)\n",
    "formula.and_not(conjunction)\n",
    "\n",
    "# Projection, either using one variable, or a set of variables.\n",
    "# Here, we have to use variable references instead of names though, \n",
    "# since the BDD object has no idea what the actual names of the variables are.\n",
    "formula.project([v_a, v_c])\n",
    "\n",
    "# Projection \"removes\" the influence of a particular variable: F = F[a/0] | F[a/1]\n",
    "graphviz.Source(formula.var_project(v_a).to_dot(vars))"
   ]
  },
  {
   "cell_type": "markdown",
   "metadata": {},
   "source": [
    "Similarly, we can use selection to actually fix a variable to a specific value. Here, we have to also include the Boolean value to which we are fixing. The argument is therefore a dictionary whose keys are BDD variable references."
   ]
  },
  {
   "cell_type": "code",
   "execution_count": 11,
   "metadata": {
    "cell_id": "00018-215df1c3-7c75-4ba3-a157-a2186d3c0e1a",
    "deepnote_app_coordinates": {
     "h": 5,
     "w": 12,
     "x": 0,
     "y": 108
    },
    "deepnote_cell_height": 531.65625,
    "deepnote_cell_type": "code",
    "deepnote_output_heights": [
     380.65625
    ],
    "deepnote_to_be_reexecuted": false,
    "execution_millis": 89,
    "execution_start": 1647976187301,
    "source_hash": "d73965a1",
    "tags": []
   },
   "outputs": [
    {
     "data": {
      "image/svg+xml": [
       "<?xml version=\"1.0\" encoding=\"UTF-8\" standalone=\"no\"?>\n",
       "<!DOCTYPE svg PUBLIC \"-//W3C//DTD SVG 1.1//EN\"\n",
       " \"http://www.w3.org/Graphics/SVG/1.1/DTD/svg11.dtd\">\n",
       "<!-- Generated by graphviz version 2.42.3 (20191010.1750)\n",
       " -->\n",
       "<!-- Title: G Pages: 1 -->\n",
       "<svg width=\"62pt\" height=\"284pt\"\n",
       " viewBox=\"0.00 0.00 62.00 284.00\" xmlns=\"http://www.w3.org/2000/svg\" xmlns:xlink=\"http://www.w3.org/1999/xlink\">\n",
       "<g id=\"graph0\" class=\"graph\" transform=\"scale(1 1) rotate(0) translate(4 280)\">\n",
       "<title>G</title>\n",
       "<polygon fill=\"white\" stroke=\"transparent\" points=\"-4,4 -4,-280 58,-280 58,4 -4,4\"/>\n",
       "<!-- init__ -->\n",
       "<!-- 4 -->\n",
       "<g id=\"node2\" class=\"node\">\n",
       "<title>4</title>\n",
       "<ellipse fill=\"none\" stroke=\"black\" cx=\"27\" cy=\"-221\" rx=\"27\" ry=\"18\"/>\n",
       "<text text-anchor=\"middle\" x=\"27\" y=\"-217.3\" font-family=\"Times,serif\" font-size=\"14.00\">a</text>\n",
       "</g>\n",
       "<!-- init__&#45;&gt;4 -->\n",
       "<g id=\"edge1\" class=\"edge\">\n",
       "<title>init__&#45;&gt;4</title>\n",
       "<path fill=\"none\" stroke=\"black\" d=\"M27,-274.85C27,-273.37 27,-261.32 27,-249.1\"/>\n",
       "<polygon fill=\"black\" stroke=\"black\" points=\"30.5,-249.02 27,-239.02 23.5,-249.02 30.5,-249.02\"/>\n",
       "</g>\n",
       "<!-- 3 -->\n",
       "<g id=\"node5\" class=\"node\">\n",
       "<title>3</title>\n",
       "<ellipse fill=\"none\" stroke=\"black\" cx=\"27\" cy=\"-149\" rx=\"27\" ry=\"18\"/>\n",
       "<text text-anchor=\"middle\" x=\"27\" y=\"-145.3\" font-family=\"Times,serif\" font-size=\"14.00\">c</text>\n",
       "</g>\n",
       "<!-- 4&#45;&gt;3 -->\n",
       "<g id=\"edge4\" class=\"edge\">\n",
       "<title>4&#45;&gt;3</title>\n",
       "<path fill=\"none\" stroke=\"black\" d=\"M27,-202.7C27,-194.98 27,-185.71 27,-177.11\"/>\n",
       "<polygon fill=\"black\" stroke=\"black\" points=\"30.5,-177.1 27,-167.1 23.5,-177.1 30.5,-177.1\"/>\n",
       "</g>\n",
       "<!-- 1 -->\n",
       "<g id=\"node3\" class=\"node\">\n",
       "<title>1</title>\n",
       "<polygon fill=\"lightgrey\" stroke=\"black\" points=\"40,-23 14,-23 14,0 40,0 40,-23\"/>\n",
       "<text text-anchor=\"middle\" x=\"27\" y=\"-7.8\" font-family=\"Times,serif\" font-size=\"14.00\">1</text>\n",
       "</g>\n",
       "<!-- 2 -->\n",
       "<g id=\"node4\" class=\"node\">\n",
       "<title>2</title>\n",
       "<ellipse fill=\"none\" stroke=\"black\" cx=\"27\" cy=\"-77\" rx=\"27\" ry=\"18\"/>\n",
       "<text text-anchor=\"middle\" x=\"27\" y=\"-73.3\" font-family=\"Times,serif\" font-size=\"14.00\">d</text>\n",
       "</g>\n",
       "<!-- 2&#45;&gt;1 -->\n",
       "<g id=\"edge2\" class=\"edge\">\n",
       "<title>2&#45;&gt;1</title>\n",
       "<path fill=\"none\" stroke=\"black\" stroke-dasharray=\"1,5\" d=\"M27,-58.98C27,-51.12 27,-41.7 27,-33.4\"/>\n",
       "<polygon fill=\"black\" stroke=\"black\" points=\"30.5,-33.37 27,-23.37 23.5,-33.37 30.5,-33.37\"/>\n",
       "</g>\n",
       "<!-- 3&#45;&gt;2 -->\n",
       "<g id=\"edge3\" class=\"edge\">\n",
       "<title>3&#45;&gt;2</title>\n",
       "<path fill=\"none\" stroke=\"black\" stroke-dasharray=\"1,5\" d=\"M27,-130.7C27,-122.98 27,-113.71 27,-105.11\"/>\n",
       "<polygon fill=\"black\" stroke=\"black\" points=\"30.5,-105.1 27,-95.1 23.5,-105.1 30.5,-105.1\"/>\n",
       "</g>\n",
       "</g>\n",
       "</svg>\n"
      ],
      "text/plain": [
       "<graphviz.files.Source at 0x7f1b041f38b0>"
      ]
     },
     "execution_count": 11,
     "metadata": {},
     "output_type": "execute_result"
    }
   ],
   "source": [
    "graphviz.Source(formula.select({ v_c: False }).to_dot(vars))"
   ]
  },
  {
   "cell_type": "markdown",
   "metadata": {
    "cell_id": "00019-2160c2ce-e7ef-4bf9-b8d2-493bf62f0130",
    "deepnote_app_coordinates": {
     "h": 5,
     "w": 12,
     "x": 0,
     "y": 114
    },
    "deepnote_cell_height": 52.390625,
    "deepnote_cell_type": "markdown",
    "tags": []
   },
   "source": [
    "Finally, to transfer and save BDDs, you can use a simple string format that encodes the directed graph:"
   ]
  },
  {
   "cell_type": "code",
   "execution_count": 12,
   "metadata": {
    "cell_id": "00020-1b064503-facd-4a62-a805-bd45847f9e9f",
    "deepnote_app_coordinates": {
     "h": 5,
     "w": 12,
     "x": 0,
     "y": 120
    },
    "deepnote_cell_height": 154.1875,
    "deepnote_cell_type": "code",
    "deepnote_output_heights": [
     21.1875
    ],
    "deepnote_to_be_reexecuted": false,
    "execution_millis": 37,
    "execution_start": 1647976187354,
    "source_hash": "2be41127",
    "tags": []
   },
   "outputs": [
    {
     "data": {
      "text/plain": [
       "'|5,0,0|5,1,1|3,1,0|2,2,0|1,2,3|0,0,4|'"
      ]
     },
     "execution_count": 12,
     "metadata": {},
     "output_type": "execute_result"
    }
   ],
   "source": [
    "assert Bdd.from_raw_string(formula.to_raw_string()).to_raw_string() == formula.to_raw_string()\n",
    "\n",
    "formula.to_raw_string()"
   ]
  },
  {
   "cell_type": "markdown",
   "metadata": {
    "cell_id": "00021-1b4d8939-a1a9-40bb-901c-71eed5261e3d",
    "deepnote_app_coordinates": {
     "h": 5,
     "w": 12,
     "x": 0,
     "y": 126
    },
    "deepnote_cell_height": 111.1875,
    "deepnote_cell_type": "markdown",
    "tags": []
   },
   "source": [
    "Now you've covered most of the BDD functionality available in AEON. For more details, you can explore the [tutorial](https://docs.rs/biodivine-lib-bdd/latest/biodivine_lib_bdd/tutorial/index.html) which describes the original Rust implementation (but has some extra details on certain topics). The rest of the documentation can be also helpful to get deeper insight into how the library works. \n",
    "\n",
    "Alternatively, you can also explore the documentation in the source code of these Python bindings [here](https://biodivine.fi.muni.cz/docs/aeon-py/v0.1.0/), where you'll find some notes on how are these Rust functions translated to Python."
   ]
  }
 ],
 "metadata": {
  "deepnote": {
   "is_reactive": false
  },
  "deepnote_app_layout": "article",
  "deepnote_execution_queue": [],
  "deepnote_notebook_id": "25553fc9-b6fe-495a-b9e6-c7b7ed242600",
  "kernelspec": {
   "display_name": "Python 3",
   "language": "python",
   "name": "python3"
  },
  "language_info": {
   "codemirror_mode": {
    "name": "ipython",
    "version": 3
   },
   "file_extension": ".py",
   "mimetype": "text/x-python",
   "name": "python",
   "nbconvert_exporter": "python",
   "pygments_lexer": "ipython3",
   "version": "3.9.1"
  }
 },
 "nbformat": 4,
 "nbformat_minor": 2
}
