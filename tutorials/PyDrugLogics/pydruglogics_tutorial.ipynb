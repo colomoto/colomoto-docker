{
 "cells": [
  {
   "cell_type": "markdown",
   "id": "3fa24d10f57ccac5",
   "metadata": {},
   "source": [
    "# Tutorial for PyDrugLogics\n"
   ]
  },
  {
   "cell_type": "markdown",
   "id": "6a468c93-2d56-4519-830b-87a8e561dee5",
   "metadata": {},
   "source": [
    "This tutorial demonstrates the use of PyDruglogics for optimizing of Boolean Models and predict drug synergy effects.\n",
    "The PyDruglogics pipeline implementation on based on: [Å. Flobak, J. Zobolas (2023): Fine tuning a logical model of cancer cells to predict drug synergies: combining manual curation and automated parameterization](https://www.frontiersin.org/journals/systems-biology/articles/10.3389/fsysb.2023.1252961/full).\n",
    "\n",
    "More information about the package on [GitHub](https://github.com/druglogics/pydruglogics).\n",
    "\n",
    "### Core Features\n",
    "- Construct Boolean model from `.sif` file\n",
    "- Load Boolean model from `.bnet` file\n",
    "- Optimize Boolean model\n",
    "- Generate perturbed models\n",
    "- Evaluate drug synergies\n"
   ]
  },
  {
   "cell_type": "markdown",
   "id": "87847983-f04e-4525-8060-49906ad7fdfa",
   "metadata": {},
   "source": [
    "## Initialization, loading files"
   ]
  },
  {
   "cell_type": "markdown",
   "id": "9c4cc708-e284-4aa9-8080-d3f594391f4e",
   "metadata": {},
   "source": [
    "The parameters and the initialization of the pipeline are summarized in this section. These are the neccesary components for constructing, training, and applying predictive models effectively."
   ]
  },
  {
   "cell_type": "code",
   "execution_count": 1,
   "id": "034f3848-b938-4907-a62c-9e9fb3948b12",
   "metadata": {},
   "outputs": [
    {
     "data": {
      "text/html": [
       "<script type=\"text/javascript\" id=\"colomoto-setup-5572769\" class=\"to-be-removed\">\n",
       "        if (typeof Jupyter != 'undefined') {\n",
       "            \n",
       "function detect_import(cell, module) {\n",
       "    var code = cell.get_text();\n",
       "    code = code.replace(/\\\\\\n/g, \"\");\n",
       "    var lines = code.split(\"\\n\");\n",
       "    var r_simple = new RegExp(\"^(\"+module+\")$\");\n",
       "    var r_alias = new RegExp(\"^\"+module+\"\\\\s+as\\\\s+(\\\\w+)$\");\n",
       "    for (var i = 0; i < lines.length; ++i) {\n",
       "        if (/^import\\s/.test(lines[i])) {\n",
       "            code = lines[i].substr(7);\n",
       "            var parts = code.split(\",\")\n",
       "            for (var j = 0; j < parts.length; ++j) {\n",
       "                code = parts[j].trim();\n",
       "                var m = code.match(r_simple);\n",
       "                if (!m) {\n",
       "                    m = code.match(r_alias);\n",
       "                }\n",
       "                if (m) {\n",
       "                    return m[1];\n",
       "                }\n",
       "            }\n",
       "        }\n",
       "    }\n",
       "    return module;\n",
       "}\n",
       "\n",
       "function colomoto_replace_call(cell, orig, dest, args, comment=false) {\n",
       "    var call_regexp = new RegExp(\"\\\\.\"+orig.replace(\".\",\"\\\\.\")+\"\\\\(\");\n",
       "    var call_replacer = new RegExp(\"\\\\.\"+orig.replace(\".\",\"\\\\.\")\n",
       "                    + \"\\\\(\\\\s*([^\\\\)]*)?\\\\)\");\n",
       "    var code = cell.get_text();\n",
       "    var lines = code.split(\"\\n\");\n",
       "    if (args) {\n",
       "        var strargs = \", \"+args.join(\", \");\n",
       "    } else {\n",
       "        var strargs = \"\";\n",
       "    }\n",
       "    for (var i = 0; i < lines.length; ++i) {\n",
       "        if (call_regexp.test(lines[i])) {\n",
       "            var code = \"\"\n",
       "            if (comment) {\n",
       "                code += \"#\"+lines[i]+\"\\n\";\n",
       "            }\n",
       "            code += lines[i].replace(call_replacer, \".\"+dest+\"($1\"+strargs+\")\")\n",
       "            lines[i] = code;\n",
       "        }\n",
       "    }\n",
       "    cell.set_text(code)\n",
       "}\n",
       "\n",
       "function colomoto_upload(Jupyter, ssid, input, py_callback_name, orig, dest) {\n",
       "\n",
       "    function callback(out_data) {\n",
       "        var cell_element = $(\"#\"+ssid).parents('.cell');\n",
       "        var cell_idx = Jupyter.notebook.get_cell_elements().index(cell_element);\n",
       "        var cell = Jupyter.notebook.get_cell(cell_idx);\n",
       "\n",
       "        var filename = out_data.content.text;\n",
       "\n",
       "        var code = cell.get_text();\n",
       "        code = code.replace(new RegExp(\"\\\\b\" + orig.replace('.', '\\\\.')\n",
       "                    + \"\\\\(\\\\s*((\\\\w+)=[^\\\\)]*)?\\\\)\"),\n",
       "                dest+\"(\\\"\"+filename+\"\\\",$1)\");\n",
       "        code = code.replace('\",)', '\")')\n",
       "        cell.set_text(code);\n",
       "\n",
       "        Jupyter.notebook.select(cell_idx);\n",
       "        Jupyter.notebook.execute_cell_and_select_below();\n",
       "    }\n",
       "\n",
       "    if (! (window.File && window.FileReader && window.FileList && window.Blob)) {\n",
       "        alert(\"Interactive file upload is not supported by your browser.\");\n",
       "        return;\n",
       "    }\n",
       "\n",
       "    input.disabled = true;\n",
       "    input.style.cursor = \"wait\";\n",
       "    input.parentElement.style.cursor = \"wait\";\n",
       "\n",
       "    var f = input.files[0];\n",
       "    var reader = new FileReader();\n",
       "    reader.onload = (function(f) {\n",
       "        return function (e) {\n",
       "            var obj = {\n",
       "                content: e.target.result,\n",
       "                name: f.name\n",
       "            };\n",
       "\n",
       "            //var pycb = py_callback_name+\"(\"+JSON.stringify(obj)+\")\"\n",
       "            // hack/workaround:\n",
       "            // it seems that Jupyter does not like very long lines\n",
       "            // so we split the data in chunks\n",
       "            var chunk_length = 100;\n",
       "            var pycb = \"__colomoto_upload_name = \" + JSON.stringify(obj.name) + \"\\n\";\n",
       "            pycb += \"__colomoto_upload_content = \\\\\\n\";\n",
       "            for (var i = 0; i < obj.content.length; i += chunk_length) {\n",
       "                pycb += \"\\\"\" + obj.content.substr(i, chunk_length)+\"\\\"\\\\\\n\"\n",
       "            }\n",
       "            pycb += \"\\n\"\n",
       "            pycb += py_callback_name+\"({'name':__colomoto_upload_name, 'content': __colomoto_upload_content})\\n\";\n",
       "            pycb += \"del __colomoto_upload_name, __colomoto_upload_content\"\n",
       "\n",
       "            IPython.notebook.kernel.execute(pycb, {iopub: {output: callback}});\n",
       "        };\n",
       "    })(f);\n",
       "    reader.readAsDataURL(f);\n",
       "}\n",
       "\n",
       "function resolve_function(tool_api, funcname) {\n",
       "    if (tool_api.hasOwnProperty(funcname)) {\n",
       "        return tool_api[funcname];\n",
       "    } else {\n",
       "        return window[funcname];\n",
       "    }\n",
       "}\n",
       "\n",
       "function colomoto_extension(Jupyter, ssid, name, menu, toolbar, tool_api) {\n",
       "\n",
       "    function insert_snippet_code(snippet) {\n",
       "        var cell = Jupyter.notebook.get_selected_cell();\n",
       "        Jupyter.notebook.edit_mode();\n",
       "        cell.code_mirror.replaceSelection(snippet, 'around');\n",
       "        //cell.focus_editor();\n",
       "    }\n",
       "\n",
       "    /**\n",
       "        from https://github.com/moble/jupyter_boilerplate/blob/master/main.js\n",
       "    */\n",
       "    function callback_insert_snippet (evt) {\n",
       "        // this (or event.currentTarget, see below) always refers to the DOM\n",
       "        // element the listener was attached to - see\n",
       "        // http://stackoverflow.com/questions/12077859\n",
       "        insert_snippet_code($(evt.currentTarget).data('snippet-code'));\n",
       "    }\n",
       "    function build_menu_element (menu_item_spec, direction) {\n",
       "        // Create the menu item html element\n",
       "        var element = $('<li/>');\n",
       "\n",
       "        if (typeof menu_item_spec == 'string') {\n",
       "            if (menu_item_spec != '---') {\n",
       "                return element.html(menu_item_spec)\n",
       "                        .addClass('ui-state-disabled')\n",
       "                        .attr({\"style\": \"padding:2px .4em\"})\n",
       "                       ;\n",
       "            }\n",
       "            return element.addClass('divider');\n",
       "        }\n",
       "\n",
       "        var a = $('<a/>')\n",
       "            .attr('href', '#')\n",
       "            .html(menu_item_spec.name)\n",
       "            .appendTo(element);\n",
       "        if (menu_item_spec.hasOwnProperty('snippet')) {\n",
       "            var snippet = menu_item_spec.snippet;\n",
       "            if (typeof snippet == 'string' || snippet instanceof String) {\n",
       "                snippet = [snippet];\n",
       "            }\n",
       "            a.attr({\n",
       "                'title' : \"\", // Do not remove this, even though it's empty!\n",
       "                'data-snippet-code' : snippet.join('\\n'),\n",
       "            })\n",
       "            .on('click', callback_insert_snippet)\n",
       "            .addClass('snippet');\n",
       "        }\n",
       "        else if (menu_item_spec.hasOwnProperty('internal-link')) {\n",
       "            a.attr('href', menu_item_spec['internal-link']);\n",
       "        }\n",
       "        else if (menu_item_spec.hasOwnProperty('external-link')) {\n",
       "            a.empty();\n",
       "            a.attr('href', menu_item_spec['external-link']);\n",
       "            a.attr({\n",
       "                'target' : '_blank',\n",
       "                'title' : 'Opens in a new window',\n",
       "            });\n",
       "            $('<i class=\"fa fa-external-link menu-icon pull-right\"/>').appendTo(a);\n",
       "            $('<span/>').html(menu_item_spec.name).appendTo(a);\n",
       "        }\n",
       "\n",
       "        if (menu_item_spec.hasOwnProperty('sub-menu')) {\n",
       "            element\n",
       "                .addClass('dropdown-submenu')\n",
       "                .toggleClass('dropdown-submenu-left', direction === 'left');\n",
       "            var sub_element = $('<ul class=\"dropdown-menu\"/>')\n",
       "                .toggleClass('dropdown-menu-compact', menu_item_spec.overlay === true) // For space-saving menus\n",
       "                .appendTo(element);\n",
       "\n",
       "            var new_direction = (menu_item_spec['sub-menu-direction'] === 'left') ? 'left' : 'right';\n",
       "            for (var j=0; j<menu_item_spec['sub-menu'].length; ++j) {\n",
       "                var sub_menu_item_spec = build_menu_element(menu_item_spec['sub-menu'][j], new_direction);\n",
       "                if(sub_menu_item_spec !== null) {\n",
       "                    sub_menu_item_spec.appendTo(sub_element);\n",
       "                }\n",
       "            }\n",
       "        }\n",
       "\n",
       "        return element;\n",
       "    }\n",
       "\n",
       "    function menu_setup (menu_item_specs, sibling, insert_before_sibling) {\n",
       "        for (var i=0; i<menu_item_specs.length; ++i) {\n",
       "            var menu_item_spec;\n",
       "            if (insert_before_sibling) {\n",
       "                menu_item_spec = menu_item_specs[i];\n",
       "            } else {\n",
       "                menu_item_spec = menu_item_specs[menu_item_specs.length-1-i];\n",
       "            }\n",
       "            var direction = (menu_item_spec['menu-direction'] == 'left') ? 'left' : 'right';\n",
       "            var menu_element = build_menu_element(menu_item_spec, direction);\n",
       "            // We need special properties if this item is in the navbar\n",
       "            if ($(sibling).parent().is('ul.nav.navbar-nav')) {\n",
       "                menu_element\n",
       "                    .addClass('dropdown')\n",
       "                    .removeClass('dropdown-submenu dropdown-submenu-left');\n",
       "                menu_element.children('a')\n",
       "                    .addClass('dropdown-toggle')\n",
       "                    .attr({\n",
       "                        'id': name+'_menu',\n",
       "                        'data-toggle' : 'dropdown',\n",
       "                        'aria-expanded' : 'false'\n",
       "                    });\n",
       "            }\n",
       "\n",
       "            // Insert the menu element into DOM\n",
       "            menu_element[insert_before_sibling ? 'insertBefore': 'insertAfter'](sibling);\n",
       "        }\n",
       "    }\n",
       "    /** end from */\n",
       "\n",
       "\n",
       "    function self_cleanup() {\n",
       "        var cell_element = $(\"script[class='to-be-removed']\").parents('.cell');\n",
       "        var cell_idx = Jupyter.notebook.get_cell_elements().index(cell_element);\n",
       "        var cell = Jupyter.notebook.get_cell(cell_idx);\n",
       "        var to_remove = -1;\n",
       "        for (var i = 0; i < cell.output_area.outputs.length; ++i) {\n",
       "            var oa = cell.output_area.outputs[i];\n",
       "            if (oa.output_type == \"display_data\"\n",
       "                && typeof oa.data[\"text/html\"] != 'undefined'\n",
       "                && oa.data[\"text/html\"].indexOf(' class=\"to-be-removed\"') >= 0) {\n",
       "                to_remove = i;\n",
       "                break;\n",
       "            }\n",
       "        }\n",
       "        if (to_remove == -1) {\n",
       "            console.log(\"cannot find toberemoved\");\n",
       "        } else {\n",
       "            cell.output_area.outputs.splice(to_remove, 1);\n",
       "        }\n",
       "    }\n",
       "\n",
       "    function toolbar_setup(actions) {\n",
       "        var buttons = [];\n",
       "        for (var i = 0; i < actions.length; ++i) {\n",
       "            var setup = actions[i].setup;\n",
       "            if (typeof setup.handler == 'string') {\n",
       "                setup.handler = resolve_function(tool_api, setup.handler);\n",
       "            }\n",
       "            buttons.push(Jupyter.actions.register(actions[i].setup,\n",
       "                actions[i].name, name));\n",
       "        }\n",
       "        $(\"#\"+name+\"-toolbar\").remove();\n",
       "        Jupyter.toolbar.add_buttons_group(buttons, name+\"-toolbar\");\n",
       "    }\n",
       "\n",
       "    function replace_menu_snippets(menu_spec, orig, dest) {\n",
       "        if (menu_spec.hasOwnProperty(\"snippet\")) {\n",
       "            var snippet = menu_spec.snippet;\n",
       "            if (typeof snippet == \"string\" || snippet instanceof String) {\n",
       "                menu_spec[\"snippet\"] = snippet.replace(orig, dest);\n",
       "            } else {\n",
       "                for (var i = 0; i < snippet.length; ++i) {\n",
       "                    menu_spec[\"snippet\"][i] = snippet[i].replace(orig, dest);\n",
       "                }\n",
       "            }\n",
       "        }\n",
       "        if (menu_spec.hasOwnProperty(\"sub-menu\")) {\n",
       "            for (var i = 0; i < menu_spec[\"sub-menu\"].length; ++i) {\n",
       "                replace_menu_snippets(menu_spec[\"sub-menu\"][i], orig, dest);\n",
       "            }\n",
       "        }\n",
       "    }\n",
       "\n",
       "    function load_ipython_extension() {\n",
       "\n",
       "        var mycellelt = $(\"#\"+ssid).parents('.cell');\n",
       "        var myidx = Jupyter.notebook.get_cell_elements().index(mycellelt);\n",
       "        var import_cell = Jupyter.notebook.get_cell(myidx);\n",
       "\n",
       "        var alias = detect_import(import_cell, name);\n",
       "        tool_api.module_alias = alias;\n",
       "        if (alias && alias != name) {\n",
       "            var orig = new RegExp(\"\\\\b\"+name+\"\\\\b\", \"g\");\n",
       "            replace_menu_snippets(menu, orig, alias);\n",
       "        }\n",
       "\n",
       "        if (toolbar) {\n",
       "            toolbar_setup(toolbar);\n",
       "        }\n",
       "\n",
       "        $(\"#\"+name+\"_menu\").parent().remove();\n",
       "        if (menu) {\n",
       "            menu_setup([menu], $(\"#help_menu\").parent(), true);\n",
       "        }\n",
       "\n",
       "        if (tool_api.hasOwnProperty(\"post_install_callback\")) {\n",
       "            tool_api.post_install_callback();\n",
       "        }\n",
       "\n",
       "        setTimeout(self_cleanup, 5000);\n",
       "    };\n",
       "\n",
       "    load_ipython_extension();\n",
       "}\n",
       "\n",
       "function resolve_toolbar_handlers(tool_api, toolbar_spec) {\n",
       "    for (var i = 0; i < toolbar_spec.length; ++i) {\n",
       "        func = resolve_function(tool_api, toolbar_spec[i][\"setup\"][\"handler\"]);\n",
       "        toolbar_spec[i][\"setup\"][\"handler\"] = func;\n",
       "    }\n",
       "    return toolbar_spec\n",
       "}\n",
       "\n",
       "\n",
       "    var minibn_jsapi = {  };\n",
       "    colomoto_extension(Jupyter, \"colomoto-setup-5572769\", \"minibn\", null, null, minibn_jsapi);\n",
       "     }</script>"
      ],
      "text/plain": [
       "<IPython.core.display.HTML object>"
      ]
     },
     "metadata": {},
     "output_type": "display_data"
    }
   ],
   "source": [
    "import pydruglogics"
   ]
  },
  {
   "cell_type": "code",
   "execution_count": 2,
   "id": "0e18a2c6-f896-4fe4-b08d-64335963a2a1",
   "metadata": {},
   "outputs": [],
   "source": [
    "from pydruglogics.model.BooleanModel import BooleanModel\n",
    "from pydruglogics.model.InteractionModel import InteractionModel\n",
    "from pydruglogics.input.ModelOutputs import ModelOutputs\n",
    "from pydruglogics.input.TrainingData import TrainingData\n",
    "from pydruglogics.input.Perturbations import Perturbation"
   ]
  },
  {
   "cell_type": "markdown",
   "id": "0efb70d9-9122-4889-9796-c6a0418d593b",
   "metadata": {},
   "source": [
    "#### Model Outputs\n",
    "Defines the network nodes and their respective weights used to calculate a global output response for the Boolean Model. \\\n",
    "**Initialization:**\n",
    "1. **From a File**: Load target states from a file that specifies node-state pairs.\n",
    "2. **From a Dictionary**: Define directly using a dictionary where each key-value pair represents a node and its integer weight."
   ]
  },
  {
   "cell_type": "code",
   "execution_count": 3,
   "id": "8c7cf343-02b2-4ad7-80e8-14b5c995fc70",
   "metadata": {},
   "outputs": [
    {
     "name": "stdout",
     "output_type": "stream",
     "text": [
      "2024-12-05 23:41:39,560 - INFO - Model outputs are initialized from dictionary.\n"
     ]
    }
   ],
   "source": [
    "model_outputs_dict = {\n",
    "        \"RSK_f\": 1.0,\n",
    "        \"MYC\": 1.0,\n",
    "        \"TCF7_f\": 1.0,\n",
    "        \"CASP8\": -1.0,\n",
    "        \"CASP9\": -1.0,\n",
    "        \"FOXO_f\": -1.0\n",
    "    }\n",
    "model_outputs = ModelOutputs(input_dictionary=model_outputs_dict)"
   ]
  },
  {
   "cell_type": "code",
   "execution_count": 4,
   "id": "05540493-7aa3-4051-8614-3e12c7b8bc15",
   "metadata": {},
   "outputs": [
    {
     "name": "stdout",
     "output_type": "stream",
     "text": [
      "Model output: RSK_f, weight: 1.0\n",
      "Model output: MYC, weight: 1.0\n",
      "Model output: TCF7_f, weight: 1.0\n",
      "Model output: CASP8, weight: -1.0\n",
      "Model output: CASP9, weight: -1.0\n",
      "Model output: FOXO_f, weight: -1.0\n"
     ]
    }
   ],
   "source": [
    "model_outputs.print()"
   ]
  },
  {
   "cell_type": "markdown",
   "id": "d88d10e7-9190-4206-96cc-0cb127629a8d",
   "metadata": {},
   "source": [
    "#### Training Data\n",
    "Inclues condition-response pairs (observations) and a weight number used to calculate the weighted average fitness of the Boolean Models.\\\n",
    "**Initialization:**"
   ]
  },
  {
   "cell_type": "markdown",
   "id": "1c2cc120-2d32-4073-87bb-cdfcc427d334",
   "metadata": {},
   "source": [
    "1. **From a File**: Load target states from a structured file."
   ]
  },
  {
   "cell_type": "code",
   "execution_count": 5,
   "id": "2a78dc9a-8d0e-4dc6-8258-d4c7d8255c6d",
   "metadata": {},
   "outputs": [
    {
     "name": "stdout",
     "output_type": "stream",
     "text": [
      "2024-12-05 23:41:39,585 - INFO - Training data loaded from file: training.\n"
     ]
    }
   ],
   "source": [
    "training_data_file = 'training'\n",
    "training_data = TrainingData(input_file=training_data_file)"
   ]
  },
  {
   "cell_type": "markdown",
   "id": "841ee427-d93a-4d1a-8998-af2bedc8e5ac",
   "metadata": {},
   "source": [
    "2. **From a Dictionary**: Define directly using a dictionary."
   ]
  },
  {
   "cell_type": "code",
   "execution_count": 6,
   "id": "6bd8c296-a08f-42b8-8b58-d75fa6d85179",
   "metadata": {},
   "outputs": [],
   "source": [
    " observations = [([\"CASP3:0\", \"CASP8:0\",\"CASP9:0\",\"FOXO_f:0\",\"RSK_f:1\",\"CCND1:1\",\n",
    "                      \"MYC:1\",\"RAC_f:1\",\"JNK_f:0\",\"MAPK14:0\",\"AKT_f:1\",\"MMP_f:1\",\n",
    "                      \"PTEN:0\",\"ERK_f:1\",\"KRAS:1\",\"PIK3CA:1\",\"S6K_f:1\",\"GSK3_f:0\",\n",
    "                      \"TP53:0\",\"BAX:0\",\"BCL2:1\",\"CTNNB1:1\",\"TCF7_f:1\",\"NFKB_f:1\"], 1.0)]"
   ]
  },
  {
   "cell_type": "code",
   "execution_count": 7,
   "id": "6ccf4586-5946-4a1a-9d3f-7978b13b1fdb",
   "metadata": {},
   "outputs": [
    {
     "name": "stdout",
     "output_type": "stream",
     "text": [
      "2024-12-05 23:41:39,606 - INFO - Training data initialized from list.\n"
     ]
    }
   ],
   "source": [
    "training_data = TrainingData(observations=observations)"
   ]
  },
  {
   "cell_type": "code",
   "execution_count": 8,
   "id": "763da94b-803d-4967-a55f-bfa886d56a3e",
   "metadata": {},
   "outputs": [
    {
     "name": "stdout",
     "output_type": "stream",
     "text": [
      "Observation:\n",
      "Condition: -\n",
      "Response: CASP3:0, CASP8:0, CASP9:0, FOXO_f:0, RSK_f:1, CCND1:1, MYC:1, RAC_f:1, JNK_f:0, MAPK14:0, AKT_f:1, MMP_f:1, PTEN:0, ERK_f:1, KRAS:1, PIK3CA:1, S6K_f:1, GSK3_f:0, TP53:0, BAX:0, BCL2:1, CTNNB1:1, TCF7_f:1, NFKB_f:1\n",
      "Weight: 1.0\n",
      "\n"
     ]
    }
   ],
   "source": [
    "training_data.print()"
   ]
  },
  {
   "cell_type": "markdown",
   "id": "c1c0a36c-e7c2-45de-9281-95fe636655e4",
   "metadata": {},
   "source": [
    "#### Perturbations\n",
    "Defines the drugs and the perturbations applied to the Boolean Models, affecting the nodes in the network.\n",
    "\n",
    "Initialization **From Dictionary**:\n",
    "1. **Define** a `drug_data` **and** `perturbation_data`: Provide a list of drugs with their name, targets, and effect (Options:  `inhibits` (default) or `activates`). Specify a list of perturbations, where each entry is a drug combination.\n",
    "\n",
    "3. **Define only** `drug_data`: If no `perturbation_data` is given, perturbations will be generated automatically by creating all possible single-drug and two-drug combinations from the drug panel."
   ]
  },
  {
   "cell_type": "code",
   "execution_count": 9,
   "id": "e7c09258-4d82-45a6-b01f-c8d8f61a5cbd",
   "metadata": {},
   "outputs": [],
   "source": [
    " drug_data = [\n",
    "        ['PI', 'PIK3CA', 'inhibits'],\n",
    "        ['PD', 'MEK_f'],\n",
    "        ['CT','GSK3_f'],\n",
    "        ['BI', 'MAPK14'],\n",
    "        ['PK', 'CTNNB1'],\n",
    "        ['AK', 'AKT_f'],\n",
    "        ['5Z', 'MAP3K7']\n",
    "    ]"
   ]
  },
  {
   "cell_type": "markdown",
   "id": "839c4ddc-9c92-4bbd-9993-0174ade55c53",
   "metadata": {},
   "source": [
    "**Note**: The `perturbation_data` is **optional**. If only the `drug_data` is given, all perturbations are calculated."
   ]
  },
  {
   "cell_type": "code",
   "execution_count": 10,
   "id": "1c4e617c-3585-44d8-b607-369621b26b11",
   "metadata": {},
   "outputs": [],
   "source": [
    "perturbation_data = [\n",
    "        ['PI'],\n",
    "        ['PD'],\n",
    "        ['CT'],\n",
    "        ['BI'],\n",
    "        ['PK'],\n",
    "        ['AK'],\n",
    "        ['5Z'],\n",
    "        ['PI', 'PD'],\n",
    "        ['PI', 'CT'],\n",
    "        ['PI', 'BI'],\n",
    "        ['PI', 'PK'],\n",
    "        ['PI', 'AK'],\n",
    "        ['PI', '5Z'],\n",
    "        ['PD', 'CT'],\n",
    "        ['PD', 'BI'],\n",
    "        ['PD', 'PK'],\n",
    "        ['PD', 'AK'],\n",
    "        ['PD', '5Z'],\n",
    "        ['CT', 'BI'],\n",
    "        ['CT', 'PK'],\n",
    "        ['CT', 'AK'],\n",
    "        ['CT', '5Z'],\n",
    "        ['BI', 'PK'],\n",
    "        ['BI', 'AK'],\n",
    "        ['BI', '5Z'],\n",
    "        ['PK', 'AK'],\n",
    "        ['PK', '5Z'],\n",
    "        ['AK', '5Z']]"
   ]
  },
  {
   "cell_type": "code",
   "execution_count": 11,
   "id": "1a613933-db52-44f6-a2e3-7aad1894b635",
   "metadata": {},
   "outputs": [
    {
     "name": "stdout",
     "output_type": "stream",
     "text": [
      "2024-12-05 23:41:39,655 - INFO - Drug panel data initialized from list.\n",
      "2024-12-05 23:41:39,655 - INFO - Drug perturbations initialized.\n"
     ]
    }
   ],
   "source": [
    "perturbations = Perturbation(drug_data=drug_data, perturbation_data=perturbation_data)"
   ]
  },
  {
   "cell_type": "code",
   "execution_count": 12,
   "id": "fa1061c4-3cec-4298-891a-8a26cf9c632c",
   "metadata": {},
   "outputs": [
    {
     "name": "stdout",
     "output_type": "stream",
     "text": [
      "[PI (targets: PIK3CA)]\n",
      "[PD (targets: MEK_f)]\n",
      "[CT (targets: GSK3_f)]\n",
      "[BI (targets: MAPK14)]\n",
      "[PK (targets: CTNNB1)]\n",
      "[AK (targets: AKT_f)]\n",
      "[5Z (targets: MAP3K7)]\n",
      "[PI (targets: PIK3CA), PD (targets: MEK_f)]\n",
      "[PI (targets: PIK3CA), CT (targets: GSK3_f)]\n",
      "[PI (targets: PIK3CA), BI (targets: MAPK14)]\n",
      "[PI (targets: PIK3CA), PK (targets: CTNNB1)]\n",
      "[PI (targets: PIK3CA), AK (targets: AKT_f)]\n",
      "[PI (targets: PIK3CA), 5Z (targets: MAP3K7)]\n",
      "[PD (targets: MEK_f), CT (targets: GSK3_f)]\n",
      "[PD (targets: MEK_f), BI (targets: MAPK14)]\n",
      "[PD (targets: MEK_f), PK (targets: CTNNB1)]\n",
      "[PD (targets: MEK_f), AK (targets: AKT_f)]\n",
      "[PD (targets: MEK_f), 5Z (targets: MAP3K7)]\n",
      "[CT (targets: GSK3_f), BI (targets: MAPK14)]\n",
      "[CT (targets: GSK3_f), PK (targets: CTNNB1)]\n",
      "[CT (targets: GSK3_f), AK (targets: AKT_f)]\n",
      "[CT (targets: GSK3_f), 5Z (targets: MAP3K7)]\n",
      "[BI (targets: MAPK14), PK (targets: CTNNB1)]\n",
      "[BI (targets: MAPK14), AK (targets: AKT_f)]\n",
      "[BI (targets: MAPK14), 5Z (targets: MAP3K7)]\n",
      "[PK (targets: CTNNB1), AK (targets: AKT_f)]\n",
      "[PK (targets: CTNNB1), 5Z (targets: MAP3K7)]\n",
      "[AK (targets: AKT_f), 5Z (targets: MAP3K7)]\n"
     ]
    }
   ],
   "source": [
    "perturbations.print()"
   ]
  },
  {
   "cell_type": "markdown",
   "id": "b64a7782-fadc-40dd-8e07-ca472453ba1b",
   "metadata": {},
   "source": [
    "### Initialize Boolean Model\n",
    "A `BooleanModel` defines the network and logical rules for node interactions, used for generating predictions and simulations.\\\n",
    "There are **two ways** for the initialization:"
   ]
  },
  {
   "cell_type": "markdown",
   "id": "d5413a26-8fd6-4d64-a21b-1541e3ff7247",
   "metadata": {},
   "source": [
    "#### Initialize Boolean Model from `.sif` file"
   ]
  },
  {
   "cell_type": "markdown",
   "id": "fbd69b30-b1d3-4fbe-a5a4-476db123f392",
   "metadata": {},
   "source": [
    "##### Creating an `InteractionModel`, that can be initialized:\n",
    "  - `interaction_file` (required): The path to the `.sif` file.\n",
    "    \n",
    "  - `model_name`: name of the model, by default the `.sif` file name will be set.\n",
    "\n",
    "  - `remove_self_regulated_interactions`: Remove self regulated interactions. The default is `False`.\n",
    "\n",
    "  - `remove_inputs`: Trim inputs from the model. The deafult is `False`.\n",
    "\n",
    "  - `remove_outputs`: Trim ouputs from the model. The default is `False`.\n",
    "##### Creating a `BooleanModel`, that can be initialized:\n",
    "  - `model` (required): Interaction Model\n",
    "\n",
    "  - `model_name`: The name of the model, by default the `.sif` file name will be set.\n",
    "\n",
    "  - `mutation_type`: There are 3 options: `topology`, `mixed`, `balanced`. The default is `balanced`.\n",
    "\n",
    "  - `attractor_tool`: There are 2 options: `mpbn` or `pyboolnet` The default is `mpbn`. More infotmation [here](https://mpbn.readthedocs.io/) about MPBN (Most Permissive Boolean Networks) and more information [here](https://pyboolnet.readthedocs.io/en/master/) about PyBoolNet.\n",
    "\n",
    "  - `attractor_type`: There are 2 options: `stable_states` or `trapspaces`. The default is `stable_states`.\n"
   ]
  },
  {
   "cell_type": "code",
   "execution_count": 13,
   "id": "2276328d-465e-40d3-a006-50a04a24a8dc",
   "metadata": {},
   "outputs": [
    {
     "name": "stdout",
     "output_type": "stream",
     "text": [
      "2024-12-05 23:41:39,678 - INFO - Interactions loaded successfully\n",
      "Target: Antisurvival, activating regulators: FOXO_f, CASP3\n",
      "Target: CASP3, activating regulators: CASP8, CASP9\n",
      "Target: FOXO_f, inhibitory regulators: NLK, AKT_f\n",
      "Target: Prosurvival, activating regulators: CCND1, MYC\n",
      "Target: CCND1, activating regulators: TCF7_f, RSK_f\n",
      "Target: MYC, activating regulators: TCF7_f\n",
      "Target: RAC_f, activating regulators: mTORC2_c, DVL_f\n",
      "Target: mTORC2_c, activating regulators: TSC_f, inhibitory regulators: S6K_f\n",
      "Target: DVL_f, activating regulators: FZD_f\n",
      "Target: MAP3K4, activating regulators: RAC_f\n",
      "Target: MAP3K11, activating regulators: RAC_f\n",
      "Target: MAP2K4, activating regulators: MAP3K4, MAP3K11, GRAP2, MAP3K7\n",
      "Target: MAP3K7, activating regulators: TAB_f\n",
      "Target: GRAP2, inhibitory regulators: MAPK14\n",
      "Target: MAP2K7, activating regulators: GRAP2, MAP3K7\n",
      "Target: JNK_f, activating regulators: MAP2K7, MAP2K4, inhibitory regulators: DUSP1\n",
      "Target: DUSP1, activating regulators: MSK_f, MAPK14\n",
      "Target: MAPK14, activating regulators: MAP2K3, MAP2K4, inhibitory regulators: DUSP1\n",
      "Target: MAP2K3, activating regulators: MAP3K5, MAP3K7\n",
      "Target: MAP3K5, inhibitory regulators: AKT_f\n",
      "Target: AKT_f, activating regulators: mTORC2_c, PDPK1\n",
      "Target: TAB_f, inhibitory regulators: MAPK14\n",
      "Target: MSK_f, activating regulators: ERK_f, MAPK14\n",
      "Target: RTPK_f, activating regulators: MMP_f, RTPK_g, inhibitory regulators: MEK_f, MAPK14\n",
      "Target: RTPK_g, activating regulators: FOXO_f\n",
      "Target: MEK_f, activating regulators: RAF_f, MAP3K8, inhibitory regulators: ERK_f\n",
      "Target: SHC1, activating regulators: RTPK_f, inhibitory regulators: PTEN\n",
      "Target: PTEN, activating regulators: PTEN_g, inhibitory regulators: GSK3_f\n",
      "Target: GRB2, activating regulators: SHC1\n",
      "Target: SOS1, activating regulators: GRB2, inhibitory regulators: ERK_f\n",
      "Target: ERK_f, activating regulators: MEK_f, inhibitory regulators: DUSP6\n",
      "Target: KRAS, activating regulators: PTPN11, SOS1\n",
      "Target: PTPN11, activating regulators: GAB_f\n",
      "Target: RAF_f, activating regulators: KRAS, inhibitory regulators: RHEB, ERK_f, AKT_f\n",
      "Target: RHEB, inhibitory regulators: TSC_f\n",
      "Target: MAP3K8, activating regulators: IKBKB\n",
      "Target: DUSP6, activating regulators: ERK_f, mTORC1_c\n",
      "Target: mTORC1_c, activating regulators: RHEB, RSK_f, inhibitory regulators: AKT1S1\n",
      "Target: GAB_f, activating regulators: GRB2, inhibitory regulators: ERK_f\n",
      "Target: RSK_f, activating regulators: ERK_f, PDPK1\n",
      "Target: PDPK1, activating regulators: PIK3CA, inhibitory regulators: PTEN\n",
      "Target: PIK3CA, activating regulators: KRAS, GAB_f, IRS1\n",
      "Target: IRS1, inhibitory regulators: IKBKB, S6K_f, ERK_f\n",
      "Target: S6K_f, activating regulators: PDPK1, mTORC1_c\n",
      "Target: IKBKB, activating regulators: MAP3K7, inhibitory regulators: TP53\n",
      "Target: PTEN_g, activating regulators: EGR1\n",
      "Target: GSK3_f, inhibitory regulators: ERK_f, AKT_f, MAPK14, DVL_f, LRP_f, S6K_f, RSK_f\n",
      "Target: TSC_f, activating regulators: GSK3_f, inhibitory regulators: IKBKB, ERK_f, AKT_f, RSK_f\n",
      "Target: TP53, activating regulators: MAPK14, inhibitory regulators: MDM2\n",
      "Target: AKT1S1, inhibitory regulators: AKT_f\n",
      "Target: MDM2, activating regulators: MDM2_g, AKT_f, inhibitory regulators: S6K_f\n",
      "Target: MDM2_g, activating regulators: TP53, NFKB_f\n",
      "Target: BAX, activating regulators: TP53\n",
      "Target: CYCS, activating regulators: BAX, inhibitory regulators: BCL2\n",
      "Target: BCL2, inhibitory regulators: BAD\n",
      "Target: BAD, inhibitory regulators: AKT_f, RSK_f\n",
      "Target: NLK, activating regulators: MAP3K7\n",
      "Target: CASP9, activating regulators: CYCS\n",
      "Target: CASP8, inhibitory regulators: CFLAR\n",
      "Target: CFLAR, activating regulators: AKT_f, inhibitory regulators: ITCH\n",
      "Target: ITCH, activating regulators: JNK_f\n",
      "Target: FZD_f, inhibitory regulators: SFRP1\n",
      "Target: SFRP1, activating regulators: SFRP1_g\n",
      "Target: LRP_f, activating regulators: FZD_f, JNK_f, ERK_f, MAPK14, inhibitory regulators: DKK_f\n",
      "Target: DKK_f, activating regulators: DKK_g\n",
      "Target: AXIN1, inhibitory regulators: LRP_f\n",
      "Target: CK1_f, inhibitory regulators: LRP_f\n",
      "Target: BTRC, activating regulators: GSK3_f, CK1_f, AXIN1\n",
      "Target: CTNNB1, activating regulators: CHUK, inhibitory regulators: BTRC\n",
      "Target: CHUK, activating regulators: AKT_f\n",
      "Target: TCF7_f, activating regulators: CTNNB1, inhibitory regulators: NLK\n",
      "Target: EGR1, inhibitory regulators: TCF7_f\n",
      "Target: DKK_g, activating regulators: TCF7_f, inhibitory regulators: MYC\n",
      "Target: SFRP1_g, inhibitory regulators: MYC\n",
      "Target: NFKB_f, activating regulators: IKBKB, CHUK, MSK_f\n",
      "Target: LEF, activating regulators: CTNNB1\n",
      "Target: MMP_f, activating regulators: LEF\n",
      "\n"
     ]
    }
   ],
   "source": [
    "network_sif = 'network.sif'\n",
    "model = InteractionModel(interactions_file=network_sif)\n",
    "model.print()"
   ]
  },
  {
   "cell_type": "code",
   "execution_count": 14,
   "id": "91f47c2e-cca7-4986-afaf-175c986e7824",
   "metadata": {},
   "outputs": [
    {
     "name": "stdout",
     "output_type": "stream",
     "text": [
      "2024-12-05 23:41:39,693 - INFO - Boolean Model from Interaction Model is created.\n"
     ]
    }
   ],
   "source": [
    "boolean_model_sif = BooleanModel(model=model, model_name='test1',\n",
    "                                     mutation_type='balanced', attractor_tool='mpbn', attractor_type='stable_states')"
   ]
  },
  {
   "cell_type": "code",
   "execution_count": 15,
   "id": "09c328ac-495d-445b-9edc-190e13cfe112",
   "metadata": {},
   "outputs": [
    {
     "name": "stdout",
     "output_type": "stream",
     "text": [
      "Antisurvival *= (FOXO_f or CASP3)\n",
      "CASP3 *= (CASP8 or CASP9)\n",
      "FOXO_f *= not (NLK or AKT_f)\n",
      "Prosurvival *= (CCND1 or MYC)\n",
      "CCND1 *= (TCF7_f or RSK_f)\n",
      "MYC *= (TCF7_f)\n",
      "RAC_f *= (mTORC2_c or DVL_f)\n",
      "mTORC2_c *= (TSC_f) and not (S6K_f)\n",
      "DVL_f *= (FZD_f)\n",
      "MAP3K4 *= (RAC_f)\n",
      "MAP3K11 *= (RAC_f)\n",
      "MAP2K4 *= (MAP3K4 or MAP3K11 or GRAP2 or MAP3K7)\n",
      "MAP3K7 *= (TAB_f)\n",
      "GRAP2 *= not (MAPK14)\n",
      "MAP2K7 *= (GRAP2 or MAP3K7)\n",
      "JNK_f *= (MAP2K7 or MAP2K4) and not (DUSP1)\n",
      "DUSP1 *= (MSK_f or MAPK14)\n",
      "MAPK14 *= (MAP2K3 or MAP2K4) and not (DUSP1)\n",
      "MAP2K3 *= (MAP3K5 or MAP3K7)\n",
      "MAP3K5 *= not (AKT_f)\n",
      "AKT_f *= (mTORC2_c or PDPK1)\n",
      "TAB_f *= not (MAPK14)\n",
      "MSK_f *= (ERK_f or MAPK14)\n",
      "RTPK_f *= (MMP_f or RTPK_g) and not (MEK_f or MAPK14)\n",
      "RTPK_g *= (FOXO_f)\n",
      "MEK_f *= (RAF_f or MAP3K8) and not (ERK_f)\n",
      "SHC1 *= (RTPK_f) and not (PTEN)\n",
      "PTEN *= (PTEN_g) and not (GSK3_f)\n",
      "GRB2 *= (SHC1)\n",
      "SOS1 *= (GRB2) and not (ERK_f)\n",
      "ERK_f *= (MEK_f) and not (DUSP6)\n",
      "KRAS *= (PTPN11 or SOS1)\n",
      "PTPN11 *= (GAB_f)\n",
      "RAF_f *= (KRAS) and not (RHEB or ERK_f or AKT_f)\n",
      "RHEB *= not (TSC_f)\n",
      "MAP3K8 *= (IKBKB)\n",
      "DUSP6 *= (ERK_f or mTORC1_c)\n",
      "mTORC1_c *= (RHEB or RSK_f) and not (AKT1S1)\n",
      "GAB_f *= (GRB2) and not (ERK_f)\n",
      "RSK_f *= (ERK_f or PDPK1)\n",
      "PDPK1 *= (PIK3CA) and not (PTEN)\n",
      "PIK3CA *= (KRAS or GAB_f or IRS1)\n",
      "IRS1 *= not (IKBKB or S6K_f or ERK_f)\n",
      "S6K_f *= (PDPK1 or mTORC1_c)\n",
      "IKBKB *= (MAP3K7) and not (TP53)\n",
      "PTEN_g *= (EGR1)\n",
      "GSK3_f *= not (ERK_f or AKT_f or MAPK14 or DVL_f or LRP_f or S6K_f or RSK_f)\n",
      "TSC_f *= (GSK3_f) and not (IKBKB or ERK_f or AKT_f or RSK_f)\n",
      "TP53 *= (MAPK14) and not (MDM2)\n",
      "AKT1S1 *= not (AKT_f)\n",
      "MDM2 *= (MDM2_g or AKT_f) and not (S6K_f)\n",
      "MDM2_g *= (TP53 or NFKB_f)\n",
      "BAX *= (TP53)\n",
      "CYCS *= (BAX) and not (BCL2)\n",
      "BCL2 *= not (BAD)\n",
      "BAD *= not (AKT_f or RSK_f)\n",
      "NLK *= (MAP3K7)\n",
      "CASP9 *= (CYCS)\n",
      "CASP8 *= not (CFLAR)\n",
      "CFLAR *= (AKT_f) and not (ITCH)\n",
      "ITCH *= (JNK_f)\n",
      "FZD_f *= not (SFRP1)\n",
      "SFRP1 *= (SFRP1_g)\n",
      "LRP_f *= (FZD_f or JNK_f or ERK_f or MAPK14) and not (DKK_f)\n",
      "DKK_f *= (DKK_g)\n",
      "AXIN1 *= not (LRP_f)\n",
      "CK1_f *= not (LRP_f)\n",
      "BTRC *= (GSK3_f or CK1_f or AXIN1)\n",
      "CTNNB1 *= (CHUK) and not (BTRC)\n",
      "CHUK *= (AKT_f)\n",
      "TCF7_f *= (CTNNB1) and not (NLK)\n",
      "EGR1 *= not (TCF7_f)\n",
      "DKK_g *= (TCF7_f) and not (MYC)\n",
      "SFRP1_g *= not (MYC)\n",
      "NFKB_f *= (IKBKB or CHUK or MSK_f)\n",
      "LEF *= (CTNNB1)\n",
      "MMP_f *= (LEF)\n"
     ]
    }
   ],
   "source": [
    "boolean_model_sif.print()"
   ]
  },
  {
   "cell_type": "markdown",
   "id": "4998672f-eeac-46fc-9ed1-483145c30725",
   "metadata": {},
   "source": [
    "#### Initialize Boolean Model from `.bnet` file"
   ]
  },
  {
   "cell_type": "markdown",
   "id": "8a6df39c-2506-4f9e-ae62-ad8042aa4c7a",
   "metadata": {},
   "source": [
    "See more about the BoolNet format: [CoLoMoTo formats](http://colomoto.org/biolqm/doc/format-bnet.html) and [PyBoolNet Docs](https://pyboolnet.readthedocs.io/en/master/quickstart.html).\n",
    "\n",
    "**Creating a `BooleanModel`, that can be initialized:**\n",
    "  - `file` (required): The path to the `.bnet` file.\n",
    "    \n",
    "  - `model_name`: The name of the model.\n",
    "\n",
    "  - `mutation_type`: There are 3 options: `topology`, `mixed`, `balanced`. The default is balanced.\n",
    "\n",
    "  - `attractor_tool`: There are 2 options: `mpbn` or `pyboolnet` The default is `mpbn`.\n",
    "\n",
    "  - `attractor_type`:There are 2 options: `stable_states` or `trapspaces`. The default is `stable_states`."
   ]
  },
  {
   "cell_type": "code",
   "execution_count": 16,
   "id": "2755cb78-3ded-4c7c-991a-1fefbc29d7de",
   "metadata": {},
   "outputs": [
    {
     "name": "stdout",
     "output_type": "stream",
     "text": [
      "2024-12-05 23:41:39,714 - INFO - Boolean Model from .bnet file is created.\n"
     ]
    }
   ],
   "source": [
    "equations_bnet = 'network.bnet'\n",
    "boolean_model_bnet = BooleanModel(file=equations_bnet, model_name='test2',\n",
    "                                     mutation_type='balanced', attractor_tool='mpbn', attractor_type='trapspaces')"
   ]
  },
  {
   "cell_type": "markdown",
   "id": "bb9c8cc4-92a4-46eb-80c7-e6c2618bbc03",
   "metadata": {},
   "source": [
    "## Run Train and Predict with `executor`"
   ]
  },
  {
   "cell_type": "markdown",
   "id": "58d3a396-9a5a-4d89-8fa0-75cd82ca7e28",
   "metadata": {},
   "source": [
    "**Required Parameters:**\n",
    "- `BooleanModel`,\n",
    "- `ModelOutputs`,\n",
    "- `Perturbations`\n",
    "- Genetic Algorithm Arguments (`ga_args`)\n",
    "- Evolution Arguments (`ev_args`)\n",
    "- Observed Synergy Scores (`observed_synergy_scores`)\n",
    "\n",
    "**Optional Parameters:**\n",
    "- `Training Data`"
   ]
  },
  {
   "cell_type": "markdown",
   "id": "aedecfb1-1e31-474f-8ed5-16e4d69399ca",
   "metadata": {},
   "source": [
    "### Initialize Train and Predict\n",
    "\n",
    "To run training and prediction, have to set up `train_params` and `predict_params`, which define how the executor handles model training and simulations. Below, you can see how to initialize these parameters.\n",
    "\n"
   ]
  },
  {
   "cell_type": "markdown",
   "id": "1eac0dd9-e91d-401d-a01c-ece5eb760c51",
   "metadata": {},
   "source": [
    "#### 1. `train_params`\n",
    "This dictionary holds the configuration and input data necessary for training Boolean Models.\\\n",
    "Below is a detailed overview of its parameters:\n",
    "\n",
    "- `boolean_model`: The initial `BooleanModel` instance that serves as the starting point for training.\n",
    "\n",
    "\n",
    "- `model_outputs`: An instance of `ModelOutputs`.\n",
    "\n",
    "- `training_data` (optional): An instance of `TrainingData`.\n",
    "\n",
    "- `ga_args`: A dictionary of arguments and configurations for the genetic algorithm.\n",
    "\n",
    "- `ev_args`: A dictionary of arguments for the evolutionary strategy settings. It runs multiple times the genetic algorithm.\n",
    "\n",
    "- `save_best_models` (optional): Whether to save the models with the best fitness score to disk. By defult, `False`.\n",
    "  \n",
    "\n",
    "- `save_path` (optional): The path where the best models will be saved if `save_best_models` is `True`. (e.g. `'./models'`)."
   ]
  },
  {
   "cell_type": "markdown",
   "id": "cd032748-6cc1-4eac-98b0-6d2737b7852c",
   "metadata": {},
   "source": [
    "##### Arguments for the Genetic Algorithm (`ga_args`)\n",
    "The Evolution pipeline uses the `PyGAD` Genetic Algoritm . For more information about the `PyGAD.GA` initialization click [here](https://pygad.readthedocs.io/en/latest/pygad.html#init) ."
   ]
  },
  {
   "cell_type": "code",
   "execution_count": 17,
   "id": "ed2aa5e6-cba6-4858-a73b-12d9c084d01a",
   "metadata": {},
   "outputs": [],
   "source": [
    "ga_args = {\n",
    "        'num_generations': 20,\n",
    "        'num_parents_mating': 3,\n",
    "        'mutation_num_genes': 8,\n",
    "        'fitness_batch_size': 20,   # should be the same number as the num_generations\n",
    "        'crossover_type': 'single_point',\n",
    "        'mutation_type': 'random',\n",
    "        'keep_elitism': 6,\n",
    "        # 'stop_criteria': 'reach_95'\n",
    "}"
   ]
  },
  {
   "cell_type": "markdown",
   "id": "85edfc01-f9c2-412c-9137-a97bc4320525",
   "metadata": {},
   "source": [
    "##### Arguments for the Evolution (`ev_args`)\n",
    "- `num_best_solutions`: Number of the best solutions per Evolution run.\n",
    "  \n",
    "- `num_of_runs`: Number of running the Evolution\n",
    "  \n",
    "- `num_of_cores`: Maximum number of cores for calculations\n",
    "  \n",
    "- `num_of_init_mutation`: Number of mutated genes in the initial population."
   ]
  },
  {
   "cell_type": "code",
   "execution_count": 18,
   "id": "d8ce1cde-5db0-43bf-b684-ca82ed2aeadc",
   "metadata": {},
   "outputs": [],
   "source": [
    "ev_args = {\n",
    "        'num_best_solutions': 3,\n",
    "        'num_of_runs': 50,\n",
    "        'num_of_cores': 4,\n",
    "        'num_of_init_mutation': 20\n",
    "}"
   ]
  },
  {
   "cell_type": "markdown",
   "id": "2344c717-bcec-48a7-bbef-8cccf2ce9219",
   "metadata": {},
   "source": [
    "##### Init `train_params`"
   ]
  },
  {
   "cell_type": "code",
   "execution_count": 19,
   "id": "ddd4d0ad-46d3-499c-8802-376b502646bc",
   "metadata": {},
   "outputs": [],
   "source": [
    "train_params = {\n",
    "        'boolean_model': boolean_model_bnet,\n",
    "        'model_outputs': model_outputs,\n",
    "        'training_data': training_data,\n",
    "        'ga_args': ga_args,\n",
    "        'ev_args': ev_args,\n",
    "        'save_best_models': False,\n",
    "        # 'save_path': './models'\n",
    "}"
   ]
  },
  {
   "cell_type": "markdown",
   "id": "0ec19f25-a187-4b70-bb90-8b3b09971354",
   "metadata": {},
   "source": [
    "#### 2. `predict_params`\n",
    "This dictionary holds the necessary configurations for the `predict` function, which simulates perturbed models and predicts drug synergies.\\\n",
    "Below is a detailed overview of its parameters:\n",
    "\n",
    "- `perturbations`: An instance of `Perturbation`.\n",
    "\n",
    "- `model_outputs`: An instance of `ModelOutputs`.\n",
    "\n",
    "- `observed_synergy_scores`: A list of observed synergy scores used to plot and evaluate the predictive accuracy of the models.\n",
    "\n",
    "- `synergy_method`: The method used to calculate synergy scores. Options: `'bliss'` (Bliss Independence) or `'hsa'` (Highest Single Agent). By default, `'bliss'`\n",
    "\n",
    "- `run_parallel` (optional): Whether to run it paralelly or serially, By default, `True`.\n",
    "\n",
    "- `plot_roc_pr_curves` (optional): Whether to plot the ROC and PR Curves when the predction finishes. By default, `True`.\n",
    "\n",
    "- `save_predictions` (optional):  Whether to save the predictions to disk after the simulations. By default, `False`.\n",
    "\n",
    "- `save_path` (optional): Specifies the path to save the predictions if `save_predictions` is `True` (e.g. `'./predictions'`).\n",
    "\n",
    "\n",
    "- **For running only predict on previously trained models from disk:**\n",
    "   - `model_directory`: Path to a directory containing pre-trained models to be loaded if `best_boolean_models` is not provided.(e.g., `'./models/models_2024_11_06_1130'`).\n",
    "\n",
    "   - `attractor_tool`: Specifies the tool used for attractor computation if the models are loaded from `model_directory` (e.g. `'mpbn'`).\n",
    "\n",
    "\n",
    "   - `attractor_type`: Specifies the tool used for attractor computation if the models are loaded from `model_directory` (e.g. `'stable_states'`).\n",
    " \n",
    "   -   `cores`: Number of CPU cores to use for parallel processing.(e.g. `4` for using four CPU cores).\n",
    "\n",
    "- **For running only predict on previously trained models during runtime:**\n",
    "\n",
    "   - `best_boolean_models`: retults of train (e.g. models = train(boolean_model=boolean_model_bnet, model_outputs=model_outputs, training_data=training_data, ga_args=ga_args, ev_args=ev_args)\n",
    "  \n",
    "   -   `cores`: Number of CPU cores to use for parallel processing.(e.g. `4` for using four CPU cores)."
   ]
  },
  {
   "cell_type": "markdown",
   "id": "1637050b-2de8-48de-82dc-e8e820501697",
   "metadata": {},
   "source": [
    "#####   Observed Synergy Scores\n",
    "List of observed synergy scores corresponding to the perturbations applied, used to evaluate model predictions. \\\n",
    "**Initialization**: From a list containing observed synergy scores."
   ]
  },
  {
   "cell_type": "code",
   "execution_count": 20,
   "id": "a27ed3ef-7f9d-41a5-be73-604d4c68e0fb",
   "metadata": {},
   "outputs": [],
   "source": [
    "observed_synergy_scores = [\"PI-PD\", \"PI-5Z\", \"PD-AK\", \"AK-5Z\"]"
   ]
  },
  {
   "cell_type": "markdown",
   "id": "0ac656dc-7cf6-4e7d-bbad-ffc6581c404d",
   "metadata": {},
   "source": [
    "##### Init `predict_param`"
   ]
  },
  {
   "cell_type": "code",
   "execution_count": 21,
   "id": "a31c4488-0dec-4fbc-9689-8ca01401852a",
   "metadata": {},
   "outputs": [],
   "source": [
    "predict_params = {\n",
    "        'perturbations': perturbations,\n",
    "        'model_outputs': model_outputs,\n",
    "        'observed_synergy_scores': observed_synergy_scores,\n",
    "        'synergy_method': 'bliss',\n",
    "        'plot_roc_pr_curves': True,\n",
    "        'save_predictions': False,\n",
    "        # 'cores':3,\n",
    "        # 'save_path': './predictions',\n",
    "        # 'model_directory': './models/example_models',\n",
    "        # 'attractor_tool': 'mpbn',\n",
    "        # 'attractor_type':  'stable_states'\n",
    "    }"
   ]
  },
  {
   "cell_type": "markdown",
   "id": "d886b76d-acab-456a-8cea-434218da3dc4",
   "metadata": {},
   "source": [
    "### Run Train and Predict"
   ]
  },
  {
   "cell_type": "code",
   "execution_count": 22,
   "id": "71da568b-f943-475b-a57c-4c4b3fb36f24",
   "metadata": {},
   "outputs": [],
   "source": [
    "from pydruglogics.execution.Executor import execute, train, predict"
   ]
  },
  {
   "cell_type": "code",
   "execution_count": 23,
   "id": "9d9781ae-c8e3-4886-9702-4d01c9ebea81",
   "metadata": {},
   "outputs": [
    {
     "name": "stdout",
     "output_type": "stream",
     "text": [
      "2024-12-05 23:41:39,787 - INFO - Train started...\n",
      "2024-12-05 23:41:48,221 - INFO - Training finished.\n",
      "2024-12-05 23:41:48,222 - INFO - Train completed in 8.44 seconds.\n",
      "2024-12-05 23:41:48,223 - INFO - Predict started...\n",
      "2024-12-05 23:42:00,944 - INFO - \n",
      "Synergy scores (bliss):\n",
      "2024-12-05 23:42:00,945 - INFO - PI-PD: -0.08418595679012342\n",
      "2024-12-05 23:42:00,946 - INFO - PI-CT: 0.002967592592592605\n",
      "2024-12-05 23:42:00,947 - INFO - PI-BI: 0.02335030864197518\n",
      "2024-12-05 23:42:00,947 - INFO - PI-PK: 0.020891203703703565\n",
      "2024-12-05 23:42:00,947 - INFO - PI-AK: 0.06716280864197521\n",
      "2024-12-05 23:42:00,948 - INFO - PI-5Z: -0.036652777777777645\n",
      "2024-12-05 23:42:00,948 - INFO - PD-CT: 0.0032314814814814463\n",
      "2024-12-05 23:42:00,949 - INFO - PD-BI: 0.0024660493827158847\n",
      "2024-12-05 23:42:00,949 - INFO - PD-PK: 0.1255787037037036\n",
      "2024-12-05 23:42:00,949 - INFO - PD-AK: -0.043075617283950596\n",
      "2024-12-05 23:42:00,950 - INFO - PD-5Z: 0.00913888888888903\n",
      "2024-12-05 23:42:00,950 - INFO - CT-BI: -5.925925925931441e-05\n",
      "2024-12-05 23:42:00,950 - INFO - CT-PK: 0.0023055555555555607\n",
      "2024-12-05 23:42:00,951 - INFO - CT-AK: 0.0025129629629628836\n",
      "2024-12-05 23:42:00,951 - INFO - CT-5Z: 0.0032999999999999696\n",
      "2024-12-05 23:42:00,951 - INFO - BI-PK: -0.07506481481481486\n",
      "2024-12-05 23:42:00,952 - INFO - BI-AK: 0.05955987654320993\n",
      "2024-12-05 23:42:00,952 - INFO - BI-5Z: 0.083988888888889\n",
      "2024-12-05 23:42:00,952 - INFO - PK-AK: 0.05078240740740736\n",
      "2024-12-05 23:42:00,953 - INFO - PK-5Z: 0.18247222222222226\n",
      "2024-12-05 23:42:00,953 - INFO - AK-5Z: -0.06634999999999991\n",
      "2024-12-05 23:42:00,973 - INFO - Predicted Data with Observed Synergies for Model 1:\n",
      "2024-12-05 23:42:00,973 - INFO -    perturbation  synergy_score  observed\n",
      "0         PI-PD       0.084186         1\n",
      "1         BI-PK       0.075065         0\n",
      "2         AK-5Z       0.066350         1\n",
      "3         PD-AK       0.043076         1\n",
      "4         PI-5Z       0.036653         1\n",
      "5         CT-BI       0.000059         0\n",
      "6         CT-PK      -0.002306         0\n",
      "7         PD-BI      -0.002466         0\n",
      "8         CT-AK      -0.002513         0\n",
      "9         PI-CT      -0.002968         0\n",
      "10        PD-CT      -0.003231         0\n",
      "11        CT-5Z      -0.003300         0\n",
      "12        PD-5Z      -0.009139         0\n",
      "13        PI-PK      -0.020891         0\n",
      "14        PI-BI      -0.023350         0\n",
      "15        PK-AK      -0.050782         0\n",
      "16        BI-AK      -0.059560         0\n",
      "17        PI-AK      -0.067163         0\n",
      "18        BI-5Z      -0.083989         0\n",
      "19        PD-PK      -0.125579         0\n",
      "20        PK-5Z      -0.182472         0\n"
     ]
    },
    {
     "data": {
      "image/png": "[encoded data removed]",
      "text/plain": [
       "<Figure size 1200x500 with 2 Axes>"
      ]
     },
     "metadata": {},
     "output_type": "display_data"
    },
    {
     "name": "stdout",
     "output_type": "stream",
     "text": [
      "2024-12-05 23:42:01,167 - INFO - Predict completed in 12.94 seconds.\n",
      "2024-12-05 23:42:01,168 - INFO - Total runtime for training and prediction: 21.38 seconds\n"
     ]
    }
   ],
   "source": [
    "execute(train_params=train_params, predict_params=predict_params)"
   ]
  },
  {
   "cell_type": "markdown",
   "id": "b0caaccf-76f6-422b-bc36-286be0d9db33",
   "metadata": {},
   "source": [
    "Alternatively, `train` and `predict` can be run separately: "
   ]
  },
  {
   "cell_type": "code",
   "execution_count": 24,
   "id": "9b003f9c-718d-4bcd-9739-20f1302bc02b",
   "metadata": {},
   "outputs": [],
   "source": [
    "# execute(train_params=train_params)"
   ]
  },
  {
   "cell_type": "markdown",
   "id": "e8e684cc-78f5-4bc0-818a-7e27cac711b7",
   "metadata": {},
   "source": [
    "**Note:** If you would like to run the `predict` process but the `train` process has not been previously executed, it is necessary to load the Boolean Models from a `.bnet` file and add the path to the `model_directory`. In this case `attractor_tool` and `attractor_type` must be provided."
   ]
  },
  {
   "cell_type": "markdown",
   "id": "235d99a9-a99a-487d-a499-d6423d4c4056",
   "metadata": {},
   "source": [
    "## Run Statistics"
   ]
  },
  {
   "cell_type": "markdown",
   "id": "d2ee2af3-b484-4f88-b022-e5d3b807b5b7",
   "metadata": {},
   "source": [
    "#### Train Boolean Models"
   ]
  },
  {
   "cell_type": "markdown",
   "id": "f12a9dc5-845f-45ef-96e4-e2f0d87c8fc6",
   "metadata": {},
   "source": [
    "Boolean Models calibrated to steady state response."
   ]
  },
  {
   "cell_type": "code",
   "execution_count": 25,
   "id": "e6824a60-4a33-400b-b282-fc7973735ea8",
   "metadata": {},
   "outputs": [
    {
     "name": "stdout",
     "output_type": "stream",
     "text": [
      "2024-12-05 23:42:01,187 - INFO - Train started...\n",
      "2024-12-05 23:42:09,851 - INFO - Training finished.\n",
      "2024-12-05 23:42:09,852 - INFO - Train completed in 8.66 seconds.\n"
     ]
    }
   ],
   "source": [
    "best_boolean_models_calibrated = train(boolean_model=boolean_model_bnet, model_outputs=model_outputs, training_data=training_data,\n",
    "                                ga_args=ga_args, ev_args=ev_args)"
   ]
  },
  {
   "cell_type": "markdown",
   "id": "93626d19-a38e-44ce-a2cf-88354d68d235",
   "metadata": {},
   "source": [
    "Boolean Models match to proliferation profile."
   ]
  },
  {
   "cell_type": "code",
   "execution_count": 26,
   "id": "7f38bfe6-fcad-4850-ad1b-b66e768e77d9",
   "metadata": {},
   "outputs": [
    {
     "name": "stdout",
     "output_type": "stream",
     "text": [
      "2024-12-05 23:42:09,860 - INFO - Train started...\n",
      "2024-12-05 23:42:09,861 - INFO - Training data initialized from list.\n",
      "2024-12-05 23:42:12,241 - INFO - Training finished.\n",
      "2024-12-05 23:42:12,242 - INFO - Train completed in 2.38 seconds.\n"
     ]
    }
   ],
   "source": [
    "best_boolean_models_random = train(boolean_model=boolean_model_bnet, model_outputs=model_outputs, ga_args=ga_args, ev_args=ev_args)"
   ]
  },
  {
   "cell_type": "markdown",
   "id": "425e5934-8b41-4d25-bc0d-c2aafb3849b4",
   "metadata": {},
   "source": [
    "### Compare Boolean Models trained by calibrated and random data"
   ]
  },
  {
   "cell_type": "markdown",
   "id": "374dd68c-de03-49c4-bb95-283205f3b8ee",
   "metadata": {},
   "source": [
    "The `compare_two_simulations` function compares the predictive performance of two sets of evolved Boolean models by plotting ROC and PR curves. \n",
    "#### Parameters:\n",
    "\n",
    "- `boolean_models1`: A list of the best Boolean models from the first run.\n",
    "\n",
    "- `boolean_models2`: A list of the best Boolean models from the second run.\n",
    "\n",
    "- `observed_synergy_scores`: A reference list of observed synergy scores used to evaluate the predictive performance of the models.\n",
    "\n",
    "- `model_outputs`: An instance of `ModelOutputs`.\n",
    "\n",
    "- `perturbations`: An instance of `Perturbation`.\n",
    "\n",
    "- `synergy_method` (optional): The method for assessing synergy. Options: `'hsa'` (Highest Single Agent) or  `'bliss'` (Bliss Independence). By default, `'bliss'`.\n",
    "\n",
    "- `label1` (optional): A custom label for the first set of evolution results shown in the plots. By default, `'Models 1'`.\n",
    "\n",
    "- `label2` (optional): A custom label for the second set of evolution results shown in the plots. By default,`'Models 2'`.\n",
    "\n",
    "- `normalized` (optional): Whether or not to normalize the synergy scores of the first set. By default, `True`.\n",
    "\n",
    "- `plot_pr_roc_curves` (optional): Whether or not to plot ROC and PR Curves. By default, `True`.\n",
    "\n",
    "- `save_result` (optional): Whether or not to save the results to file. By default, `True`."
   ]
  },
  {
   "cell_type": "code",
   "execution_count": 27,
   "id": "46ca9206-c10d-4070-9270-731604648501",
   "metadata": {},
   "outputs": [],
   "source": [
    "from pydruglogics.statistics.Statistics import compare_two_simulations"
   ]
  },
  {
   "cell_type": "code",
   "execution_count": 28,
   "id": "2ed42803-18b9-4b1d-b8ff-62be52c046b1",
   "metadata": {},
   "outputs": [
    {
     "name": "stdout",
     "output_type": "stream",
     "text": [
      "2024-12-05 23:42:25,285 - INFO - \n",
      "Synergy scores (bliss):\n",
      "2024-12-05 23:42:25,286 - INFO - PI-PD: -0.08418595679012342\n",
      "2024-12-05 23:42:25,287 - INFO - PI-CT: 0.002967592592592605\n",
      "2024-12-05 23:42:25,288 - INFO - PI-BI: 0.02335030864197518\n",
      "2024-12-05 23:42:25,288 - INFO - PI-PK: 0.020891203703703565\n",
      "2024-12-05 23:42:25,289 - INFO - PI-AK: 0.06716280864197521\n",
      "2024-12-05 23:42:25,289 - INFO - PI-5Z: -0.036652777777777645\n",
      "2024-12-05 23:42:25,290 - INFO - PD-CT: 0.0032314814814814463\n",
      "2024-12-05 23:42:25,290 - INFO - PD-BI: 0.0024660493827158847\n",
      "2024-12-05 23:42:25,290 - INFO - PD-PK: 0.1255787037037036\n",
      "2024-12-05 23:42:25,291 - INFO - PD-AK: -0.043075617283950596\n",
      "2024-12-05 23:42:25,291 - INFO - PD-5Z: 0.00913888888888903\n",
      "2024-12-05 23:42:25,291 - INFO - CT-BI: -5.925925925931441e-05\n",
      "2024-12-05 23:42:25,292 - INFO - CT-PK: 0.0023055555555555607\n",
      "2024-12-05 23:42:25,292 - INFO - CT-AK: 0.0025129629629628836\n",
      "2024-12-05 23:42:25,292 - INFO - CT-5Z: 0.0032999999999999696\n",
      "2024-12-05 23:42:25,292 - INFO - BI-PK: -0.07506481481481486\n",
      "2024-12-05 23:42:25,292 - INFO - BI-AK: 0.05955987654320993\n",
      "2024-12-05 23:42:25,293 - INFO - BI-5Z: 0.083988888888889\n",
      "2024-12-05 23:42:25,293 - INFO - PK-AK: 0.05078240740740736\n",
      "2024-12-05 23:42:25,293 - INFO - PK-5Z: 0.18247222222222226\n",
      "2024-12-05 23:42:25,293 - INFO - AK-5Z: -0.06634999999999991\n",
      "2024-12-05 23:42:36,667 - INFO - \n",
      "Synergy scores (bliss):\n",
      "2024-12-05 23:42:36,668 - INFO - PI-PD: -0.10488888888888914\n",
      "2024-12-05 23:42:36,669 - INFO - PI-CT: 0.0\n",
      "2024-12-05 23:42:36,669 - INFO - PI-BI: 0.04377777777777758\n",
      "2024-12-05 23:42:36,669 - INFO - PI-PK: 0.08273333333333321\n",
      "2024-12-05 23:42:36,670 - INFO - PI-AK: 0.1151777777777776\n",
      "2024-12-05 23:42:36,670 - INFO - PI-5Z: -0.021911111111111325\n",
      "2024-12-05 23:42:36,670 - INFO - PD-CT: 0.0\n",
      "2024-12-05 23:42:36,671 - INFO - PD-BI: 0.023796296296296204\n",
      "2024-12-05 23:42:36,671 - INFO - PD-PK: 0.18807407407407395\n",
      "2024-12-05 23:42:36,671 - INFO - PD-AK: -0.023129629629629722\n",
      "2024-12-05 23:42:36,671 - INFO - PD-5Z: 0.0032962962962962417\n",
      "2024-12-05 23:42:36,671 - INFO - CT-BI: 0.0\n",
      "2024-12-05 23:42:36,672 - INFO - CT-PK: 0.0\n",
      "2024-12-05 23:42:36,672 - INFO - CT-AK: 0.0\n",
      "2024-12-05 23:42:36,672 - INFO - CT-5Z: 0.0\n",
      "2024-12-05 23:42:36,672 - INFO - BI-PK: -0.13427777777777794\n",
      "2024-12-05 23:42:36,673 - INFO - BI-AK: 0.08134722222222213\n",
      "2024-12-05 23:42:36,673 - INFO - BI-5Z: 0.05813888888888874\n",
      "2024-12-05 23:42:36,673 - INFO - PK-AK: 0.10301111111111105\n",
      "2024-12-05 23:42:36,673 - INFO - PK-5Z: 0.08075555555555558\n",
      "2024-12-05 23:42:36,674 - INFO - AK-5Z: -0.03427222222222237\n",
      "2024-12-05 23:42:36,689 - INFO - Predicted Data with Observed Synergies for Calibrated (Non-Normalized):\n",
      "2024-12-05 23:42:36,690 - INFO -    perturbation  synergy_score  observed\n",
      "0         PI-PD       0.084186         1\n",
      "1         BI-PK       0.075065         0\n",
      "2         AK-5Z       0.066350         1\n",
      "3         PD-AK       0.043076         1\n",
      "4         PI-5Z       0.036653         1\n",
      "5         CT-BI       0.000059         0\n",
      "6         CT-PK      -0.002306         0\n",
      "7         PD-BI      -0.002466         0\n",
      "8         CT-AK      -0.002513         0\n",
      "9         PI-CT      -0.002968         0\n",
      "10        PD-CT      -0.003231         0\n",
      "11        CT-5Z      -0.003300         0\n",
      "12        PD-5Z      -0.009139         0\n",
      "13        PI-PK      -0.020891         0\n",
      "14        PI-BI      -0.023350         0\n",
      "15        PK-AK      -0.050782         0\n",
      "16        BI-AK      -0.059560         0\n",
      "17        PI-AK      -0.067163         0\n",
      "18        BI-5Z      -0.083989         0\n",
      "19        PD-PK      -0.125579         0\n",
      "20        PK-5Z      -0.182472         0\n",
      "2024-12-05 23:42:36,693 - INFO - Predicted Data with Observed Synergies for Random:\n",
      "2024-12-05 23:42:36,693 - INFO -    perturbation  synergy_score  observed\n",
      "0         BI-PK       0.134278         0\n",
      "1         PI-PD       0.104889         1\n",
      "2         AK-5Z       0.034272         1\n",
      "3         PD-AK       0.023130         1\n",
      "4         PI-5Z       0.021911         1\n",
      "5         CT-AK      -0.000000         0\n",
      "6         CT-5Z      -0.000000         0\n",
      "7         CT-BI      -0.000000         0\n",
      "8         PI-CT      -0.000000         0\n",
      "9         CT-PK      -0.000000         0\n",
      "10        PD-CT      -0.000000         0\n",
      "11        PD-5Z      -0.003296         0\n",
      "12        PD-BI      -0.023796         0\n",
      "13        PI-BI      -0.043778         0\n",
      "14        BI-5Z      -0.058139         0\n",
      "15        PK-5Z      -0.080756         0\n",
      "16        BI-AK      -0.081347         0\n",
      "17        PI-PK      -0.082733         0\n",
      "18        PK-AK      -0.103011         0\n",
      "19        PI-AK      -0.115178         0\n",
      "20        PD-PK      -0.188074         0\n"
     ]
    },
    {
     "data": {
      "image/png": "[encoded data removed]",
      "text/plain": [
       "<Figure size 1200x500 with 2 Axes>"
      ]
     },
     "metadata": {},
     "output_type": "display_data"
    }
   ],
   "source": [
    "compare_two_simulations(boolean_models1=best_boolean_models_calibrated, boolean_models2=best_boolean_models_random, observed_synergy_scores=observed_synergy_scores,\n",
    "                            model_outputs=model_outputs,perturbations=perturbations, synergy_method='bliss',label1='Calibrated (Non-Normalized)',\n",
    "                            label2='Random', normalized=False, plot=True, save_result=False)"
   ]
  },
  {
   "cell_type": "markdown",
   "id": "6b8a3ad5-030e-4300-a50f-3eb80ad60808",
   "metadata": {},
   "source": [
    "### Sampling"
   ]
  },
  {
   "cell_type": "markdown",
   "id": "3d4a4e95-08dc-479f-9660-6d05345fa6ac",
   "metadata": {},
   "source": [
    "The `sampling_with_ci` function performs sampling on a list of Boolean models, calculates confidence intervals, and plots a Precision-Recall (PR) curve to assess the predictive performance in identifying synergistic drug combinations.\n",
    "\n",
    "#### Parameters:\n",
    "\n",
    "- `boolean_models`: A list of `BooleanModel` instances used for the sampling.\n",
    "\n",
    "- `observed_synergy_scores`: A list of observed synergy scores.\n",
    "\n",
    "- `model_outputs`: An instance of `ModelOutputs`.\n",
    "\n",
    "- `perturbations`: An instance of `Perturbation`.\n",
    "\n",
    "- `synergy_method` (optional): The method for assessing synergy. Options: `'hsa'` (Highest Single Agent) or  `'bliss'` (Bliss Independence). By default, `'bliss'`.\n",
    "\n",
    "- `repeat_time` (optional): The number of times to repeat the sampling process. By defualt, `10`.\n",
    "\n",
    "- `sub_ratio` (optional): The proportion of models to sample in each iteration. By defualt, `0.8`.\n",
    "\n",
    "- `boot_n` (optional): The number of bootstrap iterations for calculating confidence intervals. By defualt, `1000`.\n",
    "\n",
    "- `confidence_level` (optional): The confidence level used for the interval calculations. By defualt, `0.9`.\n",
    "\n",
    "- `plot` (optional):  Whether to plot the PR curve. By defualt, `True`.\n",
    "\n",
    "- `plot_discrete` (optional): Whether to plot discrete points instead of continuous line on the PR curve. By defualt, `False`.\n",
    "\n",
    "- `save_result` (optional): Whether to save the results. By defualt, `True`.\n",
    "\n",
    "- `with_seeds` (optional): Whether to use a fixed seed for reproducibility. By defualt, `True`.\n",
    "\n",
    "- `seeds` (optional): The seed value to ensure reproducibility. By defualt, `42`.\n"
   ]
  },
  {
   "cell_type": "code",
   "execution_count": 29,
   "id": "440b2691-c733-4e08-bf25-b73f295ebed5",
   "metadata": {},
   "outputs": [],
   "source": [
    "from pydruglogics.statistics.Statistics import sampling_with_ci"
   ]
  },
  {
   "cell_type": "code",
   "execution_count": 30,
   "id": "32ede833-3763-4bc1-9230-92ce2ecb4cd7",
   "metadata": {
    "tags": [
     "skip_test"
    ]
   },
   "outputs": [
    {
     "name": "stdout",
     "output_type": "stream",
     "text": [
      "2024-12-05 23:42:46,170 - INFO - \n",
      "Synergy scores (bliss):\n",
      "2024-12-05 23:42:46,170 - INFO - PI-PD: -0.08004557291666681\n",
      "2024-12-05 23:42:46,171 - INFO - PI-CT: 0.0037254050925926707\n",
      "2024-12-05 23:42:46,172 - INFO - PI-BI: 0.02237533757716037\n",
      "2024-12-05 23:42:46,173 - INFO - PI-PK: 0.016493055555555358\n",
      "2024-12-05 23:42:46,173 - INFO - PI-AK: 0.06550564236111112\n",
      "2024-12-05 23:42:46,174 - INFO - PI-5Z: -0.0360460069444446\n",
      "2024-12-05 23:42:46,174 - INFO - PD-CT: 0.004036458333333437\n",
      "2024-12-05 23:42:46,175 - INFO - PD-BI: 0.0037109375000000666\n",
      "2024-12-05 23:42:46,176 - INFO - PD-PK: 0.11840277777777775\n",
      "2024-12-05 23:42:46,176 - INFO - PD-AK: -0.041644965277777724\n",
      "2024-12-05 23:42:46,177 - INFO - PD-5Z: 0.011414930555555647\n",
      "2024-12-05 23:42:46,177 - INFO - CT-BI: -8.391203703683736e-05\n",
      "2024-12-05 23:42:46,178 - INFO - CT-PK: 0.0029166666666667895\n",
      "2024-12-05 23:42:46,178 - INFO - CT-AK: 0.0031510416666666874\n",
      "2024-12-05 23:42:46,178 - INFO - CT-5Z: 0.004114583333333477\n",
      "2024-12-05 23:42:46,179 - INFO - BI-PK: -0.083125\n",
      "2024-12-05 23:42:46,179 - INFO - BI-AK: 0.059500868055555545\n",
      "2024-12-05 23:42:46,182 - INFO - BI-5Z: 0.08759548611111134\n",
      "2024-12-05 23:42:46,182 - INFO - PK-AK: 0.044930555555555474\n",
      "2024-12-05 23:42:46,183 - INFO - PK-5Z: 0.18166666666666664\n",
      "2024-12-05 23:42:46,183 - INFO - AK-5Z: -0.06763020833333322\n",
      "2024-12-05 23:42:55,315 - INFO - \n",
      "Synergy scores (bliss):\n",
      "2024-12-05 23:42:55,316 - INFO - PI-PD: -0.08228081597222237\n",
      "2024-12-05 23:42:55,316 - INFO - PI-CT: 0.003705150462963047\n",
      "2024-12-05 23:42:55,316 - INFO - PI-BI: 0.02233603395061723\n",
      "2024-12-05 23:42:55,317 - INFO - PI-PK: 0.017199315200617238\n",
      "2024-12-05 23:42:55,317 - INFO - PI-AK: 0.06817973572530855\n",
      "2024-12-05 23:42:55,318 - INFO - PI-5Z: -0.03857687114197528\n",
      "2024-12-05 23:42:55,318 - INFO - PD-CT: 0.004036458333333437\n",
      "2024-12-05 23:42:55,318 - INFO - PD-BI: -0.0005208333333334147\n",
      "2024-12-05 23:42:55,319 - INFO - PD-PK: 0.11942274305555556\n",
      "2024-12-05 23:42:55,319 - INFO - PD-AK: -0.04242621527777779\n",
      "2024-12-05 23:42:55,319 - INFO - PD-5Z: 0.009418402777777835\n",
      "2024-12-05 23:42:55,320 - INFO - CT-BI: -9.259259259253305e-05\n",
      "2024-12-05 23:42:55,320 - INFO - CT-PK: 0.0028674768518519578\n",
      "2024-12-05 23:42:55,320 - INFO - CT-AK: 0.0031394675925926485\n",
      "2024-12-05 23:42:55,321 - INFO - CT-5Z: 0.004126157407407516\n",
      "2024-12-05 23:42:55,321 - INFO - BI-PK: -0.07249614197530874\n",
      "2024-12-05 23:42:55,322 - INFO - BI-AK: 0.05869984567901232\n",
      "2024-12-05 23:42:55,322 - INFO - BI-5Z: 0.08786265432098761\n",
      "2024-12-05 23:42:55,322 - INFO - PK-AK: 0.04952015817901234\n",
      "2024-12-05 23:42:55,323 - INFO - PK-5Z: 0.18655189043209897\n",
      "2024-12-05 23:42:55,323 - INFO - AK-5Z: -0.06559124228395063\n",
      "2024-12-05 23:43:04,572 - INFO - \n",
      "Synergy scores (bliss):\n",
      "2024-12-05 23:43:04,573 - INFO - PI-PD: -0.07469666280864196\n",
      "2024-12-05 23:43:04,574 - INFO - PI-CT: 0.0037080439814816124\n",
      "2024-12-05 23:43:04,574 - INFO - PI-BI: 0.025728684413580227\n",
      "2024-12-05 23:43:04,574 - INFO - PI-PK: 0.022124083719135768\n",
      "2024-12-05 23:43:04,575 - INFO - PI-AK: 0.06542679398148155\n",
      "2024-12-05 23:43:04,575 - INFO - PI-5Z: -0.03262586805555545\n",
      "2024-12-05 23:43:04,575 - INFO - PD-CT: 0.004033564814814872\n",
      "2024-12-05 23:43:04,575 - INFO - PD-BI: -0.0020273919753087677\n",
      "2024-12-05 23:43:04,576 - INFO - PD-PK: 0.12402295524691354\n",
      "2024-12-05 23:43:04,576 - INFO - PD-AK: -0.035896990740740486\n",
      "2024-12-05 23:43:04,576 - INFO - PD-5Z: 0.011406250000000173\n",
      "2024-12-05 23:43:04,576 - INFO - CT-BI: -9.837962962944147e-05\n",
      "2024-12-05 23:43:04,576 - INFO - CT-PK: 0.0028616898148148273\n",
      "2024-12-05 23:43:04,576 - INFO - CT-AK: 0.003107638888888986\n",
      "2024-12-05 23:43:04,576 - INFO - CT-5Z: 0.004114583333333477\n",
      "2024-12-05 23:43:04,577 - INFO - BI-PK: -0.0682166280864197\n",
      "2024-12-05 23:43:04,577 - INFO - BI-AK: 0.06309606481481478\n",
      "2024-12-05 23:43:04,577 - INFO - BI-5Z: 0.08963541666666663\n",
      "2024-12-05 23:43:04,577 - INFO - PK-AK: 0.05581307870370378\n",
      "2024-12-05 23:43:04,577 - INFO - PK-5Z: 0.1815017361111111\n",
      "2024-12-05 23:43:04,577 - INFO - AK-5Z: -0.0587326388888888\n"
     ]
    },
    {
     "data": {
      "image/png": "[encoded data removed]",
      "text/plain": [
       "<Figure size 800x600 with 1 Axes>"
      ]
     },
     "metadata": {},
     "output_type": "display_data"
    }
   ],
   "source": [
    "sampling_with_ci(boolean_models=best_boolean_models_calibrated, observed_synergy_scores=observed_synergy_scores, model_outputs=model_outputs, \n",
    "                 perturbations=perturbations,synergy_method='bliss', repeat_time=3, sub_ratio=0.8, boot_n=100, confidence_level= 0.95, \n",
    "                 plot=True, plot_discrete=False, save_result=False, with_seeds=True, seeds=42)"
   ]
  }
 ],
 "metadata": {
  "kernelspec": {
   "display_name": "Python 3 (ipykernel)",
   "language": "python",
   "name": "python3"
  },
  "language_info": {
   "codemirror_mode": {
    "name": "ipython",
    "version": 3
   },
   "file_extension": ".py",
   "mimetype": "text/x-python",
   "name": "python",
   "nbconvert_exporter": "python",
   "pygments_lexer": "ipython3",
   "version": "3.11.10"
  }
 },
 "nbformat": 4,
 "nbformat_minor": 5
}
