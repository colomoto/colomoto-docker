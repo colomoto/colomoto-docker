{
 "cells": [
  {
   "cell_type": "markdown",
   "id": "fe6bffb7-a7dd-470b-91c0-0cd53abba721",
   "metadata": {},
   "source": [
    "# Tutorial for PyDrugLogics\n"
   ]
  },
  {
   "cell_type": "markdown",
   "id": "6a468c93-2d56-4519-830b-87a8e561dee5",
   "metadata": {},
   "source": [
    "This tutorial demonstrates the use of PyDruglogics for optimizing of Boolean Models and predict drug synergy effects.\n",
    "The PyDruglogics pipeline implementation on based on: [Å. Flobak, J. Zobolas (2023): Fine tuning a logical model of cancer cells to predict drug synergies: combining manual curation and automated parameterization](https://www.frontiersin.org/journals/systems-biology/articles/10.3389/fsysb.2023.1252961/full).\n",
    "\n",
    "More information about the package on [GitHub](https://github.com/druglogics/pydruglogics).\n",
    "\n",
    "### Core Features\n",
    "- Construct Boolean Model from `.sif` file\n",
    "- Optimize Boolean Model\n",
    "- Generate perturbed models\n",
    "- Evaluate drug synergies\n"
   ]
  },
  {
   "cell_type": "markdown",
   "id": "87847983-f04e-4525-8060-49906ad7fdfa",
   "metadata": {},
   "source": [
    "## Initialization, loading files"
   ]
  },
  {
   "cell_type": "markdown",
   "id": "9c4cc708-e284-4aa9-8080-d3f594391f4e",
   "metadata": {},
   "source": [
    "The parameters and the initialization of the pipeline are summarized in this section. These are the neccesary components for constructing, training, and applying predictive models effectively."
   ]
  },
  {
   "cell_type": "code",
   "execution_count": 1,
   "id": "034f3848-b938-4907-a62c-9e9fb3948b12",
   "metadata": {},
   "outputs": [
    {
     "ename": "ModuleNotFoundError",
     "evalue": "No module named 'pydruglogics'",
     "output_type": "error",
     "traceback": [
      "\u001B[0;31m---------------------------------------------------------------------------\u001B[0m",
      "\u001B[0;31mModuleNotFoundError\u001B[0m                       Traceback (most recent call last)",
      "Cell \u001B[0;32mIn[1], line 1\u001B[0m\n\u001B[0;32m----> 1\u001B[0m \u001B[38;5;28;01mimport\u001B[39;00m \u001B[38;5;21;01mpydruglogics\u001B[39;00m\n",
      "\u001B[0;31mModuleNotFoundError\u001B[0m: No module named 'pydruglogics'"
     ]
    }
   ],
   "source": [
    "import pydruglogics"
   ]
  },
  {
   "cell_type": "code",
   "execution_count": 2,
   "id": "0e18a2c6-f896-4fe4-b08d-64335963a2a1",
   "metadata": {},
   "outputs": [
    {
     "ename": "ModuleNotFoundError",
     "evalue": "No module named 'pydruglogics'",
     "output_type": "error",
     "traceback": [
      "\u001B[0;31m---------------------------------------------------------------------------\u001B[0m",
      "\u001B[0;31mModuleNotFoundError\u001B[0m                       Traceback (most recent call last)",
      "Cell \u001B[0;32mIn[2], line 1\u001B[0m\n\u001B[0;32m----> 1\u001B[0m \u001B[38;5;28;01mfrom\u001B[39;00m \u001B[38;5;21;01mpydruglogics\u001B[39;00m\u001B[38;5;21;01m.\u001B[39;00m\u001B[38;5;21;01mmodel\u001B[39;00m\u001B[38;5;21;01m.\u001B[39;00m\u001B[38;5;21;01mBooleanModel\u001B[39;00m \u001B[38;5;28;01mimport\u001B[39;00m BooleanModel\n\u001B[1;32m      2\u001B[0m \u001B[38;5;28;01mfrom\u001B[39;00m \u001B[38;5;21;01mpydruglogics\u001B[39;00m\u001B[38;5;21;01m.\u001B[39;00m\u001B[38;5;21;01mmodel\u001B[39;00m\u001B[38;5;21;01m.\u001B[39;00m\u001B[38;5;21;01mInteractionModel\u001B[39;00m \u001B[38;5;28;01mimport\u001B[39;00m InteractionModel\n\u001B[1;32m      3\u001B[0m \u001B[38;5;28;01mfrom\u001B[39;00m \u001B[38;5;21;01mpydruglogics\u001B[39;00m\u001B[38;5;21;01m.\u001B[39;00m\u001B[38;5;21;01minput\u001B[39;00m\u001B[38;5;21;01m.\u001B[39;00m\u001B[38;5;21;01mModelOutputs\u001B[39;00m \u001B[38;5;28;01mimport\u001B[39;00m ModelOutputs\n",
      "\u001B[0;31mModuleNotFoundError\u001B[0m: No module named 'pydruglogics'"
     ]
    }
   ],
   "source": [
    "from pydruglogics.model.BooleanModel import BooleanModel\n",
    "from pydruglogics.model.InteractionModel import InteractionModel\n",
    "from pydruglogics.input.ModelOutputs import ModelOutputs\n",
    "from pydruglogics.input.TrainingData import TrainingData\n",
    "from pydruglogics.input.Perturbations import Perturbation"
   ]
  },
  {
   "cell_type": "markdown",
   "id": "0efb70d9-9122-4889-9796-c6a0418d593b",
   "metadata": {},
   "source": [
    "#### Model Outputs\n",
    "Defines the network nodes and their respective weights used to calculate a global output response for the Boolean Model. \\\n",
    "**Initialization:**\n",
    "1. **From a File**: Load target states from a file that specifies node-state pairs.\n",
    "2. **From a Dictionary**: Define directly using a dictionary where each key-value pair represents a node and its integer weight."
   ]
  },
  {
   "cell_type": "code",
   "execution_count": 3,
   "id": "8c7cf343-02b2-4ad7-80e8-14b5c995fc70",
   "metadata": {},
   "outputs": [
    {
     "name": "stdout",
     "output_type": "stream",
     "text": [
      "2024-11-20 12:07:55,696 - INFO - Model outputs are initialized from dictionary.\n"
     ]
    }
   ],
   "source": [
    "model_outputs_dict = {\n",
    "        \"RSK_f\": 1.0,\n",
    "        \"MYC\": 1.0,\n",
    "        \"TCF7_f\": 1.0,\n",
    "        \"CASP8\": -1.0,\n",
    "        \"CASP9\": -1.0,\n",
    "        \"FOXO_f\": -1.0\n",
    "    }\n",
    "model_outputs = ModelOutputs(input_dictionary=model_outputs_dict)"
   ]
  },
  {
   "cell_type": "code",
   "execution_count": 4,
   "id": "05540493-7aa3-4051-8614-3e12c7b8bc15",
   "metadata": {},
   "outputs": [
    {
     "name": "stdout",
     "output_type": "stream",
     "text": [
      "Model output: RSK_f, weight: 1.0\n",
      "Model output: MYC, weight: 1.0\n",
      "Model output: TCF7_f, weight: 1.0\n",
      "Model output: CASP8, weight: -1.0\n",
      "Model output: CASP9, weight: -1.0\n",
      "Model output: FOXO_f, weight: -1.0\n"
     ]
    }
   ],
   "source": [
    "model_outputs.print()"
   ]
  },
  {
   "cell_type": "markdown",
   "id": "d88d10e7-9190-4206-96cc-0cb127629a8d",
   "metadata": {},
   "source": [
    "#### Training Data\n",
    "Inclues condition-response pairs (observations) and a weight number used to calculate the weighted average fitness of the Boolean Models.\\\n",
    "**Initialization:**"
   ]
  },
  {
   "cell_type": "markdown",
   "id": "1c2cc120-2d32-4073-87bb-cdfcc427d334",
   "metadata": {},
   "source": [
    "1. **From a File**: Load target states from a structured file."
   ]
  },
  {
   "cell_type": "code",
   "execution_count": 5,
   "id": "2a78dc9a-8d0e-4dc6-8258-d4c7d8255c6d",
   "metadata": {},
   "outputs": [
    {
     "name": "stdout",
     "output_type": "stream",
     "text": [
      "2024-11-20 12:07:55,720 - INFO - Training data loaded from file: training.\n"
     ]
    }
   ],
   "source": [
    "training_data_file = 'training'\n",
    "training_data = TrainingData(input_file=training_data_file)"
   ]
  },
  {
   "cell_type": "markdown",
   "id": "841ee427-d93a-4d1a-8998-af2bedc8e5ac",
   "metadata": {},
   "source": [
    "2. **From a Dictionary**: Define directly using a dictionary."
   ]
  },
  {
   "cell_type": "code",
   "execution_count": 6,
   "id": "6bd8c296-a08f-42b8-8b58-d75fa6d85179",
   "metadata": {},
   "outputs": [],
   "source": [
    " observations = [([\"CASP3:0\", \"CASP8:0\",\"CASP9:0\",\"FOXO_f:0\",\"RSK_f:1\",\"CCND1:1\",\n",
    "                      \"MYC:1\",\"RAC_f:1\",\"JNK_f:0\",\"MAPK14:0\",\"AKT_f:1\",\"MMP_f:1\",\n",
    "                      \"PTEN:0\",\"ERK_f:1\",\"KRAS:1\",\"PIK3CA:1\",\"S6K_f:1\",\"GSK3_f:0\",\n",
    "                      \"TP53:0\",\"BAX:0\",\"BCL2:1\",\"CTNNB1:1\",\"TCF7_f:1\",\"NFKB_f:1\"], 1.0)]"
   ]
  },
  {
   "cell_type": "code",
   "execution_count": 7,
   "id": "6ccf4586-5946-4a1a-9d3f-7978b13b1fdb",
   "metadata": {},
   "outputs": [
    {
     "name": "stdout",
     "output_type": "stream",
     "text": [
      "2024-11-20 12:07:55,741 - INFO - Training data initialized from list.\n"
     ]
    }
   ],
   "source": [
    "training_data = TrainingData(observations=observations)"
   ]
  },
  {
   "cell_type": "code",
   "execution_count": 8,
   "id": "763da94b-803d-4967-a55f-bfa886d56a3e",
   "metadata": {},
   "outputs": [
    {
     "name": "stdout",
     "output_type": "stream",
     "text": [
      "Observation:\n",
      "Condition: -\n",
      "Response: CASP3:0, CASP8:0, CASP9:0, FOXO_f:0, RSK_f:1, CCND1:1, MYC:1, RAC_f:1, JNK_f:0, MAPK14:0, AKT_f:1, MMP_f:1, PTEN:0, ERK_f:1, KRAS:1, PIK3CA:1, S6K_f:1, GSK3_f:0, TP53:0, BAX:0, BCL2:1, CTNNB1:1, TCF7_f:1, NFKB_f:1\n",
      "Weight: 1.0\n",
      "\n"
     ]
    }
   ],
   "source": [
    "training_data.print()"
   ]
  },
  {
   "cell_type": "markdown",
   "id": "c1c0a36c-e7c2-45de-9281-95fe636655e4",
   "metadata": {},
   "source": [
    "#### Perturbations\n",
    "Defines the drugs and the perturbations applied to the Boolean Models, affecting the nodes in the network.\n",
    "\n",
    "Initialization **From Dictionary**:\n",
    "1. **Define** a `drug_data` **and** `perturbation_data`: Provide a list of drugs with their name, targets, and effect (Options:  `inhibits` (default) or `activates`). Specify a list of perturbations, where each entry is a drug combination.\n",
    "\n",
    "3. **Define only** `drug_data`: If no `perturbation_data` is given, perturbations will be generated automatically by creating all possible single-drug and two-drug combinations from the drug panel."
   ]
  },
  {
   "cell_type": "code",
   "execution_count": 9,
   "id": "e7c09258-4d82-45a6-b01f-c8d8f61a5cbd",
   "metadata": {},
   "outputs": [],
   "source": [
    " drug_data = [\n",
    "        ['PI', 'PIK3CA', 'inhibits'],\n",
    "        ['PD', 'MEK_f'],\n",
    "        ['CT','GSK3_f'],\n",
    "        ['BI', 'MAPK14'],\n",
    "        ['PK', 'CTNNB1'],\n",
    "        ['AK', 'AKT_f'],\n",
    "        ['5Z', 'MAP3K7']\n",
    "    ]"
   ]
  },
  {
   "cell_type": "markdown",
   "id": "839c4ddc-9c92-4bbd-9993-0174ade55c53",
   "metadata": {},
   "source": [
    "**Note**: The `perturbation_data` is **optional**. If only the `drug_data` is given, all perturbations are calculated."
   ]
  },
  {
   "cell_type": "code",
   "execution_count": 10,
   "id": "1c4e617c-3585-44d8-b607-369621b26b11",
   "metadata": {},
   "outputs": [],
   "source": [
    "perturbation_data = [\n",
    "        ['PI'],\n",
    "        ['PD'],\n",
    "        ['CT'],\n",
    "        ['BI'],\n",
    "        ['PK'],\n",
    "        ['AK'],\n",
    "        ['5Z'],\n",
    "        ['PI', 'PD'],\n",
    "        ['PI', 'CT'],\n",
    "        ['PI', 'BI'],\n",
    "        ['PI', 'PK'],\n",
    "        ['PI', 'AK'],\n",
    "        ['PI', '5Z'],\n",
    "        ['PD', 'CT'],\n",
    "        ['PD', 'BI'],\n",
    "        ['PD', 'PK'],\n",
    "        ['PD', 'AK'],\n",
    "        ['PD', '5Z'],\n",
    "        ['CT', 'BI'],\n",
    "        ['CT', 'PK'],\n",
    "        ['CT', 'AK'],\n",
    "        ['CT', '5Z'],\n",
    "        ['BI', 'PK'],\n",
    "        ['BI', 'AK'],\n",
    "        ['BI', '5Z'],\n",
    "        ['PK', 'AK'],\n",
    "        ['PK', '5Z'],\n",
    "        ['AK', '5Z']]"
   ]
  },
  {
   "cell_type": "code",
   "execution_count": 11,
   "id": "1a613933-db52-44f6-a2e3-7aad1894b635",
   "metadata": {},
   "outputs": [
    {
     "name": "stdout",
     "output_type": "stream",
     "text": [
      "2024-11-20 12:07:55,778 - INFO - Drug panel data initialized from list.\n",
      "2024-11-20 12:07:55,778 - INFO - Drug perturbations initialized.\n"
     ]
    }
   ],
   "source": [
    "perturbations = Perturbation(drug_data=drug_data, perturbation_data=perturbation_data)"
   ]
  },
  {
   "cell_type": "code",
   "execution_count": 12,
   "id": "fa1061c4-3cec-4298-891a-8a26cf9c632c",
   "metadata": {},
   "outputs": [
    {
     "name": "stdout",
     "output_type": "stream",
     "text": [
      "[PI (targets: PIK3CA)]\n",
      "[PD (targets: MEK_f)]\n",
      "[CT (targets: GSK3_f)]\n",
      "[BI (targets: MAPK14)]\n",
      "[PK (targets: CTNNB1)]\n",
      "[AK (targets: AKT_f)]\n",
      "[5Z (targets: MAP3K7)]\n",
      "[PI (targets: PIK3CA), PD (targets: MEK_f)]\n",
      "[PI (targets: PIK3CA), CT (targets: GSK3_f)]\n",
      "[PI (targets: PIK3CA), BI (targets: MAPK14)]\n",
      "[PI (targets: PIK3CA), PK (targets: CTNNB1)]\n",
      "[PI (targets: PIK3CA), AK (targets: AKT_f)]\n",
      "[PI (targets: PIK3CA), 5Z (targets: MAP3K7)]\n",
      "[PD (targets: MEK_f), CT (targets: GSK3_f)]\n",
      "[PD (targets: MEK_f), BI (targets: MAPK14)]\n",
      "[PD (targets: MEK_f), PK (targets: CTNNB1)]\n",
      "[PD (targets: MEK_f), AK (targets: AKT_f)]\n",
      "[PD (targets: MEK_f), 5Z (targets: MAP3K7)]\n",
      "[CT (targets: GSK3_f), BI (targets: MAPK14)]\n",
      "[CT (targets: GSK3_f), PK (targets: CTNNB1)]\n",
      "[CT (targets: GSK3_f), AK (targets: AKT_f)]\n",
      "[CT (targets: GSK3_f), 5Z (targets: MAP3K7)]\n",
      "[BI (targets: MAPK14), PK (targets: CTNNB1)]\n",
      "[BI (targets: MAPK14), AK (targets: AKT_f)]\n",
      "[BI (targets: MAPK14), 5Z (targets: MAP3K7)]\n",
      "[PK (targets: CTNNB1), AK (targets: AKT_f)]\n",
      "[PK (targets: CTNNB1), 5Z (targets: MAP3K7)]\n",
      "[AK (targets: AKT_f), 5Z (targets: MAP3K7)]\n"
     ]
    }
   ],
   "source": [
    "perturbations.print()"
   ]
  },
  {
   "cell_type": "markdown",
   "id": "b64a7782-fadc-40dd-8e07-ca472453ba1b",
   "metadata": {},
   "source": [
    "### Initialize Boolean Model\n",
    "A `BooleanModel` defines the network and logical rules for node interactions, used for generating predictions and simulations.\\\n",
    "There are **two ways** for the initialization:"
   ]
  },
  {
   "cell_type": "markdown",
   "id": "d5413a26-8fd6-4d64-a21b-1541e3ff7247",
   "metadata": {},
   "source": [
    "#### Initialize Boolean Model from `.sif` file"
   ]
  },
  {
   "cell_type": "markdown",
   "id": "fbd69b30-b1d3-4fbe-a5a4-476db123f392",
   "metadata": {},
   "source": [
    "##### Creating an `InteractionModel`, that can be initialized:\n",
    "  - `interaction_file` (required): The path to the `.sif` file.\n",
    "    \n",
    "  - `model_name`: name of the model, by default the `.sif` file name will be set.\n",
    "\n",
    "  - `remove_self_regulated_interactions`: Remove self regulated interactions. The default is `False`.\n",
    "\n",
    "  - `remove_inputs`: Trim inputs from the model. The deafult is `False`.\n",
    "\n",
    "  - `remove_outputs`: Trim ouputs from the model. The default is `False`.\n",
    "##### Creating a `BooleanModel`, that can be initialized:\n",
    "  - `model` (required): Interaction Model\n",
    "\n",
    "  - `model_name`: The name of the model, by default the `.sif` file name will be set.\n",
    "\n",
    "  - `mutation_type`: There are 3 options: `topology`, `mixed`, `balanced`. The default is `balanced`.\n",
    "\n",
    "  - `attractor_tool`: There are 2 options: `mpbn` or `pyboolnet` The default is `mpbn`. More infotmation [here](https://mpbn.readthedocs.io/) about MPBN (Most Permissive Boolean Networks) and more information [here](https://pyboolnet.readthedocs.io/en/master/) about PyBoolNet.\n",
    "\n",
    "  - `attractor_type`: There are 2 options: `stable_states` or `trapspaces`. The default is `stable_states`.\n"
   ]
  },
  {
   "cell_type": "code",
   "execution_count": 13,
   "id": "2276328d-465e-40d3-a006-50a04a24a8dc",
   "metadata": {},
   "outputs": [
    {
     "name": "stdout",
     "output_type": "stream",
     "text": [
      "2024-11-20 12:07:55,799 - INFO - Interactions loaded successfully\n",
      "Target: Antisurvival, activating regulators: CASP3, FOXO_f\n",
      "Target: CASP3, activating regulators: CASP9, CASP8\n",
      "Target: FOXO_f, inhibitory regulators: NLK, AKT_f\n",
      "Target: Prosurvival, activating regulators: CCND1, MYC\n",
      "Target: CCND1, activating regulators: RSK_f, TCF7_f\n",
      "Target: MYC, activating regulators: TCF7_f\n",
      "Target: RAC_f, activating regulators: DVL_f, mTORC2_c\n",
      "Target: mTORC2_c, activating regulators: TSC_f, inhibitory regulators: S6K_f\n",
      "Target: DVL_f, activating regulators: FZD_f\n",
      "Target: MAP3K4, activating regulators: RAC_f\n",
      "Target: MAP3K11, activating regulators: RAC_f\n",
      "Target: MAP2K4, activating regulators: MAP3K11, GRAP2, MAP3K4, MAP3K7\n",
      "Target: MAP3K7, activating regulators: TAB_f\n",
      "Target: GRAP2, inhibitory regulators: MAPK14\n",
      "Target: MAP2K7, activating regulators: MAP3K7, GRAP2\n",
      "Target: JNK_f, activating regulators: MAP2K4, MAP2K7, inhibitory regulators: DUSP1\n",
      "Target: DUSP1, activating regulators: MSK_f, MAPK14\n",
      "Target: MAPK14, activating regulators: MAP2K4, MAP2K3, inhibitory regulators: DUSP1\n",
      "Target: MAP2K3, activating regulators: MAP3K5, MAP3K7\n",
      "Target: MAP3K5, inhibitory regulators: AKT_f\n",
      "Target: AKT_f, activating regulators: PDPK1, mTORC2_c\n",
      "Target: TAB_f, inhibitory regulators: MAPK14\n",
      "Target: MSK_f, activating regulators: ERK_f, MAPK14\n",
      "Target: RTPK_f, activating regulators: MMP_f, RTPK_g, inhibitory regulators: MEK_f, MAPK14\n",
      "Target: RTPK_g, activating regulators: FOXO_f\n",
      "Target: MEK_f, activating regulators: MAP3K8, RAF_f, inhibitory regulators: ERK_f\n",
      "Target: SHC1, activating regulators: RTPK_f, inhibitory regulators: PTEN\n",
      "Target: PTEN, activating regulators: PTEN_g, inhibitory regulators: GSK3_f\n",
      "Target: GRB2, activating regulators: SHC1\n",
      "Target: SOS1, activating regulators: GRB2, inhibitory regulators: ERK_f\n",
      "Target: ERK_f, activating regulators: MEK_f, inhibitory regulators: DUSP6\n",
      "Target: KRAS, activating regulators: PTPN11, SOS1\n",
      "Target: PTPN11, activating regulators: GAB_f\n",
      "Target: RAF_f, activating regulators: KRAS, inhibitory regulators: RHEB, ERK_f, AKT_f\n",
      "Target: RHEB, inhibitory regulators: TSC_f\n",
      "Target: MAP3K8, activating regulators: IKBKB\n",
      "Target: DUSP6, activating regulators: mTORC1_c, ERK_f\n",
      "Target: mTORC1_c, activating regulators: RSK_f, RHEB, inhibitory regulators: AKT1S1\n",
      "Target: GAB_f, activating regulators: GRB2, inhibitory regulators: ERK_f\n",
      "Target: RSK_f, activating regulators: PDPK1, ERK_f\n",
      "Target: PDPK1, activating regulators: PIK3CA, inhibitory regulators: PTEN\n",
      "Target: PIK3CA, activating regulators: GAB_f, KRAS, IRS1\n",
      "Target: IRS1, inhibitory regulators: S6K_f, IKBKB, ERK_f\n",
      "Target: S6K_f, activating regulators: mTORC1_c, PDPK1\n",
      "Target: IKBKB, activating regulators: MAP3K7, inhibitory regulators: TP53\n",
      "Target: PTEN_g, activating regulators: EGR1\n",
      "Target: GSK3_f, inhibitory regulators: ERK_f, MAPK14, RSK_f, AKT_f, LRP_f, DVL_f, S6K_f\n",
      "Target: TSC_f, activating regulators: GSK3_f, inhibitory regulators: RSK_f, ERK_f, IKBKB, AKT_f\n",
      "Target: TP53, activating regulators: MAPK14, inhibitory regulators: MDM2\n",
      "Target: AKT1S1, inhibitory regulators: AKT_f\n",
      "Target: MDM2, activating regulators: MDM2_g, AKT_f, inhibitory regulators: S6K_f\n",
      "Target: MDM2_g, activating regulators: NFKB_f, TP53\n",
      "Target: BAX, activating regulators: TP53\n",
      "Target: CYCS, activating regulators: BAX, inhibitory regulators: BCL2\n",
      "Target: BCL2, inhibitory regulators: BAD\n",
      "Target: BAD, inhibitory regulators: RSK_f, AKT_f\n",
      "Target: NLK, activating regulators: MAP3K7\n",
      "Target: CASP9, activating regulators: CYCS\n",
      "Target: CASP8, inhibitory regulators: CFLAR\n",
      "Target: CFLAR, activating regulators: AKT_f, inhibitory regulators: ITCH\n",
      "Target: ITCH, activating regulators: JNK_f\n",
      "Target: FZD_f, inhibitory regulators: SFRP1\n",
      "Target: SFRP1, activating regulators: SFRP1_g\n",
      "Target: LRP_f, activating regulators: JNK_f, FZD_f, ERK_f, MAPK14, inhibitory regulators: DKK_f\n",
      "Target: DKK_f, activating regulators: DKK_g\n",
      "Target: AXIN1, inhibitory regulators: LRP_f\n",
      "Target: CK1_f, inhibitory regulators: LRP_f\n",
      "Target: BTRC, activating regulators: GSK3_f, AXIN1, CK1_f\n",
      "Target: CTNNB1, activating regulators: CHUK, inhibitory regulators: BTRC\n",
      "Target: CHUK, activating regulators: AKT_f\n",
      "Target: TCF7_f, activating regulators: CTNNB1, inhibitory regulators: NLK\n",
      "Target: EGR1, inhibitory regulators: TCF7_f\n",
      "Target: DKK_g, activating regulators: TCF7_f, inhibitory regulators: MYC\n",
      "Target: SFRP1_g, inhibitory regulators: MYC\n",
      "Target: NFKB_f, activating regulators: CHUK, IKBKB, MSK_f\n",
      "Target: LEF, activating regulators: CTNNB1\n",
      "Target: MMP_f, activating regulators: LEF\n",
      "\n"
     ]
    }
   ],
   "source": [
    "network_sif = 'network.sif'\n",
    "model = InteractionModel(interactions_file=network_sif)\n",
    "model.print()"
   ]
  },
  {
   "cell_type": "code",
   "execution_count": 14,
   "id": "91f47c2e-cca7-4986-afaf-175c986e7824",
   "metadata": {},
   "outputs": [
    {
     "name": "stdout",
     "output_type": "stream",
     "text": [
      "2024-11-20 12:07:55,810 - INFO - Boolean Model from Interaction Model is created.\n"
     ]
    }
   ],
   "source": [
    "boolean_model_sif = BooleanModel(model=model, model_name='test1',\n",
    "                                     mutation_type='balanced', attractor_tool='mpbn', attractor_type='stable_states')"
   ]
  },
  {
   "cell_type": "code",
   "execution_count": 15,
   "id": "09c328ac-495d-445b-9edc-190e13cfe112",
   "metadata": {},
   "outputs": [
    {
     "name": "stdout",
     "output_type": "stream",
     "text": [
      "Antisurvival *= (CASP3 or FOXO_f)\n",
      "CASP3 *= (CASP9 or CASP8)\n",
      "FOXO_f *= not (NLK or AKT_f)\n",
      "Prosurvival *= (CCND1 or MYC)\n",
      "CCND1 *= (RSK_f or TCF7_f)\n",
      "MYC *= (TCF7_f)\n",
      "RAC_f *= (DVL_f or mTORC2_c)\n",
      "mTORC2_c *= (TSC_f) and not (S6K_f)\n",
      "DVL_f *= (FZD_f)\n",
      "MAP3K4 *= (RAC_f)\n",
      "MAP3K11 *= (RAC_f)\n",
      "MAP2K4 *= (MAP3K11 or GRAP2 or MAP3K4 or MAP3K7)\n",
      "MAP3K7 *= (TAB_f)\n",
      "GRAP2 *= not (MAPK14)\n",
      "MAP2K7 *= (MAP3K7 or GRAP2)\n",
      "JNK_f *= (MAP2K4 or MAP2K7) and not (DUSP1)\n",
      "DUSP1 *= (MSK_f or MAPK14)\n",
      "MAPK14 *= (MAP2K4 or MAP2K3) and not (DUSP1)\n",
      "MAP2K3 *= (MAP3K5 or MAP3K7)\n",
      "MAP3K5 *= not (AKT_f)\n",
      "AKT_f *= (PDPK1 or mTORC2_c)\n",
      "TAB_f *= not (MAPK14)\n",
      "MSK_f *= (ERK_f or MAPK14)\n",
      "RTPK_f *= (MMP_f or RTPK_g) and not (MEK_f or MAPK14)\n",
      "RTPK_g *= (FOXO_f)\n",
      "MEK_f *= (MAP3K8 or RAF_f) and not (ERK_f)\n",
      "SHC1 *= (RTPK_f) and not (PTEN)\n",
      "PTEN *= (PTEN_g) and not (GSK3_f)\n",
      "GRB2 *= (SHC1)\n",
      "SOS1 *= (GRB2) and not (ERK_f)\n",
      "ERK_f *= (MEK_f) and not (DUSP6)\n",
      "KRAS *= (PTPN11 or SOS1)\n",
      "PTPN11 *= (GAB_f)\n",
      "RAF_f *= (KRAS) and not (RHEB or ERK_f or AKT_f)\n",
      "RHEB *= not (TSC_f)\n",
      "MAP3K8 *= (IKBKB)\n",
      "DUSP6 *= (mTORC1_c or ERK_f)\n",
      "mTORC1_c *= (RSK_f or RHEB) and not (AKT1S1)\n",
      "GAB_f *= (GRB2) and not (ERK_f)\n",
      "RSK_f *= (PDPK1 or ERK_f)\n",
      "PDPK1 *= (PIK3CA) and not (PTEN)\n",
      "PIK3CA *= (GAB_f or KRAS or IRS1)\n",
      "IRS1 *= not (S6K_f or IKBKB or ERK_f)\n",
      "S6K_f *= (mTORC1_c or PDPK1)\n",
      "IKBKB *= (MAP3K7) and not (TP53)\n",
      "PTEN_g *= (EGR1)\n",
      "GSK3_f *= not (ERK_f or MAPK14 or RSK_f or AKT_f or LRP_f or DVL_f or S6K_f)\n",
      "TSC_f *= (GSK3_f) and not (RSK_f or ERK_f or IKBKB or AKT_f)\n",
      "TP53 *= (MAPK14) and not (MDM2)\n",
      "AKT1S1 *= not (AKT_f)\n",
      "MDM2 *= (MDM2_g or AKT_f) and not (S6K_f)\n",
      "MDM2_g *= (NFKB_f or TP53)\n",
      "BAX *= (TP53)\n",
      "CYCS *= (BAX) and not (BCL2)\n",
      "BCL2 *= not (BAD)\n",
      "BAD *= not (RSK_f or AKT_f)\n",
      "NLK *= (MAP3K7)\n",
      "CASP9 *= (CYCS)\n",
      "CASP8 *= not (CFLAR)\n",
      "CFLAR *= (AKT_f) and not (ITCH)\n",
      "ITCH *= (JNK_f)\n",
      "FZD_f *= not (SFRP1)\n",
      "SFRP1 *= (SFRP1_g)\n",
      "LRP_f *= (JNK_f or FZD_f or ERK_f or MAPK14) and not (DKK_f)\n",
      "DKK_f *= (DKK_g)\n",
      "AXIN1 *= not (LRP_f)\n",
      "CK1_f *= not (LRP_f)\n",
      "BTRC *= (GSK3_f or AXIN1 or CK1_f)\n",
      "CTNNB1 *= (CHUK) and not (BTRC)\n",
      "CHUK *= (AKT_f)\n",
      "TCF7_f *= (CTNNB1) and not (NLK)\n",
      "EGR1 *= not (TCF7_f)\n",
      "DKK_g *= (TCF7_f) and not (MYC)\n",
      "SFRP1_g *= not (MYC)\n",
      "NFKB_f *= (CHUK or IKBKB or MSK_f)\n",
      "LEF *= (CTNNB1)\n",
      "MMP_f *= (LEF)\n"
     ]
    }
   ],
   "source": [
    "boolean_model_sif.print()"
   ]
  },
  {
   "cell_type": "markdown",
   "id": "4998672f-eeac-46fc-9ed1-483145c30725",
   "metadata": {},
   "source": [
    "#### Initialize Boolean Model from `.bnet` file"
   ]
  },
  {
   "cell_type": "markdown",
   "id": "8a6df39c-2506-4f9e-ae62-ad8042aa4c7a",
   "metadata": {},
   "source": [
    "See more about the BoolNet format: [CoLoMoTo formats](http://colomoto.org/biolqm/doc/format-bnet.html) and [PyBoolNet Docs](https://pyboolnet.readthedocs.io/en/master/quickstart.html).\n",
    "\n",
    "**Creating a `BooleanModel`, that can be initialized:**\n",
    "  - `file` (required): The path to the `.bnet` file.\n",
    "    \n",
    "  - `model_name`: The name of the model.\n",
    "\n",
    "  - `mutation_type`: There are 3 options: `topology`, `mixed`, `balanced`. The default is balanced.\n",
    "\n",
    "  - `attractor_tool`: There are 2 options: `mpbn` or `pyboolnet` The default is `mpbn`.\n",
    "\n",
    "  - `attractor_type`:There are 2 options: `stable_states` or `trapspaces`. The default is `stable_states`."
   ]
  },
  {
   "cell_type": "code",
   "execution_count": 16,
   "id": "2755cb78-3ded-4c7c-991a-1fefbc29d7de",
   "metadata": {},
   "outputs": [
    {
     "name": "stdout",
     "output_type": "stream",
     "text": [
      "2024-11-20 12:07:55,837 - INFO - Boolean Model from .bnet file is created.\n"
     ]
    }
   ],
   "source": [
    "equations_bnet = 'network.bnet'\n",
    "boolean_model_bnet = BooleanModel(file=equations_bnet, model_name='test2',\n",
    "                                     mutation_type='balanced', attractor_tool='mpbn', attractor_type='trapspaces')"
   ]
  },
  {
   "cell_type": "markdown",
   "id": "bb9c8cc4-92a4-46eb-80c7-e6c2618bbc03",
   "metadata": {},
   "source": [
    "## Run Train and Predict with `executor`"
   ]
  },
  {
   "cell_type": "markdown",
   "id": "58d3a396-9a5a-4d89-8fa0-75cd82ca7e28",
   "metadata": {},
   "source": [
    "**Required Parameters:**\n",
    "- `BooleanModel`,\n",
    "- `ModelOutputs`,\n",
    "- `Perturbations`\n",
    "- Genetic Algorithm Arguments (`ga_args`)\n",
    "- Evolution Arguments (`ev_args`)\n",
    "- Observed Synergy Scores (`observed_synergy_scores`)\n",
    "\n",
    "**Optional Parameters:**\n",
    "- `Training Data`"
   ]
  },
  {
   "cell_type": "markdown",
   "id": "aedecfb1-1e31-474f-8ed5-16e4d69399ca",
   "metadata": {},
   "source": [
    "### Initialize Train and Predict\n",
    "\n",
    "To run training and prediction, have to set up `train_params` and `predict_params`, which define how the executor handles model training and simulations. Below, you can see how to initialize these parameters.\n",
    "\n"
   ]
  },
  {
   "cell_type": "markdown",
   "id": "1eac0dd9-e91d-401d-a01c-ece5eb760c51",
   "metadata": {},
   "source": [
    "#### 1. `train_params`\n",
    "This dictionary holds the configuration and input data necessary for training Boolean Models.\\\n",
    "Below is a detailed overview of its parameters:\n",
    "\n",
    "- `boolean_model`: The initial `BooleanModel` instance that serves as the starting point for training.\n",
    "\n",
    "\n",
    "- `model_outputs`: An instance of `ModelOutputs`.\n",
    "\n",
    "- `training_data` (optional): An instance of `TrainingData`.\n",
    "\n",
    "- `ga_args`: A dictionary of arguments and configurations for the genetic algorithm.\n",
    "\n",
    "- `ev_args`: A dictionary of arguments for the evolutionary strategy settings. It runs multiple times the genetic algorithm.\n",
    "\n",
    "- `save_best_models` (optional): Whether to save the models with the best fitness score to disk. By defult, `False`.\n",
    "  \n",
    "\n",
    "- `save_path` (optional): The path where the best models will be saved if `save_best_models` is `True`. (e.g. `'./models'`)."
   ]
  },
  {
   "cell_type": "markdown",
   "id": "cd032748-6cc1-4eac-98b0-6d2737b7852c",
   "metadata": {},
   "source": [
    "##### Arguments for the Genetic Algorithm (`ga_args`)\n",
    "The Evolution pipeline uses the `PyGAD` Genetic Algoritm . For more information about the `PyGAD.GA` initialization click [here](https://pygad.readthedocs.io/en/latest/pygad.html#init) ."
   ]
  },
  {
   "cell_type": "code",
   "execution_count": 17,
   "id": "ed2aa5e6-cba6-4858-a73b-12d9c084d01a",
   "metadata": {},
   "outputs": [],
   "source": [
    "ga_args = {\n",
    "        'num_generations': 20,\n",
    "        'num_parents_mating': 3,\n",
    "        'mutation_num_genes': 8,\n",
    "        'fitness_batch_size': 20,\n",
    "        'crossover_type': 'single_point',\n",
    "        'mutation_type': 'random',\n",
    "        'keep_elitism': 6,\n",
    "        # 'stop_criteria': 'reach_95'\n",
    "}"
   ]
  },
  {
   "cell_type": "markdown",
   "id": "85edfc01-f9c2-412c-9137-a97bc4320525",
   "metadata": {},
   "source": [
    "##### Arguments for the Evolution (`ev_args`)\n",
    "- `num_best_solutions`: Number of the best solutions per Evolution run.\n",
    "  \n",
    "- `num_of_runs`: Number of running the Evolution\n",
    "  \n",
    "- `num_of_cores`: Maximum number of cores for calculations\n",
    "  \n",
    "- `num_of_init_mutation`: Number of mutated genes in the initial population."
   ]
  },
  {
   "cell_type": "code",
   "execution_count": 18,
   "id": "d8ce1cde-5db0-43bf-b684-ca82ed2aeadc",
   "metadata": {},
   "outputs": [],
   "source": [
    "ev_args = {\n",
    "        'num_best_solutions': 3,\n",
    "        'num_of_runs': 50,\n",
    "        'num_of_cores': 4,\n",
    "        'num_of_init_mutation': 20\n",
    "}"
   ]
  },
  {
   "cell_type": "markdown",
   "id": "2344c717-bcec-48a7-bbef-8cccf2ce9219",
   "metadata": {},
   "source": [
    "##### Init `train_params`"
   ]
  },
  {
   "cell_type": "code",
   "execution_count": 19,
   "id": "ddd4d0ad-46d3-499c-8802-376b502646bc",
   "metadata": {},
   "outputs": [],
   "source": [
    "train_params = {\n",
    "        'boolean_model': boolean_model_bnet,\n",
    "        'model_outputs': model_outputs,\n",
    "        'training_data': training_data,\n",
    "        'ga_args': ga_args,\n",
    "        'ev_args': ev_args,\n",
    "        'save_best_models': False,\n",
    "        # 'save_path': './models'\n",
    "}"
   ]
  },
  {
   "cell_type": "markdown",
   "id": "0ec19f25-a187-4b70-bb90-8b3b09971354",
   "metadata": {},
   "source": [
    "#### 2. `predict_params`\n",
    "This dictionary holds the necessary configurations for the `predict` function, which simulates perturbed models and predicts drug synergies.\\\n",
    "Below is a detailed overview of its parameters:\n",
    "\n",
    "- `perturbations`: An instance of `Perturbation`.\n",
    "\n",
    "- `model_outputs`: An instance of `ModelOutputs`.\n",
    "\n",
    "- `observed_synergy_scores`: A list of observed synergy scores used to plot and evaluate the predictive accuracy of the models.\n",
    "\n",
    "- `synergy_method`: The method used to calculate synergy scores. Options: `'bliss'` (Bliss Independence) or `'hsa'` (Highest Single Agent). By default, `'bliss'`\n",
    "\n",
    "- `run_parallel` (optional): Whether to run it paralelly or serially, By default, `True`.\n",
    "\n",
    "- `plot_roc_pr_curves` (optional): Whether to plot the ROC and PR Curves when the predction finishes. By default, `True`.\n",
    "\n",
    "- `save_predictions` (optional):  Whether to save the predictions to disk after the simulations. By default, `False`.\n",
    "\n",
    "- `save_path` (optional): Specifies the path to save the predictions if `save_predictions` is `True` (e.g. `'./predictions'`).\n",
    "\n",
    "\n",
    "- **For running only predict on previously trained models from disk:**\n",
    "   - `model_directory`: Path to a directory containing pre-trained models to be loaded if `best_boolean_models` is not provided.(e.g., `'./models/models_2024_11_06_1130'`).\n",
    "\n",
    "   - `attractor_tool`: Specifies the tool used for attractor computation if the models are loaded from `model_directory` (e.g. `'mpbn'`).\n",
    "\n",
    "\n",
    "   - `attractor_type`: Specifies the tool used for attractor computation if the models are loaded from `model_directory` (e.g. `'stable_states'`).\n",
    " \n",
    "   -   `cores`: Number of CPU cores to use for parallel processing.(e.g. `4` for using four CPU cores).\n",
    "\n",
    "- **For running only predict on previously trained models during runtime:**\n",
    "\n",
    "   - `best_boolean_models`: retults of train (e.g. models = train(boolean_model=boolean_model_bnet, model_outputs=model_outputs, training_data=training_data, ga_args=ga_args, ev_args=ev_args)\n",
    "  \n",
    "   -   `cores`: Number of CPU cores to use for parallel processing.(e.g. `4` for using four CPU cores)."
   ]
  },
  {
   "cell_type": "markdown",
   "id": "1637050b-2de8-48de-82dc-e8e820501697",
   "metadata": {},
   "source": [
    "#####   Observed Synergy Scores\n",
    "List of observed synergy scores corresponding to the perturbations applied, used to evaluate model predictions. \\\n",
    "**Initialization**: From a list containing observed synergy scores."
   ]
  },
  {
   "cell_type": "code",
   "execution_count": 20,
   "id": "a27ed3ef-7f9d-41a5-be73-604d4c68e0fb",
   "metadata": {},
   "outputs": [],
   "source": [
    "observed_synergy_scores = [\"PI-PD\", \"PI-5Z\", \"PD-AK\", \"AK-5Z\"]"
   ]
  },
  {
   "cell_type": "markdown",
   "id": "0ac656dc-7cf6-4e7d-bbad-ffc6581c404d",
   "metadata": {},
   "source": [
    "##### Init `predict_param`"
   ]
  },
  {
   "cell_type": "code",
   "execution_count": 21,
   "id": "a31c4488-0dec-4fbc-9689-8ca01401852a",
   "metadata": {},
   "outputs": [],
   "source": [
    "predict_params = {\n",
    "        'perturbations': perturbations,\n",
    "        'model_outputs': model_outputs,\n",
    "        'observed_synergy_scores': observed_synergy_scores,\n",
    "        'synergy_method': 'bliss',\n",
    "        'plot_roc_pr_curves': True,\n",
    "        'save_predictions': False,\n",
    "        # 'save_path': './predictions',\n",
    "        # 'model_directory': './models/example_models',\n",
    "        # 'attractor_tool': 'mpbn',\n",
    "        # 'attractor_type':  'stable_states'\n",
    "    }"
   ]
  },
  {
   "cell_type": "markdown",
   "id": "d886b76d-acab-456a-8cea-434218da3dc4",
   "metadata": {},
   "source": [
    "### Run Train and Predict"
   ]
  },
  {
   "cell_type": "code",
   "execution_count": 22,
   "id": "71da568b-f943-475b-a57c-4c4b3fb36f24",
   "metadata": {},
   "outputs": [],
   "source": [
    "from pydruglogics.execution.Executor import execute, train, predict"
   ]
  },
  {
   "cell_type": "code",
   "execution_count": 23,
   "id": "9d9781ae-c8e3-4886-9702-4d01c9ebea81",
   "metadata": {},
   "outputs": [
    {
     "name": "stdout",
     "output_type": "stream",
     "text": [
      "2024-11-20 12:07:55,906 - INFO - Train started...\n",
      "2024-11-20 12:08:04,958 - INFO - Training finished.\n",
      "2024-11-20 12:08:04,959 - INFO - Train completed in 9.05 seconds.\n",
      "2024-11-20 12:08:04,959 - INFO - Predict started...\n",
      "2024-11-20 12:08:20,269 - INFO - \n",
      "Synergy scores (bliss):\n",
      "2024-11-20 12:08:20,271 - INFO - PI-PD: -0.08418595679012342\n",
      "2024-11-20 12:08:20,271 - INFO - PI-CT: 0.002967592592592605\n",
      "2024-11-20 12:08:20,272 - INFO - PI-BI: 0.02335030864197518\n",
      "2024-11-20 12:08:20,273 - INFO - PI-PK: 0.020891203703703565\n",
      "2024-11-20 12:08:20,274 - INFO - PI-AK: 0.06716280864197521\n",
      "2024-11-20 12:08:20,274 - INFO - PI-5Z: -0.036652777777777645\n",
      "2024-11-20 12:08:20,275 - INFO - PD-CT: 0.0032314814814814463\n",
      "2024-11-20 12:08:20,276 - INFO - PD-BI: 0.0024660493827158847\n",
      "2024-11-20 12:08:20,277 - INFO - PD-PK: 0.1255787037037036\n",
      "2024-11-20 12:08:20,277 - INFO - PD-AK: -0.043075617283950596\n",
      "2024-11-20 12:08:20,278 - INFO - PD-5Z: 0.00913888888888903\n",
      "2024-11-20 12:08:20,279 - INFO - CT-BI: -5.925925925931441e-05\n",
      "2024-11-20 12:08:20,280 - INFO - CT-PK: 0.0023055555555555607\n",
      "2024-11-20 12:08:20,281 - INFO - CT-AK: 0.0025129629629628836\n",
      "2024-11-20 12:08:20,281 - INFO - CT-5Z: 0.0032999999999999696\n",
      "2024-11-20 12:08:20,282 - INFO - BI-PK: -0.07506481481481486\n",
      "2024-11-20 12:08:20,283 - INFO - BI-AK: 0.05955987654320993\n",
      "2024-11-20 12:08:20,283 - INFO - BI-5Z: 0.083988888888889\n",
      "2024-11-20 12:08:20,284 - INFO - PK-AK: 0.05078240740740736\n",
      "2024-11-20 12:08:20,285 - INFO - PK-5Z: 0.18247222222222226\n",
      "2024-11-20 12:08:20,285 - INFO - AK-5Z: -0.06634999999999991\n",
      "2024-11-20 12:08:20,329 - INFO - Predicted Data with Observed Synergies for Model 1:\n",
      "2024-11-20 12:08:20,330 - INFO -    perturbation  synergy_score  observed\n",
      "0         PI-PD       0.084186         1\n",
      "1         BI-PK       0.075065         0\n",
      "2         AK-5Z       0.066350         1\n",
      "3         PD-AK       0.043076         1\n",
      "4         PI-5Z       0.036653         1\n",
      "5         CT-BI       0.000059         0\n",
      "6         CT-PK      -0.002306         0\n",
      "7         PD-BI      -0.002466         0\n",
      "8         CT-AK      -0.002513         0\n",
      "9         PI-CT      -0.002968         0\n",
      "10        PD-CT      -0.003231         0\n",
      "11        CT-5Z      -0.003300         0\n",
      "12        PD-5Z      -0.009139         0\n",
      "13        PI-PK      -0.020891         0\n",
      "14        PI-BI      -0.023350         0\n",
      "15        PK-AK      -0.050782         0\n",
      "16        BI-AK      -0.059560         0\n",
      "17        PI-AK      -0.067163         0\n",
      "18        BI-5Z      -0.083989         0\n",
      "19        PD-PK      -0.125579         0\n",
      "20        PK-5Z      -0.182472         0\n"
     ]
    },
    {
     "data": {
      "image/png": "[encoded data removed]",
      "text/plain": [
       "<Figure size 1200x500 with 2 Axes>"
      ]
     },
     "metadata": {},
     "output_type": "display_data"
    },
    {
     "name": "stdout",
     "output_type": "stream",
     "text": [
      "2024-11-20 12:08:20,508 - INFO - Predict completed in 15.55 seconds.\n",
      "2024-11-20 12:08:20,509 - INFO - Total runtime for training and prediction: 24.60 seconds\n"
     ]
    }
   ],
   "source": [
    "execute(train_params=train_params, predict_params=predict_params)"
   ]
  },
  {
   "cell_type": "markdown",
   "id": "cfd426c0-3b37-424d-b8b4-3deac4667f36",
   "metadata": {},
   "source": [
    "### Run Train"
   ]
  },
  {
   "cell_type": "code",
   "execution_count": 24,
   "id": "791cbb2e-2c6c-4670-a2cb-a50b39c8e7e8",
   "metadata": {},
   "outputs": [
    {
     "name": "stdout",
     "output_type": "stream",
     "text": [
      "2024-11-20 12:08:20,512 - INFO - Train started...\n",
      "2024-11-20 12:08:30,257 - INFO - Training finished.\n",
      "2024-11-20 12:08:30,257 - INFO - Train completed in 9.74 seconds.\n"
     ]
    }
   ],
   "source": [
    "execute(train_params=train_params)"
   ]
  },
  {
   "cell_type": "markdown",
   "id": "b0caaccf-76f6-422b-bc36-286be0d9db33",
   "metadata": {},
   "source": [
    "Alternatively, `train` can be run this way: "
   ]
  },
  {
   "cell_type": "code",
   "execution_count": 25,
   "id": "8071e44b-1106-4402-b989-ab7b43c64f61",
   "metadata": {},
   "outputs": [],
   "source": [
    "# from pydruglogics.execution.Executor import train\n",
    "# best_boolean_models = train(boolean_model=boolean_model_bnet, model_outputs=model_outputs, training_data=training_data, ga_args=ga_args, ev_args=ev_args)"
   ]
  },
  {
   "cell_type": "markdown",
   "id": "ce8153bc-dd74-44aa-8671-c5b049b0e248",
   "metadata": {},
   "source": [
    "### Run Predict"
   ]
  },
  {
   "cell_type": "markdown",
   "id": "e8e684cc-78f5-4bc0-818a-7e27cac711b7",
   "metadata": {},
   "source": [
    "**Note:** If the Evolution process has not been previously executed, it is necessary to load the Boolean Models from a `.bnet` file. In this case `attractor_tool` and `attractor_type` must be provided."
   ]
  },
  {
   "cell_type": "code",
   "execution_count": 26,
   "id": "375f2dba-c21d-4ff7-837c-4d41322da153",
   "metadata": {},
   "outputs": [],
   "source": [
    "predict_params = {\n",
    "        'perturbations': perturbations,\n",
    "        'model_outputs': model_outputs,\n",
    "        'observed_synergy_scores': observed_synergy_scores,\n",
    "        'synergy_method': 'bliss',\n",
    "        'plot_roc_pr_curves': True,\n",
    "        'save_predictions': False,\n",
    "        # 'save_path': './predictions',\n",
    "        'model_directory': './example_models',\n",
    "        'attractor_tool': 'mpbn',\n",
    "        'attractor_type':  'trapspaces'\n",
    "    }"
   ]
  },
  {
   "cell_type": "code",
   "execution_count": 27,
   "id": "7647b0f9-3bd6-4b53-b325-eff3a6f5384d",
   "metadata": {},
   "outputs": [
    {
     "name": "stdout",
     "output_type": "stream",
     "text": [
      "2024-11-20 12:08:30,288 - INFO - Predict started...\n",
      "2024-11-20 12:08:30,289 - INFO - Loading models from directory: ./example_models\n",
      "2024-11-20 12:08:30,290 - INFO - Boolean Model from .bnet file is created.\n",
      "2024-11-20 12:08:30,309 - INFO - Boolean Model from .bnet file is created.\n",
      "2024-11-20 12:08:30,322 - INFO - Boolean Model from .bnet file is created.\n",
      "2024-11-20 12:08:30,333 - INFO - Boolean Model from .bnet file is created.\n",
      "2024-11-20 12:08:30,345 - INFO - Boolean Model from .bnet file is created.\n",
      "2024-11-20 12:08:30,356 - INFO - Boolean Model from .bnet file is created.\n",
      "2024-11-20 12:08:30,367 - INFO - Boolean Model from .bnet file is created.\n",
      "2024-11-20 12:08:30,379 - INFO - Boolean Model from .bnet file is created.\n",
      "2024-11-20 12:08:30,395 - INFO - Boolean Model from .bnet file is created.\n",
      "2024-11-20 12:08:30,408 - INFO - Boolean Model from .bnet file is created.\n",
      "2024-11-20 12:08:30,420 - INFO - Boolean Model from .bnet file is created.\n",
      "2024-11-20 12:08:30,432 - INFO - Boolean Model from .bnet file is created.\n",
      "2024-11-20 12:08:30,444 - INFO - Boolean Model from .bnet file is created.\n",
      "2024-11-20 12:08:30,456 - INFO - Boolean Model from .bnet file is created.\n",
      "2024-11-20 12:08:30,468 - INFO - Boolean Model from .bnet file is created.\n",
      "2024-11-20 12:08:30,481 - INFO - Boolean Model from .bnet file is created.\n",
      "2024-11-20 12:08:30,496 - INFO - Boolean Model from .bnet file is created.\n",
      "2024-11-20 12:08:30,508 - INFO - Boolean Model from .bnet file is created.\n",
      "2024-11-20 12:08:30,521 - INFO - Boolean Model from .bnet file is created.\n",
      "2024-11-20 12:08:30,534 - INFO - Boolean Model from .bnet file is created.\n",
      "2024-11-20 12:08:30,547 - INFO - Boolean Model from .bnet file is created.\n",
      "2024-11-20 12:08:30,559 - INFO - Boolean Model from .bnet file is created.\n",
      "2024-11-20 12:08:30,572 - INFO - Boolean Model from .bnet file is created.\n",
      "2024-11-20 12:08:30,588 - INFO - Boolean Model from .bnet file is created.\n",
      "2024-11-20 12:08:30,599 - INFO - Boolean Model from .bnet file is created.\n",
      "2024-11-20 12:08:30,615 - INFO - Boolean Model from .bnet file is created.\n",
      "2024-11-20 12:08:30,626 - INFO - Boolean Model from .bnet file is created.\n",
      "2024-11-20 12:08:30,637 - INFO - Boolean Model from .bnet file is created.\n",
      "2024-11-20 12:08:30,649 - INFO - Boolean Model from .bnet file is created.\n",
      "2024-11-20 12:08:30,661 - INFO - Boolean Model from .bnet file is created.\n",
      "2024-11-20 12:08:35,424 - INFO - \n",
      "Synergy scores (bliss):\n",
      "2024-11-20 12:08:35,425 - INFO - PI-PD: -0.0938888888888888\n",
      "2024-11-20 12:08:35,425 - INFO - PI-CT: 0.0\n",
      "2024-11-20 12:08:35,425 - INFO - PI-BI: 0.02124999999999999\n",
      "2024-11-20 12:08:35,426 - INFO - PI-PK: 0.036111111111111094\n",
      "2024-11-20 12:08:35,426 - INFO - PI-AK: 0.0986111111111112\n",
      "2024-11-20 12:08:35,427 - INFO - PI-5Z: -0.040138888888888946\n",
      "2024-11-20 12:08:35,427 - INFO - PD-CT: 0.0\n",
      "2024-11-20 12:08:35,427 - INFO - PD-BI: 0.011203703703703716\n",
      "2024-11-20 12:08:35,428 - INFO - PD-PK: 0.12777777777777777\n",
      "2024-11-20 12:08:35,428 - INFO - PD-AK: -0.04444444444444451\n",
      "2024-11-20 12:08:35,428 - INFO - PD-5Z: 0.008055555555555483\n",
      "2024-11-20 12:08:35,429 - INFO - CT-BI: 0.0\n",
      "2024-11-20 12:08:35,429 - INFO - CT-PK: 0.0\n",
      "2024-11-20 12:08:35,429 - INFO - CT-AK: 0.0\n",
      "2024-11-20 12:08:35,430 - INFO - CT-5Z: 0.0\n",
      "2024-11-20 12:08:35,430 - INFO - BI-PK: -0.05740740740740735\n",
      "2024-11-20 12:08:35,430 - INFO - BI-AK: 0.03819444444444453\n",
      "2024-11-20 12:08:35,430 - INFO - BI-5Z: 0.08543981481481489\n",
      "2024-11-20 12:08:35,431 - INFO - PK-AK: 0.061111111111111116\n",
      "2024-11-20 12:08:35,431 - INFO - PK-5Z: 0.1777777777777778\n",
      "2024-11-20 12:08:35,431 - INFO - AK-5Z: -0.07708333333333339\n",
      "2024-11-20 12:08:35,446 - INFO - Predicted Data with Observed Synergies for Model 1:\n",
      "2024-11-20 12:08:35,447 - INFO -    perturbation  synergy_score  observed\n",
      "0         PI-PD       0.093889         1\n",
      "1         AK-5Z       0.077083         1\n",
      "2         BI-PK       0.057407         0\n",
      "3         PD-AK       0.044444         1\n",
      "4         PI-5Z       0.040139         1\n",
      "5         CT-AK      -0.000000         0\n",
      "6         CT-5Z      -0.000000         0\n",
      "7         CT-BI      -0.000000         0\n",
      "8         PI-CT      -0.000000         0\n",
      "9         CT-PK      -0.000000         0\n",
      "10        PD-CT      -0.000000         0\n",
      "11        PD-5Z      -0.008056         0\n",
      "12        PD-BI      -0.011204         0\n",
      "13        PI-BI      -0.021250         0\n",
      "14        PI-PK      -0.036111         0\n",
      "15        BI-AK      -0.038194         0\n",
      "16        PK-AK      -0.061111         0\n",
      "17        BI-5Z      -0.085440         0\n",
      "18        PI-AK      -0.098611         0\n",
      "19        PD-PK      -0.127778         0\n",
      "20        PK-5Z      -0.177778         0\n"
     ]
    },
    {
     "data": {
      "image/png": "[encoded data removed]",
      "text/plain": [
       "<Figure size 1200x500 with 2 Axes>"
      ]
     },
     "metadata": {},
     "output_type": "display_data"
    },
    {
     "name": "stdout",
     "output_type": "stream",
     "text": [
      "2024-11-20 12:08:35,598 - INFO - Predict completed in 5.31 seconds.\n"
     ]
    }
   ],
   "source": [
    "execute(predict_params=predict_params)"
   ]
  },
  {
   "cell_type": "markdown",
   "id": "643fd23e-e046-416b-aa2b-640ca53937ec",
   "metadata": {},
   "source": [
    "Alternatively, `predict` can be run this way:"
   ]
  },
  {
   "cell_type": "code",
   "execution_count": 28,
   "id": "a2d3476a-583b-46ad-93d4-0028cd44fc3e",
   "metadata": {},
   "outputs": [],
   "source": [
    "# from pydruglogics.execution.Executor import predict\n",
    "# predict(best_boolean_models=best_boolean_models, model_outputs=model_outputs, perturbations=perturbations,\n",
    "#             observed_synergy_scores=observed_synergy_scores, synergy_method='bliss', run_parallel= True, \n",
    "#             plot_roc_pr_curves=True, save_predictions=False, cores=4)"
   ]
  },
  {
   "cell_type": "markdown",
   "id": "235d99a9-a99a-487d-a499-d6423d4c4056",
   "metadata": {},
   "source": [
    "## Run Statistics"
   ]
  },
  {
   "cell_type": "markdown",
   "id": "d2ee2af3-b484-4f88-b022-e5d3b807b5b7",
   "metadata": {},
   "source": [
    "#### Train Boolean Models"
   ]
  },
  {
   "cell_type": "markdown",
   "id": "f12a9dc5-845f-45ef-96e4-e2f0d87c8fc6",
   "metadata": {},
   "source": [
    "Boolean Models calibrated to steady state response."
   ]
  },
  {
   "cell_type": "code",
   "execution_count": 29,
   "id": "e6824a60-4a33-400b-b282-fc7973735ea8",
   "metadata": {},
   "outputs": [
    {
     "name": "stdout",
     "output_type": "stream",
     "text": [
      "2024-11-20 12:08:35,614 - INFO - Train started...\n",
      "2024-11-20 12:08:44,850 - INFO - Training finished.\n",
      "2024-11-20 12:08:44,852 - INFO - Train completed in 9.24 seconds.\n"
     ]
    }
   ],
   "source": [
    "best_boolean_models_calibrated = train(boolean_model=boolean_model_bnet, model_outputs=model_outputs, training_data=training_data,\n",
    "                                ga_args=ga_args, ev_args=ev_args)"
   ]
  },
  {
   "cell_type": "markdown",
   "id": "93626d19-a38e-44ce-a2cf-88354d68d235",
   "metadata": {},
   "source": [
    "Boolean Models match to proliferation profile."
   ]
  },
  {
   "cell_type": "code",
   "execution_count": 30,
   "id": "7f38bfe6-fcad-4850-ad1b-b66e768e77d9",
   "metadata": {},
   "outputs": [
    {
     "name": "stdout",
     "output_type": "stream",
     "text": [
      "2024-11-20 12:08:44,859 - INFO - Train started...\n",
      "2024-11-20 12:08:44,861 - INFO - Training data initialized from list.\n",
      "2024-11-20 12:08:47,341 - INFO - Training finished.\n",
      "2024-11-20 12:08:47,342 - INFO - Train completed in 2.48 seconds.\n"
     ]
    }
   ],
   "source": [
    "best_boolean_models_random = train(boolean_model=boolean_model_bnet, model_outputs=model_outputs, ga_args=ga_args, ev_args=ev_args)"
   ]
  },
  {
   "cell_type": "markdown",
   "id": "425e5934-8b41-4d25-bc0d-c2aafb3849b4",
   "metadata": {},
   "source": [
    "### Compare Boolean Models trained by calibrated and random data"
   ]
  },
  {
   "cell_type": "markdown",
   "id": "374dd68c-de03-49c4-bb95-283205f3b8ee",
   "metadata": {},
   "source": [
    "The `compare_two_simulations` function compares the predictive performance of two sets of evolved Boolean models by plotting ROC and PR curves. \n",
    "#### Parameters:\n",
    "\n",
    "- `boolean_models1`: A list of the best Boolean models from the first run.\n",
    "\n",
    "- `boolean_models2`: A list of the best Boolean models from the second run.\n",
    "\n",
    "- `observed_synergy_scores`: A reference list of observed synergy scores used to evaluate the predictive performance of the models.\n",
    "\n",
    "- `model_outputs`: An instance of `ModelOutputs`.\n",
    "\n",
    "- `perturbations`: An instance of `Perturbation`.\n",
    "\n",
    "- `synergy_method` (optional): The method for assessing synergy. Options: `'hsa'` (Highest Single Agent) or  `'bliss'` (Bliss Independence). By default, `'bliss'`.\n",
    "\n",
    "- `label1` (optional): A custom label for the first set of evolution results shown in the plots. By default, `'Models 1'`.\n",
    "\n",
    "- `label2` (optional): A custom label for the second set of evolution results shown in the plots. By default,`'Models 2'`.\n",
    "\n",
    "- `normalized` (optional): Whether or not to normalize the synergy scores of the first set. By default, `True`.\n",
    "\n",
    "- `plot_pr_roc_curves` (optional): Whether or not to plot ROC and PR Curves. By default, `True`.\n",
    "\n",
    "- `save_result` (optional): Whether or not to save the results to file. By default, `True`."
   ]
  },
  {
   "cell_type": "code",
   "execution_count": 31,
   "id": "46ca9206-c10d-4070-9270-731604648501",
   "metadata": {},
   "outputs": [],
   "source": [
    "from pydruglogics.statistics.Statistics import compare_two_simulations"
   ]
  },
  {
   "cell_type": "code",
   "execution_count": 32,
   "id": "2ed42803-18b9-4b1d-b8ff-62be52c046b1",
   "metadata": {},
   "outputs": [
    {
     "name": "stdout",
     "output_type": "stream",
     "text": [
      "2024-11-20 12:09:00,547 - INFO - \n",
      "Synergy scores (bliss):\n",
      "2024-11-20 12:09:00,548 - INFO - PI-PD: -0.08418595679012342\n",
      "2024-11-20 12:09:00,549 - INFO - PI-CT: 0.002967592592592605\n",
      "2024-11-20 12:09:00,550 - INFO - PI-BI: 0.02335030864197518\n",
      "2024-11-20 12:09:00,550 - INFO - PI-PK: 0.020891203703703565\n",
      "2024-11-20 12:09:00,551 - INFO - PI-AK: 0.06716280864197521\n",
      "2024-11-20 12:09:00,552 - INFO - PI-5Z: -0.036652777777777645\n",
      "2024-11-20 12:09:00,552 - INFO - PD-CT: 0.0032314814814814463\n",
      "2024-11-20 12:09:00,552 - INFO - PD-BI: 0.0024660493827158847\n",
      "2024-11-20 12:09:00,553 - INFO - PD-PK: 0.1255787037037036\n",
      "2024-11-20 12:09:00,553 - INFO - PD-AK: -0.043075617283950596\n",
      "2024-11-20 12:09:00,554 - INFO - PD-5Z: 0.00913888888888903\n",
      "2024-11-20 12:09:00,554 - INFO - CT-BI: -5.925925925931441e-05\n",
      "2024-11-20 12:09:00,554 - INFO - CT-PK: 0.0023055555555555607\n",
      "2024-11-20 12:09:00,555 - INFO - CT-AK: 0.0025129629629628836\n",
      "2024-11-20 12:09:00,555 - INFO - CT-5Z: 0.0032999999999999696\n",
      "2024-11-20 12:09:00,556 - INFO - BI-PK: -0.07506481481481486\n",
      "2024-11-20 12:09:00,556 - INFO - BI-AK: 0.05955987654320993\n",
      "2024-11-20 12:09:00,557 - INFO - BI-5Z: 0.083988888888889\n",
      "2024-11-20 12:09:00,557 - INFO - PK-AK: 0.05078240740740736\n",
      "2024-11-20 12:09:00,558 - INFO - PK-5Z: 0.18247222222222226\n",
      "2024-11-20 12:09:00,559 - INFO - AK-5Z: -0.06634999999999991\n",
      "2024-11-20 12:09:12,273 - INFO - \n",
      "Synergy scores (bliss):\n",
      "2024-11-20 12:09:12,274 - INFO - PI-PD: -0.10488888888888914\n",
      "2024-11-20 12:09:12,274 - INFO - PI-CT: 0.0\n",
      "2024-11-20 12:09:12,275 - INFO - PI-BI: 0.04377777777777758\n",
      "2024-11-20 12:09:12,275 - INFO - PI-PK: 0.08273333333333321\n",
      "2024-11-20 12:09:12,275 - INFO - PI-AK: 0.1151777777777776\n",
      "2024-11-20 12:09:12,276 - INFO - PI-5Z: -0.021911111111111325\n",
      "2024-11-20 12:09:12,276 - INFO - PD-CT: 0.0\n",
      "2024-11-20 12:09:12,277 - INFO - PD-BI: 0.023796296296296204\n",
      "2024-11-20 12:09:12,277 - INFO - PD-PK: 0.18807407407407395\n",
      "2024-11-20 12:09:12,278 - INFO - PD-AK: -0.023129629629629722\n",
      "2024-11-20 12:09:12,278 - INFO - PD-5Z: 0.0032962962962962417\n",
      "2024-11-20 12:09:12,278 - INFO - CT-BI: 0.0\n",
      "2024-11-20 12:09:12,279 - INFO - CT-PK: 0.0\n",
      "2024-11-20 12:09:12,279 - INFO - CT-AK: 0.0\n",
      "2024-11-20 12:09:12,280 - INFO - CT-5Z: 0.0\n",
      "2024-11-20 12:09:12,280 - INFO - BI-PK: -0.13427777777777794\n",
      "2024-11-20 12:09:12,280 - INFO - BI-AK: 0.08134722222222213\n",
      "2024-11-20 12:09:12,281 - INFO - BI-5Z: 0.05813888888888874\n",
      "2024-11-20 12:09:12,281 - INFO - PK-AK: 0.10301111111111105\n",
      "2024-11-20 12:09:12,282 - INFO - PK-5Z: 0.08075555555555558\n",
      "2024-11-20 12:09:12,282 - INFO - AK-5Z: -0.03427222222222237\n",
      "2024-11-20 12:09:12,300 - INFO - Predicted Data with Observed Synergies for Calibrated (Non-Normalized):\n",
      "2024-11-20 12:09:12,301 - INFO -    perturbation  synergy_score  observed\n",
      "0         PI-PD       0.084186         1\n",
      "1         BI-PK       0.075065         0\n",
      "2         AK-5Z       0.066350         1\n",
      "3         PD-AK       0.043076         1\n",
      "4         PI-5Z       0.036653         1\n",
      "5         CT-BI       0.000059         0\n",
      "6         CT-PK      -0.002306         0\n",
      "7         PD-BI      -0.002466         0\n",
      "8         CT-AK      -0.002513         0\n",
      "9         PI-CT      -0.002968         0\n",
      "10        PD-CT      -0.003231         0\n",
      "11        CT-5Z      -0.003300         0\n",
      "12        PD-5Z      -0.009139         0\n",
      "13        PI-PK      -0.020891         0\n",
      "14        PI-BI      -0.023350         0\n",
      "15        PK-AK      -0.050782         0\n",
      "16        BI-AK      -0.059560         0\n",
      "17        PI-AK      -0.067163         0\n",
      "18        BI-5Z      -0.083989         0\n",
      "19        PD-PK      -0.125579         0\n",
      "20        PK-5Z      -0.182472         0\n",
      "2024-11-20 12:09:12,304 - INFO - Predicted Data with Observed Synergies for Random:\n",
      "2024-11-20 12:09:12,305 - INFO -    perturbation  synergy_score  observed\n",
      "0         BI-PK       0.134278         0\n",
      "1         PI-PD       0.104889         1\n",
      "2         AK-5Z       0.034272         1\n",
      "3         PD-AK       0.023130         1\n",
      "4         PI-5Z       0.021911         1\n",
      "5         CT-AK      -0.000000         0\n",
      "6         CT-5Z      -0.000000         0\n",
      "7         CT-BI      -0.000000         0\n",
      "8         PI-CT      -0.000000         0\n",
      "9         CT-PK      -0.000000         0\n",
      "10        PD-CT      -0.000000         0\n",
      "11        PD-5Z      -0.003296         0\n",
      "12        PD-BI      -0.023796         0\n",
      "13        PI-BI      -0.043778         0\n",
      "14        BI-5Z      -0.058139         0\n",
      "15        PK-5Z      -0.080756         0\n",
      "16        BI-AK      -0.081347         0\n",
      "17        PI-PK      -0.082733         0\n",
      "18        PK-AK      -0.103011         0\n",
      "19        PI-AK      -0.115178         0\n",
      "20        PD-PK      -0.188074         0\n"
     ]
    },
    {
     "data": {
      "image/png": "[encoded data removed]",
      "text/plain": [
       "<Figure size 1200x500 with 2 Axes>"
      ]
     },
     "metadata": {},
     "output_type": "display_data"
    }
   ],
   "source": [
    "compare_two_simulations(boolean_models1=best_boolean_models_calibrated, boolean_models2=best_boolean_models_random, observed_synergy_scores=observed_synergy_scores,\n",
    "                            model_outputs=model_outputs,perturbations=perturbations, synergy_method='bliss',label1='Calibrated (Non-Normalized)',\n",
    "                            label2='Random', normalized=False, plot=True, save_result=False)"
   ]
  },
  {
   "cell_type": "markdown",
   "id": "6b8a3ad5-030e-4300-a50f-3eb80ad60808",
   "metadata": {},
   "source": [
    "### Sampling"
   ]
  },
  {
   "cell_type": "markdown",
   "id": "3d4a4e95-08dc-479f-9660-6d05345fa6ac",
   "metadata": {},
   "source": [
    "The `sampling_with_ci` function performs sampling on a list of Boolean models, calculates confidence intervals, and plots a Precision-Recall (PR) curve to assess the predictive performance in identifying synergistic drug combinations.\n",
    "\n",
    "#### Parameters:\n",
    "\n",
    "- `boolean_models`: A list of `BooleanModel` instances used for the sampling.\n",
    "\n",
    "- `observed_synergy_scores`: A list of observed synergy scores.\n",
    "\n",
    "- `model_outputs`: An instance of `ModelOutputs`.\n",
    "\n",
    "- `perturbations`: An instance of `Perturbation`.\n",
    "\n",
    "- `synergy_method` (optional): The method for assessing synergy. Options: `'hsa'` (Highest Single Agent) or  `'bliss'` (Bliss Independence). By default, `'bliss'`.\n",
    "\n",
    "- `repeat_time` (optional): The number of times to repeat the sampling process. By defualt, `10`.\n",
    "\n",
    "- `sub_ratio` (optional): The proportion of models to sample in each iteration. By defualt, `0.8`.\n",
    "\n",
    "- `boot_n` (optional): The number of bootstrap iterations for calculating confidence intervals. By defualt, `1000`.\n",
    "\n",
    "- `confidence_level` (optional): The confidence level used for the interval calculations. By defualt, `0.9`.\n",
    "\n",
    "- `plot` (optional):  Whether to plot the PR curve. By defualt, `True`.\n",
    "\n",
    "- `plot_discrete` (optional): Whether to plot discrete points instead of continuous line on the PR curve. By defualt, `False`.\n",
    "\n",
    "- `save_result` (optional): Whether to save the results. By defualt, `True`.\n",
    "\n",
    "- `with_seeds` (optional): Whether to use a fixed seed for reproducibility. By defualt, `True`.\n",
    "\n",
    "- `seeds` (optional): The seed value to ensure reproducibility. By defualt, `42`.\n"
   ]
  },
  {
   "cell_type": "code",
   "execution_count": 33,
   "id": "440b2691-c733-4e08-bf25-b73f295ebed5",
   "metadata": {},
   "outputs": [],
   "source": [
    "from pydruglogics.statistics.Statistics import sampling_with_ci"
   ]
  },
  {
   "cell_type": "code",
   "execution_count": null,
   "id": "32ede833-3763-4bc1-9230-92ce2ecb4cd7",
   "metadata": {},
   "outputs": [
    {
     "name": "stdout",
     "output_type": "stream",
     "text": [
      "2024-11-20 12:09:22,030 - INFO - \n",
      "Synergy scores (bliss):\n",
      "2024-11-20 12:09:22,031 - INFO - PI-PD: -0.08004557291666681\n",
      "2024-11-20 12:09:22,032 - INFO - PI-CT: 0.0037254050925926707\n",
      "2024-11-20 12:09:22,032 - INFO - PI-BI: 0.02237533757716037\n",
      "2024-11-20 12:09:22,032 - INFO - PI-PK: 0.016493055555555358\n",
      "2024-11-20 12:09:22,032 - INFO - PI-AK: 0.06550564236111112\n",
      "2024-11-20 12:09:22,033 - INFO - PI-5Z: -0.0360460069444446\n",
      "2024-11-20 12:09:22,033 - INFO - PD-CT: 0.004036458333333437\n",
      "2024-11-20 12:09:22,034 - INFO - PD-BI: 0.0037109375000000666\n",
      "2024-11-20 12:09:22,035 - INFO - PD-PK: 0.11840277777777775\n",
      "2024-11-20 12:09:22,035 - INFO - PD-AK: -0.041644965277777724\n",
      "2024-11-20 12:09:22,036 - INFO - PD-5Z: 0.011414930555555647\n",
      "2024-11-20 12:09:22,036 - INFO - CT-BI: -8.391203703683736e-05\n",
      "2024-11-20 12:09:22,036 - INFO - CT-PK: 0.0029166666666667895\n",
      "2024-11-20 12:09:22,037 - INFO - CT-AK: 0.0031510416666666874\n",
      "2024-11-20 12:09:22,037 - INFO - CT-5Z: 0.004114583333333477\n",
      "2024-11-20 12:09:22,038 - INFO - BI-PK: -0.083125\n",
      "2024-11-20 12:09:22,038 - INFO - BI-AK: 0.059500868055555545\n",
      "2024-11-20 12:09:22,039 - INFO - BI-5Z: 0.08759548611111134\n",
      "2024-11-20 12:09:22,040 - INFO - PK-AK: 0.044930555555555474\n",
      "2024-11-20 12:09:22,040 - INFO - PK-5Z: 0.18166666666666664\n",
      "2024-11-20 12:09:22,041 - INFO - AK-5Z: -0.06763020833333322\n",
      "2024-11-20 12:09:31,362 - INFO - \n",
      "Synergy scores (bliss):\n",
      "2024-11-20 12:09:31,363 - INFO - PI-PD: -0.08228081597222237\n",
      "2024-11-20 12:09:31,364 - INFO - PI-CT: 0.003705150462963047\n",
      "2024-11-20 12:09:31,365 - INFO - PI-BI: 0.02233603395061723\n",
      "2024-11-20 12:09:31,366 - INFO - PI-PK: 0.017199315200617238\n",
      "2024-11-20 12:09:31,366 - INFO - PI-AK: 0.06817973572530855\n",
      "2024-11-20 12:09:31,367 - INFO - PI-5Z: -0.03857687114197528\n",
      "2024-11-20 12:09:31,367 - INFO - PD-CT: 0.004036458333333437\n",
      "2024-11-20 12:09:31,368 - INFO - PD-BI: -0.0005208333333334147\n",
      "2024-11-20 12:09:31,368 - INFO - PD-PK: 0.11942274305555556\n",
      "2024-11-20 12:09:31,369 - INFO - PD-AK: -0.04242621527777779\n",
      "2024-11-20 12:09:31,369 - INFO - PD-5Z: 0.009418402777777835\n",
      "2024-11-20 12:09:31,370 - INFO - CT-BI: -9.259259259253305e-05\n",
      "2024-11-20 12:09:31,370 - INFO - CT-PK: 0.0028674768518519578\n",
      "2024-11-20 12:09:31,371 - INFO - CT-AK: 0.0031394675925926485\n",
      "2024-11-20 12:09:31,371 - INFO - CT-5Z: 0.004126157407407516\n",
      "2024-11-20 12:09:31,371 - INFO - BI-PK: -0.07249614197530874\n",
      "2024-11-20 12:09:31,372 - INFO - BI-AK: 0.05869984567901232\n",
      "2024-11-20 12:09:31,372 - INFO - BI-5Z: 0.08786265432098761\n",
      "2024-11-20 12:09:31,373 - INFO - PK-AK: 0.04952015817901234\n",
      "2024-11-20 12:09:31,374 - INFO - PK-5Z: 0.18655189043209897\n",
      "2024-11-20 12:09:31,374 - INFO - AK-5Z: -0.06559124228395063\n",
      "2024-11-20 12:09:40,723 - INFO - \n",
      "Synergy scores (bliss):\n",
      "2024-11-20 12:09:40,724 - INFO - PI-PD: -0.07469666280864196\n",
      "2024-11-20 12:09:40,725 - INFO - PI-CT: 0.0037080439814816124\n",
      "2024-11-20 12:09:40,726 - INFO - PI-BI: 0.025728684413580227\n",
      "2024-11-20 12:09:40,726 - INFO - PI-PK: 0.022124083719135768\n",
      "2024-11-20 12:09:40,727 - INFO - PI-AK: 0.06542679398148155\n",
      "2024-11-20 12:09:40,728 - INFO - PI-5Z: -0.03262586805555545\n",
      "2024-11-20 12:09:40,728 - INFO - PD-CT: 0.004033564814814872\n",
      "2024-11-20 12:09:40,729 - INFO - PD-BI: -0.0020273919753087677\n",
      "2024-11-20 12:09:40,730 - INFO - PD-PK: 0.12402295524691354\n",
      "2024-11-20 12:09:40,730 - INFO - PD-AK: -0.035896990740740486\n",
      "2024-11-20 12:09:40,731 - INFO - PD-5Z: 0.011406250000000173\n",
      "2024-11-20 12:09:40,732 - INFO - CT-BI: -9.837962962944147e-05\n",
      "2024-11-20 12:09:40,732 - INFO - CT-PK: 0.0028616898148148273\n",
      "2024-11-20 12:09:40,733 - INFO - CT-AK: 0.003107638888888986\n",
      "2024-11-20 12:09:40,734 - INFO - CT-5Z: 0.004114583333333477\n",
      "2024-11-20 12:09:40,734 - INFO - BI-PK: -0.0682166280864197\n",
      "2024-11-20 12:09:40,735 - INFO - BI-AK: 0.06309606481481478\n",
      "2024-11-20 12:09:40,735 - INFO - BI-5Z: 0.08963541666666663\n",
      "2024-11-20 12:09:40,736 - INFO - PK-AK: 0.05581307870370378\n",
      "2024-11-20 12:09:40,736 - INFO - PK-5Z: 0.1815017361111111\n",
      "2024-11-20 12:09:40,737 - INFO - AK-5Z: -0.0587326388888888\n",
      "2024-11-20 12:09:50,726 - INFO - \n",
      "Synergy scores (bliss):\n",
      "2024-11-20 12:09:50,727 - INFO - PI-PD: -0.07814067322530849\n",
      "2024-11-20 12:09:50,728 - INFO - PI-CT: 0.0024585262345678816\n",
      "2024-11-20 12:09:50,729 - INFO - PI-BI: 0.02342086226851836\n",
      "2024-11-20 12:09:50,729 - INFO - PI-PK: 0.01878158757716042\n",
      "2024-11-20 12:09:50,731 - INFO - PI-AK: 0.06710479359567911\n",
      "2024-11-20 12:09:50,731 - INFO - PI-5Z: -0.032503134645061715\n",
      "2024-11-20 12:09:50,732 - INFO - PD-CT: 0.0027102623456789487\n",
      "2024-11-20 12:09:50,732 - INFO - PD-BI: 0.0007884837962963687\n",
      "2024-11-20 12:09:50,733 - INFO - PD-PK: 0.12731240354938278\n",
      "2024-11-20 12:09:50,734 - INFO - PD-AK: -0.03754581404320967\n",
      "2024-11-20 12:09:50,734 - INFO - PD-5Z: 0.004742959104938271\n",
      "2024-11-20 12:09:50,735 - INFO - CT-BI: -0.0013483796296296369\n",
      "2024-11-20 12:09:50,735 - INFO - CT-PK: 0.0019309413580246293\n",
      "2024-11-20 12:09:50,736 - INFO - CT-AK: 0.002058256172839501\n",
      "2024-11-20 12:09:50,736 - INFO - CT-5Z: 0.002764274691357982\n",
      "2024-11-20 12:09:50,737 - INFO - BI-PK: -0.07741174768518522\n",
      "2024-11-20 12:09:50,737 - INFO - BI-AK: 0.07070457175925926\n",
      "2024-11-20 12:09:50,737 - INFO - BI-5Z: 0.08765769675925927\n",
      "2024-11-20 12:09:50,738 - INFO - PK-AK: 0.05019917052469147\n",
      "2024-11-20 12:09:50,738 - INFO - PK-5Z: 0.17351803626543205\n",
      "2024-11-20 12:09:50,738 - INFO - AK-5Z: -0.06445360725308646\n",
      "2024-11-20 12:10:00,524 - INFO - \n",
      "Synergy scores (bliss):\n",
      "2024-11-20 12:10:00,525 - INFO - PI-PD: -0.08521050347222237\n",
      "2024-11-20 12:10:00,525 - INFO - PI-CT: 0.0036848958333334236\n",
      "2024-11-20 12:10:00,526 - INFO - PI-BI: 0.03525824652777787\n",
      "2024-11-20 12:10:00,526 - INFO - PI-PK: 0.022547743055555514\n",
      "2024-11-20 12:10:00,527 - INFO - PI-AK: 0.07221571180555564\n",
      "2024-11-20 12:10:00,528 - INFO - PI-5Z: -0.031065538194444575\n",
      "2024-11-20 12:10:00,528 - INFO - PD-CT: 0.004036458333333437\n",
      "2024-11-20 12:10:00,529 - INFO - PD-BI: -0.003927951388888795\n",
      "2024-11-20 12:10:00,529 - INFO - PD-PK: 0.12773437500000007\n",
      "2024-11-20 12:10:00,530 - INFO - PD-AK: -0.039735243055555536\n",
      "2024-11-20 12:10:00,530 - INFO - PD-5Z: 0.01009114583333326\n",
      "2024-11-20 12:10:00,530 - INFO - CT-BI: -8.391203703683736e-05\n",
      "2024-11-20 12:10:00,531 - INFO - CT-PK: 0.0028645833333333925\n",
      "2024-11-20 12:10:00,531 - INFO - CT-AK: 0.0031278935185186096\n",
      "2024-11-20 12:10:00,531 - INFO - CT-5Z: 0.004123263888888951\n",
      "2024-11-20 12:10:00,532 - INFO - BI-PK: -0.07122395833333317\n",
      "2024-11-20 12:10:00,532 - INFO - BI-AK: 0.06587046682098774\n",
      "2024-11-20 12:10:00,533 - INFO - BI-5Z: 0.08919994212962967\n",
      "2024-11-20 12:10:00,533 - INFO - PK-AK: 0.0547309027777777\n",
      "2024-11-20 12:10:00,533 - INFO - PK-5Z: 0.18285590277777775\n",
      "2024-11-20 12:10:00,534 - INFO - AK-5Z: -0.06231915509259267\n",
      "2024-11-20 12:10:10,118 - INFO - \n",
      "Synergy scores (bliss):\n",
      "2024-11-20 12:10:10,118 - INFO - PI-PD: -0.08731843171296316\n",
      "2024-11-20 12:10:10,119 - INFO - PI-CT: 0.0024681712962962843\n",
      "2024-11-20 12:10:10,119 - INFO - PI-BI: 0.026893807870370323\n",
      "2024-11-20 12:10:10,120 - INFO - PI-PK: 0.018672598379629646\n",
      "2024-11-20 12:10:10,120 - INFO - PI-AK: 0.06909215856481488\n",
      "2024-11-20 12:10:10,121 - INFO - PI-5Z: -0.04352213541666672\n",
      "2024-11-20 12:10:10,121 - INFO - PD-CT: 0.002687114197530871\n",
      "2024-11-20 12:10:10,121 - INFO - PD-BI: -0.006086998456790171\n",
      "2024-11-20 12:10:10,122 - INFO - PD-PK: 0.12798659336419727\n",
      "2024-11-20 12:10:10,122 - INFO - PD-AK: -0.04939573688271626\n",
      "2024-11-20 12:10:10,123 - INFO - PD-5Z: 0.009382233796296102\n",
      "2024-11-20 12:10:10,123 - INFO - CT-BI: -0.001323302469135701\n",
      "2024-11-20 12:10:10,123 - INFO - CT-PK: 0.0018499228395061351\n",
      "2024-11-20 12:10:10,124 - INFO - CT-AK: 0.0021199845679011897\n",
      "2024-11-20 12:10:10,124 - INFO - CT-5Z: 0.0027488425925925597\n",
      "2024-11-20 12:10:10,124 - INFO - BI-PK: -0.05400559413580264\n",
      "2024-11-20 12:10:10,125 - INFO - BI-AK: 0.06487943672839513\n",
      "2024-11-20 12:10:10,125 - INFO - BI-5Z: 0.08366608796296304\n",
      "2024-11-20 12:10:10,125 - INFO - PK-AK: 0.048678144290123404\n",
      "2024-11-20 12:10:10,126 - INFO - PK-5Z: 0.19860387731481477\n",
      "2024-11-20 12:10:10,126 - INFO - AK-5Z: -0.07955005787037028\n",
      "2024-11-20 12:10:23,528 - INFO - \n",
      "Synergy scores (bliss):\n",
      "2024-11-20 12:10:23,529 - INFO - PI-PD: -0.08984567901234575\n",
      "2024-11-20 12:10:23,530 - INFO - PI-CT: 0.002438271604938258\n",
      "2024-11-20 12:10:23,530 - INFO - PI-BI: 0.025030864197530756\n",
      "2024-11-20 12:10:23,531 - INFO - PI-PK: 0.02051697530864205\n",
      "2024-11-20 12:10:23,531 - INFO - PI-AK: 0.07385030864197539\n",
      "2024-11-20 12:10:23,531 - INFO - PI-5Z: -0.036604938271604825\n",
      "2024-11-20 12:10:23,533 - INFO - PD-CT: 0.0026929012345678904\n",
      "2024-11-20 12:10:23,533 - INFO - PD-BI: -0.0018152006172840185\n",
      "2024-11-20 12:10:23,534 - INFO - PD-PK: 0.109122299382716\n",
      "2024-11-20 12:10:23,534 - INFO - PD-AK: -0.04143325617283955\n",
      "2024-11-20 12:10:23,534 - INFO - PD-5Z: 0.008730709876543341\n",
      "2024-11-20 12:10:23,535 - INFO - CT-BI: -0.0013329475308642147\n",
      "2024-11-20 12:10:23,535 - INFO - CT-PK: 0.001965663580246857\n",
      "2024-11-20 12:10:23,535 - INFO - CT-AK: 0.0021045524691357675\n",
      "2024-11-20 12:10:23,536 - INFO - CT-5Z: 0.002750771604938307\n",
      "2024-11-20 12:10:23,536 - INFO - BI-PK: -0.08829619984567905\n",
      "2024-11-20 12:10:23,536 - INFO - BI-AK: 0.04819685570987653\n",
      "2024-11-20 12:10:23,536 - INFO - BI-5Z: 0.0837027391975308\n",
      "2024-11-20 12:10:23,537 - INFO - PK-AK: 0.044420814043209966\n",
      "2024-11-20 12:10:23,537 - INFO - PK-5Z: 0.17146315586419758\n",
      "2024-11-20 12:10:23,537 - INFO - AK-5Z: -0.061384066358024736\n",
      "2024-11-20 12:10:33,680 - INFO - \n",
      "Synergy scores (bliss):\n",
      "2024-11-20 12:10:33,681 - INFO - PI-PD: -0.08366488233024716\n",
      "2024-11-20 12:10:33,682 - INFO - PI-CT: 0.0037254050925926707\n",
      "2024-11-20 12:10:33,682 - INFO - PI-BI: 0.02906659915123444\n",
      "2024-11-20 12:10:33,683 - INFO - PI-PK: 0.028077980324074048\n",
      "2024-11-20 12:10:33,684 - INFO - PI-AK: 0.06667390046296273\n",
      "2024-11-20 12:10:33,684 - INFO - PI-5Z: -0.03235315393518523\n",
      "2024-11-20 12:10:33,685 - INFO - PD-CT: 0.0040306712962964175\n",
      "2024-11-20 12:10:33,685 - INFO - PD-BI: 0.003703221450617189\n",
      "2024-11-20 12:10:33,685 - INFO - PD-PK: 0.11930700231481473\n",
      "2024-11-20 12:10:33,686 - INFO - PD-AK: -0.04205150462962981\n",
      "2024-11-20 12:10:33,686 - INFO - PD-5Z: 0.009382233796296102\n",
      "2024-11-20 12:10:33,686 - INFO - CT-BI: 0.0016695601851852704\n",
      "2024-11-20 12:10:33,687 - INFO - CT-PK: 0.002907986111111205\n",
      "2024-11-20 12:10:33,687 - INFO - CT-AK: 0.0031423611111112137\n",
      "2024-11-20 12:10:33,687 - INFO - CT-5Z: 0.004123263888888951\n",
      "2024-11-20 12:10:33,688 - INFO - BI-PK: -0.082081886574074\n",
      "2024-11-20 12:10:33,688 - INFO - BI-AK: 0.06586516203703696\n",
      "2024-11-20 12:10:33,689 - INFO - BI-5Z: 0.08160445601851851\n",
      "2024-11-20 12:10:33,689 - INFO - PK-AK: 0.050043402777777746\n",
      "2024-11-20 12:10:33,689 - INFO - PK-5Z: 0.1815755208333334\n",
      "2024-11-20 12:10:33,690 - INFO - AK-5Z: -0.06089409722222239\n",
      "2024-11-20 12:10:43,699 - INFO - \n",
      "Synergy scores (bliss):\n",
      "2024-11-20 12:10:43,700 - INFO - PI-PD: -0.07662471064814824\n",
      "2024-11-20 12:10:43,700 - INFO - PI-CT: 0.003728298611111236\n",
      "2024-11-20 12:10:43,701 - INFO - PI-BI: 0.02087528935185179\n",
      "2024-11-20 12:10:43,701 - INFO - PI-PK: 0.015823929398147918\n",
      "2024-11-20 12:10:43,702 - INFO - PI-AK: 0.06494429976851834\n",
      "2024-11-20 12:10:43,703 - INFO - PI-5Z: -0.031030092592592706\n",
      "2024-11-20 12:10:43,703 - INFO - PD-CT: 0.004033564814814872\n",
      "2024-11-20 12:10:43,704 - INFO - PD-BI: 0.004488811728394992\n",
      "2024-11-20 12:10:43,705 - INFO - PD-PK: 0.11973861882716053\n",
      "2024-11-20 12:10:43,705 - INFO - PD-AK: -0.04273051697530861\n",
      "2024-11-20 12:10:43,705 - INFO - PD-5Z: 0.010061728395061809\n",
      "2024-11-20 12:10:43,706 - INFO - CT-BI: -6.365740740743586e-05\n",
      "2024-11-20 12:10:43,706 - INFO - CT-PK: 0.002936921296296413\n",
      "2024-11-20 12:10:43,706 - INFO - CT-AK: 0.00312210648148159\n",
      "2024-11-20 12:10:43,707 - INFO - CT-5Z: 0.004120370370370496\n",
      "2024-11-20 12:10:43,707 - INFO - BI-PK: -0.08674286265432107\n",
      "2024-11-20 12:10:43,707 - INFO - BI-AK: 0.05861207561728399\n",
      "2024-11-20 12:10:43,708 - INFO - BI-5Z: 0.08432098765432083\n",
      "2024-11-20 12:10:43,708 - INFO - PK-AK: 0.04962143132716046\n",
      "2024-11-20 12:10:43,708 - INFO - PK-5Z: 0.1807484567901234\n",
      "2024-11-20 12:10:43,708 - INFO - AK-5Z: -0.06389660493827165\n",
      "2024-11-20 12:10:54,009 - INFO - \n",
      "Synergy scores (bliss):\n",
      "2024-11-20 12:10:54,010 - INFO - PI-PD: -0.0809447337962963\n",
      "2024-11-20 12:10:54,011 - INFO - PI-CT: 0.0036646412037038\n",
      "2024-11-20 12:10:54,011 - INFO - PI-BI: 0.02297477816358029\n",
      "2024-11-20 12:10:54,012 - INFO - PI-PK: 0.018811487268518445\n",
      "2024-11-20 12:10:54,013 - INFO - PI-AK: 0.0705519386574075\n",
      "2024-11-20 12:10:54,013 - INFO - PI-5Z: -0.03267240547839512\n",
      "2024-11-20 12:10:54,014 - INFO - PD-CT: 0.004045138888889022\n",
      "2024-11-20 12:10:54,015 - INFO - PD-BI: 0.0030700231481483042\n",
      "2024-11-20 12:10:54,015 - INFO - PD-PK: 0.12660590277777783\n",
      "2024-11-20 12:10:54,015 - INFO - PD-AK: -0.03549479166666669\n",
      "2024-11-20 12:10:54,016 - INFO - PD-5Z: 0.01076678240740725\n",
      "2024-11-20 12:10:54,016 - INFO - CT-BI: -0.00010706018518513716\n",
      "2024-11-20 12:10:54,017 - INFO - CT-PK: 0.002907986111111205\n",
      "2024-11-20 12:10:54,017 - INFO - CT-AK: 0.0030642361111111738\n",
      "2024-11-20 12:10:54,018 - INFO - CT-5Z: 0.004117476851851931\n",
      "2024-11-20 12:10:54,018 - INFO - BI-PK: -0.08015769675925921\n",
      "2024-11-20 12:10:54,019 - INFO - BI-AK: 0.06559751157407412\n",
      "2024-11-20 12:10:54,019 - INFO - BI-5Z: 0.09037953317901237\n",
      "2024-11-20 12:10:54,019 - INFO - PK-AK: 0.05479600694444453\n",
      "2024-11-20 12:10:54,019 - INFO - PK-5Z: 0.1742115162037038\n",
      "2024-11-20 12:10:54,020 - INFO - AK-5Z: -0.05798466435185179\n",
      "2024-11-20 12:11:04,040 - INFO - \n",
      "Synergy scores (bliss):\n",
      "2024-11-20 12:11:04,041 - INFO - PI-PD: -0.09049479166666663\n",
      "2024-11-20 12:11:04,042 - INFO - PI-CT: 0.0036747685185185563\n",
      "2024-11-20 12:11:04,043 - INFO - PI-BI: 0.026205632716049365\n",
      "2024-11-20 12:11:04,043 - INFO - PI-PK: 0.02434413580246908\n",
      "2024-11-20 12:11:04,044 - INFO - PI-AK: 0.0713059413580247\n",
      "2024-11-20 12:11:04,045 - INFO - PI-5Z: -0.0401186342592591\n",
      "2024-11-20 12:11:04,045 - INFO - PD-CT: 0.004036458333333437\n",
      "2024-11-20 12:11:04,046 - INFO - PD-BI: 0.0003906250000000888\n",
      "2024-11-20 12:11:04,046 - INFO - PD-PK: 0.1217013888888887\n",
      "2024-11-20 12:11:04,047 - INFO - PD-AK: -0.04509548611111125\n",
      "2024-11-20 12:11:04,047 - INFO - PD-5Z: 0.009396701388888817\n",
      "2024-11-20 12:11:04,048 - INFO - CT-BI: -6.365740740743586e-05\n",
      "2024-11-20 12:11:04,048 - INFO - CT-PK: 0.0028935185185186008\n",
      "2024-11-20 12:11:04,049 - INFO - CT-AK: 0.0031539351851852526\n",
      "2024-11-20 12:11:04,049 - INFO - CT-5Z: 0.004123263888888951\n",
      "2024-11-20 12:11:04,050 - INFO - BI-PK: -0.08152006172839521\n",
      "2024-11-20 12:11:04,051 - INFO - BI-AK: 0.05797646604938256\n",
      "2024-11-20 12:11:04,051 - INFO - BI-5Z: 0.08091724537037037\n",
      "2024-11-20 12:11:04,052 - INFO - PK-AK: 0.050733024691357986\n",
      "2024-11-20 12:11:04,052 - INFO - PK-5Z: 0.18640046296296298\n",
      "2024-11-20 12:11:04,052 - INFO - AK-5Z: -0.06919849537037048\n",
      "2024-11-20 12:11:14,449 - INFO - \n",
      "Synergy scores (bliss):\n",
      "2024-11-20 12:11:14,450 - INFO - PI-PD: -0.08572362075617268\n",
      "2024-11-20 12:11:14,451 - INFO - PI-CT: 0.0024585262345678816\n",
      "2024-11-20 12:11:14,451 - INFO - PI-BI: 0.028142119984567948\n",
      "2024-11-20 12:11:14,452 - INFO - PI-PK: 0.02219786844135796\n",
      "2024-11-20 12:11:14,453 - INFO - PI-AK: 0.06830198688271616\n",
      "2024-11-20 12:11:14,453 - INFO - PI-5Z: -0.03738811728395064\n",
      "2024-11-20 12:11:14,454 - INFO - PD-CT: 0.0026948302469135266\n",
      "2024-11-20 12:11:14,455 - INFO - PD-BI: -0.0028824266975306934\n",
      "2024-11-20 12:11:14,455 - INFO - PD-PK: 0.12231240354938289\n",
      "2024-11-20 12:11:14,455 - INFO - PD-AK: -0.04284047067901198\n",
      "2024-11-20 12:11:14,456 - INFO - PD-5Z: 0.010084876543209997\n",
      "2024-11-20 12:11:14,456 - INFO - CT-BI: -0.001309799382716026\n",
      "2024-11-20 12:11:14,457 - INFO - CT-PK: 0.0019463734567901625\n",
      "2024-11-20 12:11:14,457 - INFO - CT-AK: 0.0020871913580247092\n",
      "2024-11-20 12:11:14,457 - INFO - CT-5Z: 0.0027469135802469236\n",
      "2024-11-20 12:11:14,458 - INFO - BI-PK: -0.0872246334876543\n",
      "2024-11-20 12:11:14,458 - INFO - BI-AK: 0.0551687885802471\n",
      "2024-11-20 12:11:14,459 - INFO - BI-5Z: 0.07948302469135804\n",
      "2024-11-20 12:11:14,459 - INFO - PK-AK: 0.0492004243827161\n",
      "2024-11-20 12:11:14,460 - INFO - PK-5Z: 0.18417438271604936\n",
      "2024-11-20 12:11:14,460 - INFO - AK-5Z: -0.06526234567901235\n",
      "2024-11-20 12:11:24,848 - INFO - \n",
      "Synergy scores (bliss):\n",
      "2024-11-20 12:11:24,849 - INFO - PI-PD: -0.08098524305555554\n",
      "2024-11-20 12:11:24,850 - INFO - PI-CT: 0.002439236111111076\n",
      "2024-11-20 12:11:24,850 - INFO - PI-BI: 0.026362847222222374\n",
      "2024-11-20 12:11:24,850 - INFO - PI-PK: 0.022473958333333433\n",
      "2024-11-20 12:11:24,851 - INFO - PI-AK: 0.07208116319444446\n",
      "2024-11-20 12:11:24,851 - INFO - PI-5Z: -0.03087673611111108\n",
      "2024-11-20 12:11:24,851 - INFO - PD-CT: 0.0026967592592592737\n",
      "2024-11-20 12:11:24,852 - INFO - PD-BI: 0.006030092592592684\n",
      "2024-11-20 12:11:24,852 - INFO - PD-PK: 0.12450231481481477\n",
      "2024-11-20 12:11:24,852 - INFO - PD-AK: -0.03745659722222239\n",
      "2024-11-20 12:11:24,852 - INFO - PD-5Z: 0.007395833333333157\n",
      "2024-11-20 12:11:24,852 - INFO - CT-BI: -0.0013271604938270842\n",
      "2024-11-20 12:11:24,853 - INFO - CT-PK: 0.0019367283950617598\n",
      "2024-11-20 12:11:24,853 - INFO - CT-AK: 0.0020543981481481177\n",
      "2024-11-20 12:11:24,853 - INFO - CT-5Z: 0.002754629629629579\n",
      "2024-11-20 12:11:24,853 - INFO - BI-PK: -0.07834104938271613\n",
      "2024-11-20 12:11:24,853 - INFO - BI-AK: 0.06698495370370372\n",
      "2024-11-20 12:11:24,853 - INFO - BI-5Z: 0.08594907407407404\n",
      "2024-11-20 12:11:24,854 - INFO - PK-AK: 0.05795717592592575\n",
      "2024-11-20 12:11:24,854 - INFO - PK-5Z: 0.17664351851851856\n",
      "2024-11-20 12:11:24,854 - INFO - AK-5Z: -0.059114583333333304\n",
      "2024-11-20 12:11:34,723 - INFO - \n",
      "Synergy scores (bliss):\n",
      "2024-11-20 12:11:34,724 - INFO - PI-PD: -0.08105324074074072\n",
      "2024-11-20 12:11:34,724 - INFO - PI-CT: 0.003713831018518632\n",
      "2024-11-20 12:11:34,724 - INFO - PI-BI: 0.028322964891975277\n",
      "2024-11-20 12:11:34,725 - INFO - PI-PK: 0.0255936535493827\n",
      "2024-11-20 12:11:34,725 - INFO - PI-AK: 0.06715350115740737\n",
      "2024-11-20 12:11:34,725 - INFO - PI-5Z: -0.03461636766975307\n",
      "2024-11-20 12:11:34,725 - INFO - PD-CT: 0.004027777777777852\n",
      "2024-11-20 12:11:34,725 - INFO - PD-BI: -0.00099537037037023\n",
      "2024-11-20 12:11:34,726 - INFO - PD-PK: 0.1253240740740741\n",
      "2024-11-20 12:11:34,726 - INFO - PD-AK: -0.045069444444444384\n",
      "2024-11-20 12:11:34,727 - INFO - PD-5Z: 0.010717592592592529\n",
      "2024-11-20 12:11:34,727 - INFO - CT-BI: -0.00012442129629619547\n",
      "2024-11-20 12:11:34,727 - INFO - CT-PK: 0.002818287037037126\n",
      "2024-11-20 12:11:34,727 - INFO - CT-AK: 0.003133680555555629\n",
      "2024-11-20 12:11:34,728 - INFO - CT-5Z: 0.004117476851851931\n",
      "2024-11-20 12:11:34,728 - INFO - BI-PK: -0.05815875771604939\n",
      "2024-11-20 12:11:34,728 - INFO - BI-AK: 0.06290943287037032\n",
      "2024-11-20 12:11:34,728 - INFO - BI-5Z: 0.09171923225308642\n",
      "2024-11-20 12:11:34,728 - INFO - PK-AK: 0.050326967592592586\n",
      "2024-11-20 12:11:34,728 - INFO - PK-5Z: 0.1857629243827159\n",
      "2024-11-20 12:11:34,729 - INFO - AK-5Z: -0.06751012731481476\n",
      "2024-11-20 12:11:45,065 - INFO - \n",
      "Synergy scores (bliss):\n",
      "2024-11-20 12:11:45,066 - INFO - PI-PD: -0.07563560956790127\n",
      "2024-11-20 12:11:45,066 - INFO - PI-CT: 0.0024990354938271286\n",
      "2024-11-20 12:11:45,067 - INFO - PI-BI: 0.017120707947530844\n",
      "2024-11-20 12:11:45,068 - INFO - PI-PK: 0.00822844328703698\n",
      "2024-11-20 12:11:45,068 - INFO - PI-AK: 0.05922092013888891\n",
      "2024-11-20 12:11:45,069 - INFO - PI-5Z: -0.029517505787037268\n",
      "2024-11-20 12:11:45,069 - INFO - PD-CT: 0.0026929012345678904\n",
      "2024-11-20 12:11:45,070 - INFO - PD-BI: 0.0006500771604939226\n",
      "2024-11-20 12:11:45,070 - INFO - PD-PK: 0.12826967592592597\n",
      "2024-11-20 12:11:45,071 - INFO - PD-AK: -0.04355902777777776\n",
      "2024-11-20 12:11:45,071 - INFO - PD-5Z: 0.00940393518518512\n"
     ]
    }
   ],
   "source": [
    "sampling_with_ci(boolean_models=best_boolean_models_calibrated,observed_synergy_scores=observed_synergy_scores, model_outputs=model_outputs, \n",
    "                 perturbations=perturbations,synergy_method='bliss', repeat_time=3, sub_ratio=0.8, boot_n=100, confidence_level= 0.95, \n",
    "                 plot=True, plot_discrete=False, save_result=False, with_seeds=True, seeds=42)"
   ]
  }
 ],
 "metadata": {
  "kernelspec": {
   "display_name": "Python 3 (ipykernel)",
   "language": "python",
   "name": "python3"
  },
  "language_info": {
   "codemirror_mode": {
    "name": "ipython",
    "version": 3
   },
   "file_extension": ".py",
   "mimetype": "text/x-python",
   "name": "python",
   "nbconvert_exporter": "python",
   "pygments_lexer": "ipython3",
   "version": "3.11.8"
  }
 },
 "nbformat": 4,
 "nbformat_minor": 5
}
