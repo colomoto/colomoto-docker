{
 "cells": [
  {
   "cell_type": "markdown",
   "metadata": {},
   "source": [
    "In this notebook, we show how the computational of the fixpoints of qualitative regulatory networks can be done with different methods, which should give equivalent results, using *GINsim* and *Pint*."
   ]
  },
  {
   "cell_type": "markdown",
   "metadata": {},
   "source": [
    "### Model loading\n",
    "\n",
    "We load a simple model available on http://ginsim.org/node/41"
   ]
  },
  {
   "cell_type": "code",
   "execution_count": 1,
   "metadata": {},
   "outputs": [],
   "source": [
    "from colomoto_jupyter import tabulate # for displaying list of fixpoints\n",
    "import ginsim"
   ]
  },
  {
   "cell_type": "code",
   "execution_count": 2,
   "metadata": {},
   "outputs": [
    {
     "data": {
      "text/markdown": [
       "Downloading http://ginsim.org/sites/default/files/Th_17.zginml"
      ],
      "text/plain": [
       "<IPython.core.display.Markdown object>"
      ]
     },
     "metadata": {},
     "output_type": "display_data"
    }
   ],
   "source": [
    "th17 = ginsim.load(\"http://ginsim.org/sites/default/files/Th_17.zginml\")"
   ]
  },
  {
   "cell_type": "markdown",
   "metadata": {},
   "source": [
    "### Computation of fixpoints with bioLQM"
   ]
  },
  {
   "cell_type": "code",
   "execution_count": 3,
   "metadata": {},
   "outputs": [],
   "source": [
    "import biolqm"
   ]
  },
  {
   "cell_type": "code",
   "execution_count": 4,
   "metadata": {},
   "outputs": [],
   "source": [
    "th17_lqm = ginsim.to_biolqm(th17)"
   ]
  },
  {
   "cell_type": "code",
   "execution_count": 5,
   "metadata": {},
   "outputs": [
    {
     "data": {
      "text/html": [
       "<div>\n",
       "<style scoped>\n",
       "    .dataframe tbody tr th:only-of-type {\n",
       "        vertical-align: middle;\n",
       "    }\n",
       "\n",
       "    .dataframe tbody tr th {\n",
       "        vertical-align: top;\n",
       "    }\n",
       "\n",
       "    .dataframe thead th {\n",
       "        text-align: right;\n",
       "    }\n",
       "</style>\n",
       "<table border=\"1\" class=\"dataframe\">\n",
       "  <thead>\n",
       "    <tr style=\"text-align: right;\">\n",
       "      <th></th>\n",
       "      <th>IFNg</th>\n",
       "      <th>IFNgR</th>\n",
       "      <th>STAT1</th>\n",
       "      <th>Tbet</th>\n",
       "      <th>SOCS1</th>\n",
       "      <th>IFNb</th>\n",
       "      <th>IFNbR</th>\n",
       "      <th>IL18</th>\n",
       "      <th>IL18R</th>\n",
       "      <th>IRAK</th>\n",
       "      <th>IL12</th>\n",
       "      <th>IL12R</th>\n",
       "      <th>STAT4</th>\n",
       "      <th>IL4</th>\n",
       "      <th>IL4R</th>\n",
       "      <th>STAT6</th>\n",
       "      <th>GATA3</th>\n",
       "    </tr>\n",
       "  </thead>\n",
       "  <tbody>\n",
       "    <tr>\n",
       "      <th>0</th>\n",
       "      <td>0</td>\n",
       "      <td>0</td>\n",
       "      <td>0</td>\n",
       "      <td>0</td>\n",
       "      <td>0</td>\n",
       "      <td>0</td>\n",
       "      <td>0</td>\n",
       "      <td>0</td>\n",
       "      <td>0</td>\n",
       "      <td>0</td>\n",
       "      <td>0</td>\n",
       "      <td>0</td>\n",
       "      <td>0</td>\n",
       "      <td>0</td>\n",
       "      <td>0</td>\n",
       "      <td>0</td>\n",
       "      <td>0</td>\n",
       "    </tr>\n",
       "    <tr>\n",
       "      <th>1</th>\n",
       "      <td>0</td>\n",
       "      <td>0</td>\n",
       "      <td>0</td>\n",
       "      <td>0</td>\n",
       "      <td>0</td>\n",
       "      <td>0</td>\n",
       "      <td>0</td>\n",
       "      <td>0</td>\n",
       "      <td>0</td>\n",
       "      <td>0</td>\n",
       "      <td>0</td>\n",
       "      <td>0</td>\n",
       "      <td>0</td>\n",
       "      <td>1</td>\n",
       "      <td>1</td>\n",
       "      <td>1</td>\n",
       "      <td>1</td>\n",
       "    </tr>\n",
       "    <tr>\n",
       "      <th>2</th>\n",
       "      <td>1</td>\n",
       "      <td>1</td>\n",
       "      <td>1</td>\n",
       "      <td>1</td>\n",
       "      <td>1</td>\n",
       "      <td>0</td>\n",
       "      <td>0</td>\n",
       "      <td>0</td>\n",
       "      <td>0</td>\n",
       "      <td>0</td>\n",
       "      <td>0</td>\n",
       "      <td>0</td>\n",
       "      <td>0</td>\n",
       "      <td>0</td>\n",
       "      <td>0</td>\n",
       "      <td>0</td>\n",
       "      <td>0</td>\n",
       "    </tr>\n",
       "    <tr>\n",
       "      <th>3</th>\n",
       "      <td>2</td>\n",
       "      <td>1</td>\n",
       "      <td>1</td>\n",
       "      <td>2</td>\n",
       "      <td>1</td>\n",
       "      <td>0</td>\n",
       "      <td>0</td>\n",
       "      <td>0</td>\n",
       "      <td>0</td>\n",
       "      <td>0</td>\n",
       "      <td>0</td>\n",
       "      <td>0</td>\n",
       "      <td>0</td>\n",
       "      <td>0</td>\n",
       "      <td>0</td>\n",
       "      <td>0</td>\n",
       "      <td>0</td>\n",
       "    </tr>\n",
       "  </tbody>\n",
       "</table>\n",
       "</div>"
      ],
      "text/plain": [
       "   IFNg  IFNgR  STAT1  Tbet  SOCS1  IFNb  IFNbR  IL18  IL18R  IRAK  IL12  \\\n",
       "0     0      0      0     0      0     0      0     0      0     0     0   \n",
       "1     0      0      0     0      0     0      0     0      0     0     0   \n",
       "2     1      1      1     1      1     0      0     0      0     0     0   \n",
       "3     2      1      1     2      1     0      0     0      0     0     0   \n",
       "\n",
       "   IL12R  STAT4  IL4  IL4R  STAT6  GATA3  \n",
       "0      0      0    0     0      0      0  \n",
       "1      0      0    1     1      1      1  \n",
       "2      0      0    0     0      0      0  \n",
       "3      0      0    0     0      0      0  "
      ]
     },
     "execution_count": 5,
     "metadata": {},
     "output_type": "execute_result"
    }
   ],
   "source": [
    "fps_lqm = biolqm.fixpoints(th17_lqm)\n",
    "tabulate(fps_lqm)"
   ]
  },
  {
   "cell_type": "markdown",
   "metadata": {},
   "source": [
    "### Computation of fixpoints with Pint"
   ]
  },
  {
   "cell_type": "code",
   "execution_count": 6,
   "metadata": {},
   "outputs": [],
   "source": [
    "import pypint"
   ]
  },
  {
   "cell_type": "code",
   "execution_count": 7,
   "metadata": {},
   "outputs": [],
   "source": [
    "th17_an = biolqm.to_pint(th17_lqm)"
   ]
  },
  {
   "cell_type": "code",
   "execution_count": 8,
   "metadata": {},
   "outputs": [
    {
     "data": {
      "text/html": [
       "<div>\n",
       "<style scoped>\n",
       "    .dataframe tbody tr th:only-of-type {\n",
       "        vertical-align: middle;\n",
       "    }\n",
       "\n",
       "    .dataframe tbody tr th {\n",
       "        vertical-align: top;\n",
       "    }\n",
       "\n",
       "    .dataframe thead th {\n",
       "        text-align: right;\n",
       "    }\n",
       "</style>\n",
       "<table border=\"1\" class=\"dataframe\">\n",
       "  <thead>\n",
       "    <tr style=\"text-align: right;\">\n",
       "      <th></th>\n",
       "      <th>IFNg</th>\n",
       "      <th>IFNgR</th>\n",
       "      <th>STAT1</th>\n",
       "      <th>Tbet</th>\n",
       "      <th>SOCS1</th>\n",
       "      <th>IFNb</th>\n",
       "      <th>IFNbR</th>\n",
       "      <th>IL18</th>\n",
       "      <th>IL18R</th>\n",
       "      <th>IRAK</th>\n",
       "      <th>IL12</th>\n",
       "      <th>IL12R</th>\n",
       "      <th>STAT4</th>\n",
       "      <th>IL4</th>\n",
       "      <th>IL4R</th>\n",
       "      <th>STAT6</th>\n",
       "      <th>GATA3</th>\n",
       "    </tr>\n",
       "  </thead>\n",
       "  <tbody>\n",
       "    <tr>\n",
       "      <th>0</th>\n",
       "      <td>0</td>\n",
       "      <td>0</td>\n",
       "      <td>0</td>\n",
       "      <td>0</td>\n",
       "      <td>0</td>\n",
       "      <td>0</td>\n",
       "      <td>0</td>\n",
       "      <td>0</td>\n",
       "      <td>0</td>\n",
       "      <td>0</td>\n",
       "      <td>0</td>\n",
       "      <td>0</td>\n",
       "      <td>0</td>\n",
       "      <td>0</td>\n",
       "      <td>0</td>\n",
       "      <td>0</td>\n",
       "      <td>0</td>\n",
       "    </tr>\n",
       "    <tr>\n",
       "      <th>1</th>\n",
       "      <td>0</td>\n",
       "      <td>0</td>\n",
       "      <td>0</td>\n",
       "      <td>0</td>\n",
       "      <td>0</td>\n",
       "      <td>0</td>\n",
       "      <td>0</td>\n",
       "      <td>0</td>\n",
       "      <td>0</td>\n",
       "      <td>0</td>\n",
       "      <td>0</td>\n",
       "      <td>0</td>\n",
       "      <td>0</td>\n",
       "      <td>1</td>\n",
       "      <td>1</td>\n",
       "      <td>1</td>\n",
       "      <td>1</td>\n",
       "    </tr>\n",
       "    <tr>\n",
       "      <th>2</th>\n",
       "      <td>1</td>\n",
       "      <td>1</td>\n",
       "      <td>1</td>\n",
       "      <td>1</td>\n",
       "      <td>1</td>\n",
       "      <td>0</td>\n",
       "      <td>0</td>\n",
       "      <td>0</td>\n",
       "      <td>0</td>\n",
       "      <td>0</td>\n",
       "      <td>0</td>\n",
       "      <td>0</td>\n",
       "      <td>0</td>\n",
       "      <td>0</td>\n",
       "      <td>0</td>\n",
       "      <td>0</td>\n",
       "      <td>0</td>\n",
       "    </tr>\n",
       "    <tr>\n",
       "      <th>3</th>\n",
       "      <td>2</td>\n",
       "      <td>1</td>\n",
       "      <td>1</td>\n",
       "      <td>2</td>\n",
       "      <td>1</td>\n",
       "      <td>0</td>\n",
       "      <td>0</td>\n",
       "      <td>0</td>\n",
       "      <td>0</td>\n",
       "      <td>0</td>\n",
       "      <td>0</td>\n",
       "      <td>0</td>\n",
       "      <td>0</td>\n",
       "      <td>0</td>\n",
       "      <td>0</td>\n",
       "      <td>0</td>\n",
       "      <td>0</td>\n",
       "    </tr>\n",
       "  </tbody>\n",
       "</table>\n",
       "</div>"
      ],
      "text/plain": [
       "   IFNg  IFNgR  STAT1  Tbet  SOCS1  IFNb  IFNbR  IL18  IL18R  IRAK  IL12  \\\n",
       "0     0      0      0     0      0     0      0     0      0     0     0   \n",
       "1     0      0      0     0      0     0      0     0      0     0     0   \n",
       "2     1      1      1     1      1     0      0     0      0     0     0   \n",
       "3     2      1      1     2      1     0      0     0      0     0     0   \n",
       "\n",
       "   IL12R  STAT4  IL4  IL4R  STAT6  GATA3  \n",
       "0      0      0    0     0      0      0  \n",
       "1      0      0    1     1      1      1  \n",
       "2      0      0    0     0      0      0  \n",
       "3      0      0    0     0      0      0  "
      ]
     },
     "execution_count": 8,
     "metadata": {},
     "output_type": "execute_result"
    }
   ],
   "source": [
    "fps_an = pypint.fixpoints(th17_an)\n",
    "tabulate(fps_an)"
   ]
  },
  {
   "cell_type": "markdown",
   "metadata": {
    "collapsed": true
   },
   "source": [
    "### Display fixpoint using GINsim"
   ]
  },
  {
   "cell_type": "code",
   "execution_count": 9,
   "metadata": {},
   "outputs": [
    {
     "data": {
      "text/html": [
       "<img class=\"unconfined\" width=\"603px\" src=\"data:image/svg+xml;base64,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\">"
      ],
      "text/plain": [
       "<IPython.core.display.HTML object>"
      ]
     },
     "execution_count": 9,
     "metadata": {},
     "output_type": "execute_result"
    }
   ],
   "source": [
    "ginsim.show(th17, fps_lqm[1]) # or fps_an[1]"
   ]
  },
  {
   "cell_type": "code",
   "execution_count": null,
   "metadata": {},
   "outputs": [],
   "source": []
  }
 ],
 "metadata": {
  "kernelspec": {
   "display_name": "Python 3",
   "language": "python",
   "name": "python3"
  },
  "language_info": {
   "codemirror_mode": {
    "name": "ipython",
    "version": 3
   },
   "file_extension": ".py",
   "mimetype": "text/x-python",
   "name": "python",
   "nbconvert_exporter": "python",
   "pygments_lexer": "ipython3",
   "version": "3.7.7"
  }
 },
 "nbformat": 4,
 "nbformat_minor": 2
}
