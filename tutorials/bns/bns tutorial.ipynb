{
 "cells": [
  {
   "cell_type": "markdown",
   "metadata": {},
   "source": [
    "The `bns` package provides functions for the identification of fixed points or of all synchronous attractors. These methods call the BNS tool uses a SAT solver to compute attractors of synchronous models. \n"
   ]
  },
  {
   "cell_type": "code",
   "execution_count": 1,
   "metadata": {},
   "outputs": [],
   "source": [
    "import bns\n",
    "from colomoto_jupyter import tabulate"
   ]
  },
  {
   "cell_type": "code",
   "execution_count": 2,
   "metadata": {},
   "outputs": [
    {
     "data": {
      "text/html": [
       "<div>\n",
       "<style scoped>\n",
       "    .dataframe tbody tr th:only-of-type {\n",
       "        vertical-align: middle;\n",
       "    }\n",
       "\n",
       "    .dataframe tbody tr th {\n",
       "        vertical-align: top;\n",
       "    }\n",
       "\n",
       "    .dataframe thead th {\n",
       "        text-align: right;\n",
       "    }\n",
       "</style>\n",
       "<table border=\"1\" class=\"dataframe\">\n",
       "  <thead>\n",
       "    <tr style=\"text-align: right;\">\n",
       "      <th></th>\n",
       "      <th>0</th>\n",
       "      <th>1</th>\n",
       "      <th>2</th>\n",
       "      <th>3</th>\n",
       "      <th>4</th>\n",
       "      <th>5</th>\n",
       "      <th>6</th>\n",
       "      <th>7</th>\n",
       "      <th>8</th>\n",
       "      <th>9</th>\n",
       "    </tr>\n",
       "  </thead>\n",
       "  <tbody>\n",
       "    <tr>\n",
       "      <th>0</th>\n",
       "      <td>0</td>\n",
       "      <td>1</td>\n",
       "      <td>0</td>\n",
       "      <td>0</td>\n",
       "      <td>0</td>\n",
       "      <td>1</td>\n",
       "      <td>0</td>\n",
       "      <td>1</td>\n",
       "      <td>0</td>\n",
       "      <td>0</td>\n",
       "    </tr>\n",
       "  </tbody>\n",
       "</table>\n",
       "</div>"
      ],
      "text/plain": [
       "   0  1  2  3  4  5  6  7  8  9\n",
       "0  0  1  0  0  0  1  0  1  0  0"
      ]
     },
     "execution_count": 2,
     "metadata": {},
     "output_type": "execute_result"
    }
   ],
   "source": [
    "tabulate(bns.fixpoints(\"cellcycle.cnet\"))"
   ]
  },
  {
   "cell_type": "code",
   "execution_count": 3,
   "metadata": {},
   "outputs": [
    {
     "data": {
      "text/html": [
       "<style  type=\"text/css\" >\n",
       "    #T_7ebe0dda_2f37_11eb_bcf3_e82aea083d10 th.level1 {\n",
       "          display: none;\n",
       "    }    #T_7ebe0dda_2f37_11eb_bcf3_e82aea083d10 th.blank.level0 {\n",
       "          display: none;\n",
       "    }</style><table id=\"T_7ebe0dda_2f37_11eb_bcf3_e82aea083d10\" ><thead>    <tr>        <th class=\"blank\" ></th>        <th class=\"blank level0\" ></th>        <th class=\"col_heading level0 col0\" >0</th>        <th class=\"col_heading level0 col1\" >1</th>        <th class=\"col_heading level0 col2\" >2</th>        <th class=\"col_heading level0 col3\" >3</th>        <th class=\"col_heading level0 col4\" >4</th>        <th class=\"col_heading level0 col5\" >5</th>        <th class=\"col_heading level0 col6\" >6</th>        <th class=\"col_heading level0 col7\" >7</th>        <th class=\"col_heading level0 col8\" >8</th>        <th class=\"col_heading level0 col9\" >9</th>    </tr></thead><tbody>\n",
       "                <tr>\n",
       "                        <th id=\"T_7ebe0dda_2f37_11eb_bcf3_e82aea083d10level0_row0\" class=\"row_heading level0 row0\" >0</th>\n",
       "                        <th id=\"T_7ebe0dda_2f37_11eb_bcf3_e82aea083d10level1_row0\" class=\"row_heading level1 row0\" >0</th>\n",
       "                        <td id=\"T_7ebe0dda_2f37_11eb_bcf3_e82aea083d10row0_col0\" class=\"data row0 col0\" >0</td>\n",
       "                        <td id=\"T_7ebe0dda_2f37_11eb_bcf3_e82aea083d10row0_col1\" class=\"data row0 col1\" >1</td>\n",
       "                        <td id=\"T_7ebe0dda_2f37_11eb_bcf3_e82aea083d10row0_col2\" class=\"data row0 col2\" >0</td>\n",
       "                        <td id=\"T_7ebe0dda_2f37_11eb_bcf3_e82aea083d10row0_col3\" class=\"data row0 col3\" >0</td>\n",
       "                        <td id=\"T_7ebe0dda_2f37_11eb_bcf3_e82aea083d10row0_col4\" class=\"data row0 col4\" >0</td>\n",
       "                        <td id=\"T_7ebe0dda_2f37_11eb_bcf3_e82aea083d10row0_col5\" class=\"data row0 col5\" >1</td>\n",
       "                        <td id=\"T_7ebe0dda_2f37_11eb_bcf3_e82aea083d10row0_col6\" class=\"data row0 col6\" >0</td>\n",
       "                        <td id=\"T_7ebe0dda_2f37_11eb_bcf3_e82aea083d10row0_col7\" class=\"data row0 col7\" >1</td>\n",
       "                        <td id=\"T_7ebe0dda_2f37_11eb_bcf3_e82aea083d10row0_col8\" class=\"data row0 col8\" >0</td>\n",
       "                        <td id=\"T_7ebe0dda_2f37_11eb_bcf3_e82aea083d10row0_col9\" class=\"data row0 col9\" >0</td>\n",
       "            </tr>\n",
       "            <tr>\n",
       "                        <th id=\"T_7ebe0dda_2f37_11eb_bcf3_e82aea083d10level0_row1\" class=\"row_heading level0 row1\" rowspan=7>1</th>\n",
       "                        <th id=\"T_7ebe0dda_2f37_11eb_bcf3_e82aea083d10level1_row1\" class=\"row_heading level1 row1\" >0</th>\n",
       "                        <td id=\"T_7ebe0dda_2f37_11eb_bcf3_e82aea083d10row1_col0\" class=\"data row1 col0\" >1</td>\n",
       "                        <td id=\"T_7ebe0dda_2f37_11eb_bcf3_e82aea083d10row1_col1\" class=\"data row1 col1\" >0</td>\n",
       "                        <td id=\"T_7ebe0dda_2f37_11eb_bcf3_e82aea083d10row1_col2\" class=\"data row1 col2\" >0</td>\n",
       "                        <td id=\"T_7ebe0dda_2f37_11eb_bcf3_e82aea083d10row1_col3\" class=\"data row1 col3\" >0</td>\n",
       "                        <td id=\"T_7ebe0dda_2f37_11eb_bcf3_e82aea083d10row1_col4\" class=\"data row1 col4\" >0</td>\n",
       "                        <td id=\"T_7ebe0dda_2f37_11eb_bcf3_e82aea083d10row1_col5\" class=\"data row1 col5\" >0</td>\n",
       "                        <td id=\"T_7ebe0dda_2f37_11eb_bcf3_e82aea083d10row1_col6\" class=\"data row1 col6\" >1</td>\n",
       "                        <td id=\"T_7ebe0dda_2f37_11eb_bcf3_e82aea083d10row1_col7\" class=\"data row1 col7\" >1</td>\n",
       "                        <td id=\"T_7ebe0dda_2f37_11eb_bcf3_e82aea083d10row1_col8\" class=\"data row1 col8\" >1</td>\n",
       "                        <td id=\"T_7ebe0dda_2f37_11eb_bcf3_e82aea083d10row1_col9\" class=\"data row1 col9\" >0</td>\n",
       "            </tr>\n",
       "            <tr>\n",
       "                                <th id=\"T_7ebe0dda_2f37_11eb_bcf3_e82aea083d10level1_row2\" class=\"row_heading level1 row2\" >5</th>\n",
       "                        <td id=\"T_7ebe0dda_2f37_11eb_bcf3_e82aea083d10row2_col0\" class=\"data row2 col0\" >1</td>\n",
       "                        <td id=\"T_7ebe0dda_2f37_11eb_bcf3_e82aea083d10row2_col1\" class=\"data row2 col1\" >0</td>\n",
       "                        <td id=\"T_7ebe0dda_2f37_11eb_bcf3_e82aea083d10row2_col2\" class=\"data row2 col2\" >0</td>\n",
       "                        <td id=\"T_7ebe0dda_2f37_11eb_bcf3_e82aea083d10row2_col3\" class=\"data row2 col3\" >0</td>\n",
       "                        <td id=\"T_7ebe0dda_2f37_11eb_bcf3_e82aea083d10row2_col4\" class=\"data row2 col4\" >1</td>\n",
       "                        <td id=\"T_7ebe0dda_2f37_11eb_bcf3_e82aea083d10row2_col5\" class=\"data row2 col5\" >0</td>\n",
       "                        <td id=\"T_7ebe0dda_2f37_11eb_bcf3_e82aea083d10row2_col6\" class=\"data row2 col6\" >0</td>\n",
       "                        <td id=\"T_7ebe0dda_2f37_11eb_bcf3_e82aea083d10row2_col7\" class=\"data row2 col7\" >0</td>\n",
       "                        <td id=\"T_7ebe0dda_2f37_11eb_bcf3_e82aea083d10row2_col8\" class=\"data row2 col8\" >1</td>\n",
       "                        <td id=\"T_7ebe0dda_2f37_11eb_bcf3_e82aea083d10row2_col9\" class=\"data row2 col9\" >1</td>\n",
       "            </tr>\n",
       "            <tr>\n",
       "                                <th id=\"T_7ebe0dda_2f37_11eb_bcf3_e82aea083d10level1_row3\" class=\"row_heading level1 row3\" >6</th>\n",
       "                        <td id=\"T_7ebe0dda_2f37_11eb_bcf3_e82aea083d10row3_col0\" class=\"data row3 col0\" >1</td>\n",
       "                        <td id=\"T_7ebe0dda_2f37_11eb_bcf3_e82aea083d10row3_col1\" class=\"data row3 col1\" >0</td>\n",
       "                        <td id=\"T_7ebe0dda_2f37_11eb_bcf3_e82aea083d10row3_col2\" class=\"data row3 col2\" >0</td>\n",
       "                        <td id=\"T_7ebe0dda_2f37_11eb_bcf3_e82aea083d10row3_col3\" class=\"data row3 col3\" >0</td>\n",
       "                        <td id=\"T_7ebe0dda_2f37_11eb_bcf3_e82aea083d10row3_col4\" class=\"data row3 col4\" >1</td>\n",
       "                        <td id=\"T_7ebe0dda_2f37_11eb_bcf3_e82aea083d10row3_col5\" class=\"data row3 col5\" >0</td>\n",
       "                        <td id=\"T_7ebe0dda_2f37_11eb_bcf3_e82aea083d10row3_col6\" class=\"data row3 col6\" >1</td>\n",
       "                        <td id=\"T_7ebe0dda_2f37_11eb_bcf3_e82aea083d10row3_col7\" class=\"data row3 col7\" >0</td>\n",
       "                        <td id=\"T_7ebe0dda_2f37_11eb_bcf3_e82aea083d10row3_col8\" class=\"data row3 col8\" >1</td>\n",
       "                        <td id=\"T_7ebe0dda_2f37_11eb_bcf3_e82aea083d10row3_col9\" class=\"data row3 col9\" >1</td>\n",
       "            </tr>\n",
       "            <tr>\n",
       "                                <th id=\"T_7ebe0dda_2f37_11eb_bcf3_e82aea083d10level1_row4\" class=\"row_heading level1 row4\" >4</th>\n",
       "                        <td id=\"T_7ebe0dda_2f37_11eb_bcf3_e82aea083d10row4_col0\" class=\"data row4 col0\" >1</td>\n",
       "                        <td id=\"T_7ebe0dda_2f37_11eb_bcf3_e82aea083d10row4_col1\" class=\"data row4 col1\" >0</td>\n",
       "                        <td id=\"T_7ebe0dda_2f37_11eb_bcf3_e82aea083d10row4_col2\" class=\"data row4 col2\" >0</td>\n",
       "                        <td id=\"T_7ebe0dda_2f37_11eb_bcf3_e82aea083d10row4_col3\" class=\"data row4 col3\" >1</td>\n",
       "                        <td id=\"T_7ebe0dda_2f37_11eb_bcf3_e82aea083d10row4_col4\" class=\"data row4 col4\" >1</td>\n",
       "                        <td id=\"T_7ebe0dda_2f37_11eb_bcf3_e82aea083d10row4_col5\" class=\"data row4 col5\" >0</td>\n",
       "                        <td id=\"T_7ebe0dda_2f37_11eb_bcf3_e82aea083d10row4_col6\" class=\"data row4 col6\" >0</td>\n",
       "                        <td id=\"T_7ebe0dda_2f37_11eb_bcf3_e82aea083d10row4_col7\" class=\"data row4 col7\" >0</td>\n",
       "                        <td id=\"T_7ebe0dda_2f37_11eb_bcf3_e82aea083d10row4_col8\" class=\"data row4 col8\" >0</td>\n",
       "                        <td id=\"T_7ebe0dda_2f37_11eb_bcf3_e82aea083d10row4_col9\" class=\"data row4 col9\" >0</td>\n",
       "            </tr>\n",
       "            <tr>\n",
       "                                <th id=\"T_7ebe0dda_2f37_11eb_bcf3_e82aea083d10level1_row5\" class=\"row_heading level1 row5\" >1</th>\n",
       "                        <td id=\"T_7ebe0dda_2f37_11eb_bcf3_e82aea083d10row5_col0\" class=\"data row5 col0\" >1</td>\n",
       "                        <td id=\"T_7ebe0dda_2f37_11eb_bcf3_e82aea083d10row5_col1\" class=\"data row5 col1\" >0</td>\n",
       "                        <td id=\"T_7ebe0dda_2f37_11eb_bcf3_e82aea083d10row5_col2\" class=\"data row5 col2\" >1</td>\n",
       "                        <td id=\"T_7ebe0dda_2f37_11eb_bcf3_e82aea083d10row5_col3\" class=\"data row5 col3\" >0</td>\n",
       "                        <td id=\"T_7ebe0dda_2f37_11eb_bcf3_e82aea083d10row5_col4\" class=\"data row5 col4\" >0</td>\n",
       "                        <td id=\"T_7ebe0dda_2f37_11eb_bcf3_e82aea083d10row5_col5\" class=\"data row5 col5\" >0</td>\n",
       "                        <td id=\"T_7ebe0dda_2f37_11eb_bcf3_e82aea083d10row5_col6\" class=\"data row5 col6\" >0</td>\n",
       "                        <td id=\"T_7ebe0dda_2f37_11eb_bcf3_e82aea083d10row5_col7\" class=\"data row5 col7\" >1</td>\n",
       "                        <td id=\"T_7ebe0dda_2f37_11eb_bcf3_e82aea083d10row5_col8\" class=\"data row5 col8\" >1</td>\n",
       "                        <td id=\"T_7ebe0dda_2f37_11eb_bcf3_e82aea083d10row5_col9\" class=\"data row5 col9\" >0</td>\n",
       "            </tr>\n",
       "            <tr>\n",
       "                                <th id=\"T_7ebe0dda_2f37_11eb_bcf3_e82aea083d10level1_row6\" class=\"row_heading level1 row6\" >2</th>\n",
       "                        <td id=\"T_7ebe0dda_2f37_11eb_bcf3_e82aea083d10row6_col0\" class=\"data row6 col0\" >1</td>\n",
       "                        <td id=\"T_7ebe0dda_2f37_11eb_bcf3_e82aea083d10row6_col1\" class=\"data row6 col1\" >0</td>\n",
       "                        <td id=\"T_7ebe0dda_2f37_11eb_bcf3_e82aea083d10row6_col2\" class=\"data row6 col2\" >1</td>\n",
       "                        <td id=\"T_7ebe0dda_2f37_11eb_bcf3_e82aea083d10row6_col3\" class=\"data row6 col3\" >1</td>\n",
       "                        <td id=\"T_7ebe0dda_2f37_11eb_bcf3_e82aea083d10row6_col4\" class=\"data row6 col4\" >0</td>\n",
       "                        <td id=\"T_7ebe0dda_2f37_11eb_bcf3_e82aea083d10row6_col5\" class=\"data row6 col5\" >0</td>\n",
       "                        <td id=\"T_7ebe0dda_2f37_11eb_bcf3_e82aea083d10row6_col6\" class=\"data row6 col6\" >0</td>\n",
       "                        <td id=\"T_7ebe0dda_2f37_11eb_bcf3_e82aea083d10row6_col7\" class=\"data row6 col7\" >1</td>\n",
       "                        <td id=\"T_7ebe0dda_2f37_11eb_bcf3_e82aea083d10row6_col8\" class=\"data row6 col8\" >0</td>\n",
       "                        <td id=\"T_7ebe0dda_2f37_11eb_bcf3_e82aea083d10row6_col9\" class=\"data row6 col9\" >0</td>\n",
       "            </tr>\n",
       "            <tr>\n",
       "                                <th id=\"T_7ebe0dda_2f37_11eb_bcf3_e82aea083d10level1_row7\" class=\"row_heading level1 row7\" >3</th>\n",
       "                        <td id=\"T_7ebe0dda_2f37_11eb_bcf3_e82aea083d10row7_col0\" class=\"data row7 col0\" >1</td>\n",
       "                        <td id=\"T_7ebe0dda_2f37_11eb_bcf3_e82aea083d10row7_col1\" class=\"data row7 col1\" >0</td>\n",
       "                        <td id=\"T_7ebe0dda_2f37_11eb_bcf3_e82aea083d10row7_col2\" class=\"data row7 col2\" >1</td>\n",
       "                        <td id=\"T_7ebe0dda_2f37_11eb_bcf3_e82aea083d10row7_col3\" class=\"data row7 col3\" >1</td>\n",
       "                        <td id=\"T_7ebe0dda_2f37_11eb_bcf3_e82aea083d10row7_col4\" class=\"data row7 col4\" >1</td>\n",
       "                        <td id=\"T_7ebe0dda_2f37_11eb_bcf3_e82aea083d10row7_col5\" class=\"data row7 col5\" >0</td>\n",
       "                        <td id=\"T_7ebe0dda_2f37_11eb_bcf3_e82aea083d10row7_col6\" class=\"data row7 col6\" >0</td>\n",
       "                        <td id=\"T_7ebe0dda_2f37_11eb_bcf3_e82aea083d10row7_col7\" class=\"data row7 col7\" >1</td>\n",
       "                        <td id=\"T_7ebe0dda_2f37_11eb_bcf3_e82aea083d10row7_col8\" class=\"data row7 col8\" >0</td>\n",
       "                        <td id=\"T_7ebe0dda_2f37_11eb_bcf3_e82aea083d10row7_col9\" class=\"data row7 col9\" >0</td>\n",
       "            </tr>\n",
       "    </tbody></table>"
      ],
      "text/plain": [
       "<pandas.io.formats.style.Styler at 0x7fc41836b5d0>"
      ]
     },
     "execution_count": 3,
     "metadata": {},
     "output_type": "execute_result"
    }
   ],
   "source": [
    "tabulate(bns.attractors(\"cellcycle.cnet\"))"
   ]
  },
  {
   "cell_type": "markdown",
   "metadata": {},
   "source": [
    "The search can be restricted to attractors of a specific length. Note that an attractor on length `k` is also an attractor of length `n*k`.\n",
    "\n",
    "This restriction is in particular used to identify only fixed points, wich are found for any length."
   ]
  },
  {
   "cell_type": "code",
   "execution_count": 4,
   "metadata": {},
   "outputs": [
    {
     "data": {
      "text/html": [
       "<div>\n",
       "<style scoped>\n",
       "    .dataframe tbody tr th:only-of-type {\n",
       "        vertical-align: middle;\n",
       "    }\n",
       "\n",
       "    .dataframe tbody tr th {\n",
       "        vertical-align: top;\n",
       "    }\n",
       "\n",
       "    .dataframe thead th {\n",
       "        text-align: right;\n",
       "    }\n",
       "</style>\n",
       "<table border=\"1\" class=\"dataframe\">\n",
       "  <thead>\n",
       "    <tr style=\"text-align: right;\">\n",
       "      <th></th>\n",
       "      <th>0</th>\n",
       "      <th>1</th>\n",
       "      <th>2</th>\n",
       "      <th>3</th>\n",
       "      <th>4</th>\n",
       "      <th>5</th>\n",
       "      <th>6</th>\n",
       "      <th>7</th>\n",
       "      <th>8</th>\n",
       "      <th>9</th>\n",
       "    </tr>\n",
       "  </thead>\n",
       "  <tbody>\n",
       "    <tr>\n",
       "      <th>0</th>\n",
       "      <td>0</td>\n",
       "      <td>1</td>\n",
       "      <td>0</td>\n",
       "      <td>0</td>\n",
       "      <td>0</td>\n",
       "      <td>1</td>\n",
       "      <td>0</td>\n",
       "      <td>1</td>\n",
       "      <td>0</td>\n",
       "      <td>0</td>\n",
       "    </tr>\n",
       "  </tbody>\n",
       "</table>\n",
       "</div>"
      ],
      "text/plain": [
       "   0  1  2  3  4  5  6  7  8  9\n",
       "0  0  1  0  0  0  1  0  1  0  0"
      ]
     },
     "execution_count": 4,
     "metadata": {},
     "output_type": "execute_result"
    }
   ],
   "source": [
    "tabulate(bns.attractors(\"cellcycle.cnet\", length=3))"
   ]
  }
 ],
 "metadata": {
  "kernelspec": {
   "display_name": "Python 3",
   "language": "python",
   "name": "python3"
  },
  "language_info": {
   "codemirror_mode": {
    "name": "ipython",
    "version": 3
   },
   "file_extension": ".py",
   "mimetype": "text/x-python",
   "name": "python",
   "nbconvert_exporter": "python",
   "pygments_lexer": "ipython3",
   "version": "3.7.7"
  }
 },
 "nbformat": 4,
 "nbformat_minor": 4
}
