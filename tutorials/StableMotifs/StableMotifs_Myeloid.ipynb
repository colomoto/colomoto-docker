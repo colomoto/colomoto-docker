{
 "cells": [
  {
   "cell_type": "markdown",
   "metadata": {},
   "source": [
    "This is a quick demo of *StableMotifs* for the control of attractors in Boolean networks, using Python module [stablemotifs](https://github.com/algorecell/StableMotifs-python). Further documentation and examples can be found at https://stablemotifs-python.readthedocs.io."
   ]
  },
  {
   "cell_type": "code",
   "execution_count": 1,
   "metadata": {},
   "outputs": [],
   "source": [
    "import stablemotifs\n",
    "import biolqm\n",
    "import ginsim\n",
    "from colomoto_jupyter import tabulate"
   ]
  },
  {
   "cell_type": "markdown",
   "metadata": {},
   "source": [
    "We use `biolqm` and `ginsim` to load and display the model from BooleanNet format. Note that `stablemotifs` can also take directly a the model filename as argument."
   ]
  },
  {
   "cell_type": "code",
   "execution_count": 2,
   "metadata": {},
   "outputs": [],
   "source": [
    "model = biolqm.load(\"MyeloidRules.txt\", \"booleannet\")"
   ]
  },
  {
   "cell_type": "code",
   "execution_count": 3,
   "metadata": {},
   "outputs": [
    {
     "data": {
      "text/html": [
       "<img class=\"unconfined\" width=\"537px\" src=\"data:image/svg+xml;base64,PD94bWwgdmVyc2lvbj0iMS4wIiBlbmNvZGluZz0iVVRGLTgiPz4KPCFET0NUWVBFIHN2ZyBQVUJMSUMgIi0vL1czQy8vRFREIFNWRyAyMDAwMTEwMi8vRU4iICJodHRwOi8vd3d3LnczLm9yZy9UUi8yMDAwL0NSLVNWRy0yMDAwMTEwMi9EVEQvc3ZnLTIwMDAxMTAyLmR0ZCI+Cjxzdmcgd2lkdGg9IjUzNy4wIiBoZWlnaHQ9IjY3Mi4wIiB4bWxucz0iaHR0cDovL3d3dy53My5vcmcvMjAwMC9zdmciIHZlcnNpb249IjEuMSI+CiAgPHN0eWxlIHR5cGU9InRleHQvY3NzIj4KdGV4dCB7CiAgZm9udC1mYW1pbHk6ICdTYW5zU2VyaWYnOwogIGZvbnQtc2l6ZTogMTJweDsKfQoubm9kZSAuc2hhcGUgewpmaWxsOiAjZmZmZmZmOwpzdHJva2U6ICMwMDAwMDA7Cn0KLm5vZGUgdGV4dCB7CmZpbGw6ICMwMDAwMDA7Cn0KLmVkZ2UgewpzdHJva2U6ICMwMDAwMDA7CmZpbGw6IG5vbmU7CnN0cm9rZS13aWR0aDogMTsKfQouZWRnZV9QT1NJVElWRSB7CnN0cm9rZTogIzAwYzgwMDsKfQouZWRnZV9ORUdBVElWRSB7CnN0cm9rZTogI2M4MDAwMDsKfQouZWRnZV9EVUFMIHsKc3Ryb2tlOiAjMDAwMGM4Owp9Cjwvc3R5bGU+CiAgPGRlZnM+CiAgICA8bWFya2VyIGlkPSJNYXJrZXJfTkVHQVRJVkVfYzgwMDAwIiB2aWV3Qm94PSItNyAtNyAxMiAxNSIgb3JpZW50PSJhdXRvIiBtYXJrZXJIZWlnaHQ9IjkiIG1hcmtlcldpZHRoPSI5Ij4KICAgICAgPHBhdGggc3Ryb2tlPSIjYzgwMDAwIiBmaWxsPSIjYzgwMDAwIiBkPSJNIC0xIC00IEwgLTEgNCBMIDEgNCBMIDEgLTQgeiIvPgogICAgPC9tYXJrZXI+CiAgPC9kZWZzPgogIDxwYXRoIGNsYXNzPSJlZGdlIGVkZ2VfTkVHQVRJVkUiIG1hcmtlci1lbmQ9InVybCgjTWFya2VyX05FR0FUSVZFX2M4MDAwMCkiIGQ9Ik0gMjQ0LjAgMzI0LjAgTCAzNzcuMCAzNDQuMCIvPgogIDxwYXRoIGNsYXNzPSJlZGdlIGVkZ2VfTkVHQVRJVkUiIG1hcmtlci1lbmQ9InVybCgjTWFya2VyX05FR0FUSVZFX2M4MDAwMCkiIGQ9Ik0gMTg5LjAgNDk4LjAgTCAxMjguMCAzODcuMCIvPgogIDxwYXRoIGNsYXNzPSJlZGdlIGVkZ2VfTkVHQVRJVkUiIG1hcmtlci1lbmQ9InVybCgjTWFya2VyX05FR0FUSVZFX2M4MDAwMCkiIGQ9Ik0gMjEyLjAgNDk4LjAgTCAzODYuMCAzNjMuMCIvPgogIDxwYXRoIGNsYXNzPSJlZGdlIGVkZ2VfTkVHQVRJVkUiIG1hcmtlci1lbmQ9InVybCgjTWFya2VyX05FR0FUSVZFX2M4MDAwMCkiIGQ9Ik0gNDg3LjAgMTU5LjAgTCAzMjcuMCA2OS4wIi8+CiAgPHBhdGggY2xhc3M9ImVkZ2UgZWRnZV9ORUdBVElWRSIgbWFya2VyLWVuZD0idXJsKCNNYXJrZXJfTkVHQVRJVkVfYzgwMDAwKSIgZD0iTSA0ODUuMCAxNTkuMCBMIDQ0Mi4wIDEwOC4wIEwgNDQyLjAgNzYuMCIvPgogIDxwYXRoIGNsYXNzPSJlZGdlIGVkZ2VfTkVHQVRJVkUiIG1hcmtlci1lbmQ9InVybCgjTWFya2VyX05FR0FUSVZFX2M4MDAwMCkiIGQ9Ik0gMzY5LjAgNjQwLjAgTCA0MzIuMCA1OTMuMCBMIDQ1OS4wIDU5My4wIi8+CiAgPGRlZnM+CiAgICA8bWFya2VyIGlkPSJNYXJrZXJfUE9TSVRJVkVfMDBjODAwIiB2aWV3Qm94PSItNyAtNyAxMiAxNSIgb3JpZW50PSJhdXRvIiBtYXJrZXJIZWlnaHQ9IjkiIG1hcmtlcldpZHRoPSI5Ij4KICAgICAgPHBhdGggc3Ryb2tlPSIjMDBjODAwIiBmaWxsPSIjMDBjODAwIiBkPSJNIC00IC01IEwgLTIgMCBMIC00IDUgTCAyIDAgeiIvPgogICAgPC9tYXJrZXI+CiAgPC9kZWZzPgogIDxwYXRoIGNsYXNzPSJlZGdlIGVkZ2VfUE9TSVRJVkUiIG1hcmtlci1lbmQ9InVybCgjTWFya2VyX1BPU0lUSVZFXzAwYzgwMCkiIGQ9Ik0gMzI0LjAgNTguMCBMIDQwMi4wIDU4LjAiLz4KICA8cGF0aCBjbGFzcz0iZWRnZSBlZGdlX05FR0FUSVZFIiBtYXJrZXItZW5kPSJ1cmwoI01hcmtlcl9ORUdBVElWRV9jODAwMDApIiBkPSJNIDI5OC4wIDQzOC4wIEwgMTgzLjAgNDExLjAgTCAxNDcuMCAzODcuMCIvPgogIDxwYXRoIGNsYXNzPSJlZGdlIGVkZ2VfUE9TSVRJVkUiIG1hcmtlci1lbmQ9InVybCgjTWFya2VyX1BPU0lUSVZFXzAwYzgwMCkiIGQ9Ik0gMzMzLjAgNDQwLjAgTCAzMzMuMCA0MjUuMCBMIDM2MC4wIDQyNS4wIEwgMzYwLjAgNDUyLjAgTCAzNDguMCA0NTIuMCIvPgogIDxwYXRoIGNsYXNzPSJlZGdlIGVkZ2VfUE9TSVRJVkUiIG1hcmtlci1lbmQ9InVybCgjTWFya2VyX1BPU0lUSVZFXzAwYzgwMCkiIGQ9Ik0gMjk4LjAgNDYzLjAgTCAyMjIuMCA1MDEuMCIvPgogIDxwYXRoIGNsYXNzPSJlZGdlIGVkZ2VfUE9TSVRJVkUiIG1hcmtlci1lbmQ9InVybCgjTWFya2VyX1BPU0lUSVZFXzAwYzgwMCkiIGQ9Ik0gMzIzLjAgNDY3LjAgTCAzNDMuMCA2MzguMCIvPgogIDxwYXRoIGNsYXNzPSJlZGdlIGVkZ2VfUE9TSVRJVkUiIG1hcmtlci1lbmQ9InVybCgjTWFya2VyX1BPU0lUSVZFXzAwYzgwMCkiIGQ9Ik0gMzQ3LjAgNDY3LjAgTCA0MzkuMCA1MjcuMCBMIDQ2MC4wIDU2Ni4wIi8+CiAgPHBhdGggY2xhc3M9ImVkZ2UgZWRnZV9QT1NJVElWRSIgbWFya2VyLWVuZD0idXJsKCNNYXJrZXJfUE9TSVRJVkVfMDBjODAwKSIgZD0iTSAzMTIuMCA0MzguMCBMIDIzMC4wIDMzNy4wIi8+CiAgPHBhdGggY2xhc3M9ImVkZ2UgZWRnZV9ORUdBVElWRSIgbWFya2VyLWVuZD0idXJsKCNNYXJrZXJfTkVHQVRJVkVfYzgwMDAwKSIgZD0iTSAzMzIuMCA0MzguMCBMIDM5Mi4wIDM2My4wIi8+CiAgPHBhdGggY2xhc3M9ImVkZ2UgZWRnZV9ORUdBVElWRSIgbWFya2VyLWVuZD0idXJsKCNNYXJrZXJfTkVHQVRJVkVfYzgwMDAwKSIgZD0iTSAyOTguMCA0MzguMCBMIDI5MC4wIDMwNy4wIEwgMjkwLjAgMjQ4LjAiLz4KICA8cGF0aCBjbGFzcz0iZWRnZSBlZGdlX1BPU0lUSVZFIiBtYXJrZXItZW5kPSJ1cmwoI01hcmtlcl9QT1NJVElWRV8wMGM4MDApIiBkPSJNIDQ2MS4wIDU2OC4wIEwgMzY4LjAgNTA3LjAgTCAzNDcuMCA0NjguMCIvPgogIDxwYXRoIGNsYXNzPSJlZGdlIGVkZ2VfTkVHQVRJVkUiIG1hcmtlci1lbmQ9InVybCgjTWFya2VyX05FR0FUSVZFX2M4MDAwMCkiIGQ9Ik0gNDYxLjAgNTk3LjAgTCAzOTcuMCA2NDMuMCBMIDM3MC4wIDY0My4wIi8+CiAgPHBhdGggY2xhc3M9ImVkZ2UgZWRnZV9ORUdBVElWRSIgbWFya2VyLWVuZD0idXJsKCNNYXJrZXJfTkVHQVRJVkVfYzgwMDAwKSIgZD0iTSAyNzAuMCAyNDcuMCBMIDE4OS4wIDMzNS4wIEwgMTQ3LjAgMzU2LjAiLz4KICA8cGF0aCBjbGFzcz0iZWRnZSBlZGdlX05FR0FUSVZFIiBtYXJrZXItZW5kPSJ1cmwoI01hcmtlcl9ORUdBVElWRV9jODAwMDApIiBkPSJNIDMxOS4wIDI0Ny4wIEwgMzI2LjAgMzc3LjAgTCAzMjYuMCA0MzYuMCIvPgogIDxwYXRoIGNsYXNzPSJlZGdlIGVkZ2VfTkVHQVRJVkUiIG1hcmtlci1lbmQ9InVybCgjTWFya2VyX05FR0FUSVZFX2M4MDAwMCkiIGQ9Ik0gMjgzLjAgMjQ3LjAgTCAyMzEuMCAzMDUuMCIvPgogIDxwYXRoIGNsYXNzPSJlZGdlIGVkZ2VfUE9TSVRJVkUiIG1hcmtlci1lbmQ9InVybCgjTWFya2VyX1BPU0lUSVZFXzAwYzgwMCkiIGQ9Ik0gMzA1LjAgMjIwLjAgTCAzMDUuMCAyMDUuMCBMIDMzMi4wIDIwNS4wIEwgMzMyLjAgMjMyLjAgTCAzMjAuMCAyMzIuMCIvPgogIDxwYXRoIGNsYXNzPSJlZGdlIGVkZ2VfUE9TSVRJVkUiIG1hcmtlci1lbmQ9InVybCgjTWFya2VyX1BPU0lUSVZFXzAwYzgwMCkiIGQ9Ik0gMjk3LjAgMjIwLjAgTCAyOTcuMCA3MS4wIi8+CiAgPHBhdGggY2xhc3M9ImVkZ2UgZWRnZV9QT1NJVElWRSIgbWFya2VyLWVuZD0idXJsKCNNYXJrZXJfUE9TSVRJVkVfMDBjODAwKSIgZD0iTSAzMDMuMCAyMTguMCBMIDQxNC4wIDc2LjAiLz4KICA8cGF0aCBjbGFzcz0iZWRnZSBlZGdlX05FR0FUSVZFIiBtYXJrZXItZW5kPSJ1cmwoI01hcmtlcl9ORUdBVElWRV9jODAwMDApIiBkPSJNIDQ1MC4wIDc1LjAgTCA0OTIuMCAxMjUuMCBMIDQ5Mi4wIDE1Ny4wIi8+CiAgPHBhdGggY2xhc3M9ImVkZ2UgZWRnZV9QT1NJVElWRSIgbWFya2VyLWVuZD0idXJsKCNNYXJrZXJfUE9TSVRJVkVfMDBjODAwKSIgZD0iTSAxMzIuMCAzNTkuMCBMIDEzMi4wIDM0NC4wIEwgMTU5LjAgMzQ0LjAgTCAxNTkuMCAzNzEuMCBMIDE0Ny4wIDM3MS4wIi8+CiAgPHBhdGggY2xhc3M9ImVkZ2UgZWRnZV9QT1NJVElWRSIgbWFya2VyLWVuZD0idXJsKCNNYXJrZXJfUE9TSVRJVkVfMDBjODAwKSIgZD0iTSAxNDYuMCAzODYuMCBMIDI2MC4wIDQxMi4wIEwgMjk2LjAgNDM2LjAiLz4KICA8cGF0aCBjbGFzcz0iZWRnZSBlZGdlX05FR0FUSVZFIiBtYXJrZXItZW5kPSJ1cmwoI01hcmtlcl9ORUdBVElWRV9jODAwMDApIiBkPSJNIDE0Ni4wIDM1Ny4wIEwgMjI2LjAgMjY4LjAgTCAyNjguMCAyNDcuMCIvPgogIDxwYXRoIGNsYXNzPSJlZGdlIGVkZ2VfUE9TSVRJVkUiIG1hcmtlci1lbmQ9InVybCgjTWFya2VyX1BPU0lUSVZFXzAwYzgwMCkiIGQ9Ik0gNDE0LjAgMzM1LjAgTCA0MTQuMCAzMjAuMCBMIDQ0MS4wIDMyMC4wIEwgNDQxLjAgMzQ3LjAgTCA0MjkuMCAzNDcuMCIvPgogIDxwYXRoIGNsYXNzPSJlZGdlIGVkZ2VfUE9TSVRJVkUiIG1hcmtlci1lbmQ9InVybCgjTWFya2VyX1BPU0lUSVZFXzAwYzgwMCkiIGQ9Ik0gMzkxLjAgMzMzLjAgTCAzMDcuMCAyNDguMCIvPgogIDxwYXRoIGNsYXNzPSJlZGdlIGVkZ2VfUE9TSVRJVkUiIG1hcmtlci1lbmQ9InVybCgjTWFya2VyX1BPU0lUSVZFXzAwYzgwMCkiIGQ9Ik0gNDExLjAgMzMzLjAgTCA1MDAuMCAxODkuMCIvPgogIDxnIGlkPSJHQVRBMiIgY2xhc3M9Im5vZGUiPgogICAgPGVsbGlwc2UgaWQ9IkdBVEEyX3NoYXBlIiBjbGFzcz0ic2hhcGUiIGN4PSIxMjEuNSIgY3k9IjM3MS41IiByeD0iMjIuNSIgcnk9IjEyLjUiLz4KICAgIDx0ZXh0ICBpZD0iR0FUQTJfdGV4dCIgeD0iMTIxIiB5PSIzNzQiIHRleHQtYW5jaG9yPSJtaWRkbGUiPkdBVEEyPC90ZXh0PgogIDwvZz4KICA8ZyBpZD0iR0FUQTEiIGNsYXNzPSJub2RlIj4KICAgIDxlbGxpcHNlIGlkPSJHQVRBMV9zaGFwZSIgY2xhc3M9InNoYXBlIiBjeD0iMzIyLjUiIGN5PSI0NTIuNSIgcng9IjIyLjUiIHJ5PSIxMi41Ii8+CiAgICA8dGV4dCAgaWQ9IkdBVEExX3RleHQiIHg9IjMyMiIgeT0iNDU1IiB0ZXh0LWFuY2hvcj0ibWlkZGxlIj5HQVRBMTwvdGV4dD4KICA8L2c+CiAgPGcgaWQ9IkZPRzEiIGNsYXNzPSJub2RlIj4KICAgIDxlbGxpcHNlIGlkPSJGT0cxX3NoYXBlIiBjbGFzcz0ic2hhcGUiIGN4PSIxOTYuNSIgY3k9IjUxMi41IiByeD0iMjIuNSIgcnk9IjEyLjUiLz4KICAgIDx0ZXh0ICBpZD0iRk9HMV90ZXh0IiB4PSIxOTYiIHk9IjUxNSIgdGV4dC1hbmNob3I9Im1pZGRsZSI+Rk9HMTwvdGV4dD4KICA8L2c+CiAgPGcgaWQ9IkVLTEYiIGNsYXNzPSJub2RlIj4KICAgIDxlbGxpcHNlIGlkPSJFS0xGX3NoYXBlIiBjbGFzcz0ic2hhcGUiIGN4PSIzNDQuNSIgY3k9IjY1NC41IiByeD0iMjIuNSIgcnk9IjEyLjUiLz4KICAgIDx0ZXh0ICBpZD0iRUtMRl90ZXh0IiB4PSIzNDQiIHk9IjY1NyIgdGV4dC1hbmNob3I9Im1pZGRsZSI+RUtMRjwvdGV4dD4KICA8L2c+CiAgPGcgaWQ9IkZsaTEiIGNsYXNzPSJub2RlIj4KICAgIDxlbGxpcHNlIGlkPSJGbGkxX3NoYXBlIiBjbGFzcz0ic2hhcGUiIGN4PSI0ODUuNSIgY3k9IjU4Mi41IiByeD0iMjIuNSIgcnk9IjEyLjUiLz4KICAgIDx0ZXh0ICBpZD0iRmxpMV90ZXh0IiB4PSI0ODUiIHk9IjU4NSIgdGV4dC1hbmNob3I9Im1pZGRsZSI+RmxpMTwvdGV4dD4KICA8L2c+CiAgPGcgaWQ9IlNDTCIgY2xhc3M9Im5vZGUiPgogICAgPGVsbGlwc2UgaWQ9IlNDTF9zaGFwZSIgY2xhc3M9InNoYXBlIiBjeD0iMjE5LjUiIGN5PSIzMjEuNSIgcng9IjIyLjUiIHJ5PSIxMi41Ii8+CiAgICA8dGV4dCAgaWQ9IlNDTF90ZXh0IiB4PSIyMTkiIHk9IjMyNCIgdGV4dC1hbmNob3I9Im1pZGRsZSI+U0NMPC90ZXh0PgogIDwvZz4KICA8ZyBpZD0iQ0VCUEEiIGNsYXNzPSJub2RlIj4KICAgIDxlbGxpcHNlIGlkPSJDRUJQQV9zaGFwZSIgY2xhc3M9InNoYXBlIiBjeD0iNDAzLjUiIGN5PSIzNDcuNSIgcng9IjIyLjUiIHJ5PSIxMi41Ii8+CiAgICA8dGV4dCAgaWQ9IkNFQlBBX3RleHQiIHg9IjQwMyIgeT0iMzUwIiB0ZXh0LWFuY2hvcj0ibWlkZGxlIj5DRUJQQTwvdGV4dD4KICA8L2c+CiAgPGcgaWQ9IlBVMSIgY2xhc3M9Im5vZGUiPgogICAgPGVsbGlwc2UgaWQ9IlBVMV9zaGFwZSIgY2xhc3M9InNoYXBlIiBjeD0iMjk0LjUiIGN5PSIyMzIuNSIgcng9IjIyLjUiIHJ5PSIxMi41Ii8+CiAgICA8dGV4dCAgaWQ9IlBVMV90ZXh0IiB4PSIyOTQiIHk9IjIzNSIgdGV4dC1hbmNob3I9Im1pZGRsZSI+UFUxPC90ZXh0PgogIDwvZz4KICA8ZyBpZD0iY0p1biIgY2xhc3M9Im5vZGUiPgogICAgPGVsbGlwc2UgaWQ9ImNKdW5fc2hhcGUiIGNsYXNzPSJzaGFwZSIgY3g9IjMwMS41IiBjeT0iNTcuNSIgcng9IjIyLjUiIHJ5PSIxMi41Ii8+CiAgICA8dGV4dCAgaWQ9ImNKdW5fdGV4dCIgeD0iMzAxIiB5PSI2MCIgdGV4dC1hbmNob3I9Im1pZGRsZSI+Y0p1bjwvdGV4dD4KICA8L2c+CiAgPGcgaWQ9IkVnck5hYiIgY2xhc3M9Im5vZGUiPgogICAgPGVsbGlwc2UgaWQ9IkVnck5hYl9zaGFwZSIgY2xhc3M9InNoYXBlIiBjeD0iNDI1LjUiIGN5PSI2MC41IiByeD0iMjIuNSIgcnk9IjEyLjUiLz4KICAgIDx0ZXh0ICBpZD0iRWdyTmFiX3RleHQiIHg9IjQyNSIgeT0iNjMiIHRleHQtYW5jaG9yPSJtaWRkbGUiPkVnck5hYjwvdGV4dD4KICA8L2c+CiAgPGcgaWQ9IkdmaTEiIGNsYXNzPSJub2RlIj4KICAgIDxlbGxpcHNlIGlkPSJHZmkxX3NoYXBlIiBjbGFzcz0ic2hhcGUiIGN4PSI1MDkuNSIgY3k9IjE3My41IiByeD0iMjIuNSIgcnk9IjEyLjUiLz4KICAgIDx0ZXh0ICBpZD0iR2ZpMV90ZXh0IiB4PSI1MDkiIHk9IjE3NiIgdGV4dC1hbmNob3I9Im1pZGRsZSI+R2ZpMTwvdGV4dD4KICA8L2c+Cjwvc3ZnPgo=\">"
      ],
      "text/plain": [
       "<IPython.core.display.HTML object>"
      ]
     },
     "execution_count": 3,
     "metadata": {},
     "output_type": "execute_result"
    }
   ],
   "source": [
    "ginsim.show(biolqm.to_ginsim(model, layout_scale=0.9))"
   ]
  },
  {
   "cell_type": "markdown",
   "metadata": {},
   "source": [
    "Let us invoke StableMotifs on this model:"
   ]
  },
  {
   "cell_type": "code",
   "execution_count": 4,
   "metadata": {},
   "outputs": [
    {
     "name": "stdout",
     "output_type": "stream",
     "text": [
      "\n",
      "Filename: model.txt\n",
      "Creating Boolean table directory: model\n",
      "Boolean table directory created.\n",
      "Creating functions and names files.\n",
      "Functions and names files created.\n",
      "Performing network reduction...\n",
      "Finding stable motifs in this network...\n",
      "There are 3 stable motifs in this network: \n",
      "1/3\tCEBPA=0\t\n",
      "2/3\tGATA2=0\t\n",
      "3/3\tGATA1=1\tPU1=0\t\n",
      "Performing network reduction using motif 1/3...\n",
      "Performing network reduction using motif 2/3...\n",
      "Performing network reduction using motif 3/3...\n",
      "Network reduction complete.\n",
      "Removing duplicate quasi-attractors.\n",
      "Total number of quasi-attractors: 6\n",
      "Number of putative quasi-attractors: 0\n",
      "Total time for finding quasi-attractors: 2.672658937 s\n",
      "Writing TXT files with quasi-attractors and stable motifs.\n",
      "Starting analyis of stable motif succession diagram.\n",
      "Identifying quasi-attractors corresponding to stable motif sequences.\n",
      "Shortening stable motif sequences.\n",
      "Finding control sets for each stable motif...\n",
      "Creating control sets for each stable motif sequence.\n",
      "Removing duplicates control sets.\n",
      "Total time for finding stable motif control sets: 2.220807084 s\n",
      "Writing TXT files with stable motif control sets.\n",
      "Done!\n",
      "CPU times: user 16.5 ms, sys: 3.15 ms, total: 19.7 ms\n",
      "Wall time: 5.75 s\n"
     ]
    }
   ],
   "source": [
    "%time stm = stablemotifs.load(model)"
   ]
  },
  {
   "cell_type": "markdown",
   "metadata": {},
   "source": [
    "Attractors identify by StableMotifs can be displayed as follow"
   ]
  },
  {
   "cell_type": "code",
   "execution_count": 5,
   "metadata": {},
   "outputs": [
    {
     "data": {
      "text/html": [
       "<div>\n",
       "<style scoped>\n",
       "    .dataframe tbody tr th:only-of-type {\n",
       "        vertical-align: middle;\n",
       "    }\n",
       "\n",
       "    .dataframe tbody tr th {\n",
       "        vertical-align: top;\n",
       "    }\n",
       "\n",
       "    .dataframe thead th {\n",
       "        text-align: right;\n",
       "    }\n",
       "</style>\n",
       "<table border=\"1\" class=\"dataframe\">\n",
       "  <thead>\n",
       "    <tr style=\"text-align: right;\">\n",
       "      <th></th>\n",
       "      <th>EgrNab</th>\n",
       "      <th>GATA1</th>\n",
       "      <th>GATA2</th>\n",
       "      <th>CEBPA</th>\n",
       "      <th>Fli1</th>\n",
       "      <th>cJun</th>\n",
       "      <th>Gfi1</th>\n",
       "      <th>FOG1</th>\n",
       "      <th>EKLF</th>\n",
       "      <th>PU1</th>\n",
       "      <th>SCL</th>\n",
       "    </tr>\n",
       "  </thead>\n",
       "  <tbody>\n",
       "    <tr>\n",
       "      <th>0</th>\n",
       "      <td>0</td>\n",
       "      <td>0</td>\n",
       "      <td>0</td>\n",
       "      <td>0</td>\n",
       "      <td>0</td>\n",
       "      <td>0</td>\n",
       "      <td>0</td>\n",
       "      <td>0</td>\n",
       "      <td>0</td>\n",
       "      <td>0</td>\n",
       "      <td>0</td>\n",
       "    </tr>\n",
       "    <tr>\n",
       "      <th>4</th>\n",
       "      <td>0</td>\n",
       "      <td>0</td>\n",
       "      <td>0</td>\n",
       "      <td>1</td>\n",
       "      <td>0</td>\n",
       "      <td>0</td>\n",
       "      <td>1</td>\n",
       "      <td>0</td>\n",
       "      <td>0</td>\n",
       "      <td>1</td>\n",
       "      <td>0</td>\n",
       "    </tr>\n",
       "    <tr>\n",
       "      <th>3</th>\n",
       "      <td>0</td>\n",
       "      <td>1</td>\n",
       "      <td>0</td>\n",
       "      <td>0</td>\n",
       "      <td>0</td>\n",
       "      <td>0</td>\n",
       "      <td>0</td>\n",
       "      <td>1</td>\n",
       "      <td>1</td>\n",
       "      <td>0</td>\n",
       "      <td>1</td>\n",
       "    </tr>\n",
       "    <tr>\n",
       "      <th>2</th>\n",
       "      <td>0</td>\n",
       "      <td>1</td>\n",
       "      <td>0</td>\n",
       "      <td>0</td>\n",
       "      <td>1</td>\n",
       "      <td>0</td>\n",
       "      <td>0</td>\n",
       "      <td>1</td>\n",
       "      <td>0</td>\n",
       "      <td>0</td>\n",
       "      <td>1</td>\n",
       "    </tr>\n",
       "    <tr>\n",
       "      <th>1</th>\n",
       "      <td>1</td>\n",
       "      <td>0</td>\n",
       "      <td>0</td>\n",
       "      <td>0</td>\n",
       "      <td>0</td>\n",
       "      <td>1</td>\n",
       "      <td>0</td>\n",
       "      <td>0</td>\n",
       "      <td>0</td>\n",
       "      <td>1</td>\n",
       "      <td>0</td>\n",
       "    </tr>\n",
       "    <tr>\n",
       "      <th>5</th>\n",
       "      <td>1</td>\n",
       "      <td>0</td>\n",
       "      <td>0</td>\n",
       "      <td>1</td>\n",
       "      <td>0</td>\n",
       "      <td>1</td>\n",
       "      <td>0</td>\n",
       "      <td>0</td>\n",
       "      <td>0</td>\n",
       "      <td>1</td>\n",
       "      <td>0</td>\n",
       "    </tr>\n",
       "  </tbody>\n",
       "</table>\n",
       "</div>"
      ],
      "text/plain": [
       "   EgrNab  GATA1  GATA2  CEBPA  Fli1  cJun  Gfi1  FOG1  EKLF  PU1  SCL\n",
       "0       0      0      0      0     0     0     0     0     0    0    0\n",
       "4       0      0      0      1     0     0     1     0     0    1    0\n",
       "3       0      1      0      0     0     0     0     1     1    0    1\n",
       "2       0      1      0      0     1     0     0     1     0    0    1\n",
       "1       1      0      0      0     0     1     0     0     0    1    0\n",
       "5       1      0      0      1     0     1     0     0     0    1    0"
      ]
     },
     "execution_count": 5,
     "metadata": {},
     "output_type": "execute_result"
    }
   ],
   "source": [
    "tabulate(stm.attractors)"
   ]
  },
  {
   "cell_type": "markdown",
   "metadata": {},
   "source": [
    "Here are the stable motifs:"
   ]
  },
  {
   "cell_type": "code",
   "execution_count": 6,
   "metadata": {},
   "outputs": [
    {
     "data": {
      "text/plain": [
       "[{'CEBPA': 0},\n",
       " {'GATA2': 0},\n",
       " {'GATA1': 1, 'PU1': 0},\n",
       " {'PU1': 0},\n",
       " {'Fli1': 0, 'GATA1': 0},\n",
       " {'GATA1': 0, 'PU1': 1},\n",
       " {'PU1': 1},\n",
       " {'GATA1': 1},\n",
       " {'EKLF': 0, 'Fli1': 1},\n",
       " {'EKLF': 1, 'Fli1': 0},\n",
       " {'CEBPA': 1},\n",
       " {'EgrNab': 0, 'Gfi1': 1},\n",
       " {'EgrNab': 1, 'Gfi1': 0, 'cJun': 1}]"
      ]
     },
     "execution_count": 6,
     "metadata": {},
     "output_type": "execute_result"
    }
   ],
   "source": [
    "stm.stable_motifs"
   ]
  },
  {
   "cell_type": "markdown",
   "metadata": {},
   "source": [
    "In the following, we compute the perturbations for driving the system towards any of the previously-computed attractors matching with active *EgrNab* and *CEBPA*:"
   ]
  },
  {
   "cell_type": "code",
   "execution_count": 7,
   "metadata": {},
   "outputs": [
    {
     "data": {
      "text/plain": [
       "[FromAny(TemporaryPerturbation(CEBPA=1, EgrNab=1, GATA1=0, GATA2=0)),\n",
       " FromAny(TemporaryPerturbation(CEBPA=1, GATA1=0, GATA2=0, Gfi1=0)),\n",
       " FromAny(TemporaryPerturbation(CEBPA=1, EgrNab=1, GATA2=0, PU1=1)),\n",
       " FromAny(TemporaryPerturbation(CEBPA=1, GATA2=0, Gfi1=0, PU1=1))]"
      ]
     },
     "execution_count": 7,
     "metadata": {},
     "output_type": "execute_result"
    }
   ],
   "source": [
    "s = stm.reprogramming_to_attractor(EgrNab=1, CEBPA=1)\n",
    "s"
   ]
  },
  {
   "cell_type": "markdown",
   "metadata": {},
   "source": [
    "The results can be displayed as a graph:"
   ]
  },
  {
   "cell_type": "code",
   "execution_count": 8,
   "metadata": {},
   "outputs": [
    {
     "data": {
      "image/svg+xml": [
       "<?xml version=\"1.0\" encoding=\"UTF-8\" standalone=\"no\"?>\n",
       "<!DOCTYPE svg PUBLIC \"-//W3C//DTD SVG 1.1//EN\"\n",
       " \"http://www.w3.org/Graphics/SVG/1.1/DTD/svg11.dtd\">\n",
       "<!-- Generated by graphviz version 2.44.0 (20200408.0750)\n",
       " -->\n",
       "<!-- Pages: 1 -->\n",
       "<svg width=\"368pt\" height=\"134pt\"\n",
       " viewBox=\"0.00 0.00 368.40 133.72\" xmlns=\"http://www.w3.org/2000/svg\" xmlns:xlink=\"http://www.w3.org/1999/xlink\">\n",
       "<g id=\"graph0\" class=\"graph\" transform=\"scale(1 1) rotate(0) translate(4 129.72)\">\n",
       "<polygon fill=\"white\" stroke=\"transparent\" points=\"-4,4 -4,-129.72 364.4,-129.72 364.4,4 -4,4\"/>\n",
       "<!-- target -->\n",
       "<g id=\"node1\" class=\"node\">\n",
       "<title>target</title>\n",
       "<polygon fill=\"palegreen\" stroke=\"black\" points=\"317.2,-84.72 273.8,-66.72 317.2,-48.72 360.6,-66.72 317.2,-84.72\"/>\n",
       "<polyline fill=\"none\" stroke=\"black\" points=\"284.88,-71.32 284.88,-62.13 \"/>\n",
       "<polyline fill=\"none\" stroke=\"black\" points=\"306.12,-53.32 328.28,-53.32 \"/>\n",
       "<polyline fill=\"none\" stroke=\"black\" points=\"349.52,-62.13 349.52,-71.32 \"/>\n",
       "<polyline fill=\"none\" stroke=\"black\" points=\"328.28,-80.13 306.12,-80.13 \"/>\n",
       "<text text-anchor=\"middle\" x=\"317.2\" y=\"-63.02\" font-family=\"Times,serif\" font-size=\"14.00\">target</text>\n",
       "</g>\n",
       "<!-- any -->\n",
       "<g id=\"node2\" class=\"node\">\n",
       "<title>any</title>\n",
       "<g id=\"a_node2\"><a xlink:title=\"Any\">\n",
       "<ellipse fill=\"none\" stroke=\"black\" stroke-dasharray=\"1,5\" cx=\"18\" cy=\"-66.72\" rx=\"18\" ry=\"18\"/>\n",
       "</a>\n",
       "</g>\n",
       "</g>\n",
       "<!-- any&#45;&gt;target -->\n",
       "<g id=\"edge1\" class=\"edge\">\n",
       "<title>any&#45;&gt;target</title>\n",
       "<path fill=\"none\" stroke=\"black\" d=\"M30.6,-79.86C36.84,-85.94 45.09,-92.51 54,-95.72 138.46,-126.17 168.47,-115.71 256,-95.72 267.86,-93.02 280.11,-87.66 290.44,-82.28\"/>\n",
       "<polygon fill=\"black\" stroke=\"black\" points=\"292.23,-85.29 299.31,-77.4 288.86,-79.15 292.23,-85.29\"/>\n",
       "<g id=\"a_edge1&#45;label\"><a xlink:title=\"TemporaryPerturbation(CEBPA=1, EgrNab=1, GATA1=0, GATA2=0)\">\n",
       "<text text-anchor=\"middle\" x=\"155\" y=\"-117.72\" font-family=\"Times,serif\" font-size=\"10.00\">T(CEBPA=1, EgrNab=1, GATA1=0, GATA2=0)</text>\n",
       "</a>\n",
       "</g>\n",
       "</g>\n",
       "<!-- any&#45;&gt;target -->\n",
       "<g id=\"edge2\" class=\"edge\">\n",
       "<title>any&#45;&gt;target</title>\n",
       "<path fill=\"none\" stroke=\"black\" d=\"M36.26,-66.72C79.8,-66.72 195.48,-66.72 263.73,-66.72\"/>\n",
       "<polygon fill=\"black\" stroke=\"black\" points=\"263.86,-70.23 273.86,-66.72 263.85,-63.23 263.86,-70.23\"/>\n",
       "<g id=\"a_edge2&#45;label\"><a xlink:title=\"TemporaryPerturbation(CEBPA=1, GATA1=0, GATA2=0, Gfi1=0)\">\n",
       "<text text-anchor=\"middle\" x=\"155\" y=\"-69.72\" font-family=\"Times,serif\" font-size=\"10.00\">T(CEBPA=1, GATA1=0, GATA2=0, Gfi1=0)</text>\n",
       "</a>\n",
       "</g>\n",
       "</g>\n",
       "<!-- any&#45;&gt;target -->\n",
       "<g id=\"edge3\" class=\"edge\">\n",
       "<title>any&#45;&gt;target</title>\n",
       "<path fill=\"none\" stroke=\"black\" d=\"M34.24,-58.6C40.23,-55.84 47.27,-53.11 54,-51.72 141.94,-33.67 166.89,-40.79 256,-51.72 264.51,-52.77 273.55,-54.62 281.97,-56.66\"/>\n",
       "<polygon fill=\"black\" stroke=\"black\" points=\"281.29,-60.1 291.85,-59.22 283.05,-53.33 281.29,-60.1\"/>\n",
       "<g id=\"a_edge3&#45;label\"><a xlink:title=\"TemporaryPerturbation(CEBPA=1, EgrNab=1, GATA2=0, PU1=1)\">\n",
       "<text text-anchor=\"middle\" x=\"155\" y=\"-54.72\" font-family=\"Times,serif\" font-size=\"10.00\">T(CEBPA=1, EgrNab=1, GATA2=0, PU1=1)</text>\n",
       "</a>\n",
       "</g>\n",
       "</g>\n",
       "<!-- any&#45;&gt;target -->\n",
       "<g id=\"edge4\" class=\"edge\">\n",
       "<title>any&#45;&gt;target</title>\n",
       "<path fill=\"none\" stroke=\"black\" d=\"M27.42,-50.88C33.43,-41.37 42.48,-30.12 54,-24.72 135.3,13.35 170.35,2.2 256,-24.72 270.53,-29.29 284.62,-38.75 295.51,-47.54\"/>\n",
       "<polygon fill=\"black\" stroke=\"black\" points=\"293.27,-50.23 303.16,-54.03 297.8,-44.9 293.27,-50.23\"/>\n",
       "<g id=\"a_edge4&#45;label\"><a xlink:title=\"TemporaryPerturbation(CEBPA=1, GATA2=0, Gfi1=0, PU1=1)\">\n",
       "<text text-anchor=\"middle\" x=\"155\" y=\"-27.72\" font-family=\"Times,serif\" font-size=\"10.00\">T(CEBPA=1, GATA2=0, Gfi1=0, PU1=1)</text>\n",
       "</a>\n",
       "</g>\n",
       "</g>\n",
       "</g>\n",
       "</svg>\n"
      ],
      "text/plain": [
       "<pydot.Dot at 0x7fdd2749f4d0>"
      ]
     },
     "execution_count": 8,
     "metadata": {},
     "output_type": "execute_result"
    }
   ],
   "source": [
    "s.as_graph()"
   ]
  },
  {
   "cell_type": "markdown",
   "metadata": {},
   "source": [
    "as a table:"
   ]
  },
  {
   "cell_type": "code",
   "execution_count": 9,
   "metadata": {},
   "outputs": [
    {
     "data": {
      "text/html": [
       "<style  type=\"text/css\" >\n",
       "    #T_9b21363e_b488_11ea_a80e_9cb6d093e143 th {\n",
       "          border-right: 1px solid black;\n",
       "    }    #T_9b21363e_b488_11ea_a80e_9cb6d093e143 td {\n",
       "          border-right: 1px solid black;\n",
       "          min-width: 2em;\n",
       "    }    #T_9b21363e_b488_11ea_a80e_9cb6d093e143 th.col_heading {\n",
       "          writing-mode: vertical-lr;\n",
       "          transform: rotateZ(180deg);\n",
       "          vertical-align: top;\n",
       "          border-bottom: 1px solid black;\n",
       "          text-orientation: mixed;\n",
       "    }    #T_9b21363e_b488_11ea_a80e_9cb6d093e143row0_col0 {\n",
       "            color:  black;\n",
       "             background-color:  red;\n",
       "        }    #T_9b21363e_b488_11ea_a80e_9cb6d093e143row0_col3 {\n",
       "            color:  black;\n",
       "             background-color:  lime;\n",
       "        }    #T_9b21363e_b488_11ea_a80e_9cb6d093e143row0_col4 {\n",
       "            color:  black;\n",
       "             background-color:  lime;\n",
       "        }    #T_9b21363e_b488_11ea_a80e_9cb6d093e143row0_col5 {\n",
       "            color:  black;\n",
       "             background-color:  red;\n",
       "        }    #T_9b21363e_b488_11ea_a80e_9cb6d093e143row1_col0 {\n",
       "            color:  black;\n",
       "             background-color:  red;\n",
       "        }    #T_9b21363e_b488_11ea_a80e_9cb6d093e143row1_col2 {\n",
       "            color:  black;\n",
       "             background-color:  lime;\n",
       "        }    #T_9b21363e_b488_11ea_a80e_9cb6d093e143row1_col3 {\n",
       "            color:  black;\n",
       "             background-color:  lime;\n",
       "        }    #T_9b21363e_b488_11ea_a80e_9cb6d093e143row1_col4 {\n",
       "            color:  black;\n",
       "             background-color:  lime;\n",
       "        }    #T_9b21363e_b488_11ea_a80e_9cb6d093e143row2_col0 {\n",
       "            color:  black;\n",
       "             background-color:  red;\n",
       "        }    #T_9b21363e_b488_11ea_a80e_9cb6d093e143row2_col1 {\n",
       "            color:  black;\n",
       "             background-color:  red;\n",
       "        }    #T_9b21363e_b488_11ea_a80e_9cb6d093e143row2_col3 {\n",
       "            color:  black;\n",
       "             background-color:  lime;\n",
       "        }    #T_9b21363e_b488_11ea_a80e_9cb6d093e143row2_col5 {\n",
       "            color:  black;\n",
       "             background-color:  red;\n",
       "        }    #T_9b21363e_b488_11ea_a80e_9cb6d093e143row3_col0 {\n",
       "            color:  black;\n",
       "             background-color:  red;\n",
       "        }    #T_9b21363e_b488_11ea_a80e_9cb6d093e143row3_col1 {\n",
       "            color:  black;\n",
       "             background-color:  red;\n",
       "        }    #T_9b21363e_b488_11ea_a80e_9cb6d093e143row3_col2 {\n",
       "            color:  black;\n",
       "             background-color:  lime;\n",
       "        }    #T_9b21363e_b488_11ea_a80e_9cb6d093e143row3_col3 {\n",
       "            color:  black;\n",
       "             background-color:  lime;\n",
       "        }</style><table id=\"T_9b21363e_b488_11ea_a80e_9cb6d093e143\" ><thead>    <tr>        <th class=\"blank level0\" ></th>        <th class=\"col_heading level0 col0\" >CEBPA</th>        <th class=\"col_heading level0 col1\" >EgrNab</th>        <th class=\"col_heading level0 col2\" >GATA1</th>        <th class=\"col_heading level0 col3\" >GATA2</th>        <th class=\"col_heading level0 col4\" >Gfi1</th>        <th class=\"col_heading level0 col5\" >PU1</th>    </tr></thead><tbody>\n",
       "                <tr>\n",
       "                        <th id=\"T_9b21363e_b488_11ea_a80e_9cb6d093e143level0_row0\" class=\"row_heading level0 row0\" >0</th>\n",
       "                        <td id=\"T_9b21363e_b488_11ea_a80e_9cb6d093e143row0_col0\" class=\"data row0 col0\" >1</td>\n",
       "                        <td id=\"T_9b21363e_b488_11ea_a80e_9cb6d093e143row0_col1\" class=\"data row0 col1\" ></td>\n",
       "                        <td id=\"T_9b21363e_b488_11ea_a80e_9cb6d093e143row0_col2\" class=\"data row0 col2\" ></td>\n",
       "                        <td id=\"T_9b21363e_b488_11ea_a80e_9cb6d093e143row0_col3\" class=\"data row0 col3\" >0</td>\n",
       "                        <td id=\"T_9b21363e_b488_11ea_a80e_9cb6d093e143row0_col4\" class=\"data row0 col4\" >0</td>\n",
       "                        <td id=\"T_9b21363e_b488_11ea_a80e_9cb6d093e143row0_col5\" class=\"data row0 col5\" >1</td>\n",
       "            </tr>\n",
       "            <tr>\n",
       "                        <th id=\"T_9b21363e_b488_11ea_a80e_9cb6d093e143level0_row1\" class=\"row_heading level0 row1\" >1</th>\n",
       "                        <td id=\"T_9b21363e_b488_11ea_a80e_9cb6d093e143row1_col0\" class=\"data row1 col0\" >1</td>\n",
       "                        <td id=\"T_9b21363e_b488_11ea_a80e_9cb6d093e143row1_col1\" class=\"data row1 col1\" ></td>\n",
       "                        <td id=\"T_9b21363e_b488_11ea_a80e_9cb6d093e143row1_col2\" class=\"data row1 col2\" >0</td>\n",
       "                        <td id=\"T_9b21363e_b488_11ea_a80e_9cb6d093e143row1_col3\" class=\"data row1 col3\" >0</td>\n",
       "                        <td id=\"T_9b21363e_b488_11ea_a80e_9cb6d093e143row1_col4\" class=\"data row1 col4\" >0</td>\n",
       "                        <td id=\"T_9b21363e_b488_11ea_a80e_9cb6d093e143row1_col5\" class=\"data row1 col5\" ></td>\n",
       "            </tr>\n",
       "            <tr>\n",
       "                        <th id=\"T_9b21363e_b488_11ea_a80e_9cb6d093e143level0_row2\" class=\"row_heading level0 row2\" >2</th>\n",
       "                        <td id=\"T_9b21363e_b488_11ea_a80e_9cb6d093e143row2_col0\" class=\"data row2 col0\" >1</td>\n",
       "                        <td id=\"T_9b21363e_b488_11ea_a80e_9cb6d093e143row2_col1\" class=\"data row2 col1\" >1</td>\n",
       "                        <td id=\"T_9b21363e_b488_11ea_a80e_9cb6d093e143row2_col2\" class=\"data row2 col2\" ></td>\n",
       "                        <td id=\"T_9b21363e_b488_11ea_a80e_9cb6d093e143row2_col3\" class=\"data row2 col3\" >0</td>\n",
       "                        <td id=\"T_9b21363e_b488_11ea_a80e_9cb6d093e143row2_col4\" class=\"data row2 col4\" ></td>\n",
       "                        <td id=\"T_9b21363e_b488_11ea_a80e_9cb6d093e143row2_col5\" class=\"data row2 col5\" >1</td>\n",
       "            </tr>\n",
       "            <tr>\n",
       "                        <th id=\"T_9b21363e_b488_11ea_a80e_9cb6d093e143level0_row3\" class=\"row_heading level0 row3\" >3</th>\n",
       "                        <td id=\"T_9b21363e_b488_11ea_a80e_9cb6d093e143row3_col0\" class=\"data row3 col0\" >1</td>\n",
       "                        <td id=\"T_9b21363e_b488_11ea_a80e_9cb6d093e143row3_col1\" class=\"data row3 col1\" >1</td>\n",
       "                        <td id=\"T_9b21363e_b488_11ea_a80e_9cb6d093e143row3_col2\" class=\"data row3 col2\" >0</td>\n",
       "                        <td id=\"T_9b21363e_b488_11ea_a80e_9cb6d093e143row3_col3\" class=\"data row3 col3\" >0</td>\n",
       "                        <td id=\"T_9b21363e_b488_11ea_a80e_9cb6d093e143row3_col4\" class=\"data row3 col4\" ></td>\n",
       "                        <td id=\"T_9b21363e_b488_11ea_a80e_9cb6d093e143row3_col5\" class=\"data row3 col5\" ></td>\n",
       "            </tr>\n",
       "    </tbody></table>"
      ],
      "text/plain": [
       "<pandas.io.formats.style.Styler at 0x7fdd27389890>"
      ]
     },
     "execution_count": 9,
     "metadata": {},
     "output_type": "execute_result"
    }
   ],
   "source": [
    "s.as_table()"
   ]
  },
  {
   "cell_type": "markdown",
   "metadata": {},
   "source": [
    "or, as a set of perturbations:"
   ]
  },
  {
   "cell_type": "code",
   "execution_count": 10,
   "metadata": {},
   "outputs": [
    {
     "data": {
      "text/plain": [
       "{(TemporaryPerturbation(CEBPA=1, EgrNab=1, GATA1=0, GATA2=0),),\n",
       " (TemporaryPerturbation(CEBPA=1, EgrNab=1, GATA2=0, PU1=1),),\n",
       " (TemporaryPerturbation(CEBPA=1, GATA1=0, GATA2=0, Gfi1=0),),\n",
       " (TemporaryPerturbation(CEBPA=1, GATA2=0, Gfi1=0, PU1=1),)}"
      ]
     },
     "execution_count": 10,
     "metadata": {},
     "output_type": "execute_result"
    }
   ],
   "source": [
    "s.perturbations()"
   ]
  },
  {
   "cell_type": "code",
   "execution_count": null,
   "metadata": {},
   "outputs": [],
   "source": []
  }
 ],
 "metadata": {
  "kernelspec": {
   "display_name": "Python 3",
   "language": "python",
   "name": "python3"
  },
  "language_info": {
   "codemirror_mode": {
    "name": "ipython",
    "version": 3
   },
   "file_extension": ".py",
   "mimetype": "text/x-python",
   "name": "python",
   "nbconvert_exporter": "python",
   "pygments_lexer": "ipython3",
   "version": "3.7.7"
  }
 },
 "nbformat": 4,
 "nbformat_minor": 2
}
