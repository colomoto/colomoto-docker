{
 "cells": [
  {
   "cell_type": "markdown",
   "id": "6c585eec",
   "metadata": {},
   "source": [
    "# Introduction to NORDic\n",
    "\n",
    "This vignette focuses on the pipeline for the identification of networks (**NORDic NI**) and the one for the prioritization of targets (**NORDic PMR**). For more detailed introductions, please check out the [notebooks](https://github.com/clreda/NORDic/tree/main/notebooks) on the [GitHub page](https://github.com/clreda/NORDic). \n",
    "\n",
    "For illustration purposes, this vignette focuses on building a *very* small regulatory model of the Congenital Central Hypoventilation Syndrome (CCHS), also called \"Ondine syndrome\", from scratch using **NORDic NI**, and using this model to prioritize genes according to their regulatory influence (**NORDic PMR**)."
   ]
  },
  {
   "cell_type": "markdown",
   "id": "e2f8986f",
   "metadata": {},
   "source": [
    "## Import"
   ]
  },
  {
   "cell_type": "code",
   "execution_count": 1,
   "id": "9f33464d",
   "metadata": {},
   "outputs": [],
   "source": [
    "import NORDic"
   ]
  },
  {
   "cell_type": "markdown",
   "id": "98f6c54a",
   "metadata": {},
   "source": [
    "## The Congenital Central Hypoventilation Syndrome (CCHS)\n",
    "\n",
    "Congenital central hypoventilation syndrome (MedGen Concept ID \"C1275808\") is a disorder that affects normal breathing. People with this disorder take shallow breaths (hypoventilate), especially during sleep, resulting in a shortage of oxygen and a buildup of carbon dioxide in the blood. \n",
    "\n",
    "Ordinarily, the part of the nervous system that controls involuntary body processes (autonomic nervous system) would react to such an imbalance by stimulating the individual to breathe more deeply or wake up. This nervous system reaction is impaired in people with CCHS.  [(source)](https://medlineplus.gov/genetics/condition/congenital-central-hypoventilation-syndrome/)\n",
    "\n",
    "Most of the CCHS cases can be linked to a mutation in the PHOX2B gene, and a large percentage of cases are related to an alanine expansion which length might be correlated with the severity of the symptoms.\n",
    "\n",
    "## I. Building a small regulatory model of CCHS (**NORDic NI**)\n",
    "\n",
    "Given only the paragraphs above (disease name, most likely affected cell lines), we are going to build in an automated way a regulatory model of CCHS."
   ]
  },
  {
   "cell_type": "markdown",
   "id": "6301d7b0",
   "metadata": {},
   "source": [
    "### I.a. Registration to databases used by **NORDic NI**\n",
    "\n",
    "In the absence of data normally used for network inference (a prior knowledge network, a set of experiments, a set of genes of interest, ...), **NORDic** retrieves data from public databases. The registration to these databases is free (often only requires an academic e-mail address), time-unlimited, but mandatory.\n",
    "\n",
    "#### I.a.1. Registration to the DisGeNET database\n",
    "\n",
    "Click on [this link](https://www.disgenet.org/signup/) to sign up to DisGeNET. Once you are registered, open an empty .TXT file, and write down\n",
    "- on the first line: the e-mail address used for registration\n",
    "- on the second line: the chosen password\n",
    "Save the file, and replace the relative path to that file in the cell below"
   ]
  },
  {
   "cell_type": "code",
   "execution_count": 2,
   "id": "7ef9c599",
   "metadata": {},
   "outputs": [],
   "source": [
    "DisGeNET_credentials = \"../tests/credentials_DISGENET.txt\""
   ]
  },
  {
   "cell_type": "markdown",
   "id": "d58c643d",
   "metadata": {},
   "source": [
    "#### I.a.2. Registration to the STRING database\n",
    "\n",
    "The STRING database requires an identification of the person sending requests to the database. Write down on the first line of an empty .TXT file your e-mail address, and replace the relative path to that file in the cell below:"
   ]
  },
  {
   "cell_type": "code",
   "execution_count": 3,
   "id": "6d011531",
   "metadata": {},
   "outputs": [],
   "source": [
    "STRING_credentials = \"../tests/credentials_STRING.txt\""
   ]
  },
  {
   "cell_type": "markdown",
   "id": "426e73ca",
   "metadata": {},
   "source": [
    "#### I.a.3 Registration to the LINCS L1000 database access CLUE.io\n",
    "\n",
    "Click on [this link](https://clue.io/lincs) to sign up to CLUE.io. Once you are registered, open an empty .TXT file, and write down\n",
    "- on the first line: the e-mail address used for registration\n",
    "- on the second line: the chosen password\n",
    "- on the third line: the user key you were assigned\n",
    "Save the file, and replace the relative path to that file in the cell below"
   ]
  },
  {
   "cell_type": "code",
   "execution_count": 4,
   "id": "48a51e2c",
   "metadata": {},
   "outputs": [],
   "source": [
    "LINCS_credentials = \"../tests/credentials_LINCS.txt\""
   ]
  },
  {
   "cell_type": "markdown",
   "id": "5311fea2",
   "metadata": {},
   "source": [
    "### I.b Selection of parameters in **NORDic NI**\n",
    "\n",
    "The goal of **NORDic** is to allow to infer a network in the most transparent and reproducible fashion possible. As such, it relies on a (rather large) set of parameters which control the pipeline and the processing of biological data. For the actual definition of the parameters and an overview of the pipeline, please have a look at the following [reference](https://clreda.github.io/assets/reda2022prioritization_accepted.pdf):\n",
    "\n",
    "\n",
    "> Réda, C., & Delahaye-Duriez, A. (2022). Prioritization of Candidate Genes Through Boolean Networks. In *International Conference on Computational Methods in Systems Biology* (pp. 89-121). Springer, Cham.\n",
    "\n",
    "First, define the seed number (for an increased reproducibility), along with the number of threads to allocate to the network inference process"
   ]
  },
  {
   "cell_type": "code",
   "execution_count": 5,
   "id": "4e820199",
   "metadata": {},
   "outputs": [],
   "source": [
    "seed_number=123456\n",
    "from multiprocessing import cpu_count\n",
    "njobs=max(1,cpu_count()-2) ## all available threads but 2"
   ]
  },
  {
   "cell_type": "markdown",
   "id": "c76a2ea0",
   "metadata": {},
   "source": [
    "Second, define the folder to create (relative to the folder in which the present notebook is located), in which to store intermediary files and the network itself"
   ]
  },
  {
   "cell_type": "code",
   "execution_count": 6,
   "id": "c9781222",
   "metadata": {},
   "outputs": [],
   "source": [
    "file_folder=\"MODELS/Ondine/\""
   ]
  },
  {
   "cell_type": "markdown",
   "id": "cb80dde2",
   "metadata": {},
   "source": [
    "As previously mentioned, the only information provided to **NORDic** is *only* the name of the disease itself (that is, its Concept ID on [NCBI MedGen](https://www.ncbi.nlm.nih.gov/medgen/)), the species (the taxonomy ID on [NCBI Taxonomy](https://www.ncbi.nlm.nih.gov/Taxonomy/TaxIdentifier/tax_identifier.cgi)), and the cell lines (most relevant [immortalized cell lines](https://lincsportal.ccs.miami.edu/cells/#/) in **LINCS L1000**). If we were interested in several subtypes of diseases, one could write down a list of Concept IDs."
   ]
  },
  {
   "cell_type": "code",
   "execution_count": 7,
   "id": "276befcb",
   "metadata": {},
   "outputs": [],
   "source": [
    "taxon_id=9606 # human species\n",
    "disease_cids=[\"C1275808\"] ## Concept ID of CCHS"
   ]
  },
  {
   "cell_type": "markdown",
   "id": "5226c9cc",
   "metadata": {},
   "source": [
    "Optionally, in order to guide the inference of the regulatory mechanisms at play, one can define the cell types of interest (which should be present in the database [LINCS L1000](https://lincsproject.org/)). Otherwise, all cell lines in LINCS L1000 are considered."
   ]
  },
  {
   "cell_type": "code",
   "execution_count": 8,
   "id": "dafe7523",
   "metadata": {},
   "outputs": [],
   "source": [
    "cell_lines=[\"NPC\", \"SHSY5Y\"] # brain cell lines in LINCS L1000"
   ]
  },
  {
   "cell_type": "markdown",
   "id": "332e39c3",
   "metadata": {},
   "source": [
    "#### 1.b.1 Information about the disease\n",
    "\n",
    "In the absence of a set of genes of interest to focus on, **NORDic** retrieves a set of disease-associated genes from the DisGeNET database"
   ]
  },
  {
   "cell_type": "code",
   "execution_count": 9,
   "id": "bd010501",
   "metadata": {},
   "outputs": [],
   "source": [
    "DISGENET_args = {\"credentials\": DisGeNET_credentials, \"disease_cids\": disease_cids}"
   ]
  },
  {
   "cell_type": "markdown",
   "id": "6aff6947",
   "metadata": {},
   "source": [
    "#### 1.b.2 Selection of parameters relative to the prior knowledge network \n",
    "\n",
    "A prior knowledge network is built using protein-protein interaction networks (PPI) from the STRING database. One can set a threshold on the \"combined score\" provided by STRING on every edge of the PPI"
   ]
  },
  {
   "cell_type": "code",
   "execution_count": 10,
   "id": "98db93b5",
   "metadata": {},
   "outputs": [],
   "source": [
    "STRING_args = {\"credentials\": STRING_credentials,\n",
    "               \"score\": 0, # threshold on the minimum score of STRING edges\n",
    "}"
   ]
  },
  {
   "cell_type": "markdown",
   "id": "9b97a2e3",
   "metadata": {},
   "source": [
    "During inference, the edges retrieved from the STRING database might be filtered out (*filter=True*) based on the associated gene expression pairwise correlation (correlation>*tau*), preserving the connectivity of the network (i.e., having a single weakly connected component, that is, no isolated bits) (*connected=True*)."
   ]
  },
  {
   "cell_type": "code",
   "execution_count": 11,
   "id": "479a10bc",
   "metadata": {},
   "outputs": [],
   "source": [
    "EDGE_args = {\n",
    "        \"tau\": 0, # filter edges according to the genepairwise expression correlation\n",
    "        \"filter\": True, # whether to apply the filter\n",
    "        \"connected\": True, # whether to preserve the connectivity of the network\n",
    "}"
   ]
  },
  {
   "cell_type": "markdown",
   "id": "bfda6fda",
   "metadata": {},
   "source": [
    "Since version 2.2.0, one can preserve nodes which are not measured by LINCS L1000 or which do not match an EntrezGene ID (which allows considering miRNA nodes, for instance). In order to do so, set the following parameter to True (to preserve the initial behavior, which is the default one, set it to False):"
   ]
  },
  {
   "cell_type": "code",
   "execution_count": 12,
   "id": "41830889",
   "metadata": {},
   "outputs": [],
   "source": [
    "accept_nonRNA=True"
   ]
  },
  {
   "cell_type": "markdown",
   "id": "08875fa3",
   "metadata": {},
   "source": [
    "Since version 2.2.3, **NORDic** may infer the sign of the edges in an *existing* prior knowledge network using the gene expression data retrieved from **LINCS L1000**, instead of using the sign of the edge-related scores in the network stored at \"network_fname\", by setting option *preserve_network_sign* to **False**. The default behavior is *preserve_network_sign=* **True**, and is consistent with the behavior of past versions of **NORDic**."
   ]
  },
  {
   "cell_type": "code",
   "execution_count": 13,
   "id": "14615d8b",
   "metadata": {},
   "outputs": [],
   "source": [
    "preserve_network_sign=False"
   ]
  },
  {
   "cell_type": "markdown",
   "id": "5081d099",
   "metadata": {},
   "source": [
    "Since version 2.3.0, the user can directly retrieve gene annotations and the network topology from the meta-database [OmniPath](https://omnipathdb.org/) using **NORDic** with function *get_network_from_OmniPath*. However, the filtering of the resulting network has to be done by the user (potentially based on the returned gene annotations). Functions which might help the trimming are present in file *src/UTILS/utils_network.py*. The resulting network may then be fed to **NORDic NI** by setting parameter *network_fname* below to the path to the resulting network from OmniPath."
   ]
  },
  {
   "cell_type": "code",
   "execution_count": 14,
   "id": "15081880",
   "metadata": {
    "scrolled": true
   },
   "outputs": [
    {
     "name": "stdout",
     "output_type": "stream",
     "text": [
      "Help on function get_network_from_OmniPath in module NORDic.UTILS.utils_network:\n",
      "\n",
      "get_network_from_OmniPath(gene_list=None, disease_name=None, species='human', sources_int=None, domains_int=None, types_int=None, min_curation_effort=-1, domains_annot='HPA_tissue', quiet=False)\n",
      "    Retrieve a network from OmniPath\n",
      "    @param  gene_list       Python character string[default=None]: List of genes to consider (or do not filter the interactions from Omnipath if =None)\n",
      "    @param  disease_name    Python character string[default=None]: Disease name (in letters) to consider\n",
      "    @param  species Python character string[default=None]: Species to consider (either \"human\", \"mouse\", or \"rat\")\n",
      "    @param  sources_int     Python character string[default=None]: Which databases for interactions to consider (if =None, consider them all)\n",
      "    @param  domains_int     Python character string[default=None]:\n",
      "    @param  types_int       Python character string[default=None]: Types of interactions, e.g., \"post_translational\", \"transcriptional\", \"post_transcriptional\", \"mirna_transcriptional\"\n",
      "    @param  min_curation_effort     Python integer[default=-1]: if positive, select edges based on that criteria (the higher, the better). Counts the unique database-citation pairs, i.e. how many times was an interaction described in a paper and mentioned in a database\n",
      "    @param  domain_annot    Python integer[default='HPA_tissue']:\n",
      "    @param  quiet   Python bool[default=None]:  \n",
      "    @return final_network   Pandas DataFrame: rows/[interactions] x columns/[[\"preferredName_A\", \"preferredName_B\", \"sign\", \"directed\", \"score\"]]\n",
      "                    annot_wide      Pandas DataFrame: rows/[gene symbols] x columns/[annotations from the database @domains_annot]\n",
      "\n"
     ]
    }
   ],
   "source": [
    "from NORDic.UTILS.utils_network import get_network_from_OmniPath\n",
    "help(get_network_from_OmniPath)"
   ]
  },
  {
   "cell_type": "markdown",
   "id": "dba260fa",
   "metadata": {},
   "source": [
    "#### 1.b.3 Selection of parameters relative to experimental constraints\n",
    "\n",
    "In the absence of a set of experimental profiles, **NORDic** retrieves a set of experimental profiles from the database LINCS L1000. Note that it downloads files from LINCS L1000 (which might be large, around 73GB in total). One might also set a nonnegative threshold on the quality of experiments retrieved from LINCS L1000 (*thres_iscale*), which was introduced by\n",
    "\n",
    "> Cheng, Lijun, and Lang Li. \"Systematic quality control analysis of LINCS data.\" CPT: pharmacometrics & systems pharmacology 5.11 (2016): 588-598.\n",
    "\n",
    "The threshold recommended by that paper is 0. However, if you would like not to filter any experiment out, set this value to **None**."
   ]
  },
  {
   "cell_type": "code",
   "execution_count": 15,
   "id": "8c3ab1b8",
   "metadata": {},
   "outputs": [],
   "source": [
    "LINCS_args = {\n",
    "        \"path_to_lincs\": \"../lincs/\", # where to store locally LINCS L1000 files\n",
    "        \"credentials\": LINCS_credentials, \"cell_lines\": cell_lines,\n",
    "        \"thres_iscale\": None, # threshold to filter out experiments from LINCS L1000\n",
    "}"
   ]
  },
  {
   "cell_type": "markdown",
   "id": "d68037eb",
   "metadata": {},
   "source": [
    "Since **NORDic** infers a Boolean network, the experimental profiles retrieved from LINCS L1000 need to be binarized; i.e., all expression values are either 0 (inactive), 1 (active), or NaN (undetermined status: neither fully inactive nor active). The control upon this binarization is made through parameter *bin_thres*, which is comprised between 0 (all genes have an undetermined status, that is, no constraint from the experiments will be enforced) and 0.5 (all genes have a binary status, which correspond to strong experimental constraints)."
   ]
  },
  {
   "cell_type": "code",
   "execution_count": 16,
   "id": "4974bebc",
   "metadata": {},
   "outputs": [],
   "source": [
    "SIG_args = {\n",
    "    \"bin_thres\": 0.5, # threshold to binarize gene expression values\n",
    "}"
   ]
  },
  {
   "cell_type": "markdown",
   "id": "635d4108",
   "metadata": {},
   "source": [
    "Since version 2.2.0, **NORDic** can try and infer a network -without returning an error- even when no experimental data is available. In that case, there are no experimental constraints, and it boils down to choosing appropriate parameters in Section **1.b.2** to filter out (or not) edges. In order to do so, set the following parameter to **False** (to preserve the initial behavior, which is the default one, set it to **True**):"
   ]
  },
  {
   "cell_type": "code",
   "execution_count": 17,
   "id": "2a009b35",
   "metadata": {},
   "outputs": [],
   "source": [
    "force_experiments=False"
   ]
  },
  {
   "cell_type": "markdown",
   "id": "c0e0e128",
   "metadata": {},
   "source": [
    "#### 1.b.4 Selection of parameters relative to the inference of networks\n",
    "\n",
    "Once **NORDic** has built the prior knowledge network, and the Boolean experimental constraints, it uses BoneSIS to infer valid solution networks. Please refer to the following paper:\n",
    "\n",
    "> Chevalier, Stéphanie, et al. \"Synthesis of boolean networks from biological dynamical constraints using answer-set programming.\" 2019 IEEE 31st International Conference on Tools with Artificial Intelligence (ICTAI). IEEE, 2019."
   ]
  },
  {
   "cell_type": "code",
   "execution_count": 18,
   "id": "ba743a63",
   "metadata": {},
   "outputs": [],
   "source": [
    "BONESIS_args = {\n",
    "        \"limit\": 1, # maximum number of solution networks to infer\n",
    "        \"exact\": True, # should any solution use ALL edges from the prior knowledge network?\n",
    "        \"max_maxclause\": 3, # quantifies the complexity of the regulatory functions\n",
    "}"
   ]
  },
  {
   "cell_type": "markdown",
   "id": "342ff60c",
   "metadata": {},
   "source": [
    "#### 1.b.5 Advanced parameters\n",
    "\n",
    "Those parameters guide the selection of a final network among all valid solutions. However, they can be ignored, as the default values usually do the trick. Please refer to the paper for more information."
   ]
  },
  {
   "cell_type": "code",
   "execution_count": 19,
   "id": "c730283f",
   "metadata": {},
   "outputs": [],
   "source": [
    "DESIRABILITY = {\"DS\": 3, \"CL\": 3, \"Centr\": 3, \"GT\": 1} # how to select an optimal model"
   ]
  },
  {
   "cell_type": "markdown",
   "id": "84299794",
   "metadata": {},
   "source": [
    "### I.c Summary of parameters in **NORDic NI**\n",
    "\n",
    "Let us sum up the parameter values:"
   ]
  },
  {
   "cell_type": "code",
   "execution_count": 20,
   "id": "1fd1a733",
   "metadata": {},
   "outputs": [],
   "source": [
    "## Registration to databases\n",
    "DisGeNET_credentials = \"../tests/credentials_DISGENET.txt\"\n",
    "STRING_credentials = \"../tests/credentials_STRING.txt\"\n",
    "LINCS_credentials = \"../tests/credentials_LINCS.txt\"\n",
    "\n",
    "## Parameters\n",
    "seed_number=123456\n",
    "from multiprocessing import cpu_count\n",
    "njobs=max(1,cpu_count()-2) ## all available threads but 2\n",
    "file_folder=\"ToyOndine/\"\n",
    "taxon_id=9606 # human species\n",
    "disease_cids=[\"C1275808\"] ## Concept ID of Ondine syndrome\n",
    "cell_lines=[\"NPC\", \"SHSY5Y\"] # brain cell lines in LINCS L1000\n",
    "\n",
    "## Information about the disease\n",
    "DISGENET_args = {\"credentials\": DisGeNET_credentials, \"disease_cids\": disease_cids}\n",
    "\n",
    "## Selection of parameters relative to the prior knowledge network \n",
    "STRING_args = {\"credentials\": STRING_credentials, \"score\": 0}\n",
    "EDGE_args = {\"tau\": 0, \"filter\": True, \"connected\": True}\n",
    "accept_nonRNA=True\n",
    "preserve_network_sign=True\n",
    "\n",
    "## Selection of parameters relative to experimental constraints\n",
    "LINCS_args = {\"path_to_lincs\": \"../lincs/\", \"credentials\": LINCS_credentials, \"cell_lines\": cell_lines, \n",
    "              \"thres_iscale\": None}\n",
    "SIG_args = {\"bin_thres\": 0.5}\n",
    "force_experiments=False\n",
    "\n",
    "## Selection of parameters relative to the inference of networks\n",
    "BONESIS_args = {\"limit\": 1, \"exact\": True, \"max_maxclause\": 3}\n",
    "\n",
    "## Advanced\n",
    "DESIRABILITY = {\"DS\": 3, \"CL\": 3, \"Centr\": 3, \"GT\": 1}"
   ]
  },
  {
   "cell_type": "markdown",
   "id": "54e18cdd",
   "metadata": {},
   "source": [
    "Don't be afraid! There is a rule of thumb to decide which parameter values to choose:\n",
    "- First choose score=0 in the STRING arguments, thres_iscale=None in the LINCS arguments, tau=0 to select all possible edges in the edge-wise arguments, and bin_thres=0.5 to restrict as much as possible experiment-wise in the signature-wise arguments, max_maxclause=3 to consider more simple regulatory functions, and exact=False in the BoneSiS arguments\n",
    "- If there is an explosion in RAM use (happens for a good personal computer when the number of edges fed to the Boolean network is >3,000), reduce the number of edges by playing with parameters score and tau\n",
    "- If no model is found, decrease the value of parameter bin_thres in [0,0.5], or increase max_maxclause (leave it smaller than 10, otherwise the RAM goes KABOOM)\n",
    "- If there are too many models, add more constraints by increasing the value of score, tau, or bin_thres, or setting exact=True (meaning that any solution should use ALL edges fed to the solver)\n",
    "\n",
    "Moreover, as a general rule: if you prefer having a denser network at the end of the inference, decrease the value of bin_thres. On the contrary, if you prefer putting more credence on experimental contraints, bin_thres should be increased.\n",
    "\n",
    "Note that, as previously mentioned, one can feed a prior knowledge network (through *network_fname*: see [this notebook](https://github.com/clreda/NORDic/blob/main/notebooks/NORDic%20Network%20Identification%20(NI)%20Part%20II.ipynb)), a pre-selected list of genes (through *path_to_genes*: see [this notebook](https://github.com/clreda/NORDic/blob/main/notebooks/NORDic%20Network%20Identification%20(NI)%20Part%20III.ipynb)), and/or a list of gene perturbation experiments (through *experiments_fname*: see [this notebook](https://github.com/clreda/NORDic/blob/main/notebooks/NORDic%20Network%20Identification%20(NI)%20Part%20IV.ipynb)). By default, all those parameters are set to **None**, and **NORDic** infers the corresponding elements from databases and computational methods.\n",
    "\n",
    "In order to speed up the computation here, we actually give to **NORDic** the network from STRING based on genes associated with CCHS in DisGeNet, and the experiment retrieved from LINCS L1000:"
   ]
  },
  {
   "cell_type": "code",
   "execution_count": 21,
   "id": "cef5974a",
   "metadata": {
    "scrolled": true
   },
   "outputs": [
    {
     "data": {
      "text/html": [
       "<div>\n",
       "<style scoped>\n",
       "    .dataframe tbody tr th:only-of-type {\n",
       "        vertical-align: middle;\n",
       "    }\n",
       "\n",
       "    .dataframe tbody tr th {\n",
       "        vertical-align: top;\n",
       "    }\n",
       "\n",
       "    .dataframe thead th {\n",
       "        text-align: right;\n",
       "    }\n",
       "</style>\n",
       "<table border=\"1\" class=\"dataframe\">\n",
       "  <thead>\n",
       "    <tr style=\"text-align: right;\">\n",
       "      <th></th>\n",
       "      <th>0</th>\n",
       "      <th>1</th>\n",
       "      <th>2</th>\n",
       "      <th>3</th>\n",
       "      <th>4</th>\n",
       "      <th>5</th>\n",
       "      <th>6</th>\n",
       "      <th>7</th>\n",
       "      <th>8</th>\n",
       "      <th>9</th>\n",
       "      <th>10</th>\n",
       "      <th>11</th>\n",
       "      <th>12</th>\n",
       "    </tr>\n",
       "  </thead>\n",
       "  <tbody>\n",
       "    <tr>\n",
       "      <th>preferredName_A</th>\n",
       "      <td>PHOX2B</td>\n",
       "      <td>PHOX2B</td>\n",
       "      <td>PHOX2B</td>\n",
       "      <td>PHOX2B</td>\n",
       "      <td>PHOX2B</td>\n",
       "      <td>ASCL1</td>\n",
       "      <td>ASCL1</td>\n",
       "      <td>ASCL1</td>\n",
       "      <td>ASCL1</td>\n",
       "      <td>EDN3</td>\n",
       "      <td>EDN3</td>\n",
       "      <td>EDN3</td>\n",
       "      <td>GDNF</td>\n",
       "    </tr>\n",
       "    <tr>\n",
       "      <th>preferredName_B</th>\n",
       "      <td>BDNF</td>\n",
       "      <td>GDNF</td>\n",
       "      <td>RET</td>\n",
       "      <td>EDN3</td>\n",
       "      <td>ASCL1</td>\n",
       "      <td>RET</td>\n",
       "      <td>EDN3</td>\n",
       "      <td>GDNF</td>\n",
       "      <td>BDNF</td>\n",
       "      <td>BDNF</td>\n",
       "      <td>RET</td>\n",
       "      <td>GDNF</td>\n",
       "      <td>BDNF</td>\n",
       "    </tr>\n",
       "    <tr>\n",
       "      <th>sign</th>\n",
       "      <td>2</td>\n",
       "      <td>2</td>\n",
       "      <td>2</td>\n",
       "      <td>2</td>\n",
       "      <td>2</td>\n",
       "      <td>2</td>\n",
       "      <td>2</td>\n",
       "      <td>2</td>\n",
       "      <td>2</td>\n",
       "      <td>2</td>\n",
       "      <td>2</td>\n",
       "      <td>2</td>\n",
       "      <td>2</td>\n",
       "    </tr>\n",
       "    <tr>\n",
       "      <th>directed</th>\n",
       "      <td>0</td>\n",
       "      <td>0</td>\n",
       "      <td>0</td>\n",
       "      <td>0</td>\n",
       "      <td>0</td>\n",
       "      <td>0</td>\n",
       "      <td>0</td>\n",
       "      <td>0</td>\n",
       "      <td>0</td>\n",
       "      <td>0</td>\n",
       "      <td>0</td>\n",
       "      <td>0</td>\n",
       "      <td>0</td>\n",
       "    </tr>\n",
       "    <tr>\n",
       "      <th>score</th>\n",
       "      <td>0.342</td>\n",
       "      <td>0.572</td>\n",
       "      <td>0.605</td>\n",
       "      <td>0.607</td>\n",
       "      <td>0.676</td>\n",
       "      <td>0.397</td>\n",
       "      <td>0.433</td>\n",
       "      <td>0.47</td>\n",
       "      <td>0.519</td>\n",
       "      <td>0.15</td>\n",
       "      <td>0.622</td>\n",
       "      <td>0.634</td>\n",
       "      <td>0.95</td>\n",
       "    </tr>\n",
       "  </tbody>\n",
       "</table>\n",
       "</div>"
      ],
      "text/plain": [
       "                     0       1       2       3       4      5      6      7   \\\n",
       "preferredName_A  PHOX2B  PHOX2B  PHOX2B  PHOX2B  PHOX2B  ASCL1  ASCL1  ASCL1   \n",
       "preferredName_B    BDNF    GDNF     RET    EDN3   ASCL1    RET   EDN3   GDNF   \n",
       "sign                  2       2       2       2       2      2      2      2   \n",
       "directed              0       0       0       0       0      0      0      0   \n",
       "score             0.342   0.572   0.605   0.607   0.676  0.397  0.433   0.47   \n",
       "\n",
       "                    8     9      10     11    12  \n",
       "preferredName_A  ASCL1  EDN3   EDN3   EDN3  GDNF  \n",
       "preferredName_B   BDNF  BDNF    RET   GDNF  BDNF  \n",
       "sign                 2     2      2      2     2  \n",
       "directed             0     0      0      0     0  \n",
       "score            0.519  0.15  0.622  0.634  0.95  "
      ]
     },
     "execution_count": 21,
     "metadata": {},
     "output_type": "execute_result"
    }
   ],
   "source": [
    "import pandas as pd\n",
    "## The undirected, unsigned network from STRING\n",
    "network_content = pd.DataFrame([], index=[\"preferredName_A\", \"preferredName_B\", \"sign\", \"directed\", \"score\"])\n",
    "network_content[0] = [\"PHOX2B\", \"BDNF\", 2, 0, 0.342]\n",
    "network_content[1] = [\"PHOX2B\", \"GDNF\", 2, 0, 0.572]\n",
    "network_content[2] = [\"PHOX2B\", \"RET\", 2, 0, 0.605]\n",
    "network_content[3] = [\"PHOX2B\", \"EDN3\", 2, 0, 0.607]\n",
    "network_content[4] = [\"PHOX2B\", \"ASCL1\", 2, 0, 0.676]\n",
    "network_content[5] = [\"ASCL1\", \"RET\", 2, 0, 0.397]\n",
    "network_content[6] = [\"ASCL1\", \"EDN3\", 2, 0, 0.433]\n",
    "network_content[7] = [\"ASCL1\", \"GDNF\", 2, 0, 0.47]\n",
    "network_content[8] = [\"ASCL1\", \"BDNF\", 2, 0, 0.519]\n",
    "network_content[9] = [\"EDN3\", \"BDNF\", 2, 0, 0.15]\n",
    "network_content[10] = [\"EDN3\", \"RET\", 2, 0, 0.622]\n",
    "network_content[11] = [\"EDN3\", \"GDNF\", 2, 0, 0.634]\n",
    "network_content[12] = [\"RET\", \"BDNF\", 2, 0, 0.438]\n",
    "network_content[12] = [\"RET\", \"GDNF\", 2, 0, 0.999]\n",
    "network_content[12] = [\"GDNF\", \"BDNF\", 2, 0, 0.95]\n",
    "network_content.T.to_csv(\"network.tsv\", sep=\"\\t\", index=None)\n",
    "network_content"
   ]
  },
  {
   "cell_type": "code",
   "execution_count": 22,
   "id": "3ec8252c",
   "metadata": {},
   "outputs": [
    {
     "data": {
      "text/html": [
       "<div>\n",
       "<style scoped>\n",
       "    .dataframe tbody tr th:only-of-type {\n",
       "        vertical-align: middle;\n",
       "    }\n",
       "\n",
       "    .dataframe tbody tr th {\n",
       "        vertical-align: top;\n",
       "    }\n",
       "\n",
       "    .dataframe thead th {\n",
       "        text-align: right;\n",
       "    }\n",
       "</style>\n",
       "<table border=\"1\" class=\"dataframe\">\n",
       "  <thead>\n",
       "    <tr style=\"text-align: right;\">\n",
       "      <th></th>\n",
       "      <th>PHOX2B</th>\n",
       "      <th>EDN3</th>\n",
       "      <th>RET</th>\n",
       "      <th>GDNF</th>\n",
       "      <th>BDNF</th>\n",
       "      <th>ASCL1</th>\n",
       "      <th>cell_line</th>\n",
       "      <th>annotation</th>\n",
       "      <th>perturbed</th>\n",
       "      <th>perturbation</th>\n",
       "      <th>sigid</th>\n",
       "    </tr>\n",
       "  </thead>\n",
       "  <tbody>\n",
       "    <tr>\n",
       "      <th>BDNF_KD_SHSY5Y</th>\n",
       "      <td>1</td>\n",
       "      <td>1</td>\n",
       "      <td>1</td>\n",
       "      <td>0</td>\n",
       "      <td>0</td>\n",
       "      <td>0</td>\n",
       "      <td>Cell</td>\n",
       "      <td>2</td>\n",
       "      <td>BDNF</td>\n",
       "      <td>KD</td>\n",
       "      <td>Sig1</td>\n",
       "    </tr>\n",
       "    <tr>\n",
       "      <th>initial_SHSY5Y</th>\n",
       "      <td>1</td>\n",
       "      <td>1</td>\n",
       "      <td>1</td>\n",
       "      <td>1</td>\n",
       "      <td>0</td>\n",
       "      <td>0</td>\n",
       "      <td>Cell</td>\n",
       "      <td>1</td>\n",
       "      <td>None</td>\n",
       "      <td>None</td>\n",
       "      <td>Sig2</td>\n",
       "    </tr>\n",
       "  </tbody>\n",
       "</table>\n",
       "</div>"
      ],
      "text/plain": [
       "               PHOX2B EDN3 RET GDNF BDNF ASCL1 cell_line annotation perturbed  \\\n",
       "BDNF_KD_SHSY5Y      1    1   1    0    0     0      Cell          2      BDNF   \n",
       "initial_SHSY5Y      1    1   1    1    0     0      Cell          1      None   \n",
       "\n",
       "               perturbation sigid  \n",
       "BDNF_KD_SHSY5Y           KD  Sig1  \n",
       "initial_SHSY5Y         None  Sig2  "
      ]
     },
     "execution_count": 22,
     "metadata": {},
     "output_type": "execute_result"
    }
   ],
   "source": [
    "import pandas as pd\n",
    "## An experiment retrieved from LINCS L1000 involving those genes\n",
    "index=[\"PHOX2B\",\"EDN3\",\"RET\",\"GDNF\",\"BDNF\",\"ASCL1\",\"cell_line\",\"annotation\",\"perturbed\",\"perturbation\",\"sigid\"]\n",
    "experiments_content = pd.DataFrame([], index=index)\n",
    "experiments_content[\"BDNF_KD_SHSY5Y\"] = [1,1,1,0,0,0,\"Cell\",\"2\",\"BDNF\",\"KD\",\"Sig1\"] ## mutated profile\n",
    "experiments_content[\"initial_SHSY5Y\"] = [1,1,1,1,0,0,\"Cell\",\"1\",\"None\",\"None\",\"Sig2\"] ## control/initial profile\n",
    "experiments_content.to_csv(\"experiments.csv\")\n",
    "experiments_content.T"
   ]
  },
  {
   "cell_type": "markdown",
   "id": "f3c75576",
   "metadata": {},
   "source": [
    "### 1.d. Network inference\n",
    "\n",
    "A single function takes these parameters, and returns a single solution network. Note that this step can be quite time-consuming depending on the number of genes and the size of the prior knowledge network (sometimes in (dozens of) hours...). However, in this instance, it should be quick."
   ]
  },
  {
   "cell_type": "code",
   "execution_count": 23,
   "id": "61103c94",
   "metadata": {
    "scrolled": true
   },
   "outputs": [
    {
     "name": "stdout",
     "output_type": "stream",
     "text": [
      "--- DATA IMPORT ---\n",
      "1. Import gene set from DisGeNET... ... 6 genes imported.\n",
      "2. Import network from network.tsv... ... 13 edges in model (including 0 directed edges) with a total of 6 non-isolated genes\n",
      "3. Import experiments from experiments.csv... \n",
      "\t2 cell lines are considered (['NPC', 'SHSY5Y'])\n",
      "... 6 genes in 0 profiles (0 experiments)\n",
      "\n",
      "--- CONSTRAINT BUILDING ---\n",
      "1. Filtering out edges by minimum set of edges with highest score which preserve connectivity... ... 13 unique edges involving genes both in experiments (6 genes in total)\n",
      "... score_STRING 0.000000\t6 genes (non isolated in PPI)\t52 edges in PPI\n",
      "2. Build topological constraints from filtered edges using gene expression data...  ...... 0 negative, 26 positive undirected interactions (26 edges in total), 6 non isolated genes in experiments\n",
      "3. Build dynamical constraints by binarization of experimental profiles...  ...... no experiments.\n",
      "\n",
      "--- INFER BOOLEAN NETWORK ---\n",
      "1. Generate solutions from topological & dynamical constraints...  ...<UTILS_GRN> Maximum possible #activators=5\n",
      "<BONESIS> 26 interactions (maximum # of clauses = 3)\n"
     ]
    },
    {
     "name": "stderr",
     "output_type": "stream",
     "text": [
      "\r",
      "  0%|                                                                    | 0/1 [00:00<?, ?it/s]"
     ]
    },
    {
     "name": "stdout",
     "output_type": "stream",
     "text": [
      "Grounding...done in 0.0s\n",
      "Found 1 solutions in 0.0s (first in 0.0s; rate 0.0s)"
     ]
    },
    {
     "name": "stderr",
     "output_type": "stream",
     "text": [
      "\r",
      "100%|████████████████████████████████████████████████████████████| 1/1 [00:00<00:00, 45.19it/s]"
     ]
    },
    {
     "name": "stdout",
     "output_type": "stream",
     "text": [
      "--- SELECTION OF OPTIMAL MODEL ---\n",
      "A. Select an optimal model based on a topological criteria...  ...1 solutions (1 unique solutions)\n",
      "... 1 solutions (0/7 constant genes in average)\n",
      "<MODEL VISUALIZATION> Minimal solution: 26 edges\n"
     ]
    },
    {
     "name": "stderr",
     "output_type": "stream",
     "text": [
      "\n"
     ]
    },
    {
     "name": "stdout",
     "output_type": "stream",
     "text": [
      "<MODEL VISUALIZATION> Maximal solution: 26 edges\n",
      "           1\n",
      "GTP  0.87416\n",
      "<MODEL SELECTION> Saving optimal model in 'ToyOndine//solution.bnet' ...\n",
      "ASCL1, BDNF|RET|(EDN3&GDNF&PHOX2B)\n",
      "BDNF, PHOX2B|(ASCL1&EDN3&GDNF)\n",
      "EDN3, ASCL1&BDNF&GDNF&PHOX2B&RET\n",
      "GDNF, PHOX2B|(ASCL1&EDN3)|(BDNF&EDN3)\n",
      "PHOX2B, RET|(ASCL1&BDNF&EDN3&GDNF)\n",
      "...\n",
      "... saved!\n"
     ]
    }
   ],
   "source": [
    "from NORDic.NORDic_NI.functions import network_identification\n",
    "solution = network_identification(file_folder, taxon_id, path_to_genes=None, \n",
    "    network_fname=\"network.tsv\", experiments_fname=\"experiments.csv\", \n",
    "    disgenet_args=DISGENET_args, string_args=STRING_args, edge_args=EDGE_args, lincs_args=LINCS_args, \n",
    "    sig_args=SIG_args, bonesis_args=BONESIS_args, weights=DESIRABILITY, seed=seed_number, njobs=njobs,\n",
    "    force_experiments=force_experiments, accept_nonRNA=accept_nonRNA, preserve_network_sign=preserve_network_sign)"
   ]
  },
  {
   "cell_type": "markdown",
   "id": "0d16cbbb",
   "metadata": {},
   "source": [
    "### 1.e. Network visualization\n",
    "\n",
    "If you have a look at the folder *file_folder* (here, \"ToyOndine/\"), you can notice that there are a lot of intermediary files, comprising an image of the inferred network *inferred_max_criterion_solution*"
   ]
  },
  {
   "cell_type": "code",
   "execution_count": 24,
   "id": "9d01cbdb",
   "metadata": {},
   "outputs": [
    {
     "data": {
      "image/png": "[encoded data removed]",
      "text/plain": [
       "<IPython.core.display.Image object>"
      ]
     },
     "execution_count": 24,
     "metadata": {},
     "output_type": "execute_result"
    }
   ],
   "source": [
    "from IPython.display import Image\n",
    "Image(filename=file_folder+'inferred_max_criterion_solution.png') "
   ]
  },
  {
   "cell_type": "markdown",
   "id": "06fbde8b",
   "metadata": {},
   "source": [
    "and the .BNET file *solution.bnet* that contains the gene regulatory functions defining the dynamics of the Boolean network "
   ]
  },
  {
   "cell_type": "code",
   "execution_count": 25,
   "id": "18371086",
   "metadata": {},
   "outputs": [
    {
     "name": "stdout",
     "output_type": "stream",
     "text": [
      "ASCL1, BDNF|RET|(EDN3&GDNF&PHOX2B)\n",
      "BDNF, PHOX2B|(ASCL1&EDN3&GDNF)\n",
      "EDN3, ASCL1&BDNF&GDNF&PHOX2B&RET\n",
      "GDNF, PHOX2B|(ASCL1&EDN3)|(BDNF&EDN3)\n",
      "PHOX2B, RET|(ASCL1&BDNF&EDN3&GDNF)\n",
      "RET, (ASCL1&EDN3)|(ASCL1&PHOX2B)\n"
     ]
    }
   ],
   "source": [
    "with open(file_folder+\"solution.bnet\", \"r\") as f:\n",
    "    network = f.read()\n",
    "print(network)"
   ]
  },
  {
   "cell_type": "markdown",
   "id": "42f3b641",
   "metadata": {},
   "source": [
    "If needed, you can convert this network into network (at *file_folder*/solution_cytoscape.sif) and style (at *file_folder*/solution_cytoscape.xml) files readable by [Cytoscape](https://cytoscape.org/)"
   ]
  },
  {
   "cell_type": "code",
   "execution_count": 26,
   "id": "5cd6b411",
   "metadata": {},
   "outputs": [],
   "source": [
    "from NORDic.NORDic_NI.functions import solution2cytoscape\n",
    "from NORDic.UTILS.utils_grn import load_grn\n",
    "solution = load_grn(file_folder+\"solution.bnet\")\n",
    "solution2cytoscape(solution, file_folder+\"solution_cytoscape\")"
   ]
  },
  {
   "cell_type": "markdown",
   "id": "1e2f5d3e",
   "metadata": {},
   "source": [
    "## II. Prioritization of master regulators (**NORDic PMR**)"
   ]
  },
  {
   "cell_type": "markdown",
   "id": "39f6d1f4",
   "metadata": {},
   "source": [
    "**NORDic PMR** exploits a Boolean network in order to find master regulators. Its approach is based on influence maximization. For more information about the method, please have a look at the following [reference](https://clreda.github.io/assets/reda2022prioritization_accepted.pdf):\n",
    "\n",
    "> Réda, C., & Delahaye-Duriez, A. (2022). Prioritization of Candidate Genes Through Boolean Networks. In *International Conference on Computational Methods in Systems Biology* (pp. 89-121). Springer, Cham.\n",
    "\n",
    "The input network does not need to be an output of **NORDic NI** (although it is compatible), and, as such, the corresponding .BNET file can be independenty generated. We however need \"patient\" profiles for CCHS in order to give the transcriptional context of perturbations in the network. In our case, we will actually generate those at random, since this notebook is for illustration purposes."
   ]
  },
  {
   "cell_type": "code",
   "execution_count": 27,
   "id": "e76dba2b",
   "metadata": {},
   "outputs": [
    {
     "data": {
      "text/html": [
       "<div>\n",
       "<style scoped>\n",
       "    .dataframe tbody tr th:only-of-type {\n",
       "        vertical-align: middle;\n",
       "    }\n",
       "\n",
       "    .dataframe tbody tr th {\n",
       "        vertical-align: top;\n",
       "    }\n",
       "\n",
       "    .dataframe thead th {\n",
       "        text-align: right;\n",
       "    }\n",
       "</style>\n",
       "<table border=\"1\" class=\"dataframe\">\n",
       "  <thead>\n",
       "    <tr style=\"text-align: right;\">\n",
       "      <th></th>\n",
       "      <th>Patient 1</th>\n",
       "      <th>Patient 2</th>\n",
       "      <th>Patient 3</th>\n",
       "      <th>Patient 4</th>\n",
       "      <th>Patient 5</th>\n",
       "      <th>Patient 6</th>\n",
       "      <th>Patient 7</th>\n",
       "      <th>Patient 8</th>\n",
       "      <th>Patient 9</th>\n",
       "      <th>Patient 10</th>\n",
       "    </tr>\n",
       "  </thead>\n",
       "  <tbody>\n",
       "    <tr>\n",
       "      <th>ASCL1</th>\n",
       "      <td>1</td>\n",
       "      <td>1</td>\n",
       "      <td>0</td>\n",
       "      <td>1</td>\n",
       "      <td>0</td>\n",
       "      <td>0</td>\n",
       "      <td>1</td>\n",
       "      <td>1</td>\n",
       "      <td>1</td>\n",
       "      <td>1</td>\n",
       "    </tr>\n",
       "    <tr>\n",
       "      <th>BDNF</th>\n",
       "      <td>0</td>\n",
       "      <td>1</td>\n",
       "      <td>0</td>\n",
       "      <td>1</td>\n",
       "      <td>1</td>\n",
       "      <td>1</td>\n",
       "      <td>0</td>\n",
       "      <td>0</td>\n",
       "      <td>0</td>\n",
       "      <td>0</td>\n",
       "    </tr>\n",
       "    <tr>\n",
       "      <th>EDN3</th>\n",
       "      <td>0</td>\n",
       "      <td>1</td>\n",
       "      <td>0</td>\n",
       "      <td>1</td>\n",
       "      <td>1</td>\n",
       "      <td>1</td>\n",
       "      <td>1</td>\n",
       "      <td>0</td>\n",
       "      <td>1</td>\n",
       "      <td>0</td>\n",
       "    </tr>\n",
       "    <tr>\n",
       "      <th>GDNF</th>\n",
       "      <td>0</td>\n",
       "      <td>1</td>\n",
       "      <td>1</td>\n",
       "      <td>1</td>\n",
       "      <td>1</td>\n",
       "      <td>0</td>\n",
       "      <td>1</td>\n",
       "      <td>0</td>\n",
       "      <td>0</td>\n",
       "      <td>0</td>\n",
       "    </tr>\n",
       "    <tr>\n",
       "      <th>PHOX2B</th>\n",
       "      <td>1</td>\n",
       "      <td>1</td>\n",
       "      <td>1</td>\n",
       "      <td>0</td>\n",
       "      <td>1</td>\n",
       "      <td>0</td>\n",
       "      <td>1</td>\n",
       "      <td>0</td>\n",
       "      <td>1</td>\n",
       "      <td>1</td>\n",
       "    </tr>\n",
       "    <tr>\n",
       "      <th>RET</th>\n",
       "      <td>1</td>\n",
       "      <td>1</td>\n",
       "      <td>1</td>\n",
       "      <td>0</td>\n",
       "      <td>0</td>\n",
       "      <td>1</td>\n",
       "      <td>1</td>\n",
       "      <td>0</td>\n",
       "      <td>1</td>\n",
       "      <td>1</td>\n",
       "    </tr>\n",
       "  </tbody>\n",
       "</table>\n",
       "</div>"
      ],
      "text/plain": [
       "        Patient 1  Patient 2  Patient 3  Patient 4  Patient 5  Patient 6  \\\n",
       "ASCL1           1          1          0          1          0          0   \n",
       "BDNF            0          1          0          1          1          1   \n",
       "EDN3            0          1          0          1          1          1   \n",
       "GDNF            0          1          1          1          1          0   \n",
       "PHOX2B          1          1          1          0          1          0   \n",
       "RET             1          1          1          0          0          1   \n",
       "\n",
       "        Patient 7  Patient 8  Patient 9  Patient 10  \n",
       "ASCL1           1          1          1           1  \n",
       "BDNF            0          0          0           0  \n",
       "EDN3            1          0          1           0  \n",
       "GDNF            1          0          0           0  \n",
       "PHOX2B          1          0          1           1  \n",
       "RET             1          0          1           1  "
      ]
     },
     "execution_count": 27,
     "metadata": {},
     "output_type": "execute_result"
    }
   ],
   "source": [
    "import numpy as np\n",
    "np.random.seed(12345)\n",
    "with open(file_folder+\"solution.bnet\", \"r\") as f:\n",
    "    genes = [line.split(\", \")[0] for line in f.read().split(\"\\n\") if (len(line)>0)]\n",
    "state_len = 10 # number of patient states to generate\n",
    "states = pd.DataFrame(\n",
    "  [np.random.choice([0,1], p=[0.5,0.5], size=len(genes)).tolist() for _ in range(state_len)]\n",
    "  , columns=genes, index=[\"Patient %d\" % (i+1) for i in range(state_len)]).T\n",
    "states"
   ]
  },
  {
   "cell_type": "markdown",
   "id": "37ebbcce",
   "metadata": {},
   "source": [
    "### II.a. Selection of parameters in **NORDic PMR**\n",
    "\n",
    "Again, we need to set the random seed for increased reproducibility, and set the maximum number of threads to use"
   ]
  },
  {
   "cell_type": "code",
   "execution_count": 28,
   "id": "ce75b9cd",
   "metadata": {},
   "outputs": [],
   "source": [
    "seed_number=12345\n",
    "from multiprocessing import cpu_count\n",
    "njobs=min(5,max(1,cpu_count()-2)) #minimum between all available -2 and 5"
   ]
  },
  {
   "cell_type": "markdown",
   "id": "09ecbcf6",
   "metadata": {},
   "source": [
    "As the goal is to rank genes by their *individual* regulatory influence in the network, we will consider genewise mutations"
   ]
  },
  {
   "cell_type": "code",
   "execution_count": 29,
   "id": "9021c75c",
   "metadata": {},
   "outputs": [],
   "source": [
    "k=1"
   ]
  },
  {
   "cell_type": "markdown",
   "id": "b167f2d7",
   "metadata": {},
   "source": [
    "To get more information about parameters, please refer to [this notebook](https://github.com/clreda/NORDic/blob/main/notebooks/NORDic%20Prioritization%20of%20Master%20Regulators%20(PMR).ipynb)"
   ]
  },
  {
   "cell_type": "code",
   "execution_count": 30,
   "id": "7101105b",
   "metadata": {},
   "outputs": [],
   "source": [
    "IM_params = {\n",
    "    \"seed\": seed_number, \"gene_inputs\": genes, # genes to be perturbed\n",
    "    \"gene_outputs\": genes # genes to be observed: it is advised to avoid genes without regulators in that list\n",
    "}\n",
    "\n",
    "SIMU_params = {\n",
    "    'nb_sims': 1000, 'rates': \"fully_asynchronous\", 'thread_count': njobs, 'depth': \"constant_unitary\",\n",
    "}"
   ]
  },
  {
   "cell_type": "markdown",
   "id": "123eb0f3",
   "metadata": {},
   "source": [
    "All in all"
   ]
  },
  {
   "cell_type": "code",
   "execution_count": 31,
   "id": "c70f514f",
   "metadata": {},
   "outputs": [],
   "source": [
    "seed_number=12345\n",
    "from multiprocessing import cpu_count\n",
    "njobs=min(5,max(1,cpu_count()-2))\n",
    "\n",
    "k=1\n",
    "\n",
    "IM_params = {\"seed\": seed_number, \"gene_inputs\": genes, \"gene_outputs\": genes}\n",
    "\n",
    "SIMU_params = {'nb_sims': 1000, 'rates': \"fully_asynchronous\", 'thread_count': njobs, 'depth': \"constant_unitary\"}"
   ]
  },
  {
   "cell_type": "markdown",
   "id": "3be45c34",
   "metadata": {},
   "source": [
    "### II.b. Gene ranking"
   ]
  },
  {
   "cell_type": "code",
   "execution_count": 32,
   "id": "231365bd",
   "metadata": {},
   "outputs": [
    {
     "name": "stdout",
     "output_type": "stream",
     "text": [
      "<NORD_PMR> Iteration k=1\n",
      "\t<NORD_PMR> Initial state Patient 1 (gene(s):ASCL1)\n",
      "\t<NORD_PMR> Initial state Patient 5 (gene(s):ASCL1)\n",
      "\t<NORD_PMR> Initial state Patient 2 (gene(s):ASCL1)\n",
      "\t<NORD_PMR> Initial state Patient 3 (gene(s):ASCL1)\n",
      "1 wild type attractors with proba > 0 (initial state Patient 2)\n",
      "Gene ASCL1 (1/6) in state Patient 2 - constant_unitary_depth{}\tfully_asynchronous_rates{}\n",
      "\t<NORD_PMR> Initial state Patient 4 (gene(s):ASCL1)\n",
      "Gene BDNF (2/6) in state Patient 2 - constant_unitary_depth{}\tfully_asynchronous_rates{}\n",
      "Gene EDN3 (3/6) in state Patient 2 - constant_unitary_depth{}\tfully_asynchronous_rates{}\n",
      "1 wild type attractors with proba > 0 (initial state Patient 1)\n",
      "Gene GDNF (4/6) in state Patient 2 - constant_unitary_depth{}\tfully_asynchronous_rates{}\n",
      "Gene ASCL1 (1/6) in state Patient 1 - constant_unitary_depth{}\tfully_asynchronous_rates{}\n"
     ]
    },
    {
     "name": "stderr",
     "output_type": "stream",
     "text": [
      "100%|██████████| 1/1 [00:00<00:00, 40721.40it/s]\n",
      "100%|██████████| 2/2 [00:00<00:00, 71697.50it/s]\n",
      "  0%|          | 0/1000 [00:00<?, ?it/s]domRec ignored: No domain atoms found.\n",
      "100%|██████████| 1/1 [00:00<00:00, 29959.31it/s]\n",
      "100%|██████████| 2/2 [00:00<00:00, 75573.05it/s]02it/s]\n",
      "  0%|          | 0/1000 [00:00<?, ?it/s]\n",
      "100%|██████████| 1/1 [00:00<00:00, 25115.59it/s]\n",
      "100%|██████████| 2/2 [00:00<00:00, 36792.14it/s]3it/s]\n",
      "  0%|          | 0/1000 [00:00<?, ?it/s]\n",
      "100%|██████████| 1/1 [00:00<00:00, 40329.85it/s]\n",
      "100%|██████████| 1000/1000 [00:00<00:00, 46724.34it/s]domRec ignored: No domain atoms found.\n",
      "\n",
      "100%|██████████| 1/1 [00:00<00:00, 30840.47it/s]\n",
      " 24%|██▎       | 237/1000 [00:00<00:00, 2368.13it/s]s]\n",
      "100%|██████████| 1/1 [00:00<00:00, 27060.03it/s]\n",
      "100%|██████████| 1/1 [00:00<00:00, 46091.25it/s]\n",
      "  0%|          | 0/1000 [00:00<?, ?it/s]\n",
      "100%|██████████| 1000/1000 [00:00<00:00, 61922.26it/s]\n",
      "100%|██████████| 1000/1000 [00:00<00:00, 38800.94it/s]\n",
      " 26%|██▌       | 257/1000 [00:00<00:00, 2569.01it/s]\n",
      "100%|██████████| 1/1 [00:00<00:00, 39568.91it/s]\n",
      "100%|██████████| 1000/1000 [00:00<00:00, 51338.50it/s]\n",
      "100%|██████████| 1/1 [00:00<00:00, 38836.15it/s]\n",
      "100%|██████████| 1000/1000 [00:00<00:00, 71556.84it/s]\n",
      "100%|██████████| 1/1 [00:00<00:00, 42799.02it/s]\n",
      "100%|██████████| 1/1 [00:00<00:00, 49932.19it/s]\n",
      "  0%|          | 0/1000 [00:00<?, ?it/s]\n",
      "100%|██████████| 1000/1000 [00:00<00:00, 51287.65it/s]\n",
      "100%|██████████| 1/1 [00:00<00:00, 48210.39it/s]\n",
      "100%|██████████| 1000/1000 [00:00<00:00, 62645.50it/s]\n",
      " 53%|█████▎    | 529/1000 [00:00<00:00, 2657.25it/s]\n",
      "100%|██████████| 1000/1000 [00:00<00:00, 73559.76it/s]\n",
      "100%|██████████| 2/2 [00:00<00:00, 72944.42it/s]\n",
      "  0%|          | 0/1000 [00:00<?, ?it/s]\n",
      "100%|██████████| 1/1 [00:00<00:00, 45590.26it/s]\n",
      "100%|██████████| 1000/1000 [00:00<00:00, 68147.98it/s]\n",
      "100%|██████████| 1/1 [00:00<00:00, 38130.04it/s]\n",
      "  0%|          | 0/1000 [00:00<?, ?it/s]"
     ]
    },
    {
     "name": "stdout",
     "output_type": "stream",
     "text": [
      "Gene BDNF (2/6) in state Patient 1 - constant_unitary_depth{}\tfully_asynchronous_rates{}\n",
      "Gene PHOX2B (5/6) in state Patient 2 - constant_unitary_depth{}\tfully_asynchronous_rates{}\n",
      "Gene EDN3 (3/6) in state Patient 1 - constant_unitary_depth{}\tfully_asynchronous_rates{}\n",
      "Gene RET (6/6) in state Patient 2 - constant_unitary_depth{}\tfully_asynchronous_rates{}\n",
      "Gene GDNF (4/6) in state Patient 1 - constant_unitary_depth{}\tfully_asynchronous_rates{}\n",
      "Gene PHOX2B (5/6) in state Patient 1 - constant_unitary_depth{}\tfully_asynchronous_rates{}\n",
      "Gene RET (6/6) in state Patient 1 - constant_unitary_depth{}\tfully_asynchronous_rates{}\n",
      "\t<NORD_PMR> Initial state Patient 6 (gene(s):ASCL1)\n",
      "\t<NORD_PMR> Initial state Patient 7 (gene(s):ASCL1)\n",
      "1 wild type attractors with proba > 0 (initial state Patient 7)\n",
      "Gene ASCL1 (1/6) in state Patient 7 - constant_unitary_depth{}\tfully_asynchronous_rates{}\n"
     ]
    },
    {
     "name": "stderr",
     "output_type": "stream",
     "text": [
      "\r",
      " 81%|████████  | 811/1000 [00:00<00:00, 2727.23it/s]\r",
      " 95%|█████████▌| 954/1000 [00:00<00:00, 2395.00it/s]\r",
      "100%|██████████| 1000/1000 [00:00<00:00, 36139.10it/s]\n",
      "\r",
      "  0%|          | 0/1 [00:00<?, ?it/s]\r",
      "100%|██████████| 1/1 [00:00<00:00, 39945.75it/s]\n",
      "\r",
      "  0%|          | 0/1000 [00:00<?, ?it/s]\r",
      " 19%|█▉        | 190/1000 [00:00<00:00, 1892.86it/s]\r",
      "100%|██████████| 1000/1000 [00:00<00:00, 2366.19it/s]\r",
      "100%|██████████| 1000/1000 [00:00<00:00, 66052.03it/s]\n",
      "\r",
      "  0%|          | 0/2 [00:00<?, ?it/s]\r",
      "100%|██████████| 2/2 [00:00<00:00, 59493.67it/s]\n",
      "\r",
      "  0%|          | 0/1000 [00:00<?, ?it/s]\n",
      "\r",
      "  0%|          | 0/1 [00:00<?, ?it/s]\r",
      "100%|██████████| 1/1 [00:00<00:00, 34379.54it/s]\n",
      "\r",
      "  0%|          | 0/1000 [00:00<?, ?it/s]\r",
      "100%|██████████| 1000/1000 [00:00<00:00, 2501.04it/s]\r",
      "100%|██████████| 1000/1000 [00:00<00:00, 60450.59it/s]\n",
      "\r",
      "  0%|          | 0/2 [00:00<?, ?it/s]\r",
      "100%|██████████| 2/2 [00:00<00:00, 74235.47it/s]\r",
      "100%|██████████| 1000/1000 [00:00<00:00, 2678.99it/s]\n",
      "\r",
      "  0%|          | 0/1000 [00:00<?, ?it/s]\n",
      "\r",
      "  0%|          | 0/1 [00:00<?, ?it/s]\r",
      "100%|██████████| 1/1 [00:00<00:00, 31775.03it/s]\n",
      "\r",
      "  0%|          | 0/1000 [00:00<?, ?it/s]\n",
      "\r",
      "  0%|          | 0/1 [00:00<?, ?it/s]\r",
      "100%|██████████| 1/1 [00:00<00:00, 44620.26it/s]\n",
      "\r",
      "  0%|          | 0/1000 [00:00<?, ?it/s]\r",
      "100%|██████████| 1000/1000 [00:00<00:00, 72143.93it/s]\n",
      "\r",
      "  0%|          | 0/1 [00:00<?, ?it/s]\r",
      "100%|██████████| 1/1 [00:00<00:00, 47662.55it/s]\n",
      "\r",
      "  0%|          | 0/1000 [00:00<?, ?it/s]\r",
      "100%|██████████| 1000/1000 [00:00<00:00, 77566.00it/s]\n",
      "\r",
      "  0%|          | 0/2 [00:00<?, ?it/s]\r",
      "100%|██████████| 2/2 [00:00<00:00, 85598.04it/s]\n",
      "\r",
      "  0%|          | 0/1000 [00:00<?, ?it/s]\r",
      "100%|██████████| 1000/1000 [00:00<00:00, 53829.72it/s]\n",
      "\r",
      "  0%|          | 0/1 [00:00<?, ?it/s]\r",
      "100%|██████████| 1/1 [00:00<00:00, 43690.67it/s]\n",
      "\r",
      "  0%|          | 0/1000 [00:00<?, ?it/s]\r",
      " 40%|████      | 401/1000 [00:00<00:00, 2016.78it/s]\r",
      "100%|██████████| 1000/1000 [00:00<00:00, 58470.24it/s]\r",
      " 25%|██▌       | 251/1000 [00:00<00:00, 2503.45it/s]\n",
      "\r",
      "  0%|          | 0/1 [00:00<?, ?it/s]\r",
      "100%|██████████| 1/1 [00:00<00:00, 42799.02it/s]\n",
      "\r",
      "  0%|          | 0/1000 [00:00<?, ?it/s]\r",
      "100%|██████████| 1000/1000 [00:00<00:00, 60615.71it/s]\r",
      " 26%|██▋       | 264/1000 [00:00<00:00, 2638.36it/s]domRec ignored: No domain atoms found.\n",
      "\n",
      "\r",
      "  0%|          | 0/1 [00:00<?, ?it/s]\r",
      "100%|██████████| 1/1 [00:00<00:00, 45100.04it/s]\n",
      "\r",
      "  0%|          | 0/1000 [00:00<?, ?it/s]\r",
      "100%|██████████| 1000/1000 [00:00<00:00, 60566.69it/s]"
     ]
    },
    {
     "name": "stdout",
     "output_type": "stream",
     "text": [
      "Gene BDNF (2/6) in state Patient 7 - constant_unitary_depth{}\tfully_asynchronous_rates{}\n",
      "2 wild type attractors with proba > 0 (initial state Patient 5)\n",
      "Gene ASCL1 (1/6) in state Patient 5 - constant_unitary_depth{}\tfully_asynchronous_rates{}\n",
      "Gene EDN3 (3/6) in state Patient 7 - constant_unitary_depth{}\tfully_asynchronous_rates{}\n",
      "2 wild type attractors with proba > 0 (initial state Patient 3)\n",
      "Gene ASCL1 (1/6) in state Patient 3 - constant_unitary_depth{}\tfully_asynchronous_rates{}\n",
      "Gene GDNF (4/6) in state Patient 7 - constant_unitary_depth{}\tfully_asynchronous_rates{}\n",
      "2 wild type attractors with proba > 0 (initial state Patient 4)\n",
      "Gene ASCL1 (1/6) in state Patient 4 - constant_unitary_depth{}\tfully_asynchronous_rates{}\n",
      "Gene PHOX2B (5/6) in state Patient 7 - constant_unitary_depth{}\tfully_asynchronous_rates{}\n",
      "Gene BDNF (2/6) in state Patient 4 - constant_unitary_depth{}\tfully_asynchronous_rates{}\n",
      "Gene RET (6/6) in state Patient 7 - constant_unitary_depth{}\tfully_asynchronous_rates{}\n",
      "\t<NORD_PMR> Initial state Patient 8 (gene(s):ASCL1)\n",
      "1 wild type attractors with proba > 0 (initial state Patient 8)\n",
      "Gene ASCL1 (1/6) in state Patient 8 - constant_unitary_depth{}\tfully_asynchronous_rates{}\n",
      "Gene BDNF (2/6) in state Patient 8 - constant_unitary_depth{}\tfully_asynchronous_rates{}\n"
     ]
    },
    {
     "name": "stderr",
     "output_type": "stream",
     "text": [
      "\n",
      "\r",
      "  0%|          | 0/1 [00:00<?, ?it/s]\r",
      "100%|██████████| 1/1 [00:00<00:00, 41120.63it/s]\n",
      "\r",
      "  0%|          | 0/1000 [00:00<?, ?it/s]\r",
      " 24%|██▍       | 244/1000 [00:00<00:00, 2437.68it/s]\r",
      "100%|██████████| 1000/1000 [00:00<00:00, 62271.61it/s]\r",
      " 61%|██████    | 609/1000 [00:00<00:00, 2039.80it/s]\n",
      "\r",
      "  0%|          | 0/2 [00:00<?, ?it/s]\r",
      "100%|██████████| 2/2 [00:00<00:00, 74898.29it/s]\n",
      "\r",
      "  0%|          | 0/1000 [00:00<?, ?it/s]\r",
      " 50%|█████     | 502/1000 [00:00<00:00, 2428.20it/s]\r",
      " 53%|█████▎    | 528/1000 [00:00<00:00, 2595.10it/s]\r",
      " 49%|████▉     | 488/1000 [00:00<00:00, 2426.75it/s]\r",
      " 82%|████████▏ | 820/1000 [00:00<00:00, 2065.81it/s]\r",
      " 37%|███▋      | 369/1000 [00:00<00:00, 3678.97it/s]\r",
      " 76%|███████▋  | 763/1000 [00:00<00:00, 2505.56it/s]\r",
      " 80%|████████  | 804/1000 [00:00<00:00, 2667.31it/s]"
     ]
    },
    {
     "name": "stdout",
     "output_type": "stream",
     "text": [
      "Gene EDN3 (3/6) in state Patient 8 - constant_unitary_depth{}\tfully_asynchronous_rates{}\n",
      "2 wild type attractors with proba > 0 (initial state Patient 6)\n",
      "Gene ASCL1 (1/6) in state Patient 6 - constant_unitary_depth{}\tfully_asynchronous_rates{}\n"
     ]
    },
    {
     "name": "stderr",
     "output_type": "stream",
     "text": [
      "\r",
      "100%|██████████| 1000/1000 [00:00<00:00, 2070.89it/s]\r",
      " 74%|███████▍  | 738/1000 [00:00<00:00, 2459.43it/s]\n",
      "\r",
      "  0%|          | 0/2 [00:00<?, ?it/s]\r",
      "100%|██████████| 2/2 [00:00<00:00, 50231.19it/s]\n",
      "\r",
      "  0%|          | 0/1000 [00:00<?, ?it/s]\r",
      " 74%|███████▎  | 737/1000 [00:00<00:00, 3623.85it/s]\r",
      "100%|██████████| 1000/1000 [00:00<00:00, 2657.35it/s]\r",
      "100%|██████████| 1000/1000 [00:00<00:00, 2452.80it/s]\n",
      "\r",
      "  0%|          | 0/2 [00:00<?, ?it/s]\r",
      "100%|██████████| 2/2 [00:00<00:00, 82241.25it/s]\n",
      "\r",
      "  0%|          | 0/2 [00:00<?, ?it/s]\r",
      "100%|██████████| 2/2 [00:00<00:00, 87381.33it/s]\n",
      "\r",
      "  0%|          | 0/1000 [00:00<?, ?it/s]\n",
      "\r",
      "  0%|          | 0/1000 [00:00<?, ?it/s]\r",
      "100%|██████████| 1000/1000 [00:00<00:00, 3601.15it/s]\r",
      " 98%|█████████▊| 984/1000 [00:00<00:00, 2435.19it/s]\n",
      "\r",
      "  0%|          | 0/1 [00:00<?, ?it/s]\r",
      "100%|██████████| 1/1 [00:00<00:00, 41120.63it/s]\r",
      "100%|██████████| 1000/1000 [00:00<00:00, 2440.01it/s]\n",
      "\r",
      "  0%|          | 0/1000 [00:00<?, ?it/s]\r",
      " 19%|█▉        | 194/1000 [00:00<00:00, 1929.94it/s]\n",
      "\r",
      "  0%|          | 0/2 [00:00<?, ?it/s]\r",
      "100%|██████████| 2/2 [00:00<00:00, 69327.34it/s]\n",
      "\r",
      "  0%|          | 0/1000 [00:00<?, ?it/s]\r",
      "100%|██████████| 1000/1000 [00:00<00:00, 68989.80it/s]\n",
      "\r",
      "  0%|          | 0/1 [00:00<?, ?it/s]\r",
      "100%|██████████| 1/1 [00:00<00:00, 46603.38it/s]\n",
      "\r",
      "  0%|          | 0/1000 [00:00<?, ?it/s]\r",
      "100%|██████████| 1000/1000 [00:00<00:00, 58379.90it/s]\r",
      " 28%|██▊       | 275/1000 [00:00<00:00, 2749.19it/s]\r",
      " 23%|██▎       | 230/1000 [00:00<00:00, 2293.58it/s]\n",
      "\r",
      "  0%|          | 0/1 [00:00<?, ?it/s]\r",
      "100%|██████████| 1/1 [00:00<00:00, 44150.57it/s]\n",
      "\r",
      "  0%|          | 0/1000 [00:00<?, ?it/s]\r",
      "100%|██████████| 1000/1000 [00:00<00:00, 47867.61it/s]\n",
      "\r",
      "  0%|          | 0/1 [00:00<?, ?it/s]\r",
      "100%|██████████| 1/1 [00:00<00:00, 39568.91it/s]\n",
      "\r",
      "  0%|          | 0/1000 [00:00<?, ?it/s]"
     ]
    },
    {
     "name": "stdout",
     "output_type": "stream",
     "text": [
      "Gene BDNF (2/6) in state Patient 3 - constant_unitary_depth{}\tfully_asynchronous_rates{}\n",
      "Gene BDNF (2/6) in state Patient 5 - constant_unitary_depth{}\tfully_asynchronous_rates{}\n",
      "Gene GDNF (4/6) in state Patient 8 - constant_unitary_depth{}\tfully_asynchronous_rates{}\n",
      "Gene EDN3 (3/6) in state Patient 4 - constant_unitary_depth{}\tfully_asynchronous_rates{}\n",
      "Gene PHOX2B (5/6) in state Patient 8 - constant_unitary_depth{}\tfully_asynchronous_rates{}\n",
      "Gene RET (6/6) in state Patient 8 - constant_unitary_depth{}\tfully_asynchronous_rates{}\n",
      "\t<NORD_PMR> Initial state Patient 9 (gene(s):ASCL1)\n",
      "1 wild type attractors with proba > 0 (initial state Patient 9)\n",
      "Gene ASCL1 (1/6) in state Patient 9 - constant_unitary_depth{}\tfully_asynchronous_rates{}\n",
      "Gene BDNF (2/6) in state Patient 9 - constant_unitary_depth{}\tfully_asynchronous_rates{}\n"
     ]
    },
    {
     "name": "stderr",
     "output_type": "stream",
     "text": [
      "\r",
      "100%|██████████| 1000/1000 [00:00<00:00, 70835.37it/s]\r",
      " 39%|███▉      | 390/1000 [00:00<00:00, 1946.56it/s]\n",
      "\r",
      "  0%|          | 0/1 [00:00<?, ?it/s]\r",
      "100%|██████████| 1/1 [00:00<00:00, 45100.04it/s]\n",
      "\r",
      "  0%|          | 0/1000 [00:00<?, ?it/s]\r",
      " 26%|██▌       | 260/1000 [00:00<00:00, 2590.80it/s]\r",
      "100%|██████████| 1000/1000 [00:00<00:00, 66517.13it/s]\n",
      "\r",
      "  0%|          | 0/1 [00:00<?, ?it/s]\r",
      "100%|██████████| 1/1 [00:00<00:00, 46091.25it/s]\n",
      "\r",
      "  0%|          | 0/1000 [00:00<?, ?it/s]\r",
      " 46%|████▋     | 463/1000 [00:00<00:00, 2311.12it/s]\r",
      " 55%|█████▌    | 550/1000 [00:00<00:00, 2711.37it/s]\r",
      "100%|██████████| 1000/1000 [00:00<00:00, 66952.46it/s]\n",
      "\r",
      "  0%|          | 0/1 [00:00<?, ?it/s]\r",
      "100%|██████████| 1/1 [00:00<00:00, 37449.14it/s]\n",
      "\r",
      "  0%|          | 0/1000 [00:00<?, ?it/s]\r",
      "100%|██████████| 1000/1000 [00:00<00:00, 69789.91it/s]\n",
      "\r",
      "  0%|          | 0/1 [00:00<?, ?it/s]\r",
      "100%|██████████| 1/1 [00:00<00:00, 30174.85it/s]\n",
      "\r",
      "  0%|          | 0/1000 [00:00<?, ?it/s]\r",
      "100%|██████████| 1000/1000 [00:00<00:00, 74598.56it/s]\n",
      "\r",
      "  0%|          | 0/1 [00:00<?, ?it/s]\r",
      "100%|██████████| 1/1 [00:00<00:00, 28926.23it/s]\n",
      "\r",
      "  0%|          | 0/1000 [00:00<?, ?it/s]\r",
      " 59%|█████▉    | 592/1000 [00:00<00:00, 1978.16it/s]\r",
      " 53%|█████▎    | 533/1000 [00:00<00:00, 2670.74it/s]\r",
      "100%|██████████| 1000/1000 [00:00<00:00, 72286.92it/s]\n",
      "\r",
      "  0%|          | 0/1 [00:00<?, ?it/s]\r",
      "100%|██████████| 1/1 [00:00<00:00, 34663.67it/s]\n",
      "\r",
      "  0%|          | 0/1000 [00:00<?, ?it/s]\r",
      "100%|██████████| 1000/1000 [00:00<00:00, 79589.82it/s]\r",
      " 70%|██████▉   | 695/1000 [00:00<00:00, 2302.01it/s]\n",
      "\r",
      "  0%|          | 0/1 [00:00<?, ?it/s]\r",
      "100%|██████████| 1/1 [00:00<00:00, 37449.14it/s]\n",
      "\r",
      "  0%|          | 0/1000 [00:00<?, ?it/s]\r",
      " 82%|████████▏ | 822/1000 [00:00<00:00, 2657.36it/s]\r",
      "100%|██████████| 1000/1000 [00:00<00:00, 53032.04it/s]\n",
      "\r",
      "  0%|          | 0/1 [00:00<?, ?it/s]\r",
      "100%|██████████| 1/1 [00:00<00:00, 38836.15it/s]\n",
      "\r",
      "  0%|          | 0/1000 [00:00<?, ?it/s]\r",
      "100%|██████████| 1000/1000 [00:00<00:00, 65106.70it/s]"
     ]
    },
    {
     "name": "stdout",
     "output_type": "stream",
     "text": [
      "Gene EDN3 (3/6) in state Patient 9 - constant_unitary_depth{}\tfully_asynchronous_rates{}\n",
      "Gene GDNF (4/6) in state Patient 9 - constant_unitary_depth{}\tfully_asynchronous_rates{}\n",
      "Gene PHOX2B (5/6) in state Patient 9 - constant_unitary_depth{}\tfully_asynchronous_rates{}\n",
      "Gene RET (6/6) in state Patient 9 - constant_unitary_depth{}\tfully_asynchronous_rates{}\n",
      "\t<NORD_PMR> Initial state Patient 10 (gene(s):ASCL1)\n",
      "1 wild type attractors with proba > 0 (initial state Patient 10)\n",
      "Gene ASCL1 (1/6) in state Patient 10 - constant_unitary_depth{}\tfully_asynchronous_rates{}\n",
      "Gene BDNF (2/6) in state Patient 10 - constant_unitary_depth{}\tfully_asynchronous_rates{}\n",
      "Gene EDN3 (3/6) in state Patient 3 - constant_unitary_depth{}\tfully_asynchronous_rates{}\n",
      "Gene EDN3 (3/6) in state Patient 10 - constant_unitary_depth{}\tfully_asynchronous_rates{}\n",
      "Gene GDNF (4/6) in state Patient 10 - constant_unitary_depth{}\tfully_asynchronous_rates{}\n"
     ]
    },
    {
     "name": "stderr",
     "output_type": "stream",
     "text": [
      "\n",
      "\r",
      "  0%|          | 0/1 [00:00<?, ?it/s]\r",
      "100%|██████████| 1/1 [00:00<00:00, 26214.40it/s]\r",
      " 80%|████████  | 802/1000 [00:00<00:00, 2024.84it/s]\n",
      "\r",
      "  0%|          | 0/1000 [00:00<?, ?it/s]\r",
      " 80%|████████  | 801/1000 [00:00<00:00, 2650.72it/s]\r",
      "100%|██████████| 1000/1000 [00:00<00:00, 2656.27it/s]\r",
      "100%|██████████| 1000/1000 [00:00<00:00, 50520.39it/s]\n",
      "\r",
      "  0%|          | 0/2 [00:00<?, ?it/s]\r",
      "100%|██████████| 2/2 [00:00<00:00, 77672.30it/s]\n",
      "\r",
      "  0%|          | 0/1000 [00:00<?, ?it/s]\n",
      "\r",
      "  0%|          | 0/1 [00:00<?, ?it/s]\r",
      "100%|██████████| 1/1 [00:00<00:00, 45100.04it/s]\n",
      "\r",
      "  0%|          | 0/1000 [00:00<?, ?it/s]\r",
      " 93%|█████████▎| 931/1000 [00:00<00:00, 2323.85it/s]\r",
      "100%|██████████| 1000/1000 [00:00<00:00, 74394.79it/s]\n",
      "\r",
      "  0%|          | 0/1 [00:00<?, ?it/s]\r",
      "100%|██████████| 1/1 [00:00<00:00, 48770.98it/s]\n",
      "\r",
      "  0%|          | 0/1000 [00:00<?, ?it/s]\r",
      "100%|██████████| 1000/1000 [00:00<00:00, 2311.89it/s]\r",
      "100%|██████████| 1000/1000 [00:00<00:00, 41620.07it/s]\n",
      "\r",
      "  0%|          | 0/2 [00:00<?, ?it/s]\r",
      "100%|██████████| 2/2 [00:00<00:00, 79891.50it/s]\n",
      "\r",
      "  0%|          | 0/1000 [00:00<?, ?it/s]\r",
      "100%|██████████| 1000/1000 [00:00<00:00, 2657.70it/s]\n",
      "\r",
      "  0%|          | 0/1 [00:00<?, ?it/s]\r",
      "100%|██████████| 1/1 [00:00<00:00, 47127.01it/s]\n",
      "\r",
      "  0%|          | 0/1000 [00:00<?, ?it/s]\n",
      "\r",
      "  0%|          | 0/2 [00:00<?, ?it/s]\r",
      "100%|██████████| 2/2 [00:00<00:00, 85598.04it/s]\n",
      "\r",
      "  0%|          | 0/1000 [00:00<?, ?it/s]\r",
      "100%|██████████| 1000/1000 [00:00<00:00, 2013.16it/s]\r",
      "100%|██████████| 1000/1000 [00:00<00:00, 65498.13it/s]\n",
      "\r",
      "  0%|          | 0/2 [00:00<?, ?it/s]\r",
      "100%|██████████| 2/2 [00:00<00:00, 94254.02it/s]\n",
      "\r",
      "  0%|          | 0/1000 [00:00<?, ?it/s]\n",
      "\r",
      "  0%|          | 0/1 [00:00<?, ?it/s]\r",
      "100%|██████████| 1/1 [00:00<00:00, 51150.05it/s]\n",
      "\r",
      "  0%|          | 0/1000 [00:00<?, ?it/s]\r",
      "100%|██████████| 1000/1000 [00:00<00:00, 73845.98it/s]\r",
      " 25%|██▌       | 254/1000 [00:00<00:00, 2534.84it/s]\r",
      " 26%|██▋       | 264/1000 [00:00<00:00, 2639.49it/s]\r",
      " 26%|██▌       | 255/1000 [00:00<00:00, 2540.64it/s]"
     ]
    },
    {
     "name": "stdout",
     "output_type": "stream",
     "text": [
      "Gene EDN3 (3/6) in state Patient 5 - constant_unitary_depth{}\tfully_asynchronous_rates{}\n",
      "Gene PHOX2B (5/6) in state Patient 10 - constant_unitary_depth{}\tfully_asynchronous_rates{}\n",
      "Gene GDNF (4/6) in state Patient 4 - constant_unitary_depth{}\tfully_asynchronous_rates{}\n",
      "Gene BDNF (2/6) in state Patient 6 - constant_unitary_depth{}\tfully_asynchronous_rates{}\n",
      "Gene RET (6/6) in state Patient 10 - constant_unitary_depth{}\tfully_asynchronous_rates{}\n"
     ]
    },
    {
     "name": "stderr",
     "output_type": "stream",
     "text": [
      "\r",
      " 23%|██▎       | 229/1000 [00:00<00:00, 2278.61it/s]\r",
      " 54%|█████▍    | 539/1000 [00:00<00:00, 2719.48it/s]\r",
      " 54%|█████▍    | 541/1000 [00:00<00:00, 2714.80it/s]\r",
      " 51%|█████     | 512/1000 [00:00<00:00, 2556.84it/s]\r",
      " 46%|████▌     | 462/1000 [00:00<00:00, 2306.34it/s]\r",
      " 83%|████████▎ | 832/1000 [00:00<00:00, 2812.91it/s]\r",
      "100%|██████████| 1000/1000 [00:00<00:00, 2804.75it/s]\r",
      " 81%|████████▏ | 813/1000 [00:00<00:00, 2714.75it/s]\n",
      "\r",
      "  0%|          | 0/2 [00:00<?, ?it/s]\r",
      "100%|██████████| 2/2 [00:00<00:00, 99864.38it/s]\n",
      "\r",
      "  0%|          | 0/1000 [00:00<?, ?it/s]\r",
      " 78%|███████▊  | 781/1000 [00:00<00:00, 2612.05it/s]\r",
      " 71%|███████   | 712/1000 [00:00<00:00, 2391.85it/s]"
     ]
    },
    {
     "name": "stdout",
     "output_type": "stream",
     "text": [
      "Gene GDNF (4/6) in state Patient 3 - constant_unitary_depth{}\tfully_asynchronous_rates{}\n",
      "Gene GDNF (4/6) in state Patient 5 - constant_unitary_depth{}\tfully_asynchronous_rates{}\n",
      "Gene PHOX2B (5/6) in state Patient 4 - constant_unitary_depth{}\tfully_asynchronous_rates{}\n",
      "Gene RET (6/6) in state Patient 4 - constant_unitary_depth{}\tfully_asynchronous_rates{}\n",
      "Gene EDN3 (3/6) in state Patient 6 - constant_unitary_depth{}\tfully_asynchronous_rates{}\n"
     ]
    },
    {
     "name": "stderr",
     "output_type": "stream",
     "text": [
      "100%|██████████| 1000/1000 [00:00<00:00, 2715.41it/s]\n",
      "100%|██████████| 2/2 [00:00<00:00, 101067.57it/s]\n",
      "100%|██████████| 1000/1000 [00:00<00:00, 2592.88it/s]\n",
      "100%|██████████| 1/1 [00:00<00:00, 44150.57it/s]\n",
      "100%|██████████| 1000/1000 [00:00<00:00, 72400.47it/s]\n",
      " 95%|█████████▌| 954/1000 [00:00<00:00, 2398.50it/s]\n",
      "100%|██████████| 1000/1000 [00:00<00:00, 2377.70it/s]]\n",
      "100%|██████████| 2/2 [00:00<00:00, 83886.08it/s]\n",
      "100%|██████████| 1000/1000 [00:00<00:00, 2949.65it/s]\n",
      "100%|██████████| 1/1 [00:00<00:00, 41120.63it/s]\n",
      "100%|██████████| 1000/1000 [00:00<00:00, 87303.12it/s]\n",
      "100%|██████████| 1/1 [00:00<00:00, 44620.26it/s]\n",
      "100%|██████████| 1000/1000 [00:00<00:00, 2507.07it/s]]"
     ]
    },
    {
     "name": "stdout",
     "output_type": "stream",
     "text": [
      "Gene PHOX2B (5/6) in state Patient 3 - constant_unitary_depth{}\tfully_asynchronous_rates{}\n",
      "Gene RET (6/6) in state Patient 3 - constant_unitary_depth{}\tfully_asynchronous_rates{}\n",
      "Gene PHOX2B (5/6) in state Patient 5 - constant_unitary_depth{}\tfully_asynchronous_rates{}\n",
      "Gene RET (6/6) in state Patient 5 - constant_unitary_depth{}\tfully_asynchronous_rates{}\n"
     ]
    },
    {
     "name": "stderr",
     "output_type": "stream",
     "text": [
      "\n",
      "\r",
      "  0%|          | 0/1 [00:00<?, ?it/s]\r",
      "100%|██████████| 1/1 [00:00<00:00, 45590.26it/s]\n",
      "\r",
      "  0%|          | 0/1000 [00:00<?, ?it/s]\r",
      "100%|██████████| 1000/1000 [00:00<00:00, 84968.58it/s]\n",
      "\r",
      "  0%|          | 0/1 [00:00<?, ?it/s]\r",
      "100%|██████████| 1/1 [00:00<00:00, 37786.52it/s]\n",
      "\r",
      "  0%|          | 0/1000 [00:00<?, ?it/s]\r",
      "100%|██████████| 1000/1000 [00:00<00:00, 90809.39it/s]\r",
      " 99%|█████████▉| 991/1000 [00:00<00:00, 2427.29it/s]\r",
      "100%|██████████| 1000/1000 [00:00<00:00, 2425.23it/s]\n",
      "\r",
      "  0%|          | 0/2 [00:00<?, ?it/s]\r",
      "100%|██████████| 2/2 [00:00<00:00, 103563.06it/s]\n",
      "\r",
      "  0%|          | 0/1000 [00:00<?, ?it/s]\r",
      " 24%|██▎       | 236/1000 [00:00<00:00, 2357.83it/s]"
     ]
    },
    {
     "name": "stdout",
     "output_type": "stream",
     "text": [
      "Gene GDNF (4/6) in state Patient 6 - constant_unitary_depth{}\tfully_asynchronous_rates{}\n"
     ]
    },
    {
     "name": "stderr",
     "output_type": "stream",
     "text": [
      "\r",
      " 48%|████▊     | 477/1000 [00:00<00:00, 2381.82it/s]\r",
      " 73%|███████▎  | 731/1000 [00:00<00:00, 2449.08it/s]\r",
      " 98%|█████████▊| 983/1000 [00:00<00:00, 2474.64it/s]"
     ]
    },
    {
     "name": "stdout",
     "output_type": "stream",
     "text": [
      "Gene PHOX2B (5/6) in state Patient 6 - constant_unitary_depth{}\tfully_asynchronous_rates{}\n",
      "Gene RET (6/6) in state Patient 6 - constant_unitary_depth{}\tfully_asynchronous_rates{}\n"
     ]
    },
    {
     "name": "stderr",
     "output_type": "stream",
     "text": [
      "\r",
      "100%|██████████| 1000/1000 [00:00<00:00, 2442.09it/s]\n",
      "\r",
      "  0%|          | 0/1 [00:00<?, ?it/s]\r",
      "100%|██████████| 1/1 [00:00<00:00, 20661.60it/s]\n",
      "\r",
      "  0%|          | 0/1000 [00:00<?, ?it/s]\r",
      "100%|██████████| 1000/1000 [00:00<00:00, 114723.85it/s]\n",
      "\r",
      "  0%|          | 0/1 [00:00<?, ?it/s]\r",
      "100%|██████████| 1/1 [00:00<00:00, 21732.15it/s]\n",
      "\r",
      "  0%|          | 0/1000 [00:00<?, ?it/s]\r",
      "100%|██████████| 1000/1000 [00:00<00:00, 121002.34it/s]"
     ]
    }
   ],
   "source": [
    "from NORDic.NORDic_PMR.functions import greedy\n",
    "\n",
    "S, spreads = greedy(file_folder+\"solution.bnet\", k, states, IM_params, SIMU_params, save_folder=file_folder)"
   ]
  },
  {
   "cell_type": "markdown",
   "id": "04bcf46d",
   "metadata": {},
   "source": [
    "### II.c. Results\n",
    "\n",
    "*S* returns the set of genes with highest (here, individual) regulatory influences. In the case of ties, it returns all maximizing nodes."
   ]
  },
  {
   "cell_type": "code",
   "execution_count": 33,
   "id": "3972e67f",
   "metadata": {},
   "outputs": [
    {
     "data": {
      "text/plain": [
       "[['ASCL1']]"
      ]
     },
     "execution_count": 33,
     "metadata": {},
     "output_type": "execute_result"
    }
   ],
   "source": [
    "S"
   ]
  },
  {
   "cell_type": "markdown",
   "id": "c9998dc8",
   "metadata": {},
   "source": [
    "*spreads* contains the corresponding individual regulatory influences (called \"spread values\" in the paper)"
   ]
  },
  {
   "cell_type": "code",
   "execution_count": 34,
   "id": "350ab331",
   "metadata": {},
   "outputs": [
    {
     "data": {
      "text/html": [
       "<div>\n",
       "<style scoped>\n",
       "    .dataframe tbody tr th:only-of-type {\n",
       "        vertical-align: middle;\n",
       "    }\n",
       "\n",
       "    .dataframe tbody tr th {\n",
       "        vertical-align: top;\n",
       "    }\n",
       "\n",
       "    .dataframe thead th {\n",
       "        text-align: right;\n",
       "    }\n",
       "</style>\n",
       "<table border=\"1\" class=\"dataframe\">\n",
       "  <thead>\n",
       "    <tr style=\"text-align: right;\">\n",
       "      <th></th>\n",
       "      <th>[['ASCL1']]</th>\n",
       "    </tr>\n",
       "  </thead>\n",
       "  <tbody>\n",
       "    <tr>\n",
       "      <th>ASCL1</th>\n",
       "      <td>0.574104</td>\n",
       "    </tr>\n",
       "    <tr>\n",
       "      <th>BDNF</th>\n",
       "      <td>0.155222</td>\n",
       "    </tr>\n",
       "    <tr>\n",
       "      <th>EDN3</th>\n",
       "      <td>0.166945</td>\n",
       "    </tr>\n",
       "    <tr>\n",
       "      <th>GDNF</th>\n",
       "      <td>0.184185</td>\n",
       "    </tr>\n",
       "    <tr>\n",
       "      <th>PHOX2B</th>\n",
       "      <td>0.515717</td>\n",
       "    </tr>\n",
       "    <tr>\n",
       "      <th>RET</th>\n",
       "      <td>0.515717</td>\n",
       "    </tr>\n",
       "  </tbody>\n",
       "</table>\n",
       "</div>"
      ],
      "text/plain": [
       "        [['ASCL1']]\n",
       "ASCL1      0.574104\n",
       "BDNF       0.155222\n",
       "EDN3       0.166945\n",
       "GDNF       0.184185\n",
       "PHOX2B     0.515717\n",
       "RET        0.515717"
      ]
     },
     "execution_count": 34,
     "metadata": {},
     "output_type": "execute_result"
    }
   ],
   "source": [
    "spreads"
   ]
  },
  {
   "cell_type": "markdown",
   "id": "4b65fc46",
   "metadata": {},
   "source": [
    "## III. Conclusion (and cleaning up)"
   ]
  },
  {
   "cell_type": "markdown",
   "id": "005a53a1",
   "metadata": {},
   "source": [
    "**NORDic** is an open-source package which allows to focus on a network-oriented approach to identify regulatory mechanisms linked to a disease, master regulators:\n",
    "\n",
    "+ **NORDic NI** identifies a disease-associated gene regulatory network (as a Boolean network) with its dynamics from several biological sources.\n",
    "+ **NORDic PMR** detects master regulators in a Boolean network.\n",
    "\n",
    "Other approaches regarding the simulation of drug treatment and drug repurposing are also a part of **NORDic**:\n",
    "\n",
    "+ **NORDic DS** (since version **2.0.0**) scores the effect of a treatment on a patient (the higher the score, the most promising the treatment) based on a Boolean network.\n",
    "+ **NORDic DR** (since version **2.0.0**) uses the routine in **NORDic DS** and a bandit algorithm to adaptively test treatments and perform drug repurposing.\n",
    "\n",
    "Corresponding notebooks can be found at [this page](https://github.com/clreda/NORDic/tree/main/notebooks)."
   ]
  },
  {
   "cell_type": "code",
   "execution_count": 35,
   "id": "af54f1bc",
   "metadata": {},
   "outputs": [
    {
     "data": {
      "text/plain": [
       "0"
      ]
     },
     "execution_count": 35,
     "metadata": {},
     "output_type": "execute_result"
    }
   ],
   "source": [
    "from subprocess import call\n",
    "call(\"rm -rf \"+file_folder, shell=True)\n",
    "call(\"rm -f experiments.csv network.tsv\", shell=True)"
   ]
  }
 ],
 "metadata": {
  "kernelspec": {
   "display_name": "Python 3 (ipykernel)",
   "language": "python",
   "name": "python3"
  },
  "language_info": {
   "codemirror_mode": {
    "name": "ipython",
    "version": 3
   },
   "file_extension": ".py",
   "mimetype": "text/x-python",
   "name": "python",
   "nbconvert_exporter": "python",
   "pygments_lexer": "ipython3",
   "version": "3.8.5"
  }
 },
 "nbformat": 4,
 "nbformat_minor": 5
}
