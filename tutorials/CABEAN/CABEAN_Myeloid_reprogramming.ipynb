{
 "cells": [
  {
   "cell_type": "code",
   "execution_count": 1,
   "metadata": {},
   "outputs": [
    {
     "data": {
      "text/markdown": [
       ""
      ],
      "text/plain": [
       "<IPython.core.display.Markdown object>"
      ]
     },
     "metadata": {},
     "output_type": "display_data"
    }
   ],
   "source": [
    "import biolqm\n",
    "import cabean\n",
    "from colomoto_jupyter import tabulate"
   ]
  },
  {
   "cell_type": "markdown",
   "metadata": {},
   "source": [
    "Import the myeloid network (Krumsiek et al. doi: 10.1371/journal.pone.0022649)"
   ]
  },
  {
   "cell_type": "code",
   "execution_count": 2,
   "metadata": {},
   "outputs": [],
   "source": [
    "model = biolqm.load(\"MyeloidRules.txt\", \"booleannet\")"
   ]
  },
  {
   "cell_type": "markdown",
   "metadata": {},
   "source": [
    "Use the decompositon-based attractor detection method to identify all the exact attractors of the network."
   ]
  },
  {
   "cell_type": "code",
   "execution_count": 3,
   "metadata": {},
   "outputs": [
    {
     "name": "stdout",
     "output_type": "stream",
     "text": [
      "CPU times: user 5.7 ms, sys: 9.01 ms, total: 14.7 ms\n",
      "Wall time: 52.2 ms\n"
     ]
    },
    {
     "data": {
      "text/html": [
       "<div>\n",
       "<style scoped>\n",
       "    .dataframe tbody tr th:only-of-type {\n",
       "        vertical-align: middle;\n",
       "    }\n",
       "\n",
       "    .dataframe tbody tr th {\n",
       "        vertical-align: top;\n",
       "    }\n",
       "\n",
       "    .dataframe thead th {\n",
       "        text-align: right;\n",
       "    }\n",
       "</style>\n",
       "<table border=\"1\" class=\"dataframe\">\n",
       "  <thead>\n",
       "    <tr style=\"text-align: right;\">\n",
       "      <th></th>\n",
       "      <th>CEBPA</th>\n",
       "      <th>EKLF</th>\n",
       "      <th>EgrNab</th>\n",
       "      <th>FOG1</th>\n",
       "      <th>Fli1</th>\n",
       "      <th>GATA1</th>\n",
       "      <th>GATA2</th>\n",
       "      <th>Gfi1</th>\n",
       "      <th>PU1</th>\n",
       "      <th>SCL</th>\n",
       "      <th>cJun</th>\n",
       "    </tr>\n",
       "  </thead>\n",
       "  <tbody>\n",
       "    <tr>\n",
       "      <th>0</th>\n",
       "      <td>0</td>\n",
       "      <td>0</td>\n",
       "      <td>0</td>\n",
       "      <td>0</td>\n",
       "      <td>0</td>\n",
       "      <td>0</td>\n",
       "      <td>0</td>\n",
       "      <td>0</td>\n",
       "      <td>0</td>\n",
       "      <td>0</td>\n",
       "      <td>0</td>\n",
       "    </tr>\n",
       "    <tr>\n",
       "      <th>1</th>\n",
       "      <td>0</td>\n",
       "      <td>0</td>\n",
       "      <td>0</td>\n",
       "      <td>1</td>\n",
       "      <td>1</td>\n",
       "      <td>1</td>\n",
       "      <td>0</td>\n",
       "      <td>0</td>\n",
       "      <td>0</td>\n",
       "      <td>1</td>\n",
       "      <td>0</td>\n",
       "    </tr>\n",
       "    <tr>\n",
       "      <th>2</th>\n",
       "      <td>0</td>\n",
       "      <td>0</td>\n",
       "      <td>1</td>\n",
       "      <td>0</td>\n",
       "      <td>0</td>\n",
       "      <td>0</td>\n",
       "      <td>0</td>\n",
       "      <td>0</td>\n",
       "      <td>1</td>\n",
       "      <td>0</td>\n",
       "      <td>1</td>\n",
       "    </tr>\n",
       "    <tr>\n",
       "      <th>3</th>\n",
       "      <td>0</td>\n",
       "      <td>1</td>\n",
       "      <td>0</td>\n",
       "      <td>1</td>\n",
       "      <td>0</td>\n",
       "      <td>1</td>\n",
       "      <td>0</td>\n",
       "      <td>0</td>\n",
       "      <td>0</td>\n",
       "      <td>1</td>\n",
       "      <td>0</td>\n",
       "    </tr>\n",
       "    <tr>\n",
       "      <th>4</th>\n",
       "      <td>1</td>\n",
       "      <td>0</td>\n",
       "      <td>0</td>\n",
       "      <td>0</td>\n",
       "      <td>0</td>\n",
       "      <td>0</td>\n",
       "      <td>0</td>\n",
       "      <td>1</td>\n",
       "      <td>1</td>\n",
       "      <td>0</td>\n",
       "      <td>0</td>\n",
       "    </tr>\n",
       "    <tr>\n",
       "      <th>5</th>\n",
       "      <td>1</td>\n",
       "      <td>0</td>\n",
       "      <td>1</td>\n",
       "      <td>0</td>\n",
       "      <td>0</td>\n",
       "      <td>0</td>\n",
       "      <td>0</td>\n",
       "      <td>0</td>\n",
       "      <td>1</td>\n",
       "      <td>0</td>\n",
       "      <td>1</td>\n",
       "    </tr>\n",
       "  </tbody>\n",
       "</table>\n",
       "</div>"
      ],
      "text/plain": [
       "   CEBPA  EKLF  EgrNab  FOG1  Fli1  GATA1  GATA2  Gfi1  PU1  SCL  cJun\n",
       "0      0     0       0     0     0      0      0     0    0    0     0\n",
       "1      0     0       0     1     1      1      0     0    0    1     0\n",
       "2      0     0       1     0     0      0      0     0    1    0     1\n",
       "3      0     1       0     1     0      1      0     0    0    1     0\n",
       "4      1     0       0     0     0      0      0     1    1    0     0\n",
       "5      1     0       1     0     0      0      0     0    1    0     1"
      ]
     },
     "execution_count": 3,
     "metadata": {},
     "output_type": "execute_result"
    }
   ],
   "source": [
    "%time attractors = cabean.attractors(model)\n",
    "tabulate(attractors)"
   ]
  },
  {
   "cell_type": "markdown",
   "metadata": {},
   "source": [
    "Define the properties of the source and target attractors. Note that source or target may correspond to serveral attractors."
   ]
  },
  {
   "cell_type": "code",
   "execution_count": 4,
   "metadata": {},
   "outputs": [],
   "source": [
    "source = {\"EgrNab\": 0, \"CEBPA\": 1}\n",
    "target = {\"EgrNab\": 1, \"CEBPA\": 1}"
   ]
  },
  {
   "cell_type": "markdown",
   "metadata": {},
   "source": [
    "Compute the minimal one-step instantaneous control (OI) from the source to the target."
   ]
  },
  {
   "cell_type": "code",
   "execution_count": 5,
   "metadata": {},
   "outputs": [
    {
     "data": {
      "text/plain": [
       "[FromSteadyState('a4', InstantaneousPerturbation(EgrNab=1, Gfi1=0, cJun=1))]"
      ]
     },
     "execution_count": 5,
     "metadata": {},
     "output_type": "execute_result"
    }
   ],
   "source": [
    "c1i = cabean.OneStep_Instantaneous(model)\n",
    "s1i = c1i.attractor_to_attractor(source, target)\n",
    "s1i"
   ]
  },
  {
   "cell_type": "code",
   "execution_count": 6,
   "metadata": {},
   "outputs": [
    {
     "data": {
      "text/html": [
       "<style  type=\"text/css\" >\n",
       "    #T_0eafe75c_a44a_11ea_b85a_0242ac11000a th {\n",
       "          border-right: 1px solid black;\n",
       "    }    #T_0eafe75c_a44a_11ea_b85a_0242ac11000a td {\n",
       "          border-right: 1px solid black;\n",
       "          min-width: 2em;\n",
       "    }    #T_0eafe75c_a44a_11ea_b85a_0242ac11000a th.col_heading {\n",
       "          writing-mode: vertical-lr;\n",
       "          transform: rotateZ(180deg);\n",
       "          vertical-align: top;\n",
       "          border-bottom: 1px solid black;\n",
       "          text-orientation: mixed;\n",
       "    }    #T_0eafe75c_a44a_11ea_b85a_0242ac11000arow0_col0 {\n",
       "            color:  black;\n",
       "             background-color:  red;\n",
       "        }    #T_0eafe75c_a44a_11ea_b85a_0242ac11000arow0_col1 {\n",
       "            color:  black;\n",
       "             background-color:  lime;\n",
       "        }    #T_0eafe75c_a44a_11ea_b85a_0242ac11000arow0_col2 {\n",
       "            color:  black;\n",
       "             background-color:  red;\n",
       "        }</style><table id=\"T_0eafe75c_a44a_11ea_b85a_0242ac11000a\" ><thead>    <tr>        <th class=\"blank level0\" ></th>        <th class=\"col_heading level0 col0\" >EgrNab</th>        <th class=\"col_heading level0 col1\" >Gfi1</th>        <th class=\"col_heading level0 col2\" >cJun</th>    </tr></thead><tbody>\n",
       "                <tr>\n",
       "                        <th id=\"T_0eafe75c_a44a_11ea_b85a_0242ac11000alevel0_row0\" class=\"row_heading level0 row0\" >0</th>\n",
       "                        <td id=\"T_0eafe75c_a44a_11ea_b85a_0242ac11000arow0_col0\" class=\"data row0 col0\" >1</td>\n",
       "                        <td id=\"T_0eafe75c_a44a_11ea_b85a_0242ac11000arow0_col1\" class=\"data row0 col1\" >0</td>\n",
       "                        <td id=\"T_0eafe75c_a44a_11ea_b85a_0242ac11000arow0_col2\" class=\"data row0 col2\" >1</td>\n",
       "            </tr>\n",
       "    </tbody></table>"
      ],
      "text/plain": [
       "<pandas.io.formats.style.Styler at 0x7f775d255410>"
      ]
     },
     "execution_count": 6,
     "metadata": {},
     "output_type": "execute_result"
    }
   ],
   "source": [
    "s1i.as_table()"
   ]
  },
  {
   "cell_type": "markdown",
   "metadata": {},
   "source": [
    "Compute the attractor-based sequential instantaneous control (ASI) from the source to the target."
   ]
  },
  {
   "cell_type": "code",
   "execution_count": 7,
   "metadata": {},
   "outputs": [
    {
     "data": {
      "text/plain": [
       "[FromSteadyState('a4', InstantaneousPerturbation(EgrNab=1, Gfi1=0, cJun=1)),\n",
       " \n",
       " FromSteadyState('a4', InstantaneousPerturbation(CEBPA=0), \n",
       "     FromSteadyState('a2', InstantaneousPerturbation(CEBPA=1)))]"
      ]
     },
     "execution_count": 7,
     "metadata": {},
     "output_type": "execute_result"
    }
   ],
   "source": [
    "ci = cabean.AttractorSequential_Instantaneous(model)\n",
    "si = ci.attractor_to_attractor(source, target)\n",
    "si"
   ]
  },
  {
   "cell_type": "code",
   "execution_count": 8,
   "metadata": {},
   "outputs": [
    {
     "data": {
      "image/svg+xml": [
       "<?xml version=\"1.0\" encoding=\"UTF-8\" standalone=\"no\"?>\n",
       "<!DOCTYPE svg PUBLIC \"-//W3C//DTD SVG 1.1//EN\"\n",
       " \"http://www.w3.org/Graphics/SVG/1.1/DTD/svg11.dtd\">\n",
       "<!-- Generated by graphviz version 2.38.0 (20140413.2041)\n",
       " -->\n",
       "<!-- Title: %3 Pages: 1 -->\n",
       "<svg width=\"513pt\" height=\"78pt\"\n",
       " viewBox=\"0.00 0.00 513.14 78.00\" xmlns=\"http://www.w3.org/2000/svg\" xmlns:xlink=\"http://www.w3.org/1999/xlink\">\n",
       "<g id=\"graph0\" class=\"graph\" transform=\"scale(1 1) rotate(0) translate(4 74)\">\n",
       "<title>%3</title>\n",
       "<polygon fill=\"white\" stroke=\"none\" points=\"-4,4 -4,-74 509.137,-74 509.137,4 -4,4\"/>\n",
       "<!-- target -->\n",
       "<g id=\"node1\" class=\"node\"><title>target</title>\n",
       "<polygon fill=\"palegreen\" stroke=\"black\" points=\"449.069,-70 392.931,-52 449.069,-34 505.206,-52 449.069,-70\"/>\n",
       "<polyline fill=\"none\" stroke=\"black\" points=\"404.358,-55.664 404.358,-48.336 \"/>\n",
       "<polyline fill=\"none\" stroke=\"black\" points=\"437.642,-37.664 460.496,-37.664 \"/>\n",
       "<polyline fill=\"none\" stroke=\"black\" points=\"493.779,-48.336 493.779,-55.664 \"/>\n",
       "<polyline fill=\"none\" stroke=\"black\" points=\"460.496,-66.336 437.642,-66.336 \"/>\n",
       "<text text-anchor=\"middle\" x=\"449.069\" y=\"-48.3\" font-family=\"Times,serif\" font-size=\"14.00\">target</text>\n",
       "</g>\n",
       "<!-- a4 -->\n",
       "<g id=\"node2\" class=\"node\"><title>a4</title>\n",
       "<g id=\"a_node2\"><a xlink:title=\"SteadyState\">\n",
       "<polygon fill=\"lightgrey\" stroke=\"black\" points=\"54,-70 0,-70 0,-34 54,-34 54,-70\"/>\n",
       "<text text-anchor=\"middle\" x=\"27\" y=\"-48.3\" font-family=\"Times,serif\" font-size=\"14.00\">a4</text>\n",
       "</a>\n",
       "</g>\n",
       "</g>\n",
       "<!-- a4&#45;&gt;target -->\n",
       "<g id=\"edge1\" class=\"edge\"><title>a4&#45;&gt;target</title>\n",
       "<path fill=\"none\" stroke=\"black\" d=\"M54.4652,-56.2001C60.2302,-56.9494 66.308,-57.6137 72,-58 99.0489,-59.8357 105.889,-58.168 133,-58 240.562,-57.3333 267.475,-57.8732 375,-55 379.549,-54.8784 384.257,-54.7321 388.99,-54.5703\"/>\n",
       "<polygon fill=\"black\" stroke=\"black\" points=\"389.472,-58.0552 399.338,-54.1951 389.218,-51.0598 389.472,-58.0552\"/>\n",
       "<g id=\"a_edge1&#45;label\"><a xlink:title=\"InstantaneousPerturbation(EgrNab=1, Gfi1=0, cJun=1)\">\n",
       "<text text-anchor=\"middle\" x=\"223.5\" y=\"-60\" font-family=\"Times,serif\" font-size=\"10.00\">I(EgrNab=1, Gfi1=0, cJun=1)</text>\n",
       "</a>\n",
       "</g>\n",
       "</g>\n",
       "<!-- a2 -->\n",
       "<g id=\"node3\" class=\"node\"><title>a2</title>\n",
       "<g id=\"a_node3\"><a xlink:title=\"SteadyState\">\n",
       "<polygon fill=\"lightgrey\" stroke=\"black\" points=\"250.5,-36 196.5,-36 196.5,-0 250.5,-0 250.5,-36\"/>\n",
       "<text text-anchor=\"middle\" x=\"223.5\" y=\"-14.3\" font-family=\"Times,serif\" font-size=\"14.00\">a2</text>\n",
       "</a>\n",
       "</g>\n",
       "</g>\n",
       "<!-- a4&#45;&gt;a2 -->\n",
       "<g id=\"edge3\" class=\"edge\"><title>a4&#45;&gt;a2</title>\n",
       "<path fill=\"none\" stroke=\"black\" d=\"M54.2311,-47.4146C88.2574,-41.4666 147.788,-31.0602 186.154,-24.3536\"/>\n",
       "<polygon fill=\"black\" stroke=\"black\" points=\"187.127,-27.7367 196.375,-22.5669 185.921,-20.8412 187.127,-27.7367\"/>\n",
       "<g id=\"a_edge3&#45;label\"><a xlink:title=\"InstantaneousPerturbation(CEBPA=0)\">\n",
       "<text text-anchor=\"middle\" x=\"102.5\" y=\"-46\" font-family=\"Times,serif\" font-size=\"10.00\">I(CEBPA=0)</text>\n",
       "</a>\n",
       "</g>\n",
       "</g>\n",
       "<!-- a2&#45;&gt;target -->\n",
       "<g id=\"edge2\" class=\"edge\"><title>a2&#45;&gt;target</title>\n",
       "<path fill=\"none\" stroke=\"black\" d=\"M250.584,-21.9668C287.314,-27.5527 354.897,-37.8306 400.653,-44.7891\"/>\n",
       "<polygon fill=\"black\" stroke=\"black\" points=\"400.225,-48.2642 410.637,-46.3075 401.277,-41.3437 400.225,-48.2642\"/>\n",
       "<g id=\"a_edge2&#45;label\"><a xlink:title=\"InstantaneousPerturbation(CEBPA=1)\">\n",
       "<text text-anchor=\"middle\" x=\"344.5\" y=\"-43\" font-family=\"Times,serif\" font-size=\"10.00\">I(CEBPA=1)</text>\n",
       "</a>\n",
       "</g>\n",
       "</g>\n",
       "</g>\n",
       "</svg>\n"
      ],
      "text/plain": [
       "<pydot.Dot at 0x7f7751f87d50>"
      ]
     },
     "execution_count": 8,
     "metadata": {},
     "output_type": "execute_result"
    }
   ],
   "source": [
    "si.as_graph()"
   ]
  },
  {
   "cell_type": "code",
   "execution_count": 9,
   "metadata": {},
   "outputs": [
    {
     "data": {
      "text/html": [
       "<style  type=\"text/css\" >\n",
       "    #T_0edad3c2_a44a_11ea_b85a_0242ac11000a th {\n",
       "          border-right: 1px solid black;\n",
       "    }    #T_0edad3c2_a44a_11ea_b85a_0242ac11000a td {\n",
       "          border-right: 1px solid black;\n",
       "          min-width: 2em;\n",
       "    }    #T_0edad3c2_a44a_11ea_b85a_0242ac11000a th.col_heading {\n",
       "          writing-mode: vertical-lr;\n",
       "          transform: rotateZ(180deg);\n",
       "          vertical-align: top;\n",
       "          border-bottom: 1px solid black;\n",
       "          text-orientation: mixed;\n",
       "    }    #T_0edad3c2_a44a_11ea_b85a_0242ac11000arow0_col1 {\n",
       "            color:  black;\n",
       "             background-color:  red;\n",
       "        }    #T_0edad3c2_a44a_11ea_b85a_0242ac11000arow0_col2 {\n",
       "            color:  black;\n",
       "             background-color:  lime;\n",
       "        }    #T_0edad3c2_a44a_11ea_b85a_0242ac11000arow0_col3 {\n",
       "            color:  black;\n",
       "             background-color:  red;\n",
       "        }    #T_0edad3c2_a44a_11ea_b85a_0242ac11000arow1_col0 {\n",
       "            color:  black;\n",
       "             background-color:  yellow;\n",
       "        }</style><table id=\"T_0edad3c2_a44a_11ea_b85a_0242ac11000a\" ><thead>    <tr>        <th class=\"blank level0\" ></th>        <th class=\"col_heading level0 col0\" >CEBPA</th>        <th class=\"col_heading level0 col1\" >EgrNab</th>        <th class=\"col_heading level0 col2\" >Gfi1</th>        <th class=\"col_heading level0 col3\" >cJun</th>    </tr></thead><tbody>\n",
       "                <tr>\n",
       "                        <th id=\"T_0edad3c2_a44a_11ea_b85a_0242ac11000alevel0_row0\" class=\"row_heading level0 row0\" >0</th>\n",
       "                        <td id=\"T_0edad3c2_a44a_11ea_b85a_0242ac11000arow0_col0\" class=\"data row0 col0\" ></td>\n",
       "                        <td id=\"T_0edad3c2_a44a_11ea_b85a_0242ac11000arow0_col1\" class=\"data row0 col1\" >1</td>\n",
       "                        <td id=\"T_0edad3c2_a44a_11ea_b85a_0242ac11000arow0_col2\" class=\"data row0 col2\" >0</td>\n",
       "                        <td id=\"T_0edad3c2_a44a_11ea_b85a_0242ac11000arow0_col3\" class=\"data row0 col3\" >1</td>\n",
       "            </tr>\n",
       "            <tr>\n",
       "                        <th id=\"T_0edad3c2_a44a_11ea_b85a_0242ac11000alevel0_row1\" class=\"row_heading level0 row1\" >1</th>\n",
       "                        <td id=\"T_0edad3c2_a44a_11ea_b85a_0242ac11000arow1_col0\" class=\"data row1 col0\" >*</td>\n",
       "                        <td id=\"T_0edad3c2_a44a_11ea_b85a_0242ac11000arow1_col1\" class=\"data row1 col1\" ></td>\n",
       "                        <td id=\"T_0edad3c2_a44a_11ea_b85a_0242ac11000arow1_col2\" class=\"data row1 col2\" ></td>\n",
       "                        <td id=\"T_0edad3c2_a44a_11ea_b85a_0242ac11000arow1_col3\" class=\"data row1 col3\" ></td>\n",
       "            </tr>\n",
       "    </tbody></table>"
      ],
      "text/plain": [
       "<pandas.io.formats.style.Styler at 0x7f7751f54cd0>"
      ]
     },
     "execution_count": 9,
     "metadata": {},
     "output_type": "execute_result"
    }
   ],
   "source": [
    "si.as_table()"
   ]
  },
  {
   "cell_type": "markdown",
   "metadata": {},
   "source": [
    "Compute the minimal one-step temporary control (OT) from the source to the target."
   ]
  },
  {
   "cell_type": "code",
   "execution_count": 10,
   "metadata": {},
   "outputs": [
    {
     "data": {
      "text/plain": [
       "[FromSteadyState('a4', TemporaryPerturbation(Gfi1=0)),\n",
       " FromSteadyState('a4', TemporaryPerturbation(EgrNab=1))]"
      ]
     },
     "execution_count": 10,
     "metadata": {},
     "output_type": "execute_result"
    }
   ],
   "source": [
    "c1t = cabean.OneStep_Temporary(model)\n",
    "s1t = c1t.attractor_to_attractor(source, target)\n",
    "s1t"
   ]
  },
  {
   "cell_type": "code",
   "execution_count": 11,
   "metadata": {},
   "outputs": [
    {
     "data": {
      "text/html": [
       "<style  type=\"text/css\" >\n",
       "    #T_0eecb312_a44a_11ea_b85a_0242ac11000a th {\n",
       "          border-right: 1px solid black;\n",
       "    }    #T_0eecb312_a44a_11ea_b85a_0242ac11000a td {\n",
       "          border-right: 1px solid black;\n",
       "          min-width: 2em;\n",
       "    }    #T_0eecb312_a44a_11ea_b85a_0242ac11000a th.col_heading {\n",
       "          writing-mode: vertical-lr;\n",
       "          transform: rotateZ(180deg);\n",
       "          vertical-align: top;\n",
       "          border-bottom: 1px solid black;\n",
       "          text-orientation: mixed;\n",
       "    }    #T_0eecb312_a44a_11ea_b85a_0242ac11000arow0_col1 {\n",
       "            color:  black;\n",
       "             background-color:  lime;\n",
       "        }    #T_0eecb312_a44a_11ea_b85a_0242ac11000arow1_col0 {\n",
       "            color:  black;\n",
       "             background-color:  red;\n",
       "        }</style><table id=\"T_0eecb312_a44a_11ea_b85a_0242ac11000a\" ><thead>    <tr>        <th class=\"blank level0\" ></th>        <th class=\"col_heading level0 col0\" >EgrNab</th>        <th class=\"col_heading level0 col1\" >Gfi1</th>    </tr></thead><tbody>\n",
       "                <tr>\n",
       "                        <th id=\"T_0eecb312_a44a_11ea_b85a_0242ac11000alevel0_row0\" class=\"row_heading level0 row0\" >0</th>\n",
       "                        <td id=\"T_0eecb312_a44a_11ea_b85a_0242ac11000arow0_col0\" class=\"data row0 col0\" ></td>\n",
       "                        <td id=\"T_0eecb312_a44a_11ea_b85a_0242ac11000arow0_col1\" class=\"data row0 col1\" >0</td>\n",
       "            </tr>\n",
       "            <tr>\n",
       "                        <th id=\"T_0eecb312_a44a_11ea_b85a_0242ac11000alevel0_row1\" class=\"row_heading level0 row1\" >1</th>\n",
       "                        <td id=\"T_0eecb312_a44a_11ea_b85a_0242ac11000arow1_col0\" class=\"data row1 col0\" >1</td>\n",
       "                        <td id=\"T_0eecb312_a44a_11ea_b85a_0242ac11000arow1_col1\" class=\"data row1 col1\" ></td>\n",
       "            </tr>\n",
       "    </tbody></table>"
      ],
      "text/plain": [
       "<pandas.io.formats.style.Styler at 0x7f775d220a10>"
      ]
     },
     "execution_count": 11,
     "metadata": {},
     "output_type": "execute_result"
    }
   ],
   "source": [
    "s1t.as_table()"
   ]
  },
  {
   "cell_type": "markdown",
   "metadata": {},
   "source": [
    "Compute the attractor-based sequential temporary control (AST) from the source to the target."
   ]
  },
  {
   "cell_type": "code",
   "execution_count": 12,
   "metadata": {},
   "outputs": [
    {
     "data": {
      "text/plain": [
       "[FromSteadyState('a4', TemporaryPerturbation(Gfi1=0)),\n",
       " FromSteadyState('a4', TemporaryPerturbation(EgrNab=1))]"
      ]
     },
     "execution_count": 12,
     "metadata": {},
     "output_type": "execute_result"
    }
   ],
   "source": [
    "ct = cabean.AttractorSequential_Temporary(model)\n",
    "st = ct.attractor_to_attractor(source, target)\n",
    "st"
   ]
  },
  {
   "cell_type": "code",
   "execution_count": 13,
   "metadata": {},
   "outputs": [
    {
     "data": {
      "text/html": [
       "<style  type=\"text/css\" >\n",
       "    #T_0f0313fa_a44a_11ea_b85a_0242ac11000a th {\n",
       "          border-right: 1px solid black;\n",
       "    }    #T_0f0313fa_a44a_11ea_b85a_0242ac11000a td {\n",
       "          border-right: 1px solid black;\n",
       "          min-width: 2em;\n",
       "    }    #T_0f0313fa_a44a_11ea_b85a_0242ac11000a th.col_heading {\n",
       "          writing-mode: vertical-lr;\n",
       "          transform: rotateZ(180deg);\n",
       "          vertical-align: top;\n",
       "          border-bottom: 1px solid black;\n",
       "          text-orientation: mixed;\n",
       "    }    #T_0f0313fa_a44a_11ea_b85a_0242ac11000arow0_col1 {\n",
       "            color:  black;\n",
       "             background-color:  lime;\n",
       "        }    #T_0f0313fa_a44a_11ea_b85a_0242ac11000arow1_col0 {\n",
       "            color:  black;\n",
       "             background-color:  red;\n",
       "        }</style><table id=\"T_0f0313fa_a44a_11ea_b85a_0242ac11000a\" ><thead>    <tr>        <th class=\"blank level0\" ></th>        <th class=\"col_heading level0 col0\" >EgrNab</th>        <th class=\"col_heading level0 col1\" >Gfi1</th>    </tr></thead><tbody>\n",
       "                <tr>\n",
       "                        <th id=\"T_0f0313fa_a44a_11ea_b85a_0242ac11000alevel0_row0\" class=\"row_heading level0 row0\" >0</th>\n",
       "                        <td id=\"T_0f0313fa_a44a_11ea_b85a_0242ac11000arow0_col0\" class=\"data row0 col0\" ></td>\n",
       "                        <td id=\"T_0f0313fa_a44a_11ea_b85a_0242ac11000arow0_col1\" class=\"data row0 col1\" >0</td>\n",
       "            </tr>\n",
       "            <tr>\n",
       "                        <th id=\"T_0f0313fa_a44a_11ea_b85a_0242ac11000alevel0_row1\" class=\"row_heading level0 row1\" >1</th>\n",
       "                        <td id=\"T_0f0313fa_a44a_11ea_b85a_0242ac11000arow1_col0\" class=\"data row1 col0\" >1</td>\n",
       "                        <td id=\"T_0f0313fa_a44a_11ea_b85a_0242ac11000arow1_col1\" class=\"data row1 col1\" ></td>\n",
       "            </tr>\n",
       "    </tbody></table>"
      ],
      "text/plain": [
       "<pandas.io.formats.style.Styler at 0x7f7751f22610>"
      ]
     },
     "execution_count": 13,
     "metadata": {},
     "output_type": "execute_result"
    }
   ],
   "source": [
    "st.as_table()"
   ]
  },
  {
   "cell_type": "markdown",
   "metadata": {},
   "source": [
    "Compute the minimal one-step permanent control (OP) from the source to the target."
   ]
  },
  {
   "cell_type": "code",
   "execution_count": 14,
   "metadata": {},
   "outputs": [
    {
     "data": {
      "text/plain": [
       "[FromSteadyState('a4', PermanentPerturbation(Gfi1=0)),\n",
       " FromSteadyState('a4', PermanentPerturbation(EgrNab=1))]"
      ]
     },
     "execution_count": 14,
     "metadata": {},
     "output_type": "execute_result"
    }
   ],
   "source": [
    "c1p = cabean.OneStep_Permanent(model)\n",
    "s1p = c1p.attractor_to_attractor(source, target)\n",
    "s1p"
   ]
  },
  {
   "cell_type": "code",
   "execution_count": 15,
   "metadata": {},
   "outputs": [
    {
     "data": {
      "text/html": [
       "<style  type=\"text/css\" >\n",
       "    #T_0f18652a_a44a_11ea_b85a_0242ac11000a th {\n",
       "          border-right: 1px solid black;\n",
       "    }    #T_0f18652a_a44a_11ea_b85a_0242ac11000a td {\n",
       "          border-right: 1px solid black;\n",
       "          min-width: 2em;\n",
       "    }    #T_0f18652a_a44a_11ea_b85a_0242ac11000a th.col_heading {\n",
       "          writing-mode: vertical-lr;\n",
       "          transform: rotateZ(180deg);\n",
       "          vertical-align: top;\n",
       "          border-bottom: 1px solid black;\n",
       "          text-orientation: mixed;\n",
       "    }    #T_0f18652a_a44a_11ea_b85a_0242ac11000arow0_col1 {\n",
       "            color:  black;\n",
       "             background-color:  lime;\n",
       "        }    #T_0f18652a_a44a_11ea_b85a_0242ac11000arow1_col0 {\n",
       "            color:  black;\n",
       "             background-color:  red;\n",
       "        }</style><table id=\"T_0f18652a_a44a_11ea_b85a_0242ac11000a\" ><thead>    <tr>        <th class=\"blank level0\" ></th>        <th class=\"col_heading level0 col0\" >EgrNab</th>        <th class=\"col_heading level0 col1\" >Gfi1</th>    </tr></thead><tbody>\n",
       "                <tr>\n",
       "                        <th id=\"T_0f18652a_a44a_11ea_b85a_0242ac11000alevel0_row0\" class=\"row_heading level0 row0\" >0</th>\n",
       "                        <td id=\"T_0f18652a_a44a_11ea_b85a_0242ac11000arow0_col0\" class=\"data row0 col0\" ></td>\n",
       "                        <td id=\"T_0f18652a_a44a_11ea_b85a_0242ac11000arow0_col1\" class=\"data row0 col1\" >0</td>\n",
       "            </tr>\n",
       "            <tr>\n",
       "                        <th id=\"T_0f18652a_a44a_11ea_b85a_0242ac11000alevel0_row1\" class=\"row_heading level0 row1\" >1</th>\n",
       "                        <td id=\"T_0f18652a_a44a_11ea_b85a_0242ac11000arow1_col0\" class=\"data row1 col0\" >1</td>\n",
       "                        <td id=\"T_0f18652a_a44a_11ea_b85a_0242ac11000arow1_col1\" class=\"data row1 col1\" ></td>\n",
       "            </tr>\n",
       "    </tbody></table>"
      ],
      "text/plain": [
       "<pandas.io.formats.style.Styler at 0x7f7751f59b50>"
      ]
     },
     "execution_count": 15,
     "metadata": {},
     "output_type": "execute_result"
    }
   ],
   "source": [
    "s1p.as_table()"
   ]
  },
  {
   "cell_type": "markdown",
   "metadata": {},
   "source": [
    "Compute the attractor-based sequential permanent control (ASP) from the source to the target."
   ]
  },
  {
   "cell_type": "code",
   "execution_count": 16,
   "metadata": {},
   "outputs": [
    {
     "name": "stdout",
     "output_type": "stream",
     "text": [
      "CPU times: user 2.58 ms, sys: 5.43 ms, total: 8.01 ms\n",
      "Wall time: 56.7 ms\n"
     ]
    },
    {
     "data": {
      "text/plain": [
       "[FromSteadyState('a4', PermanentPerturbation(Gfi1=0)),\n",
       " FromSteadyState('a4', PermanentPerturbation(EgrNab=1))]"
      ]
     },
     "execution_count": 16,
     "metadata": {},
     "output_type": "execute_result"
    }
   ],
   "source": [
    "rp = cabean.AttractorSequential_Permanent(model)\n",
    "%time sp = rp.attractor_to_attractor(source, target)\n",
    "sp"
   ]
  },
  {
   "cell_type": "code",
   "execution_count": 17,
   "metadata": {},
   "outputs": [
    {
     "data": {
      "image/svg+xml": [
       "<?xml version=\"1.0\" encoding=\"UTF-8\" standalone=\"no\"?>\n",
       "<!DOCTYPE svg PUBLIC \"-//W3C//DTD SVG 1.1//EN\"\n",
       " \"http://www.w3.org/Graphics/SVG/1.1/DTD/svg11.dtd\">\n",
       "<!-- Generated by graphviz version 2.38.0 (20140413.2041)\n",
       " -->\n",
       "<!-- Title: %3 Pages: 1 -->\n",
       "<svg width=\"277pt\" height=\"44pt\"\n",
       " viewBox=\"0.00 0.00 277.14 44.00\" xmlns=\"http://www.w3.org/2000/svg\" xmlns:xlink=\"http://www.w3.org/1999/xlink\">\n",
       "<g id=\"graph0\" class=\"graph\" transform=\"scale(1 1) rotate(0) translate(4 40)\">\n",
       "<title>%3</title>\n",
       "<polygon fill=\"white\" stroke=\"none\" points=\"-4,4 -4,-40 273.137,-40 273.137,4 -4,4\"/>\n",
       "<!-- target -->\n",
       "<g id=\"node1\" class=\"node\"><title>target</title>\n",
       "<polygon fill=\"palegreen\" stroke=\"black\" points=\"213.069,-36 156.931,-18 213.069,-3.55271e-15 269.206,-18 213.069,-36\"/>\n",
       "<polyline fill=\"none\" stroke=\"black\" points=\"168.358,-21.664 168.358,-14.336 \"/>\n",
       "<polyline fill=\"none\" stroke=\"black\" points=\"201.642,-3.66397 224.496,-3.66397 \"/>\n",
       "<polyline fill=\"none\" stroke=\"black\" points=\"257.779,-14.336 257.779,-21.664 \"/>\n",
       "<polyline fill=\"none\" stroke=\"black\" points=\"224.496,-32.336 201.642,-32.336 \"/>\n",
       "<text text-anchor=\"middle\" x=\"213.069\" y=\"-14.3\" font-family=\"Times,serif\" font-size=\"14.00\">target</text>\n",
       "</g>\n",
       "<!-- a4 -->\n",
       "<g id=\"node2\" class=\"node\"><title>a4</title>\n",
       "<g id=\"a_node2\"><a xlink:title=\"SteadyState\">\n",
       "<polygon fill=\"lightgrey\" stroke=\"black\" points=\"54,-36 0,-36 0,-0 54,-0 54,-36\"/>\n",
       "<text text-anchor=\"middle\" x=\"27\" y=\"-14.3\" font-family=\"Times,serif\" font-size=\"14.00\">a4</text>\n",
       "</a>\n",
       "</g>\n",
       "</g>\n",
       "<!-- a4&#45;&gt;target -->\n",
       "<g id=\"edge1\" class=\"edge\"><title>a4&#45;&gt;target</title>\n",
       "<path fill=\"none\" stroke=\"black\" d=\"M54.3725,-18C78.4121,-18 114.923,-18 146.761,-18\"/>\n",
       "<polygon fill=\"black\" stroke=\"black\" points=\"146.912,-21.5001 156.912,-18 146.912,-14.5001 146.912,-21.5001\"/>\n",
       "<g id=\"a_edge1&#45;label\"><a xlink:title=\"PermanentPerturbation(Gfi1=0)\">\n",
       "<text text-anchor=\"middle\" x=\"105.5\" y=\"-21\" font-family=\"Times,serif\" font-size=\"10.00\">P(Gfi1=0)</text>\n",
       "</a>\n",
       "</g>\n",
       "</g>\n",
       "<!-- a4&#45;&gt;target -->\n",
       "<g id=\"edge2\" class=\"edge\"><title>a4&#45;&gt;target</title>\n",
       "<path fill=\"none\" stroke=\"black\" d=\"M54.1622,-7.51643C59.946,-5.64209 66.1082,-3.97669 72,-3 105.414,2.53911 143.669,-2.3049 171.747,-7.91891\"/>\n",
       "<polygon fill=\"black\" stroke=\"black\" points=\"171.095,-11.3585 181.603,-10.0043 172.544,-4.51007 171.095,-11.3585\"/>\n",
       "<g id=\"a_edge2&#45;label\"><a xlink:title=\"PermanentPerturbation(EgrNab=1)\">\n",
       "<text text-anchor=\"middle\" x=\"105.5\" y=\"-6\" font-family=\"Times,serif\" font-size=\"10.00\">P(EgrNab=1)</text>\n",
       "</a>\n",
       "</g>\n",
       "</g>\n",
       "</g>\n",
       "</svg>\n"
      ],
      "text/plain": [
       "<pydot.Dot at 0x7f7751ec4a90>"
      ]
     },
     "execution_count": 17,
     "metadata": {},
     "output_type": "execute_result"
    }
   ],
   "source": [
    "sp.as_graph()"
   ]
  },
  {
   "cell_type": "code",
   "execution_count": 18,
   "metadata": {},
   "outputs": [
    {
     "data": {
      "text/html": [
       "<style  type=\"text/css\" >\n",
       "    #T_0f3c0ed0_a44a_11ea_b85a_0242ac11000a th {\n",
       "          border-right: 1px solid black;\n",
       "    }    #T_0f3c0ed0_a44a_11ea_b85a_0242ac11000a td {\n",
       "          border-right: 1px solid black;\n",
       "          min-width: 2em;\n",
       "    }    #T_0f3c0ed0_a44a_11ea_b85a_0242ac11000a th.col_heading {\n",
       "          writing-mode: vertical-lr;\n",
       "          transform: rotateZ(180deg);\n",
       "          vertical-align: top;\n",
       "          border-bottom: 1px solid black;\n",
       "          text-orientation: mixed;\n",
       "    }    #T_0f3c0ed0_a44a_11ea_b85a_0242ac11000arow0_col1 {\n",
       "            color:  black;\n",
       "             background-color:  lime;\n",
       "        }    #T_0f3c0ed0_a44a_11ea_b85a_0242ac11000arow1_col0 {\n",
       "            color:  black;\n",
       "             background-color:  red;\n",
       "        }</style><table id=\"T_0f3c0ed0_a44a_11ea_b85a_0242ac11000a\" ><thead>    <tr>        <th class=\"blank level0\" ></th>        <th class=\"col_heading level0 col0\" >EgrNab</th>        <th class=\"col_heading level0 col1\" >Gfi1</th>    </tr></thead><tbody>\n",
       "                <tr>\n",
       "                        <th id=\"T_0f3c0ed0_a44a_11ea_b85a_0242ac11000alevel0_row0\" class=\"row_heading level0 row0\" >0</th>\n",
       "                        <td id=\"T_0f3c0ed0_a44a_11ea_b85a_0242ac11000arow0_col0\" class=\"data row0 col0\" ></td>\n",
       "                        <td id=\"T_0f3c0ed0_a44a_11ea_b85a_0242ac11000arow0_col1\" class=\"data row0 col1\" >0</td>\n",
       "            </tr>\n",
       "            <tr>\n",
       "                        <th id=\"T_0f3c0ed0_a44a_11ea_b85a_0242ac11000alevel0_row1\" class=\"row_heading level0 row1\" >1</th>\n",
       "                        <td id=\"T_0f3c0ed0_a44a_11ea_b85a_0242ac11000arow1_col0\" class=\"data row1 col0\" >1</td>\n",
       "                        <td id=\"T_0f3c0ed0_a44a_11ea_b85a_0242ac11000arow1_col1\" class=\"data row1 col1\" ></td>\n",
       "            </tr>\n",
       "    </tbody></table>"
      ],
      "text/plain": [
       "<pandas.io.formats.style.Styler at 0x7f7751ed1050>"
      ]
     },
     "execution_count": 18,
     "metadata": {},
     "output_type": "execute_result"
    }
   ],
   "source": [
    "sp.as_table()"
   ]
  }
 ],
 "metadata": {
  "kernelspec": {
   "display_name": "Python 3",
   "language": "python",
   "name": "python3"
  },
  "language_info": {
   "codemirror_mode": {
    "name": "ipython",
    "version": 3
   },
   "file_extension": ".py",
   "mimetype": "text/x-python",
   "name": "python",
   "nbconvert_exporter": "python",
   "pygments_lexer": "ipython3",
   "version": "3.7.7"
  }
 },
 "nbformat": 4,
 "nbformat_minor": 2
}
