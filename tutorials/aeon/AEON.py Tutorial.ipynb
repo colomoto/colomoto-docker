{
 "cells": [
  {
   "cell_type": "markdown",
   "metadata": {
    "cell_id": "00000-06f1a634-9752-4d57-b6e7-9fe0cf26fee1",
    "deepnote_app_coordinates": {
     "h": 5,
     "w": 12,
     "x": 0,
     "y": 6
    },
    "deepnote_cell_height": 215.59375,
    "deepnote_cell_type": "markdown",
    "tags": []
   },
   "source": [
    "# Biodivine AEON\n",
    "\n",
    "This notebook illustrates how to use Python bindings of the tool AEON to symbolically analyze the attractors of non-trivial Boolean networks.\n",
    "\n",
    "No special knowledge is necessary to understand the contents of this particular notebook. However, to successfully apply AEON to other problems, some basic understanding of AEON's notion of *partially specified Boolean network* and the underlying symbolic representation using BDDs is recommended (these are explained [here](./bn_tutorial.ipynb) and [here](bdd_tutorial.ipynb)).\n",
    "\n",
    "We start our exploration by loading a Boolean network from CellCollective:"
   ]
  },
  {
   "cell_type": "code",
   "execution_count": 1,
   "metadata": {
    "cell_id": "00000-2aa8354c-b904-4b5f-80b2-599e98cf09f3",
    "deepnote_app_coordinates": {
     "h": 5,
     "w": 12,
     "x": 0,
     "y": null
    },
    "deepnote_cell_height": 226.1875,
    "deepnote_cell_type": "code",
    "deepnote_output_heights": [
     21.1875
    ],
    "deepnote_to_be_reexecuted": false,
    "execution_millis": 400,
    "execution_start": 1647976213646,
    "owner_user_id": "9ab6d4c6-818a-402c-bd04-41512459699e",
    "source_hash": "3ef76b19",
    "tags": []
   },
   "outputs": [
    {
     "data": {
      "text/html": [
       "Using local file <a href='cellcollective-36604-1.sbml' target='_blank'>cellcollective-36604-1.sbml</a><br>"
      ],
      "text/plain": [
       "/notebook/tutorials/aeon/cellcollective-36604-1.sbml"
      ]
     },
     "metadata": {},
     "output_type": "display_data"
    },
    {
     "name": "stdout",
     "output_type": "stream",
     "text": [
      "Loaded model with 66 variables.\n"
     ]
    }
   ],
   "source": [
    "from biodivine_aeon import *\n",
    "import biodivine_aeon as ba\n",
    "from pathlib import Path\n",
    "import cellcollective\n",
    "\n",
    "# Load the network from CellCellective.\n",
    "sbml = cellcollective.load(\"https://research.cellcollective.org/#module/36604:1/signaling-pathway-for-butanol-production-in-clostridium-beijerinckii-nrrl-b598/10\")\n",
    "\n",
    "# Open the loaded SBML and parse it as a Boolean network.\n",
    "model = BooleanNetwork.from_file(sbml.localfile)\n",
    "#model = BooleanNetwork.from_file(\"cellcollective-36604-1.sbml\")\n",
    "print(f\"Loaded model with {model.variable_count()} variables.\")"
   ]
  },
  {
   "cell_type": "code",
   "execution_count": 2,
   "metadata": {},
   "outputs": [],
   "source": [
    "# Print some basic messages (unfortunately, in jupyter notebooks, these may be delayed until the cell finishes computing\n",
    "# but you can see them in the terminal). ba.LOG_NOTHING is the default, but ba.LOG_VERBOSE is also available.\n",
    "ba.LOG_LEVEL = ba.LOG_ESSENTIAL"
   ]
  },
  {
   "cell_type": "markdown",
   "metadata": {},
   "source": [
    "Right now, the model has no explicit paramters, but there are several variables for which no update function is given in the SBML file. AEON will automatically consider these as implicit unknown parameters of the network:"
   ]
  },
  {
   "cell_type": "code",
   "execution_count": 3,
   "metadata": {},
   "outputs": [
    {
     "name": "stdout",
     "output_type": "stream",
     "text": [
      "Number of explicit parameters: 0.\n",
      "Number of implicit parameters: 13.\n"
     ]
    }
   ],
   "source": [
    "print(f\"Number of explicit parameters: {model.explicit_parameter_count()}.\")\n",
    "print(f\"Number of implicit parameters: {model.implicit_parameter_count()}.\")"
   ]
  },
  {
   "cell_type": "markdown",
   "metadata": {
    "cell_id": "00002-6f199e8c-19ee-485c-bc55-b9f64071d7b1",
    "deepnote_app_coordinates": {
     "h": 5,
     "w": 12,
     "x": 0,
     "y": 12
    },
    "deepnote_cell_height": 52.390625,
    "deepnote_cell_type": "markdown",
    "tags": []
   },
   "source": [
    "Before we can explore the attractors of this network, first let us observe that the network as downloaded from CellCollective is actually not logically consistent with its regulatory graph. AEON will notify us about this fact when we try to construct the network's asynchronous state-transition graph:"
   ]
  },
  {
   "cell_type": "code",
   "execution_count": 4,
   "metadata": {
    "cell_id": "00003-df3adfd6-aa81-4bbc-92ac-913749e86c21",
    "deepnote_app_coordinates": {
     "h": 5,
     "w": 12,
     "x": 0,
     "y": 18
    },
    "deepnote_cell_height": 791,
    "deepnote_cell_type": "code",
    "deepnote_to_be_reexecuted": false,
    "execution_millis": 355,
    "execution_start": 1647976213691,
    "source_hash": "c4c89fd2",
    "tags": []
   },
   "outputs": [
    {
     "name": "stdout",
     "output_type": "stream",
     "text": [
      "No update functions satisfy given constraints: \n",
      " - spoIIE not activating in spoIIAB.\n",
      " - sporulation has no effect in glucose___PTS.\n",
      " - sigA has no effect in spo0A_p.\n",
      "\n"
     ]
    }
   ],
   "source": [
    "try:\n",
    "    stg = AsynchronousGraph(model)\n",
    "except Exception as e:\n",
    "    print(e)"
   ]
  },
  {
   "cell_type": "markdown",
   "metadata": {},
   "source": [
    "Fortunately, AEON can tell us exactly which properties are violated. So if we want to fix these issues, we know what variables to focus on. For now, we simply relax the conditions in the regulatory graph such that the existing update functions are valid:"
   ]
  },
  {
   "cell_type": "code",
   "execution_count": 5,
   "metadata": {},
   "outputs": [
    {
     "data": {
      "text/plain": [
       "{'source': VariableId(51),\n",
       " 'target': VariableId(58),\n",
       " 'essential': True,\n",
       " 'sign': '+'}"
      ]
     },
     "execution_count": 5,
     "metadata": {},
     "output_type": "execute_result"
    }
   ],
   "source": [
    "# You can also automatically fix all issues using model.infer_valid_graph()\n",
    "\n",
    "# Export the Boolean network as `.aeon` model string.\n",
    "model_aeon = model.to_aeon()\n",
    "\n",
    "# Relax the problematic regulation constraints:\n",
    "\n",
    "# Mark regulation \"spoIIE -> spoIIAB\" as non-monotonous:\n",
    "model.ensure_regulation({\n",
    "    'source': 'spoIIE',\n",
    "    'target': 'spoIIAB',\n",
    "    'essential': True,\n",
    "    'sign': None,\n",
    "})\n",
    "# Mark regulation \"sporulation -| glucose___PTS\" as non-essential:\n",
    "model.ensure_regulation({\n",
    "    'source': 'sporulation',\n",
    "    'target': 'glucose___PTS',\n",
    "    'essential': False,\n",
    "    'sign': '-',\n",
    "})\n",
    "# Mark regulation \"sigA -> spo0A_p\" as non-essential:\n",
    "model.ensure_regulation({\n",
    "    'source': 'sigA',\n",
    "    'target': 'spo0A_p',\n",
    "    'essential': False,\n",
    "    'sign': '+',\n",
    "})"
   ]
  },
  {
   "cell_type": "markdown",
   "metadata": {
    "cell_id": "00004-c8d7a5f5-2b6e-4625-aa87-21859a962fd8",
    "deepnote_app_coordinates": {
     "h": 5,
     "w": 12,
     "x": 0,
     "y": 24
    },
    "deepnote_cell_height": 52.390625,
    "deepnote_cell_type": "markdown",
    "tags": []
   },
   "source": [
    "Now we can actually compute the attractors quite easily. However, note that since AEON has to consider each possible variant of the network, the computation can still take several seconds or minutes (recall that we actually have `2^13 = 8192` possible networks)."
   ]
  },
  {
   "cell_type": "code",
   "execution_count": 6,
   "metadata": {
    "cell_id": "00005-b69efddf-725f-4354-bbad-cc27abb2e4d1",
    "deepnote_app_coordinates": {
     "h": 5,
     "w": 12,
     "x": 0,
     "y": 30
    },
    "deepnote_cell_height": 190.1875,
    "deepnote_cell_type": "code",
    "deepnote_output_heights": [
     21.1875
    ],
    "deepnote_to_be_reexecuted": false,
    "execution_millis": 335,
    "execution_start": 1647976213736,
    "source_hash": "a28cd586",
    "tags": []
   },
   "outputs": [
    {
     "name": "stdout",
     "output_type": "stream",
     "text": [
      "Start interleaved transition guided reduction with 604462909807314600000000[nodes:2] candidates.\n"
     ]
    },
    {
     "data": {
      "text/plain": [
       "[ColoredVertexSet(cardinality=867718363543552, colors=6704, vertices=867718363543552, symbolic_size=5924),\n",
       " ColoredVertexSet(cardinality=15959465984, colors=1488, vertices=15959465984, symbolic_size=1393)]"
      ]
     },
     "execution_count": 6,
     "metadata": {},
     "output_type": "execute_result"
    },
    {
     "name": "stdout",
     "output_type": "stream",
     "text": [
      " > Discarded 302231454903657300000000 instances based on the BnVariable(63) extended component.\n",
      " > State space reduced to 302231454903657300000000[nodes:5].\n",
      " > Discarded 151115727451828650000000 instances based on the BnVariable(51) extended component.\n",
      " > State space reduced to 151115727451828650000000[nodes:8].\n",
      " > Discarded 75557863725914320000000 instances based on the BnVariable(55) extended component.\n",
      " > State space reduced to 75557863725914320000000[nodes:10].\n",
      " > Discarded 37778931862957160000000 instances based on the BnVariable(46) extended component.\n",
      " > State space reduced to 37778931862957160000000[nodes:13].\n",
      " > Discarded 18889465931478580000000 instances based on the BnVariable(45) extended component.\n",
      " > State space reduced to 18889465931478580000000[nodes:16].\n",
      " > Discarded 9444732965739290000000 instances based on the BnVariable(44) extended component.\n",
      " > State space reduced to 9444732965739290000000[nodes:19].\n",
      " > Discarded 4722366482869645000000 instances based on the BnVariable(43) extended component.\n",
      " > State space reduced to 4722366482869645000000[nodes:22].\n",
      " > Discarded 2361183241434822600000 instances based on the BnVariable(38) extended component.\n",
      " > State space reduced to 2361183241434822600000[nodes:25].\n",
      " > Discarded 1180591620717411300000 instances based on the BnVariable(37) extended component.\n",
      " > State space reduced to 1180591620717411300000[nodes:28].\n",
      " > Discarded 590295810358705700000 instances based on the BnVariable(35) extended component.\n",
      " > State space reduced to 590295810358705700000[nodes:31].\n",
      " > Discarded 295147905179352830000 instances based on the BnVariable(6) extended component.\n",
      " > State space reduced to 295147905179352830000[nodes:34].\n",
      " > Discarded 147573952589676410000 instances based on the BnVariable(5) extended component.\n",
      " > State space reduced to 147573952589676410000[nodes:37].\n",
      " > Discarded 73786976294838210000 instances based on the BnVariable(4) extended component.\n",
      " > State space reduced to 73786976294838210000[nodes:40].\n",
      " > Discarded 36893488147419103000 instances based on the BnVariable(3) extended component.\n",
      " > State space reduced to 36893488147419103000[nodes:43].\n",
      " > Discarded 18446744073709552000 instances based on the BnVariable(2) extended component.\n",
      " > State space reduced to 18446744073709552000[nodes:45].\n",
      " > Discarded 9223372036854776000 instances based on the BnVariable(36) extended component.\n",
      " > State space reduced to 9223372036854776000[nodes:50].\n",
      " > Discarded 4611686018427388000 instances based on the BnVariable(49) extended component.\n",
      " > State space reduced to 4611686018427388000[nodes:61].\n",
      " > Discarded 2448832297382707000 instances based on the BnVariable(59) extended component.\n",
      " > State space reduced to 2162853721044680700[nodes:147].\n",
      " > Discarded 937311672446484500 instances based on the BnVariable(60) extended component.\n",
      " > State space reduced to 1225542048598196200[nodes:151].\n",
      " > Discarded 468655836223242240 instances based on the BnVariable(62) extended component.\n",
      " > State space reduced to 756886212374954000[nodes:155].\n",
      " > Discarded 234327918111621120 instances based on the BnVariable(61) extended component.\n",
      " > State space reduced to 522558294263332860[nodes:159].\n",
      " > Discarded 117163959055810560 instances based on the BnVariable(53) extended component.\n",
      " > State space reduced to 405394335207522300[nodes:167].\n",
      " > Discarded 53409876830846980 instances based on the BnVariable(58) extended component.\n",
      " > State space reduced to 351984458376675300[nodes:180].\n",
      " > Discarded 18155135997837310 instances based on the BnVariable(64) extended component.\n",
      " > State space reduced to 333829322378838000[nodes:204].\n",
      " > Discarded 0 instances based on the BnVariable(25) extended component.\n",
      " > Discarded 9288674231451648 instances based on the BnVariable(65) extended component.\n",
      " > State space reduced to 324540648147386400[nodes:212].\n",
      " > Discarded 18084767253659650 instances based on the BnVariable(52) extended component.\n",
      " > State space reduced to 306455880893726700[nodes:217].\n",
      " > Discarded 9042383626829824 instances based on the BnVariable(54) extended component.\n",
      " > State space reduced to 297413497266896900[nodes:223].\n",
      " > Discarded 4521191813414912 instances based on the BnVariable(56) extended component.\n",
      " > State space reduced to 292892305453482000[nodes:229].\n",
      " > Discarded 2260595906707456 instances based on the BnVariable(57) extended component.\n",
      " > State space reduced to 290631709546774500[nodes:230].\n",
      " > Discarded 356241767399424 instances based on the BnVariable(32) extended component.\n",
      " > State space reduced to 290275467779375100[nodes:294].\n",
      " > Discarded 178120883699712 instances based on the BnVariable(33) extended component.\n",
      " > State space reduced to 290097346895675400[nodes:298].\n",
      " > Discarded 72703339149656060 instances based on the BnVariable(39) extended component.\n",
      " > State space reduced to 217394007746019330[nodes:841].\n",
      " > Discarded 37279242387456 instances based on the BnVariable(29) extended component.\n",
      " > State space reduced to 217356728503631870[nodes:1490].\n",
      " > Discarded 1535450808320 instances based on the BnVariable(48) extended component.\n",
      " > State space reduced to 217355193052823550[nodes:1496].\n",
      " > Discarded 104155224670732290 instances based on the BnVariable(50) extended component.\n",
      " > State space reduced to 113199968382091260[nodes:1494].\n",
      " > Discarded 54338838528524290 instances based on the BnVariable(41) extended component.\n",
      " > State space reduced to 58861129853566980[nodes:2031].\n",
      " > Discarded 14433982238162944 instances based on the BnVariable(42) extended component.\n",
      " > Finished ITGR process. 28 processes remaining.\n",
      " > State space reduced to 44427147615404030[nodes:2095].\n",
      " > Discarded 59408121856 instances using the BnVariable(13) transition basin.\n",
      " > Finished ITGR process. 28 processes remaining.\n",
      " > State space reduced to 44427088207282180[nodes:2218].\n",
      " > Discarded 20658435540385790 instances based on the BnVariable(13) extended component.\n",
      " > Finished ITGR process. 27 processes remaining.\n",
      " > State space reduced to 23768652666896384[nodes:2630].\n",
      " > Discarded 10329238934650880 instances based on the BnVariable(14) extended component.\n",
      " > Finished ITGR process. 26 processes remaining.\n",
      " > State space reduced to 13439413732245504[nodes:2670].\n",
      " > Finished ITGR process. 26 processes remaining.\n",
      " > Discarded 7746903680745472 instances based on the BnVariable(10) extended component.\n",
      " > Finished ITGR process. 25 processes remaining.\n",
      " > State space reduced to 5692510051500032[nodes:2431].\n",
      " > Finished ITGR process. 25 processes remaining.\n",
      " > Discarded 10468982784 instances based on the BnVariable(12) extended component.\n",
      " > Finished ITGR process. 24 processes remaining.\n",
      " > State space reduced to 5692499582517248[nodes:1678].\n",
      " > Discarded 125829120 instances using the BnVariable(7) transition basin.\n",
      " > State space reduced to 5692499456688128[nodes:1447].\n",
      " > Discarded 1301624903434240 instances based on the BnVariable(7) extended component.\n",
      " > State space reduced to 4390874553253888[nodes:2071].\n",
      " > Finished ITGR process. 23 processes remaining.\n",
      " > Finished ITGR process. 23 processes remaining.\n",
      " > Discarded 309237645312 instances using the BnVariable(19) transition basin.\n",
      " > Finished ITGR process. 23 processes remaining.\n",
      " > State space reduced to 4390565315608576[nodes:2396].\n",
      " > Discarded 3466340597760 instances based on the BnVariable(19) extended component.\n",
      " > Finished ITGR process. 22 processes remaining.\n",
      " > State space reduced to 4387098975010816[nodes:2525].\n",
      " > Discarded 3270785368064 instances based on the BnVariable(34) extended component.\n",
      " > Finished ITGR process. 21 processes remaining.\n",
      " > State space reduced to 4383828189642752[nodes:2549].\n",
      " > Discarded 1896420554833920 instances based on the BnVariable(27) extended component.\n",
      " > Finished ITGR process. 20 processes remaining.\n",
      " > State space reduced to 2487407634808832[nodes:4257].\n",
      " > Finished ITGR process. 20 processes remaining.\n",
      " > Discarded 645569491894272 instances based on the BnVariable(23) extended component.\n",
      " > Finished ITGR process. 19 processes remaining.\n",
      " > State space reduced to 1841838142914560[nodes:4393].\n",
      " > Discarded 322784745947136 instances based on the BnVariable(28) extended component.\n",
      " > Finished ITGR process. 18 processes remaining.\n",
      " > State space reduced to 1519053396967424[nodes:4529].\n",
      " > Discarded 319782912 instances based on the BnVariable(24) extended component.\n",
      " > Finished ITGR process. 17 processes remaining.\n",
      " > State space reduced to 1519053077184512[nodes:4655].\n",
      " > Discarded 2916352 instances using the BnVariable(0) transition basin.\n",
      " > Finished ITGR process. 17 processes remaining.\n",
      " > State space reduced to 1519053074268160[nodes:4661].\n",
      " > Discarded 46768661561344 instances based on the BnVariable(0) extended component.\n",
      " > Finished ITGR process. 16 processes remaining.\n",
      " > State space reduced to 1472284412706816[nodes:4527].\n",
      " > Discarded 42135884922880 instances based on the BnVariable(30) extended component.\n",
      " > Finished ITGR process. 15 processes remaining.\n",
      " > State space reduced to 1430148527783936[nodes:3055].\n",
      " > Discarded 7841709416448 instances using the BnVariable(11) transition basin.\n",
      " > State space reduced to 1422306818367488[nodes:3491].\n",
      " > Discarded 0 instances based on the BnVariable(11) extended component.\n",
      " > Discarded 8126464 instances based on the BnVariable(40) extended component.\n",
      " > State space reduced to 1422306810241024[nodes:3495].\n",
      " > Discarded 6410457088 instances based on the BnVariable(21) extended component.\n",
      " > State space reduced to 1422300399783936[nodes:3667].\n",
      " > Discarded 3205228544 instances based on the BnVariable(17) extended component.\n",
      " > State space reduced to 1422297194555392[nodes:3733].\n",
      " > Discarded 1602614272 instances based on the BnVariable(18) extended component.\n",
      " > State space reduced to 1422295591941120[nodes:3775].\n",
      " > Discarded 801307136 instances based on the BnVariable(16) extended component.\n",
      " > State space reduced to 1422294790633984[nodes:3817].\n",
      " > Discarded 400653568 instances based on the BnVariable(1) extended component.\n",
      " > State space reduced to 1422294389980416[nodes:3933].\n",
      " > Discarded 865024 instances based on the BnVariable(47) extended component.\n",
      " > State space reduced to 1422294389115392[nodes:3614].\n",
      " > Discarded 370944 instances based on the BnVariable(22) extended component.\n",
      " > State space reduced to 1422294388744448[nodes:3648].\n",
      " > Discarded 240896 instances based on the BnVariable(31) extended component.\n",
      " > State space reduced to 1422294388503552[nodes:3628].\n",
      " > Discarded 129536 instances based on the BnVariable(20) extended component.\n",
      " > State space reduced to 1422294388374016[nodes:3676].\n",
      " > Discarded 64768 instances based on the BnVariable(15) extended component.\n",
      " > State space reduced to 1422294388309248[nodes:3748].\n",
      " > Discarded 44288 instances based on the BnVariable(9) extended component.\n",
      " > State space reduced to 1422294388264960[nodes:3484].\n",
      " > Discarded 4096 instances based on the BnVariable(26) extended component.\n",
      " > State space reduced to 1422294388260864[nodes:3496].\n",
      " > Discarded 2048 instances based on the BnVariable(8) extended component.\n",
      "Interleaved transition guided reduction finished with 1422294388258816[nodes:3502] candidates.\n",
      "Start Xie-Beerel attractor detection on 1422294388258816[nodes:3502] candidates.\n",
      " > Found a bottom SCC: 867718363543552x6704[nodes:5924].\n",
      " > Found a bottom SCC: 15959465984x1488[nodes:1393].\n",
      "Attractor detection finished with 2 results.\n"
     ]
    }
   ],
   "source": [
    "stg = AsynchronousGraph(model)\n",
    "attractors = Attractors.attractors(stg)\n",
    "attractors"
   ]
  },
  {
   "cell_type": "markdown",
   "metadata": {},
   "source": [
    "As we can see, AEON found two separate attractor sets. Since the sets are very large, only a summary of each set is printed. Each set has millions of vertices and thousands of colors -- AEON uses the term \"color\" to refer to concrete models arising for different parametrisations.\n",
    "\n",
    "However, in this case, we can actually verify that these two sets are color-disjoint. This means that each possible network actually still only has one attractor. Consequently, we can just merge the two sets and treat them as a single attractor:"
   ]
  },
  {
   "cell_type": "code",
   "execution_count": 7,
   "metadata": {},
   "outputs": [
    {
     "name": "stdout",
     "output_type": "stream",
     "text": [
      "Number of colors appearing in both sets: 0\n"
     ]
    },
    {
     "data": {
      "text/plain": [
       "ColoredVertexSet(cardinality=867734323009536, colors=8192, vertices=867734323009536, symbolic_size=6154)"
      ]
     },
     "execution_count": 7,
     "metadata": {},
     "output_type": "execute_result"
    }
   ],
   "source": [
    "colors_in_both_sets = attractors[0].colors().intersect(attractors[1].colors())\n",
    "print(f\"Number of colors appearing in both sets: {colors_in_both_sets.cardinality()}\")\n",
    "\n",
    "attractor = attractors[0].union(attractors[1])\n",
    "attractor"
   ]
  },
  {
   "cell_type": "markdown",
   "metadata": {
    "cell_id": "00018-400e9395-9dcd-47eb-a639-1e742545f8ed",
    "deepnote_app_coordinates": {
     "h": 5,
     "w": 12,
     "x": 0,
     "y": 108
    },
    "deepnote_cell_height": 97.1875,
    "deepnote_cell_type": "markdown",
    "tags": []
   },
   "source": [
    "And just as we suspected, there is no intersection between the two sets. This can happen due to how the underlying algorithm works: some stable states are detected first, and more complex attractors are detected afterwards. However, since there are no intersections between these two sets, we can unify them and consider them as one attractor. \n",
    "\n",
    "Now, to better understand what is happening in this attractor, we can classify the colors based on their long-term behavioural characteristics (this can also take a few second to compute):"
   ]
  },
  {
   "cell_type": "code",
   "execution_count": 8,
   "metadata": {
    "cell_id": "00019-f365985f-aad1-4fbe-a885-9f4f0801a2fa",
    "deepnote_app_coordinates": {
     "h": 5,
     "w": 12,
     "x": 0,
     "y": 114
    },
    "deepnote_cell_height": 191.390625,
    "deepnote_cell_type": "code",
    "deepnote_output_heights": [
     40.390625
    ],
    "deepnote_to_be_reexecuted": false,
    "execution_millis": 10252,
    "execution_start": 1647976307694,
    "source_hash": "52d0f17",
    "tags": []
   },
   "outputs": [
    {
     "data": {
      "text/plain": [
       "{Class([\"disorder\"]): ColorSet(cardinality=6144, symbolic_size=4),\n",
       " Class([\"stability\"]): ColorSet(cardinality=2048, symbolic_size=4)}"
      ]
     },
     "execution_count": 8,
     "metadata": {},
     "output_type": "execute_result"
    }
   ],
   "source": [
    "classes = Classification.classify_long_term_behavior(stg, attractor)\n",
    "classes"
   ]
  },
  {
   "cell_type": "markdown",
   "metadata": {
    "cell_id": "00020-0eab3d0c-6c9f-4434-801c-9bedc942beea",
    "deepnote_app_coordinates": {
     "h": 5,
     "w": 12,
     "x": 0,
     "y": 120
    },
    "deepnote_cell_height": 74.796875,
    "deepnote_cell_type": "markdown",
    "tags": []
   },
   "source": [
    "In this case, we can see that 2048 colors correspond to a stable state, and 6144 colors correspond to a disordered attractor (i.e. an attractor that is neither a stable state nor a cycle). In this case, we have no oscillating (cyclic) attractors. \n",
    "\n",
    "We can now use these classes to divide the `attractor` set based on its behaviour:"
   ]
  },
  {
   "cell_type": "code",
   "execution_count": 9,
   "metadata": {
    "cell_id": "00021-167a83d3-e88f-4a80-a79e-b387167cb8d9",
    "deepnote_app_coordinates": {
     "h": 5,
     "w": 12,
     "x": 0,
     "y": 126
    },
    "deepnote_cell_height": 203.390625,
    "deepnote_cell_type": "code",
    "deepnote_to_be_reexecuted": false,
    "execution_millis": 100,
    "execution_start": 1647976317992,
    "source_hash": "4ee7a226",
    "tags": []
   },
   "outputs": [
    {
     "name": "stdout",
     "output_type": "stream",
     "text": [
      "ColoredVertexSet(cardinality=2048, symbolic_size=281)\n",
      "ColoredVertexSet(cardinality=867734323007488, symbolic_size=5670)\n"
     ]
    }
   ],
   "source": [
    "stable_attractor = attractor.intersect_colors(classes[Class(\"stability\")])\n",
    "disordered_attractor = attractor.intersect_colors(classes[Class(\"disorder\")])\n",
    "\n",
    "print(stable_attractor)\n",
    "print(disordered_attractor)"
   ]
  },
  {
   "cell_type": "markdown",
   "metadata": {
    "cell_id": "00022-a08a7888-0c65-4f58-920e-0eec415b4bb8",
    "deepnote_app_coordinates": {
     "h": 5,
     "w": 12,
     "x": 0,
     "y": 132
    },
    "deepnote_cell_height": 52.390625,
    "deepnote_cell_type": "markdown",
    "tags": []
   },
   "source": [
    "To obtain some useful information from these sets, we can for example look at the possible values of specific network variables within each set. In this model, there is a variable called `sporulation` that is of particular interest, since it signifias that the cell is \"hybernating\". \n",
    "\n",
    "To study whether sporulation is on or off in the possible attractors, we can simply construct the set of all states where sporulation is on, and then compare it to the attractor sets:"
   ]
  },
  {
   "cell_type": "code",
   "execution_count": 10,
   "metadata": {
    "cell_id": "00023-ada43388-bf43-4427-ac09-9c8a98e20a68",
    "deepnote_app_coordinates": {
     "h": 5,
     "w": 12,
     "x": 0,
     "y": 138
    },
    "deepnote_cell_height": 462.171875,
    "deepnote_cell_type": "code",
    "deepnote_to_be_reexecuted": false,
    "execution_millis": 9,
    "execution_start": 1647976318083,
    "source_hash": "f92113f8",
    "tags": []
   },
   "outputs": [
    {
     "name": "stdout",
     "output_type": "stream",
     "text": [
      "Sporulation is ON in 2048 stable states.\n",
      "Sporulation is OFF in 0 stable states.\n",
      "Sporulation is ON in 100.0 % of stable attractor states.\n",
      "Sporulation is ON in 335223420223488 disorder states.\n",
      "Sporulation is OFF in 532510902784000 disorder states.\n",
      "Sporulation is ON in 38.63 % of disordered attractor states.\n"
     ]
    }
   ],
   "source": [
    "sporulation_on = stg.mk_subspace({ \"sporulation\": True })\n",
    "\n",
    "on_in_stable_attractor = stable_attractor.intersect(sporulation_on).vertices().cardinality()\n",
    "off_in_stable_attractor = stable_attractor.minus(sporulation_on).vertices().cardinality()\n",
    "\n",
    "print(\"Sporulation is ON in\", on_in_stable_attractor, \"stable states.\")\n",
    "print(\"Sporulation is OFF in\", off_in_stable_attractor, \"stable states.\")\n",
    "print(\"Sporulation is ON in\", round((on_in_stable_attractor / (on_in_stable_attractor + off_in_stable_attractor)) * 100.0, 2), \"% of stable attractor states.\")\n",
    "\n",
    "on_in_disorder_attractor = disordered_attractor.intersect(sporulation_on).vertices().cardinality()\n",
    "off_in_disorder_attractor = disordered_attractor.minus(sporulation_on).vertices().cardinality()\n",
    "\n",
    "print(\"Sporulation is ON in\", on_in_disorder_attractor, \"disorder states.\")\n",
    "print(\"Sporulation is OFF in\", off_in_disorder_attractor, \"disorder states.\")\n",
    "print(\"Sporulation is ON in\", round((on_in_disorder_attractor / (on_in_disorder_attractor + off_in_disorder_attractor)) * 100.0, 2), \"% of disordered attractor states.\")"
   ]
  },
  {
   "cell_type": "markdown",
   "metadata": {
    "cell_id": "00024-eaac833a-bc68-4216-92fe-246e2546e651",
    "deepnote_app_coordinates": {
     "h": 5,
     "w": 12,
     "x": 0,
     "y": 144
    },
    "deepnote_cell_height": 74.796875,
    "deepnote_cell_type": "markdown",
    "tags": []
   },
   "source": [
    "Interestingly, we have discovered that in every stable state, `sporulation` is active. We can thus use this fact to pick a witness network which guarantees that eventually, `sporulation` will always be active in a stable attractor. \n",
    "\n",
    "This witness network is completely specified (i.e. has no parameters or uninterpreted functions). In other words, all of the explicit and implicit parameters are fixed to guarantee the desired behaviour:"
   ]
  },
  {
   "cell_type": "code",
   "execution_count": 11,
   "metadata": {
    "cell_id": "00025-57239e8c-7c42-4f7c-97df-b312b625f165",
    "deepnote_app_coordinates": {
     "h": 5,
     "w": 12,
     "x": 0,
     "y": 150
    },
    "deepnote_cell_height": 136.1875,
    "deepnote_cell_type": "code",
    "deepnote_output_heights": [
     21.1875
    ],
    "deepnote_to_be_reexecuted": false,
    "execution_millis": 9,
    "execution_start": 1647976318084,
    "source_hash": "d7a325e7",
    "tags": []
   },
   "outputs": [
    {
     "name": "stdout",
     "output_type": "stream",
     "text": [
      "Number of explicit parameters: 0.\n",
      "Number of implicit parameters: 0.\n"
     ]
    }
   ],
   "source": [
    "# One color from the color set:\n",
    "color_model = next(iter(classes[Class(\"stability\")]))\n",
    "witness = color_model.instantiate(model)\n",
    "\n",
    "print(f\"Number of explicit parameters: {witness.explicit_parameter_count()}.\")\n",
    "print(f\"Number of implicit parameters: {witness.implicit_parameter_count()}.\")"
   ]
  },
  {
   "cell_type": "markdown",
   "metadata": {
    "cell_id": "00026-7bb05833-ec0c-4a42-82b6-d592eb9ddd05",
    "deepnote_app_coordinates": {
     "h": 5,
     "w": 12,
     "x": 0,
     "y": 156
    },
    "deepnote_cell_height": 88.796875,
    "deepnote_cell_type": "markdown",
    "tags": []
   },
   "source": [
    "Finally, since computing the attractors can take a long time, it may be necessary to save them into a file for further processing. For this, we can export the underlying BDD representation:"
   ]
  },
  {
   "cell_type": "code",
   "execution_count": 12,
   "metadata": {
    "cell_id": "00027-4ab2af98-e712-4d0a-977d-d31a03e4bb13",
    "deepnote_app_coordinates": {
     "h": 5,
     "w": 12,
     "x": 0,
     "y": 162
    },
    "deepnote_cell_height": 136.1875,
    "deepnote_cell_type": "code",
    "deepnote_output_heights": [
     21.1875
    ],
    "deepnote_to_be_reexecuted": false,
    "execution_millis": 24,
    "execution_start": 1647976318093,
    "source_hash": "a088e395",
    "tags": []
   },
   "outputs": [
    {
     "data": {
      "text/plain": [
       "62415"
      ]
     },
     "execution_count": 12,
     "metadata": {},
     "output_type": "execute_result"
    }
   ],
   "source": [
    "Path(\"stable_attractor.bdd\").write_text(stable_attractor.to_bdd().data_string())\n",
    "Path(\"disordered_attractor.bdd\").write_text(disordered_attractor.to_bdd().data_string())"
   ]
  },
  {
   "cell_type": "markdown",
   "metadata": {},
   "source": [
    "Or we can use `pickle`:"
   ]
  },
  {
   "cell_type": "code",
   "execution_count": 13,
   "metadata": {},
   "outputs": [],
   "source": [
    "import pickle\n",
    "with open(\"stable_attractors.bdd.pickle\", \"wb\") as f:\n",
    "    pickle.dump(stable_attractor.to_bdd(), f)\n",
    "with open(\"disordered_attractor.bdd.pickle\", \"wb\") as f:\n",
    "    pickle.dump(disordered_attractor.to_bdd(), f)"
   ]
  },
  {
   "cell_type": "markdown",
   "metadata": {
    "cell_id": "00028-0a59ba2b-03c1-4686-9392-2b2484d58768",
    "deepnote_app_coordinates": {
     "h": 5,
     "w": 12,
     "x": 0,
     "y": 168
    },
    "deepnote_cell_height": 74.796875,
    "deepnote_cell_type": "markdown",
    "tags": []
   },
   "source": [
    "With the BDDs saved, we can always reload them from disk. However, remeber that the BDD does not contain any information about the Boolean network from which it was constructed! So you must make sure that you only import BDDs that were created using the same Boolean model. Ideally, always save an `.aeon` or `.sbml` file along with any raw BDD data."
   ]
  },
  {
   "cell_type": "code",
   "execution_count": 14,
   "metadata": {
    "cell_id": "00029-0a4cb41e-fc60-4843-8be9-17c58a337729",
    "deepnote_app_coordinates": {
     "h": 5,
     "w": 12,
     "x": 0,
     "y": 174
    },
    "deepnote_cell_height": 203.390625,
    "deepnote_cell_type": "code",
    "deepnote_to_be_reexecuted": false,
    "execution_millis": 40,
    "execution_start": 1647976318109,
    "source_hash": "8a499033",
    "tags": []
   },
   "outputs": [
    {
     "name": "stdout",
     "output_type": "stream",
     "text": [
      "ColoredVertexSet(cardinality=2048, symbolic_size=281)\n",
      "ColoredVertexSet(cardinality=867734323007488, symbolic_size=5670)\n"
     ]
    }
   ],
   "source": [
    "network_context = stg.symbolic_context()\n",
    "bdd_context = network_context.bdd_variable_set()\n",
    "\n",
    "stable_reloaded = ColoredVertexSet(network_context, Bdd(bdd_context, Path(\"stable_attractor.bdd\").read_text()))\n",
    "disordered_reloaded = ColoredVertexSet(network_context, Bdd(bdd_context, Path(\"disordered_attractor.bdd\").read_text()))\n",
    "\n",
    "print(stable_reloaded)\n",
    "print(disordered_reloaded)\n",
    "\n",
    "assert stable_reloaded == stable_attractor\n",
    "assert disordered_reloaded == disordered_attractor"
   ]
  },
  {
   "cell_type": "markdown",
   "metadata": {
    "cell_id": "00030-011824d9-8a64-46a5-8683-943f8680bf12",
    "deepnote_app_coordinates": {
     "h": 5,
     "w": 12,
     "x": 0,
     "y": 180
    },
    "deepnote_cell_height": 111.1875,
    "deepnote_cell_type": "markdown",
    "tags": []
   },
   "source": [
    "As we can see, the sets are the same as the ones that we saved into the files.\n",
    "\n",
    "Finally, let us quickly note that using AEON, you can also compute reachability from/to a specific symbolic set. Furthermore, you can specify a subset within which the reachability should be computed. Using this mechanism, you can often build more complex analysis techniques. For example, you can analyse the strong and weak basin of a particular attractor, or check for reachable attractors from a specific initial state."
   ]
  },
  {
   "cell_type": "code",
   "execution_count": 15,
   "metadata": {
    "cell_id": "00031-1f68d1ca-0d56-4e88-969b-aecefbb72573",
    "deepnote_app_coordinates": {
     "h": 5,
     "w": 12,
     "x": 0,
     "y": 186
    },
    "deepnote_cell_height": 281.578125,
    "deepnote_cell_type": "code",
    "deepnote_to_be_reexecuted": false,
    "execution_millis": 20,
    "execution_start": 1647976318694,
    "source_hash": "ad8be8f8",
    "tags": []
   },
   "outputs": [
    {
     "name": "stdout",
     "output_type": "stream",
     "text": [
      "Vertex [False, False, False, False, False, False, False, False, False, False, False, False, False, False, False, False, False, False, False, False, False, False, False, False, False, False, False, False, False, False, False, False, False, False, False, False, False, False, False, False, False, False, False, False, False, False, False, False, False, False, False, False, False, False, False, False, False, False, False, False, False, False, False, False, False, False]\n",
      "Basin ColoredVertexSet(cardinality=11558771119839541985280, symbolic_size=101)\n",
      "Start basic symbolic reachability with 8192[nodes:68] candidates.\n",
      "SCC ColoredVertexSet(cardinality=8192, symbolic_size=68)\n",
      "Basic reachability done: 11558771119839542000000[nodes:101] candidates. Max intermediate size: 441.\n",
      "Start basic symbolic reachability with 8192[nodes:68] candidates.\n",
      "Basic reachability done: 44364707639821350000[nodes:28057] candidates. Max intermediate size: 43163.\n"
     ]
    }
   ],
   "source": [
    "# Pick a set containing a single arbitrary vertex from the whole state space:\n",
    "vertex = stg.mk_unit_colored_vertices().pick_vertex()\n",
    "\n",
    "# The actual vertex is just a list of Boolean values.\n",
    "print(\"Vertex\", next(iter(vertex.vertices())).values())\n",
    "\n",
    "# Compute the set of states backward-reachable from the vertex.\n",
    "basin = Reachability.reach_bwd(stg, vertex)\n",
    "print(\"Basin\", basin)\n",
    "\n",
    "# Compute the strongly-connected-component in which the vertex resides.\n",
    "scc = Reachability.reach_fwd(stg, vertex).intersect(basin)\n",
    "print(\"SCC\", scc)"
   ]
  },
  {
   "cell_type": "markdown",
   "metadata": {
    "cell_id": "00032-054bd497-350c-4394-8b43-9107eb225f9a",
    "deepnote_app_coordinates": {
     "h": 5,
     "w": 12,
     "x": 0,
     "y": 192
    },
    "deepnote_cell_height": 88.796875,
    "deepnote_cell_type": "markdown",
    "tags": []
   },
   "source": [
    "For example, for an initial state where all variables are inactive, we can see that its (weak) basin is quite large, but the vertex is in fact a trivial SCC (the whole strongly connected component consists only of one vertex, regardless of color). \n",
    "\n",
    "\n",
    "So far, this is the end of our demo. In case of any issues, feel free to contact us on [github](https://github.com/sybila/biodivine-aeon-py)! \n",
    "\n",
    "To learn more about what features and functions are available in AEON.py, you can follow the tuturial on [partially specified Boolean networks](./bn_tutorial.ipynb) and [symbolic computation using BDDs](bdd_tutorial.ipynb). Further tutorials, examples and case studies are available in the [AEON.py repository](https://github.com/sybila/biodivine-aeon-py/tree/main/example). API documentation is also available [here](https://biodivine.fi.muni.cz/docs/aeon-py/latest/)."
   ]
  },
  {
   "cell_type": "code",
   "execution_count": null,
   "metadata": {},
   "outputs": [],
   "source": []
  }
 ],
 "metadata": {
  "deepnote": {
   "is_reactive": false
  },
  "deepnote_app_layout": "article",
  "deepnote_execution_queue": [],
  "deepnote_notebook_id": "5e1b49af-a979-402a-8868-c29943f057c5",
  "kernelspec": {
   "display_name": "Python 3 (ipykernel)",
   "language": "python",
   "name": "python3"
  },
  "language_info": {
   "codemirror_mode": {
    "name": "ipython",
    "version": 3
   },
   "file_extension": ".py",
   "mimetype": "text/x-python",
   "name": "python",
   "nbconvert_exporter": "python",
   "pygments_lexer": "ipython3",
   "version": "3.11.8"
  }
 },
 "nbformat": 4,
 "nbformat_minor": 4
}
