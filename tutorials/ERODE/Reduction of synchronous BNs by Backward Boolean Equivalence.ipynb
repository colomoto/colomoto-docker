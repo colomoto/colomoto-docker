{
 "cells": [
  {
   "cell_type": "markdown",
   "id": "1d300b38",
   "metadata": {},
   "source": [
    "ERODE enable reducing synchronous Boolean networks subject by grouping variables that, if initialized equally, are always updated equally. The resulting reduced state space is a subset of the original one, restricted to identical initialization of grouped variables. The corresponding trajectories of the original BN can be exactly restored.\n",
    "\n",
    "See the papers [Reducing Boolean Networks with Backward Boolean Equivalence](https://doi.org/10.1007/978-3-030-85633-5_1) and [An Extension of ERODE to Reduce Boolean Networks By Backward Boolean Equivalence](https://doi.org/10.1007/978-3-031-15034-0_16) by Argyris et al.\n",
    "\n",
    "The method can be applied to partially asynchronous dynamics by constraining the input partition of the reduction algorithm. This will appear soon to a journal extension of the previous article."
   ]
  },
  {
   "cell_type": "code",
   "execution_count": 1,
   "id": "160b4243",
   "metadata": {},
   "outputs": [],
   "source": [
    "#!pip install erode-python # uncomment if outside Docker\n",
    "import erode"
   ]
  },
  {
   "cell_type": "markdown",
   "id": "44af124c",
   "metadata": {},
   "source": [
    "## Basic usage"
   ]
  },
  {
   "cell_type": "markdown",
   "id": "1086f1f2",
   "metadata": {},
   "source": [
    "The `erode` Python models provides a `bbe_reduction` function which performs the reduction on a given Boolean network, specified either as a BoolNet file (`.bnet` extension), a `minibn.BooleanNetwork` object or any input supported by it, which includes `biolqm` or `ginsim` Python objects, and simple Python dictionnary objects.\n",
    "\n",
    "Options `usermode` and `initial_partition` can be employed to control the reduction. By default, the maximal reduction is performed."
   ]
  },
  {
   "cell_type": "code",
   "execution_count": 2,
   "id": "a5f4364c",
   "metadata": {},
   "outputs": [
    {
     "name": "stdout",
     "output_type": "stream",
     "text": [
      "Help on function bbe_reduction in module erode:\n",
      "\n",
      "bbe_reduction(model, output_bnet=None, usermode=None, initial_partition=None)\n",
      "    Computes the Backward Boolean Equivalence reduction of the given Boolean networks\n",
      "    specified by `model`.\n",
      "    \n",
      "    Returns a :py:class:`colomoto.minibn.BooleanNetwork` object of the reduced\n",
      "    model, unless `output_bnet` is supplied. In this case, the reduced model is\n",
      "    written to the filename `output_bnet`, and nothing is returned.\n",
      "    \n",
      "    :param model: Boolean network model\n",
      "    :type model: filename in BoolNet format (`\".bnet\"`) or object of type\n",
      "        :py:class:`colomoto.minibn.BooleanNetwork` or any type accepted by\n",
      "        :py:class:`colomoto.minibn.BooleanNetwork` constructor\n",
      "    :param str output_bnet: Filename for BoolNet export of the reduced model\n",
      "    :param str usermode: predefined initial partition\n",
      "        - `\"INPUTS\"`: every input  variable is isolated in a singleton block (plus one block for the other variables)\n",
      "        - `\"OUTPUTS\"`: every output variable is isolated in a singleton block (plus one block for the other variables)\n",
      "        - `\"INPUTSONEBLOCK\"`:all input  variables are in the same block (plus one block for the other variables)\n",
      "        - `\"OUTPUTSONEBLOCK\"`: all output variables are in the same block (plus one block for the other variables)\n",
      "    :param dict[str,int] initial_partition: initial partition of the species.\n",
      "       The dictionnary must map each species of the model to a block identifier.\n",
      "\n"
     ]
    }
   ],
   "source": [
    "help(erode.bbe_reduction)"
   ]
  },
  {
   "cell_type": "markdown",
   "id": "f5ada9e6",
   "metadata": {},
   "source": [
    "### Simple example using minibn"
   ]
  },
  {
   "cell_type": "code",
   "execution_count": 3,
   "id": "becf2f3d",
   "metadata": {},
   "outputs": [],
   "source": [
    "from colomoto import minibn"
   ]
  },
  {
   "cell_type": "code",
   "execution_count": 4,
   "id": "3e03f2e5",
   "metadata": {},
   "outputs": [
    {
     "data": {
      "text/plain": [
       "x1 <- !x3|x1\n",
       "x2 <- x1|x2|!x3\n",
       "x3 <- x2&!x3"
      ]
     },
     "execution_count": 4,
     "metadata": {},
     "output_type": "execute_result"
    }
   ],
   "source": [
    "f = minibn.BooleanNetwork({\n",
    "    \"x1\": \"!x3 | x1\",\n",
    "    \"x2\": \"x1 | x2 | !x3\",\n",
    "    \"x3\": \"x2 & !x3\"\n",
    "})\n",
    "f"
   ]
  },
  {
   "cell_type": "code",
   "execution_count": 5,
   "id": "ddad1595",
   "metadata": {},
   "outputs": [
    {
     "data": {
      "text/plain": [
       "x1 <- !x3|x1\n",
       "x3 <- x1&!x3"
      ]
     },
     "execution_count": 5,
     "metadata": {},
     "output_type": "execute_result"
    }
   ],
   "source": [
    "f_bbe = erode.bbe_reduction(f)\n",
    "f_bbe"
   ]
  },
  {
   "cell_type": "markdown",
   "id": "8d3a7873",
   "metadata": {},
   "source": [
    "### Simple example using BoolNet files"
   ]
  },
  {
   "cell_type": "code",
   "execution_count": 6,
   "id": "15dd8f03",
   "metadata": {},
   "outputs": [
    {
     "name": "stdout",
     "output_type": "stream",
     "text": [
      "# model in BoolNet format\r\n",
      "# the header targets, factors is mandatory to be importable in the R package BoolNet\r\n",
      "\r\n",
      "targets, factors\r\n",
      "Ap,    1\r\n",
      "Ap2,   0\r\n",
      "Dl,    !Ap&N\r\n",
      "Dl2,   !Ap2&N2\r\n",
      "Fng,   Ap\r\n",
      "Fng2,  Ap2\r\n",
      "N,     !Fng&Ser2 | Fng&Dl2\r\n",
      "N2,    !Dl&Ser&!Fng2 | Dl&!Ser&Fng2 | Dl&Ser\r\n",
      "Ser,   Ap\r\n",
      "Ser2,  Ap2\r\n"
     ]
    }
   ],
   "source": [
    "%cat ap-1_else-0_wt.bnet"
   ]
  },
  {
   "cell_type": "code",
   "execution_count": 7,
   "id": "74fa3a54",
   "metadata": {},
   "outputs": [
    {
     "name": "stdout",
     "output_type": "stream",
     "text": [
      "# model in BoolNet format\r\n",
      "# the header targets, factors is mandatory to be importable in the R package BoolNet\r\n",
      "\r\n",
      "targets, factors\r\n",
      "Ap, true\r\n",
      "Ap2, false\r\n",
      "Dl, (!Ap&N)\r\n",
      "Dl2, (!Ap2&N2)\r\n",
      "Fng, Ap\r\n",
      "Fng2, Ap2\r\n",
      "N, ((!Fng&Fng2) | (Fng&Dl2))\r\n",
      "N2, ((((!Dl&Fng)&!Fng2) | ((Dl&!Fng)&Fng2)) | (Dl&Fng))\r\n"
     ]
    }
   ],
   "source": [
    "erode.bbe_reduction(\"ap-1_else-0_wt.bnet\", \"ap-1_else-0_wt_BBE.bnet\")\n",
    "%cat ap-1_else-0_wt_BBE.bnet"
   ]
  },
  {
   "cell_type": "markdown",
   "id": "935eaecf",
   "metadata": {},
   "source": [
    "### Case study Ι\n",
    "\n",
    "On a larger model imported from GINsim, we use BNS (https://people.kth.se/~dubrova/BNS/user_manual.html) using the [`bns` Python module](https://github.com/colomoto/bns-python/) for the computation of synchronous attractors in the original and reduced model."
   ]
  },
  {
   "cell_type": "code",
   "execution_count": 8,
   "id": "732748c1",
   "metadata": {},
   "outputs": [],
   "source": [
    "import ginsim\n",
    "import bns\n",
    "import biolqm\n",
    "from colomoto_jupyter import tabulate"
   ]
  },
  {
   "cell_type": "code",
   "execution_count": 9,
   "id": "ea515a14",
   "metadata": {},
   "outputs": [
    {
     "data": {
      "text/html": [
       "Using local file <a href='TCRsig40.zginml' target='_blank'>TCRsig40.zginml</a><br>"
      ],
      "text/plain": [
       "/notebook/tutorials/ERODE/TCRsig40.zginml"
      ]
     },
     "metadata": {},
     "output_type": "display_data"
    },
    {
     "data": {
      "text/html": [
       "<img class=\"unconfined\" width=\"502px\" src=\"data:image/svg+xml;base64,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\">"
      ],
      "text/plain": [
       "<IPython.core.display.HTML object>"
      ]
     },
     "execution_count": 9,
     "metadata": {},
     "output_type": "execute_result"
    }
   ],
   "source": [
    "tcr40_ginsim = ginsim.load(\"http://ginsim.org/sites/default/files/TCRsig40.zginml\")\n",
    "ginsim.show(tcr40_ginsim)"
   ]
  },
  {
   "cell_type": "code",
   "execution_count": 10,
   "id": "ef812b11",
   "metadata": {},
   "outputs": [
    {
     "data": {
      "text/plain": [
       "29"
      ]
     },
     "execution_count": 10,
     "metadata": {},
     "output_type": "execute_result"
    }
   ],
   "source": [
    "tcr40_red = erode.bbe_reduction(tcr40_ginsim)\n",
    "len(tcr40_red)"
   ]
  },
  {
   "cell_type": "code",
   "execution_count": 11,
   "id": "green-report",
   "metadata": {},
   "outputs": [
    {
     "data": {
      "text/plain": [
       "AP1 <- Fos&Jun\n",
       "CD45 <- CD45\n",
       "CRE <- CREB\n",
       "CREB <- Fos\n",
       "Ca <- DAG\n",
       "Calcin <- Ca\n",
       "DAG <- PLCg_a\n",
       "ERK <- MEK\n",
       "Fos <- ERK\n",
       "Fyn <- ((CD45&!TCRbind)&LCK)|(CD45&TCRbind)\n",
       "Gads <- LAT\n",
       "IkB <- !Calcin\n",
       "Itk <- ZAP70&Slp76\n",
       "JNK <- Calcin\n",
       "Jun <- JNK\n",
       "LAT <- ZAP70\n",
       "LCK <- (CD45&CD45)&!PAGCsk\n",
       "MEK <- Raf\n",
       "NFkB <- !IkB\n",
       "PAGCsk <- !TCRbind\n",
       "PLCg_a <- ((((!Rlk&ZAP70)&Itk)&Slp76)&Gads)|(((Rlk&ZAP70)&Slp76)&Gads)\n",
       "Raf <- Ras\n",
       "Ras <- Gads&RasGRP1\n",
       "RasGRP1 <- DAG&Ca\n",
       "Rlk <- LCK\n",
       "Slp76 <- Gads\n",
       "TCRbind <- CD45&!LAT\n",
       "TCRphos <- ((!TCRbind&Fyn)|((TCRbind&!LCK)&Fyn))|(TCRbind&LCK)\n",
       "ZAP70 <- (LCK&!LAT)&TCRphos"
      ]
     },
     "execution_count": 11,
     "metadata": {},
     "output_type": "execute_result"
    }
   ],
   "source": [
    "tcr40_red"
   ]
  },
  {
   "cell_type": "code",
   "execution_count": 12,
   "id": "642537f5",
   "metadata": {
    "scrolled": false
   },
   "outputs": [
    {
     "name": "stdout",
     "output_type": "stream",
     "text": [
      "# computing graph layout...\n"
     ]
    },
    {
     "data": {
      "image/svg+xml": [
       "<?xml version=\"1.0\" encoding=\"UTF-8\" standalone=\"no\"?>\n",
       "<!DOCTYPE svg PUBLIC \"-//W3C//DTD SVG 1.1//EN\"\n",
       " \"http://www.w3.org/Graphics/SVG/1.1/DTD/svg11.dtd\">\n",
       "<!-- Generated by graphviz version 3.0.0 (20220315.2325)\n",
       " -->\n",
       "<!-- Pages: 1 -->\n",
       "<svg width=\"690pt\" height=\"1457pt\"\n",
       " viewBox=\"0.00 0.00 690.05 1457.00\" xmlns=\"http://www.w3.org/2000/svg\" xmlns:xlink=\"http://www.w3.org/1999/xlink\">\n",
       "<g id=\"graph0\" class=\"graph\" transform=\"scale(1 1) rotate(0) translate(4 1453)\">\n",
       "<polygon fill=\"white\" stroke=\"transparent\" points=\"-4,4 -4,-1453 686.05,-1453 686.05,4 -4,4\"/>\n",
       "<!-- AP1 -->\n",
       "<g id=\"node1\" class=\"node\">\n",
       "<title>AP1</title>\n",
       "<ellipse fill=\"none\" stroke=\"black\" cx=\"111.05\" cy=\"-105\" rx=\"29.5\" ry=\"18\"/>\n",
       "<text text-anchor=\"middle\" x=\"111.05\" y=\"-101.3\" font-family=\"Times,serif\" font-size=\"14.00\">AP1</text>\n",
       "</g>\n",
       "<!-- CD45 -->\n",
       "<g id=\"node2\" class=\"node\">\n",
       "<title>CD45</title>\n",
       "<ellipse fill=\"none\" stroke=\"black\" cx=\"432.05\" cy=\"-1344\" rx=\"36.29\" ry=\"18\"/>\n",
       "<text text-anchor=\"middle\" x=\"432.05\" y=\"-1340.3\" font-family=\"Times,serif\" font-size=\"14.00\">CD45</text>\n",
       "</g>\n",
       "<!-- CD45&#45;&gt;CD45 -->\n",
       "<g id=\"edge1\" class=\"edge\">\n",
       "<title>CD45&#45;&gt;CD45</title>\n",
       "<path fill=\"none\" stroke=\"black\" d=\"M464.98,-1351.87C476.8,-1352.04 486.44,-1349.41 486.44,-1344 486.44,-1340.28 481.89,-1337.88 475.2,-1336.79\"/>\n",
       "<polygon fill=\"black\" stroke=\"black\" points=\"475.18,-1333.28 464.98,-1336.13 474.73,-1340.27 475.18,-1333.28\"/>\n",
       "<text text-anchor=\"middle\" x=\"492.94\" y=\"-1340.3\" font-family=\"Times,serif\" font-size=\"14.00\">+</text>\n",
       "</g>\n",
       "<!-- Fyn -->\n",
       "<g id=\"node10\" class=\"node\">\n",
       "<title>Fyn</title>\n",
       "<ellipse fill=\"none\" stroke=\"black\" cx=\"410.05\" cy=\"-996\" rx=\"28.7\" ry=\"18\"/>\n",
       "<text text-anchor=\"middle\" x=\"410.05\" y=\"-992.3\" font-family=\"Times,serif\" font-size=\"14.00\">Fyn</text>\n",
       "</g>\n",
       "<!-- CD45&#45;&gt;Fyn -->\n",
       "<g id=\"edge2\" class=\"edge\">\n",
       "<title>CD45&#45;&gt;Fyn</title>\n",
       "<path fill=\"none\" stroke=\"black\" d=\"M432.05,-1325.74C432.05,-1308.57 432.05,-1281.46 432.05,-1258 432.05,-1258 432.05,-1258 432.05,-1082 432.05,-1061.8 426.15,-1039.74 420.47,-1023.16\"/>\n",
       "<polygon fill=\"black\" stroke=\"black\" points=\"423.7,-1021.82 417.01,-1013.61 417.12,-1024.2 423.7,-1021.82\"/>\n",
       "<text text-anchor=\"middle\" x=\"438.55\" y=\"-1166.3\" font-family=\"Times,serif\" font-size=\"14.00\">+</text>\n",
       "</g>\n",
       "<!-- LCK -->\n",
       "<g id=\"node17\" class=\"node\">\n",
       "<title>LCK</title>\n",
       "<ellipse fill=\"none\" stroke=\"black\" cx=\"547.05\" cy=\"-1083\" rx=\"30.59\" ry=\"18\"/>\n",
       "<text text-anchor=\"middle\" x=\"547.05\" y=\"-1079.3\" font-family=\"Times,serif\" font-size=\"14.00\">LCK</text>\n",
       "</g>\n",
       "<!-- CD45&#45;&gt;LCK -->\n",
       "<g id=\"edge4\" class=\"edge\">\n",
       "<title>CD45&#45;&gt;LCK</title>\n",
       "<path fill=\"none\" stroke=\"black\" d=\"M451.19,-1328.68C482.36,-1304.02 542.9,-1250.17 566.05,-1188 575.56,-1162.46 567.64,-1131.56 559.32,-1110.11\"/>\n",
       "<polygon fill=\"black\" stroke=\"black\" points=\"562.47,-1108.58 555.4,-1100.69 556.01,-1111.26 562.47,-1108.58\"/>\n",
       "<text text-anchor=\"middle\" x=\"563.55\" y=\"-1209.8\" font-family=\"Times,serif\" font-size=\"14.00\">+</text>\n",
       "</g>\n",
       "<!-- TCRbind -->\n",
       "<g id=\"node27\" class=\"node\">\n",
       "<title>TCRbind</title>\n",
       "<ellipse fill=\"none\" stroke=\"black\" cx=\"350.05\" cy=\"-1257\" rx=\"50.89\" ry=\"18\"/>\n",
       "<text text-anchor=\"middle\" x=\"350.05\" y=\"-1253.3\" font-family=\"Times,serif\" font-size=\"14.00\">TCRbind</text>\n",
       "</g>\n",
       "<!-- CD45&#45;&gt;TCRbind -->\n",
       "<g id=\"edge3\" class=\"edge\">\n",
       "<title>CD45&#45;&gt;TCRbind</title>\n",
       "<path fill=\"none\" stroke=\"black\" d=\"M417.01,-1327.41C404.64,-1314.59 386.93,-1296.23 372.83,-1281.61\"/>\n",
       "<polygon fill=\"black\" stroke=\"black\" points=\"375.29,-1279.13 365.83,-1274.36 370.25,-1283.99 375.29,-1279.13\"/>\n",
       "<text text-anchor=\"middle\" x=\"401.55\" y=\"-1296.8\" font-family=\"Times,serif\" font-size=\"14.00\">+</text>\n",
       "</g>\n",
       "<!-- CRE -->\n",
       "<g id=\"node3\" class=\"node\">\n",
       "<title>CRE</title>\n",
       "<ellipse fill=\"none\" stroke=\"black\" cx=\"197.05\" cy=\"-18\" rx=\"31.4\" ry=\"18\"/>\n",
       "<text text-anchor=\"middle\" x=\"197.05\" y=\"-14.3\" font-family=\"Times,serif\" font-size=\"14.00\">CRE</text>\n",
       "</g>\n",
       "<!-- CREB -->\n",
       "<g id=\"node4\" class=\"node\">\n",
       "<title>CREB</title>\n",
       "<ellipse fill=\"none\" stroke=\"black\" cx=\"197.05\" cy=\"-105\" rx=\"38.19\" ry=\"18\"/>\n",
       "<text text-anchor=\"middle\" x=\"197.05\" y=\"-101.3\" font-family=\"Times,serif\" font-size=\"14.00\">CREB</text>\n",
       "</g>\n",
       "<!-- CREB&#45;&gt;CRE -->\n",
       "<g id=\"edge5\" class=\"edge\">\n",
       "<title>CREB&#45;&gt;CRE</title>\n",
       "<path fill=\"none\" stroke=\"black\" d=\"M197.05,-86.8C197.05,-75.16 197.05,-59.55 197.05,-46.24\"/>\n",
       "<polygon fill=\"black\" stroke=\"black\" points=\"200.55,-46.18 197.05,-36.18 193.55,-46.18 200.55,-46.18\"/>\n",
       "<text text-anchor=\"middle\" x=\"203.55\" y=\"-57.8\" font-family=\"Times,serif\" font-size=\"14.00\">+</text>\n",
       "</g>\n",
       "<!-- Ca -->\n",
       "<g id=\"node5\" class=\"node\">\n",
       "<title>Ca</title>\n",
       "<ellipse fill=\"none\" stroke=\"black\" cx=\"113.05\" cy=\"-735\" rx=\"27\" ry=\"18\"/>\n",
       "<text text-anchor=\"middle\" x=\"113.05\" y=\"-731.3\" font-family=\"Times,serif\" font-size=\"14.00\">Ca</text>\n",
       "</g>\n",
       "<!-- Calcin -->\n",
       "<g id=\"node6\" class=\"node\">\n",
       "<title>Calcin</title>\n",
       "<ellipse fill=\"none\" stroke=\"black\" cx=\"64.05\" cy=\"-648\" rx=\"39.79\" ry=\"18\"/>\n",
       "<text text-anchor=\"middle\" x=\"64.05\" y=\"-644.3\" font-family=\"Times,serif\" font-size=\"14.00\">Calcin</text>\n",
       "</g>\n",
       "<!-- Ca&#45;&gt;Calcin -->\n",
       "<g id=\"edge6\" class=\"edge\">\n",
       "<title>Ca&#45;&gt;Calcin</title>\n",
       "<path fill=\"none\" stroke=\"black\" d=\"M103.83,-718.01C96.73,-705.7 86.79,-688.46 78.62,-674.28\"/>\n",
       "<polygon fill=\"black\" stroke=\"black\" points=\"81.58,-672.41 73.56,-665.5 75.52,-675.91 81.58,-672.41\"/>\n",
       "<text text-anchor=\"middle\" x=\"98.55\" y=\"-687.8\" font-family=\"Times,serif\" font-size=\"14.00\">+</text>\n",
       "</g>\n",
       "<!-- RasGRP1 -->\n",
       "<g id=\"node24\" class=\"node\">\n",
       "<title>RasGRP1</title>\n",
       "<ellipse fill=\"none\" stroke=\"black\" cx=\"176.05\" cy=\"-648\" rx=\"53.89\" ry=\"18\"/>\n",
       "<text text-anchor=\"middle\" x=\"176.05\" y=\"-644.3\" font-family=\"Times,serif\" font-size=\"14.00\">RasGRP1</text>\n",
       "</g>\n",
       "<!-- Ca&#45;&gt;RasGRP1 -->\n",
       "<g id=\"edge7\" class=\"edge\">\n",
       "<title>Ca&#45;&gt;RasGRP1</title>\n",
       "<path fill=\"none\" stroke=\"black\" d=\"M124.26,-718.14C131.3,-708.26 140.61,-695.32 149.05,-684 151.5,-680.7 154.12,-677.25 156.71,-673.86\"/>\n",
       "<polygon fill=\"black\" stroke=\"black\" points=\"159.7,-675.71 163.02,-665.65 154.15,-671.44 159.7,-675.71\"/>\n",
       "<text text-anchor=\"middle\" x=\"155.55\" y=\"-687.8\" font-family=\"Times,serif\" font-size=\"14.00\">+</text>\n",
       "</g>\n",
       "<!-- IkB -->\n",
       "<g id=\"node12\" class=\"node\">\n",
       "<title>IkB</title>\n",
       "<ellipse fill=\"none\" stroke=\"black\" cx=\"37.05\" cy=\"-561\" rx=\"27\" ry=\"18\"/>\n",
       "<text text-anchor=\"middle\" x=\"37.05\" y=\"-557.3\" font-family=\"Times,serif\" font-size=\"14.00\">IkB</text>\n",
       "</g>\n",
       "<!-- Calcin&#45;&gt;IkB -->\n",
       "<g id=\"edge8\" class=\"edge\">\n",
       "<title>Calcin&#45;&gt;IkB</title>\n",
       "<path fill=\"none\" stroke=\"black\" d=\"M58.58,-629.8C54.83,-617.97 49.76,-602.03 45.49,-588.58\"/>\n",
       "<polygon fill=\"black\" stroke=\"black\" points=\"48.77,-587.36 42.41,-578.89 42.1,-589.48 48.77,-587.36\"/>\n",
       "<text text-anchor=\"middle\" x=\"55.55\" y=\"-600.8\" font-family=\"Times,serif\" font-size=\"14.00\">&#45;</text>\n",
       "</g>\n",
       "<!-- JNK -->\n",
       "<g id=\"node14\" class=\"node\">\n",
       "<title>JNK</title>\n",
       "<ellipse fill=\"none\" stroke=\"black\" cx=\"111.05\" cy=\"-561\" rx=\"28.7\" ry=\"18\"/>\n",
       "<text text-anchor=\"middle\" x=\"111.05\" y=\"-557.3\" font-family=\"Times,serif\" font-size=\"14.00\">JNK</text>\n",
       "</g>\n",
       "<!-- Calcin&#45;&gt;JNK -->\n",
       "<g id=\"edge9\" class=\"edge\">\n",
       "<title>Calcin&#45;&gt;JNK</title>\n",
       "<path fill=\"none\" stroke=\"black\" d=\"M73.33,-630.21C80.11,-617.94 89.43,-601.1 97.1,-587.22\"/>\n",
       "<polygon fill=\"black\" stroke=\"black\" points=\"100.32,-588.63 102.1,-578.18 94.2,-585.24 100.32,-588.63\"/>\n",
       "<text text-anchor=\"middle\" x=\"97.55\" y=\"-600.8\" font-family=\"Times,serif\" font-size=\"14.00\">+</text>\n",
       "</g>\n",
       "<!-- DAG -->\n",
       "<g id=\"node7\" class=\"node\">\n",
       "<title>DAG</title>\n",
       "<ellipse fill=\"none\" stroke=\"black\" cx=\"170.05\" cy=\"-822\" rx=\"31.7\" ry=\"18\"/>\n",
       "<text text-anchor=\"middle\" x=\"170.05\" y=\"-818.3\" font-family=\"Times,serif\" font-size=\"14.00\">DAG</text>\n",
       "</g>\n",
       "<!-- DAG&#45;&gt;Ca -->\n",
       "<g id=\"edge10\" class=\"edge\">\n",
       "<title>DAG&#45;&gt;Ca</title>\n",
       "<path fill=\"none\" stroke=\"black\" d=\"M159.33,-805.01C150.83,-792.35 138.83,-774.45 129.18,-760.06\"/>\n",
       "<polygon fill=\"black\" stroke=\"black\" points=\"132,-757.99 123.53,-751.63 126.19,-761.88 132,-757.99\"/>\n",
       "<text text-anchor=\"middle\" x=\"150.55\" y=\"-774.8\" font-family=\"Times,serif\" font-size=\"14.00\">+</text>\n",
       "</g>\n",
       "<!-- DAG&#45;&gt;RasGRP1 -->\n",
       "<g id=\"edge11\" class=\"edge\">\n",
       "<title>DAG&#45;&gt;RasGRP1</title>\n",
       "<path fill=\"none\" stroke=\"black\" d=\"M170.64,-803.88C171.69,-774 173.85,-712.11 175.1,-676.27\"/>\n",
       "<polygon fill=\"black\" stroke=\"black\" points=\"178.6,-676.17 175.45,-666.05 171.61,-675.92 178.6,-676.17\"/>\n",
       "<text text-anchor=\"middle\" x=\"179.55\" y=\"-731.3\" font-family=\"Times,serif\" font-size=\"14.00\">+</text>\n",
       "</g>\n",
       "<!-- ERK -->\n",
       "<g id=\"node8\" class=\"node\">\n",
       "<title>ERK</title>\n",
       "<ellipse fill=\"none\" stroke=\"black\" cx=\"191.05\" cy=\"-279\" rx=\"31.4\" ry=\"18\"/>\n",
       "<text text-anchor=\"middle\" x=\"191.05\" y=\"-275.3\" font-family=\"Times,serif\" font-size=\"14.00\">ERK</text>\n",
       "</g>\n",
       "<!-- Fos -->\n",
       "<g id=\"node9\" class=\"node\">\n",
       "<title>Fos</title>\n",
       "<ellipse fill=\"none\" stroke=\"black\" cx=\"191.05\" cy=\"-192\" rx=\"27\" ry=\"18\"/>\n",
       "<text text-anchor=\"middle\" x=\"191.05\" y=\"-188.3\" font-family=\"Times,serif\" font-size=\"14.00\">Fos</text>\n",
       "</g>\n",
       "<!-- ERK&#45;&gt;Fos -->\n",
       "<g id=\"edge12\" class=\"edge\">\n",
       "<title>ERK&#45;&gt;Fos</title>\n",
       "<path fill=\"none\" stroke=\"black\" d=\"M191.05,-260.8C191.05,-249.16 191.05,-233.55 191.05,-220.24\"/>\n",
       "<polygon fill=\"black\" stroke=\"black\" points=\"194.55,-220.18 191.05,-210.18 187.55,-220.18 194.55,-220.18\"/>\n",
       "<text text-anchor=\"middle\" x=\"197.55\" y=\"-231.8\" font-family=\"Times,serif\" font-size=\"14.00\">+</text>\n",
       "</g>\n",
       "<!-- Fos&#45;&gt;AP1 -->\n",
       "<g id=\"edge14\" class=\"edge\">\n",
       "<title>Fos&#45;&gt;AP1</title>\n",
       "<path fill=\"none\" stroke=\"black\" d=\"M177.11,-176.19C164.68,-162.99 146.31,-143.47 132.09,-128.36\"/>\n",
       "<polygon fill=\"black\" stroke=\"black\" points=\"134.49,-125.8 125.09,-120.92 129.4,-130.6 134.49,-125.8\"/>\n",
       "<text text-anchor=\"middle\" x=\"161.55\" y=\"-144.8\" font-family=\"Times,serif\" font-size=\"14.00\">+</text>\n",
       "</g>\n",
       "<!-- Fos&#45;&gt;CREB -->\n",
       "<g id=\"edge13\" class=\"edge\">\n",
       "<title>Fos&#45;&gt;CREB</title>\n",
       "<path fill=\"none\" stroke=\"black\" d=\"M192.26,-173.8C193.08,-162.16 194.18,-146.55 195.12,-133.24\"/>\n",
       "<polygon fill=\"black\" stroke=\"black\" points=\"198.62,-133.4 195.83,-123.18 191.64,-132.9 198.62,-133.4\"/>\n",
       "<text text-anchor=\"middle\" x=\"200.55\" y=\"-144.8\" font-family=\"Times,serif\" font-size=\"14.00\">+</text>\n",
       "</g>\n",
       "<!-- TCRphos -->\n",
       "<g id=\"node28\" class=\"node\">\n",
       "<title>TCRphos</title>\n",
       "<ellipse fill=\"none\" stroke=\"black\" cx=\"505.05\" cy=\"-909\" rx=\"51.99\" ry=\"18\"/>\n",
       "<text text-anchor=\"middle\" x=\"505.05\" y=\"-905.3\" font-family=\"Times,serif\" font-size=\"14.00\">TCRphos</text>\n",
       "</g>\n",
       "<!-- Fyn&#45;&gt;TCRphos -->\n",
       "<g id=\"edge15\" class=\"edge\">\n",
       "<title>Fyn&#45;&gt;TCRphos</title>\n",
       "<path fill=\"none\" stroke=\"black\" d=\"M426.16,-980.58C440.72,-967.56 462.4,-948.16 479.35,-933\"/>\n",
       "<polygon fill=\"black\" stroke=\"black\" points=\"482.12,-935.21 487.23,-925.94 477.45,-930 482.12,-935.21\"/>\n",
       "<text text-anchor=\"middle\" x=\"469.55\" y=\"-948.8\" font-family=\"Times,serif\" font-size=\"14.00\">+</text>\n",
       "</g>\n",
       "<!-- Gads -->\n",
       "<g id=\"node11\" class=\"node\">\n",
       "<title>Gads</title>\n",
       "<ellipse fill=\"none\" stroke=\"black\" cx=\"231.05\" cy=\"-1170\" rx=\"34.39\" ry=\"18\"/>\n",
       "<text text-anchor=\"middle\" x=\"231.05\" y=\"-1166.3\" font-family=\"Times,serif\" font-size=\"14.00\">Gads</text>\n",
       "</g>\n",
       "<!-- PLCg_a -->\n",
       "<g id=\"node21\" class=\"node\">\n",
       "<title>PLCg_a</title>\n",
       "<ellipse fill=\"none\" stroke=\"black\" cx=\"170.05\" cy=\"-909\" rx=\"45.49\" ry=\"18\"/>\n",
       "<text text-anchor=\"middle\" x=\"170.05\" y=\"-905.3\" font-family=\"Times,serif\" font-size=\"14.00\">PLCg_a</text>\n",
       "</g>\n",
       "<!-- Gads&#45;&gt;PLCg_a -->\n",
       "<g id=\"edge16\" class=\"edge\">\n",
       "<title>Gads&#45;&gt;PLCg_a</title>\n",
       "<path fill=\"none\" stroke=\"black\" d=\"M227.27,-1152.11C218.87,-1114.72 197.92,-1022.17 179.05,-945 178.4,-942.35 177.71,-939.59 177.02,-936.83\"/>\n",
       "<polygon fill=\"black\" stroke=\"black\" points=\"180.39,-935.89 174.52,-927.07 173.61,-937.62 180.39,-935.89\"/>\n",
       "<text text-anchor=\"middle\" x=\"209.55\" y=\"-1035.8\" font-family=\"Times,serif\" font-size=\"14.00\">+</text>\n",
       "</g>\n",
       "<!-- Ras -->\n",
       "<g id=\"node23\" class=\"node\">\n",
       "<title>Ras</title>\n",
       "<ellipse fill=\"none\" stroke=\"black\" cx=\"191.05\" cy=\"-561\" rx=\"27.9\" ry=\"18\"/>\n",
       "<text text-anchor=\"middle\" x=\"191.05\" y=\"-557.3\" font-family=\"Times,serif\" font-size=\"14.00\">Ras</text>\n",
       "</g>\n",
       "<!-- Gads&#45;&gt;Ras -->\n",
       "<g id=\"edge17\" class=\"edge\">\n",
       "<title>Gads&#45;&gt;Ras</title>\n",
       "<path fill=\"none\" stroke=\"black\" d=\"M239.59,-1152.56C247.5,-1135.78 258.05,-1108.77 258.05,-1084 258.05,-1084 258.05,-1084 258.05,-647 258.05,-619.83 236.67,-596.23 218.07,-580.84\"/>\n",
       "<polygon fill=\"black\" stroke=\"black\" points=\"220.09,-577.99 210.07,-574.56 215.77,-583.49 220.09,-577.99\"/>\n",
       "<text text-anchor=\"middle\" x=\"264.55\" y=\"-861.8\" font-family=\"Times,serif\" font-size=\"14.00\">+</text>\n",
       "</g>\n",
       "<!-- Slp76 -->\n",
       "<g id=\"node26\" class=\"node\">\n",
       "<title>Slp76</title>\n",
       "<ellipse fill=\"none\" stroke=\"black\" cx=\"154.05\" cy=\"-1083\" rx=\"37.89\" ry=\"18\"/>\n",
       "<text text-anchor=\"middle\" x=\"154.05\" y=\"-1079.3\" font-family=\"Times,serif\" font-size=\"14.00\">Slp76</text>\n",
       "</g>\n",
       "<!-- Gads&#45;&gt;Slp76 -->\n",
       "<g id=\"edge18\" class=\"edge\">\n",
       "<title>Gads&#45;&gt;Slp76</title>\n",
       "<path fill=\"none\" stroke=\"black\" d=\"M213.83,-1154.23C207.11,-1148.19 199.49,-1140.99 193.05,-1134 185.66,-1125.98 178.16,-1116.69 171.73,-1108.31\"/>\n",
       "<polygon fill=\"black\" stroke=\"black\" points=\"174.51,-1106.19 165.7,-1100.31 168.92,-1110.4 174.51,-1106.19\"/>\n",
       "<text text-anchor=\"middle\" x=\"199.55\" y=\"-1122.8\" font-family=\"Times,serif\" font-size=\"14.00\">+</text>\n",
       "</g>\n",
       "<!-- NFkB -->\n",
       "<g id=\"node19\" class=\"node\">\n",
       "<title>NFkB</title>\n",
       "<ellipse fill=\"none\" stroke=\"black\" cx=\"37.05\" cy=\"-474\" rx=\"37.09\" ry=\"18\"/>\n",
       "<text text-anchor=\"middle\" x=\"37.05\" y=\"-470.3\" font-family=\"Times,serif\" font-size=\"14.00\">NFkB</text>\n",
       "</g>\n",
       "<!-- IkB&#45;&gt;NFkB -->\n",
       "<g id=\"edge19\" class=\"edge\">\n",
       "<title>IkB&#45;&gt;NFkB</title>\n",
       "<path fill=\"none\" stroke=\"black\" d=\"M37.05,-542.8C37.05,-531.16 37.05,-515.55 37.05,-502.24\"/>\n",
       "<polygon fill=\"black\" stroke=\"black\" points=\"40.55,-502.18 37.05,-492.18 33.55,-502.18 40.55,-502.18\"/>\n",
       "<text text-anchor=\"middle\" x=\"39.55\" y=\"-513.8\" font-family=\"Times,serif\" font-size=\"14.00\">&#45;</text>\n",
       "</g>\n",
       "<!-- Itk -->\n",
       "<g id=\"node13\" class=\"node\">\n",
       "<title>Itk</title>\n",
       "<ellipse fill=\"none\" stroke=\"black\" cx=\"107.05\" cy=\"-996\" rx=\"27\" ry=\"18\"/>\n",
       "<text text-anchor=\"middle\" x=\"107.05\" y=\"-992.3\" font-family=\"Times,serif\" font-size=\"14.00\">Itk</text>\n",
       "</g>\n",
       "<!-- Itk&#45;&gt;PLCg_a -->\n",
       "<g id=\"edge20\" class=\"edge\">\n",
       "<title>Itk&#45;&gt;PLCg_a</title>\n",
       "<path fill=\"none\" stroke=\"black\" d=\"M118.26,-979.14C125.3,-969.26 134.61,-956.32 143.05,-945 145.63,-941.54 148.38,-937.91 151.1,-934.35\"/>\n",
       "<polygon fill=\"black\" stroke=\"black\" points=\"153.97,-936.36 157.3,-926.3 148.42,-932.09 153.97,-936.36\"/>\n",
       "<text text-anchor=\"middle\" x=\"149.55\" y=\"-948.8\" font-family=\"Times,serif\" font-size=\"14.00\">+</text>\n",
       "</g>\n",
       "<!-- Jun -->\n",
       "<g id=\"node15\" class=\"node\">\n",
       "<title>Jun</title>\n",
       "<ellipse fill=\"none\" stroke=\"black\" cx=\"111.05\" cy=\"-420\" rx=\"27\" ry=\"18\"/>\n",
       "<text text-anchor=\"middle\" x=\"111.05\" y=\"-416.3\" font-family=\"Times,serif\" font-size=\"14.00\">Jun</text>\n",
       "</g>\n",
       "<!-- JNK&#45;&gt;Jun -->\n",
       "<g id=\"edge21\" class=\"edge\">\n",
       "<title>JNK&#45;&gt;Jun</title>\n",
       "<path fill=\"none\" stroke=\"black\" d=\"M111.05,-542.96C111.05,-519.4 111.05,-476.64 111.05,-448.53\"/>\n",
       "<polygon fill=\"black\" stroke=\"black\" points=\"114.55,-448.18 111.05,-438.18 107.55,-448.18 114.55,-448.18\"/>\n",
       "<text text-anchor=\"middle\" x=\"117.55\" y=\"-513.8\" font-family=\"Times,serif\" font-size=\"14.00\">+</text>\n",
       "</g>\n",
       "<!-- Jun&#45;&gt;AP1 -->\n",
       "<g id=\"edge22\" class=\"edge\">\n",
       "<title>Jun&#45;&gt;AP1</title>\n",
       "<path fill=\"none\" stroke=\"black\" d=\"M111.05,-401.75C111.05,-382.62 111.05,-350.86 111.05,-323.5 111.05,-323.5 111.05,-323.5 111.05,-191 111.05,-171.75 111.05,-150.05 111.05,-133.4\"/>\n",
       "<polygon fill=\"black\" stroke=\"black\" points=\"114.55,-133.26 111.05,-123.26 107.55,-133.26 114.55,-133.26\"/>\n",
       "<text text-anchor=\"middle\" x=\"117.55\" y=\"-275.3\" font-family=\"Times,serif\" font-size=\"14.00\">+</text>\n",
       "</g>\n",
       "<!-- LAT -->\n",
       "<g id=\"node16\" class=\"node\">\n",
       "<title>LAT</title>\n",
       "<ellipse fill=\"none\" stroke=\"black\" cx=\"288.05\" cy=\"-1344\" rx=\"28.7\" ry=\"18\"/>\n",
       "<text text-anchor=\"middle\" x=\"288.05\" y=\"-1340.3\" font-family=\"Times,serif\" font-size=\"14.00\">LAT</text>\n",
       "</g>\n",
       "<!-- LAT&#45;&gt;Gads -->\n",
       "<g id=\"edge25\" class=\"edge\">\n",
       "<title>LAT&#45;&gt;Gads</title>\n",
       "<path fill=\"none\" stroke=\"black\" d=\"M282.48,-1326.19C272.56,-1296.27 251.77,-1233.52 239.88,-1197.65\"/>\n",
       "<polygon fill=\"black\" stroke=\"black\" points=\"243.11,-1196.26 236.64,-1187.87 236.46,-1198.47 243.11,-1196.26\"/>\n",
       "<text text-anchor=\"middle\" x=\"271.55\" y=\"-1253.3\" font-family=\"Times,serif\" font-size=\"14.00\">+</text>\n",
       "</g>\n",
       "<!-- LAT&#45;&gt;TCRbind -->\n",
       "<g id=\"edge23\" class=\"edge\">\n",
       "<title>LAT&#45;&gt;TCRbind</title>\n",
       "<path fill=\"none\" stroke=\"black\" d=\"M299.42,-1327.41C308.45,-1315.03 321.26,-1297.47 331.73,-1283.11\"/>\n",
       "<polygon fill=\"black\" stroke=\"black\" points=\"334.83,-1284.8 337.9,-1274.65 329.18,-1280.67 334.83,-1284.8\"/>\n",
       "<text text-anchor=\"middle\" x=\"324.55\" y=\"-1296.8\" font-family=\"Times,serif\" font-size=\"14.00\">&#45;</text>\n",
       "</g>\n",
       "<!-- ZAP70 -->\n",
       "<g id=\"node29\" class=\"node\">\n",
       "<title>ZAP70</title>\n",
       "<ellipse fill=\"none\" stroke=\"black\" cx=\"288.05\" cy=\"-1431\" rx=\"41.69\" ry=\"18\"/>\n",
       "<text text-anchor=\"middle\" x=\"288.05\" y=\"-1427.3\" font-family=\"Times,serif\" font-size=\"14.00\">ZAP70</text>\n",
       "</g>\n",
       "<!-- LAT&#45;&gt;ZAP70 -->\n",
       "<g id=\"edge24\" class=\"edge\">\n",
       "<title>LAT&#45;&gt;ZAP70</title>\n",
       "<path fill=\"none\" stroke=\"black\" d=\"M288.05,-1362.18C288.05,-1373.81 288.05,-1389.42 288.05,-1402.73\"/>\n",
       "<polygon fill=\"black\" stroke=\"black\" points=\"284.55,-1402.8 288.05,-1412.8 291.55,-1402.8 284.55,-1402.8\"/>\n",
       "<text text-anchor=\"middle\" x=\"290.55\" y=\"-1383.8\" font-family=\"Times,serif\" font-size=\"14.00\">&#45;</text>\n",
       "</g>\n",
       "<!-- LCK&#45;&gt;Fyn -->\n",
       "<g id=\"edge30\" class=\"edge\">\n",
       "<title>LCK&#45;&gt;Fyn</title>\n",
       "<path fill=\"none\" stroke=\"black\" d=\"M526.83,-1069.46C503.53,-1055 465.06,-1031.13 438.68,-1014.76\"/>\n",
       "<polygon fill=\"black\" stroke=\"black\" points=\"440.24,-1011.62 429.9,-1009.32 436.55,-1017.56 440.24,-1011.62\"/>\n",
       "<text text-anchor=\"middle\" x=\"492.55\" y=\"-1035.8\" font-family=\"Times,serif\" font-size=\"14.00\">+</text>\n",
       "</g>\n",
       "<!-- Rlk -->\n",
       "<g id=\"node25\" class=\"node\">\n",
       "<title>Rlk</title>\n",
       "<ellipse fill=\"none\" stroke=\"black\" cx=\"484.05\" cy=\"-996\" rx=\"27\" ry=\"18\"/>\n",
       "<text text-anchor=\"middle\" x=\"484.05\" y=\"-992.3\" font-family=\"Times,serif\" font-size=\"14.00\">Rlk</text>\n",
       "</g>\n",
       "<!-- LCK&#45;&gt;Rlk -->\n",
       "<g id=\"edge29\" class=\"edge\">\n",
       "<title>LCK&#45;&gt;Rlk</title>\n",
       "<path fill=\"none\" stroke=\"black\" d=\"M534.84,-1066.4C530.17,-1060.38 524.82,-1053.4 520.05,-1047 513.78,-1038.6 507.04,-1029.3 501.11,-1021.03\"/>\n",
       "<polygon fill=\"black\" stroke=\"black\" points=\"503.93,-1018.96 495.26,-1012.86 498.23,-1023.03 503.93,-1018.96\"/>\n",
       "<text text-anchor=\"middle\" x=\"526.55\" y=\"-1035.8\" font-family=\"Times,serif\" font-size=\"14.00\">+</text>\n",
       "</g>\n",
       "<!-- LCK&#45;&gt;TCRphos -->\n",
       "<g id=\"edge27\" class=\"edge\">\n",
       "<title>LCK&#45;&gt;TCRphos</title>\n",
       "<path fill=\"none\" stroke=\"black\" d=\"M542.87,-1064.88C535.54,-1034.87 520.33,-972.58 511.59,-936.81\"/>\n",
       "<polygon fill=\"black\" stroke=\"black\" points=\"514.98,-935.94 509.21,-927.05 508.18,-937.6 514.98,-935.94\"/>\n",
       "<text text-anchor=\"middle\" x=\"532.55\" y=\"-992.3\" font-family=\"Times,serif\" font-size=\"14.00\">&#45;</text>\n",
       "</g>\n",
       "<!-- LCK&#45;&gt;TCRphos -->\n",
       "<g id=\"edge28\" class=\"edge\">\n",
       "<title>LCK&#45;&gt;TCRphos</title>\n",
       "<path fill=\"none\" stroke=\"black\" d=\"M548.8,-1064.93C549.31,-1059.23 549.8,-1052.85 550.05,-1047 552.02,-1000.76 549.08,-986.72 529.05,-945 527.42,-941.61 525.49,-938.19 523.44,-934.87\"/>\n",
       "<polygon fill=\"black\" stroke=\"black\" points=\"526.31,-932.86 517.87,-926.45 520.47,-936.72 526.31,-932.86\"/>\n",
       "<text text-anchor=\"middle\" x=\"556.55\" y=\"-992.3\" font-family=\"Times,serif\" font-size=\"14.00\">+</text>\n",
       "</g>\n",
       "<!-- LCK&#45;&gt;ZAP70 -->\n",
       "<g id=\"edge26\" class=\"edge\">\n",
       "<title>LCK&#45;&gt;ZAP70</title>\n",
       "<path fill=\"none\" stroke=\"black\" d=\"M568.62,-1095.95C591.09,-1110.15 623.05,-1136.14 623.05,-1169 623.05,-1345 623.05,-1345 623.05,-1345 623.05,-1402.76 433.56,-1421.72 339.61,-1427.57\"/>\n",
       "<polygon fill=\"black\" stroke=\"black\" points=\"339.23,-1424.08 329.46,-1428.17 339.65,-1431.07 339.23,-1424.08\"/>\n",
       "<text text-anchor=\"middle\" x=\"629.55\" y=\"-1253.3\" font-family=\"Times,serif\" font-size=\"14.00\">+</text>\n",
       "</g>\n",
       "<!-- MEK -->\n",
       "<g id=\"node18\" class=\"node\">\n",
       "<title>MEK</title>\n",
       "<ellipse fill=\"none\" stroke=\"black\" cx=\"191.05\" cy=\"-366\" rx=\"33.6\" ry=\"18\"/>\n",
       "<text text-anchor=\"middle\" x=\"191.05\" y=\"-362.3\" font-family=\"Times,serif\" font-size=\"14.00\">MEK</text>\n",
       "</g>\n",
       "<!-- MEK&#45;&gt;ERK -->\n",
       "<g id=\"edge31\" class=\"edge\">\n",
       "<title>MEK&#45;&gt;ERK</title>\n",
       "<path fill=\"none\" stroke=\"black\" d=\"M191.05,-347.8C191.05,-336.16 191.05,-320.55 191.05,-307.24\"/>\n",
       "<polygon fill=\"black\" stroke=\"black\" points=\"194.55,-307.18 191.05,-297.18 187.55,-307.18 194.55,-307.18\"/>\n",
       "<text text-anchor=\"middle\" x=\"197.55\" y=\"-318.8\" font-family=\"Times,serif\" font-size=\"14.00\">+</text>\n",
       "</g>\n",
       "<!-- PAGCsk -->\n",
       "<g id=\"node20\" class=\"node\">\n",
       "<title>PAGCsk</title>\n",
       "<ellipse fill=\"none\" stroke=\"black\" cx=\"510.05\" cy=\"-1170\" rx=\"46.59\" ry=\"18\"/>\n",
       "<text text-anchor=\"middle\" x=\"510.05\" y=\"-1166.3\" font-family=\"Times,serif\" font-size=\"14.00\">PAGCsk</text>\n",
       "</g>\n",
       "<!-- PAGCsk&#45;&gt;LCK -->\n",
       "<g id=\"edge32\" class=\"edge\">\n",
       "<title>PAGCsk&#45;&gt;LCK</title>\n",
       "<path fill=\"none\" stroke=\"black\" d=\"M517.36,-1152.21C522.58,-1140.22 529.7,-1123.85 535.66,-1110.16\"/>\n",
       "<polygon fill=\"black\" stroke=\"black\" points=\"538.97,-1111.32 539.75,-1100.76 532.55,-1108.53 538.97,-1111.32\"/>\n",
       "<text text-anchor=\"middle\" x=\"532.55\" y=\"-1122.8\" font-family=\"Times,serif\" font-size=\"14.00\">&#45;</text>\n",
       "</g>\n",
       "<!-- PLCg_a&#45;&gt;DAG -->\n",
       "<g id=\"edge33\" class=\"edge\">\n",
       "<title>PLCg_a&#45;&gt;DAG</title>\n",
       "<path fill=\"none\" stroke=\"black\" d=\"M170.05,-890.8C170.05,-879.16 170.05,-863.55 170.05,-850.24\"/>\n",
       "<polygon fill=\"black\" stroke=\"black\" points=\"173.55,-850.18 170.05,-840.18 166.55,-850.18 173.55,-850.18\"/>\n",
       "<text text-anchor=\"middle\" x=\"176.55\" y=\"-861.8\" font-family=\"Times,serif\" font-size=\"14.00\">+</text>\n",
       "</g>\n",
       "<!-- Raf -->\n",
       "<g id=\"node22\" class=\"node\">\n",
       "<title>Raf</title>\n",
       "<ellipse fill=\"none\" stroke=\"black\" cx=\"191.05\" cy=\"-474\" rx=\"27\" ry=\"18\"/>\n",
       "<text text-anchor=\"middle\" x=\"191.05\" y=\"-470.3\" font-family=\"Times,serif\" font-size=\"14.00\">Raf</text>\n",
       "</g>\n",
       "<!-- Raf&#45;&gt;MEK -->\n",
       "<g id=\"edge34\" class=\"edge\">\n",
       "<title>Raf&#45;&gt;MEK</title>\n",
       "<path fill=\"none\" stroke=\"black\" d=\"M191.05,-455.97C191.05,-439.38 191.05,-413.88 191.05,-394.43\"/>\n",
       "<polygon fill=\"black\" stroke=\"black\" points=\"194.55,-394.34 191.05,-384.34 187.55,-394.34 194.55,-394.34\"/>\n",
       "<text text-anchor=\"middle\" x=\"197.55\" y=\"-416.3\" font-family=\"Times,serif\" font-size=\"14.00\">+</text>\n",
       "</g>\n",
       "<!-- Ras&#45;&gt;Raf -->\n",
       "<g id=\"edge35\" class=\"edge\">\n",
       "<title>Ras&#45;&gt;Raf</title>\n",
       "<path fill=\"none\" stroke=\"black\" d=\"M191.05,-542.8C191.05,-531.16 191.05,-515.55 191.05,-502.24\"/>\n",
       "<polygon fill=\"black\" stroke=\"black\" points=\"194.55,-502.18 191.05,-492.18 187.55,-502.18 194.55,-502.18\"/>\n",
       "<text text-anchor=\"middle\" x=\"197.55\" y=\"-513.8\" font-family=\"Times,serif\" font-size=\"14.00\">+</text>\n",
       "</g>\n",
       "<!-- RasGRP1&#45;&gt;Ras -->\n",
       "<g id=\"edge36\" class=\"edge\">\n",
       "<title>RasGRP1&#45;&gt;Ras</title>\n",
       "<path fill=\"none\" stroke=\"black\" d=\"M179.08,-629.8C181.14,-618.16 183.89,-602.55 186.24,-589.24\"/>\n",
       "<polygon fill=\"black\" stroke=\"black\" points=\"189.72,-589.63 188.02,-579.18 182.83,-588.41 189.72,-589.63\"/>\n",
       "<text text-anchor=\"middle\" x=\"190.55\" y=\"-600.8\" font-family=\"Times,serif\" font-size=\"14.00\">+</text>\n",
       "</g>\n",
       "<!-- Rlk&#45;&gt;PLCg_a -->\n",
       "<g id=\"edge37\" class=\"edge\">\n",
       "<title>Rlk&#45;&gt;PLCg_a</title>\n",
       "<path fill=\"none\" stroke=\"black\" d=\"M463.41,-984.38C458.46,-982.08 453.13,-979.8 448.05,-978 370.67,-950.58 277.38,-930.23 220.94,-919.25\"/>\n",
       "<polygon fill=\"black\" stroke=\"black\" points=\"221.32,-915.76 210.84,-917.3 220,-922.63 221.32,-915.76\"/>\n",
       "<text text-anchor=\"middle\" x=\"394.55\" y=\"-948.8\" font-family=\"Times,serif\" font-size=\"14.00\">+</text>\n",
       "</g>\n",
       "<!-- Slp76&#45;&gt;Itk -->\n",
       "<g id=\"edge38\" class=\"edge\">\n",
       "<title>Slp76&#45;&gt;Itk</title>\n",
       "<path fill=\"none\" stroke=\"black\" d=\"M144.76,-1065.21C137.98,-1052.94 128.67,-1036.1 120.99,-1022.22\"/>\n",
       "<polygon fill=\"black\" stroke=\"black\" points=\"123.9,-1020.24 115.99,-1013.18 117.77,-1023.63 123.9,-1020.24\"/>\n",
       "<text text-anchor=\"middle\" x=\"140.55\" y=\"-1035.8\" font-family=\"Times,serif\" font-size=\"14.00\">+</text>\n",
       "</g>\n",
       "<!-- Slp76&#45;&gt;PLCg_a -->\n",
       "<g id=\"edge39\" class=\"edge\">\n",
       "<title>Slp76&#45;&gt;PLCg_a</title>\n",
       "<path fill=\"none\" stroke=\"black\" d=\"M155.64,-1064.88C158.42,-1035 164.18,-973.11 167.51,-937.27\"/>\n",
       "<polygon fill=\"black\" stroke=\"black\" points=\"171.02,-937.33 168.46,-927.05 164.05,-936.68 171.02,-937.33\"/>\n",
       "<text text-anchor=\"middle\" x=\"169.55\" y=\"-992.3\" font-family=\"Times,serif\" font-size=\"14.00\">+</text>\n",
       "</g>\n",
       "<!-- TCRbind&#45;&gt;Fyn -->\n",
       "<g id=\"edge43\" class=\"edge\">\n",
       "<title>TCRbind&#45;&gt;Fyn</title>\n",
       "<path fill=\"none\" stroke=\"black\" d=\"M356.32,-1239.04C358.3,-1233.35 360.4,-1226.94 362.05,-1221 381.52,-1150.84 397.69,-1066.48 405.32,-1024.1\"/>\n",
       "<polygon fill=\"black\" stroke=\"black\" points=\"408.81,-1024.49 407.12,-1014.03 401.91,-1023.26 408.81,-1024.49\"/>\n",
       "<text text-anchor=\"middle\" x=\"392.55\" y=\"-1122.8\" font-family=\"Times,serif\" font-size=\"14.00\">+</text>\n",
       "</g>\n",
       "<!-- TCRbind&#45;&gt;PAGCsk -->\n",
       "<g id=\"edge42\" class=\"edge\">\n",
       "<title>TCRbind&#45;&gt;PAGCsk</title>\n",
       "<path fill=\"none\" stroke=\"black\" d=\"M377.19,-1241.58C404.06,-1227.31 445.33,-1205.38 474.74,-1189.76\"/>\n",
       "<polygon fill=\"black\" stroke=\"black\" points=\"476.65,-1192.71 483.84,-1184.92 473.36,-1186.53 476.65,-1192.71\"/>\n",
       "<text text-anchor=\"middle\" x=\"441.55\" y=\"-1209.8\" font-family=\"Times,serif\" font-size=\"14.00\">&#45;</text>\n",
       "</g>\n",
       "<!-- TCRbind&#45;&gt;TCRphos -->\n",
       "<g id=\"edge40\" class=\"edge\">\n",
       "<title>TCRbind&#45;&gt;TCRphos</title>\n",
       "<path fill=\"none\" stroke=\"black\" d=\"M346.11,-1238.84C336.46,-1192.3 316.27,-1061.56 372.05,-978 390.74,-950 424.68,-932.91 453.59,-922.87\"/>\n",
       "<polygon fill=\"black\" stroke=\"black\" points=\"454.76,-926.17 463.17,-919.72 452.58,-919.51 454.76,-926.17\"/>\n",
       "<text text-anchor=\"middle\" x=\"341.55\" y=\"-1079.3\" font-family=\"Times,serif\" font-size=\"14.00\">&#45;</text>\n",
       "</g>\n",
       "<!-- TCRbind&#45;&gt;TCRphos -->\n",
       "<g id=\"edge41\" class=\"edge\">\n",
       "<title>TCRbind&#45;&gt;TCRphos</title>\n",
       "<path fill=\"none\" stroke=\"black\" d=\"M334.73,-1239.52C321.35,-1223.34 304.05,-1197.34 304.05,-1171 304.05,-1171 304.05,-1171 304.05,-995 304.05,-933.84 383.95,-916.02 443,-911.19\"/>\n",
       "<polygon fill=\"black\" stroke=\"black\" points=\"443.3,-914.68 453.02,-910.48 442.8,-907.7 443.3,-914.68\"/>\n",
       "<text text-anchor=\"middle\" x=\"310.55\" y=\"-1079.3\" font-family=\"Times,serif\" font-size=\"14.00\">+</text>\n",
       "</g>\n",
       "<!-- TCRphos&#45;&gt;ZAP70 -->\n",
       "<g id=\"edge44\" class=\"edge\">\n",
       "<title>TCRphos&#45;&gt;ZAP70</title>\n",
       "<path fill=\"none\" stroke=\"black\" d=\"M554.7,-914.88C602.97,-922.68 669.05,-942.89 669.05,-995 669.05,-1345 669.05,-1345 669.05,-1345 669.05,-1411.67 444.01,-1426.07 339.84,-1429.16\"/>\n",
       "<polygon fill=\"black\" stroke=\"black\" points=\"339.45,-1425.67 329.55,-1429.44 339.64,-1432.67 339.45,-1425.67\"/>\n",
       "<text text-anchor=\"middle\" x=\"675.55\" y=\"-1166.3\" font-family=\"Times,serif\" font-size=\"14.00\">+</text>\n",
       "</g>\n",
       "<!-- ZAP70&#45;&gt;Itk -->\n",
       "<g id=\"edge46\" class=\"edge\">\n",
       "<title>ZAP70&#45;&gt;Itk</title>\n",
       "<path fill=\"none\" stroke=\"black\" d=\"M246.12,-1429.95C187.47,-1427.42 88.05,-1413.1 88.05,-1345 88.05,-1345 88.05,-1345 88.05,-1082 88.05,-1061.96 93.14,-1039.9 98.05,-1023.27\"/>\n",
       "<polygon fill=\"black\" stroke=\"black\" points=\"101.4,-1024.28 101.03,-1013.69 94.72,-1022.19 101.4,-1024.28\"/>\n",
       "<text text-anchor=\"middle\" x=\"94.55\" y=\"-1209.8\" font-family=\"Times,serif\" font-size=\"14.00\">+</text>\n",
       "</g>\n",
       "<!-- ZAP70&#45;&gt;LAT -->\n",
       "<g id=\"edge47\" class=\"edge\">\n",
       "<title>ZAP70&#45;&gt;LAT</title>\n",
       "<path fill=\"none\" stroke=\"black\" d=\"M277.57,-1413.58C272.67,-1403.94 268.42,-1391.44 271.05,-1380 271.79,-1376.77 272.87,-1373.5 274.13,-1370.32\"/>\n",
       "<polygon fill=\"black\" stroke=\"black\" points=\"277.34,-1371.72 278.31,-1361.17 270.97,-1368.81 277.34,-1371.72\"/>\n",
       "<text text-anchor=\"middle\" x=\"277.55\" y=\"-1383.8\" font-family=\"Times,serif\" font-size=\"14.00\">+</text>\n",
       "</g>\n",
       "<!-- ZAP70&#45;&gt;PLCg_a -->\n",
       "<g id=\"edge45\" class=\"edge\">\n",
       "<title>ZAP70&#45;&gt;PLCg_a</title>\n",
       "<path fill=\"none\" stroke=\"black\" d=\"M246.51,-1429.27C206.43,-1427.03 145.08,-1419.42 98.05,-1395 69.87,-1380.37 47.05,-1376.74 47.05,-1345 47.05,-1345 47.05,-1345 47.05,-995 47.05,-956.68 87.95,-934.29 122.58,-922.2\"/>\n",
       "<polygon fill=\"black\" stroke=\"black\" points=\"123.73,-925.51 132.14,-919.06 121.55,-918.86 123.73,-925.51\"/>\n",
       "<text text-anchor=\"middle\" x=\"53.55\" y=\"-1166.3\" font-family=\"Times,serif\" font-size=\"14.00\">+</text>\n",
       "</g>\n",
       "</g>\n",
       "</svg>\n"
      ],
      "text/plain": [
       "<networkx.classes.multidigraph.MultiDiGraph at 0x7f932e24e2b0>"
      ]
     },
     "execution_count": 12,
     "metadata": {},
     "output_type": "execute_result"
    }
   ],
   "source": [
    "tcr40_red.influence_graph()"
   ]
  },
  {
   "cell_type": "code",
   "execution_count": 13,
   "id": "ab8998a9",
   "metadata": {},
   "outputs": [
    {
     "name": "stdout",
     "output_type": "stream",
     "text": [
      "CPU times: user 398 ms, sys: 8.43 ms, total: 406 ms\n",
      "Wall time: 454 ms\n"
     ]
    },
    {
     "data": {
      "text/html": [
       "<style type=\"text/css\">\n",
       "#T_a440e th.level1 {\n",
       "  display: none;\n",
       "}\n",
       "#T_a440e th.blank.level0 {\n",
       "  display: none;\n",
       "}\n",
       "</style>\n",
       "<table id=\"T_a440e\">\n",
       "  <thead>\n",
       "    <tr>\n",
       "      <th class=\"blank\" >&nbsp;</th>\n",
       "      <th class=\"blank level0\" >&nbsp;</th>\n",
       "      <th id=\"T_a440e_level0_col0\" class=\"col_heading level0 col0\" >AP1</th>\n",
       "      <th id=\"T_a440e_level0_col1\" class=\"col_heading level0 col1\" >CD45</th>\n",
       "      <th id=\"T_a440e_level0_col2\" class=\"col_heading level0 col2\" >CRE</th>\n",
       "      <th id=\"T_a440e_level0_col3\" class=\"col_heading level0 col3\" >CREB</th>\n",
       "      <th id=\"T_a440e_level0_col4\" class=\"col_heading level0 col4\" >Ca</th>\n",
       "      <th id=\"T_a440e_level0_col5\" class=\"col_heading level0 col5\" >Calcin</th>\n",
       "      <th id=\"T_a440e_level0_col6\" class=\"col_heading level0 col6\" >DAG</th>\n",
       "      <th id=\"T_a440e_level0_col7\" class=\"col_heading level0 col7\" >ERK</th>\n",
       "      <th id=\"T_a440e_level0_col8\" class=\"col_heading level0 col8\" >Fos</th>\n",
       "      <th id=\"T_a440e_level0_col9\" class=\"col_heading level0 col9\" >Fyn</th>\n",
       "      <th id=\"T_a440e_level0_col10\" class=\"col_heading level0 col10\" >Gads</th>\n",
       "      <th id=\"T_a440e_level0_col11\" class=\"col_heading level0 col11\" >IkB</th>\n",
       "      <th id=\"T_a440e_level0_col12\" class=\"col_heading level0 col12\" >Itk</th>\n",
       "      <th id=\"T_a440e_level0_col13\" class=\"col_heading level0 col13\" >JNK</th>\n",
       "      <th id=\"T_a440e_level0_col14\" class=\"col_heading level0 col14\" >Jun</th>\n",
       "      <th id=\"T_a440e_level0_col15\" class=\"col_heading level0 col15\" >LAT</th>\n",
       "      <th id=\"T_a440e_level0_col16\" class=\"col_heading level0 col16\" >LCK</th>\n",
       "      <th id=\"T_a440e_level0_col17\" class=\"col_heading level0 col17\" >MEK</th>\n",
       "      <th id=\"T_a440e_level0_col18\" class=\"col_heading level0 col18\" >NFkB</th>\n",
       "      <th id=\"T_a440e_level0_col19\" class=\"col_heading level0 col19\" >PAGCsk</th>\n",
       "      <th id=\"T_a440e_level0_col20\" class=\"col_heading level0 col20\" >PLCg_a</th>\n",
       "      <th id=\"T_a440e_level0_col21\" class=\"col_heading level0 col21\" >Raf</th>\n",
       "      <th id=\"T_a440e_level0_col22\" class=\"col_heading level0 col22\" >Ras</th>\n",
       "      <th id=\"T_a440e_level0_col23\" class=\"col_heading level0 col23\" >RasGRP1</th>\n",
       "      <th id=\"T_a440e_level0_col24\" class=\"col_heading level0 col24\" >Rlk</th>\n",
       "      <th id=\"T_a440e_level0_col25\" class=\"col_heading level0 col25\" >Slp76</th>\n",
       "      <th id=\"T_a440e_level0_col26\" class=\"col_heading level0 col26\" >TCRbind</th>\n",
       "      <th id=\"T_a440e_level0_col27\" class=\"col_heading level0 col27\" >TCRphos</th>\n",
       "      <th id=\"T_a440e_level0_col28\" class=\"col_heading level0 col28\" >ZAP70</th>\n",
       "    </tr>\n",
       "  </thead>\n",
       "  <tbody>\n",
       "    <tr>\n",
       "      <th id=\"T_a440e_level0_row0\" class=\"row_heading level0 row0\" >0</th>\n",
       "      <th id=\"T_a440e_level1_row0\" class=\"row_heading level1 row0\" >0</th>\n",
       "      <td id=\"T_a440e_row0_col0\" class=\"data row0 col0\" >0</td>\n",
       "      <td id=\"T_a440e_row0_col1\" class=\"data row0 col1\" >0</td>\n",
       "      <td id=\"T_a440e_row0_col2\" class=\"data row0 col2\" >0</td>\n",
       "      <td id=\"T_a440e_row0_col3\" class=\"data row0 col3\" >0</td>\n",
       "      <td id=\"T_a440e_row0_col4\" class=\"data row0 col4\" >0</td>\n",
       "      <td id=\"T_a440e_row0_col5\" class=\"data row0 col5\" >0</td>\n",
       "      <td id=\"T_a440e_row0_col6\" class=\"data row0 col6\" >0</td>\n",
       "      <td id=\"T_a440e_row0_col7\" class=\"data row0 col7\" >0</td>\n",
       "      <td id=\"T_a440e_row0_col8\" class=\"data row0 col8\" >0</td>\n",
       "      <td id=\"T_a440e_row0_col9\" class=\"data row0 col9\" >0</td>\n",
       "      <td id=\"T_a440e_row0_col10\" class=\"data row0 col10\" >0</td>\n",
       "      <td id=\"T_a440e_row0_col11\" class=\"data row0 col11\" >1</td>\n",
       "      <td id=\"T_a440e_row0_col12\" class=\"data row0 col12\" >0</td>\n",
       "      <td id=\"T_a440e_row0_col13\" class=\"data row0 col13\" >0</td>\n",
       "      <td id=\"T_a440e_row0_col14\" class=\"data row0 col14\" >0</td>\n",
       "      <td id=\"T_a440e_row0_col15\" class=\"data row0 col15\" >0</td>\n",
       "      <td id=\"T_a440e_row0_col16\" class=\"data row0 col16\" >0</td>\n",
       "      <td id=\"T_a440e_row0_col17\" class=\"data row0 col17\" >0</td>\n",
       "      <td id=\"T_a440e_row0_col18\" class=\"data row0 col18\" >0</td>\n",
       "      <td id=\"T_a440e_row0_col19\" class=\"data row0 col19\" >1</td>\n",
       "      <td id=\"T_a440e_row0_col20\" class=\"data row0 col20\" >0</td>\n",
       "      <td id=\"T_a440e_row0_col21\" class=\"data row0 col21\" >0</td>\n",
       "      <td id=\"T_a440e_row0_col22\" class=\"data row0 col22\" >0</td>\n",
       "      <td id=\"T_a440e_row0_col23\" class=\"data row0 col23\" >0</td>\n",
       "      <td id=\"T_a440e_row0_col24\" class=\"data row0 col24\" >0</td>\n",
       "      <td id=\"T_a440e_row0_col25\" class=\"data row0 col25\" >0</td>\n",
       "      <td id=\"T_a440e_row0_col26\" class=\"data row0 col26\" >0</td>\n",
       "      <td id=\"T_a440e_row0_col27\" class=\"data row0 col27\" >0</td>\n",
       "      <td id=\"T_a440e_row0_col28\" class=\"data row0 col28\" >0</td>\n",
       "    </tr>\n",
       "    <tr>\n",
       "      <th id=\"T_a440e_level0_row1\" class=\"row_heading level0 row1\" rowspan=\"7\">1</th>\n",
       "      <th id=\"T_a440e_level1_row1\" class=\"row_heading level1 row1\" >3</th>\n",
       "      <td id=\"T_a440e_row1_col0\" class=\"data row1 col0\" >0</td>\n",
       "      <td id=\"T_a440e_row1_col1\" class=\"data row1 col1\" >1</td>\n",
       "      <td id=\"T_a440e_row1_col2\" class=\"data row1 col2\" >0</td>\n",
       "      <td id=\"T_a440e_row1_col3\" class=\"data row1 col3\" >0</td>\n",
       "      <td id=\"T_a440e_row1_col4\" class=\"data row1 col4\" >0</td>\n",
       "      <td id=\"T_a440e_row1_col5\" class=\"data row1 col5\" >0</td>\n",
       "      <td id=\"T_a440e_row1_col6\" class=\"data row1 col6\" >0</td>\n",
       "      <td id=\"T_a440e_row1_col7\" class=\"data row1 col7\" >0</td>\n",
       "      <td id=\"T_a440e_row1_col8\" class=\"data row1 col8\" >0</td>\n",
       "      <td id=\"T_a440e_row1_col9\" class=\"data row1 col9\" >1</td>\n",
       "      <td id=\"T_a440e_row1_col10\" class=\"data row1 col10\" >0</td>\n",
       "      <td id=\"T_a440e_row1_col11\" class=\"data row1 col11\" >1</td>\n",
       "      <td id=\"T_a440e_row1_col12\" class=\"data row1 col12\" >0</td>\n",
       "      <td id=\"T_a440e_row1_col13\" class=\"data row1 col13\" >0</td>\n",
       "      <td id=\"T_a440e_row1_col14\" class=\"data row1 col14\" >0</td>\n",
       "      <td id=\"T_a440e_row1_col15\" class=\"data row1 col15\" >0</td>\n",
       "      <td id=\"T_a440e_row1_col16\" class=\"data row1 col16\" >0</td>\n",
       "      <td id=\"T_a440e_row1_col17\" class=\"data row1 col17\" >0</td>\n",
       "      <td id=\"T_a440e_row1_col18\" class=\"data row1 col18\" >0</td>\n",
       "      <td id=\"T_a440e_row1_col19\" class=\"data row1 col19\" >1</td>\n",
       "      <td id=\"T_a440e_row1_col20\" class=\"data row1 col20\" >0</td>\n",
       "      <td id=\"T_a440e_row1_col21\" class=\"data row1 col21\" >0</td>\n",
       "      <td id=\"T_a440e_row1_col22\" class=\"data row1 col22\" >0</td>\n",
       "      <td id=\"T_a440e_row1_col23\" class=\"data row1 col23\" >0</td>\n",
       "      <td id=\"T_a440e_row1_col24\" class=\"data row1 col24\" >1</td>\n",
       "      <td id=\"T_a440e_row1_col25\" class=\"data row1 col25\" >1</td>\n",
       "      <td id=\"T_a440e_row1_col26\" class=\"data row1 col26\" >1</td>\n",
       "      <td id=\"T_a440e_row1_col27\" class=\"data row1 col27\" >1</td>\n",
       "      <td id=\"T_a440e_row1_col28\" class=\"data row1 col28\" >1</td>\n",
       "    </tr>\n",
       "    <tr>\n",
       "      <th id=\"T_a440e_level1_row2\" class=\"row_heading level1 row2\" >6</th>\n",
       "      <td id=\"T_a440e_row2_col0\" class=\"data row2 col0\" >0</td>\n",
       "      <td id=\"T_a440e_row2_col1\" class=\"data row2 col1\" >1</td>\n",
       "      <td id=\"T_a440e_row2_col2\" class=\"data row2 col2\" >0</td>\n",
       "      <td id=\"T_a440e_row2_col3\" class=\"data row2 col3\" >0</td>\n",
       "      <td id=\"T_a440e_row2_col4\" class=\"data row2 col4\" >0</td>\n",
       "      <td id=\"T_a440e_row2_col5\" class=\"data row2 col5\" >0</td>\n",
       "      <td id=\"T_a440e_row2_col6\" class=\"data row2 col6\" >0</td>\n",
       "      <td id=\"T_a440e_row2_col7\" class=\"data row2 col7\" >0</td>\n",
       "      <td id=\"T_a440e_row2_col8\" class=\"data row2 col8\" >0</td>\n",
       "      <td id=\"T_a440e_row2_col9\" class=\"data row2 col9\" >1</td>\n",
       "      <td id=\"T_a440e_row2_col10\" class=\"data row2 col10\" >0</td>\n",
       "      <td id=\"T_a440e_row2_col11\" class=\"data row2 col11\" >1</td>\n",
       "      <td id=\"T_a440e_row2_col12\" class=\"data row2 col12\" >0</td>\n",
       "      <td id=\"T_a440e_row2_col13\" class=\"data row2 col13\" >0</td>\n",
       "      <td id=\"T_a440e_row2_col14\" class=\"data row2 col14\" >0</td>\n",
       "      <td id=\"T_a440e_row2_col15\" class=\"data row2 col15\" >0</td>\n",
       "      <td id=\"T_a440e_row2_col16\" class=\"data row2 col16\" >1</td>\n",
       "      <td id=\"T_a440e_row2_col17\" class=\"data row2 col17\" >0</td>\n",
       "      <td id=\"T_a440e_row2_col18\" class=\"data row2 col18\" >0</td>\n",
       "      <td id=\"T_a440e_row2_col19\" class=\"data row2 col19\" >1</td>\n",
       "      <td id=\"T_a440e_row2_col20\" class=\"data row2 col20\" >0</td>\n",
       "      <td id=\"T_a440e_row2_col21\" class=\"data row2 col21\" >0</td>\n",
       "      <td id=\"T_a440e_row2_col22\" class=\"data row2 col22\" >0</td>\n",
       "      <td id=\"T_a440e_row2_col23\" class=\"data row2 col23\" >0</td>\n",
       "      <td id=\"T_a440e_row2_col24\" class=\"data row2 col24\" >1</td>\n",
       "      <td id=\"T_a440e_row2_col25\" class=\"data row2 col25\" >1</td>\n",
       "      <td id=\"T_a440e_row2_col26\" class=\"data row2 col26\" >1</td>\n",
       "      <td id=\"T_a440e_row2_col27\" class=\"data row2 col27\" >1</td>\n",
       "      <td id=\"T_a440e_row2_col28\" class=\"data row2 col28\" >1</td>\n",
       "    </tr>\n",
       "    <tr>\n",
       "      <th id=\"T_a440e_level1_row3\" class=\"row_heading level1 row3\" >4</th>\n",
       "      <td id=\"T_a440e_row3_col0\" class=\"data row3 col0\" >0</td>\n",
       "      <td id=\"T_a440e_row3_col1\" class=\"data row3 col1\" >1</td>\n",
       "      <td id=\"T_a440e_row3_col2\" class=\"data row3 col2\" >0</td>\n",
       "      <td id=\"T_a440e_row3_col3\" class=\"data row3 col3\" >0</td>\n",
       "      <td id=\"T_a440e_row3_col4\" class=\"data row3 col4\" >0</td>\n",
       "      <td id=\"T_a440e_row3_col5\" class=\"data row3 col5\" >0</td>\n",
       "      <td id=\"T_a440e_row3_col6\" class=\"data row3 col6\" >0</td>\n",
       "      <td id=\"T_a440e_row3_col7\" class=\"data row3 col7\" >0</td>\n",
       "      <td id=\"T_a440e_row3_col8\" class=\"data row3 col8\" >0</td>\n",
       "      <td id=\"T_a440e_row3_col9\" class=\"data row3 col9\" >1</td>\n",
       "      <td id=\"T_a440e_row3_col10\" class=\"data row3 col10\" >0</td>\n",
       "      <td id=\"T_a440e_row3_col11\" class=\"data row3 col11\" >1</td>\n",
       "      <td id=\"T_a440e_row3_col12\" class=\"data row3 col12\" >1</td>\n",
       "      <td id=\"T_a440e_row3_col13\" class=\"data row3 col13\" >0</td>\n",
       "      <td id=\"T_a440e_row3_col14\" class=\"data row3 col14\" >0</td>\n",
       "      <td id=\"T_a440e_row3_col15\" class=\"data row3 col15\" >1</td>\n",
       "      <td id=\"T_a440e_row3_col16\" class=\"data row3 col16\" >0</td>\n",
       "      <td id=\"T_a440e_row3_col17\" class=\"data row3 col17\" >0</td>\n",
       "      <td id=\"T_a440e_row3_col18\" class=\"data row3 col18\" >0</td>\n",
       "      <td id=\"T_a440e_row3_col19\" class=\"data row3 col19\" >0</td>\n",
       "      <td id=\"T_a440e_row3_col20\" class=\"data row3 col20\" >0</td>\n",
       "      <td id=\"T_a440e_row3_col21\" class=\"data row3 col21\" >0</td>\n",
       "      <td id=\"T_a440e_row3_col22\" class=\"data row3 col22\" >0</td>\n",
       "      <td id=\"T_a440e_row3_col23\" class=\"data row3 col23\" >0</td>\n",
       "      <td id=\"T_a440e_row3_col24\" class=\"data row3 col24\" >0</td>\n",
       "      <td id=\"T_a440e_row3_col25\" class=\"data row3 col25\" >0</td>\n",
       "      <td id=\"T_a440e_row3_col26\" class=\"data row3 col26\" >1</td>\n",
       "      <td id=\"T_a440e_row3_col27\" class=\"data row3 col27\" >1</td>\n",
       "      <td id=\"T_a440e_row3_col28\" class=\"data row3 col28\" >0</td>\n",
       "    </tr>\n",
       "    <tr>\n",
       "      <th id=\"T_a440e_level1_row4\" class=\"row_heading level1 row4\" >0</th>\n",
       "      <td id=\"T_a440e_row4_col0\" class=\"data row4 col0\" >0</td>\n",
       "      <td id=\"T_a440e_row4_col1\" class=\"data row4 col1\" >1</td>\n",
       "      <td id=\"T_a440e_row4_col2\" class=\"data row4 col2\" >0</td>\n",
       "      <td id=\"T_a440e_row4_col3\" class=\"data row4 col3\" >0</td>\n",
       "      <td id=\"T_a440e_row4_col4\" class=\"data row4 col4\" >0</td>\n",
       "      <td id=\"T_a440e_row4_col5\" class=\"data row4 col5\" >0</td>\n",
       "      <td id=\"T_a440e_row4_col6\" class=\"data row4 col6\" >0</td>\n",
       "      <td id=\"T_a440e_row4_col7\" class=\"data row4 col7\" >0</td>\n",
       "      <td id=\"T_a440e_row4_col8\" class=\"data row4 col8\" >0</td>\n",
       "      <td id=\"T_a440e_row4_col9\" class=\"data row4 col9\" >1</td>\n",
       "      <td id=\"T_a440e_row4_col10\" class=\"data row4 col10\" >0</td>\n",
       "      <td id=\"T_a440e_row4_col11\" class=\"data row4 col11\" >1</td>\n",
       "      <td id=\"T_a440e_row4_col12\" class=\"data row4 col12\" >1</td>\n",
       "      <td id=\"T_a440e_row4_col13\" class=\"data row4 col13\" >0</td>\n",
       "      <td id=\"T_a440e_row4_col14\" class=\"data row4 col14\" >0</td>\n",
       "      <td id=\"T_a440e_row4_col15\" class=\"data row4 col15\" >1</td>\n",
       "      <td id=\"T_a440e_row4_col16\" class=\"data row4 col16\" >0</td>\n",
       "      <td id=\"T_a440e_row4_col17\" class=\"data row4 col17\" >0</td>\n",
       "      <td id=\"T_a440e_row4_col18\" class=\"data row4 col18\" >0</td>\n",
       "      <td id=\"T_a440e_row4_col19\" class=\"data row4 col19\" >0</td>\n",
       "      <td id=\"T_a440e_row4_col20\" class=\"data row4 col20\" >0</td>\n",
       "      <td id=\"T_a440e_row4_col21\" class=\"data row4 col21\" >0</td>\n",
       "      <td id=\"T_a440e_row4_col22\" class=\"data row4 col22\" >0</td>\n",
       "      <td id=\"T_a440e_row4_col23\" class=\"data row4 col23\" >0</td>\n",
       "      <td id=\"T_a440e_row4_col24\" class=\"data row4 col24\" >1</td>\n",
       "      <td id=\"T_a440e_row4_col25\" class=\"data row4 col25\" >0</td>\n",
       "      <td id=\"T_a440e_row4_col26\" class=\"data row4 col26\" >1</td>\n",
       "      <td id=\"T_a440e_row4_col27\" class=\"data row4 col27\" >1</td>\n",
       "      <td id=\"T_a440e_row4_col28\" class=\"data row4 col28\" >1</td>\n",
       "    </tr>\n",
       "    <tr>\n",
       "      <th id=\"T_a440e_level1_row5\" class=\"row_heading level1 row5\" >5</th>\n",
       "      <td id=\"T_a440e_row5_col0\" class=\"data row5 col0\" >0</td>\n",
       "      <td id=\"T_a440e_row5_col1\" class=\"data row5 col1\" >1</td>\n",
       "      <td id=\"T_a440e_row5_col2\" class=\"data row5 col2\" >0</td>\n",
       "      <td id=\"T_a440e_row5_col3\" class=\"data row5 col3\" >0</td>\n",
       "      <td id=\"T_a440e_row5_col4\" class=\"data row5 col4\" >0</td>\n",
       "      <td id=\"T_a440e_row5_col5\" class=\"data row5 col5\" >0</td>\n",
       "      <td id=\"T_a440e_row5_col6\" class=\"data row5 col6\" >0</td>\n",
       "      <td id=\"T_a440e_row5_col7\" class=\"data row5 col7\" >0</td>\n",
       "      <td id=\"T_a440e_row5_col8\" class=\"data row5 col8\" >0</td>\n",
       "      <td id=\"T_a440e_row5_col9\" class=\"data row5 col9\" >1</td>\n",
       "      <td id=\"T_a440e_row5_col10\" class=\"data row5 col10\" >1</td>\n",
       "      <td id=\"T_a440e_row5_col11\" class=\"data row5 col11\" >1</td>\n",
       "      <td id=\"T_a440e_row5_col12\" class=\"data row5 col12\" >0</td>\n",
       "      <td id=\"T_a440e_row5_col13\" class=\"data row5 col13\" >0</td>\n",
       "      <td id=\"T_a440e_row5_col14\" class=\"data row5 col14\" >0</td>\n",
       "      <td id=\"T_a440e_row5_col15\" class=\"data row5 col15\" >0</td>\n",
       "      <td id=\"T_a440e_row5_col16\" class=\"data row5 col16\" >1</td>\n",
       "      <td id=\"T_a440e_row5_col17\" class=\"data row5 col17\" >0</td>\n",
       "      <td id=\"T_a440e_row5_col18\" class=\"data row5 col18\" >0</td>\n",
       "      <td id=\"T_a440e_row5_col19\" class=\"data row5 col19\" >0</td>\n",
       "      <td id=\"T_a440e_row5_col20\" class=\"data row5 col20\" >0</td>\n",
       "      <td id=\"T_a440e_row5_col21\" class=\"data row5 col21\" >0</td>\n",
       "      <td id=\"T_a440e_row5_col22\" class=\"data row5 col22\" >0</td>\n",
       "      <td id=\"T_a440e_row5_col23\" class=\"data row5 col23\" >0</td>\n",
       "      <td id=\"T_a440e_row5_col24\" class=\"data row5 col24\" >0</td>\n",
       "      <td id=\"T_a440e_row5_col25\" class=\"data row5 col25\" >0</td>\n",
       "      <td id=\"T_a440e_row5_col26\" class=\"data row5 col26\" >0</td>\n",
       "      <td id=\"T_a440e_row5_col27\" class=\"data row5 col27\" >1</td>\n",
       "      <td id=\"T_a440e_row5_col28\" class=\"data row5 col28\" >0</td>\n",
       "    </tr>\n",
       "    <tr>\n",
       "      <th id=\"T_a440e_level1_row6\" class=\"row_heading level1 row6\" >2</th>\n",
       "      <td id=\"T_a440e_row6_col0\" class=\"data row6 col0\" >0</td>\n",
       "      <td id=\"T_a440e_row6_col1\" class=\"data row6 col1\" >1</td>\n",
       "      <td id=\"T_a440e_row6_col2\" class=\"data row6 col2\" >0</td>\n",
       "      <td id=\"T_a440e_row6_col3\" class=\"data row6 col3\" >0</td>\n",
       "      <td id=\"T_a440e_row6_col4\" class=\"data row6 col4\" >0</td>\n",
       "      <td id=\"T_a440e_row6_col5\" class=\"data row6 col5\" >0</td>\n",
       "      <td id=\"T_a440e_row6_col6\" class=\"data row6 col6\" >0</td>\n",
       "      <td id=\"T_a440e_row6_col7\" class=\"data row6 col7\" >0</td>\n",
       "      <td id=\"T_a440e_row6_col8\" class=\"data row6 col8\" >0</td>\n",
       "      <td id=\"T_a440e_row6_col9\" class=\"data row6 col9\" >1</td>\n",
       "      <td id=\"T_a440e_row6_col10\" class=\"data row6 col10\" >1</td>\n",
       "      <td id=\"T_a440e_row6_col11\" class=\"data row6 col11\" >1</td>\n",
       "      <td id=\"T_a440e_row6_col12\" class=\"data row6 col12\" >0</td>\n",
       "      <td id=\"T_a440e_row6_col13\" class=\"data row6 col13\" >0</td>\n",
       "      <td id=\"T_a440e_row6_col14\" class=\"data row6 col14\" >0</td>\n",
       "      <td id=\"T_a440e_row6_col15\" class=\"data row6 col15\" >0</td>\n",
       "      <td id=\"T_a440e_row6_col16\" class=\"data row6 col16\" >1</td>\n",
       "      <td id=\"T_a440e_row6_col17\" class=\"data row6 col17\" >0</td>\n",
       "      <td id=\"T_a440e_row6_col18\" class=\"data row6 col18\" >0</td>\n",
       "      <td id=\"T_a440e_row6_col19\" class=\"data row6 col19\" >1</td>\n",
       "      <td id=\"T_a440e_row6_col20\" class=\"data row6 col20\" >0</td>\n",
       "      <td id=\"T_a440e_row6_col21\" class=\"data row6 col21\" >0</td>\n",
       "      <td id=\"T_a440e_row6_col22\" class=\"data row6 col22\" >0</td>\n",
       "      <td id=\"T_a440e_row6_col23\" class=\"data row6 col23\" >0</td>\n",
       "      <td id=\"T_a440e_row6_col24\" class=\"data row6 col24\" >1</td>\n",
       "      <td id=\"T_a440e_row6_col25\" class=\"data row6 col25\" >1</td>\n",
       "      <td id=\"T_a440e_row6_col26\" class=\"data row6 col26\" >0</td>\n",
       "      <td id=\"T_a440e_row6_col27\" class=\"data row6 col27\" >1</td>\n",
       "      <td id=\"T_a440e_row6_col28\" class=\"data row6 col28\" >0</td>\n",
       "    </tr>\n",
       "    <tr>\n",
       "      <th id=\"T_a440e_level1_row7\" class=\"row_heading level1 row7\" >1</th>\n",
       "      <td id=\"T_a440e_row7_col0\" class=\"data row7 col0\" >0</td>\n",
       "      <td id=\"T_a440e_row7_col1\" class=\"data row7 col1\" >1</td>\n",
       "      <td id=\"T_a440e_row7_col2\" class=\"data row7 col2\" >0</td>\n",
       "      <td id=\"T_a440e_row7_col3\" class=\"data row7 col3\" >0</td>\n",
       "      <td id=\"T_a440e_row7_col4\" class=\"data row7 col4\" >0</td>\n",
       "      <td id=\"T_a440e_row7_col5\" class=\"data row7 col5\" >0</td>\n",
       "      <td id=\"T_a440e_row7_col6\" class=\"data row7 col6\" >0</td>\n",
       "      <td id=\"T_a440e_row7_col7\" class=\"data row7 col7\" >0</td>\n",
       "      <td id=\"T_a440e_row7_col8\" class=\"data row7 col8\" >0</td>\n",
       "      <td id=\"T_a440e_row7_col9\" class=\"data row7 col9\" >1</td>\n",
       "      <td id=\"T_a440e_row7_col10\" class=\"data row7 col10\" >1</td>\n",
       "      <td id=\"T_a440e_row7_col11\" class=\"data row7 col11\" >1</td>\n",
       "      <td id=\"T_a440e_row7_col12\" class=\"data row7 col12\" >0</td>\n",
       "      <td id=\"T_a440e_row7_col13\" class=\"data row7 col13\" >0</td>\n",
       "      <td id=\"T_a440e_row7_col14\" class=\"data row7 col14\" >0</td>\n",
       "      <td id=\"T_a440e_row7_col15\" class=\"data row7 col15\" >1</td>\n",
       "      <td id=\"T_a440e_row7_col16\" class=\"data row7 col16\" >1</td>\n",
       "      <td id=\"T_a440e_row7_col17\" class=\"data row7 col17\" >0</td>\n",
       "      <td id=\"T_a440e_row7_col18\" class=\"data row7 col18\" >0</td>\n",
       "      <td id=\"T_a440e_row7_col19\" class=\"data row7 col19\" >0</td>\n",
       "      <td id=\"T_a440e_row7_col20\" class=\"data row7 col20\" >0</td>\n",
       "      <td id=\"T_a440e_row7_col21\" class=\"data row7 col21\" >0</td>\n",
       "      <td id=\"T_a440e_row7_col22\" class=\"data row7 col22\" >0</td>\n",
       "      <td id=\"T_a440e_row7_col23\" class=\"data row7 col23\" >0</td>\n",
       "      <td id=\"T_a440e_row7_col24\" class=\"data row7 col24\" >0</td>\n",
       "      <td id=\"T_a440e_row7_col25\" class=\"data row7 col25\" >0</td>\n",
       "      <td id=\"T_a440e_row7_col26\" class=\"data row7 col26\" >0</td>\n",
       "      <td id=\"T_a440e_row7_col27\" class=\"data row7 col27\" >1</td>\n",
       "      <td id=\"T_a440e_row7_col28\" class=\"data row7 col28\" >0</td>\n",
       "    </tr>\n",
       "  </tbody>\n",
       "</table>\n"
      ],
      "text/plain": [
       "<pandas.io.formats.style.Styler at 0x7f932deb2f70>"
      ]
     },
     "execution_count": 13,
     "metadata": {},
     "output_type": "execute_result"
    }
   ],
   "source": [
    "%time tabulate(bns.attractors(tcr40_red.to_biolqm()))"
   ]
  },
  {
   "cell_type": "markdown",
   "id": "specified-envelope",
   "metadata": {},
   "source": [
    "## Case study II : Cortical Area Development Network\n",
    "\n",
    "This case study is the running example of the paper [Reducing Boolean Networks with Backward Boolean Equivalence](https://doi.org/10.1007/978-3-030-85633-5_1) ."
   ]
  },
  {
   "cell_type": "code",
   "execution_count": 14,
   "id": "vanilla-programmer",
   "metadata": {},
   "outputs": [
    {
     "data": {
      "text/plain": [
       "5"
      ]
     },
     "execution_count": 14,
     "metadata": {},
     "output_type": "execute_result"
    }
   ],
   "source": [
    "CAD = minibn.BooleanNetwork.load(\"CAD.bnet\")\n",
    "len(CAD)"
   ]
  },
  {
   "cell_type": "code",
   "execution_count": 15,
   "id": "nonprofit-september",
   "metadata": {},
   "outputs": [
    {
     "data": {
      "text/html": [
       "<div>\n",
       "<style scoped>\n",
       "    .dataframe tbody tr th:only-of-type {\n",
       "        vertical-align: middle;\n",
       "    }\n",
       "\n",
       "    .dataframe tbody tr th {\n",
       "        vertical-align: top;\n",
       "    }\n",
       "\n",
       "    .dataframe thead th {\n",
       "        text-align: right;\n",
       "    }\n",
       "</style>\n",
       "<table border=\"1\" class=\"dataframe\">\n",
       "  <thead>\n",
       "    <tr style=\"text-align: right;\">\n",
       "      <th></th>\n",
       "      <th>Coup_fti</th>\n",
       "      <th>Emx2</th>\n",
       "      <th>Fgf8</th>\n",
       "      <th>Pax6</th>\n",
       "      <th>Sp8</th>\n",
       "    </tr>\n",
       "  </thead>\n",
       "  <tbody>\n",
       "    <tr>\n",
       "      <th>0</th>\n",
       "      <td>0</td>\n",
       "      <td>0</td>\n",
       "      <td>1</td>\n",
       "      <td>1</td>\n",
       "      <td>1</td>\n",
       "    </tr>\n",
       "    <tr>\n",
       "      <th>1</th>\n",
       "      <td>1</td>\n",
       "      <td>1</td>\n",
       "      <td>0</td>\n",
       "      <td>0</td>\n",
       "      <td>0</td>\n",
       "    </tr>\n",
       "  </tbody>\n",
       "</table>\n",
       "</div>"
      ],
      "text/plain": [
       "   Coup_fti  Emx2  Fgf8  Pax6  Sp8\n",
       "0         0     0     1     1    1\n",
       "1         1     1     0     0    0"
      ]
     },
     "execution_count": 15,
     "metadata": {},
     "output_type": "execute_result"
    }
   ],
   "source": [
    "tabulate(bns.attractors(CAD.to_biolqm()))"
   ]
  },
  {
   "cell_type": "code",
   "execution_count": 16,
   "id": "incorrect-telephone",
   "metadata": {},
   "outputs": [
    {
     "data": {
      "text/plain": [
       "4"
      ]
     },
     "execution_count": 16,
     "metadata": {},
     "output_type": "execute_result"
    }
   ],
   "source": [
    "CAD_red = erode.bbe_reduction(CAD)\n",
    "len(CAD_red)"
   ]
  },
  {
   "cell_type": "code",
   "execution_count": 17,
   "id": "laden-person",
   "metadata": {},
   "outputs": [
    {
     "data": {
      "text/html": [
       "<div>\n",
       "<style scoped>\n",
       "    .dataframe tbody tr th:only-of-type {\n",
       "        vertical-align: middle;\n",
       "    }\n",
       "\n",
       "    .dataframe tbody tr th {\n",
       "        vertical-align: top;\n",
       "    }\n",
       "\n",
       "    .dataframe thead th {\n",
       "        text-align: right;\n",
       "    }\n",
       "</style>\n",
       "<table border=\"1\" class=\"dataframe\">\n",
       "  <thead>\n",
       "    <tr style=\"text-align: right;\">\n",
       "      <th></th>\n",
       "      <th>Coup_fti</th>\n",
       "      <th>Emx2</th>\n",
       "      <th>Fgf8</th>\n",
       "      <th>Pax6</th>\n",
       "    </tr>\n",
       "  </thead>\n",
       "  <tbody>\n",
       "    <tr>\n",
       "      <th>0</th>\n",
       "      <td>0</td>\n",
       "      <td>0</td>\n",
       "      <td>1</td>\n",
       "      <td>1</td>\n",
       "    </tr>\n",
       "    <tr>\n",
       "      <th>1</th>\n",
       "      <td>1</td>\n",
       "      <td>1</td>\n",
       "      <td>0</td>\n",
       "      <td>0</td>\n",
       "    </tr>\n",
       "  </tbody>\n",
       "</table>\n",
       "</div>"
      ],
      "text/plain": [
       "   Coup_fti  Emx2  Fgf8  Pax6\n",
       "0         0     0     1     1\n",
       "1         1     1     0     0"
      ]
     },
     "execution_count": 17,
     "metadata": {},
     "output_type": "execute_result"
    }
   ],
   "source": [
    "tabulate(bns.attractors(CAD_red.to_biolqm()))"
   ]
  },
  {
   "cell_type": "markdown",
   "id": "earlier-collaboration",
   "metadata": {},
   "source": [
    "## Case Study III : Signalling macrophage activation"
   ]
  },
  {
   "cell_type": "code",
   "execution_count": 18,
   "id": "adapted-crisis",
   "metadata": {},
   "outputs": [
    {
     "data": {
      "text/plain": [
       "321"
      ]
     },
     "execution_count": 18,
     "metadata": {},
     "output_type": "execute_result"
    }
   ],
   "source": [
    "SMA = minibn.BooleanNetwork.load(\"SignallinginMacrophageActivation.bnet\")\n",
    "len(SMA)"
   ]
  },
  {
   "cell_type": "markdown",
   "id": "contained-singer",
   "metadata": {},
   "source": [
    "Attractor detection of the original model takes a lot of time."
   ]
  },
  {
   "cell_type": "code",
   "execution_count": 19,
   "id": "educational-opposition",
   "metadata": {},
   "outputs": [],
   "source": [
    "#tabulate(bns.attractors(SMA.to_biolqm()))"
   ]
  },
  {
   "cell_type": "code",
   "execution_count": 20,
   "id": "corrected-logic",
   "metadata": {},
   "outputs": [
    {
     "data": {
      "text/plain": [
       "8"
      ]
     },
     "execution_count": 20,
     "metadata": {},
     "output_type": "execute_result"
    }
   ],
   "source": [
    "SMA_red = erode.bbe_reduction(SMA)\n",
    "len(SMA_red)"
   ]
  },
  {
   "cell_type": "code",
   "execution_count": 21,
   "id": "registered-intent",
   "metadata": {},
   "outputs": [
    {
     "name": "stdout",
     "output_type": "stream",
     "text": [
      "CPU times: user 12.7 ms, sys: 649 µs, total: 13.4 ms\n",
      "Wall time: 26 ms\n"
     ]
    },
    {
     "data": {
      "text/html": [
       "<div>\n",
       "<style scoped>\n",
       "    .dataframe tbody tr th:only-of-type {\n",
       "        vertical-align: middle;\n",
       "    }\n",
       "\n",
       "    .dataframe tbody tr th {\n",
       "        vertical-align: top;\n",
       "    }\n",
       "\n",
       "    .dataframe thead th {\n",
       "        text-align: right;\n",
       "    }\n",
       "</style>\n",
       "<table border=\"1\" class=\"dataframe\">\n",
       "  <thead>\n",
       "    <tr style=\"text-align: right;\">\n",
       "      <th></th>\n",
       "      <th>S_1</th>\n",
       "      <th>S_10</th>\n",
       "      <th>S_101</th>\n",
       "      <th>S_105</th>\n",
       "      <th>S_153</th>\n",
       "      <th>S_177</th>\n",
       "      <th>S_251</th>\n",
       "      <th>S_85</th>\n",
       "    </tr>\n",
       "  </thead>\n",
       "  <tbody>\n",
       "    <tr>\n",
       "      <th>0</th>\n",
       "      <td>0</td>\n",
       "      <td>0</td>\n",
       "      <td>0</td>\n",
       "      <td>0</td>\n",
       "      <td>1</td>\n",
       "      <td>0</td>\n",
       "      <td>0</td>\n",
       "      <td>0</td>\n",
       "    </tr>\n",
       "    <tr>\n",
       "      <th>1</th>\n",
       "      <td>1</td>\n",
       "      <td>1</td>\n",
       "      <td>1</td>\n",
       "      <td>0</td>\n",
       "      <td>0</td>\n",
       "      <td>1</td>\n",
       "      <td>1</td>\n",
       "      <td>1</td>\n",
       "    </tr>\n",
       "  </tbody>\n",
       "</table>\n",
       "</div>"
      ],
      "text/plain": [
       "   S_1  S_10  S_101  S_105  S_153  S_177  S_251  S_85\n",
       "0    0     0      0      0      1      0      0     0\n",
       "1    1     1      1      0      0      1      1     1"
      ]
     },
     "execution_count": 21,
     "metadata": {},
     "output_type": "execute_result"
    }
   ],
   "source": [
    "%time tabulate(bns.attractors(SMA_red.to_biolqm()))"
   ]
  },
  {
   "cell_type": "markdown",
   "id": "cdb22bef",
   "metadata": {},
   "source": [
    "## Advanced usage\n",
    "\n",
    "The `erode` module provides an API for interacting with ERODE partitions and reduction."
   ]
  },
  {
   "cell_type": "code",
   "execution_count": 22,
   "id": "a5355eab",
   "metadata": {},
   "outputs": [
    {
     "name": "stdout",
     "output_type": "stream",
     "text": [
      "ap-1_else-0_wt.bnet: 10 species.\n",
      "Species:\n",
      "[Ap, Ap2, Dl, Dl2, Fng, Fng2, N, N2, Ser, Ser2]\n",
      "\tAp:\ttrue\n",
      "\tAp2:\tfalse\n",
      "\tDl:\t(!Ap&N)\n",
      "\tDl2:\t(!Ap2&N2)\n",
      "\tFng:\tAp\n",
      "\tFng2:\tAp2\n",
      "\tN:\t((!Fng&Ser2) | (Fng&Dl2))\n",
      "\tN2:\t((((!Dl&Ser)&!Fng2) | ((Dl&!Ser)&Fng2)) | (Dl&Ser))\n",
      "\tSer:\tAp\n",
      "\tSer2:\tAp2\n"
     ]
    }
   ],
   "source": [
    "e = erode.load(\"ap-1_else-0_wt.bnet\")\n",
    "print(e)"
   ]
  },
  {
   "cell_type": "code",
   "execution_count": 23,
   "id": "156dd172",
   "metadata": {},
   "outputs": [
    {
     "data": {
      "text/plain": [
       "{'Ap': 1,\n",
       " 'Ap2': 1,\n",
       " 'Dl': 1,\n",
       " 'Dl2': 1,\n",
       " 'Fng': 1,\n",
       " 'Fng2': 1,\n",
       " 'N': 1,\n",
       " 'N2': 1,\n",
       " 'Ser': 1,\n",
       " 'Ser2': 1}"
      ]
     },
     "execution_count": 23,
     "metadata": {},
     "output_type": "execute_result"
    }
   ],
   "source": [
    "e.partition # current partition"
   ]
  },
  {
   "cell_type": "code",
   "execution_count": 24,
   "id": "73c9526f",
   "metadata": {},
   "outputs": [
    {
     "name": "stdout",
     "output_type": "stream",
     "text": [
      "The partition has 1 block out of 10 species:\n",
      "Block 1, Size: 10\n",
      "0-Ap \n",
      "1-Ap2 \n",
      "2-Dl \n",
      "3-Dl2 \n",
      "4-Fng \n",
      "5-Fng2 \n",
      "6-N \n",
      "7-N2 \n",
      "8-Ser \n",
      "9-Ser2 \n",
      "\n",
      "\n"
     ]
    }
   ],
   "source": [
    "print(e.partition) # pretty print"
   ]
  },
  {
   "cell_type": "code",
   "execution_count": 25,
   "id": "d5a1de23",
   "metadata": {},
   "outputs": [
    {
     "name": "stdout",
     "output_type": "stream",
     "text": [
      "The partition has 8 blocks out of 10 species:\n",
      "Block 1, Size: 1\n",
      "0-Ap \n",
      "\n",
      "Block 2, Size: 1\n",
      "1-Ap2 \n",
      "\n",
      "Block 3, Size: 1\n",
      "2-Dl \n",
      "\n",
      "Block 4, Size: 1\n",
      "3-Dl2 \n",
      "\n",
      "Block 5, Size: 2\n",
      "4-Fng \n",
      "8-Ser \n",
      "\n",
      "Block 6, Size: 2\n",
      "5-Fng2 \n",
      "9-Ser2 \n",
      "\n",
      "Block 7, Size: 1\n",
      "6-N \n",
      "\n",
      "Block 8, Size: 1\n",
      "7-N2 \n",
      "\n",
      "\n"
     ]
    }
   ],
   "source": [
    "bbe = e.bbe_partition()\n",
    "print(bbe)"
   ]
  },
  {
   "cell_type": "code",
   "execution_count": 26,
   "id": "4e3f0412",
   "metadata": {},
   "outputs": [
    {
     "data": {
      "text/plain": [
       "Ap <- 1\n",
       "Ap2 <- 0\n",
       "Dl <- !Ap&N\n",
       "Dl2 <- !Ap2&N2\n",
       "Fng <- Ap\n",
       "Fng2 <- Ap2\n",
       "N <- (!Fng&Fng2)|(Fng&Dl2)\n",
       "N2 <- (((!Dl&Fng)&!Fng2)|((Dl&!Fng)&Fng2))|(Dl&Fng)"
      ]
     },
     "execution_count": 26,
     "metadata": {},
     "output_type": "execute_result"
    }
   ],
   "source": [
    "f = e.reduce_model() # by default, returns a minibn.BooleanNetwork object\n",
    "f"
   ]
  },
  {
   "cell_type": "code",
   "execution_count": 27,
   "id": "db15d1eb",
   "metadata": {},
   "outputs": [],
   "source": [
    "e.reduce_model(output_bnet=\"ap-1_else-0_wt_BBE.bnet\") # silently outputs to file"
   ]
  },
  {
   "cell_type": "markdown",
   "id": "6bce5283",
   "metadata": {},
   "source": [
    "The full java API is accessible through `e.japi`."
   ]
  },
  {
   "cell_type": "code",
   "execution_count": null,
   "id": "f925a46c",
   "metadata": {},
   "outputs": [],
   "source": []
  }
 ],
 "metadata": {
  "kernelspec": {
   "display_name": "Python 3 (ipykernel)",
   "language": "python",
   "name": "python3"
  },
  "language_info": {
   "codemirror_mode": {
    "name": "ipython",
    "version": 3
   },
   "file_extension": ".py",
   "mimetype": "text/x-python",
   "name": "python",
   "nbconvert_exporter": "python",
   "pygments_lexer": "ipython3",
   "version": "3.9.12"
  }
 },
 "nbformat": 4,
 "nbformat_minor": 5
}
