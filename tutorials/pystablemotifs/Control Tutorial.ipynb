{
 "cells": [
  {
   "cell_type": "markdown",
   "id": "b1c13caa",
   "metadata": {},
   "source": [
    "# pystablemotifs - Control tutorial"
   ]
  },
  {
   "cell_type": "code",
   "execution_count": 1,
   "id": "da6b82f8",
   "metadata": {},
   "outputs": [],
   "source": [
    "import pystablemotifs as sm\n",
    "import networkx as nx\n",
    "from timeit import default_timer"
   ]
  },
  {
   "cell_type": "markdown",
   "id": "interesting-cartoon",
   "metadata": {},
   "source": [
    "### Model importation\n",
    "\n",
    "We show how to use biolqm to import a model and convert it to BooleanNet format:"
   ]
  },
  {
   "cell_type": "code",
   "execution_count": 2,
   "id": "duplicate-bangkok",
   "metadata": {},
   "outputs": [
    {
     "data": {
      "text/markdown": [
       "This notebook has been executed using the docker image `colomoto/colomoto-docker:local`"
      ],
      "text/plain": [
       "<IPython.core.display.Markdown object>"
      ]
     },
     "metadata": {},
     "output_type": "display_data"
    }
   ],
   "source": [
    "import biolqm"
   ]
  },
  {
   "cell_type": "code",
   "execution_count": 3,
   "id": "wound-harvard",
   "metadata": {},
   "outputs": [
    {
     "data": {
      "text/html": [
       "Using local file <a href='2018_zanudo_proliferation.zginml' target='_blank'>2018_zanudo_proliferation.zginml</a><br>"
      ],
      "text/plain": [
       "/notebook/tutorials/pystablemotifs/2018_zanudo_proliferation.zginml"
      ]
     },
     "metadata": {},
     "output_type": "display_data"
    },
    {
     "data": {
      "text/plain": [
       "'Proliferation.txt'"
      ]
     },
     "execution_count": 3,
     "metadata": {},
     "output_type": "execute_result"
    }
   ],
   "source": [
    "lqm = biolqm.load(\"http://ginsim.org/sites/default/files/2018_zanudo_proliferation.zginml\")\n",
    "biolqm.save(lqm, \"Proliferation.txt\", \"booleannet\")"
   ]
  },
  {
   "cell_type": "markdown",
   "id": "ce0ff5dd",
   "metadata": {},
   "source": [
    "## Load network and find attractors\n",
    "See the Basic Usage Tutorial for further details."
   ]
  },
  {
   "cell_type": "code",
   "execution_count": 4,
   "id": "33d4cbe2",
   "metadata": {},
   "outputs": [
    {
     "name": "stdout",
     "output_type": "stream",
     "text": [
      "AKT* = PIP3\n",
      "E2F* = !Rb\n",
      "EIF4F* = mTORC1\n",
      "FOXO3* = !MAPK | !AKT\n",
      "GFs* = GFs\n",
      "MAPK* = RAS | PIP3\n",
      "PI3K* = RTK | RAS\n",
      "PIP3* = PI3K\n",
      "PRAS40* = !AKT\n",
      "Proliferation_b1* = Proliferation_b1 & Proliferation_b2 | EIF4F & S6K | E2F\n",
      "Proliferation_b2* = E2F & EIF4F & Proliferation_b1 & S6K\n",
      "RAS* = RTK\n",
      "RTK* = GFs & !MAPK & !S6K | FOXO3 & GFs\n",
      "Rb* = !cycE\n",
      "S6K* = mTORC1\n",
      "TSC* = !AKT & !MAPK\n",
      "cycE* = AKT & !FOXO3 | E2F\n",
      "mTORC1* = !PRAS40 & !TSC\n"
     ]
    }
   ],
   "source": [
    "primes = sm.format.import_primes('Proliferation.txt',remove_constants=True)\n",
    "sm.format.pretty_print_prime_rules(primes)"
   ]
  },
  {
   "cell_type": "code",
   "execution_count": 5,
   "id": "a881424f",
   "metadata": {},
   "outputs": [
    {
     "name": "stdout",
     "output_type": "stream",
     "text": [
      "There are 3 attractors.\n",
      "{'AKT': 0, 'E2F': 1, 'EIF4F': 0, 'FOXO3': 1, 'GFs': 0, 'MAPK': 0, 'PI3K': 0, 'PIP3': 0, 'PRAS40': 1, 'Proliferation_b1': 1, 'Proliferation_b2': 0, 'RAS': 0, 'RTK': 0, 'Rb': 0, 'S6K': 0, 'TSC': 1, 'cycE': 1, 'mTORC1': 0}\n",
      "\n",
      "{'AKT': 0, 'E2F': 0, 'EIF4F': 0, 'FOXO3': 1, 'GFs': 0, 'MAPK': 0, 'PI3K': 0, 'PIP3': 0, 'PRAS40': 1, 'Proliferation_b1': 0, 'Proliferation_b2': 0, 'RAS': 0, 'RTK': 0, 'Rb': 1, 'S6K': 0, 'TSC': 1, 'cycE': 0, 'mTORC1': 0}\n",
      "\n",
      "{'AKT': 'X', 'E2F': 1, 'EIF4F': 'X', 'FOXO3': 'X', 'GFs': 1, 'MAPK': 'X', 'PI3K': 'X', 'PIP3': 'X', 'PRAS40': 'X', 'Proliferation_b1': 1, 'Proliferation_b2': 'X', 'RAS': 'X', 'RTK': 'X', 'Rb': 0, 'S6K': 'X', 'TSC': 'X', 'cycE': 1, 'mTORC1': 'X'}\n",
      "\n"
     ]
    }
   ],
   "source": [
    "ar = sm.AttractorRepertoire.from_primes(primes)\n",
    "ar.summary()"
   ]
  },
  {
   "cell_type": "markdown",
   "id": "ead96384",
   "metadata": {},
   "source": [
    "## Define a control target\n",
    "Select a set of node values that we wish to drive the system toward. In this example, we specify a set of nodes (of size 1), namely `Proliferation_b1=1`, that identifies two attractors. The succession-based methods require that the target is consistent with at least one attractor."
   ]
  },
  {
   "cell_type": "code",
   "execution_count": 6,
   "id": "88f8b203",
   "metadata": {},
   "outputs": [],
   "source": [
    "target = {'Proliferation_b1':1}"
   ]
  },
  {
   "cell_type": "markdown",
   "id": "11739af4",
   "metadata": {},
   "source": [
    "## Search for knockins/knockouts that achieve the target"
   ]
  },
  {
   "cell_type": "markdown",
   "id": "427faf82",
   "metadata": {},
   "source": [
    "### Brute-force \n",
    "The `max_drivers` parameter limits our search to a maximum number of concurrent interventions.\n",
    "Note that the brute force approach scales poorly with the size of the network and unless a value is specified for every variable, it does not guarantee convergence to an attractor. Therefore, the intervention must be permanent in general."
   ]
  },
  {
   "cell_type": "code",
   "execution_count": 7,
   "id": "09428643",
   "metadata": {},
   "outputs": [
    {
     "name": "stdout",
     "output_type": "stream",
     "text": [
      "Time running method: 0.03742701800001669\n",
      "Sets found:\n",
      "{'AKT': 1}\n",
      "{'PI3K': 1}\n",
      "{'Rb': 0}\n",
      "{'mTORC1': 1}\n",
      "{'RTK': 1}\n",
      "{'RAS': 1}\n",
      "{'cycE': 1}\n",
      "{'PIP3': 1}\n",
      "{'E2F': 1}\n",
      "{'Proliferation_b1': 1}\n",
      "{'MAPK': 1, 'PRAS40': 0}\n",
      "{'GFs': 1, 'MAPK': 0}\n",
      "{'PRAS40': 0, 'TSC': 0}\n",
      "{'FOXO3': 1, 'GFs': 1}\n",
      "{'EIF4F': 1, 'S6K': 1}\n"
     ]
    }
   ],
   "source": [
    "start=default_timer()\n",
    "interventions = sm.drivers.knock_to_partial_state(target,primes,max_drivers=2)\n",
    "end=default_timer()\n",
    "print(\"Time running method:\",end-start)\n",
    "print(\"Sets found:\")\n",
    "for x in interventions: \n",
    "    print({k:v for k,v in sorted(x.items())})"
   ]
  },
  {
   "cell_type": "markdown",
   "id": "7ebb2598",
   "metadata": {},
   "source": [
    "### Grasp search\n",
    "Here we use a heuristic approach to search for drivers that achieve the target. The `GRASP_iterations` parameter controls how many heuristic searches are performed."
   ]
  },
  {
   "cell_type": "code",
   "execution_count": 8,
   "id": "9d5b4b16",
   "metadata": {},
   "outputs": [
    {
     "name": "stdout",
     "output_type": "stream",
     "text": [
      "Time running method: 0.15597427600005176\n",
      "Sets found:\n",
      "{'PIP3': 1}\n",
      "{'cycE': 1}\n",
      "{'RAS': 1}\n",
      "{'PI3K': 1}\n",
      "{'RTK': 1}\n",
      "{'AKT': 1}\n",
      "{'E2F': 1}\n",
      "{'Rb': 0}\n",
      "{'mTORC1': 1}\n"
     ]
    }
   ],
   "source": [
    "GRASP_iterations=2000\n",
    "start=default_timer()\n",
    "interventions = sm.drivers.GRASP(target,ar.primes,GRASP_iterations)\n",
    "end=default_timer()\n",
    "print(\"Time running method:\",end-start)\n",
    "print(\"Sets found:\")\n",
    "for x in interventions: \n",
    "    print({k:v for k,v in sorted(x.items())})"
   ]
  },
  {
   "cell_type": "markdown",
   "id": "6a7f91fe",
   "metadata": {},
   "source": [
    "### Internal history\n",
    "In this method, all succession diagram pathways that are consistent with the target are identified. At each branch point in the succession diagram, the desired target stable motif is searched for internal driver node sets that drive the system into a narrower trap space containing the target. All possible paths are considered. All interventions can be permanent or temporary. Convergence to a consistent attractor (if it exists) is guaranteed."
   ]
  },
  {
   "cell_type": "code",
   "execution_count": 9,
   "id": "b3defbb6",
   "metadata": {},
   "outputs": [
    {
     "name": "stdout",
     "output_type": "stream",
     "text": [
      "\n",
      "Time running method: 0.00047217600058502285\n",
      "Sets found:\n",
      "{'GFs': 1}\n",
      "{'GFs': 0, 'Rb': 0}\n",
      "{'E2F': 1, 'GFs': 0}\n",
      "{'GFs': 0, 'cycE': 1}\n"
     ]
    }
   ],
   "source": [
    "start=default_timer()\n",
    "interventions = ar.reprogram_to_trap_spaces(target,\n",
    "                                            target_method='history',\n",
    "                                            driver_method='internal')\n",
    "end=default_timer()\n",
    "print()\n",
    "print(\"Time running method:\",end-start)\n",
    "print(\"Sets found:\")\n",
    "for x in interventions: print({k:v for k,v in sorted(x.items())})"
   ]
  },
  {
   "cell_type": "markdown",
   "id": "a92b8007",
   "metadata": {},
   "source": [
    "### Minimal history\n",
    "This method also selects drivers for target stable motifs at each succession diagram branch point. It differs from the previous method in that it does not require these drivers to all be internal to each stable motif. This allows the method to uncover more parsimonious interventions at the cost of increase computational burden. It may identify interventions that are inconsistent with the target; such interventions *must* be temporary (e.g., temporary administration of a drug)."
   ]
  },
  {
   "cell_type": "code",
   "execution_count": 10,
   "id": "477f66a2",
   "metadata": {},
   "outputs": [
    {
     "name": "stdout",
     "output_type": "stream",
     "text": [
      "\n",
      "Time running method: 0.0025028489999385783\n",
      "Sets found:\n",
      "---\n",
      "One temporary intervention from each list, in order.\n",
      "(1 interventions in total)\n",
      "[{'GFs': 1}] \n",
      "\n",
      "---\n",
      "One temporary intervention from each list, in order.\n",
      "(2 interventions in total)\n",
      "[{'GFs': 0}] \n",
      "\n",
      "[{'Rb': 0}, {'E2F': 1}, {'cycE': 1}] \n",
      "\n"
     ]
    }
   ],
   "source": [
    "start=default_timer()\n",
    "interventions = ar.reprogram_to_trap_spaces(target,\n",
    "                                            target_method='history',\n",
    "                                            driver_method='minimal')\n",
    "end=default_timer()\n",
    "print()\n",
    "print(\"Time running method:\",end-start)\n",
    "print(\"Sets found:\")\n",
    "for x in interventions: \n",
    "    print(\"---\")\n",
    "    print(\"One temporary intervention from each list, in order.\")\n",
    "    print(\"(\"+str(len(x))+\" interventions in total)\")\n",
    "    for y in x: print(y,\"\\n\")"
   ]
  },
  {
   "cell_type": "markdown",
   "id": "10aad6ab",
   "metadata": {},
   "source": [
    "### GRASP history\n",
    "This method is like the two above, but the driver search is conducted using a heuristic approach. This is most useful in extremely large networks. The benefit of the GRASP method is that it does not consider all possible variable combinations, and can therefore consider larger driver sets with comparitively little additional computational burden."
   ]
  },
  {
   "cell_type": "code",
   "execution_count": 11,
   "id": "9a63ddd1",
   "metadata": {},
   "outputs": [
    {
     "name": "stdout",
     "output_type": "stream",
     "text": [
      "\n",
      "Time running method: 0.15195031399980508\n",
      "Sets found:\n",
      "---\n",
      "One temporary intervention from each list, in order.\n",
      "(1 interventions in total)\n",
      "[{'GFs': 1}] \n",
      "\n",
      "---\n",
      "One temporary intervention from each list, in order.\n",
      "(2 interventions in total)\n",
      "[{'GFs': 0}] \n",
      "\n",
      "[{'cycE': 1}, {'Rb': 0}, {'E2F': 1}] \n",
      "\n"
     ]
    }
   ],
   "source": [
    "start=default_timer()\n",
    "interventions = ar.reprogram_to_trap_spaces(target,\n",
    "                                            target_method='history',\n",
    "                                            driver_method='GRASP',\n",
    "                                            GRASP_iterations=500)\n",
    "end=default_timer()\n",
    "print()\n",
    "print(\"Time running method:\",end-start)\n",
    "print(\"Sets found:\")\n",
    "for x in interventions: \n",
    "    print(\"---\")\n",
    "    print(\"One temporary intervention from each list, in order.\")\n",
    "    print(\"(\"+str(len(x))+\" interventions in total)\")\n",
    "    for y in x: print(y,\"\\n\")"
   ]
  },
  {
   "cell_type": "markdown",
   "id": "fceb71fa",
   "metadata": {},
   "source": [
    "### Minimal merge\n",
    "In this method, all minimal trap spaces containing only attractors consistent with the target are found, and a brute force search is conducted to identify interventions of minimal size that drive the system into these trap spaces. Unlike the brute-force method, it does not require that the intervention be permanent. Interventions that are inconsistent with the target *must* be temporary. Generally, this method is slower than others, but also finds the most parsimonious interventions. The worst-case computation time grows rapidly with the `max_drivers` parameter, as all possible sets of variables up to this size can be considered."
   ]
  },
  {
   "cell_type": "code",
   "execution_count": 12,
   "id": "9f93d027",
   "metadata": {},
   "outputs": [
    {
     "name": "stdout",
     "output_type": "stream",
     "text": [
      "\n",
      "Time running method: 0.021936680000180786\n",
      "Sets found:\n",
      "{'GFs': 1}\n",
      "{'GFs': 0, 'PI3K': 1}\n",
      "{'Rb': 0, 'GFs': 0}\n",
      "{'GFs': 0, 'RTK': 1}\n",
      "{'GFs': 0, 'RAS': 1}\n",
      "{'GFs': 0, 'cycE': 1}\n",
      "{'GFs': 0, 'PIP3': 1}\n",
      "{'GFs': 0, 'E2F': 1}\n"
     ]
    }
   ],
   "source": [
    "start=default_timer()\n",
    "interventions = ar.reprogram_to_trap_spaces(target,\n",
    "                                            target_method='merge',\n",
    "                                            driver_method='minimal',\n",
    "                                            max_drivers=4)\n",
    "end=default_timer()\n",
    "print()\n",
    "print(\"Time running method:\",end-start)\n",
    "print(\"Sets found:\")\n",
    "for x in interventions: print(x)"
   ]
  },
  {
   "cell_type": "markdown",
   "id": "582a26bf",
   "metadata": {},
   "source": [
    "### Internal merge\n",
    "This method is like the above, but it only considers interventions that are internal to the stable motifs that constitute the trap spaces under consideration. Typically, this is faster, but it has the potential to overlook some interventions. Interventions can be temporary or permanent. As with the previous method, the worst-case computation time grows rapidly with the `max_drivers` parameter; however rather than considering combinations of all variables, this method considers only combinations of variables that belong to the stable motifs that make up the target trap space. Therefore, the scaling is better than the previous method."
   ]
  },
  {
   "cell_type": "code",
   "execution_count": 13,
   "id": "f56c9776",
   "metadata": {},
   "outputs": [
    {
     "name": "stdout",
     "output_type": "stream",
     "text": [
      "\n",
      "Time running method: 0.000921599999855971\n",
      "Sets found:\n",
      "{'GFs': 1}\n",
      "{'cycE': 1, 'GFs': 0}\n",
      "{'Rb': 0, 'GFs': 0}\n",
      "{'E2F': 1, 'GFs': 0}\n"
     ]
    }
   ],
   "source": [
    "start=default_timer()\n",
    "interventions = ar.reprogram_to_trap_spaces(target,\n",
    "                                            target_method='merge',\n",
    "                                            driver_method='internal',\n",
    "                                            max_drivers=4)\n",
    "end=default_timer()\n",
    "print()\n",
    "print(\"Time running method:\",end-start)\n",
    "print(\"Sets found:\")\n",
    "for x in interventions: print(x)"
   ]
  },
  {
   "cell_type": "markdown",
   "id": "96a2b19d",
   "metadata": {},
   "source": [
    "### GRASP merge\n",
    "This method is like the two above, but the driver search is conducted using a heuristic approach. This is most useful in extremely large networks when it is anticipated that only large intervention sets will drive the system to its desired target. This is due to the fact that method's computational cost scales polynomially with the size of considered intervention set (whereas the minimal merge method scales combinatorially)."
   ]
  },
  {
   "cell_type": "code",
   "execution_count": 14,
   "id": "7fbdab6b",
   "metadata": {},
   "outputs": [
    {
     "name": "stdout",
     "output_type": "stream",
     "text": [
      "\n",
      "Time running method: 0.13632410999980493\n",
      "Sets found:\n",
      "{'GFs': 1}\n",
      "{'GFs': 0, 'PIP3': 1}\n",
      "{'GFs': 0, 'PI3K': 1}\n",
      "{'GFs': 0, 'RAS': 1}\n",
      "{'GFs': 0, 'Rb': 0}\n",
      "{'cycE': 1, 'GFs': 0}\n",
      "{'GFs': 0, 'RTK': 1}\n",
      "{'E2F': 1, 'GFs': 0}\n"
     ]
    }
   ],
   "source": [
    "start=default_timer()\n",
    "interventions = ar.reprogram_to_trap_spaces(target,\n",
    "                                            target_method='merge',\n",
    "                                            driver_method='GRASP',\n",
    "                                            GRASP_iterations=500)\n",
    "end=default_timer()\n",
    "print()\n",
    "print(\"Time running method:\",end-start)\n",
    "print(\"Sets found:\")\n",
    "for x in interventions: print(x)"
   ]
  },
  {
   "cell_type": "code",
   "execution_count": null,
   "id": "94ce3bf9",
   "metadata": {},
   "outputs": [],
   "source": []
  }
 ],
 "metadata": {
  "kernelspec": {
   "display_name": "Python 3",
   "language": "python",
   "name": "python3"
  },
  "language_info": {
   "codemirror_mode": {
    "name": "ipython",
    "version": 3
   },
   "file_extension": ".py",
   "mimetype": "text/x-python",
   "name": "python",
   "nbconvert_exporter": "python",
   "pygments_lexer": "ipython3",
   "version": "3.9.1"
  }
 },
 "nbformat": 4,
 "nbformat_minor": 5
}
