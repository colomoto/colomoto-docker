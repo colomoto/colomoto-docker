{
 "cells": [
  {
   "cell_type": "code",
   "execution_count": 1,
   "metadata": {},
   "outputs": [],
   "source": [
    "import PyBoolNet"
   ]
  },
  {
   "cell_type": "code",
   "execution_count": 2,
   "metadata": {},
   "outputs": [],
   "source": [
    "# Manual model definition\n",
    "bnet = \"\"\"\n",
    "v1,\t!v1\n",
    "v2,\t1\n",
    "v3,\tv2 & (!v1 | v3)\n",
    "\"\"\"\n",
    "\n",
    "primes = PyBoolNet.FileExchange.bnet2primes(bnet)"
   ]
  },
  {
   "cell_type": "code",
   "execution_count": 3,
   "metadata": {},
   "outputs": [
    {
     "data": {
      "text/plain": [
       "{'v2': 1}"
      ]
     },
     "execution_count": 3,
     "metadata": {},
     "output_type": "execute_result"
    }
   ],
   "source": [
    "# finding nodes\n",
    "PyBoolNet.PrimeImplicants.find_constants(primes)"
   ]
  },
  {
   "cell_type": "code",
   "execution_count": 4,
   "metadata": {},
   "outputs": [
    {
     "name": "stdout",
     "output_type": "stream",
     "text": [
      "v2,  1\n",
      "\n",
      "v1,  !v1\n",
      "v3,  v2&v3 | !v1&v2\n",
      "v4,  v4 | v2\n",
      "\n",
      "v5,  !v1&!v2&v3 | !v1&v2&!v3 | v1&!v2&!v3\n",
      "\n"
     ]
    }
   ],
   "source": [
    "# modifying networks\n",
    "PyBoolNet.PrimeImplicants.create_variables(primes, {\"v4\": \"v4 | v2\"})\n",
    "PyBoolNet.PrimeImplicants.create_variables(primes, {\"v5\": lambda v1,v2,v3: v1+v2+v3==1})\n",
    "\n",
    "print(PyBoolNet.FileExchange.primes2bnet(primes))"
   ]
  },
  {
   "cell_type": "code",
   "execution_count": 5,
   "metadata": {},
   "outputs": [],
   "source": [
    "# reading from the repository\n",
    "primes = PyBoolNet.Repository.get_primes(\"remy_tumorigenesis\")"
   ]
  },
  {
   "cell_type": "code",
   "execution_count": 6,
   "metadata": {},
   "outputs": [
    {
     "name": "stdout",
     "output_type": "stream",
     "text": [
      "created igraph.pdf\n",
      "created igraph2.pdf\n",
      "created igraph3.pdf\n"
     ]
    }
   ],
   "source": [
    "PyBoolNet.InteractionGraphs.create_image(primes, \"igraph.pdf\")\n",
    "\n",
    "PyBoolNet.InteractionGraphs.create_image(primes, \"igraph2.pdf\", Styles=[\"anonymous\", \"sccs\"])\n",
    "\n",
    "\n",
    "# advanced drawing\n",
    "igraph = PyBoolNet.InteractionGraphs.primes2igraph(primes)\n",
    "\n",
    "for x in igraph.nodes():\n",
    "    if \"GF\" in x:\n",
    "        igraph.nodes[x][\"shape\"] = \"square\"\n",
    "        igraph.nodes[x][\"fillcolor\"] = \"lightblue\"\n",
    "\n",
    "PyBoolNet.InteractionGraphs.igraph2image(igraph, \"igraph3.pdf\")"
   ]
  },
  {
   "cell_type": "code",
   "execution_count": 7,
   "metadata": {},
   "outputs": [
    {
     "name": "stdout",
     "output_type": "stream",
     "text": [
      "created local_igraph.pdf\n"
     ]
    }
   ],
   "source": [
    "# local interaction graphs\n",
    "state = PyBoolNet.StateTransitionGraphs.random_state(primes)\n",
    "local_igraph = PyBoolNet.InteractionGraphs.local_igraph_of_state(primes, state)\n",
    "PyBoolNet.InteractionGraphs.add_style_interactionsigns(local_igraph)\n",
    "PyBoolNet.InteractionGraphs.igraph2image(local_igraph, \"local_igraph.pdf\")"
   ]
  }
 ],
 "metadata": {
  "kernelspec": {
   "display_name": "Python 3",
   "language": "python",
   "name": "python3"
  },
  "language_info": {
   "codemirror_mode": {
    "name": "ipython",
    "version": 3
   },
   "file_extension": ".py",
   "mimetype": "text/x-python",
   "name": "python",
   "nbconvert_exporter": "python",
   "pygments_lexer": "ipython3",
   "version": "3.8.3"
  }
 },
 "nbformat": 4,
 "nbformat_minor": 4
}
