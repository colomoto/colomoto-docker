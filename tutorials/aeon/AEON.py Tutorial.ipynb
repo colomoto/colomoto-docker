{
 "cells": [
  {
   "cell_type": "markdown",
   "metadata": {
    "cell_id": "00000-06f1a634-9752-4d57-b6e7-9fe0cf26fee1",
    "deepnote_app_coordinates": {
     "h": 5,
     "w": 12,
     "x": 0,
     "y": 6
    },
    "deepnote_cell_height": 215.59375,
    "deepnote_cell_type": "markdown",
    "tags": []
   },
   "source": [
    "# Biodivine AEON\n",
    "\n",
    "This notebook illustrates how to use Python bindings of the tool AEON to symbolically analyze the attractors of non-trivial Boolean networks.\n",
    "\n",
    "No special knowledge is necessary to understand the contents of this particular notebook. However, to successfully apply AEON to other problems, some basic understanding of AEON's notion of *partially specified Boolean network* and the underlying symbolic representation using BDDs is recommended (these are explained [here](./bn_tutorial.ipynb) and [here](bdd_tutorial.ipynb)).\n",
    "\n",
    "We start our exploration by loading a Boolean network from CellCollective:"
   ]
  },
  {
   "cell_type": "code",
   "execution_count": 1,
   "metadata": {
    "cell_id": "00000-2aa8354c-b904-4b5f-80b2-599e98cf09f3",
    "deepnote_app_coordinates": {
     "h": 5,
     "w": 12,
     "x": 0,
     "y": null
    },
    "deepnote_cell_height": 226.1875,
    "deepnote_cell_type": "code",
    "deepnote_output_heights": [
     21.1875
    ],
    "deepnote_to_be_reexecuted": false,
    "execution_millis": 400,
    "execution_start": 1647976213646,
    "owner_user_id": "9ab6d4c6-818a-402c-bd04-41512459699e",
    "source_hash": "3ef76b19",
    "tags": []
   },
   "outputs": [
    {
     "data": {
      "text/markdown": [
       "This notebook has been executed using the docker image `colomoto/colomoto-docker` built on `2021-11-16`"
      ],
      "text/plain": [
       "<IPython.core.display.Markdown object>"
      ]
     },
     "metadata": {},
     "output_type": "display_data"
    },
    {
     "data": {
      "text/html": [
       "Using local file <a href='cellcollective-36604-1.sbml' target='_blank'>cellcollective-36604-1.sbml</a><br>"
      ],
      "text/plain": [
       "/notebook/tutorials/AEON/cellcollective-36604-1.sbml"
      ]
     },
     "metadata": {},
     "output_type": "display_data"
    },
    {
     "name": "stdout",
     "output_type": "stream",
     "text": [
      "Loaded model with 66 variables.\n"
     ]
    }
   ],
   "source": [
    "from biodivine_aeon import *\n",
    "from pathlib import Path\n",
    "import cellcollective\n",
    "\n",
    "# Load the network from CellCellective.\n",
    "sbml = cellcollective.load(\"https://research.cellcollective.org/#module/36604:1/signaling-pathway-for-butanol-production-in-clostridium-beijerinckii-nrrl-b598/10\")\n",
    "\n",
    "# Open the loaded SBML and parse it as a Boolean network.\n",
    "model = BooleanNetwork.from_sbml(Path(sbml.localfile).read_text())\n",
    "print(f\"Loaded model with {model.num_vars()} variables.\")"
   ]
  },
  {
   "cell_type": "markdown",
   "metadata": {},
   "source": [
    "Right now, the model has no explicit paramters, but there are several variables for which no update function is given in the SBML file. AEON will automatically consider these as implicit unknown parameters of the network:"
   ]
  },
  {
   "cell_type": "code",
   "execution_count": 2,
   "metadata": {},
   "outputs": [
    {
     "name": "stdout",
     "output_type": "stream",
     "text": [
      "Number of explicit parameters: 0.\n",
      "Number of implicit parameters: 13.\n"
     ]
    }
   ],
   "source": [
    "print(f\"Number of explicit parameters: {model.num_parameters()}.\")\n",
    "implicit_parameters = 0\n",
    "for var in model.variables():\n",
    "    if model.get_update_function(var) == None:\n",
    "        implicit_parameters += 1\n",
    "print(f\"Number of implicit parameters: {implicit_parameters}.\")"
   ]
  },
  {
   "cell_type": "markdown",
   "metadata": {
    "cell_id": "00002-6f199e8c-19ee-485c-bc55-b9f64071d7b1",
    "deepnote_app_coordinates": {
     "h": 5,
     "w": 12,
     "x": 0,
     "y": 12
    },
    "deepnote_cell_height": 52.390625,
    "deepnote_cell_type": "markdown",
    "tags": []
   },
   "source": [
    "Before we can explore the attractors of this network, first let us observe that the network as downloaded from CellCollective is actually not logically consistent with its regulatory graph. AEON will notify us about this fact when we try to construct the network's asynchronous state-transition graph:"
   ]
  },
  {
   "cell_type": "code",
   "execution_count": 3,
   "metadata": {
    "cell_id": "00003-df3adfd6-aa81-4bbc-92ac-913749e86c21",
    "deepnote_app_coordinates": {
     "h": 5,
     "w": 12,
     "x": 0,
     "y": 18
    },
    "deepnote_cell_height": 791,
    "deepnote_cell_type": "code",
    "deepnote_to_be_reexecuted": false,
    "execution_millis": 355,
    "execution_start": 1647976213691,
    "source_hash": "c4c89fd2",
    "tags": []
   },
   "outputs": [
    {
     "name": "stdout",
     "output_type": "stream",
     "text": [
      "No update functions satisfy given constraints: \n",
      " - spoIIE not activating in spoIIAB.\n",
      " - sporulation has no effect in glucose___PTS.\n",
      " - sigA has no effect in spo0A_p.\n",
      "\n"
     ]
    }
   ],
   "source": [
    "try:\n",
    "    stg = SymbolicAsyncGraph(model)\n",
    "except Exception as e:\n",
    "    print(e)"
   ]
  },
  {
   "cell_type": "markdown",
   "metadata": {},
   "source": [
    "Fortunately, AEON can tell us exactly which properties are violated. So if we want to fix these issues, we know what variables to focus on. For now, we simply relax the conditions in the regulatory graph such that the existing update functions are valid:"
   ]
  },
  {
   "cell_type": "code",
   "execution_count": 4,
   "metadata": {},
   "outputs": [],
   "source": [
    "# Export the Boolean network as `.aeon` model string.\n",
    "model_aeon = model.to_aeon()\n",
    "\n",
    "# Relax the problematic regulation constraints:\n",
    "\n",
    "# Mark regulation \"spoIIE -> spoIIAB\" as non-monotonous:\n",
    "model_aeon = model_aeon.replace(\"spoIIE -> spoIIAB\", \"spoIIE -? spoIIAB\")\n",
    "# Mark regulation \"sporulation -| glucose___PTS\" as non-essential:\n",
    "model_aeon = model_aeon.replace(\"sporulation -| glucose___PTS\", \"sporulation -|? glucose___PTS\")\n",
    "# Mark regulation \"sigA -> spo0A_p\" as non-essential:\n",
    "model_aeon = model_aeon.replace(\"sigA -> spo0A_p\", \"sigA ->? spo0A_p\")\n",
    "\n",
    "# Load back the modified model:\n",
    "model = BooleanNetwork.from_aeon(model_aeon)"
   ]
  },
  {
   "cell_type": "markdown",
   "metadata": {
    "cell_id": "00004-c8d7a5f5-2b6e-4625-aa87-21859a962fd8",
    "deepnote_app_coordinates": {
     "h": 5,
     "w": 12,
     "x": 0,
     "y": 24
    },
    "deepnote_cell_height": 52.390625,
    "deepnote_cell_type": "markdown",
    "tags": []
   },
   "source": [
    "Now we can actually compute the attractors quite easily. However, note that since AEON has to consider each possible variant of the network, the computation can still take several seconds or minutes (recall that we actually have `2^13 = 8192` possible networks)."
   ]
  },
  {
   "cell_type": "code",
   "execution_count": 5,
   "metadata": {
    "cell_id": "00005-b69efddf-725f-4354-bbad-cc27abb2e4d1",
    "deepnote_app_coordinates": {
     "h": 5,
     "w": 12,
     "x": 0,
     "y": 30
    },
    "deepnote_cell_height": 190.1875,
    "deepnote_cell_type": "code",
    "deepnote_output_heights": [
     21.1875
    ],
    "deepnote_to_be_reexecuted": false,
    "execution_millis": 335,
    "execution_start": 1647976213736,
    "source_hash": "a28cd586",
    "tags": []
   },
   "outputs": [
    {
     "data": {
      "text/plain": [
       "[ColoredVertexSet(cardinality = 867718363543552, unique vertices = 867718363543552, unique colors = 6704),\n",
       " ColoredVertexSet(cardinality = 15959465984, unique vertices = 15959465984, unique colors = 1488)]"
      ]
     },
     "execution_count": 5,
     "metadata": {},
     "output_type": "execute_result"
    }
   ],
   "source": [
    "stg = SymbolicAsyncGraph(model)\n",
    "attractors = find_attractors(stg)\n",
    "attractors"
   ]
  },
  {
   "cell_type": "markdown",
   "metadata": {},
   "source": [
    "As we can see, AEON found two separate attractor sets. Since the sets are very large, only a summary of each set is printed. Each set has millions of vertices and thousands of colors -- AEON uses the term \"color\" to refer to concrete models arising for different parametrisations.\n",
    "\n",
    "However, in this case, we can actually verify that these two sets are color-disjoint. This means that each possible network actually still only has one attractor. Consequently, we can just merge the two sets and treat them as a single attractor:"
   ]
  },
  {
   "cell_type": "code",
   "execution_count": 6,
   "metadata": {},
   "outputs": [
    {
     "name": "stdout",
     "output_type": "stream",
     "text": [
      "Number of colors appearing in both sets: 0.0\n"
     ]
    },
    {
     "data": {
      "text/plain": [
       "ColoredVertexSet(cardinality = 867734323009536, unique vertices = 867734323009536, unique colors = 8192)"
      ]
     },
     "execution_count": 6,
     "metadata": {},
     "output_type": "execute_result"
    }
   ],
   "source": [
    "colors_in_both_sets = attractors[0].colors().intersect(attractors[1].colors())\n",
    "print(f\"Number of colors appearing in both sets: {colors_in_both_sets.cardinality()}\")\n",
    "\n",
    "attractor = attractors[0].union(attractors[1])\n",
    "attractor"
   ]
  },
  {
   "cell_type": "markdown",
   "metadata": {
    "cell_id": "00018-400e9395-9dcd-47eb-a639-1e742545f8ed",
    "deepnote_app_coordinates": {
     "h": 5,
     "w": 12,
     "x": 0,
     "y": 108
    },
    "deepnote_cell_height": 97.1875,
    "deepnote_cell_type": "markdown",
    "tags": []
   },
   "source": [
    "And just as we suspected, there is no intersection between the two sets. This can happen due to how the underlying algorithm works: some stable states are detected first, and more complex attractors are detected afterwards. However, since there are no intersections between these two sets, we can unify them and consider them as one attractor. \n",
    "\n",
    "Now, to better understand what is happening in this attractor, we can classify the colors based on their long-term behavioural characteristics (this can also take a few second to compute):"
   ]
  },
  {
   "cell_type": "code",
   "execution_count": 7,
   "metadata": {
    "cell_id": "00019-f365985f-aad1-4fbe-a885-9f4f0801a2fa",
    "deepnote_app_coordinates": {
     "h": 5,
     "w": 12,
     "x": 0,
     "y": 114
    },
    "deepnote_cell_height": 191.390625,
    "deepnote_cell_type": "code",
    "deepnote_output_heights": [
     40.390625
    ],
    "deepnote_to_be_reexecuted": false,
    "execution_millis": 10252,
    "execution_start": 1647976307694,
    "source_hash": "52d0f17",
    "tags": []
   },
   "outputs": [
    {
     "data": {
      "text/plain": [
       "{'stability': ColorSet(cardinality=2048),\n",
       " 'disorder': ColorSet(cardinality=6144)}"
      ]
     },
     "execution_count": 7,
     "metadata": {},
     "output_type": "execute_result"
    }
   ],
   "source": [
    "classes = classify_attractor(stg, attractor)\n",
    "classes"
   ]
  },
  {
   "cell_type": "markdown",
   "metadata": {
    "cell_id": "00020-0eab3d0c-6c9f-4434-801c-9bedc942beea",
    "deepnote_app_coordinates": {
     "h": 5,
     "w": 12,
     "x": 0,
     "y": 120
    },
    "deepnote_cell_height": 74.796875,
    "deepnote_cell_type": "markdown",
    "tags": []
   },
   "source": [
    "In this case, we can see that 2048 colors correspond to a stable state, and 6144 colors correspond to a disordered attractor (i.e. an attractor that is neither a stable state nor a cycle). In this case, we have no oscillating (cyclic) attractors. \n",
    "\n",
    "We can now use these classes to divide the `attractor` set based on its behaviour:"
   ]
  },
  {
   "cell_type": "code",
   "execution_count": 8,
   "metadata": {
    "cell_id": "00021-167a83d3-e88f-4a80-a79e-b387167cb8d9",
    "deepnote_app_coordinates": {
     "h": 5,
     "w": 12,
     "x": 0,
     "y": 126
    },
    "deepnote_cell_height": 203.390625,
    "deepnote_cell_type": "code",
    "deepnote_to_be_reexecuted": false,
    "execution_millis": 100,
    "execution_start": 1647976317992,
    "source_hash": "4ee7a226",
    "tags": []
   },
   "outputs": [
    {
     "name": "stdout",
     "output_type": "stream",
     "text": [
      "ColoredVertexSet(cardinality = 2048, unique vertices = 2048, unique colors = 2048)\n",
      "ColoredVertexSet(cardinality = 867734323007488, unique vertices = 867734323007488, unique colors = 6144)\n"
     ]
    }
   ],
   "source": [
    "stable_attractor = attractor.intersect_colors(classes[\"stability\"])\n",
    "disordered_attractor = attractor.intersect_colors(classes[\"disorder\"])\n",
    "\n",
    "print(stable_attractor)\n",
    "print(disordered_attractor)"
   ]
  },
  {
   "cell_type": "markdown",
   "metadata": {
    "cell_id": "00022-a08a7888-0c65-4f58-920e-0eec415b4bb8",
    "deepnote_app_coordinates": {
     "h": 5,
     "w": 12,
     "x": 0,
     "y": 132
    },
    "deepnote_cell_height": 52.390625,
    "deepnote_cell_type": "markdown",
    "tags": []
   },
   "source": [
    "To obtain some useful information from these sets, we can for example look at the possible values of specific network variables within each set. In this model, there is a variable called `sporulation` that is of particular interest, since it signifias that the cell is \"hybernating\". \n",
    "\n",
    "To study whether sporulation is on or off in the possible attractors, we can simply construct the set of all states where sporulation is on, and then compare it to the attractor sets:"
   ]
  },
  {
   "cell_type": "code",
   "execution_count": 9,
   "metadata": {
    "cell_id": "00023-ada43388-bf43-4427-ac09-9c8a98e20a68",
    "deepnote_app_coordinates": {
     "h": 5,
     "w": 12,
     "x": 0,
     "y": 138
    },
    "deepnote_cell_height": 462.171875,
    "deepnote_cell_type": "code",
    "deepnote_to_be_reexecuted": false,
    "execution_millis": 9,
    "execution_start": 1647976318083,
    "source_hash": "f92113f8",
    "tags": []
   },
   "outputs": [
    {
     "name": "stdout",
     "output_type": "stream",
     "text": [
      "Sporulation is ON in 2048.0 stable states.\n",
      "Sporulation is OFF in 0.0 stable states.\n",
      "Sporulation is ON in 100.0 % of stable attractor states.\n",
      "Sporulation is ON in 335223420223488.0 disorder states.\n",
      "Sporulation is OFF in 532510902784000.0 disorder states.\n",
      "Sporulation is ON in 38.63 % of disordered attractor states.\n"
     ]
    }
   ],
   "source": [
    "sporulation_on = stg.fix_variable(\"sporulation\", True)\n",
    "\n",
    "on_in_stable_attractor = stable_attractor.intersect(sporulation_on).vertices().cardinality()\n",
    "off_in_stable_attractor = stable_attractor.minus(sporulation_on).vertices().cardinality()\n",
    "\n",
    "print(\"Sporulation is ON in\", on_in_stable_attractor, \"stable states.\")\n",
    "print(\"Sporulation is OFF in\", off_in_stable_attractor, \"stable states.\")\n",
    "print(\"Sporulation is ON in\", round((on_in_stable_attractor / (on_in_stable_attractor + off_in_stable_attractor)) * 100.0, 2), \"% of stable attractor states.\")\n",
    "\n",
    "on_in_disorder_attractor = disordered_attractor.intersect(sporulation_on).vertices().cardinality()\n",
    "off_in_disorder_attractor = disordered_attractor.minus(sporulation_on).vertices().cardinality()\n",
    "\n",
    "print(\"Sporulation is ON in\", on_in_disorder_attractor, \"disorder states.\")\n",
    "print(\"Sporulation is OFF in\", off_in_disorder_attractor, \"disorder states.\")\n",
    "print(\"Sporulation is ON in\", round((on_in_disorder_attractor / (on_in_disorder_attractor + off_in_disorder_attractor)) * 100.0, 2), \"% of disordered attractor states.\")"
   ]
  },
  {
   "cell_type": "markdown",
   "metadata": {
    "cell_id": "00024-eaac833a-bc68-4216-92fe-246e2546e651",
    "deepnote_app_coordinates": {
     "h": 5,
     "w": 12,
     "x": 0,
     "y": 144
    },
    "deepnote_cell_height": 74.796875,
    "deepnote_cell_type": "markdown",
    "tags": []
   },
   "source": [
    "Interestingly, we have discovered that in every stable state, `sporulation` is active. We can thus use this fact to pick a witness network which guarantees that eventually, `sporulation` will always be active in a stable attractor. \n",
    "\n",
    "This witness network is completely specified (i.e. has no parameters or uninterpreted functions). In other words, all of the explicit and implicit parameters are fixed to guarantee the desired behaviour:"
   ]
  },
  {
   "cell_type": "code",
   "execution_count": 10,
   "metadata": {
    "cell_id": "00025-57239e8c-7c42-4f7c-97df-b312b625f165",
    "deepnote_app_coordinates": {
     "h": 5,
     "w": 12,
     "x": 0,
     "y": 150
    },
    "deepnote_cell_height": 136.1875,
    "deepnote_cell_type": "code",
    "deepnote_output_heights": [
     21.1875
    ],
    "deepnote_to_be_reexecuted": false,
    "execution_millis": 9,
    "execution_start": 1647976318084,
    "source_hash": "d7a325e7",
    "tags": []
   },
   "outputs": [
    {
     "name": "stdout",
     "output_type": "stream",
     "text": [
      "Number of explicit parameters: 0.\n",
      "Number of implicit parameters: 0.\n"
     ]
    }
   ],
   "source": [
    "witness = stg.pick_witness(classes[\"stability\"])\n",
    "\n",
    "print(f\"Number of explicit parameters: {witness.num_parameters()}.\")\n",
    "implicit_parameters = 0\n",
    "for var in witness.variables():\n",
    "    if witness.get_update_function(var) == None:\n",
    "        implicit_parameters += 1\n",
    "print(f\"Number of implicit parameters: {implicit_parameters}.\")"
   ]
  },
  {
   "cell_type": "markdown",
   "metadata": {
    "cell_id": "00026-7bb05833-ec0c-4a42-82b6-d592eb9ddd05",
    "deepnote_app_coordinates": {
     "h": 5,
     "w": 12,
     "x": 0,
     "y": 156
    },
    "deepnote_cell_height": 88.796875,
    "deepnote_cell_type": "markdown",
    "tags": []
   },
   "source": [
    "Finally, since computing the attractors can take a long time, it may be necessary to save them into a file for further processing. For this, we can export the underlying BDD representation:"
   ]
  },
  {
   "cell_type": "code",
   "execution_count": 11,
   "metadata": {
    "cell_id": "00027-4ab2af98-e712-4d0a-977d-d31a03e4bb13",
    "deepnote_app_coordinates": {
     "h": 5,
     "w": 12,
     "x": 0,
     "y": 162
    },
    "deepnote_cell_height": 136.1875,
    "deepnote_cell_type": "code",
    "deepnote_output_heights": [
     21.1875
    ],
    "deepnote_to_be_reexecuted": false,
    "execution_millis": 24,
    "execution_start": 1647976318093,
    "source_hash": "a088e395",
    "tags": []
   },
   "outputs": [
    {
     "data": {
      "text/plain": [
       "62415"
      ]
     },
     "execution_count": 11,
     "metadata": {},
     "output_type": "execute_result"
    }
   ],
   "source": [
    "Path(\"stable_attractor.bdd\").write_text(stable_attractor.to_bdd().to_raw_string())\n",
    "Path(\"disordered_attractor.bdd\").write_text(disordered_attractor.to_bdd().to_raw_string())"
   ]
  },
  {
   "cell_type": "markdown",
   "metadata": {
    "cell_id": "00028-0a59ba2b-03c1-4686-9392-2b2484d58768",
    "deepnote_app_coordinates": {
     "h": 5,
     "w": 12,
     "x": 0,
     "y": 168
    },
    "deepnote_cell_height": 74.796875,
    "deepnote_cell_type": "markdown",
    "tags": []
   },
   "source": [
    "With the BDDs saved, we can always reload them from disk. However, remeber that the BDD does not contain any information about the Boolean network from which it was constructed! So you must make sure that you only import BDDs that were created using the same Boolean model. Ideally, always save an `.aeon` or `.sbml` file along with any raw BDD data."
   ]
  },
  {
   "cell_type": "code",
   "execution_count": 12,
   "metadata": {
    "cell_id": "00029-0a4cb41e-fc60-4843-8be9-17c58a337729",
    "deepnote_app_coordinates": {
     "h": 5,
     "w": 12,
     "x": 0,
     "y": 174
    },
    "deepnote_cell_height": 203.390625,
    "deepnote_cell_type": "code",
    "deepnote_to_be_reexecuted": false,
    "execution_millis": 40,
    "execution_start": 1647976318109,
    "source_hash": "8a499033",
    "tags": []
   },
   "outputs": [
    {
     "name": "stdout",
     "output_type": "stream",
     "text": [
      "ColoredVertexSet(cardinality = 2048, unique vertices = 2048, unique colors = 2048)\n",
      "ColoredVertexSet(cardinality = 867734323007488, unique vertices = 867734323007488, unique colors = 6144)\n"
     ]
    }
   ],
   "source": [
    "stable_reloaded = stg.empty_colored_vertices().copy_with_raw_string(Path(\"stable_attractor.bdd\").read_text())\n",
    "disordered_reloaded = stg.empty_colored_vertices().copy_with_raw_string(Path(\"disordered_attractor.bdd\").read_text())\n",
    "\n",
    "print(stable_reloaded)\n",
    "print(disordered_reloaded)"
   ]
  },
  {
   "cell_type": "markdown",
   "metadata": {
    "cell_id": "00030-011824d9-8a64-46a5-8683-943f8680bf12",
    "deepnote_app_coordinates": {
     "h": 5,
     "w": 12,
     "x": 0,
     "y": 180
    },
    "deepnote_cell_height": 111.1875,
    "deepnote_cell_type": "markdown",
    "tags": []
   },
   "source": [
    "As we can see, the sets are the same as the ones that we saved into the files.\n",
    "\n",
    "Finally, let us quickly note that using AEON, you can also compute reachability from/to a specific symbolic set. Furthermore, you can specify a subset within which the reachability should be computed. Using this mechanism, you can often build more complex analysis techniques. For example, you can analyse the strong and weak basin of a particular attractor, or check for reachable attractors from a specific initial state."
   ]
  },
  {
   "cell_type": "code",
   "execution_count": 13,
   "metadata": {
    "cell_id": "00031-1f68d1ca-0d56-4e88-969b-aecefbb72573",
    "deepnote_app_coordinates": {
     "h": 5,
     "w": 12,
     "x": 0,
     "y": 186
    },
    "deepnote_cell_height": 281.578125,
    "deepnote_cell_type": "code",
    "deepnote_to_be_reexecuted": false,
    "execution_millis": 20,
    "execution_start": 1647976318694,
    "source_hash": "ad8be8f8",
    "tags": []
   },
   "outputs": [
    {
     "name": "stdout",
     "output_type": "stream",
     "text": [
      "Vertex [False, False, False, False, False, False, False, False, False, False, False, False, False, False, False, False, False, False, False, False, False, False, False, False, False, False, False, False, False, False, False, False, False, False, False, False, False, False, False, False, False, False, False, False, False, False, False, False, False, False, False, False, False, False, False, False, False, False, False, False, False, False, False, False, False, False]\n",
      "Basin ColoredVertexSet(cardinality = 11558771119839542000000, unique vertices = 63365787494591230000, unique colors = 8192)\n",
      "SCC ColoredVertexSet(cardinality = 8192, unique vertices = 1, unique colors = 8192)\n"
     ]
    }
   ],
   "source": [
    "# Pick a set containing a single arbitrary vertex from the whole state space:\n",
    "vertex = stg.unit_colored_vertices().pick_vertex()\n",
    "\n",
    "# The actual vertex is just a list of Boolean values.\n",
    "print(\"Vertex\", vertex.vertices().list_vertices()[0])\n",
    "\n",
    "# Compute the set of states backward-reachable from the vertex.\n",
    "basin = reach_bwd(stg, vertex)\n",
    "print(\"Basin\", basin)\n",
    "\n",
    "# Compute the strongly-connected-component in which the vertex resides.\n",
    "scc = reach_fwd(stg, vertex, basin)\n",
    "print(\"SCC\", scc)"
   ]
  },
  {
   "cell_type": "markdown",
   "metadata": {
    "cell_id": "00032-054bd497-350c-4394-8b43-9107eb225f9a",
    "deepnote_app_coordinates": {
     "h": 5,
     "w": 12,
     "x": 0,
     "y": 192
    },
    "deepnote_cell_height": 88.796875,
    "deepnote_cell_type": "markdown",
    "tags": []
   },
   "source": [
    "For example, for an initial state where all variables are inactive, we can see that its (weak) basin is quite large, but the vertex is in fact a trivial SCC (the whole strongly connected component consists only of one vertex, regardless of color). \n",
    "\n",
    "\n",
    "So far, this is the end of our demo. In case of any issues, feel free to contact us on [github](https://github.com/sybila/biodivine-aeon-py)! \n",
    "\n",
    "To learn more about what features and functions are available in AEON.py, you can follow the tuturial on [partially specified Boolean networks](./bn_tutorial.ipynb) and [symbolic computation using BDDs](bdd_tutorial.ipynb).\n",
    "\n",
    "Alternatively, you can also explore other case studies using AEON, which often include more complex examples:\n",
    " \n",
    " * [T-cell survival signaling](https://deepnote.com/@daemontus/Dynamical-Analysis-of-a-T-cell-Survival-Network-5hoh-QdyRMOM-wV6RLyJyw)\n",
    " * [Butanol production pathway](https://deepnote.com/@daemontus/Function-Repair-in-Butanol-Production-Pathway-kkkfVNKuSaKUWTabJkBYgQ)\n",
    " * [Type-1 interferon pathway](https://deepnote.com/@daemontus/Drug-Induced-Effects-on-Interferon-Signalling-ynwY09IvQeOWH3ey24uxew)"
   ]
  }
 ],
 "metadata": {
  "deepnote": {
   "is_reactive": false
  },
  "deepnote_app_layout": "article",
  "deepnote_execution_queue": [],
  "deepnote_notebook_id": "5e1b49af-a979-402a-8868-c29943f057c5",
  "kernelspec": {
   "display_name": "Python 3",
   "language": "python",
   "name": "python3"
  },
  "language_info": {
   "codemirror_mode": {
    "name": "ipython",
    "version": 3
   },
   "file_extension": ".py",
   "mimetype": "text/x-python",
   "name": "python",
   "nbconvert_exporter": "python",
   "pygments_lexer": "ipython3",
   "version": "3.9.1"
  }
 },
 "nbformat": 4,
 "nbformat_minor": 2
}
