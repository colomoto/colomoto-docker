{
 "cells": [
  {
   "cell_type": "markdown",
   "metadata": {
    "cell_id": "00000-deb66086-73be-4313-aef8-dfe675dea3f5",
    "deepnote_app_coordinates": {
     "h": 5,
     "w": 12,
     "x": 0,
     "y": null
    },
    "deepnote_cell_height": 344.578125,
    "deepnote_cell_type": "markdown",
    "tags": []
   },
   "source": [
    "# Parametrised Boolean Networks in AEON.py\n",
    "\n",
    "AEON.py offers basic functionality for working with Boolean networks. In particular, it supports **three major formats** (`.bnet`, `.sbml`, and `.aeon`), can perform basic **integrity checks** (e.g. that an update function only uses variables that are actually declared as regulators, etc.), and can be used to run simple operations on the regulatory graph (like decomposition into **strongly connected components** or detection of **feedback vertex sets**).\n",
    "\n",
    "However, there are two features in particular that (as of now) are uniquely implemented in this library:\n",
    " \n",
    " - Support for fully symbolic exploration of the asynchronous dynamics of a Boolean network (using `AsynchronousGraph`). With this functionality, you can typically explore the dynamics of networks with tens or hundreds of variables without suffering from state space explosion.\n",
    " - Support for \"parametrised\" (or \"partially specified\") networks, where the transitions possibly depend on unknown (uninterpreted) functions. For example, this means that if your data isn't sufficient to actually produce a single \"correct\" network, you can automatically work with a collection of networks with different dynamical constraints."
   ]
  },
  {
   "cell_type": "code",
   "execution_count": 1,
   "metadata": {
    "cell_id": "00001-abd287e2-85af-4a32-bf11-18f70ca10c6e",
    "deepnote_app_coordinates": {
     "h": 5,
     "w": 12,
     "x": 0,
     "y": 6
    },
    "deepnote_cell_height": 81,
    "deepnote_cell_type": "code",
    "deepnote_to_be_reexecuted": false,
    "execution_millis": 41,
    "execution_start": 1647976199125,
    "source_hash": "1370dff5",
    "tags": []
   },
   "outputs": [],
   "source": [
    "from biodivine_aeon import *"
   ]
  },
  {
   "cell_type": "markdown",
   "metadata": {
    "cell_id": "00002-fca34993-6fd3-4cd1-b657-893a3b49c588",
    "deepnote_app_coordinates": {
     "h": 5,
     "w": 12,
     "x": 0,
     "y": 12
    },
    "deepnote_cell_height": 52.390625,
    "deepnote_cell_type": "markdown",
    "tags": []
   },
   "source": [
    "If you have an existing model that you want to work with, you can load it right away as a Boolean network. Here, we will use (for demonstration) a very simple model with 5 variables:"
   ]
  },
  {
   "cell_type": "code",
   "execution_count": 2,
   "metadata": {
    "cell_id": "00003-3ff05373-305b-4a9e-9651-b17a483019d9",
    "deepnote_app_coordinates": {
     "h": 5,
     "w": 12,
     "x": 0,
     "y": 18
    },
    "deepnote_cell_height": 280.1875,
    "deepnote_cell_type": "code",
    "deepnote_output_heights": [
     21.1875
    ],
    "deepnote_to_be_reexecuted": false,
    "execution_millis": 3,
    "execution_start": 1647976199167,
    "source_hash": "d7a768eb",
    "tags": []
   },
   "outputs": [
    {
     "data": {
      "text/plain": [
       "5"
      ]
     },
     "execution_count": 2,
     "metadata": {},
     "output_type": "execute_result"
    }
   ],
   "source": [
    "from pathlib import Path\n",
    "\n",
    "model_string = txt = Path('g2a.sbml').read_text()\n",
    "g2a = BooleanNetwork.from_sbml(model_string)\n",
    "\n",
    "# You can also use\n",
    "# BooleanNetwork.from_bnet(...)\n",
    "# BooleanNetwork.from_aeon(...)\n",
    "\n",
    "g2a.variable_count()"
   ]
  },
  {
   "cell_type": "markdown",
   "metadata": {
    "cell_id": "00004-eda892a7-e5be-405a-a186-9ec011a840b0",
    "deepnote_app_coordinates": {
     "h": 5,
     "w": 12,
     "x": 0,
     "y": 60
    },
    "deepnote_cell_height": 74.796875,
    "deepnote_cell_type": "markdown",
    "tags": []
   },
   "source": [
    "Similarly, if you already have a Boolean network, you can easily print it to one of these formats. Just keep in mind that every format has slightly different capabilities (for example, `bnet` does not keep track of the underlying regulatory graph, so this information will be lost)."
   ]
  },
  {
   "cell_type": "code",
   "execution_count": 3,
   "metadata": {
    "cell_id": "00005-13d376c4-16d7-4faa-a3f6-d3a614a80d65",
    "deepnote_app_coordinates": {
     "h": 5,
     "w": 12,
     "x": 0,
     "y": 72
    },
    "deepnote_cell_height": 118.1875,
    "deepnote_cell_type": "code",
    "deepnote_output_heights": [
     21.1875
    ],
    "deepnote_to_be_reexecuted": false,
    "execution_millis": 8,
    "execution_start": 1647976199168,
    "source_hash": "f32c082b",
    "tags": []
   },
   "outputs": [
    {
     "name": "stdout",
     "output_type": "stream",
     "text": [
      "targets,factors\n",
      "CcrM, ((CtrA & !CcrM) & !SciP)\n",
      "CtrA, (((CtrA & !CtrA) | ((((!CtrA & GcrA) & !CcrM) & !SciP) & (CtrA | !CtrA))) | ((CtrA & !CcrM) & !SciP))\n",
      "DnaA, (((CtrA & !GcrA) & !DnaA) & CcrM)\n",
      "GcrA, (!CtrA & DnaA)\n",
      "SciP, (CtrA & !DnaA)\n",
      "\n"
     ]
    }
   ],
   "source": [
    "print(g2a.to_bnet())"
   ]
  },
  {
   "cell_type": "code",
   "execution_count": 4,
   "metadata": {},
   "outputs": [
    {
     "data": {
      "text/html": [
       "<img class=\"unconfined\" width=\"556px\" src=\"data:image/svg+xml;base64,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\">"
      ],
      "text/plain": [
       "<IPython.core.display.HTML object>"
      ]
     },
     "execution_count": 4,
     "metadata": {},
     "output_type": "execute_result"
    }
   ],
   "source": [
    "# We can also use other colomoto tools to visualise the network:\n",
    "import biolqm\n",
    "import ginsim\n",
    "\n",
    "lqm = biolqm.load(\"g2a.sbml\")\n",
    "lrg = biolqm.to_ginsim(lqm)\n",
    "ginsim.show(lrg)"
   ]
  },
  {
   "cell_type": "markdown",
   "metadata": {
    "cell_id": "00004-e25a9c5d-d840-46fa-b246-3fad15f053ac",
    "deepnote_app_coordinates": {
     "h": 5,
     "w": 12,
     "x": 0,
     "y": 24
    },
    "deepnote_cell_height": 167.59375,
    "deepnote_cell_type": "markdown",
    "tags": []
   },
   "source": [
    "### Regulatory Graphs\n",
    "\n",
    "Now, if you want to create your network in code, you usually have to first create its `RegulatoryGraph`. A regulatory graph consists simply of variables connected using regulation edges. Each regulation edge can have a monotonicity (sign; `+` or `-`), and can be essential (`True` or `False`). Monotonicity means that once we try to assign actual Boolean function to this regulation, it must be non-decreasing or non-increasing in the input coresponding to the regulator. Meanwhile, an essential regulation must have an impact on the regulated variable, while non-essential may simply ignore the regulation."
   ]
  },
  {
   "cell_type": "code",
   "execution_count": 5,
   "metadata": {
    "cell_id": "00005-d3120c45-9d5f-4d0c-a93d-9ee483011167",
    "deepnote_app_coordinates": {
     "h": 5,
     "w": 12,
     "x": 0,
     "y": 30
    },
    "deepnote_cell_height": 154.1875,
    "deepnote_cell_type": "code",
    "deepnote_output_heights": [
     21.1875
    ],
    "deepnote_to_be_reexecuted": false,
    "execution_millis": 9,
    "execution_start": 1647976199228,
    "source_hash": "a6fe505c",
    "tags": []
   },
   "outputs": [
    {
     "data": {
      "text/plain": [
       "[VariableId(0), VariableId(1), VariableId(2)]"
      ]
     },
     "execution_count": 5,
     "metadata": {},
     "output_type": "execute_result"
    }
   ],
   "source": [
    "# To create a regulatory graph, you give it a list of variables that you want to create\n",
    "rg = RegulatoryGraph([\"a\", \"b\", \"c\"])\n",
    "rg.variables()"
   ]
  },
  {
   "cell_type": "markdown",
   "metadata": {
    "cell_id": "00006-ade5fb5a-40be-4aff-bbed-00da7f5d629f",
    "deepnote_app_coordinates": {
     "h": 5,
     "w": 12,
     "x": 0,
     "y": 42
    },
    "deepnote_cell_height": 111.1875,
    "deepnote_cell_type": "markdown",
    "tags": []
   },
   "source": [
    "Notice that the variables in the regulatory graph are identified using `VariableId` objects. This is mostly to avoid working with name strings outside of the Boolean network or regulatory graph in Rust. However, most of our Python API should happily accept both a variable name or a `VariableId` object.\n",
    "\n",
    "You can always translate between the two easily:"
   ]
  },
  {
   "cell_type": "code",
   "execution_count": 6,
   "metadata": {
    "cell_id": "00007-4dd890ff-0bbc-4e93-ba03-caf710fe0f51",
    "deepnote_app_coordinates": {
     "h": 5,
     "w": 12,
     "x": 0,
     "y": 48
    },
    "deepnote_cell_height": 118.1875,
    "deepnote_cell_type": "code",
    "deepnote_output_heights": [
     21.1875
    ],
    "deepnote_to_be_reexecuted": false,
    "execution_millis": 1,
    "execution_start": 1647976199277,
    "source_hash": "6922d745",
    "tags": []
   },
   "outputs": [
    {
     "data": {
      "text/plain": [
       "'b'"
      ]
     },
     "execution_count": 6,
     "metadata": {},
     "output_type": "execute_result"
    }
   ],
   "source": [
    "# Note that rg.variable_names() also exists.\n",
    "rg.get_variable_name(rg.variables()[1])"
   ]
  },
  {
   "cell_type": "code",
   "execution_count": 7,
   "metadata": {
    "cell_id": "00008-0b764f9b-d953-415c-8886-1035a6a66809",
    "deepnote_app_coordinates": {
     "h": 5,
     "w": 12,
     "x": 0,
     "y": 54
    },
    "deepnote_cell_height": 118.1875,
    "deepnote_cell_type": "code",
    "deepnote_output_heights": [
     21.1875
    ],
    "deepnote_to_be_reexecuted": false,
    "execution_millis": 3,
    "execution_start": 1647976199278,
    "source_hash": "2c59a712",
    "tags": []
   },
   "outputs": [
    {
     "data": {
      "text/plain": [
       "VariableId(2)"
      ]
     },
     "execution_count": 7,
     "metadata": {},
     "output_type": "execute_result"
    }
   ],
   "source": [
    "rg.find_variable(\"c\")"
   ]
  },
  {
   "cell_type": "markdown",
   "metadata": {
    "cell_id": "00013-2149009a-01d4-4ff5-a494-1d59d3c05dd5",
    "deepnote_app_coordinates": {
     "h": 5,
     "w": 12,
     "x": 0,
     "y": 84
    },
    "deepnote_cell_height": 52.390625,
    "deepnote_cell_type": "markdown",
    "tags": []
   },
   "source": [
    "Now, we can start adding regulations to our graph. Notice that the sign and essentiality always need to be specified. To identify variables, we can use both names and numeric IDs."
   ]
  },
  {
   "cell_type": "code",
   "execution_count": 8,
   "metadata": {
    "cell_id": "00006-7eda1733-33a7-44ec-8fb8-e7dffe222e1a",
    "deepnote_app_coordinates": {
     "h": 5,
     "w": 12,
     "x": 0,
     "y": 36
    },
    "deepnote_cell_height": 396.5625,
    "deepnote_cell_type": "code",
    "deepnote_output_heights": [
     155.5625
    ],
    "deepnote_to_be_reexecuted": false,
    "execution_millis": 4,
    "execution_start": 1647976199279,
    "source_hash": "29e7940",
    "tags": []
   },
   "outputs": [
    {
     "data": {
      "text/plain": [
       "[{'source': VariableId(0),\n",
       "  'target': VariableId(1),\n",
       "  'essential': True,\n",
       "  'sign': '+'},\n",
       " {'source': VariableId(1),\n",
       "  'target': VariableId(2),\n",
       "  'essential': False,\n",
       "  'sign': None},\n",
       " {'source': VariableId(1),\n",
       "  'target': VariableId(0),\n",
       "  'essential': False,\n",
       "  'sign': None},\n",
       " {'source': VariableId(0),\n",
       "  'target': VariableId(0),\n",
       "  'essential': False,\n",
       "  'sign': None},\n",
       " {'source': VariableId(2),\n",
       "  'target': VariableId(2),\n",
       "  'essential': False,\n",
       "  'sign': None}]"
      ]
     },
     "execution_count": 8,
     "metadata": {},
     "output_type": "execute_result"
    }
   ],
   "source": [
    "# You can also use rg.ensure_regulation to update existing regulations.\n",
    "\n",
    "rg.add_regulation({ \"source\": \"a\", \"target\": \"b\", \"sign\": \"+\", \"essential\": True })\n",
    "\n",
    "rg.add_regulation({ \"source\": \"b\", \"target\": \"c\", \"sign\": None, \"essential\": False })\n",
    "rg.add_regulation({ \"source\": \"b\", \"target\": \"a\", \"sign\": None, \"essential\": False })\n",
    "\n",
    "rg.add_regulation({ \"source\": \"a\", \"target\": \"a\", \"sign\": None, \"essential\": False }) # autoregulations\n",
    "rg.add_regulation({ \"source\": \"c\", \"target\": \"c\", \"sign\": None, \"essential\": False })\n",
    "\n",
    "rg.regulations()"
   ]
  },
  {
   "cell_type": "code",
   "execution_count": 9,
   "metadata": {
    "cell_id": "00015-65ba85db-3989-4bbf-8a19-c4c90dfd0fd8",
    "deepnote_app_coordinates": {
     "h": 5,
     "w": 12,
     "x": 0,
     "y": 102
    },
    "deepnote_cell_height": 175.78125,
    "deepnote_cell_type": "code",
    "deepnote_output_heights": [
     78.78125
    ],
    "deepnote_to_be_reexecuted": false,
    "execution_millis": 6,
    "execution_start": 1647976199284,
    "source_hash": "37cc4127",
    "tags": []
   },
   "outputs": [
    {
     "data": {
      "text/plain": [
       "{'source': VariableId(0),\n",
       " 'target': VariableId(1),\n",
       " 'essential': True,\n",
       " 'sign': '+'}"
      ]
     },
     "execution_count": 9,
     "metadata": {},
     "output_type": "execute_result"
    }
   ],
   "source": [
    "rg.find_regulation(\"a\", \"b\")"
   ]
  },
  {
   "cell_type": "markdown",
   "metadata": {
    "cell_id": "00015-b0b2ad1e-4f84-4dbc-b035-f7bf66d3c4c1",
    "deepnote_app_coordinates": {
     "h": 5,
     "w": 12,
     "x": 0,
     "y": 90
    },
    "deepnote_cell_height": 52.390625,
    "deepnote_cell_type": "markdown",
    "tags": []
   },
   "source": [
    "Once we have a graph, we can perform some basic exploration of its structure:"
   ]
  },
  {
   "cell_type": "code",
   "execution_count": 10,
   "metadata": {
    "cell_id": "00016-2ce026c1-89f9-4706-91c2-aa68a9a47fd6",
    "deepnote_app_coordinates": {
     "h": 5,
     "w": 12,
     "x": 0,
     "y": 96
    },
    "deepnote_cell_height": 118.1875,
    "deepnote_cell_type": "code",
    "deepnote_output_heights": [
     21.1875
    ],
    "deepnote_to_be_reexecuted": false,
    "execution_millis": 1,
    "execution_start": 1647976199338,
    "source_hash": "8c145473",
    "tags": []
   },
   "outputs": [
    {
     "data": {
      "text/plain": [
       "{VariableId(0)}"
      ]
     },
     "execution_count": 10,
     "metadata": {},
     "output_type": "execute_result"
    }
   ],
   "source": [
    "rg.predecessors(\"b\")"
   ]
  },
  {
   "cell_type": "code",
   "execution_count": 11,
   "metadata": {
    "cell_id": "00018-d6fb7c98-42c8-4210-9a21-f4d86fe3b7e3",
    "deepnote_app_coordinates": {
     "h": 5,
     "w": 12,
     "x": 0,
     "y": 108
    },
    "deepnote_cell_height": 118.1875,
    "deepnote_cell_type": "code",
    "deepnote_output_heights": [
     21.1875
    ],
    "deepnote_to_be_reexecuted": false,
    "execution_millis": 2,
    "execution_start": 1647976199339,
    "source_hash": "6a6068e5",
    "tags": []
   },
   "outputs": [
    {
     "data": {
      "text/plain": [
       "{VariableId(0), VariableId(2)}"
      ]
     },
     "execution_count": 11,
     "metadata": {},
     "output_type": "execute_result"
    }
   ],
   "source": [
    "rg.successors(\"b\")"
   ]
  },
  {
   "cell_type": "code",
   "execution_count": 12,
   "metadata": {
    "cell_id": "00019-3d8d5561-1d82-4415-9657-d7d2598d3628",
    "deepnote_app_coordinates": {
     "h": 5,
     "w": 12,
     "x": 0,
     "y": 114
    },
    "deepnote_cell_height": 118.1875,
    "deepnote_cell_type": "code",
    "deepnote_output_heights": [
     21.1875
    ],
    "deepnote_to_be_reexecuted": false,
    "execution_millis": 2294876,
    "execution_start": 1647976199372,
    "source_hash": "6870a1e4",
    "tags": []
   },
   "outputs": [
    {
     "data": {
      "text/plain": [
       "{VariableId(0), VariableId(1)}"
      ]
     },
     "execution_count": 12,
     "metadata": {},
     "output_type": "execute_result"
    }
   ],
   "source": [
    "rg.backward_reachable(\"b\")"
   ]
  },
  {
   "cell_type": "code",
   "execution_count": 13,
   "metadata": {
    "cell_id": "00020-82994a8e-970d-431c-b51d-229c4cea76f3",
    "deepnote_app_coordinates": {
     "h": 5,
     "w": 12,
     "x": 0,
     "y": 120
    },
    "deepnote_cell_height": 118.1875,
    "deepnote_cell_type": "code",
    "deepnote_output_heights": [
     21.1875
    ],
    "deepnote_to_be_reexecuted": false,
    "execution_millis": 2293073,
    "execution_start": 1647976199373,
    "source_hash": "689d28fe",
    "tags": []
   },
   "outputs": [
    {
     "data": {
      "text/plain": [
       "{VariableId(0), VariableId(1), VariableId(2)}"
      ]
     },
     "execution_count": 13,
     "metadata": {},
     "output_type": "execute_result"
    }
   ],
   "source": [
    "rg.forward_reachable(\"b\")"
   ]
  },
  {
   "cell_type": "markdown",
   "metadata": {
    "cell_id": "00021-0a2f8230-1fba-410d-9139-3609160fba77",
    "deepnote_app_coordinates": {
     "h": 5,
     "w": 12,
     "x": 0,
     "y": 126
    },
    "deepnote_cell_height": 74.796875,
    "deepnote_cell_type": "markdown",
    "tags": []
   },
   "source": [
    "We can even run a simple SCC decomposition algorithm which will reveal variables that are influencing each other. Here, we know that `a` and `b` have a cycle together, and `c` is only influenced by `b`."
   ]
  },
  {
   "cell_type": "code",
   "execution_count": 14,
   "metadata": {
    "cell_id": "00022-c3a64513-3489-4461-9f21-de2b7c252594",
    "deepnote_app_coordinates": {
     "h": 5,
     "w": 12,
     "x": 0,
     "y": 132
    },
    "deepnote_cell_height": 118.1875,
    "deepnote_cell_type": "code",
    "deepnote_output_heights": [
     21.1875
    ],
    "deepnote_to_be_reexecuted": false,
    "execution_millis": 2,
    "execution_start": 1647976199373,
    "source_hash": "dc0608d8",
    "tags": []
   },
   "outputs": [
    {
     "data": {
      "text/plain": [
       "[{VariableId(2)}, {VariableId(0), VariableId(1)}]"
      ]
     },
     "execution_count": 14,
     "metadata": {},
     "output_type": "execute_result"
    }
   ],
   "source": [
    "rg.strongly_connected_components()"
   ]
  },
  {
   "cell_type": "markdown",
   "metadata": {
    "cell_id": "00023-61b29034-8114-48b1-bfff-2307bf14a518",
    "deepnote_app_coordinates": {
     "h": 5,
     "w": 12,
     "x": 0,
     "y": 138
    },
    "deepnote_cell_height": 52.390625,
    "deepnote_cell_type": "markdown",
    "tags": []
   },
   "source": [
    "Each Boolean network inherits from a regulatory graph, hence we can use the same methods:"
   ]
  },
  {
   "cell_type": "code",
   "execution_count": 15,
   "metadata": {
    "cell_id": "00024-71af2a7d-2134-495b-a273-6f53d9180387",
    "deepnote_app_coordinates": {
     "h": 5,
     "w": 12,
     "x": 0,
     "y": 144
    },
    "deepnote_cell_height": 118.1875,
    "deepnote_cell_type": "code",
    "deepnote_output_heights": [
     21.1875
    ],
    "deepnote_to_be_reexecuted": false,
    "execution_millis": 2287708,
    "execution_start": 1647976199380,
    "source_hash": "493dcf35",
    "tags": []
   },
   "outputs": [
    {
     "data": {
      "text/plain": [
       "[{VariableId(0), VariableId(1), VariableId(2), VariableId(3), VariableId(4)}]"
      ]
     },
     "execution_count": 15,
     "metadata": {},
     "output_type": "execute_result"
    }
   ],
   "source": [
    "g2a.strongly_connected_components()"
   ]
  },
  {
   "cell_type": "markdown",
   "metadata": {
    "cell_id": "00025-cddb3c49-a14a-41a1-9806-cdaae935b678",
    "deepnote_app_coordinates": {
     "h": 5,
     "w": 12,
     "x": 0,
     "y": 150
    },
    "deepnote_cell_height": 52.390625,
    "deepnote_cell_type": "markdown",
    "tags": []
   },
   "source": [
    "In this case, we see that the g2a network has only one component, consisting of all its variables."
   ]
  },
  {
   "cell_type": "markdown",
   "metadata": {
    "cell_id": "00026-f701421b-4e4a-48d2-a12d-1b1c03d26b30",
    "deepnote_app_coordinates": {
     "h": 5,
     "w": 12,
     "x": 0,
     "y": 156
    },
    "deepnote_cell_height": 122.796875,
    "deepnote_cell_type": "markdown",
    "tags": []
   },
   "source": [
    "### Update Functions and Parameters\n",
    "\n",
    "A Boolean network is essentially a regulatory graph with update functions. However, as we mentioned above, our Boolean networks can actually contain functions that are either unknown, or partially defined using logical parameters and uninterpreted Boolean functions."
   ]
  },
  {
   "cell_type": "code",
   "execution_count": 16,
   "metadata": {
    "cell_id": "00027-43d487fb-dc69-4a62-8b29-82e8e53df7a6",
    "deepnote_app_coordinates": {
     "h": 5,
     "w": 12,
     "x": 0,
     "y": 162
    },
    "deepnote_cell_height": 183.6875,
    "deepnote_cell_type": "code",
    "deepnote_to_be_reexecuted": false,
    "execution_millis": 2166116,
    "execution_start": 1647976199395,
    "source_hash": "c2c1afbc",
    "tags": []
   },
   "outputs": [
    {
     "name": "stdout",
     "output_type": "stream",
     "text": [
      "None\n"
     ]
    }
   ],
   "source": [
    "# Create a Boolean network with a fixed regulatory graph\n",
    "bn = BooleanNetwork(rg)\n",
    "\n",
    "# Initially, all update functions are undefined:\n",
    "print(bn.get_update_function(\"a\"))"
   ]
  },
  {
   "cell_type": "markdown",
   "metadata": {
    "cell_id": "00028-1a78df47-bfcd-405d-9106-9f8360a08b16",
    "deepnote_app_coordinates": {
     "h": 5,
     "w": 12,
     "x": 0,
     "y": 168
    },
    "deepnote_cell_height": 133.59375,
    "deepnote_cell_type": "markdown",
    "tags": []
   },
   "source": [
    "We can still work with such a network, but in this case, our implementation of `AsynchronousGraph` would consider **every possible** update function for every variable (as long as it satisfies requirements on regulation observability and monotonicity). That is mostly fine for such a small network, but would be impossible to solve for networks with hundreds of variables and thousands of regulations.\n",
    "\n",
    "To specify exact update functions, we can simply provide a Boolean expression which describes the function:"
   ]
  },
  {
   "cell_type": "code",
   "execution_count": 17,
   "metadata": {
    "cell_id": "00029-410f8f09-778b-4e8e-96ae-3380a117a219",
    "deepnote_app_coordinates": {
     "h": 5,
     "w": 12,
     "x": 0,
     "y": 174
    },
    "deepnote_cell_height": 136.1875,
    "deepnote_cell_type": "code",
    "deepnote_output_heights": [
     21.1875
    ],
    "deepnote_to_be_reexecuted": false,
    "execution_millis": 2163813,
    "execution_start": 1647976199404,
    "source_hash": "bf994fc",
    "tags": []
   },
   "outputs": [
    {
     "data": {
      "text/plain": [
       "'b & !a'"
      ]
     },
     "execution_count": 17,
     "metadata": {},
     "output_type": "execute_result"
    }
   ],
   "source": [
    "bn.set_update_function(\"a\", \"b & !a\")\n",
    "str(bn.get_update_function(\"a\"))"
   ]
  },
  {
   "cell_type": "markdown",
   "metadata": {
    "cell_id": "00030-d590af6c-3f7e-4c6c-9a6c-e14bd9489278",
    "deepnote_app_coordinates": {
     "h": 5,
     "w": 12,
     "x": 0,
     "y": 180
    },
    "deepnote_cell_height": 133.59375,
    "deepnote_cell_type": "markdown",
    "tags": []
   },
   "source": [
    "\n",
    "Note that `b -> a` is an activation, hence `b` must \"positively\" influence the outcome of this update function (although, whether this holds is not verified by the Boolean network, only once we try to create an asynchronous graph for it).\n",
    "\n",
    "If we don't know the whole function, we can simply leave it as `None`. However, we can also use \"basic\" logical parameters (constant unknown values) and uninterpreted functions to make the function partially defined:"
   ]
  },
  {
   "cell_type": "code",
   "execution_count": 18,
   "metadata": {
    "cell_id": "00031-63d948e0-e8b2-45c2-988d-581d5a74476a",
    "deepnote_app_coordinates": {
     "h": 5,
     "w": 12,
     "x": 0,
     "y": 186
    },
    "deepnote_cell_height": 261,
    "deepnote_cell_type": "code",
    "deepnote_to_be_reexecuted": false,
    "execution_millis": 2161885,
    "execution_start": 1647976199413,
    "source_hash": "7a08106b",
    "tags": []
   },
   "outputs": [
    {
     "data": {
      "text/plain": [
       "'b & (p1 => c)'"
      ]
     },
     "execution_count": 18,
     "metadata": {},
     "output_type": "execute_result"
    }
   ],
   "source": [
    "# Add a basic parameter. Arity 0 means the parameter is a constant.\n",
    "bn.add_explicit_parameter(\"p1\", 0)\n",
    "\n",
    "# Update function for `c` will depend on `c` only when `p1` is set.\n",
    "bn.set_update_function(\"c\", \"b & (p1 => c)\")\n",
    "\n",
    "# Parameter of arity one is a Boolean function with one argument.\n",
    "bn.add_explicit_parameter(\"p2\", 1)\n",
    "\n",
    "# We can use it for example like this:\n",
    "str(bn.set_update_function(\"c\", \"b & p2(c)\"))"
   ]
  },
  {
   "cell_type": "markdown",
   "metadata": {
    "cell_id": "00032-1ea4f8bd-2826-4ec3-bfe7-f83e20526180",
    "deepnote_app_coordinates": {
     "h": 5,
     "w": 12,
     "x": 0,
     "y": 192
    },
    "deepnote_cell_height": 111.1875,
    "deepnote_cell_type": "markdown",
    "tags": []
   },
   "source": [
    "Here, update function for `c` can be `b & c`, `b & !c`, `b & true`, or `b & false`, depending on `p2`. This is because the autoregulation has no monotonicity (hence `c` can appear positively or negatively) and may not be observable (`c` may not appear at all, in which case `p2` is a constant function).\n",
    "\n",
    "This syntax can be in particular useful when we deal with variables that have multiple regulators:"
   ]
  },
  {
   "cell_type": "code",
   "execution_count": 19,
   "metadata": {
    "cell_id": "00033-02610ac9-50c9-4920-b423-207dab5a87f2",
    "deepnote_app_coordinates": {
     "h": 5,
     "w": 12,
     "x": 0,
     "y": 198
    },
    "deepnote_cell_height": 118.1875,
    "deepnote_cell_type": "code",
    "deepnote_output_heights": [
     21.1875
    ],
    "deepnote_to_be_reexecuted": false,
    "execution_millis": 2159519,
    "execution_start": 1647976199458,
    "source_hash": "31c0e552",
    "tags": []
   },
   "outputs": [
    {
     "data": {
      "text/plain": [
       "'false | (!CtrA & GcrA & !CcrM & !SciP & true) | (CtrA & !CcrM & !SciP)'"
      ]
     },
     "execution_count": 19,
     "metadata": {},
     "output_type": "execute_result"
    }
   ],
   "source": [
    "str(g2a.get_update_function(\"CtrA\"))"
   ]
  },
  {
   "cell_type": "code",
   "execution_count": 20,
   "metadata": {
    "cell_id": "00034-5221ad3a-4968-4963-b7e4-34a25fb199c4",
    "deepnote_app_coordinates": {
     "h": 5,
     "w": 12,
     "x": 0,
     "y": 204
    },
    "deepnote_cell_height": 172.1875,
    "deepnote_cell_type": "code",
    "deepnote_output_heights": [
     21.1875
    ],
    "deepnote_to_be_reexecuted": false,
    "execution_millis": 2157098,
    "execution_start": 1647976199459,
    "source_hash": "50f974e7",
    "tags": []
   },
   "outputs": [
    {
     "data": {
      "text/plain": [
       "'CtrA & !SciP & f1(CcrM, GcrA)'"
      ]
     },
     "execution_count": 20,
     "metadata": {},
     "output_type": "execute_result"
    }
   ],
   "source": [
    "g2a.add_explicit_parameter(\"f1\", 2)\n",
    "g2a.set_update_function(\"CtrA\", \"CtrA & !SciP & f1(CcrM, GcrA)\")\n",
    "\n",
    "str(g2a.get_update_function(\"CtrA\"))"
   ]
  },
  {
   "cell_type": "markdown",
   "metadata": {
    "cell_id": "00035-527373ab-6857-4f20-a993-ee8f7e09ac1c",
    "deepnote_app_coordinates": {
     "h": 5,
     "w": 12,
     "x": 0,
     "y": 210
    },
    "deepnote_cell_height": 52.390625,
    "deepnote_cell_type": "markdown",
    "tags": []
   },
   "source": [
    "Here, we clearly specify that the value of `CtrA` has a known dependence on `CtrA` and `SciP`, but unknown on `CcrM` and `GcrA`."
   ]
  },
  {
   "cell_type": "markdown",
   "metadata": {
    "cell_id": "00036-468776b6-90bf-4ec7-9253-37d288d80edd",
    "deepnote_app_coordinates": {
     "h": 5,
     "w": 12,
     "x": 0,
     "y": 216
    },
    "deepnote_cell_height": 122.796875,
    "deepnote_cell_type": "markdown",
    "tags": []
   },
   "source": [
    "### Symbolic Asynchronous Graph\n",
    "\n",
    "To further explore the network's dynamics, we can use its symbolic asynchronous graph. Although, this feature will mostly be used for building standalone algorithms and not directly used within a notebook."
   ]
  },
  {
   "cell_type": "code",
   "execution_count": 21,
   "metadata": {
    "cell_id": "00037-6af4a961-3ac5-44ae-a1be-02714d5bc9b2",
    "deepnote_app_coordinates": {
     "h": 5,
     "w": 12,
     "x": 0,
     "y": 222
    },
    "deepnote_cell_height": 226.1875,
    "deepnote_cell_type": "code",
    "deepnote_output_heights": [
     21.1875
    ],
    "deepnote_to_be_reexecuted": false,
    "execution_millis": 2,
    "execution_start": 1647976199460,
    "source_hash": "f42bf1b3",
    "tags": []
   },
   "outputs": [
    {
     "data": {
      "text/plain": [
       "ColoredVertexSet(cardinality=64, colors=2, vertices=32, symbolic_size=9)"
      ]
     },
     "execution_count": 21,
     "metadata": {},
     "output_type": "execute_result"
    }
   ],
   "source": [
    "try:\n",
    "    graph = AsynchronousGraph(g2a)\n",
    "except Exception as e:\n",
    "    print(e)\n",
    "\n",
    "# There are 32 states and 2 colors (two possible instantiations of function `f1`)\n",
    "graph.mk_unit_colored_vertices()"
   ]
  },
  {
   "cell_type": "markdown",
   "metadata": {
    "cell_id": "00038-4c2d0a4e-f0fb-4b0a-9521-95477ca8713a",
    "deepnote_app_coordinates": {
     "h": 5,
     "w": 12,
     "x": 0,
     "y": 228
    },
    "deepnote_cell_height": 178.390625,
    "deepnote_cell_type": "markdown",
    "tags": []
   },
   "source": [
    "Here, the constructor will check whether the Boolean network contains some inconsistencies: for example, an unused parameter, unused observable regulation, or update functions that do not satisfy the regulation constraints (activation in place of inhibition, etc.).\n",
    "\n",
    "The graph works with three types of sets: `ColorSet`, `VertexSet` and `ColoredVertexSet`. A color set contains possible valuations of logical parameters and uninterpreted functions. So, each member of a color set fully specifies a Boolean network. If there are no parameters, this set can be only \"empty\" or \"1\". Similarly, a vertex set contains vertices of the graph. Finally, a colored vertex set contains pairs of colors and vertices, meaning that for each color, we can have a different set of vertices (or, similarly, for each vertex a different color). This type of set can be then used to represent a set of vertices that is different for different parametrisation."
   ]
  },
  {
   "cell_type": "code",
   "execution_count": 22,
   "metadata": {
    "cell_id": "00039-e420e444-4f88-41b6-a854-eb4d6d1c59c4",
    "deepnote_app_coordinates": {
     "h": 5,
     "w": 12,
     "x": 0,
     "y": 234
    },
    "deepnote_cell_height": 136.1875,
    "deepnote_cell_type": "code",
    "deepnote_output_heights": [
     21.1875
    ],
    "deepnote_to_be_reexecuted": false,
    "execution_millis": 2,
    "execution_start": 1647976199463,
    "source_hash": "78fc3ba6",
    "tags": []
   },
   "outputs": [
    {
     "data": {
      "text/plain": [
       "1"
      ]
     },
     "execution_count": 22,
     "metadata": {},
     "output_type": "execute_result"
    }
   ],
   "source": [
    "a_color = graph.mk_unit_colors().pick_singleton()\n",
    "a_color.cardinality()"
   ]
  },
  {
   "cell_type": "markdown",
   "metadata": {
    "cell_id": "00040-cf6e29a0-74a2-4513-a435-ffb29eadaf88",
    "deepnote_app_coordinates": {
     "h": 5,
     "w": 12,
     "x": 0,
     "y": 246
    },
    "deepnote_cell_height": 74.796875,
    "deepnote_cell_type": "markdown",
    "tags": []
   },
   "source": [
    "A set of vertices can be also \"dumped\" to a list or iterated, but keep in mind that the set can be huge and will easily exhaust memory for models with more than 10 variables. Always check the size of your set using `cardinality` first."
   ]
  },
  {
   "cell_type": "code",
   "execution_count": 23,
   "metadata": {
    "cell_id": "00040-d7333dfb-9b7b-471a-9fda-755dc357d5cf",
    "deepnote_app_coordinates": {
     "h": 5,
     "w": 12,
     "x": 0,
     "y": 240
    },
    "deepnote_cell_height": 424.125,
    "deepnote_cell_type": "code",
    "deepnote_output_heights": [
     309.125
    ],
    "deepnote_to_be_reexecuted": false,
    "execution_millis": 3,
    "execution_start": 1647976199505,
    "source_hash": "fd756e91",
    "tags": []
   },
   "outputs": [
    {
     "name": "stdout",
     "output_type": "stream",
     "text": [
      "VertexModel({'CcrM': 0, 'CtrA': 0, 'DnaA': 0, 'GcrA': 0, 'SciP': 0})\n",
      "VertexModel({'CcrM': 1, 'CtrA': 0, 'DnaA': 0, 'GcrA': 0, 'SciP': 0})\n",
      "VertexModel({'CcrM': 0, 'CtrA': 1, 'DnaA': 0, 'GcrA': 0, 'SciP': 0})\n",
      "VertexModel({'CcrM': 1, 'CtrA': 1, 'DnaA': 0, 'GcrA': 0, 'SciP': 0})\n",
      "VertexModel({'CcrM': 0, 'CtrA': 0, 'DnaA': 1, 'GcrA': 0, 'SciP': 0})\n",
      "VertexModel({'CcrM': 1, 'CtrA': 0, 'DnaA': 1, 'GcrA': 0, 'SciP': 0})\n",
      "VertexModel({'CcrM': 0, 'CtrA': 1, 'DnaA': 1, 'GcrA': 0, 'SciP': 0})\n",
      "VertexModel({'CcrM': 1, 'CtrA': 1, 'DnaA': 1, 'GcrA': 0, 'SciP': 0})\n",
      "VertexModel({'CcrM': 0, 'CtrA': 0, 'DnaA': 0, 'GcrA': 1, 'SciP': 0})\n",
      "VertexModel({'CcrM': 1, 'CtrA': 0, 'DnaA': 0, 'GcrA': 1, 'SciP': 0})\n",
      "VertexModel({'CcrM': 0, 'CtrA': 1, 'DnaA': 0, 'GcrA': 1, 'SciP': 0})\n",
      "VertexModel({'CcrM': 1, 'CtrA': 1, 'DnaA': 0, 'GcrA': 1, 'SciP': 0})\n",
      "VertexModel({'CcrM': 0, 'CtrA': 0, 'DnaA': 1, 'GcrA': 1, 'SciP': 0})\n",
      "VertexModel({'CcrM': 1, 'CtrA': 0, 'DnaA': 1, 'GcrA': 1, 'SciP': 0})\n",
      "VertexModel({'CcrM': 0, 'CtrA': 1, 'DnaA': 1, 'GcrA': 1, 'SciP': 0})\n",
      "VertexModel({'CcrM': 1, 'CtrA': 1, 'DnaA': 1, 'GcrA': 1, 'SciP': 0})\n"
     ]
    }
   ],
   "source": [
    "vertices = graph.mk_subspace_vertices({ \"SciP\": False })\n",
    "for v in vertices:\n",
    "    print(v)"
   ]
  },
  {
   "cell_type": "markdown",
   "metadata": {
    "cell_id": "00044-1980f250-5838-404e-9662-feb60fc8512c",
    "deepnote_app_coordinates": {
     "h": 5,
     "w": 12,
     "x": 0,
     "y": 264
    },
    "deepnote_cell_height": 74.796875,
    "deepnote_cell_type": "markdown",
    "tags": []
   },
   "source": [
    "Finally, we can use the graph to compute successors and predecessors for colored sets of vertices. Using this operation, we can implement more complex algorithms, like SCC decomposition or safety analysis."
   ]
  },
  {
   "cell_type": "code",
   "execution_count": 24,
   "metadata": {
    "cell_id": "00045-fc9778f6-63c2-4071-a3bd-4f5556abe234",
    "deepnote_app_coordinates": {
     "h": 5,
     "w": 12,
     "x": 0,
     "y": 270
    },
    "deepnote_cell_height": 332.78125,
    "deepnote_cell_type": "code",
    "deepnote_to_be_reexecuted": false,
    "execution_millis": 3,
    "execution_start": 1647976199507,
    "source_hash": "59843944",
    "tags": []
   },
   "outputs": [
    {
     "name": "stdout",
     "output_type": "stream",
     "text": [
      "Picked: VertexModel({'CcrM': 0, 'CtrA': 0, 'DnaA': 0, 'GcrA': 0, 'SciP': 0})\n",
      "1 Discovered 0 using colors 0\n",
      "Total discovered vertices: 1\n",
      "Picked: VertexModel({'CcrM': 0, 'CtrA': 0, 'DnaA': 0, 'GcrA': 0, 'SciP': 1})\n",
      "1 Discovered 1 using colors 2\n",
      "2 Discovered 0 using colors 0\n",
      "Total discovered vertices: 2\n",
      "Picked: VertexModel({'CcrM': 0, 'CtrA': 0, 'DnaA': 0, 'GcrA': 1, 'SciP': 0})\n",
      "1 Discovered 1 using colors 2\n",
      "2 Discovered 0 using colors 0\n",
      "Total discovered vertices: 2\n",
      "Picked: VertexModel({'CcrM': 0, 'CtrA': 0, 'DnaA': 0, 'GcrA': 1, 'SciP': 1})\n",
      "1 Discovered 2 using colors 2\n",
      "2 Discovered 1 using colors 2\n",
      "3 Discovered 0 using colors 0\n",
      "Total discovered vertices: 4\n",
      "Picked: VertexModel({'CcrM': 0, 'CtrA': 0, 'DnaA': 1, 'GcrA': 0, 'SciP': 0})\n",
      "1 Discovered 2 using colors 2\n",
      "2 Discovered 1 using colors 2\n",
      "3 Discovered 0 using colors 0\n",
      "Total discovered vertices: 4\n",
      "Picked: VertexModel({'CcrM': 0, 'CtrA': 0, 'DnaA': 1, 'GcrA': 0, 'SciP': 1})\n",
      "1 Discovered 3 using colors 2\n",
      "2 Discovered 3 using colors 2\n",
      "3 Discovered 1 using colors 2\n",
      "4 Discovered 0 using colors 0\n",
      "Total discovered vertices: 8\n",
      "Picked: VertexModel({'CcrM': 0, 'CtrA': 1, 'DnaA': 0, 'GcrA': 0, 'SciP': 0})\n",
      "1 Discovered 3 using colors 2\n",
      "2 Discovered 4 using colors 2\n",
      "3 Discovered 5 using colors 2\n",
      "4 Discovered 4 using colors 2\n",
      "5 Discovered 4 using colors 2\n",
      "6 Discovered 3 using colors 2\n",
      "7 Discovered 1 using colors 2\n",
      "8 Discovered 0 using colors 0\n",
      "Total discovered vertices: 24\n",
      "Picked: VertexModel({'CcrM': 0, 'CtrA': 1, 'DnaA': 0, 'GcrA': 1, 'SciP': 0})\n",
      "1 Discovered 3 using colors 2\n",
      "2 Discovered 6 using colors 2\n",
      "3 Discovered 6 using colors 2\n",
      "4 Discovered 6 using colors 2\n",
      "5 Discovered 4 using colors 2\n",
      "6 Discovered 3 using colors 2\n",
      "7 Discovered 1 using colors 2\n",
      "8 Discovered 0 using colors 0\n",
      "Total discovered vertices: 28\n",
      "Picked: VertexModel({'CcrM': 0, 'CtrA': 1, 'DnaA': 1, 'GcrA': 1, 'SciP': 0})\n",
      "1 Discovered 3 using colors 2\n",
      "2 Discovered 6 using colors 2\n",
      "3 Discovered 8 using colors 2\n",
      "4 Discovered 7 using colors 2\n",
      "5 Discovered 5 using colors 2\n",
      "6 Discovered 2 using colors 2\n",
      "7 Discovered 2 using colors 2\n",
      "8 Discovered 1 using colors 2\n",
      "9 Discovered 0 using colors 0\n",
      "Total discovered vertices: 30\n",
      "Picked: VertexModel({'CcrM': 0, 'CtrA': 1, 'DnaA': 1, 'GcrA': 1, 'SciP': 1})\n",
      "1 Discovered 4 using colors 2\n",
      "2 Discovered 7 using colors 2\n",
      "3 Discovered 7 using colors 2\n",
      "4 Discovered 5 using colors 2\n",
      "5 Discovered 4 using colors 2\n",
      "6 Discovered 3 using colors 2\n",
      "7 Discovered 1 using colors 2\n",
      "8 Discovered 1 using colors 2\n",
      "9 Discovered 0 using colors 0\n",
      "Total discovered vertices: 31\n",
      "Picked: VertexModel({'CcrM': 1, 'CtrA': 1, 'DnaA': 1, 'GcrA': 1, 'SciP': 1})\n",
      "1 Discovered 5 using colors 2\n",
      "2 Discovered 10 using colors 2\n",
      "3 Discovered 10 using colors 2\n",
      "4 Discovered 5 using colors 2\n",
      "5 Discovered 1 using colors 2\n",
      "6 Discovered 0 using colors 0\n",
      "Total discovered vertices: 32\n"
     ]
    }
   ],
   "source": [
    "universe = graph.mk_unit_vertices()\n",
    "while not universe.is_empty():\n",
    "    one_state = universe.pick_singleton()\n",
    "    print(\"Picked:\", next(iter(one_state)))\n",
    "    reachable = one_state.extend_with_colors(graph.mk_unit_colors())\n",
    "    for i in range(10):\n",
    "        step = graph.post(reachable)\n",
    "        new = step.minus(reachable)\n",
    "        print(i+1, \"Discovered\", new.vertices().cardinality(), \"using colors\", new.colors().cardinality())\n",
    "        if new.is_empty():\n",
    "            break\n",
    "        reachable = reachable.union(new)\n",
    "    \n",
    "    print(\"Total discovered vertices:\", reachable.vertices().cardinality())\n",
    "    universe = universe.minus(reachable.vertices())"
   ]
  },
  {
   "cell_type": "markdown",
   "metadata": {
    "cell_id": "00046-5c424d1e-6af9-4974-9c0f-3147146340d9",
    "deepnote_app_coordinates": {
     "h": 5,
     "w": 12,
     "x": 0,
     "y": 276
    },
    "deepnote_cell_height": 88.796875,
    "deepnote_cell_type": "markdown",
    "tags": []
   },
   "source": [
    "It is also possible to use `var_post` and `var_pre` to only update a specific variable in the network during a transition.\n",
    "\n",
    "To save the results of the computation, we can use the fact that these sets are all internally represented as BDDs, which we can dump to a string, show as a `.dot`, or save using `pickle`:"
   ]
  },
  {
   "cell_type": "code",
   "execution_count": 25,
   "metadata": {
    "cell_id": "00047-3c7de998-5228-42dc-b1d3-4a6046680496",
    "deepnote_app_coordinates": {
     "h": 5,
     "w": 12,
     "x": 0,
     "y": 282
    },
    "deepnote_cell_height": 136.1875,
    "deepnote_cell_type": "code",
    "deepnote_output_heights": [
     21.1875
    ],
    "deepnote_to_be_reexecuted": false,
    "execution_millis": 2,
    "execution_start": 1647976199558,
    "source_hash": "1a15e18d",
    "tags": []
   },
   "outputs": [
    {
     "data": {
      "text/plain": [
       "'|9,0,0|9,1,1|5,0,1|4,0,2|3,3,0|5,1,0|4,0,5|3,6,0|2,7,4|'"
      ]
     },
     "execution_count": 25,
     "metadata": {},
     "output_type": "execute_result"
    }
   ],
   "source": [
    "reachable_string = reachable.to_bdd().data_string()\n",
    "reachable_string"
   ]
  },
  {
   "cell_type": "code",
   "execution_count": 26,
   "metadata": {
    "cell_id": "00048-9eccafd7-768d-4fe0-aa70-96680e0665ea",
    "deepnote_app_coordinates": {
     "h": 5,
     "w": 12,
     "x": 0,
     "y": 300
    },
    "deepnote_cell_height": 744,
    "deepnote_cell_type": "code",
    "deepnote_output_heights": [
     611
    ],
    "deepnote_to_be_reexecuted": false,
    "execution_millis": 28,
    "execution_start": 1647976199559,
    "source_hash": "3a7fc80f",
    "tags": []
   },
   "outputs": [
    {
     "data": {
      "image/svg+xml": [
       "<?xml version=\"1.0\" encoding=\"UTF-8\" standalone=\"no\"?>\n",
       "<!DOCTYPE svg PUBLIC \"-//W3C//DTD SVG 1.1//EN\"\n",
       " \"http://www.w3.org/Graphics/SVG/1.1/DTD/svg11.dtd\">\n",
       "<!-- Generated by graphviz version 12.0.0 (20240803.0821)\n",
       " -->\n",
       "<!-- Title: G Pages: 1 -->\n",
       "<svg width=\"204pt\" height=\"359pt\"\n",
       " viewBox=\"0.00 0.00 203.74 358.69\" xmlns=\"http://www.w3.org/2000/svg\" xmlns:xlink=\"http://www.w3.org/1999/xlink\">\n",
       "<g id=\"graph0\" class=\"graph\" transform=\"scale(1 1) rotate(0) translate(4 354.69)\">\n",
       "<title>G</title>\n",
       "<polygon fill=\"white\" stroke=\"none\" points=\"-4,4 -4,-354.69 199.74,-354.69 199.74,4 -4,4\"/>\n",
       "<!-- init__ -->\n",
       "<!-- 8 -->\n",
       "<g id=\"node2\" class=\"node\">\n",
       "<title>8</title>\n",
       "<ellipse fill=\"none\" stroke=\"black\" cx=\"97.37\" cy=\"-295.25\" rx=\"44.37\" ry=\"18\"/>\n",
       "<text text-anchor=\"middle\" x=\"97.37\" y=\"-290.57\" font-family=\"Times,serif\" font-size=\"14.00\">f1[0,0]</text>\n",
       "</g>\n",
       "<!-- init__&#45;&gt;8 -->\n",
       "<g id=\"edge1\" class=\"edge\">\n",
       "<title>init__&#45;&gt;8</title>\n",
       "<path fill=\"none\" stroke=\"black\" d=\"M97.37,-349.1C97.37,-347.69 97.37,-336.66 97.37,-325.04\"/>\n",
       "<polygon fill=\"black\" stroke=\"black\" points=\"100.87,-325.07 97.37,-315.07 93.87,-325.07 100.87,-325.07\"/>\n",
       "</g>\n",
       "<!-- 4 -->\n",
       "<g id=\"node6\" class=\"node\">\n",
       "<title>4</title>\n",
       "<ellipse fill=\"none\" stroke=\"black\" cx=\"44.37\" cy=\"-223.25\" rx=\"44.37\" ry=\"18\"/>\n",
       "<text text-anchor=\"middle\" x=\"44.37\" y=\"-218.57\" font-family=\"Times,serif\" font-size=\"14.00\">f1[1,0]</text>\n",
       "</g>\n",
       "<!-- 8&#45;&gt;4 -->\n",
       "<g id=\"edge8\" class=\"edge\">\n",
       "<title>8&#45;&gt;4</title>\n",
       "<path fill=\"none\" stroke=\"black\" d=\"M84.81,-277.66C78.47,-269.29 70.65,-258.96 63.58,-249.62\"/>\n",
       "<polygon fill=\"black\" stroke=\"black\" points=\"66.58,-247.79 57.75,-241.93 61,-252.01 66.58,-247.79\"/>\n",
       "</g>\n",
       "<!-- 7 -->\n",
       "<g id=\"node9\" class=\"node\">\n",
       "<title>7</title>\n",
       "<ellipse fill=\"none\" stroke=\"black\" cx=\"151.37\" cy=\"-223.25\" rx=\"44.37\" ry=\"18\"/>\n",
       "<text text-anchor=\"middle\" x=\"151.37\" y=\"-218.57\" font-family=\"Times,serif\" font-size=\"14.00\">f1[1,0]</text>\n",
       "</g>\n",
       "<!-- 8&#45;&gt;7 -->\n",
       "<g id=\"edge9\" class=\"edge\">\n",
       "<title>8&#45;&gt;7</title>\n",
       "<path fill=\"none\" stroke=\"black\" stroke-dasharray=\"1,5\" d=\"M110.17,-277.66C116.62,-269.29 124.59,-258.96 131.8,-249.62\"/>\n",
       "<polygon fill=\"black\" stroke=\"black\" points=\"134.4,-251.97 137.74,-241.92 128.86,-247.7 134.4,-251.97\"/>\n",
       "</g>\n",
       "<!-- 1 -->\n",
       "<g id=\"node3\" class=\"node\">\n",
       "<title>1</title>\n",
       "<polygon fill=\"lightgrey\" stroke=\"black\" points=\"109.87,-25.25 84.87,-25.25 84.87,0 109.87,0 109.87,-25.25\"/>\n",
       "<text text-anchor=\"middle\" x=\"97.37\" y=\"-7.95\" font-family=\"Times,serif\" font-size=\"14.00\">1</text>\n",
       "</g>\n",
       "<!-- 2 -->\n",
       "<g id=\"node4\" class=\"node\">\n",
       "<title>2</title>\n",
       "<ellipse fill=\"none\" stroke=\"black\" cx=\"44.37\" cy=\"-79.25\" rx=\"44.37\" ry=\"18\"/>\n",
       "<text text-anchor=\"middle\" x=\"44.37\" y=\"-74.58\" font-family=\"Times,serif\" font-size=\"14.00\">f1[1,1]</text>\n",
       "</g>\n",
       "<!-- 2&#45;&gt;1 -->\n",
       "<g id=\"edge2\" class=\"edge\">\n",
       "<title>2&#45;&gt;1</title>\n",
       "<path fill=\"none\" stroke=\"black\" d=\"M57.74,-61.94C64.66,-53.51 73.18,-43.12 80.54,-34.15\"/>\n",
       "<polygon fill=\"black\" stroke=\"black\" points=\"83.08,-36.56 86.72,-26.61 77.67,-32.12 83.08,-36.56\"/>\n",
       "</g>\n",
       "<!-- 3 -->\n",
       "<g id=\"node5\" class=\"node\">\n",
       "<title>3</title>\n",
       "<ellipse fill=\"none\" stroke=\"black\" cx=\"44.37\" cy=\"-151.25\" rx=\"44.37\" ry=\"18\"/>\n",
       "<text text-anchor=\"middle\" x=\"44.37\" y=\"-146.57\" font-family=\"Times,serif\" font-size=\"14.00\">f1[0,1]</text>\n",
       "</g>\n",
       "<!-- 3&#45;&gt;2 -->\n",
       "<g id=\"edge3\" class=\"edge\">\n",
       "<title>3&#45;&gt;2</title>\n",
       "<path fill=\"none\" stroke=\"black\" d=\"M44.37,-132.95C44.37,-125.66 44.37,-116.98 44.37,-108.79\"/>\n",
       "<polygon fill=\"black\" stroke=\"black\" points=\"47.87,-108.87 44.37,-98.87 40.87,-108.87 47.87,-108.87\"/>\n",
       "</g>\n",
       "<!-- 4&#45;&gt;3 -->\n",
       "<g id=\"edge4\" class=\"edge\">\n",
       "<title>4&#45;&gt;3</title>\n",
       "<path fill=\"none\" stroke=\"black\" stroke-dasharray=\"1,5\" d=\"M44.37,-204.95C44.37,-197.66 44.37,-188.98 44.37,-180.79\"/>\n",
       "<polygon fill=\"black\" stroke=\"black\" points=\"47.87,-180.87 44.37,-170.87 40.87,-180.87 47.87,-180.87\"/>\n",
       "</g>\n",
       "<!-- 5 -->\n",
       "<g id=\"node7\" class=\"node\">\n",
       "<title>5</title>\n",
       "<ellipse fill=\"none\" stroke=\"black\" cx=\"151.37\" cy=\"-79.25\" rx=\"44.37\" ry=\"18\"/>\n",
       "<text text-anchor=\"middle\" x=\"151.37\" y=\"-74.58\" font-family=\"Times,serif\" font-size=\"14.00\">f1[1,1]</text>\n",
       "</g>\n",
       "<!-- 5&#45;&gt;1 -->\n",
       "<g id=\"edge5\" class=\"edge\">\n",
       "<title>5&#45;&gt;1</title>\n",
       "<path fill=\"none\" stroke=\"black\" stroke-dasharray=\"1,5\" d=\"M137.74,-61.94C130.69,-53.51 122.02,-43.12 114.52,-34.15\"/>\n",
       "<polygon fill=\"black\" stroke=\"black\" points=\"117.31,-32.03 108.21,-26.6 111.94,-36.52 117.31,-32.03\"/>\n",
       "</g>\n",
       "<!-- 6 -->\n",
       "<g id=\"node8\" class=\"node\">\n",
       "<title>6</title>\n",
       "<ellipse fill=\"none\" stroke=\"black\" cx=\"151.37\" cy=\"-151.25\" rx=\"44.37\" ry=\"18\"/>\n",
       "<text text-anchor=\"middle\" x=\"151.37\" y=\"-146.57\" font-family=\"Times,serif\" font-size=\"14.00\">f1[0,1]</text>\n",
       "</g>\n",
       "<!-- 6&#45;&gt;5 -->\n",
       "<g id=\"edge6\" class=\"edge\">\n",
       "<title>6&#45;&gt;5</title>\n",
       "<path fill=\"none\" stroke=\"black\" d=\"M151.37,-132.95C151.37,-125.66 151.37,-116.98 151.37,-108.79\"/>\n",
       "<polygon fill=\"black\" stroke=\"black\" points=\"154.87,-108.87 151.37,-98.87 147.87,-108.87 154.87,-108.87\"/>\n",
       "</g>\n",
       "<!-- 7&#45;&gt;6 -->\n",
       "<g id=\"edge7\" class=\"edge\">\n",
       "<title>7&#45;&gt;6</title>\n",
       "<path fill=\"none\" stroke=\"black\" stroke-dasharray=\"1,5\" d=\"M151.37,-204.95C151.37,-197.66 151.37,-188.98 151.37,-180.79\"/>\n",
       "<polygon fill=\"black\" stroke=\"black\" points=\"154.87,-180.87 151.37,-170.87 147.87,-180.87 154.87,-180.87\"/>\n",
       "</g>\n",
       "</g>\n",
       "</svg>\n"
      ],
      "text/plain": [
       "<graphviz.sources.Source at 0x7fe128b8c350>"
      ]
     },
     "execution_count": 26,
     "metadata": {},
     "output_type": "execute_result"
    }
   ],
   "source": [
    "import graphviz\n",
    "\n",
    "graphviz.Source(reachable.to_bdd().to_dot())"
   ]
  },
  {
   "cell_type": "code",
   "execution_count": 27,
   "metadata": {
    "cell_id": "00048-fc4789fc-4288-49ba-b018-8963ce70441c",
    "deepnote_app_coordinates": {
     "h": 5,
     "w": 12,
     "x": 0,
     "y": 288
    },
    "deepnote_cell_height": 208.1875,
    "deepnote_cell_type": "code",
    "deepnote_output_heights": [
     21.1875
    ],
    "deepnote_to_be_reexecuted": false,
    "execution_millis": 2,
    "execution_start": 1647976199634,
    "source_hash": "8d9d80f8",
    "tags": []
   },
   "outputs": [
    {
     "data": {
      "text/plain": [
       "True"
      ]
     },
     "execution_count": 27,
     "metadata": {},
     "output_type": "execute_result"
    }
   ],
   "source": [
    "# We need to copy an existing set to preserve all metadata about the model,\n",
    "# since these are not save in the BDD\n",
    "reachable_reloaded = ColoredVertexSet(\n",
    "    graph.symbolic_context(), \n",
    "    Bdd(graph.symbolic_context().bdd_variable_set(), reachable_string)\n",
    ")\n",
    "\n",
    "# r1 <=> r2 must be a tautology if the sets are equivalent:\n",
    "reachable_reloaded.to_bdd() == reachable.to_bdd()"
   ]
  },
  {
   "cell_type": "markdown",
   "metadata": {
    "cell_id": "00049-02c389b5-d005-45a5-9f79-d62274fd909c",
    "deepnote_app_coordinates": {
     "h": 5,
     "w": 12,
     "x": 0,
     "y": 294
    },
    "deepnote_cell_height": 52.390625,
    "deepnote_cell_type": "markdown",
    "tags": []
   },
   "source": [
    "However, keep in mind that the raw string does not contain any information about the underlying model, and you cannot mix BDD representations between different models!"
   ]
  },
  {
   "cell_type": "code",
   "execution_count": null,
   "metadata": {},
   "outputs": [],
   "source": []
  }
 ],
 "metadata": {
  "deepnote": {
   "is_reactive": false
  },
  "deepnote_app_layout": "article",
  "deepnote_execution_queue": [],
  "deepnote_notebook_id": "21c1e93a-7e67-4383-86ba-52ecd4bb5727",
  "kernelspec": {
   "display_name": "Python 3 (ipykernel)",
   "language": "python",
   "name": "python3"
  },
  "language_info": {
   "codemirror_mode": {
    "name": "ipython",
    "version": 3
   },
   "file_extension": ".py",
   "mimetype": "text/x-python",
   "name": "python",
   "nbconvert_exporter": "python",
   "pygments_lexer": "ipython3",
   "version": "3.11.8"
  }
 },
 "nbformat": 4,
 "nbformat_minor": 4
}
