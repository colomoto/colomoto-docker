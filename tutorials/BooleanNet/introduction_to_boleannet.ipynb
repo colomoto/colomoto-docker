{
 "cells": [
  {
   "cell_type": "code",
   "execution_count": 1,
   "metadata": {},
   "outputs": [],
   "source": [
    "import boolean2\n",
    "import pylab"
   ]
  },
  {
   "cell_type": "markdown",
   "metadata": {},
   "source": [
    "# Define a model with its initial condition"
   ]
  },
  {
   "cell_type": "code",
   "execution_count": 2,
   "metadata": {},
   "outputs": [],
   "source": [
    "# This initial condition leads to a cycle of period 4.\n",
    "# If A is set to False, a steady state is obtained.\n",
    "text = \"\"\"\n",
    "A = D = True\n",
    "B = C = False\n",
    "\n",
    "B *= A or C\n",
    "C *= A and not D\n",
    "D *= B and C\n",
    "\"\"\"\n",
    "\n",
    "model = boolean2.Model( text=text, mode='sync')\n",
    "model.initialize()"
   ]
  },
  {
   "cell_type": "markdown",
   "metadata": {},
   "source": [
    "# Simulations"
   ]
  },
  {
   "cell_type": "code",
   "execution_count": 3,
   "metadata": {},
   "outputs": [],
   "source": [
    "model.iterate( steps=15 )"
   ]
  },
  {
   "cell_type": "code",
   "execution_count": 4,
   "metadata": {},
   "outputs": [
    {
     "name": "stdout",
     "output_type": "stream",
     "text": [
      "A [True, True, True, True, True, True, True, True, True, True, True, True, True, True, True, True]\n",
      "B [False, True, True, True, True, True, True, True, True, True, True, True, True, True, True, True]\n",
      "C [False, False, True, True, False, False, True, True, False, False, True, True, False, False, True, True]\n",
      "D [True, False, False, True, True, False, False, True, True, False, False, True, True, False, False, True]\n"
     ]
    }
   ],
   "source": [
    "# the model data attribute holds the states keyed by nodes\n",
    "for node in model.data:\n",
    "    print(node, model.data[node])"
   ]
  },
  {
   "cell_type": "code",
   "execution_count": 5,
   "metadata": {},
   "outputs": [
    {
     "name": "stdout",
     "output_type": "stream",
     "text": [
      "True False False True\n",
      "True True False False\n",
      "True True True False\n",
      "True True True True\n",
      "True True False True\n",
      "True True False False\n",
      "True True True False\n",
      "True True True True\n",
      "True True False True\n",
      "True True False False\n",
      "True True True False\n",
      "True True True True\n",
      "True True False True\n",
      "True True False False\n",
      "True True True False\n",
      "True True True True\n"
     ]
    }
   ],
   "source": [
    "# Successive states are also available\n",
    "for state in model.states:\n",
    "    print(state.A, state.B, state.C, state.D)"
   ]
  },
  {
   "cell_type": "markdown",
   "metadata": {},
   "source": [
    "## Cycle detection"
   ]
  },
  {
   "cell_type": "code",
   "execution_count": 6,
   "metadata": {},
   "outputs": [
    {
     "name": "stdout",
     "output_type": "stream",
     "text": [
      "Cycle of length 4 starting at index 1\n"
     ]
    }
   ],
   "source": [
    "# this is a helper function that reports the cycle lengths \n",
    "# and the  index at wich the cycle started\n",
    "model.report_cycles()"
   ]
  },
  {
   "cell_type": "code",
   "execution_count": 7,
   "metadata": {},
   "outputs": [
    {
     "data": {
      "text/plain": [
       "(1, 4)"
      ]
     },
     "execution_count": 7,
     "metadata": {},
     "output_type": "execute_result"
    }
   ],
   "source": [
    "# the same thing as above but\n",
    "# will not print only return the two parameters\n",
    "model.detect_cycles()"
   ]
  },
  {
   "cell_type": "markdown",
   "metadata": {},
   "source": [
    "## Plot of a trajectory"
   ]
  },
  {
   "cell_type": "code",
   "execution_count": 8,
   "metadata": {},
   "outputs": [
    {
     "data": {
      "image/png": "[encoded data removed]",
      "text/plain": [
       "<Figure size 432x288 with 1 Axes>"
      ]
     },
     "metadata": {
      "needs_background": "light"
     },
     "output_type": "display_data"
    }
   ],
   "source": [
    "p1 = pylab.plot( model.data[\"B\"] , 'ob-', label=\"B\" )\n",
    "p2 = pylab.plot( model.data[\"C\"] , 'sr-', label=\"C\" )\n",
    "pylab.legend()\n",
    "\n",
    "pylab.ylim((-0.1,1.1))\n",
    "pylab.show()    "
   ]
  },
  {
   "cell_type": "markdown",
   "metadata": {},
   "source": [
    "## Random sampling of the initial condition"
   ]
  },
  {
   "cell_type": "code",
   "execution_count": 9,
   "metadata": {},
   "outputs": [
    {
     "name": "stdout",
     "output_type": "stream",
     "text": [
      "Start: 1 -> (4, 0, [1, 2, 3, 4, 1, 2, 3, 4, 1, 2])\n",
      "Start: 3 -> (4, 0, [3, 4, 1, 2, 3, 4, 1, 2, 3, 4])\n",
      "Start: 2 -> (4, 0, [2, 3, 4, 1, 2, 3, 4, 1, 2, 3])\n",
      "Start: 5 -> (4, 1, [5, 2, 3, 4, 1, 2, 3, 4, 1, 2])\n",
      "Start: 6 -> (4, 1, [6, 2, 3, 4, 1, 2, 3, 4, 1, 2])\n",
      "Start: 7 -> (4, 1, [7, 1, 2, 3, 4, 1, 2, 3, 4, 1])\n",
      "Start: 0 -> (4, 1, [0, 1, 2, 3, 4, 1, 2, 3, 4, 1])\n"
     ]
    }
   ],
   "source": [
    "text = \"\"\"\n",
    "A = True\n",
    "B = Random\n",
    "C = Random\n",
    "D = Random\n",
    "\n",
    "B *= A or C\n",
    "C *= A and not D\n",
    "D *= B and C\n",
    "\"\"\"\n",
    "\n",
    "seen = {}\n",
    "\n",
    " \n",
    "# the key will be the fingerprint of the first state \n",
    "#(some random inital conditions may be the same), it is fine to overwrite in this case\n",
    "# as the 'sync' update rule is completely deterministic\n",
    "for i in range(10):\n",
    "    model = boolean2.Model( text=text, mode='sync')\n",
    "    model.initialize()\n",
    "    model.iterate( steps=20 )\n",
    "\n",
    "    # detect the cycles in the states\n",
    "    size, index = model.detect_cycles() \n",
    "    \n",
    "    # fingerprint of the first state\n",
    "    key = model.first.fp()\n",
    "\n",
    "    # keep only the first 10 states out of the 20\n",
    "    values = [ x.fp() for x in model.states[:10] ]\n",
    "\n",
    "    # store the fingerprinted values for each initial state\n",
    "    seen [ key ] = (index, size, values )\n",
    "\n",
    "# print out the observed states\n",
    "for first, values in list(seen.items()):\n",
    "    print('Start: %s -> %s' % (first, values))"
   ]
  },
  {
   "cell_type": "markdown",
   "metadata": {},
   "source": [
    "## Perturbation (KO, KI) of the model"
   ]
  },
  {
   "cell_type": "code",
   "execution_count": 10,
   "metadata": {},
   "outputs": [
    {
     "name": "stdout",
     "output_type": "stream",
     "text": [
      "Start: 5 -> (1, 1, [5, 6, 6, 6, 6, 6, 6, 6, 6, 6])\n",
      "Start: 0 -> (1, 2, [0, 5, 6, 6, 6, 6, 6, 6, 6, 6])\n",
      "Start: 6 -> (1, 0, [6, 6, 6, 6, 6, 6, 6, 6, 6, 6])\n"
     ]
    }
   ],
   "source": [
    "# Knocking node B out.\n",
    "#\n",
    "# Instead of a cycle, now a steady state is observed.\n",
    "# \n",
    "# Code is identical to tutorial 3 after the state modification steps\n",
    "\n",
    "text = \"\"\"\n",
    "A = True\n",
    "B = Random\n",
    "C = Random\n",
    "D = Random\n",
    "\n",
    "B *= A or C\n",
    "C *= A and not D\n",
    "D *= B and C\n",
    "\"\"\"\n",
    "\n",
    "\n",
    "# Fix the value and initial states of some components (here we perform a KO of B)\n",
    "text = boolean2.modify_states(text, turnon=[], turnoff=[ \"B\" ])\n",
    "\n",
    "\n",
    "seen = {}\n",
    "for i in range(10):\n",
    "    model = boolean2.Model( text, mode='sync')\n",
    "    model.initialize()\n",
    "    model.iterate( steps=20 )\n",
    "\n",
    "    size, index = model.detect_cycles() \n",
    "    \n",
    "    # fingerprint of the first state\n",
    "    key = model.first.fp()\n",
    "\n",
    "    # keep only the first 10 states out of the 20\n",
    "    values = [ x.fp() for x in model.states[:10] ]\n",
    "\n",
    "    # store the fingerprinted values for each initial state\n",
    "    seen [ key ] = (index, size, values )   \n",
    "\n",
    "# print out the observed states\n",
    "for first, values in list(seen.items()):\n",
    "    print('Start: %s -> %s' % (first, values))"
   ]
  },
  {
   "cell_type": "markdown",
   "metadata": {},
   "source": [
    "## Random sampling of asynchronous trajectories"
   ]
  },
  {
   "cell_type": "code",
   "execution_count": 11,
   "metadata": {},
   "outputs": [
    {
     "data": {
      "image/png": "[encoded data removed]",
      "text/plain": [
       "<Figure size 432x288 with 1 Axes>"
      ]
     },
     "metadata": {
      "needs_background": "light"
     },
     "output_type": "display_data"
    }
   ],
   "source": [
    "# Asynchronous updating rules are non deterministic and\n",
    "# need to be averaged over many runs\n",
    "#\n",
    "# The collector class makes this averaging very easy. It takes\n",
    "# a list of states and nodes to build a data structure that \n",
    "# can compute the average the state of each node over all simulation and each timestep.\n",
    "#\n",
    "# The output of averaging (in the normalized mode) is a value between\n",
    "# 0 and 1 representing the fraction of simulation (multiply by 100 to get percent) \n",
    "# that had the node in state True. \n",
    "\n",
    "\n",
    "text = \"\"\"\n",
    "A = True\n",
    "B = Random\n",
    "C = Random\n",
    "D = Random\n",
    "B* = A or C\n",
    "C* = A and not D\n",
    "D* = B and C\n",
    "\"\"\"\n",
    "\n",
    "coll  = boolean2.util.Collector()\n",
    "for i in range(50):\n",
    "    model = boolean2.Model( text, mode='async')\n",
    "    model.initialize()\n",
    "    model.iterate( steps=15 ) \n",
    "\n",
    "    # in this case we take all nodes\n",
    "    # one could just list a few nodes such as [ 'A', 'B', 'C' ]\n",
    "    nodes = model.nodes\n",
    "\n",
    "    # this collects states for each run\n",
    "    coll.collect( states=model.states, nodes=nodes )\n",
    "\n",
    "# this step averages the values for each node\n",
    "# returns a dictionary keyed by nodes and a list of values\n",
    "# with the average state for in each timestep\n",
    "avgs = coll.get_averages( normalize=True )\n",
    "\n",
    "# make some shortcut to data to for easier plotting\n",
    "valueB = avgs[\"B\"]\n",
    "valueC = avgs[\"C\"]\n",
    "valueD = avgs[\"D\"]\n",
    "\n",
    "# plot the state of the nodes\n",
    "p1 = pylab.plot( valueB , 'ob-', label=\"B\" )\n",
    "p2 = pylab.plot( valueC , 'sr-', label=\"C\" )\n",
    "p3 = pylab.plot( valueD , '^g-', label=\"D\" )\n",
    "pylab.legend()\n",
    "\n",
    "pylab.show()"
   ]
  },
  {
   "cell_type": "markdown",
   "metadata": {},
   "source": [
    "# PLDE mode (broken with newer versions of pylab)\n",
    "\n",
    "In addition to sync and async modes, booleannet supports a PLDE mode.\n",
    "Unfortunately, it relies on the RK integrator which used to be part of pylab but has been removed."
   ]
  },
  {
   "cell_type": "code",
   "execution_count": 12,
   "metadata": {},
   "outputs": [],
   "source": [
    "# Using Piecewise linear differential equations\n",
    "#\n",
    "# This initial condition leads to damped oscillations\n",
    "# If A is set to False, a steady state is obtained.\n",
    "\n",
    "text = \"\"\"\n",
    "A = True\n",
    "B = False\n",
    "C = False\n",
    "D = True\n",
    "1: B* = A or C\n",
    "1: C* = A and not D\n",
    "1: D* = B and C\n",
    "\"\"\"\n",
    "\n",
    "if False:\n",
    "    model = boolean2.Model( text, mode='plde')\n",
    "    model.initialize()\n",
    "    model.iterate( fullt=7, steps=150 )\n",
    "\n",
    "    #\n",
    "    # generate the plot\n",
    "    #\n",
    "    p1 = pylab.plot( model.data[\"B\"] , 'ob-' )\n",
    "    p2 = pylab.plot( model.data[\"C\"] , 'sr-' )\n",
    "    p3 = pylab.plot( model.data[\"D\"] , '^g-' )\n",
    "\n",
    "\n",
    "    pylab.legend( [p1,p2,p3], [\"B\",\"C\",\"D\"])\n",
    "\n",
    "    pylab.show()"
   ]
  }
 ],
 "metadata": {
  "kernelspec": {
   "display_name": "Python 3",
   "language": "python",
   "name": "python3"
  },
  "language_info": {
   "codemirror_mode": {
    "name": "ipython",
    "version": 3
   },
   "file_extension": ".py",
   "mimetype": "text/x-python",
   "name": "python",
   "nbconvert_exporter": "python",
   "pygments_lexer": "ipython3",
   "version": "3.7.7"
  }
 },
 "nbformat": 4,
 "nbformat_minor": 4
}
