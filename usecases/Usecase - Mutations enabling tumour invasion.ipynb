{
 "cells": [
  {
   "cell_type": "markdown",
   "metadata": {
    "latex_maketitle": {
     "corrAuthor": "Loïc Paulevé",
     "corrEmail": "loic.pauleve@lri.fr",
     "firstAuthorLast": "Levy {et~al.}",
     "runningTitle": "Prediction of Mutations with the CoLoMoto Interactive Notebook"
    }
   },
   "source": [
    "# Prediction of Mutations to Control Pathways Enabling Tumour Cell Invasion with the CoLoMoTo Interactive Notebook (Tutorial)\n",
    "\n",
    "**Authors**: Nicolas Levy<sup>1,2</sup>, Aurélien Naldi<sup>3</sup>, Céline Hernandez<sup>3</sup>, Gautier Stoll<sup>4-8</sup>, Denis Thieffry<sup>3</sup>, Andrei Zinovyev<sup>9-11</sup>, Laurence Calzone<sup>9-11</sup>, Loïc Paulevé<sup>1,*</sup>\n",
    "> <sup>1</sup> LRI UMR 8623, Université Paris-Sud, CNRS, Université Paris-Saclay, Orsay, France;\n",
    "> <sup>2</sup> École Normale Supérieure de Lyon, France;\n",
    "> <sup>3</sup> Computational Systems Biology team, Institut de Biologie de l’Ecole Normale Supérieure, CNRS UMR8197, INSERM U1024, École Normale Supérieure, PSL Université, Paris, France;\n",
    "> <sup>4</sup> Université Paris Descartes/Paris V, Sorbonne Paris Cité, Paris, France;\n",
    "> <sup>5</sup> Équipe 11 labellisée Ligue Nationale contre le Cancer, Centre de Recherche des Cordeliers; Paris, France;\n",
    "> <sup>6</sup> Institut National de la Santé et de la Recherche Médicale, U1138; Paris, France;\n",
    "> <sup>7</sup> Université Pierre et Marie Curie, Paris, France;\n",
    "> <sup>8</sup> Metabolomics and Cell Biology Platforms, Gustave Roussy Cancer Campus; Villejuif, France;\n",
    "> <sup>9</sup> Institut Curie, PSL Research University, Paris, France;\n",
    "> <sup>10</sup> INSERM, U900, Paris, France;\n",
    "> <sup>11</sup> MINES ParisTech, PSL Research University, CBIO-Centre for Computational Biology, Paris, France\n",
    "\n",
    "\n",
    "### Abstract\n",
    "\n",
    "> Boolean and multi-valued logical formalisms are increasingly used to model complex cellular networks. To ease the development and analysis of logical models, a series of software tools have been proposed, often with specific assets. \n",
    "> However, combining these tools typically implies a series of cumbersome software installation and model conversion steps. In this respect, the *CoLoMoTo Interactive Notebook* provides a joint distribution of several logical modelling software tools, along with an interactive web Python interface easing the chaining of complementary analyses.\n",
    ">\n",
    "> Our computational workflow combines (1) the importation of a GINsim model and its display, (2) its format conversion using the Java library BioLQM, (3) the formal prediction of mutations using the OCaml software Pint, (4) the model checking using the C++ software NuSMV, (5) quantitative stochastic simulations using the C++ software MaBoSS, and (6) the visualisation of results using the Python library matplotlib. \n",
    "We rely on the CoLoMoTo Interactive Notebook to provide a thoroughly documented and executable notebook of our computational analysis.\n",
    ">\n",
    "> To illustrate our approach, we use a recent Boolean model of the signalling network controlling tumour cell invasion and migration. Our model analysis culminates with the prediction of sets of mutations presumably involved in a metastatic phenotype.\n",
    "Beyond the specific application considered here, the resulting Jupyter notebook constitutes a tutorial for the use and combination of several logical modelling tools, which can be easily adapted to analyse other models. Furthermore, the notebook web interface and the companion Docker distribution of logical modelling tools greatly facilitate the production of accessible and reproducible model analysis workflows.\n",
    ">\n",
    "> **Keywords**: Boolean networks, stochastic simulations, model verification, software tools, reproducibility"
   ]
  },
  {
   "cell_type": "markdown",
   "metadata": {},
   "source": [
    "# Introduction\n",
    "\n",
    "Boolean and multi-valued logical formalisms are increasingly used to model complex cellular networks (see e.g. <cite data-citet=\"Helikar2012,Zanudo2015,Collombet2017\"><a href=\"http://doi.org/10.1186/1752-0509-6-96\">Helikar et al. (2012)</a>;\n",
    "<a href=\"http://doi.org/10.1371/journal.pcbi.1004193\">Zañudo et al. (2015)</a>;\n",
    "<a href=\"http://doi.org/10.1073/pnas.1610622114\">Collombet et al. (2017)</a></cite>). A logical model is usually defined in three steps: \n",
    "\n",
    "1. The delineation of a regulatory graph, where the vertices (nodes) represent signalling or regulatory components (proteins, genes, microRNAs, etc.), while the arcs (arrows) represent regulatory interactions between pairs of components. These arcs are labelled by a sign: positive in the case of activation, negative in the case of an inhibition (multiple arcs between two nodes may be considered but are not used here).\n",
    "\n",
    "2. A discrete variable is associated with each node. In the simplest cases, as hereafter, these variables are Boolean, *i.e.* they can take only two values (0 or 1), denoting the absence/inactivity or the presence/activity of the corresponding components.\n",
    "\n",
    "3. Finally, a logical rule is associated with each component to specify the combinations enabling its activation. More precisely, this rule combines the different variables corresponding to the regulatory components using the logical negation (denoted by `!`), conjunction (denoted by `&`) and disjunction (denoted by `|`). For example, the rule associated with the component GF in the model considered below is  `!CDH1 & (GF | CDH2)`, which reads as \"the component GF will be activated in the absence of CDH1 and in the presence of CDH2 or GF itself\". In other words, CDH2 is required transiently for GF activation, in the absence of CDH1.      \n",
    "\n",
    "To support the development and analysis of logical models, a series of software tools have been proposed, often with specific assets <cite data-citep=\"Naldi2009,Klarner2017,Pauleve2017,Stoll2017\">(<a href=\"http://doi.org/10.1016/j.biosystems.2009.04.008\">Naldi et al., 2009</a>;\n",
    "<a href=\"http://doi.org/10.1093/bioinformatics/btw682\">Klarner et al., 2017</a>;\n",
    "<a href=\"http://doi.org/10.1007/978-3-319-67471-1_20\">Paulevé, 2017</a>;\n",
    "<a href=\"http://doi.org/10.1093/bioinformatics/btx123\">Stoll et al., 2017</a>)</cite>.\n",
    "\n",
    "The *CoLoMoTo Interactive Notebook*[^1] <cite data-citep=\"ColomotoDocker2018\">(<a href=\"https://doi.org/10.1101/290411\">Naldi et al., 2018b</a>)</cite> relies on Docker^[[https://docker.com](https://docker.com)] and Jupyter^[[https://jupyter.org](https://jupyter.org)] technologies to assist on editing and sharing reproducible analysis workflows for logical models.\n",
    "In addition to the distribution of a set of software tools to define and analyse Boolean and multi-valued networks, a unified Python interface for each of the integrated tools is provided, greatly easing the execution and chaining of complementary analyses.\n",
    "\n",
    "This protocol describes in details the usage of the CoLoMoTo Interactive Notebook to provide a reproducible analysis of a recently published model of the signalling network controlling tumour cell invasion and migration. More specifically, we combine different tools (Table 1) to compute the model stable states, perform stochastic simulations, compute (sets of) mutations controlling the reachability of specific stable states, and evaluate their efficiency.\n",
    "\n",
    "**Table 1** List of software tools used in this notebook\n",
    "\n",
    "Tool   |Website |  Role in this notebook\n",
    ":------ | :----------------------------- | :------------------------------------------------------------\n",
    "GINsim | [ginsim.org](http://ginsim.org) | Model input and display, conversion to bioLQM and NuSMV\n",
    "bioLQM | [colomoto.org/biolqm](http://colomoto.org/biolqm) | Fixpoint computation, conversion to MaBoSS and Pint\n",
    "MaBoSS | [maboss.curie.fr](https://maboss.curie.fr) | Stochastic simulations, assess impact of mutations on propensity of reaching phenotypes\n",
    "Pint   | [loicpauleve.name/pint](http://loicpauleve.name/pint) | Formal prediction of mutants\n",
    "NuSMV  | [nusmv.fbk.eu](http://nusmv.fbk.eu) | Formal verification of phenotypes reachability and stability\n",
    "\n",
    "\n",
    "\n",
    "# Materials and Equipment\n",
    "\n",
    "## Executable and reproducible model analysis\n",
    "\n",
    "This protocol has been actually edited entirely as a Jupyter notebook before being converted to a LaTeX document for journal-specific editing purposes. The original notebook file is provided as supplemental material. It can also be visualised and  downloaded for execution in the CoLoMoTo Interactive Notebook at [https://nbviewer.jupyter.org/gist/pauleve/a86717b0ae8750440dd589f778db428f/Usecase - Mutations enabling tumour invasion.ipynb](https://nbviewer.jupyter.org/gist/pauleve/a86717b0ae8750440dd589f778db428f/Usecase%20-%20Mutations%20enabling%20tumour%20invasion.ipynb).\n",
    "\n",
    "The blocks beginning with `In [..]` correspond to Jupyter *code cells*, which contain the Python instructions to execute. When relevant, the blocks beginning with `Out [..]` display the result of the last instruction of the corresponding code cell.\n",
    "\n",
    "Provided Docker and Python are installed, the CoLoMoTo Interactive notebook can be installed by typing and executing the following command[^2] on GNU/Linux, macOS, and Microsoft Windows:\n",
    "```\n",
    "pip install -U colomoto-docker\n",
    "```\n",
    "Once installed, the notebook can be executed by typing\n",
    "```\n",
    "colomoto-docker -V 2018-05-29\n",
    "```\n",
    "The execution of this command will open a web page with the Jupyter notebook interface, enabling the loading and execution of the code.\n",
    "Note that \"SHIFT+ENTER\" must be used to execute each code cell.\n",
    "More information on `colomoto-docker` usage can be obtained by typing `colomoto-docker --help` and by visiting [https://github.com/colomoto/colomoto-docker](https://github.com/colomoto/colomoto-docker).\n",
    "\n",
    "\n",
    "\n",
    "[^1]: Available at  [https://github.com/colomoto/colomoto-docker](https://github.com/colomoto/colomoto-docker)\n",
    "\n",
    "[^2]: You may have to use `pip3` instead of `pip` depending on your configuration."
   ]
  },
  {
   "cell_type": "markdown",
   "metadata": {},
   "source": [
    "## Notebook preparation\n",
    "\n",
    "This notebook makes use of the following Python modules:"
   ]
  },
  {
   "cell_type": "code",
   "execution_count": 1,
   "metadata": {
    "nbconvert_skip_output": true
   },
   "outputs": [],
   "source": [
    "import ginsim\n",
    "import biolqm\n",
    "import maboss\n",
    "import pypint\n",
    "from colomoto_jupyter import tabulate # for fixpoint table display\n",
    "from itertools import combinations  # for iterating over sets\n",
    "import matplotlib.pyplot as plt # for modifying plots"
   ]
  },
  {
   "cell_type": "markdown",
   "metadata": {},
   "source": [
    "# Stepwise Procedures\n",
    "\n",
    "## Model\n",
    "\n",
    "We analyse a Boolean model of the signaling network controlling cell tumour invasion, which was recently reported in <cite data-citet=\"Cohen2015\"><a href=\"http://doi.org/10.1371/journal.pcbi.1004571\">Cohen et al. (2015)</a></cite>.\n",
    "This model can be loaded directly from the GINsim model repository at [http://ginsim.org/models_repository](http://ginsim.org/models_repository).\n",
    "\n",
    "We first show how to use GINsim <cite data-citep=\"naldi18_ginsim\">(<a href=\"https://doi.org/10.1101/289298\">Naldi et al., 2018a</a>)</cite> to fetch and parse the GINML file (GINsim graph-based XML format, encapsulated in a zginml archive) and display the regulatory graph of the network.\n",
    "To load the model, we copied the URL of the `.zginml` file from the model repository page at [http://ginsim.org/node/191](http://ginsim.org/node/191).\n",
    "The file is also available as supplemental data ([suppMat_Model_Master_Model.zginml](suppMat_Model_Master_Model.zginml))."
   ]
  },
  {
   "cell_type": "code",
   "execution_count": 2,
   "metadata": {
    "nbconvert_skip_output": true
   },
   "outputs": [
    {
     "data": {
      "text/markdown": [
       "Downloading http://ginsim.org/sites/default/files/SuppMat_Model_Master_Model.zginml"
      ],
      "text/plain": [
       "<IPython.core.display.Markdown object>"
      ]
     },
     "metadata": {},
     "output_type": "display_data"
    }
   ],
   "source": [
    "lrg = ginsim.load(\"http://ginsim.org/sites/default/files/SuppMat_Model_Master_Model.zginml\")"
   ]
  },
  {
   "cell_type": "markdown",
   "metadata": {},
   "source": [
    "The regulatory graph (using the graphical setting specified in the model file) can be displayed with the following command:"
   ]
  },
  {
   "cell_type": "code",
   "execution_count": 3,
   "metadata": {},
   "outputs": [
    {
     "data": {
      "text/html": [
       "<img class=\"unconfined\" width=\"100%\" src=\"data:image/svg+xml;base64,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\">"
      ],
      "text/plain": [
       "<IPython.core.display.HTML object>"
      ]
     },
     "execution_count": 3,
     "metadata": {},
     "output_type": "execute_result"
    }
   ],
   "source": [
    "ginsim.show(lrg)"
   ]
  },
  {
   "cell_type": "markdown",
   "metadata": {},
   "source": [
    "In this regulatory graph, the grey boxes denote input and output vertices (nodes). Green arrows and red T arrows respectively denote activatory and inhibitory interactions. A set of rules combining the vertices with the Boolean operators NOT, AND, and OR, which must be consistent with the regulatory graph, then allows the computation of enabled transitions for each network state. These rules have been defined in <cite data-citet=\"Cohen2015\"><a href=\"http://doi.org/10.1371/journal.pcbi.1004571\">Cohen et al. (2015)</a></cite> and are specified within the GINsim model.\n",
    "\n",
    "\n",
    "## Identification of stable states\n",
    "\n",
    "First, we compute the complete list of logical stable states (or fixpoints) of the model using the Java library `bioLQM` <cite data-citep=\"naldi18_biolqm\">(Naldi, submitted)</cite>.\n",
    "We thus need to convert the GINsim model into bioLQM:"
   ]
  },
  {
   "cell_type": "code",
   "execution_count": 4,
   "metadata": {},
   "outputs": [],
   "source": [
    "lqm = ginsim.to_biolqm(lrg)"
   ]
  },
  {
   "cell_type": "markdown",
   "metadata": {},
   "source": [
    "At that stage, `lrg` is a Python object representing the model suitable for GINsim, and `lqm` is a Python object representing the equivalent model suitable for bioLQM.\n",
    "\n",
    "The list of stable states of a bioLQM model is computed as follows:"
   ]
  },
  {
   "cell_type": "code",
   "execution_count": 5,
   "metadata": {},
   "outputs": [],
   "source": [
    "fixpoints = biolqm.fixpoints(lqm)"
   ]
  },
  {
   "cell_type": "markdown",
   "metadata": {},
   "source": [
    "Here, `fixpoints` is a Python list of states. A state is encoded as a Python association table (dictionary), which maps each node of the network to a value.\n",
    "\n",
    "For a nice display of the list of stable states, one can use the `tabulate` function provided in the `colomoto_jupyter` Python library, imported at the beginning of the notebook:"
   ]
  },
  {
   "cell_type": "code",
   "execution_count": 6,
   "metadata": {
    "nbconvert_latex": {
     "call_macro": [
      "draw_figure",
      "screenshot_fixpoints.png"
     ],
     "raw_output": "Figure~\\ref{fig:screenshot_fixpoints.png} shows the table as displayed in the notebook. The complete table is given in supplemental data."
    }
   },
   "outputs": [
    {
     "data": {
      "text/html": [
       "<div>\n",
       "<style scoped>\n",
       "    .dataframe tbody tr th:only-of-type {\n",
       "        vertical-align: middle;\n",
       "    }\n",
       "\n",
       "    .dataframe tbody tr th {\n",
       "        vertical-align: top;\n",
       "    }\n",
       "\n",
       "    .dataframe thead th {\n",
       "        text-align: right;\n",
       "    }\n",
       "</style>\n",
       "<table border=\"1\" class=\"dataframe\">\n",
       "  <thead>\n",
       "    <tr style=\"text-align: right;\">\n",
       "      <th></th>\n",
       "      <th>ECMicroenv</th>\n",
       "      <th>DNAdamage</th>\n",
       "      <th>Metastasis</th>\n",
       "      <th>Migration</th>\n",
       "      <th>Invasion</th>\n",
       "      <th>EMT</th>\n",
       "      <th>Apoptosis</th>\n",
       "      <th>CellCycleArrest</th>\n",
       "      <th>GF</th>\n",
       "      <th>TGFbeta</th>\n",
       "      <th>p21</th>\n",
       "      <th>CDH1</th>\n",
       "      <th>CDH2</th>\n",
       "      <th>VIM</th>\n",
       "      <th>TWIST1</th>\n",
       "      <th>SNAI1</th>\n",
       "      <th>SNAI2</th>\n",
       "      <th>ZEB1</th>\n",
       "      <th>ZEB2</th>\n",
       "      <th>AKT1</th>\n",
       "      <th>DKK1</th>\n",
       "      <th>CTNNB1</th>\n",
       "      <th>NICD</th>\n",
       "      <th>p63</th>\n",
       "      <th>p53</th>\n",
       "      <th>p73</th>\n",
       "      <th>miR200</th>\n",
       "      <th>miR203</th>\n",
       "      <th>miR34</th>\n",
       "      <th>AKT2</th>\n",
       "      <th>ERK</th>\n",
       "      <th>SMAD</th>\n",
       "    </tr>\n",
       "  </thead>\n",
       "  <tbody>\n",
       "    <tr>\n",
       "      <th>0</th>\n",
       "      <td>0</td>\n",
       "      <td>0</td>\n",
       "      <td>0</td>\n",
       "      <td>0</td>\n",
       "      <td>0</td>\n",
       "      <td>0</td>\n",
       "      <td>0</td>\n",
       "      <td>0</td>\n",
       "      <td>0</td>\n",
       "      <td>0</td>\n",
       "      <td>0</td>\n",
       "      <td>1</td>\n",
       "      <td>0</td>\n",
       "      <td>0</td>\n",
       "      <td>0</td>\n",
       "      <td>0</td>\n",
       "      <td>0</td>\n",
       "      <td>0</td>\n",
       "      <td>0</td>\n",
       "      <td>0</td>\n",
       "      <td>0</td>\n",
       "      <td>0</td>\n",
       "      <td>0</td>\n",
       "      <td>0</td>\n",
       "      <td>0</td>\n",
       "      <td>0</td>\n",
       "      <td>0</td>\n",
       "      <td>0</td>\n",
       "      <td>0</td>\n",
       "      <td>0</td>\n",
       "      <td>0</td>\n",
       "      <td>0</td>\n",
       "    </tr>\n",
       "    <tr>\n",
       "      <th>1</th>\n",
       "      <td>0</td>\n",
       "      <td>0</td>\n",
       "      <td>0</td>\n",
       "      <td>0</td>\n",
       "      <td>0</td>\n",
       "      <td>1</td>\n",
       "      <td>0</td>\n",
       "      <td>1</td>\n",
       "      <td>1</td>\n",
       "      <td>0</td>\n",
       "      <td>0</td>\n",
       "      <td>0</td>\n",
       "      <td>1</td>\n",
       "      <td>1</td>\n",
       "      <td>1</td>\n",
       "      <td>1</td>\n",
       "      <td>1</td>\n",
       "      <td>1</td>\n",
       "      <td>1</td>\n",
       "      <td>0</td>\n",
       "      <td>0</td>\n",
       "      <td>0</td>\n",
       "      <td>0</td>\n",
       "      <td>0</td>\n",
       "      <td>0</td>\n",
       "      <td>0</td>\n",
       "      <td>0</td>\n",
       "      <td>0</td>\n",
       "      <td>0</td>\n",
       "      <td>1</td>\n",
       "      <td>1</td>\n",
       "      <td>0</td>\n",
       "    </tr>\n",
       "    <tr>\n",
       "      <th>2</th>\n",
       "      <td>0</td>\n",
       "      <td>1</td>\n",
       "      <td>0</td>\n",
       "      <td>0</td>\n",
       "      <td>0</td>\n",
       "      <td>0</td>\n",
       "      <td>1</td>\n",
       "      <td>1</td>\n",
       "      <td>0</td>\n",
       "      <td>0</td>\n",
       "      <td>1</td>\n",
       "      <td>1</td>\n",
       "      <td>0</td>\n",
       "      <td>0</td>\n",
       "      <td>0</td>\n",
       "      <td>0</td>\n",
       "      <td>0</td>\n",
       "      <td>0</td>\n",
       "      <td>0</td>\n",
       "      <td>0</td>\n",
       "      <td>0</td>\n",
       "      <td>0</td>\n",
       "      <td>0</td>\n",
       "      <td>0</td>\n",
       "      <td>1</td>\n",
       "      <td>0</td>\n",
       "      <td>1</td>\n",
       "      <td>1</td>\n",
       "      <td>0</td>\n",
       "      <td>0</td>\n",
       "      <td>0</td>\n",
       "      <td>0</td>\n",
       "    </tr>\n",
       "    <tr>\n",
       "      <th>3</th>\n",
       "      <td>0</td>\n",
       "      <td>1</td>\n",
       "      <td>0</td>\n",
       "      <td>0</td>\n",
       "      <td>0</td>\n",
       "      <td>0</td>\n",
       "      <td>1</td>\n",
       "      <td>1</td>\n",
       "      <td>0</td>\n",
       "      <td>0</td>\n",
       "      <td>1</td>\n",
       "      <td>1</td>\n",
       "      <td>0</td>\n",
       "      <td>0</td>\n",
       "      <td>0</td>\n",
       "      <td>0</td>\n",
       "      <td>0</td>\n",
       "      <td>0</td>\n",
       "      <td>0</td>\n",
       "      <td>0</td>\n",
       "      <td>0</td>\n",
       "      <td>0</td>\n",
       "      <td>0</td>\n",
       "      <td>1</td>\n",
       "      <td>0</td>\n",
       "      <td>1</td>\n",
       "      <td>1</td>\n",
       "      <td>0</td>\n",
       "      <td>0</td>\n",
       "      <td>0</td>\n",
       "      <td>0</td>\n",
       "      <td>0</td>\n",
       "    </tr>\n",
       "    <tr>\n",
       "      <th>4</th>\n",
       "      <td>0</td>\n",
       "      <td>1</td>\n",
       "      <td>0</td>\n",
       "      <td>0</td>\n",
       "      <td>0</td>\n",
       "      <td>1</td>\n",
       "      <td>0</td>\n",
       "      <td>1</td>\n",
       "      <td>1</td>\n",
       "      <td>0</td>\n",
       "      <td>0</td>\n",
       "      <td>0</td>\n",
       "      <td>1</td>\n",
       "      <td>1</td>\n",
       "      <td>1</td>\n",
       "      <td>1</td>\n",
       "      <td>1</td>\n",
       "      <td>1</td>\n",
       "      <td>1</td>\n",
       "      <td>0</td>\n",
       "      <td>0</td>\n",
       "      <td>0</td>\n",
       "      <td>0</td>\n",
       "      <td>0</td>\n",
       "      <td>0</td>\n",
       "      <td>0</td>\n",
       "      <td>0</td>\n",
       "      <td>0</td>\n",
       "      <td>0</td>\n",
       "      <td>1</td>\n",
       "      <td>1</td>\n",
       "      <td>0</td>\n",
       "    </tr>\n",
       "    <tr>\n",
       "      <th>5</th>\n",
       "      <td>1</td>\n",
       "      <td>0</td>\n",
       "      <td>1</td>\n",
       "      <td>1</td>\n",
       "      <td>1</td>\n",
       "      <td>1</td>\n",
       "      <td>0</td>\n",
       "      <td>1</td>\n",
       "      <td>1</td>\n",
       "      <td>1</td>\n",
       "      <td>0</td>\n",
       "      <td>0</td>\n",
       "      <td>1</td>\n",
       "      <td>1</td>\n",
       "      <td>1</td>\n",
       "      <td>1</td>\n",
       "      <td>1</td>\n",
       "      <td>1</td>\n",
       "      <td>1</td>\n",
       "      <td>0</td>\n",
       "      <td>1</td>\n",
       "      <td>0</td>\n",
       "      <td>1</td>\n",
       "      <td>0</td>\n",
       "      <td>0</td>\n",
       "      <td>0</td>\n",
       "      <td>0</td>\n",
       "      <td>0</td>\n",
       "      <td>0</td>\n",
       "      <td>1</td>\n",
       "      <td>1</td>\n",
       "      <td>1</td>\n",
       "    </tr>\n",
       "    <tr>\n",
       "      <th>6</th>\n",
       "      <td>1</td>\n",
       "      <td>1</td>\n",
       "      <td>0</td>\n",
       "      <td>0</td>\n",
       "      <td>0</td>\n",
       "      <td>0</td>\n",
       "      <td>1</td>\n",
       "      <td>1</td>\n",
       "      <td>0</td>\n",
       "      <td>1</td>\n",
       "      <td>1</td>\n",
       "      <td>1</td>\n",
       "      <td>0</td>\n",
       "      <td>0</td>\n",
       "      <td>0</td>\n",
       "      <td>0</td>\n",
       "      <td>0</td>\n",
       "      <td>0</td>\n",
       "      <td>0</td>\n",
       "      <td>0</td>\n",
       "      <td>0</td>\n",
       "      <td>0</td>\n",
       "      <td>0</td>\n",
       "      <td>0</td>\n",
       "      <td>1</td>\n",
       "      <td>0</td>\n",
       "      <td>1</td>\n",
       "      <td>1</td>\n",
       "      <td>0</td>\n",
       "      <td>0</td>\n",
       "      <td>0</td>\n",
       "      <td>0</td>\n",
       "    </tr>\n",
       "    <tr>\n",
       "      <th>7</th>\n",
       "      <td>1</td>\n",
       "      <td>1</td>\n",
       "      <td>0</td>\n",
       "      <td>0</td>\n",
       "      <td>0</td>\n",
       "      <td>0</td>\n",
       "      <td>1</td>\n",
       "      <td>1</td>\n",
       "      <td>0</td>\n",
       "      <td>1</td>\n",
       "      <td>1</td>\n",
       "      <td>1</td>\n",
       "      <td>0</td>\n",
       "      <td>0</td>\n",
       "      <td>0</td>\n",
       "      <td>0</td>\n",
       "      <td>0</td>\n",
       "      <td>0</td>\n",
       "      <td>0</td>\n",
       "      <td>0</td>\n",
       "      <td>0</td>\n",
       "      <td>0</td>\n",
       "      <td>0</td>\n",
       "      <td>1</td>\n",
       "      <td>0</td>\n",
       "      <td>1</td>\n",
       "      <td>1</td>\n",
       "      <td>0</td>\n",
       "      <td>0</td>\n",
       "      <td>0</td>\n",
       "      <td>0</td>\n",
       "      <td>0</td>\n",
       "    </tr>\n",
       "    <tr>\n",
       "      <th>8</th>\n",
       "      <td>1</td>\n",
       "      <td>1</td>\n",
       "      <td>1</td>\n",
       "      <td>1</td>\n",
       "      <td>1</td>\n",
       "      <td>1</td>\n",
       "      <td>0</td>\n",
       "      <td>1</td>\n",
       "      <td>1</td>\n",
       "      <td>1</td>\n",
       "      <td>0</td>\n",
       "      <td>0</td>\n",
       "      <td>1</td>\n",
       "      <td>1</td>\n",
       "      <td>1</td>\n",
       "      <td>1</td>\n",
       "      <td>1</td>\n",
       "      <td>1</td>\n",
       "      <td>1</td>\n",
       "      <td>0</td>\n",
       "      <td>1</td>\n",
       "      <td>0</td>\n",
       "      <td>1</td>\n",
       "      <td>0</td>\n",
       "      <td>0</td>\n",
       "      <td>0</td>\n",
       "      <td>0</td>\n",
       "      <td>0</td>\n",
       "      <td>0</td>\n",
       "      <td>1</td>\n",
       "      <td>1</td>\n",
       "      <td>1</td>\n",
       "    </tr>\n",
       "  </tbody>\n",
       "</table>\n",
       "</div>"
      ],
      "text/plain": [
       "   ECMicroenv  DNAdamage  Metastasis  Migration  Invasion  EMT  Apoptosis  \\\n",
       "0           0          0           0          0         0    0          0   \n",
       "1           0          0           0          0         0    1          0   \n",
       "2           0          1           0          0         0    0          1   \n",
       "3           0          1           0          0         0    0          1   \n",
       "4           0          1           0          0         0    1          0   \n",
       "5           1          0           1          1         1    1          0   \n",
       "6           1          1           0          0         0    0          1   \n",
       "7           1          1           0          0         0    0          1   \n",
       "8           1          1           1          1         1    1          0   \n",
       "\n",
       "   CellCycleArrest  GF  TGFbeta  p21  CDH1  CDH2  VIM  TWIST1  SNAI1  SNAI2  \\\n",
       "0                0   0        0    0     1     0    0       0      0      0   \n",
       "1                1   1        0    0     0     1    1       1      1      1   \n",
       "2                1   0        0    1     1     0    0       0      0      0   \n",
       "3                1   0        0    1     1     0    0       0      0      0   \n",
       "4                1   1        0    0     0     1    1       1      1      1   \n",
       "5                1   1        1    0     0     1    1       1      1      1   \n",
       "6                1   0        1    1     1     0    0       0      0      0   \n",
       "7                1   0        1    1     1     0    0       0      0      0   \n",
       "8                1   1        1    0     0     1    1       1      1      1   \n",
       "\n",
       "   ZEB1  ZEB2  AKT1  DKK1  CTNNB1  NICD  p63  p53  p73  miR200  miR203  miR34  \\\n",
       "0     0     0     0     0       0     0    0    0    0       0       0      0   \n",
       "1     1     1     0     0       0     0    0    0    0       0       0      0   \n",
       "2     0     0     0     0       0     0    0    1    0       1       1      0   \n",
       "3     0     0     0     0       0     0    1    0    1       1       0      0   \n",
       "4     1     1     0     0       0     0    0    0    0       0       0      0   \n",
       "5     1     1     0     1       0     1    0    0    0       0       0      0   \n",
       "6     0     0     0     0       0     0    0    1    0       1       1      0   \n",
       "7     0     0     0     0       0     0    1    0    1       1       0      0   \n",
       "8     1     1     0     1       0     1    0    0    0       0       0      0   \n",
       "\n",
       "   AKT2  ERK  SMAD  \n",
       "0     0    0     0  \n",
       "1     1    1     0  \n",
       "2     0    0     0  \n",
       "3     0    0     0  \n",
       "4     1    1     0  \n",
       "5     1    1     1  \n",
       "6     0    0     0  \n",
       "7     0    0     0  \n",
       "8     1    1     1  "
      ]
     },
     "execution_count": 6,
     "metadata": {},
     "output_type": "execute_result"
    }
   ],
   "source": [
    "tabulate(fixpoints)"
   ]
  },
  {
   "cell_type": "markdown",
   "metadata": {},
   "source": [
    "It results that the model has nine stable states, each corresponding to a row in the table, four of which enable apoptosis (rows with value 1 in fourth column \"Apoptosis\"). Note that the input node `DNAdamage` is also active in each of these four states.\n",
    "\n",
    "A state can be visualised on the regulatory graph using GINsim. For example, the third stable state can be displayed using the following command:"
   ]
  },
  {
   "cell_type": "code",
   "execution_count": 7,
   "metadata": {},
   "outputs": [
    {
     "data": {
      "text/html": [
       "<img class=\"unconfined\" width=\"100%\" src=\"data:image/svg+xml;base64,PD94bWwgdmVyc2lvbj0iMS4wIiBlbmNvZGluZz0iVVRGLTgiPz4KPCFET0NUWVBFIHN2ZyBQVUJMSUMgIi0vL1czQy8vRFREIFNWRyAyMDAwMTEwMi8vRU4iICJodHRwOi8vd3d3LnczLm9yZy9UUi8yMDAwL0NSLVNWRy0yMDAwMTEwMi9EVEQvc3ZnLTIwMDAxMTAyLmR0ZCI+Cjxzdmcgd2lkdGg9IjEzMTguMCIgaGVpZ2h0PSI3OTguMCIgeG1sbnM9Imh0dHA6Ly93d3cudzMub3JnLzIwMDAvc3ZnIiB2ZXJzaW9uPSIxLjEiPgogIDxzdHlsZSB0eXBlPSJ0ZXh0L2NzcyI+CnRleHQgewogIGZvbnQtZmFtaWx5OiAnU2Fuc1NlcmlmJzsKICBmb250LXNpemU6IDEycHg7Cn0KLm5vZGUgLnNoYXBlIHsKZmlsbDogI2ZmZmZmZjsKc3Ryb2tlOiAjMDAwMDAwOwp9Ci5ub2RlIHRleHQgewpmaWxsOiAjMDAwMDAwOwp9Ci5ub2RlX25vZGVfc3R5bGUgLnNoYXBlIHsKZmlsbDogIzk5OTk5OTsKc3Ryb2tlOiAjMDAwMDAwOwp9Ci5ub2RlX25vZGVfc3R5bGUgdGV4dCB7CmZpbGw6ICMwMDAwMDA7Cn0KLm5vZGVfbm9kZV9zdHlsZV8yIC5zaGFwZSB7CmZpbGw6ICNmZmZmZmY7CnN0cm9rZTogIzAwMDAwMDsKfQoubm9kZV9ub2RlX3N0eWxlXzIgdGV4dCB7CmZpbGw6ICMwMDAwMDA7Cn0KLmVkZ2UgewpzdHJva2U6ICMwMDAwMDA7CmZpbGw6IG5vbmU7CnN0cm9rZS13aWR0aDogMTsKfQouZWRnZV9QT1NJVElWRSB7CnN0cm9rZTogIzAwYzgwMDsKfQouZWRnZV9ORUdBVElWRSB7CnN0cm9rZTogI2M4MDAwMDsKfQouZWRnZV9EVUFMIHsKc3Ryb2tlOiAjMDAwMGM4Owp9Ci5lZGdlX2VkZ2Vfc3R5bGUgewpzdHJva2U6ICNmZjAwMDA7CmZpbGw6IG5vbmU7CnN0cm9rZS13aWR0aDogMTsKfQouZWRnZV9lZGdlX3N0eWxlXzIgewpzdHJva2U6ICMwMGM4MDA7CmZpbGw6IG5vbmU7CnN0cm9rZS13aWR0aDogMTsKfQouc3RhdGVfZnJlZSAuc2hhcGUgeyBmaWxsOiAjZmZkYzk2OyB9Ci5zdGF0ZV9hY3RpdmUgLnNoYXBlIHsgZmlsbDogIzMyMzI5NjsgfQouc3RhdGVfYWN0aXZlIHRleHQgeyBmaWxsOiAjZmZmZmZmOyB9Ci5zdGF0ZV9pbmFjdGl2ZSAuc2hhcGUgeyBmaWxsOiAjZmZmZmZmOyB9Ci5zdGF0ZV9wYXJ0aWFsIC5zaGFwZSB7IGZpbGw6ICMzMjk2Yzg7IH0KLmVkZ2VfYWN0aXZlIHsgc3Ryb2tlOiAjMDAwMGZmOyB9Ci5lZGdlX2luYWN0aXZlIHsgc3Ryb2tlOiAjODA4MDgwOyB9Cjwvc3R5bGU+CiAgPGRlZnM+CiAgICA8bWFya2VyIGlkPSJNYXJrZXJfUE9TSVRJVkVfMDAwMGZmIiB2aWV3Qm94PSItNyAtNyAxMiAxNSIgb3JpZW50PSJhdXRvIiBtYXJrZXJIZWlnaHQ9IjkiIG1hcmtlcldpZHRoPSI5Ij4KICAgICAgPHBhdGggc3Ryb2tlPSIjMDAwMGZmIiBmaWxsPSIjMDAwMGZmIiBkPSJNIC00IC01IEwgLTIgMCBMIC00IDUgTCAyIDAgeiIvPgogICAgPC9tYXJrZXI+CiAgPC9kZWZzPgogIDxwYXRoIGNsYXNzPSJlZGdlIGVkZ2VfYWN0aXZlIiBtYXJrZXItZW5kPSJ1cmwoI01hcmtlcl9QT1NJVElWRV8wMDAwZmYpIiBkPSJNIDEwMTcuMCA1NjkuMCBMIDEwMTcuMCA1OTkuMCBMIDEwMTcuMCA2NjkuMCIvPgogIDxkZWZzPgogICAgPG1hcmtlciBpZD0iTWFya2VyX1BPU0lUSVZFXzgwODA4MCIgdmlld0JveD0iLTcgLTcgMTIgMTUiIG9yaWVudD0iYXV0byIgbWFya2VySGVpZ2h0PSI5IiBtYXJrZXJXaWR0aD0iOSI+CiAgICAgIDxwYXRoIHN0cm9rZT0iIzgwODA4MCIgZmlsbD0iIzgwODA4MCIgZD0iTSAtNCAtNSBMIC0yIDAgTCAtNCA1IEwgMiAwIHoiLz4KICAgIDwvbWFya2VyPgogIDwvZGVmcz4KICA8cGF0aCBjbGFzcz0iZWRnZSBlZGdlX2luYWN0aXZlIiBtYXJrZXItZW5kPSJ1cmwoI01hcmtlcl9QT1NJVElWRV84MDgwODApIiBkPSJNIDI1My4wIDU1Ny4wIEwgMjUzLjAgNTYyLjAgTCAyNTMuMCA1OTIuMCBMIDI1My4wIDY1NS4wIi8+CiAgPGRlZnM+CiAgICA8bWFya2VyIGlkPSJNYXJrZXJfTkVHQVRJVkVfODA4MDgwIiB2aWV3Qm94PSItNyAtNyAxMiAxNSIgb3JpZW50PSJhdXRvIiBtYXJrZXJIZWlnaHQ9IjkiIG1hcmtlcldpZHRoPSI5Ij4KICAgICAgPHBhdGggc3Ryb2tlPSIjODA4MDgwIiBmaWxsPSIjODA4MDgwIiBkPSJNIC0xIC00IEwgLTEgNCBMIDEgNCBMIDEgLTQgeiIvPgogICAgPC9tYXJrZXI+CiAgPC9kZWZzPgogIDxwYXRoIGNsYXNzPSJlZGdlIGVkZ2VfaW5hY3RpdmUiIG1hcmtlci1lbmQ9InVybCgjTWFya2VyX05FR0FUSVZFXzgwODA4MCkiIGQ9Ik0gMjI0LjAgNTM4LjAgTCAyMDQuMCA1MzguMCBMIDIwNy4wIDE5My4wIEwgNDAwLjAgMTkzLjAiLz4KICA8cGF0aCBjbGFzcz0iZWRnZSBlZGdlX2luYWN0aXZlIiBtYXJrZXItZW5kPSJ1cmwoI01hcmtlcl9QT1NJVElWRV84MDgwODApIiBkPSJNIDMwMy4wIDU0OS4wIEwgMzA4LjAgNTQ5LjAgTCA2MTcuMCA1NDkuMCBMIDYxNy4wIDE1Ni4wIEwgNjE3LjAgMTUwLjAiLz4KICA8cGF0aCBjbGFzcz0iZWRnZSBlZGdlX2luYWN0aXZlIiBtYXJrZXItZW5kPSJ1cmwoI01hcmtlcl9QT1NJVElWRV84MDgwODApIiBkPSJNIDIyNC4wIDU1Mi4wIEwgMTQ3LjAgNTUyLjAgTCAxNDcuMCAzOTYuMCBMIDE0Ny4wIDM5MS4wIi8+CiAgPHBhdGggY2xhc3M9ImVkZ2UgZWRnZV9pbmFjdGl2ZSIgbWFya2VyLWVuZD0idXJsKCNNYXJrZXJfUE9TSVRJVkVfODA4MDgwKSIgZD0iTSAyNzMuMCA1NTcuMCBMIDI3My4wIDU2Mi4wIEwgMjczLjAgNjI2LjAgTCA3NTYuMCA2MjQuMCBMIDc1Ni4wIDY1NC4wIi8+CiAgPHBhdGggY2xhc3M9ImVkZ2UgZWRnZV9pbmFjdGl2ZSIgbWFya2VyLWVuZD0idXJsKCNNYXJrZXJfUE9TSVRJVkVfODA4MDgwKSIgZD0iTSAyMjQuMCA1NDUuMCBMIDUzLjAgNTQ1LjAgTCA1My4wIDI2My4wIEwgNTMuMCAyNTkuMCIvPgogIDxwYXRoIGNsYXNzPSJlZGdlIGVkZ2VfaW5hY3RpdmUiIG1hcmtlci1lbmQ9InVybCgjTWFya2VyX1BPU0lUSVZFXzgwODA4MCkiIGQ9Ik0gMzAzLjAgNTU3LjAgTCAzMDguMCA1NTcuMCBMIDY0NS4wIDU1Ny4wIEwgNjQ1LjAgMjMwLjAgTCA2NDUuMCAyMjYuMCIvPgogIDxwYXRoIGNsYXNzPSJlZGdlIGVkZ2VfaW5hY3RpdmUiIG1hcmtlci1lbmQ9InVybCgjTWFya2VyX1BPU0lUSVZFXzgwODA4MCkiIGQ9Ik0gMzIwLjAgNDM4LjAgTCAzMjAuMCAzNzQuMCBMIDMyMC4wIDMxMS4wIEwgMzIwLjAgMzA3LjAiLz4KICA8cGF0aCBjbGFzcz0iZWRnZSBlZGdlX2luYWN0aXZlIiBtYXJrZXItZW5kPSJ1cmwoI01hcmtlcl9QT1NJVElWRV84MDgwODApIiBkPSJNIDM3OC4wIDQzOC4wIEwgMzc4LjAgNDM4LjAgTCAzNzguMCA0MDEuMCBMIDM3OC4wIDM0NS4wIEwgMzc4LjAgMzQxLjAiLz4KICA8cGF0aCBjbGFzcz0iZWRnZSBlZGdlX2luYWN0aXZlIiBtYXJrZXItZW5kPSJ1cmwoI01hcmtlcl9QT1NJVElWRV84MDgwODApIiBkPSJNIDM5Mi4wIDQ1NC4wIEwgMzk3LjAgNDU0LjAgTCA1MDEuMCA0NTQuMCBMIDUwMS4wIDQ2NS4wIi8+CiAgPHBhdGggY2xhc3M9ImVkZ2UgZWRnZV9pbmFjdGl2ZSIgbWFya2VyLWVuZD0idXJsKCNNYXJrZXJfTkVHQVRJVkVfODA4MDgwKSIgZD0iTSAzOTAuMCA0MzguMCBMIDM5MC4wIDQzOC4wIEwgMzkwLjAgMzkwLjAgTCA4ODEuMCAzOTAuMCIvPgogIDxwYXRoIGNsYXNzPSJlZGdlIGVkZ2VfaW5hY3RpdmUiIG1hcmtlci1lbmQ9InVybCgjTWFya2VyX05FR0FUSVZFXzgwODA4MCkiIGQ9Ik0gMzU4LjAgNDM4LjAgTCAzNTguMCAzMDIuMCBMIDc2NS4wIDMwMi4wIi8+CiAgPHBhdGggY2xhc3M9ImVkZ2UgZWRnZV9pbmFjdGl2ZSIgbWFya2VyLWVuZD0idXJsKCNNYXJrZXJfTkVHQVRJVkVfODA4MDgwKSIgZD0iTSAzNjQuMCA0NjcuMCBMIDM2NC4wIDQ3Mi4wIEwgMzY0LjAgNTI2LjAgTCA4MTkuMCA1MjYuMCIvPgogIDxwYXRoIGNsYXNzPSJlZGdlIGVkZ2VfaW5hY3RpdmUiIG1hcmtlci1lbmQ9InVybCgjTWFya2VyX05FR0FUSVZFXzgwODA4MCkiIGQ9Ik0gMzEzLjAgNDQ0LjAgTCAxMTguMCA0NDQuMCBMIDExOC4wIDU2MC4wIi8+CiAgPHBhdGggY2xhc3M9ImVkZ2UgZWRnZV9pbmFjdGl2ZSIgbWFya2VyLWVuZD0idXJsKCNNYXJrZXJfUE9TSVRJVkVfODA4MDgwKSIgZD0iTSAxODAuMCAzMC4wIEwgMTg1LjAgMzAuMCBMIDcwNC4wIDMwLjAgTCA3MDQuMCAxOTQuMCIvPgogIDxwYXRoIGNsYXNzPSJlZGdlIGVkZ2VfaW5hY3RpdmUiIG1hcmtlci1lbmQ9InVybCgjTWFya2VyX1BPU0lUSVZFXzgwODA4MCkiIGQ9Ik0gMTcxLjAgMzQuMCBMIDE3MS4wIDM5LjAgTCA2NDIuMCAzOC4wIEwgNjQyLjAgMTE4LjAiLz4KICA8cGF0aCBjbGFzcz0iZWRnZSBlZGdlX2luYWN0aXZlIiBtYXJrZXItZW5kPSJ1cmwoI01hcmtlcl9QT1NJVElWRV84MDgwODApIiBkPSJNIDE2MC4wIDM0LjAgTCAxNjAuMCAzOS4wIEwgMTYwLjAgNTkuMCBMIDMxMS4wIDU5LjAiLz4KICA8cGF0aCBjbGFzcz0iZWRnZSBlZGdlX2luYWN0aXZlIiBtYXJrZXItZW5kPSJ1cmwoI01hcmtlcl9ORUdBVElWRV84MDgwODApIiBkPSJNIDgyMS4wIDUzMC4wIEwgMzU2LjAgNTMzLjAgTCAzNTYuMCA0NzIuMCBMIDM1Ni4wIDQ2OC4wIi8+CiAgPHBhdGggY2xhc3M9ImVkZ2UgZWRnZV9pbmFjdGl2ZSIgbWFya2VyLWVuZD0idXJsKCNNYXJrZXJfTkVHQVRJVkVfODA4MDgwKSIgZD0iTSA4NTYuMCA1MDEuMCBMIDg1Ni4wIDIxOC4wIEwgNDY1LjAgMjE5LjAgTCA0NjUuMCAyMDIuMCBMIDQ2NS4wIDE5OC4wIi8+CiAgPHBhdGggY2xhc3M9ImVkZ2UgZWRnZV9pbmFjdGl2ZSIgbWFya2VyLWVuZD0idXJsKCNNYXJrZXJfUE9TSVRJVkVfODA4MDgwKSIgZD0iTSA4NzAuMCA1MzAuMCBMIDg3MC4wIDUzMy4wIEwgOTg3LjAgNTMyLjAgTCA5ODcuMCA2NjkuMCIvPgogIDxwYXRoIGNsYXNzPSJlZGdlIGVkZ2VfaW5hY3RpdmUiIG1hcmtlci1lbmQ9InVybCgjTWFya2VyX05FR0FUSVZFXzgwODA4MCkiIGQ9Ik0gODIxLjAgNTEyLjAgTCAyNDYuMCA1MTIuMCBMIDI0Ni4wIDExNC4wIEwgMjQ2LjAgMTEwLjAiLz4KICA8cGF0aCBjbGFzcz0iZWRnZSBlZGdlX2luYWN0aXZlIiBtYXJrZXItZW5kPSJ1cmwoI01hcmtlcl9ORUdBVElWRV84MDgwODApIiBkPSJNIDgyMS4wIDUwMS4wIEwgNjk4LjAgNTAxLjAgTCA2OTguMCAyMzAuMCBMIDY5OC4wIDIyNi4wIi8+CiAgPHBhdGggY2xhc3M9ImVkZ2UgZWRnZV9pbmFjdGl2ZSIgbWFya2VyLWVuZD0idXJsKCNNYXJrZXJfUE9TSVRJVkVfODA4MDgwKSIgZD0iTSA5MDAuMCA1MDkuMCBMIDkwNS4wIDUwOS4wIEwgMTE4Mi4wIDUwOS4wIEwgMTE4Mi4wIDI4MS4wIEwgMTE4Mi4wIDI3Ny4wIi8+CiAgPHBhdGggY2xhc3M9ImVkZ2UgZWRnZV9pbmFjdGl2ZSIgbWFya2VyLWVuZD0idXJsKCNNYXJrZXJfUE9TSVRJVkVfODA4MDgwKSIgZD0iTSA4NjEuMCA1MzAuMCBMIDg2MS4wIDY1My4wIEwgMTE0OS4wIDY1My4wIi8+CiAgPHBhdGggY2xhc3M9ImVkZ2UgZWRnZV9pbmFjdGl2ZSIgbWFya2VyLWVuZD0idXJsKCNNYXJrZXJfTkVHQVRJVkVfODA4MDgwKSIgZD0iTSA4NzcuMCA1MDEuMCBMIDg3Ny4wIDUwMS4wIEwgODc3LjAgMTI5LjAgTCA2ODMuMCAxMjkuMCBMIDY2MS4wIDEyOS4wIi8+CiAgPHBhdGggY2xhc3M9ImVkZ2UgZWRnZV9pbmFjdGl2ZSIgbWFya2VyLWVuZD0idXJsKCNNYXJrZXJfUE9TSVRJVkVfODA4MDgwKSIgZD0iTSAyNjcuMCAzMDYuMCBMIDI2Ny4wIDMxMS4wIEwgMjY3LjAgNDk4LjAgTCAyNjcuMCA1MjYuMCIvPgogIDxwYXRoIGNsYXNzPSJlZGdlIGVkZ2VfaW5hY3RpdmUiIG1hcmtlci1lbmQ9InVybCgjTWFya2VyX1BPU0lUSVZFXzgwODA4MCkiIGQ9Ik0gMzA2LjAgMjgzLjAgTCAzMDYuMCAyODMuMCBMIDMwNi4wIDI4My4wIEwgMzg4LjAgMjgzLjAgTCAzODguMCAzMDkuMCIvPgogIDxwYXRoIGNsYXNzPSJlZGdlIGVkZ2VfaW5hY3RpdmUiIG1hcmtlci1lbmQ9InVybCgjTWFya2VyX1BPU0lUSVZFXzgwODA4MCkiIGQ9Ik0gMzA5LjAgMzA2LjAgTCAzMDkuMCAzMTEuMCBMIDMwOS4wIDQxOC4wIEwgNDU3LjAgNDE4LjAiLz4KICA8cGF0aCBjbGFzcz0iZWRnZSBlZGdlX2luYWN0aXZlIiBtYXJrZXItZW5kPSJ1cmwoI01hcmtlcl9QT1NJVElWRV84MDgwODApIiBkPSJNIDI4NC4wIDMwNi4wIEwgMjg0LjAgMzExLjAgTCAyODQuMCA0NDAuMCBMIDMxMS4wIDQ0MC4wIi8+CiAgPHBhdGggY2xhc3M9ImVkZ2UgZWRnZV9pbmFjdGl2ZSIgbWFya2VyLWVuZD0idXJsKCNNYXJrZXJfUE9TSVRJVkVfODA4MDgwKSIgZD0iTSAyNzYuMCAzMDYuMCBMIDI3Ni4wIDMxMS4wIEwgMjc2LjAgNDgwLjAgTCA0ODYuMCA0ODAuMCIvPgogIDxwYXRoIGNsYXNzPSJlZGdlIGVkZ2VfaW5hY3RpdmUiIG1hcmtlci1lbmQ9InVybCgjTWFya2VyX1BPU0lUSVZFXzgwODA4MCkiIGQ9Ik0gMzA5LjAgMjc3LjAgTCAzMDkuMCAyNzcuMCBMIDMwOS4wIDE1MS4wIEwgNTc5LjAgMTQ5LjAiLz4KICA8cGF0aCBjbGFzcz0iZWRnZSBlZGdlX2luYWN0aXZlIiBtYXJrZXItZW5kPSJ1cmwoI01hcmtlcl9ORUdBVElWRV84MDgwODApIiBkPSJNIDI1MC4wIDMwMy4wIEwgNjQuMCAzMDMuMCBMIDY0LjAgNTYwLjAiLz4KICA8cGF0aCBjbGFzcz0iZWRnZSBlZGdlX2luYWN0aXZlIiBtYXJrZXItZW5kPSJ1cmwoI01hcmtlcl9QT1NJVElWRV84MDgwODApIiBkPSJNIDcyLjAgMjU4LjAgTCA3Mi4wIDI2My4wIEwgNzIuMCAzNzYuMCBMIDEwOS4wIDM3Ni4wIi8+CiAgPHBhdGggY2xhc3M9ImVkZ2UgZWRnZV9pbmFjdGl2ZSIgbWFya2VyLWVuZD0idXJsKCNNYXJrZXJfUE9TSVRJVkVfODA4MDgwKSIgZD0iTSA1NC4wIDIyOS4wIEwgNTQuMCAxNDYuMCBMIDU3OS4wIDE0Ni4wIi8+CiAgPHBhdGggY2xhc3M9ImVkZ2UgZWRnZV9pbmFjdGl2ZSIgbWFya2VyLWVuZD0idXJsKCNNYXJrZXJfUE9TSVRJVkVfODA4MDgwKSIgZD0iTSA3Ni4wIDIyOS4wIEwgNzYuMCAyMjkuMCBMIDc2LjAgMjEzLjAgTCA2MzAuMCAyMTMuMCIvPgogIDxwYXRoIGNsYXNzPSJlZGdlIGVkZ2VfaW5hY3RpdmUiIG1hcmtlci1lbmQ9InVybCgjTWFya2VyX1BPU0lUSVZFXzgwODA4MCkiIGQ9Ik0gNzguMCAyMjkuMCBMIDc4LjAgMjE2LjAgTCAxMDUuMCAyMTYuMCBMIDEwNS4wIDI0My4wIEwgODMuMCAyNDMuMCIvPgogIDxwYXRoIGNsYXNzPSJlZGdlIGVkZ2VfaW5hY3RpdmUiIG1hcmtlci1lbmQ9InVybCgjTWFya2VyX1BPU0lUSVZFXzgwODA4MCkiIGQ9Ik0gNTExLjAgNDk2LjAgTCA1MTEuMCA1NDMuMCBMIDQ2Mi4wIDU0My4wIEwgNDYyLjAgNTc4LjAiLz4KICA8cGF0aCBjbGFzcz0iZWRnZSBlZGdlX2luYWN0aXZlIiBtYXJrZXItZW5kPSJ1cmwoI01hcmtlcl9ORUdBVElWRV84MDgwODApIiBkPSJNIDU2Ny4wIDQ5MS4wIEwgNTcyLjAgNDkxLjAgTCA5MTQuMCA0OTEuMCBMIDkxNC4wIDQwMS4wIEwgOTE0LjAgMzk3LjAiLz4KICA8cGF0aCBjbGFzcz0iZWRnZSBlZGdlX2luYWN0aXZlIiBtYXJrZXItZW5kPSJ1cmwoI01hcmtlcl9ORUdBVElWRV84MDgwODApIiBkPSJNIDU1My4wIDQ2Ny4wIEwgNTUzLjAgNDY3LjAgTCA1NTMuMCAzMDguMCBMIDc2NS4wIDMwOC4wIi8+CiAgPHBhdGggY2xhc3M9ImVkZ2UgZWRnZV9pbmFjdGl2ZSIgbWFya2VyLWVuZD0idXJsKCNNYXJrZXJfTkVHQVRJVkVfODA4MDgwKSIgZD0iTSA1MjYuMCA0OTYuMCBMIDUyNi4wIDUwMS4wIEwgNTI2LjAgNTA3LjAgTCA4MTkuMCA1MDcuMCIvPgogIDxwYXRoIGNsYXNzPSJlZGdlIGVkZ2VfaW5hY3RpdmUiIG1hcmtlci1lbmQ9InVybCgjTWFya2VyX1BPU0lUSVZFXzgwODA4MCkiIGQ9Ik0gNTE3LjAgNDk2LjAgTCA1MTcuMCA0OTguMCBMIDUxNS4wIDYwMS4wIEwgOTM0LjAgNjA0LjAgTCA5MzQuMCA2NjkuMCIvPgogIDxwYXRoIGNsYXNzPSJlZGdlIGVkZ2VfaW5hY3RpdmUiIG1hcmtlci1lbmQ9InVybCgjTWFya2VyX05FR0FUSVZFXzgwODA4MCkiIGQ9Ik0gNTQxLjAgNDk2LjAgTCA1NDEuMCA1MDEuMCBMIDU0MS4wIDY0NC4wIEwgMTE0OS4wIDY0NC4wIi8+CiAgPHBhdGggY2xhc3M9ImVkZ2UgZWRnZV9pbmFjdGl2ZSIgbWFya2VyLWVuZD0idXJsKCNNYXJrZXJfTkVHQVRJVkVfODA4MDgwKSIgZD0iTSA0ODguMCA0ODcuMCBMIDEyNC4wIDQ4Ny4wIEwgMTI0LjAgNTYwLjAiLz4KICA8cGF0aCBjbGFzcz0iZWRnZSBlZGdlX2luYWN0aXZlIiBtYXJrZXItZW5kPSJ1cmwoI01hcmtlcl9QT1NJVElWRV84MDgwODApIiBkPSJNIDM5Mi4wIDU4LjAgTCAzOTcuMCA1OC4wIEwgMTAzMi4wIDU4LjAgTCAxMDMyLjAgNTM4LjAiLz4KICA8cGF0aCBjbGFzcz0iZWRnZSBlZGdlX2luYWN0aXZlIiBtYXJrZXItZW5kPSJ1cmwoI01hcmtlcl9QT1NJVElWRV84MDgwODApIiBkPSJNIDM5Mi4wIDYxLjAgTCAzOTcuMCA2MS4wIEwgNzYzLjAgNjEuMCBMIDc2My4wIDY1NC4wIi8+CiAgPHBhdGggY2xhc3M9ImVkZ2UgZWRnZV9pbmFjdGl2ZSIgbWFya2VyLWVuZD0idXJsKCNNYXJrZXJfUE9TSVRJVkVfODA4MDgwKSIgZD0iTSAzMTMuMCA2NS4wIEwgMTQ5LjAgNjUuMCBMIDE0OS4wIDM1OS4wIi8+CiAgPHBhdGggY2xhc3M9ImVkZ2UgZWRnZV9pbmFjdGl2ZSIgbWFya2VyLWVuZD0idXJsKCNNYXJrZXJfUE9TSVRJVkVfODA4MDgwKSIgZD0iTSA0ODguMCA1OTIuMCBMIDQ5My4wIDU5Mi4wIEwgNjIxLjAgNTkyLjAgTCA2MjEuMCA3MTIuMCIvPgogIDxwYXRoIGNsYXNzPSJlZGdlIGVkZ2VfaW5hY3RpdmUiIG1hcmtlci1lbmQ9InVybCgjTWFya2VyX1BPU0lUSVZFXzgwODA4MCkiIGQ9Ik0gMTEwNi4wIDQ5LjAgTCAxMDc5LjAgNDkuMCBMIDk0My4wIDUwLjAgTCA5NDMuMCAzNjUuMCIvPgogIDxwYXRoIGNsYXNzPSJlZGdlIGVkZ2VfaW5hY3RpdmUiIG1hcmtlci1lbmQ9InVybCgjTWFya2VyX05FR0FUSVZFXzgwODA4MCkiIGQ9Ik0gMTEwNi4wIDQ0LjAgTCA4NjcuMCA0NC4wIEwgODY3LjAgNDk5LjAiLz4KICA8cGF0aCBjbGFzcz0iZWRnZSBlZGdlX2luYWN0aXZlIiBtYXJrZXItZW5kPSJ1cmwoI01hcmtlcl9QT1NJVElWRV84MDgwODApIiBkPSJNIDExMDYuMCA1NC4wIEwgMTA0OC4wIDU0LjAgTCAxMDQ4LjAgNTM4LjAiLz4KICA8cGF0aCBjbGFzcz0iZWRnZSBlZGdlX2luYWN0aXZlIiBtYXJrZXItZW5kPSJ1cmwoI01hcmtlcl9ORUdBVElWRV84MDgwODApIiBkPSJNIDExNTMuMCAyNS4wIEwgMTE1My4wIDEyLjAgTCAyMTUuMCAxMy4wIEwgMjE1LjAgNzguMCIvPgogIDxwYXRoIGNsYXNzPSJlZGdlIGVkZ2VfaW5hY3RpdmUiIG1hcmtlci1lbmQ9InVybCgjTWFya2VyX1BPU0lUSVZFXzgwODA4MCkiIGQ9Ik0gMTE4NS4wIDQwLjAgTCAxMTkwLjAgNDAuMCBMIDEyNDEuMCA0MC4wIEwgMTI0MS4wIDYzMC4wIi8+CiAgPHBhdGggY2xhc3M9ImVkZ2UgZWRnZV9pbmFjdGl2ZSIgbWFya2VyLWVuZD0idXJsKCNNYXJrZXJfTkVHQVRJVkVfODA4MDgwKSIgZD0iTSAxMTIxLjAgNTQuMCBMIDExMjEuMCA1OS4wIEwgMTEyMS4wIDEwOC4wIEwgNDYxLjAgMTExLjAgTCA0NjEuMCAxNjYuMCIvPgogIDxwYXRoIGNsYXNzPSJlZGdlIGVkZ2VfaW5hY3RpdmUiIG1hcmtlci1lbmQ9InVybCgjTWFya2VyX05FR0FUSVZFXzgwODA4MCkiIGQ9Ik0gMTE4NS4wIDUxLjAgTCAxMTkwLjAgNTEuMCBMIDEyOTMuMCA1MS4wIEwgMTI5MC4wIDczNC4wIEwgNzE2LjAgNzM0LjAgTCA3MTMuMCA3MzQuMCIvPgogIDxwYXRoIGNsYXNzPSJlZGdlIGVkZ2VfaW5hY3RpdmUiIG1hcmtlci1lbmQ9InVybCgjTWFya2VyX05FR0FUSVZFXzgwODA4MCkiIGQ9Ik0gNzExLjAgMjE1LjAgTCA3MTYuMCAyMTUuMCBMIDEwMDMuMCAyMTUuMCBMIDEwMDMuMCA1MzguMCIvPgogIDxwYXRoIGNsYXNzPSJlZGdlIGVkZ2VfaW5hY3RpdmUiIG1hcmtlci1lbmQ9InVybCgjTWFya2VyX05FR0FUSVZFXzgwODA4MCkiIGQ9Ik0gNzExLjAgMjAzLjAgTCA3MTYuMCAyMDMuMCBMIDExMjguMCAyMDMuMCBMIDExMjguMCA0MjQuMCIvPgogIDxwYXRoIGNsYXNzPSJlZGdlIGVkZ2VfaW5hY3RpdmUiIG1hcmtlci1lbmQ9InVybCgjTWFya2VyX05FR0FUSVZFXzgwODA4MCkiIGQ9Ik0gNjg5LjAgMTk2LjAgTCA2ODkuMCAxOTYuMCBMIDY4OS4wIDM4LjAgTCAxMTA0LjAgMzguMCIvPgogIDxwYXRoIGNsYXNzPSJlZGdlIGVkZ2VfaW5hY3RpdmUiIG1hcmtlci1lbmQ9InVybCgjTWFya2VyX05FR0FUSVZFXzgwODA4MCkiIGQ9Ik0gNzExLjAgMTk5LjAgTCA3MTYuMCAxOTkuMCBMIDExNjcuMCAxOTkuMCBMIDExNjcuMCAyNDUuMCIvPgogIDxwYXRoIGNsYXNzPSJlZGdlIGVkZ2VfaW5hY3RpdmUiIG1hcmtlci1lbmQ9InVybCgjTWFya2VyX05FR0FUSVZFXzgwODA4MCkiIGQ9Ik0gNzExLjAgMjIzLjAgTCA3MTkuMCAyMjMuMCBMIDcxOS4wIDU3MS4wIEwgOTc5LjAgNTcyLjAgTCA5NzkuMCA2NjkuMCIvPgogIDxwYXRoIGNsYXNzPSJlZGdlIGVkZ2VfaW5hY3RpdmUiIG1hcmtlci1lbmQ9InVybCgjTWFya2VyX05FR0FUSVZFXzgwODA4MCkiIGQ9Ik0gNjYwLjAgMTk2LjAgTCA2NjAuMCAxODguMCBMIDQ4Ni4wIDE4OC4wIEwgNDgyLjAgMTg4LjAiLz4KICA8cGF0aCBjbGFzcz0iZWRnZSBlZGdlX2luYWN0aXZlIiBtYXJrZXItZW5kPSJ1cmwoI01hcmtlcl9ORUdBVElWRV84MDgwODApIiBkPSJNIDcxMS4wIDIxMC4wIEwgNzE2LjAgMjEwLjAgTCA3MjQuMCAyMTAuMCBMIDEwOTAuMCAyMTAuMCBMIDEwOTEuMCA2NTAuMCBMIDExNDkuMCA2NTAuMCIvPgogIDxwYXRoIGNsYXNzPSJlZGdlIGVkZ2VfaW5hY3RpdmUiIG1hcmtlci1lbmQ9InVybCgjTWFya2VyX05FR0FUSVZFXzgwODA4MCkiIGQ9Ik0gNjc1LjAgMjI1LjAgTCA2NzUuMCA1MTkuMCBMIDgxOS4wIDUxOS4wIi8+CiAgPHBhdGggY2xhc3M9ImVkZ2UgZWRnZV9pbmFjdGl2ZSIgbWFya2VyLWVuZD0idXJsKCNNYXJrZXJfTkVHQVRJVkVfODA4MDgwKSIgZD0iTSA2NjEuMCAyMjUuMCBMIDY2MS4wIDY4Ni4wIEwgNjYxLjAgNzEyLjAiLz4KICA8cGF0aCBjbGFzcz0iZWRnZSBlZGdlX2luYWN0aXZlIiBtYXJrZXItZW5kPSJ1cmwoI01hcmtlcl9ORUdBVElWRV84MDgwODApIiBkPSJNIDYzMi4wIDIyNS4wIEwgMTc2LjAgMjI1LjAgTCAxNzYuMCAzNjEuMCBMIDE3Ni4wIDM2MS4wIi8+CiAgPHBhdGggY2xhc3M9ImVkZ2UgZWRnZV9pbmFjdGl2ZSIgbWFya2VyLWVuZD0idXJsKCNNYXJrZXJfUE9TSVRJVkVfODA4MDgwKSIgZD0iTSA2NjIuMCA3NDMuMCBMIDY2Mi4wIDc1OC4wIEwgNjYyLjAgNzY0LjAiLz4KICA8cGF0aCBjbGFzcz0iZWRnZSBlZGdlX2luYWN0aXZlIiBtYXJrZXItZW5kPSJ1cmwoI01hcmtlcl9QT1NJVElWRV84MDgwODApIiBkPSJNIDc2My4wIDY4NS4wIEwgNzYzLjAgNzIwLjAgTCA3MTMuMCA3MjAuMCIvPgogIDxwYXRoIGNsYXNzPSJlZGdlIGVkZ2VfaW5hY3RpdmUiIG1hcmtlci1lbmQ9InVybCgjTWFya2VyX05FR0FUSVZFXzgwODA4MCkiIGQ9Ik0gNDEzLjAgMzQwLjAgTCA0MTMuMCAzNDUuMCBMIDQxMy4wIDM1OC4wIEwgOTA5LjAgMzU4LjAgTCA5MDkuMCAzNjUuMCIvPgogIDxwYXRoIGNsYXNzPSJlZGdlIGVkZ2VfaW5hY3RpdmUiIG1hcmtlci1lbmQ9InVybCgjTWFya2VyX05FR0FUSVZFXzgwODA4MCkiIGQ9Ik0gNDI3LjAgMzExLjAgTCA0MjcuMCAzMTEuMCBMIDQyNy4wIDI5My4wIEwgNzY1LjAgMjkzLjAiLz4KICA8cGF0aCBjbGFzcz0iZWRnZSBlZGdlX2luYWN0aXZlIiBtYXJrZXItZW5kPSJ1cmwoI01hcmtlcl9ORUdBVElWRV84MDgwODApIiBkPSJNIDQ0Mi4wIDMzOC4wIEwgNDQ3LjAgMzM4LjAgTCA4NDkuMCAzMzguMCBMIDg0OS4wIDQ5OS4wIi8+CiAgPHBhdGggY2xhc3M9ImVkZ2UgZWRnZV9pbmFjdGl2ZSIgbWFya2VyLWVuZD0idXJsKCNNYXJrZXJfTkVHQVRJVkVfODA4MDgwKSIgZD0iTSA0NDIuMCAzMzMuMCBMIDQ0Ny4wIDMzMy4wIEwgMTExNC4wIDMzMy4wIEwgMTExNC4wIDQyNC4wIi8+CiAgPHBhdGggY2xhc3M9ImVkZ2UgZWRnZV9pbmFjdGl2ZSIgbWFya2VyLWVuZD0idXJsKCNNYXJrZXJfTkVHQVRJVkVfODA4MDgwKSIgZD0iTSAzNjMuMCAzMjYuMCBMIDEwMi4wIDMyNi4wIEwgMTAyLjAgNTYwLjAiLz4KICA8cGF0aCBjbGFzcz0iZWRnZSBlZGdlX2luYWN0aXZlIiBtYXJrZXItZW5kPSJ1cmwoI01hcmtlcl9QT1NJVElWRV84MDgwODApIiBkPSJNIDQ0NS4wIDE5Ny4wIEwgNDQ1LjAgMjAyLjAgTCA0NDUuMCAyNzkuMCBMIDQ0NS4wIDU3OC4wIi8+CiAgPHBhdGggY2xhc3M9ImVkZ2UgZWRnZV9pbmFjdGl2ZSIgbWFya2VyLWVuZD0idXJsKCNNYXJrZXJfUE9TSVRJVkVfODA4MDgwKSIgZD0iTSA0ODEuMCAxNzkuMCBMIDQ4Ni4wIDE3OS4wIEwgNjc2LjAgMTc5LjAgTCA2NzYuMCAxOTQuMCIvPgogIDxwYXRoIGNsYXNzPSJlZGdlIGVkZ2VfaW5hY3RpdmUiIG1hcmtlci1lbmQ9InVybCgjTWFya2VyX1BPU0lUSVZFXzgwODA4MCkiIGQ9Ik0gNDAyLjAgMTk3LjAgTCA0MDIuMCAyMDIuMCBMIDI5Ny4wIDIwMi4wIEwgMjk3LjAgMjc1LjAiLz4KICA8cGF0aCBjbGFzcz0iZWRnZSBlZGdlX2luYWN0aXZlIiBtYXJrZXItZW5kPSJ1cmwoI01hcmtlcl9QT1NJVElWRV84MDgwODApIiBkPSJNIDQ1Mi4wIDE5Ny4wIEwgNDUyLjAgMjAyLjAgTCA0NTIuMCAyMjkuMCBMIDUwOS4wIDIyOC4wIEwgNTA5LjAgMjcyLjAgTCA1MDkuMCA0MDYuMCIvPgogIDxwYXRoIGNsYXNzPSJlZGdlIGVkZ2VfaW5hY3RpdmUiIG1hcmtlci1lbmQ9InVybCgjTWFya2VyX1BPU0lUSVZFXzgwODA4MCkiIGQ9Ik0gNDE5LjAgMTk3LjAgTCA0MTkuMCAyMjkuMCBMIDQxOS4wIDMwOS4wIi8+CiAgPHBhdGggY2xhc3M9ImVkZ2UgZWRnZV9pbmFjdGl2ZSIgbWFya2VyLWVuZD0idXJsKCNNYXJrZXJfUE9TSVRJVkVfODA4MDgwKSIgZD0iTSA0MDIuMCAxNzguMCBMIDMzOS4wIDE3OC4wIEwgMzM5LjAgMTM4LjAgTCAzMzkuMCAxMzguMCIvPgogIDxwYXRoIGNsYXNzPSJlZGdlIGVkZ2VfaW5hY3RpdmUiIG1hcmtlci1lbmQ9InVybCgjTWFya2VyX1BPU0lUSVZFXzgwODA4MCkiIGQ9Ik0gNDgxLjAgMTc1LjAgTCA0ODYuMCAxNzUuMCBMIDEyMDAuMCAxNzUuMCBMIDEyMDAuMCAyNDUuMCIvPgogIDxwYXRoIGNsYXNzPSJlZGdlIGVkZ2VfaW5hY3RpdmUiIG1hcmtlci1lbmQ9InVybCgjTWFya2VyX05FR0FUSVZFXzgwODA4MCkiIGQ9Ik0gNDAyLjAgMTczLjAgTCAzMzMuMCAxNzMuMCBMIDMzMy4wIDQzNi4wIi8+CiAgPHBhdGggY2xhc3M9ImVkZ2UgZWRnZV9pbmFjdGl2ZSIgbWFya2VyLWVuZD0idXJsKCNNYXJrZXJfUE9TSVRJVkVfODA4MDgwKSIgZD0iTSA0ODEuMCAxODQuMCBMIDc0Ni4wIDE4NC4wIEwgNzQ2LjAgNjU0LjAiLz4KICA8cGF0aCBjbGFzcz0iZWRnZSBlZGdlX2luYWN0aXZlIiBtYXJrZXItZW5kPSJ1cmwoI01hcmtlcl9ORUdBVElWRV84MDgwODApIiBkPSJNIDQwMi4wIDE3OS4wIEwgMTQ1LjAgMTc5LjAgTCAxNDUuMCAzOS4wIEwgMTQ1LjAgMzUuMCIvPgogIDxwYXRoIGNsYXNzPSJlZGdlIGVkZ2VfaW5hY3RpdmUiIG1hcmtlci1lbmQ9InVybCgjTWFya2VyX05FR0FUSVZFXzgwODA4MCkiIGQ9Ik0gMjMxLjAgODAuMCBMIDIzMS4wIDE5LjAgTCAxMTM1LjAgMTguMCBMIDExMzUuMCAyMy4wIi8+CiAgPHBhdGggY2xhc3M9ImVkZ2UgZWRnZV9pbmFjdGl2ZSIgbWFya2VyLWVuZD0idXJsKCNNYXJrZXJfUE9TSVRJVkVfODA4MDgwKSIgZD0iTSAyMzguMCAxMDkuMCBMIDIzOC4wIDExNC4wIEwgMjM4LjAgNDQ5LjAgTCAzMTEuMCA0NDkuMCIvPgogIDxwYXRoIGNsYXNzPSJlZGdlIGVkZ2VfaW5hY3RpdmUiIG1hcmtlci1lbmQ9InVybCgjTWFya2VyX1BPU0lUSVZFXzgwODA4MCkiIGQ9Ik0gMjU5LjAgMTA5LjAgTCAyNTkuMCAxMTQuMCBMIDI1OS4wIDIwNi4wIEwgMjU5LjAgMjc1LjAiLz4KICA8cGF0aCBjbGFzcz0iZWRnZSBlZGdlX2luYWN0aXZlIiBtYXJrZXItZW5kPSJ1cmwoI01hcmtlcl9QT1NJVElWRV84MDgwODApIiBkPSJNIDI2My4wIDEwOS4wIEwgMjYzLjAgMjM3LjAgTCA0OTguMCAyMzcuMCBMIDQ5OC4wIDQwNi4wIi8+CiAgPHBhdGggY2xhc3M9ImVkZ2UgZWRnZV9pbmFjdGl2ZSIgbWFya2VyLWVuZD0idXJsKCNNYXJrZXJfUE9TSVRJVkVfODA4MDgwKSIgZD0iTSAyNjcuMCA4My4wIEwgMjcyLjAgODMuMCBMIDY5OC4wIDgzLjAgTCA2OTguMCAxOTQuMCIvPgogIDxwYXRoIGNsYXNzPSJlZGdlIGVkZ2VfaW5hY3RpdmUiIG1hcmtlci1lbmQ9InVybCgjTWFya2VyX1BPU0lUSVZFXzgwODA4MCkiIGQ9Ik0gMjUzLjAgMTA5LjAgTCAyNTMuMCAxMjUuMCBMIDMwMy4wIDEyNS4wIi8+CiAgPHBhdGggY2xhc3M9ImVkZ2UgZWRnZV9pbmFjdGl2ZSIgbWFya2VyLWVuZD0idXJsKCNNYXJrZXJfUE9TSVRJVkVfODA4MDgwKSIgZD0iTSAyNjcuMCAxMDkuMCBMIDI2Ni4wIDI2NS4wIEwgNDAzLjAgMjY2LjAgTCA0MDMuMCAzMDkuMCIvPgogIDxwYXRoIGNsYXNzPSJlZGdlIGVkZ2VfaW5hY3RpdmUiIG1hcmtlci1lbmQ9InVybCgjTWFya2VyX1BPU0lUSVZFXzgwODA4MCkiIGQ9Ik0gMjI5LjAgMTA5LjAgTCAyMjkuMCAxMTQuMCBMIDIyOS4wIDQ5MS4wIEwgNDg2LjAgNDkxLjAiLz4KICA8cGF0aCBjbGFzcz0iZWRnZSBlZGdlX2luYWN0aXZlIiBtYXJrZXItZW5kPSJ1cmwoI01hcmtlcl9QT1NJVElWRV84MDgwODApIiBkPSJNIDI2Ny4wIDk3LjAgTCAyNzIuMCA5Ny4wIEwgMTA2NC4wIDk3LjAgTCAxMDY0LjAgNTM4LjAiLz4KICA8cGF0aCBjbGFzcz0iZWRnZSBlZGdlX2luYWN0aXZlIiBtYXJrZXItZW5kPSJ1cmwoI01hcmtlcl9QT1NJVElWRV84MDgwODApIiBkPSJNIDI2Ny4wIDg4LjAgTCAyNzIuMCA4OC4wIEwgMTE3NC4wIDg4LjAgTCAxMTc0LjAgMjQ1LjAiLz4KICA8cGF0aCBjbGFzcz0iZWRnZSBlZGdlX2luYWN0aXZlIiBtYXJrZXItZW5kPSJ1cmwoI01hcmtlcl9QT1NJVElWRV84MDgwODApIiBkPSJNIDE4OC4wIDkyLjAgTCAxNTQuMCA5Mi4wIEwgMTU0LjAgMzkuMCBMIDE1NC4wIDM1LjAiLz4KICA8cGF0aCBjbGFzcz0iZWRnZSBlZGdlX2luYWN0aXZlIiBtYXJrZXItZW5kPSJ1cmwoI01hcmtlcl9QT1NJVElWRV84MDgwODApIiBkPSJNIDE4OC4wIDEwOS4wIEwgMTY0LjAgMTEwLjAgTCAxNjQuMCAzNTkuMCIvPgogIDxwYXRoIGNsYXNzPSJlZGdlIGVkZ2VfaW5hY3RpdmUiIG1hcmtlci1lbmQ9InVybCgjTWFya2VyX1BPU0lUSVZFXzgwODA4MCkiIGQ9Ik0gMjY3LjAgMTA1LjAgTCA2MTMuMCAxMDUuMCBMIDYxMy4wIDExOC4wIi8+CiAgPGRlZnM+CiAgICA8bWFya2VyIGlkPSJNYXJrZXJfTkVHQVRJVkVfMDAwMGZmIiB2aWV3Qm94PSItNyAtNyAxMiAxNSIgb3JpZW50PSJhdXRvIiBtYXJrZXJIZWlnaHQ9IjkiIG1hcmtlcldpZHRoPSI5Ij4KICAgICAgPHBhdGggc3Ryb2tlPSIjMDAwMGZmIiBmaWxsPSIjMDAwMGZmIiBkPSJNIC0xIC00IEwgLTEgNCBMIDEgNCBMIDEgLTQgeiIvPgogICAgPC9tYXJrZXI+CiAgPC9kZWZzPgogIDxwYXRoIGNsYXNzPSJlZGdlIGVkZ2VfYWN0aXZlIiBtYXJrZXItZW5kPSJ1cmwoI01hcmtlcl9ORUdBVElWRV8wMDAwZmYpIiBkPSJNIDg5NS4wIDM5Ni4wIEwgODk1LjAgNDAxLjAgTCA4OTUuMCA0MjkuMCBMIDU0My4wIDQyOS4wIEwgNTM5LjAgNDI5LjAiLz4KICA8cGF0aCBjbGFzcz0iZWRnZSBlZGdlX2FjdGl2ZSIgbWFya2VyLWVuZD0idXJsKCNNYXJrZXJfTkVHQVRJVkVfMDAwMGZmKSIgZD0iTSA5MTguMCAzNjcuMCBMIDkxOC4wIDM1Mi4wIEwgNDIwLjAgMzUzLjAgTCA0MjAuMCAzNDUuMCBMIDQyMC4wIDM0MS4wIi8+CiAgPHBhdGggY2xhc3M9ImVkZ2UgZWRnZV9hY3RpdmUiIG1hcmtlci1lbmQ9InVybCgjTWFya2VyX05FR0FUSVZFXzAwMDBmZikiIGQ9Ik0gOTAwLjAgMzk2LjAgTCA5MDAuMCA0MDEuMCBMIDkwMC4wIDQ4Mi4wIEwgNTcyLjAgNDgyLjAgTCA1NjguMCA0ODIuMCIvPgogIDxwYXRoIGNsYXNzPSJlZGdlIGVkZ2VfYWN0aXZlIiBtYXJrZXItZW5kPSJ1cmwoI01hcmtlcl9ORUdBVElWRV8wMDAwZmYpIiBkPSJNIDkyNC4wIDM2Ny4wIEwgOTI0LjAgMTAyLjAgTCAyNzIuMCAxMDIuMCBMIDI2OC4wIDEwMi4wIi8+CiAgPHBhdGggY2xhc3M9ImVkZ2UgZWRnZV9hY3RpdmUiIG1hcmtlci1lbmQ9InVybCgjTWFya2VyX1BPU0lUSVZFXzAwMDBmZikiIGQ9Ik0gOTUwLjAgMzk2LjAgTCA5NTAuMCA0MDEuMCBMIDk1MC4wIDQ4OC4wIEwgOTUwLjAgNjY5LjAiLz4KICA8cGF0aCBjbGFzcz0iZWRnZSBlZGdlX2FjdGl2ZSIgbWFya2VyLWVuZD0idXJsKCNNYXJrZXJfTkVHQVRJVkVfMDAwMGZmKSIgZD0iTSA4ODMuMCAzNzguMCBMIDQ1OC4wIDM3OC4wIEwgNDU4LjAgMjAyLjAgTCA0NTguMCAxOTguMCIvPgogIDxwYXRoIGNsYXNzPSJlZGdlIGVkZ2VfYWN0aXZlIiBtYXJrZXItZW5kPSJ1cmwoI01hcmtlcl9QT1NJVElWRV8wMDAwZmYpIiBkPSJNIDk2Mi4wIDM5NC4wIEwgOTY3LjAgMzk0LjAgTCAxMDM3LjAgMzk0LjAgTCAxMDM4LjAgNTAyLjAgTCAxMTc4LjAgNTAyLjAgTCAxMTc4LjAgNjMwLjAiLz4KICA8cGF0aCBjbGFzcz0iZWRnZSBlZGdlX2FjdGl2ZSIgbWFya2VyLWVuZD0idXJsKCNNYXJrZXJfTkVHQVRJVkVfMDAwMGZmKSIgZD0iTSA5MDguMCAzOTYuMCBMIDkwOC4wIDQwMS4wIEwgOTA4LjAgNzI2LjAgTCA3MTMuMCA3MjYuMCIvPgogIDxwYXRoIGNsYXNzPSJlZGdlIGVkZ2VfYWN0aXZlIiBtYXJrZXItZW5kPSJ1cmwoI01hcmtlcl9ORUdBVElWRV8wMDAwZmYpIiBkPSJNIDkzMy4wIDM2Ny4wIEwgOTMzLjAgNTMuMCBMIDc5Ny4wIDUxLjAgTCAzOTcuMCA1MS4wIEwgMzkzLjAgNTEuMCIvPgogIDxwYXRoIGNsYXNzPSJlZGdlIGVkZ2VfYWN0aXZlIiBtYXJrZXItZW5kPSJ1cmwoI01hcmtlcl9ORUdBVElWRV8wMDAwZmYpIiBkPSJNIDg1LjAgNTkxLjAgTCA4NS4wIDU5Ni4wIEwgODUuMCA2NzIuMCBMIDIwNC4wIDY3Mi4wIi8+CiAgPHBhdGggY2xhc3M9ImVkZ2UgZWRnZV9hY3RpdmUiIG1hcmtlci1lbmQ9InVybCgjTWFya2VyX05FR0FUSVZFXzAwMDBmZikiIGQ9Ik0gOTMuMCA1NjIuMCBMIDkzLjAgMTg4LjAgTCA0MDAuMCAxODguMCIvPgogIDxwYXRoIGNsYXNzPSJlZGdlIGVkZ2VfYWN0aXZlIiBtYXJrZXItZW5kPSJ1cmwoI01hcmtlcl9ORUdBVElWRV8wMDAwZmYpIiBkPSJNIDEyNi4wIDU3MC4wIEwgMTMxLjAgNTcwLjAgTCA2NTQuMCA1NzAuMCBMIDY1NC4wIDIzMC4wIEwgNjU0LjAgMjI2LjAiLz4KICA8cGF0aCBjbGFzcz0iZWRnZSBlZGdlX2FjdGl2ZSIgbWFya2VyLWVuZD0idXJsKCNNYXJrZXJfTkVHQVRJVkVfMDAwMGZmKSIgZD0iTSA0Ny4wIDU3Ni4wIEwgMzcuMCA1NzYuMCBMIDM3LjAgMjYzLjAgTCAzNy4wIDI1OS4wIi8+CiAgPHBhdGggY2xhc3M9ImVkZ2UgZWRnZV9pbmFjdGl2ZSIgbWFya2VyLWVuZD0idXJsKCNNYXJrZXJfUE9TSVRJVkVfODA4MDgwKSIgZD0iTSAxMDk1LjAgNDQwLjAgTCA5MjcuMCA0NDAuMCBMIDkyNy4wIDQwMS4wIEwgOTI3LjAgMzk3LjAiLz4KICA8cGF0aCBjbGFzcz0iZWRnZSBlZGdlX2luYWN0aXZlIiBtYXJrZXItZW5kPSJ1cmwoI01hcmtlcl9QT1NJVElWRV84MDgwODApIiBkPSJNIDExMjMuMCA0NTUuMCBMIDExMjMuMCA0NjAuMCBMIDExMjMuMCA1MTQuMCBMIDkwNS4wIDUxNC4wIEwgOTAxLjAgNTE0LjAiLz4KICA8cGF0aCBjbGFzcz0iZWRnZSBlZGdlX2luYWN0aXZlIiBtYXJrZXItZW5kPSJ1cmwoI01hcmtlcl9QT1NJVElWRV84MDgwODApIiBkPSJNIDExNDIuMCA0NTUuMCBMIDExNDIuMCA0NjAuMCBMIDExNDIuMCA1NDUuMCBMIDEwNzcuMCA1NDUuMCBMIDEwNzMuMCA1NDUuMCIvPgogIDxwYXRoIGNsYXNzPSJlZGdlIGVkZ2VfaW5hY3RpdmUiIG1hcmtlci1lbmQ9InVybCgjTWFya2VyX05FR0FUSVZFXzgwODA4MCkiIGQ9Ik0gMTE3NC4wIDQzNC4wIEwgMTE3OS4wIDQzNC4wIEwgMTE5MS4wIDQzNC4wIEwgMTE5MS4wIDI4MS4wIEwgMTE5MS4wIDI3Ny4wIi8+CiAgPHBhdGggY2xhc3M9ImVkZ2UgZWRnZV9pbmFjdGl2ZSIgbWFya2VyLWVuZD0idXJsKCNNYXJrZXJfTkVHQVRJVkVfODA4MDgwKSIgZD0iTSAxMTM5LjAgNDI2LjAgTCAxMTM5LjAgOTMuMCBMIDI3Mi4wIDkzLjAgTCAyNjguMCA5My4wIi8+CiAgPHBhdGggY2xhc3M9ImVkZ2UgZWRnZV9pbmFjdGl2ZSIgbWFya2VyLWVuZD0idXJsKCNNYXJrZXJfUE9TSVRJVkVfODA4MDgwKSIgZD0iTSAxMTU5LjAgNDU1LjAgTCAxMTU5LjAgNDYwLjAgTCAxMTU5LjAgNDU5LjAgTCAxMTU5LjAgNjMwLjAiLz4KICA8cGF0aCBjbGFzcz0iZWRnZSBlZGdlX2luYWN0aXZlIiBtYXJrZXItZW5kPSJ1cmwoI01hcmtlcl9QT1NJVElWRV84MDgwODApIiBkPSJNIDI1NS4wIDY4Ni4wIEwgMjU1LjAgNzIzLjAgTCA2MTEuMCA3MjMuMCIvPgogIDxwYXRoIGNsYXNzPSJlZGdlIGVkZ2VfaW5hY3RpdmUiIG1hcmtlci1lbmQ9InVybCgjTWFya2VyX05FR0FUSVZFXzgwODA4MCkiIGQ9Ik0gNTgxLjAgMTQwLjAgTCA4OC4wIDE0MC4wIEwgODguMCA1NjAuMCIvPgogIDxwYXRoIGNsYXNzPSJlZGdlIGVkZ2VfaW5hY3RpdmUiIG1hcmtlci1lbmQ9InVybCgjTWFya2VyX1BPU0lUSVZFXzgwODA4MCkiIGQ9Ik0gNjYwLjAgMTM0LjAgTCA2ODMuMCAxMzQuMCBMIDEwMjYuMCAxMzQuMCBMIDEwMjYuMCA1MzguMCIvPgogIDxwYXRoIGNsYXNzPSJlZGdlIGVkZ2VfaW5hY3RpdmUiIG1hcmtlci1lbmQ9InVybCgjTWFya2VyX05FR0FUSVZFXzgwODA4MCkiIGQ9Ik0gNjYwLjAgMTQ5LjAgTCA2NjEuMCAxNTAuMCBMIDY4My4wIDE1MC4wIEwgMTE4NC4wIDE1MC4wIEwgMTE4NC4wIDI0NS4wIi8+CiAgPHBhdGggY2xhc3M9ImVkZ2UgZWRnZV9pbmFjdGl2ZSIgbWFya2VyLWVuZD0idXJsKCNNYXJrZXJfUE9TSVRJVkVfODA4MDgwKSIgZD0iTSA2MzEuMCAxNDkuMCBMIDYzMS4wIDE1Ni4wIEwgNjMxLjAgMjQxLjAgTCA2MzEuMCA3MTIuMCIvPgogIDxwYXRoIGNsYXNzPSJlZGdlIGVkZ2VfaW5hY3RpdmUiIG1hcmtlci1lbmQ9InVybCgjTWFya2VyX05FR0FUSVZFXzgwODA4MCkiIGQ9Ik0gNjYwLjAgMTIyLjAgTCA2ODMuMCAxMjIuMCBMIDk1My4wIDEyMy4wIEwgOTUzLjAgMzY2LjAgTCA5NTMuMCAzNjYuMCIvPgogIDxwYXRoIGNsYXNzPSJlZGdlIGVkZ2VfaW5hY3RpdmUiIG1hcmtlci1lbmQ9InVybCgjTWFya2VyX1BPU0lUSVZFXzgwODA4MCkiIGQ9Ik0gNjU0LjAgMTQ5LjAgTCA2NTQuMCAxNTMuMCBMIDg0MS4wIDE1My4wIEwgODQxLjAgNDk5LjAiLz4KICA8cGF0aCBjbGFzcz0iZWRnZSBlZGdlX2luYWN0aXZlIiBtYXJrZXItZW5kPSJ1cmwoI01hcmtlcl9ORUdBVElWRV84MDgwODApIiBkPSJNIDY0Ny4wIDE0OS4wIEwgNjQ3LjAgMTU4LjAgTCAxMTIwLjAgMTU2LjAgTCAxMTIwLjAgNDI0LjAiLz4KICA8cGF0aCBjbGFzcz0iZWRnZSBlZGdlX2luYWN0aXZlIiBtYXJrZXItZW5kPSJ1cmwoI01hcmtlcl9ORUdBVElWRV84MDgwODApIiBkPSJNIDYyMS4wIDEyMC4wIEwgNjIxLjAgMjYuMCBMIDExMDQuMCAyNC4wIi8+CiAgPHBhdGggY2xhc3M9ImVkZ2UgZWRnZV9hY3RpdmUiIG1hcmtlci1lbmQ9InVybCgjTWFya2VyX1BPU0lUSVZFXzAwMDBmZikiIGQ9Ik0gMTE3NC4wIDI3Ni4wIEwgMTE3NC4wIDI4MS4wIEwgMTE3NC4wIDM4Ni4wIEwgOTY3LjAgMzg2LjAgTCA5NjMuMCAzODYuMCIvPgogIDxwYXRoIGNsYXNzPSJlZGdlIGVkZ2VfYWN0aXZlIiBtYXJrZXItZW5kPSJ1cmwoI01hcmtlcl9QT1NJVElWRV8wMDAwZmYpIiBkPSJNIDExNjIuMCAyNzYuMCBMIDExNjIuMCAyODEuMCBMIDExNjIuMCAzMDIuMCBMIDg1MS4wIDMwMi4wIEwgODQ3LjAgMzAyLjAiLz4KICA8cGF0aCBjbGFzcz0iZWRnZSBlZGdlX2FjdGl2ZSIgbWFya2VyLWVuZD0idXJsKCNNYXJrZXJfUE9TSVRJVkVfMDAwMGZmKSIgZD0iTSAxMjA5LjAgMjc2LjAgTCAxMjA5LjAgMjgxLjAgTCAxMjA5LjAgNTI0LjAgTCA5MDUuMCA1MjQuMCBMIDkwMS4wIDUyNC4wIi8+CiAgPHBhdGggY2xhc3M9ImVkZ2UgZWRnZV9hY3RpdmUiIG1hcmtlci1lbmQ9InVybCgjTWFya2VyX05FR0FUSVZFXzAwMDBmZikiIGQ9Ik0gMTE5OS4wIDI3Ni4wIEwgMTE5OS4wIDI4MS4wIEwgMTE5OC4wIDQ0MC4wIEwgMTE3NS4wIDQ0MC4wIi8+CiAgPHBhdGggY2xhc3M9ImVkZ2UgZWRnZV9hY3RpdmUiIG1hcmtlci1lbmQ9InVybCgjTWFya2VyX1BPU0lUSVZFXzAwMDBmZikiIGQ9Ik0gMTIwNC4wIDI3Ni4wIEwgMTIwNC4wIDI4MS4wIEwgMTIwNC4wIDU2MC4wIEwgMTA3Ny4wIDU2MC4wIEwgMTA3My4wIDU2MC4wIi8+CiAgPHBhdGggY2xhc3M9ImVkZ2UgZWRnZV9hY3RpdmUiIG1hcmtlci1lbmQ9InVybCgjTWFya2VyX05FR0FUSVZFXzAwMDBmZikiIGQ9Ik0gMTE1MC4wIDI3My4wIEwgNTMzLjAgMjczLjAgTCA1MzMuMCA0MDcuMCBMIDUzMy4wIDQwNy4wIi8+CiAgPHBhdGggY2xhc3M9ImVkZ2UgZWRnZV9hY3RpdmUiIG1hcmtlci1lbmQ9InVybCgjTWFya2VyX05FR0FUSVZFXzAwMDBmZikiIGQ9Ik0gMTE1MC4wIDI2MC4wIEwgMTE0Ny4wIDI2MC4wIEwgMzQ5LjAgMjU2LjAgTCAzNDkuMCA0MzYuMCIvPgogIDxwYXRoIGNsYXNzPSJlZGdlIGVkZ2VfYWN0aXZlIiBtYXJrZXItZW5kPSJ1cmwoI01hcmtlcl9ORUdBVElWRV8wMDAwZmYpIiBkPSJNIDExNTAuMCAyNDcuMCBMIDE5OC4wIDI0Mi4wIEwgMTk4LjAgMTE0LjAgTCAxOTguMCAxMTAuMCIvPgogIDxwYXRoIGNsYXNzPSJlZGdlIGVkZ2VfYWN0aXZlIiBtYXJrZXItZW5kPSJ1cmwoI01hcmtlcl9ORUdBVElWRV8wMDAwZmYpIiBkPSJNIDEyMTYuMCAyNDcuMCBMIDEyMTYuMCAyNDcuMCBMIDEyMTYuMCA0NS4wIEwgMTE5MC4wIDQ1LjAgTCAxMTg2LjAgNDUuMCIvPgogIDxwYXRoIGNsYXNzPSJlZGdlIGVkZ2VfYWN0aXZlIiBtYXJrZXItZW5kPSJ1cmwoI01hcmtlcl9ORUdBVElWRV8wMDAwZmYpIiBkPSJNIDExNTAuMCAyNTQuMCBMIDY4My4wIDI1NC4wIEwgNjgzLjAgMjMwLjAgTCA2ODMuMCAyMjYuMCIvPgogIDxwYXRoIGNsYXNzPSJlZGdlIGVkZ2VfYWN0aXZlIiBtYXJrZXItZW5kPSJ1cmwoI01hcmtlcl9QT1NJVElWRV8wMDAwZmYpIiBkPSJNIDEyMjAuMCAyNzYuMCBMIDEyMjAuMCAyODEuMCBMIDEyMjAuMCA1NDQuMCBMIDEyMjAuMCA2MzAuMCIvPgogIDxwYXRoIGNsYXNzPSJlZGdlIGVkZ2VfYWN0aXZlIiBtYXJrZXItZW5kPSJ1cmwoI01hcmtlcl9ORUdBVElWRV8wMDAwZmYpIiBkPSJNIDExOTAuMCAyNDcuMCBMIDExOTAuMCAxNzAuMCBMIDQ4Ni4wIDE3MC4wIEwgNDgyLjAgMTcwLjAiLz4KICA8cGF0aCBjbGFzcz0iZWRnZSBlZGdlX2FjdGl2ZSIgbWFya2VyLWVuZD0idXJsKCNNYXJrZXJfTkVHQVRJVkVfMDAwMGZmKSIgZD0iTSAxMTU5LjAgMjQ3LjAgTCAxMTU5LjAgMTQwLjAgTCA2ODMuMCAxNDAuMCBMIDY2MS4wIDE0MC4wIi8+CiAgPHBhdGggY2xhc3M9ImVkZ2UgZWRnZV9pbmFjdGl2ZSIgbWFya2VyLWVuZD0idXJsKCNNYXJrZXJfUE9TSVRJVkVfODA4MDgwKSIgZD0iTSAxNTcuMCAzOTAuMCBMIDE1Ny4wIDM5Ni4wIEwgMTU3LjAgNzMyLjAgTCA2MTEuMCA3MzIuMCIvPgogIDxwYXRoIGNsYXNzPSJlZGdlIGVkZ2VfaW5hY3RpdmUiIG1hcmtlci1lbmQ9InVybCgjTWFya2VyX05FR0FUSVZFXzgwODA4MCkiIGQ9Ik0gMTc0LjAgMzkwLjAgTCAxNzQuMCAzOTYuMCBMIDE3NC4wIDYzOC4wIEwgMTE0OS4wIDYzOC4wIi8+CiAgPHBhdGggY2xhc3M9ImVkZ2UgZWRnZV9pbmFjdGl2ZSIgbWFya2VyLWVuZD0idXJsKCNNYXJrZXJfTkVHQVRJVkVfODA4MDgwKSIgZD0iTSAxMzguMCAzOTAuMCBMIDEzOC4wIDU2My4wIEwgOTkxLjAgNTYzLjAiLz4KICA8cGF0aCBjbGFzcz0iZWRnZSBlZGdlX2luYWN0aXZlIiBtYXJrZXItZW5kPSJ1cmwoI01hcmtlcl9QT1NJVElWRV84MDgwODApIiBkPSJNIDU5LjAgNDcuMCBMIDU5LjAgNDcuMCBMIDU5LjAgMjQuMCBMIDk5LjAgMjQuMCIvPgogIDxwYXRoIGNsYXNzPSJlZGdlIGVkZ2VfaW5hY3RpdmUiIG1hcmtlci1lbmQ9InVybCgjTWFya2VyX1BPU0lUSVZFXzgwODA4MCkiIGQ9Ik0gNjAuMCA3Ni4wIEwgNjAuMCA4MS4wIEwgNjAuMCAxMDAuMCBMIDE4Ni4wIDEwMC4wIi8+CiAgPHBhdGggY2xhc3M9ImVkZ2UgZWRnZV9pbmFjdGl2ZSIgbWFya2VyLWVuZD0idXJsKCNNYXJrZXJfTkVHQVRJVkVfODA4MDgwKSIgZD0iTSAzODQuMCAxMjIuMCBMIDM4OC4wIDEyMi4wIEwgNDM2LjAgMTIyLjAgTCA0MzYuMCAxNjYuMCIvPgogIDxwYXRoIGNsYXNzPSJlZGdlIGVkZ2VfaW5hY3RpdmUiIG1hcmtlci1lbmQ9InVybCgjTWFya2VyX05FR0FUSVZFXzgwODA4MCkiIGQ9Ik0gNTM4LjAgNDI0LjAgTCA1NDMuMCA0MjQuMCBMIDg4Ni4wIDQyNC4wIEwgODg2LjAgNDAxLjAgTCA4ODYuMCAzOTcuMCIvPgogIDxwYXRoIGNsYXNzPSJlZGdlIGVkZ2VfaW5hY3RpdmUiIG1hcmtlci1lbmQ9InVybCgjTWFya2VyX1BPU0lUSVZFXzgwODA4MCkiIGQ9Ik0gNDg1LjAgNDA4LjAgTCA0ODUuMCAzNjcuMCBMIDQwMi4wIDM2Ny4wIEwgNDAyLjAgMzQ1LjAgTCA0MDIuMCAzNDEuMCIvPgogIDxwYXRoIGNsYXNzPSJlZGdlIGVkZ2VfaW5hY3RpdmUiIG1hcmtlci1lbmQ9InVybCgjTWFya2VyX1BPU0lUSVZFXzgwODA4MCkiIGQ9Ik0gNTExLjAgNDM3LjAgTCA1MTEuMCA0NDIuMCBMIDUxMS4wIDQ1MC4wIEwgNTExLjAgNDY1LjAiLz4KICA8cGF0aCBjbGFzcz0iZWRnZSBlZGdlX2luYWN0aXZlIiBtYXJrZXItZW5kPSJ1cmwoI01hcmtlcl9ORUdBVElWRV84MDgwODApIiBkPSJNIDUxOS4wIDQwOC4wIEwgNTE5LjAgNDA4LjAgTCA1MTkuMCAyNjcuMCBMIDExNDguMCAyNjcuMCIvPgogIDxwYXRoIGNsYXNzPSJlZGdlIGVkZ2VfaW5hY3RpdmUiIG1hcmtlci1lbmQ9InVybCgjTWFya2VyX05FR0FUSVZFXzgwODA4MCkiIGQ9Ik0gNDU5LjAgNDI2LjAgTCAxMTEuMCA0MjYuMCBMIDExMS4wIDU2MC4wIi8+CiAgPHBhdGggY2xhc3M9ImVkZ2UgZWRnZV9hY3RpdmUiIG1hcmtlci1lbmQ9InVybCgjTWFya2VyX05FR0FUSVZFXzAwMDBmZikiIGQ9Ik0gNzg5LjAgMzExLjAgTCA3ODkuMCAzMTYuMCBMIDc4OS4wIDQ1MC4wIEwgMzk3LjAgNDUwLjAgTCAzOTMuMCA0NTAuMCIvPgogIDxwYXRoIGNsYXNzPSJlZGdlIGVkZ2VfYWN0aXZlIiBtYXJrZXItZW5kPSJ1cmwoI01hcmtlcl9ORUdBVElWRV8wMDAwZmYpIiBkPSJNIDgwNC4wIDMxMS4wIEwgODA0LjAgMzE2LjAgTCA4MDQuMCA0NzAuMCBMIDU3Mi4wIDQ3MC4wIEwgNTY4LjAgNDcwLjAiLz4KICA8cGF0aCBjbGFzcz0iZWRnZSBlZGdlX2FjdGl2ZSIgbWFya2VyLWVuZD0idXJsKCNNYXJrZXJfTkVHQVRJVkVfMDAwMGZmKSIgZD0iTSA3OTkuMCAyODIuMCBMIDc5OS4wIDMxLjAgTCAxMTA0LjAgMzEuMCIvPgogIDxwYXRoIGNsYXNzPSJlZGdlIGVkZ2VfYWN0aXZlIiBtYXJrZXItZW5kPSJ1cmwoI01hcmtlcl9QT1NJVElWRV8wMDAwZmYpIiBkPSJNIDgxNi4wIDMxMS4wIEwgODE2LjAgMzE2LjAgTCA4MTYuMCA1ODkuMCBMIDk2NC4wIDU5MC4wIEwgOTY0LjAgNjY5LjAiLz4KICA8cGF0aCBjbGFzcz0iZWRnZSBlZGdlX2FjdGl2ZSIgbWFya2VyLWVuZD0idXJsKCNNYXJrZXJfTkVHQVRJVkVfMDAwMGZmKSIgZD0iTSA3NzQuMCAzMTEuMCBMIDc3NC4wIDMxNi4wIEwgNzc0LjAgNDE3LjAgTCA1NDMuMCA0MTcuMCBMIDUzOS4wIDQxNy4wIi8+CiAgPHBhdGggY2xhc3M9ImVkZ2UgZWRnZV9hY3RpdmUiIG1hcmtlci1lbmQ9InVybCgjTWFya2VyX05FR0FUSVZFXzAwMDBmZikiIGQ9Ik0gNzg1LjAgMjgyLjAgTCA3ODUuMCAxNDUuMCBMIDY4My4wIDE0NS4wIEwgNjYxLjAgMTQ1LjAiLz4KICA8cGF0aCBjbGFzcz0iZWRnZSBlZGdlX2FjdGl2ZSIgbWFya2VyLWVuZD0idXJsKCNNYXJrZXJfTkVHQVRJVkVfMDAwMGZmKSIgZD0iTSA4MjQuMCAyODIuMCBMIDgyNC4wIDI4Mi4wIEwgODI0LjAgNjUuMCBMIDM5Ny4wIDY1LjAgTCAzOTMuMCA2NS4wIi8+CiAgPHBhdGggY2xhc3M9ImVkZ2UgZWRnZV9hY3RpdmUiIG1hcmtlci1lbmQ9InVybCgjTWFya2VyX1BPU0lUSVZFXzAwMDBmZikiIGQ9Ik0gMTIxNi4wIDE1LjAgTCAxMTY4LjAgMTUuMCBMIDExNjguMCAyMy4wIi8+CiAgPHBhdGggY2xhc3M9ImVkZ2UgZWRnZV9hY3RpdmUiIG1hcmtlci1lbmQ9InVybCgjTWFya2VyX1BPU0lUSVZFXzAwMDBmZikiIGQ9Ik0gMTI3My4wIDI5LjAgTCAxMjczLjAgMzQuMCBMIDEyNzMuMCAyNjQuMCBMIDEyMzQuMCAyNjQuMCBMIDEyMzAuMCAyNjQuMCIvPgogIDxwYXRoIGNsYXNzPSJlZGdlIGVkZ2VfYWN0aXZlIiBtYXJrZXItZW5kPSJ1cmwoI01hcmtlcl9QT1NJVElWRV8wMDAwZmYpIiBkPSJNIDEyODQuMCAyOS4wIEwgMTI4NC4wIDM0LjAgTCAxMjg0LjAgNDQ3LjAgTCAxMTc5LjAgNDQ3LjAgTCAxMTc1LjAgNDQ3LjAiLz4KICA8ZyBpZD0iRUNNaWNyb2VudiIgY2xhc3M9Im5vZGUgc3RhdGVfaW5hY3RpdmUiPgogICAgPHJlY3QgaWQ9IkVDTWljcm9lbnZfc2hhcGUiIGNsYXNzPSJzaGFwZSIgd2lkdGg9Ijk1IiBoZWlnaHQ9IjI1IiB4PSI0IiB5PSI0OSIvPgogICAgPHRleHQgIGlkPSJFQ01pY3JvZW52X3RleHQiIHg9IjUxIiB5PSI2NCIgdGV4dC1hbmNob3I9Im1pZGRsZSI+RUNNaWNyb2VudjwvdGV4dD4KICA8L2c+CiAgPGcgaWQ9IkROQWRhbWFnZSIgY2xhc3M9Im5vZGUgc3RhdGVfYWN0aXZlIj4KICAgIDxyZWN0IGlkPSJETkFkYW1hZ2Vfc2hhcGUiIGNsYXNzPSJzaGFwZSIgd2lkdGg9Ijk1IiBoZWlnaHQ9IjI1IiB4PSIxMjE4IiB5PSIyIi8+CiAgICA8dGV4dCAgaWQ9IkROQWRhbWFnZV90ZXh0IiB4PSIxMjY1IiB5PSIxNyIgdGV4dC1hbmNob3I9Im1pZGRsZSI+RE5BZGFtYWdlPC90ZXh0PgogIDwvZz4KICA8ZyBpZD0iTWV0YXN0YXNpcyIgY2xhc3M9Im5vZGUgc3RhdGVfaW5hY3RpdmUiPgogICAgPHJlY3QgaWQ9Ik1ldGFzdGFzaXNfc2hhcGUiIGNsYXNzPSJzaGFwZSIgd2lkdGg9Ijk1IiBoZWlnaHQ9IjI1IiB4PSI2MTQiIHk9Ijc2OCIvPgogICAgPHRleHQgIGlkPSJNZXRhc3Rhc2lzX3RleHQiIHg9IjY2MSIgeT0iNzgzIiB0ZXh0LWFuY2hvcj0ibWlkZGxlIj5NZXRhc3Rhc2lzPC90ZXh0PgogIDwvZz4KICA8ZyBpZD0iTWlncmF0aW9uIiBjbGFzcz0ibm9kZSBzdGF0ZV9pbmFjdGl2ZSI+CiAgICA8cmVjdCBpZD0iTWlncmF0aW9uX3NoYXBlIiBjbGFzcz0ic2hhcGUiIHdpZHRoPSI5NSIgaGVpZ2h0PSIyNSIgeD0iNjE1IiB5PSI3MTYiLz4KICAgIDx0ZXh0ICBpZD0iTWlncmF0aW9uX3RleHQiIHg9IjY2MiIgeT0iNzMxIiB0ZXh0LWFuY2hvcj0ibWlkZGxlIj5NaWdyYXRpb248L3RleHQ+CiAgPC9nPgogIDxnIGlkPSJJbnZhc2lvbiIgY2xhc3M9Im5vZGUgc3RhdGVfaW5hY3RpdmUiPgogICAgPHJlY3QgaWQ9IkludmFzaW9uX3NoYXBlIiBjbGFzcz0ic2hhcGUiIHdpZHRoPSI5NSIgaGVpZ2h0PSIyNSIgeD0iNzE0IiB5PSI2NTgiLz4KICAgIDx0ZXh0ICBpZD0iSW52YXNpb25fdGV4dCIgeD0iNzYxIiB5PSI2NzMiIHRleHQtYW5jaG9yPSJtaWRkbGUiPkludmFzaW9uPC90ZXh0PgogIDwvZz4KICA8ZyBpZD0iRU1UIiBjbGFzcz0ibm9kZSBzdGF0ZV9pbmFjdGl2ZSI+CiAgICA8cmVjdCBpZD0iRU1UX3NoYXBlIiBjbGFzcz0ic2hhcGUiIHdpZHRoPSI5NSIgaGVpZ2h0PSIyNSIgeD0iMjA4IiB5PSI2NTkiLz4KICAgIDx0ZXh0ICBpZD0iRU1UX3RleHQiIHg9IjI1NSIgeT0iNjc0IiB0ZXh0LWFuY2hvcj0ibWlkZGxlIj5FTVQ8L3RleHQ+CiAgPC9nPgogIDxnIGlkPSJBcG9wdG9zaXMiIGNsYXNzPSJub2RlIHN0YXRlX2FjdGl2ZSI+CiAgICA8cmVjdCBpZD0iQXBvcHRvc2lzX3NoYXBlIiBjbGFzcz0ic2hhcGUiIHdpZHRoPSI5NSIgaGVpZ2h0PSIyNSIgeD0iMTE1MyIgeT0iNjM0Ii8+CiAgICA8dGV4dCAgaWQ9IkFwb3B0b3Npc190ZXh0IiB4PSIxMjAwIiB5PSI2NDkiIHRleHQtYW5jaG9yPSJtaWRkbGUiPkFwb3B0b3NpczwvdGV4dD4KICA8L2c+CiAgPGcgaWQ9IkNlbGxDeWNsZUFycmVzdCIgY2xhc3M9Im5vZGUgc3RhdGVfYWN0aXZlIj4KICAgIDxyZWN0IGlkPSJDZWxsQ3ljbGVBcnJlc3Rfc2hhcGUiIGNsYXNzPSJzaGFwZSIgd2lkdGg9Ijk1IiBoZWlnaHQ9IjI1IiB4PSI5MzAiIHk9IjY3MyIvPgogICAgPHRleHQgIGlkPSJDZWxsQ3ljbGVBcnJlc3RfdGV4dCIgeD0iOTc3IiB5PSI2ODgiIHRleHQtYW5jaG9yPSJtaWRkbGUiPkNlbGxDeWNsZUFycmVzdDwvdGV4dD4KICA8L2c+CiAgPGcgaWQ9IkdGIiBjbGFzcz0ibm9kZSBzdGF0ZV9pbmFjdGl2ZSI+CiAgICA8cmVjdCBpZD0iR0Zfc2hhcGUiIGNsYXNzPSJzaGFwZSIgd2lkdGg9Ijc1IiBoZWlnaHQ9IjI1IiB4PSI1IiB5PSIyMzEiLz4KICAgIDx0ZXh0ICBpZD0iR0ZfdGV4dCIgeD0iNDIiIHk9IjI0NiIgdGV4dC1hbmNob3I9Im1pZGRsZSI+R0Y8L3RleHQ+CiAgPC9nPgogIDxnIGlkPSJUR0ZiZXRhIiBjbGFzcz0ibm9kZSBzdGF0ZV9pbmFjdGl2ZSI+CiAgICA8cmVjdCBpZD0iVEdGYmV0YV9zaGFwZSIgY2xhc3M9InNoYXBlIiB3aWR0aD0iNzUiIGhlaWdodD0iMjUiIHg9IjEwMyIgeT0iNyIvPgogICAgPHRleHQgIGlkPSJUR0ZiZXRhX3RleHQiIHg9IjE0MCIgeT0iMjIiIHRleHQtYW5jaG9yPSJtaWRkbGUiPlRHRmJldGE8L3RleHQ+CiAgPC9nPgogIDxnIGlkPSJwMjEiIGNsYXNzPSJub2RlIHN0YXRlX2FjdGl2ZSI+CiAgICA8cmVjdCBpZD0icDIxX3NoYXBlIiBjbGFzcz0ic2hhcGUiIHdpZHRoPSI3NSIgaGVpZ2h0PSIyNSIgeD0iOTk1IiB5PSI1NDIiLz4KICAgIDx0ZXh0ICBpZD0icDIxX3RleHQiIHg9IjEwMzIiIHk9IjU1NyIgdGV4dC1hbmNob3I9Im1pZGRsZSI+cDIxPC90ZXh0PgogIDwvZz4KICA8ZyBpZD0iQ0RIMSIgY2xhc3M9Im5vZGUgc3RhdGVfYWN0aXZlIj4KICAgIDxyZWN0IGlkPSJDREgxX3NoYXBlIiBjbGFzcz0ic2hhcGUiIHdpZHRoPSI3NSIgaGVpZ2h0PSIyNSIgeD0iNDkiIHk9IjU2NCIvPgogICAgPHRleHQgIGlkPSJDREgxX3RleHQiIHg9Ijg2IiB5PSI1NzkiIHRleHQtYW5jaG9yPSJtaWRkbGUiPkNESDE8L3RleHQ+CiAgPC9nPgogIDxnIGlkPSJDREgyIiBjbGFzcz0ibm9kZSBzdGF0ZV9pbmFjdGl2ZSI+CiAgICA8cmVjdCBpZD0iQ0RIMl9zaGFwZSIgY2xhc3M9InNoYXBlIiB3aWR0aD0iNzUiIGhlaWdodD0iMjUiIHg9IjIyNiIgeT0iNTMwIi8+CiAgICA8dGV4dCAgaWQ9IkNESDJfdGV4dCIgeD0iMjYzIiB5PSI1NDUiIHRleHQtYW5jaG9yPSJtaWRkbGUiPkNESDI8L3RleHQ+CiAgPC9nPgogIDxnIGlkPSJWSU0iIGNsYXNzPSJub2RlIHN0YXRlX2luYWN0aXZlIj4KICAgIDxyZWN0IGlkPSJWSU1fc2hhcGUiIGNsYXNzPSJzaGFwZSIgd2lkdGg9Ijc1IiBoZWlnaHQ9IjI1IiB4PSI0MTEiIHk9IjU4MiIvPgogICAgPHRleHQgIGlkPSJWSU1fdGV4dCIgeD0iNDQ4IiB5PSI1OTciIHRleHQtYW5jaG9yPSJtaWRkbGUiPlZJTTwvdGV4dD4KICA8L2c+CiAgPGcgaWQ9IlRXSVNUMSIgY2xhc3M9Im5vZGUgc3RhdGVfaW5hY3RpdmUiPgogICAgPHJlY3QgaWQ9IlRXSVNUMV9zaGFwZSIgY2xhc3M9InNoYXBlIiB3aWR0aD0iNzUiIGhlaWdodD0iMjUiIHg9IjI1MiIgeT0iMjc5Ii8+CiAgICA8dGV4dCAgaWQ9IlRXSVNUMV90ZXh0IiB4PSIyODkiIHk9IjI5NCIgdGV4dC1hbmNob3I9Im1pZGRsZSI+VFdJU1QxPC90ZXh0PgogIDwvZz4KICA8ZyBpZD0iU05BSTEiIGNsYXNzPSJub2RlIHN0YXRlX2luYWN0aXZlIj4KICAgIDxyZWN0IGlkPSJTTkFJMV9zaGFwZSIgY2xhc3M9InNoYXBlIiB3aWR0aD0iNzUiIGhlaWdodD0iMjUiIHg9IjMxNSIgeT0iNDQwIi8+CiAgICA8dGV4dCAgaWQ9IlNOQUkxX3RleHQiIHg9IjM1MiIgeT0iNDU1IiB0ZXh0LWFuY2hvcj0ibWlkZGxlIj5TTkFJMTwvdGV4dD4KICA8L2c+CiAgPGcgaWQ9IlNOQUkyIiBjbGFzcz0ibm9kZSBzdGF0ZV9pbmFjdGl2ZSI+CiAgICA8cmVjdCBpZD0iU05BSTJfc2hhcGUiIGNsYXNzPSJzaGFwZSIgd2lkdGg9Ijc1IiBoZWlnaHQ9IjI1IiB4PSI0NjEiIHk9IjQxMCIvPgogICAgPHRleHQgIGlkPSJTTkFJMl90ZXh0IiB4PSI0OTgiIHk9IjQyNSIgdGV4dC1hbmNob3I9Im1pZGRsZSI+U05BSTI8L3RleHQ+CiAgPC9nPgogIDxnIGlkPSJaRUIxIiBjbGFzcz0ibm9kZSBzdGF0ZV9pbmFjdGl2ZSI+CiAgICA8cmVjdCBpZD0iWkVCMV9zaGFwZSIgY2xhc3M9InNoYXBlIiB3aWR0aD0iNzUiIGhlaWdodD0iMjUiIHg9IjM2NSIgeT0iMzEzIi8+CiAgICA8dGV4dCAgaWQ9IlpFQjFfdGV4dCIgeD0iNDAyIiB5PSIzMjgiIHRleHQtYW5jaG9yPSJtaWRkbGUiPlpFQjE8L3RleHQ+CiAgPC9nPgogIDxnIGlkPSJaRUIyIiBjbGFzcz0ibm9kZSBzdGF0ZV9pbmFjdGl2ZSI+CiAgICA8cmVjdCBpZD0iWkVCMl9zaGFwZSIgY2xhc3M9InNoYXBlIiB3aWR0aD0iNzUiIGhlaWdodD0iMjUiIHg9IjQ5MCIgeT0iNDY5Ii8+CiAgICA8dGV4dCAgaWQ9IlpFQjJfdGV4dCIgeD0iNTI3IiB5PSI0ODQiIHRleHQtYW5jaG9yPSJtaWRkbGUiPlpFQjI8L3RleHQ+CiAgPC9nPgogIDxnIGlkPSJBS1QxIiBjbGFzcz0ibm9kZSBzdGF0ZV9pbmFjdGl2ZSI+CiAgICA8cmVjdCBpZD0iQUtUMV9zaGFwZSIgY2xhc3M9InNoYXBlIiB3aWR0aD0iNzUiIGhlaWdodD0iMjUiIHg9IjYzNCIgeT0iMTk4Ii8+CiAgICA8dGV4dCAgaWQ9IkFLVDFfdGV4dCIgeD0iNjcxIiB5PSIyMTMiIHRleHQtYW5jaG9yPSJtaWRkbGUiPkFLVDE8L3RleHQ+CiAgPC9nPgogIDxnIGlkPSJES0sxIiBjbGFzcz0ibm9kZSBzdGF0ZV9pbmFjdGl2ZSI+CiAgICA8cmVjdCBpZD0iREtLMV9zaGFwZSIgY2xhc3M9InNoYXBlIiB3aWR0aD0iNzUiIGhlaWdodD0iMjUiIHg9IjMwNyIgeT0iMTEwIi8+CiAgICA8dGV4dCAgaWQ9IkRLSzFfdGV4dCIgeD0iMzQ0IiB5PSIxMjUiIHRleHQtYW5jaG9yPSJtaWRkbGUiPkRLSzE8L3RleHQ+CiAgPC9nPgogIDxnIGlkPSJDVE5OQjEiIGNsYXNzPSJub2RlIHN0YXRlX2luYWN0aXZlIj4KICAgIDxyZWN0IGlkPSJDVE5OQjFfc2hhcGUiIGNsYXNzPSJzaGFwZSIgd2lkdGg9Ijc1IiBoZWlnaHQ9IjI1IiB4PSI0MDQiIHk9IjE3MCIvPgogICAgPHRleHQgIGlkPSJDVE5OQjFfdGV4dCIgeD0iNDQxIiB5PSIxODUiIHRleHQtYW5jaG9yPSJtaWRkbGUiPkNUTk5CMTwvdGV4dD4KICA8L2c+CiAgPGcgaWQ9Ik5JQ0QiIGNsYXNzPSJub2RlIHN0YXRlX2luYWN0aXZlIj4KICAgIDxyZWN0IGlkPSJOSUNEX3NoYXBlIiBjbGFzcz0ic2hhcGUiIHdpZHRoPSI3NSIgaGVpZ2h0PSIyNSIgeD0iMTkwIiB5PSI4MiIvPgogICAgPHRleHQgIGlkPSJOSUNEX3RleHQiIHg9IjIyNyIgeT0iOTciIHRleHQtYW5jaG9yPSJtaWRkbGUiPk5JQ0Q8L3RleHQ+CiAgPC9nPgogIDxnIGlkPSJwNjMiIGNsYXNzPSJub2RlIHN0YXRlX2luYWN0aXZlIj4KICAgIDxyZWN0IGlkPSJwNjNfc2hhcGUiIGNsYXNzPSJzaGFwZSIgd2lkdGg9Ijc1IiBoZWlnaHQ9IjI1IiB4PSIxMTA4IiB5PSIyNyIvPgogICAgPHRleHQgIGlkPSJwNjNfdGV4dCIgeD0iMTE0NSIgeT0iNDIiIHRleHQtYW5jaG9yPSJtaWRkbGUiPnA2MzwvdGV4dD4KICA8L2c+CiAgPGcgaWQ9InA1MyIgY2xhc3M9Im5vZGUgc3RhdGVfYWN0aXZlIj4KICAgIDxyZWN0IGlkPSJwNTNfc2hhcGUiIGNsYXNzPSJzaGFwZSIgd2lkdGg9Ijc1IiBoZWlnaHQ9IjI1IiB4PSIxMTUyIiB5PSIyNDkiLz4KICAgIDx0ZXh0ICBpZD0icDUzX3RleHQiIHg9IjExODkiIHk9IjI2NCIgdGV4dC1hbmNob3I9Im1pZGRsZSI+cDUzPC90ZXh0PgogIDwvZz4KICA8ZyBpZD0icDczIiBjbGFzcz0ibm9kZSBzdGF0ZV9pbmFjdGl2ZSI+CiAgICA8cmVjdCBpZD0icDczX3NoYXBlIiBjbGFzcz0ic2hhcGUiIHdpZHRoPSI3NSIgaGVpZ2h0PSIyNSIgeD0iMTA5NyIgeT0iNDI4Ii8+CiAgICA8dGV4dCAgaWQ9InA3M190ZXh0IiB4PSIxMTM0IiB5PSI0NDMiIHRleHQtYW5jaG9yPSJtaWRkbGUiPnA3MzwvdGV4dD4KICA8L2c+CiAgPGcgaWQ9Im1pUjIwMCIgY2xhc3M9Im5vZGUgc3RhdGVfYWN0aXZlIj4KICAgIDxyZWN0IGlkPSJtaVIyMDBfc2hhcGUiIGNsYXNzPSJzaGFwZSIgd2lkdGg9Ijc1IiBoZWlnaHQ9IjI1IiB4PSI4ODUiIHk9IjM2OSIvPgogICAgPHRleHQgIGlkPSJtaVIyMDBfdGV4dCIgeD0iOTIyIiB5PSIzODQiIHRleHQtYW5jaG9yPSJtaWRkbGUiPm1pUjIwMDwvdGV4dD4KICA8L2c+CiAgPGcgaWQ9Im1pUjIwMyIgY2xhc3M9Im5vZGUgc3RhdGVfYWN0aXZlIj4KICAgIDxyZWN0IGlkPSJtaVIyMDNfc2hhcGUiIGNsYXNzPSJzaGFwZSIgd2lkdGg9Ijc1IiBoZWlnaHQ9IjI1IiB4PSI3NjkiIHk9IjI4NCIvPgogICAgPHRleHQgIGlkPSJtaVIyMDNfdGV4dCIgeD0iODA2IiB5PSIyOTkiIHRleHQtYW5jaG9yPSJtaWRkbGUiPm1pUjIwMzwvdGV4dD4KICA8L2c+CiAgPGcgaWQ9Im1pUjM0IiBjbGFzcz0ibm9kZSBzdGF0ZV9pbmFjdGl2ZSI+CiAgICA8cmVjdCBpZD0ibWlSMzRfc2hhcGUiIGNsYXNzPSJzaGFwZSIgd2lkdGg9Ijc1IiBoZWlnaHQ9IjI1IiB4PSI4MjMiIHk9IjUwMyIvPgogICAgPHRleHQgIGlkPSJtaVIzNF90ZXh0IiB4PSI4NjAiIHk9IjUxOCIgdGV4dC1hbmNob3I9Im1pZGRsZSI+bWlSMzQ8L3RleHQ+CiAgPC9nPgogIDxnIGlkPSJBS1QyIiBjbGFzcz0ibm9kZSBzdGF0ZV9pbmFjdGl2ZSI+CiAgICA8cmVjdCBpZD0iQUtUMl9zaGFwZSIgY2xhc3M9InNoYXBlIiB3aWR0aD0iNzUiIGhlaWdodD0iMjUiIHg9IjU4MyIgeT0iMTIyIi8+CiAgICA8dGV4dCAgaWQ9IkFLVDJfdGV4dCIgeD0iNjIwIiB5PSIxMzciIHRleHQtYW5jaG9yPSJtaWRkbGUiPkFLVDI8L3RleHQ+CiAgPC9nPgogIDxnIGlkPSJFUksiIGNsYXNzPSJub2RlIHN0YXRlX2luYWN0aXZlIj4KICAgIDxyZWN0IGlkPSJFUktfc2hhcGUiIGNsYXNzPSJzaGFwZSIgd2lkdGg9Ijc1IiBoZWlnaHQ9IjI1IiB4PSIxMTMiIHk9IjM2MyIvPgogICAgPHRleHQgIGlkPSJFUktfdGV4dCIgeD0iMTUwIiB5PSIzNzgiIHRleHQtYW5jaG9yPSJtaWRkbGUiPkVSSzwvdGV4dD4KICA8L2c+CiAgPGcgaWQ9IlNNQUQiIGNsYXNzPSJub2RlIHN0YXRlX2luYWN0aXZlIj4KICAgIDxyZWN0IGlkPSJTTUFEX3NoYXBlIiBjbGFzcz0ic2hhcGUiIHdpZHRoPSI3NSIgaGVpZ2h0PSIyNSIgeD0iMzE1IiB5PSI0MyIvPgogICAgPHRleHQgIGlkPSJTTUFEX3RleHQiIHg9IjM1MiIgeT0iNTgiIHRleHQtYW5jaG9yPSJtaWRkbGUiPlNNQUQ8L3RleHQ+CiAgPC9nPgo8L3N2Zz4K\">"
      ],
      "text/plain": [
       "<IPython.core.display.HTML object>"
      ]
     },
     "execution_count": 7,
     "metadata": {},
     "output_type": "execute_result"
    }
   ],
   "source": [
    "ginsim.show(lrg, fixpoints[2])"
   ]
  },
  {
   "cell_type": "markdown",
   "metadata": {},
   "source": [
    "In this graph, the vertices shown in white or orange denote components that are OFF (value 0) or ON (value 1) respectively.\n",
    "\n",
    "## Assessing the probabilities to reach alternative attractors using MaBoSS\n",
    "\n",
    "MaBoSS <cite data-citep=\"Stoll2017\">(<a href=\"http://doi.org/10.1093/bioinformatics/btx123\">Stoll et al., 2017</a>)</cite> is a C++ software enabling the stochastic simulation of Boolean networks by translating them into continuous time Markov processes. Each node activation and inactivation is associated with an *up* and a *down* *rate*, which specify the propensity of the corresponding transitions. From a given state, the simulation integrates all the possible node updates and derives a probability and a duration for each transition. By default, all transitions are assigned the same rate. For a given set of initial conditions,  MaBoSS produces time trajectories and estimates probabilities of model states over the whole simulation time. Steady state distributions can thus be approximated, provided that a sufficient number of sufficiently long simulations have been performed.\n",
    "\n",
    "The aim of this section is to reproduce part of the results obtained by <cite data-citet=\"Cohen2015\"><a href=\"http://doi.org/10.1371/journal.pcbi.1004571\">Cohen et al. (2015)</a></cite>, which show that a Notch (NICD) gain-of-function together with a p53 loss-of-function prevent reaching a stable apoptotic phenotype.\n",
    "\n",
    "First, we convert the bioLQM model to MaBoSS:"
   ]
  },
  {
   "cell_type": "code",
   "execution_count": 8,
   "metadata": {},
   "outputs": [],
   "source": [
    "wt_sim = biolqm.to_maboss(lqm)"
   ]
  },
  {
   "cell_type": "markdown",
   "metadata": {},
   "source": [
    "The variable `wt_sim` is a Python object that gathers both the Boolean network rules and the settings for the simulations, including the transition rates.\n",
    "\n",
    "### Simulation setup\n",
    "\n",
    "The stochastic simulation of Boolean networks with MaBoSS requires the specification of several parameters.\n",
    "\n",
    "#### Initial states\n",
    "\n",
    "First, a distribution of initial states must be specified: each simulation then starts from a state sampled from this distribution. The distribution is determined by assigning a probability to start in state `0` or in state `1` to each node. By default, a node has a probability `1` to start in state `0`.\n",
    "\n",
    "The `maboss` Python library provides *widgets* to ease the assignment of this initial distribution.\n",
    "The following code enables the definition of a distribution of initial states with all nodes at `0`, but `DNAdamage` and `ECMicroenv` with equiprobable `0` and `1` values.\n",
    "After pressing \"OK\", the notebook cell will be replaced by the actual Python call resulting in equal probabilities for these two nodes to start in active or inactive states."
   ]
  },
  {
   "cell_type": "code",
   "execution_count": 9,
   "metadata": {
    "nbconvert_latex": {
     "call_macro": [
      "draw_figure",
      "screenshot_widgets.png"
     ],
     "figures": {
      "includegraphics_args": ""
     },
     "raw_output": "The notebook will then display the widgets reproduced in Figure~\\ref{fig:screenshot_widgets.png}.  The selection of nodes and of initial conditions shown in this figure are then translated in the following code:"
    }
   },
   "outputs": [
    {
     "data": {
      "application/vnd.jupyter.widget-view+json": {
       "model_id": "8b0f200705a14eb9b54c26034a64209d",
       "version_major": 2,
       "version_minor": 0
      },
      "text/plain": [
       "SelectMultiple(description='Nodes', options=('ECMicroenv', 'DNAdamage', 'Metastasis', 'Migration', 'Invasion',…"
      ]
     },
     "metadata": {},
     "output_type": "display_data"
    },
    {
     "data": {
      "application/vnd.jupyter.widget-view+json": {
       "model_id": "7351545cbc5244f38eb2d2cfccd03d40",
       "version_major": 2,
       "version_minor": 0
      },
      "text/plain": [
       "Text(value='', description='istate')"
      ]
     },
     "metadata": {},
     "output_type": "display_data"
    },
    {
     "data": {
      "application/vnd.jupyter.widget-view+json": {
       "model_id": "d668f170249f4b20aaaa67b04343ff59",
       "version_major": 2,
       "version_minor": 0
      },
      "text/plain": [
       "Button(description='Ok', style=ButtonStyle())"
      ]
     },
     "metadata": {},
     "output_type": "display_data"
    }
   ],
   "source": [
    "maboss.wg_set_istate(wt_sim)"
   ]
  },
  {
   "cell_type": "code",
   "execution_count": 10,
   "metadata": {},
   "outputs": [],
   "source": [
    "#maboss.wg_set_istate(wt_sim)\n",
    "maboss.set_nodes_istate(wt_sim, [\"DNAdamage\", \"ECMicroenv\"], \n",
    "                          [0.5, 0.5])"
   ]
  },
  {
   "cell_type": "markdown",
   "metadata": {},
   "source": [
    "#### Output nodes\n",
    "\n",
    "Using MaBoSS, we can focus on the *output* nodes and ignore the other nodes, which enable us to identify the corresponding phenotypes.  This can be done using the following code:"
   ]
  },
  {
   "cell_type": "code",
   "execution_count": 11,
   "metadata": {},
   "outputs": [],
   "source": [
    "#maboss.wg_set_output(wt_sim)\n",
    "wt_sim.network.set_output(('Metastasis', 'Migration', 'Invasion', \n",
    "                           'EMT', 'Apoptosis', 'CellCycleArrest'))"
   ]
  },
  {
   "cell_type": "markdown",
   "metadata": {},
   "source": [
    "#### Simulation parameters\n",
    "\n",
    "The `update_parameters` method can be used to specify several parameters for the stochastic simulation algorithm. We show below the complete list of parameters with the values obtained by default when translating a model from GINsim.\n",
    "The method can be called with any subset of these parameters.\n",
    "\n",
    "Among the parameter list, `sample_count` corresponds to the number of simulations performed to compute statistics, while `max_time` is the maximum (simulated) duration of a trajectory. Note that for a proper estimation of probabilities of the stable states, `max_time` needs to be long enough for the simulation to reach an asymptotic solution. "
   ]
  },
  {
   "cell_type": "code",
   "execution_count": 12,
   "metadata": {},
   "outputs": [],
   "source": [
    "wt_sim.update_parameters(discrete_time=0, use_physrandgen=0,\n",
    "        seed_pseudorandom=100, sample_count=50000,\n",
    "        max_time=75, time_tick=0.1, thread_count=4,\n",
    "        statdist_traj_count=100, statdist_cluster_threshold=0.9)"
   ]
  },
  {
   "cell_type": "markdown",
   "metadata": {},
   "source": [
    "### Simulation of the wild-type model\n",
    "\n",
    "The object `wt_sim` represents the input of MaBoSS, encompassing both the network and simulation parameters.\n",
    "The simulations are triggered with the `.run()` method and return a Python object for accessing the results."
   ]
  },
  {
   "cell_type": "code",
   "execution_count": 13,
   "metadata": {},
   "outputs": [
    {
     "name": "stdout",
     "output_type": "stream",
     "text": [
      "CPU times: user 3.24 ms, sys: 247 µs, total: 3.49 ms\n",
      "Wall time: 3.34 s\n"
     ]
    }
   ],
   "source": [
    "%time wt_results = wt_sim.run()"
   ]
  },
  {
   "cell_type": "markdown",
   "metadata": {},
   "source": [
    "The resulting object gives access to the output data generated by MaBoSS.\n",
    "It includes notably the mean probability over time for the activity of the output states integrated over all the performed simulations.\n",
    "\n",
    "The function `plot_piechart` displays proportionally the mean probability of each output state at the *last* time point.\n",
    "Provided the simulation time has been set high enough, this gives an approximation of the probabilities of the stable states reachable from the specified initial conditions."
   ]
  },
  {
   "cell_type": "code",
   "execution_count": 14,
   "metadata": {
    "nbconvert_latex": {
     "figures": {
      "includegraphics_args": "height=6cm"
     }
    }
   },
   "outputs": [
    {
     "data": {
      "image/png": "[encoded data removed]",
      "text/plain": [
       "<Figure size 432x288 with 1 Axes>"
      ]
     },
     "metadata": {},
     "output_type": "display_data"
    }
   ],
   "source": [
    "wt_results.plot_piechart()"
   ]
  },
  {
   "cell_type": "markdown",
   "metadata": {},
   "source": [
    "In this chart, a state is described by the set of its active output nodes and is associated to a phenotype.\n",
    "For instance, the \"`<nil>`\" phenotype has all output nodes set to 0, which was referred to as the \"homeostatic state\" in the original article;\n",
    "in the case of the \"`Apoptosis -- CellCycleArrest`\" phenotype, the two output nodes `Apoptosis` and `CellCycleArrest` are simultaneously active, while the other output nodes are inactive;\n",
    "the \"`EMT -- CellCycleArrest`\" phenotype denotes cells that have gone through the epithelial to mesenchymal transition, but did not invade the tissue, hence the output nodes `Invasion`, `Migration` and `Metastasis` are inactive;\n",
    "finally the \"`Migration -- Metastasis -- Invasion -- EMT -- CellCycleArrest`\" phenotype corresponds to a metastatic state, *i.e.* to cells that went through EMT, invaded the tissue and  migrated to a distant site.\n",
    "\n",
    "From this plot, we can deduce that, from the specified set of initial conditions,  the apoptotic state (orange section), the EMT (purple section) and the metastatic states (green section) can be reached (the proportion of simulations that reached none of these phenotypes correspond to the red section).\n",
    "\n",
    "The mean value of each output node during the simulations can be plotted with the following command:"
   ]
  },
  {
   "cell_type": "code",
   "execution_count": 15,
   "metadata": {
    "nbconvert_latex": {
     "figures": {
      "includegraphics_args": "height=6cm"
     }
    }
   },
   "outputs": [
    {
     "data": {
      "image/png": "[encoded data removed]",
      "text/plain": [
       "<Figure size 432x288 with 1 Axes>"
      ]
     },
     "metadata": {},
     "output_type": "display_data"
    }
   ],
   "source": [
    "wt_results.plot_node_trajectory(until=40)"
   ]
  },
  {
   "cell_type": "markdown",
   "metadata": {},
   "source": [
    "### Simulation of double mutant Notch++/p53--\n",
    "\n",
    "In the original article <cite data-citep=\"Cohen2015\">(<a href=\"http://doi.org/10.1371/journal.pcbi.1004571\">Cohen et al., 2015</a>)</cite>, the authors analysed the double Notch++/p53-- mutant, *i.e.*, the combination of a Notch gain-of-function combined with a p53 loss-of-function, showing that all trajectories lead to a metastatic state.\n",
    "\n",
    "A mutant can be configured by copying the wild-type model, and use the `mutate` method to model the desired gains and losses of function:"
   ]
  },
  {
   "cell_type": "code",
   "execution_count": 16,
   "metadata": {},
   "outputs": [],
   "source": [
    "mut_sim = wt_sim.copy()\n",
    "mut_sim.mutate(\"p53\", \"OFF\")\n",
    "mut_sim.mutate(\"NICD\", \"ON\")"
   ]
  },
  {
   "cell_type": "markdown",
   "metadata": {},
   "source": [
    "The modified model can then be simulated exactly as for the wild-type case:"
   ]
  },
  {
   "cell_type": "code",
   "execution_count": 17,
   "metadata": {},
   "outputs": [
    {
     "name": "stdout",
     "output_type": "stream",
     "text": [
      "CPU times: user 4.25 ms, sys: 89 µs, total: 4.34 ms\n",
      "Wall time: 3.32 s\n"
     ]
    }
   ],
   "source": [
    "%time mut_results = mut_sim.run()"
   ]
  },
  {
   "cell_type": "code",
   "execution_count": 18,
   "metadata": {},
   "outputs": [
    {
     "data": {
      "image/png": "[encoded data removed]",
      "text/plain": [
       "<Figure size 432x288 with 1 Axes>"
      ]
     },
     "metadata": {},
     "output_type": "display_data"
    }
   ],
   "source": [
    "mut_results.plot_piechart()"
   ]
  },
  {
   "cell_type": "markdown",
   "metadata": {},
   "source": [
    "Using the same parameters as for the wild-type model, all the trajectories obtained for the double mutant model reach the metastatic invasive state exclusively. This suggests that such a double mutation can be responsible for a loss of apoptotic capability of cancer cells."
   ]
  },
  {
   "cell_type": "markdown",
   "metadata": {},
   "source": [
    "## Formal analysis with Pint and NuSMV\n",
    "\n",
    "In the above section, the conclusion regarding the loss of apoptotic stable state relies on stochastic simulations, which, in general, may not offer a complete coverage of the possible trajectories. Therefore, one may want to formally verify whether the loss of reachable stable apoptosis state is total or not. \n",
    "First, we show how to use Pint <cite data-citep=\"Pauleve2017\">(<a href=\"http://doi.org/10.1007/978-3-319-67471-1_20\">Paulevé, 2017</a>)</cite> to predict combinations of mutations which are guaranteed to prevent the activation of apoptosis.\n",
    "Next, we use the software NuSMV <cite data-citep=\"Cimatti2002\">(<a href=\"http://doi.org/10.1007/3-540-45657-0_29\">Cimatti et al., 2002</a>)</cite> to evaluate formally the Notch++/p53-- double mutant.\n",
    "Finally, we use MaBoSS to assess the efficiency of new combinations of mutations predicted by Pint."
   ]
  },
  {
   "cell_type": "markdown",
   "metadata": {},
   "source": [
    "### Formal predictions of mutations from the wild-type model\n",
    "\n",
    "Pint implements formal methods that allow deducing combinations of mutations guaranteed to block the reachability of a given state.\n",
    "\n",
    "First, we convert the bioLQM model to Pint:"
   ]
  },
  {
   "cell_type": "code",
   "execution_count": 19,
   "metadata": {
    "scrolled": true
   },
   "outputs": [],
   "source": [
    "an = biolqm.to_pint(lqm)"
   ]
  },
  {
   "cell_type": "markdown",
   "metadata": {},
   "source": [
    "Then, we transfer the initial conditions defined in MaBoSS to the Pint model `an`. Like MaBoSS, Pint supports multiple initial values for a single node. However, in contrast to MaBoSS, Pint does not consider probability distributions."
   ]
  },
  {
   "cell_type": "code",
   "execution_count": 20,
   "metadata": {},
   "outputs": [
    {
     "data": {
      "text/plain": [
       "{'ECMicroenv': (0, 1), 'DNAdamage': (0, 1)}"
      ]
     },
     "execution_count": 20,
     "metadata": {},
     "output_type": "execute_result"
    }
   ],
   "source": [
    "an.initial_state.update(wt_sim.get_initial_state())\n",
    "an.initial_state.changes()   # display non-default (0) initial value"
   ]
  },
  {
   "cell_type": "markdown",
   "metadata": {
    "collapsed": true
   },
   "source": [
    "Given a (partial) state specification, Pint provides the method `oneshot_mutations_for_cut`, which returns different sets of mutations guaranteed to prevent any trajectory from any possible initial state to reach, *even transiently*, the specified state."
   ]
  },
  {
   "cell_type": "code",
   "execution_count": 21,
   "metadata": {},
   "outputs": [
    {
     "data": {
      "text/markdown": [
       "This computation is an *under-approximation*: returned mutations are all valid, but they may be non-minimal, and some solutions may be missed."
      ],
      "text/plain": [
       "<IPython.core.display.Markdown object>"
      ]
     },
     "metadata": {},
     "output_type": "display_data"
    },
    {
     "data": {
      "text/markdown": [
       "Limiting solutions to mutations of at most 5 automata. Use `maxsize` argument to change."
      ],
      "text/plain": [
       "<IPython.core.display.Markdown object>"
      ]
     },
     "metadata": {},
     "output_type": "display_data"
    },
    {
     "name": "stdout",
     "output_type": "stream",
     "text": [
      "CPU times: user 6.31 ms, sys: 132 µs, total: 6.44 ms\n",
      "Wall time: 191 ms\n"
     ]
    },
    {
     "data": {
      "text/plain": [
       "[{'ZEB2': 1},\n",
       " {'AKT1': 1},\n",
       " {'AKT2': 1},\n",
       " {'ERK': 1},\n",
       " {'SNAI2': 1, 'ZEB1': 1, 'NICD': 1},\n",
       " {'SNAI2': 1, 'ZEB1': 1, 'p63': 0},\n",
       " {'SNAI2': 1, 'ZEB1': 1, 'miR203': 1},\n",
       " {'SNAI2': 1, 'NICD': 1, 'p73': 0},\n",
       " {'SNAI2': 1, 'p63': 0, 'p73': 0},\n",
       " {'SNAI2': 1, 'p73': 0, 'miR203': 1},\n",
       " {'ZEB1': 1, 'NICD': 1, 'p53': 0},\n",
       " {'ZEB1': 1, 'p63': 0, 'p53': 0},\n",
       " {'ZEB1': 1, 'p53': 0, 'miR203': 1},\n",
       " {'NICD': 1, 'p53': 0, 'p73': 0},\n",
       " {'p63': 0, 'p53': 0, 'p73': 0},\n",
       " {'p53': 0, 'p73': 0, 'miR203': 1}]"
      ]
     },
     "execution_count": 21,
     "metadata": {},
     "output_type": "execute_result"
    }
   ],
   "source": [
    "%time an.oneshot_mutations_for_cut(Apoptosis=1, \\\n",
    "                exclude={\"ECMicroenv\", \"DNAdamage\"})"
   ]
  },
  {
   "cell_type": "markdown",
   "metadata": {},
   "source": [
    "Among the returned mutation sets, one can spot the mutation ``{'NICD': 1, 'p53': 0, 'p73': 0}``, which combines a gain-of-function of Notch (`'NICD': 1`) with a loss-of-function of p53 (`'p53': 0`), along with a loss-of-function of p73 (`'p73': 0`).\n",
    "\n",
    "\n",
    "Noteworthy, forbidding *transient* reachability entails a stronger constraint than just preventing any *stable* state with the specified property. Indeed, some mutations may remove the stability of the specified states, while some trajectories may still traverse these states, but only transiently.\n",
    "\n",
    "Therefore, the sets of mutations returned by Pint, albeit correct, might be non-minimal for controlling only the long-term dynamics of the system. Finally, note that the analysis of Pint can give incomplete results. This is due to the technology on which the computation relies (static analysis), which allows addressing very large scale networks."
   ]
  },
  {
   "cell_type": "markdown",
   "metadata": {},
   "source": [
    "### Revisiting the Notch++/p53-- double mutant\n",
    "\n",
    "We will first formally analyse the Notch++/p53-- double mutant to show that asymptotic apoptosis is forbidden, although transient activation of apoptosis node might still be possible.\n",
    "\n",
    "One can apply a mutation on a Pint model using the `lock` method. A new model is returned with a constant value for the corresponding nodes."
   ]
  },
  {
   "cell_type": "code",
   "execution_count": 22,
   "metadata": {},
   "outputs": [],
   "source": [
    "mut_an = an.lock(NICD=1, p53=0)"
   ]
  },
  {
   "cell_type": "markdown",
   "metadata": {},
   "source": [
    "Then, we use the temporal logic CTL <cite data-citep=\"Clarke1981\">(<a href=\"http://doi.org/10.1007/BFb0025774\">Clarke et al., 1981</a>)</cite> to specify formally the dynamical properties to verify.\n",
    "CTL expression can be built using the `colomoto.temporal_logics` Python module."
   ]
  },
  {
   "cell_type": "code",
   "execution_count": 23,
   "metadata": {},
   "outputs": [],
   "source": [
    "from colomoto.temporal_logics import *"
   ]
  },
  {
   "cell_type": "markdown",
   "metadata": {},
   "source": [
    "First, the existence of a trajectory leading to a *transient* state where `Apoptosis` is active can be specified as follows:"
   ]
  },
  {
   "cell_type": "code",
   "execution_count": 24,
   "metadata": {},
   "outputs": [],
   "source": [
    "transient_apoptosis = EF(S(Apoptosis=1))"
   ]
  },
  {
   "cell_type": "markdown",
   "metadata": {},
   "source": [
    "`EF` is a temporal logic operator that is true if there exists at least one trajectory leading to a state verifying the properties given as argument. Here the property `S(Apoptosis=1)` specifies that the state has the node `Apoptosis` active.\n",
    "\n",
    "Next, the existence of a trajectory leading to a *stable* `Apoptosis` activation can be specified as follows:"
   ]
  },
  {
   "cell_type": "code",
   "execution_count": 25,
   "metadata": {},
   "outputs": [],
   "source": [
    "stable_apoptosis = EF(AG(S(Apoptosis=1)))"
   ]
  },
  {
   "cell_type": "markdown",
   "metadata": {},
   "source": [
    "Here, `AG` enforces that *all* the states reachable via any trajectory have the node `Apoptosis` active.\n",
    "\n",
    "Finally, we gather these two properties in a Python dictionary for later use:"
   ]
  },
  {
   "cell_type": "code",
   "execution_count": 26,
   "metadata": {},
   "outputs": [],
   "source": [
    "ctl_specs = {\n",
    "    \"reach-apoptosis\": transient_apoptosis,\n",
    "    \"stable-apoptosis\": stable_apoptosis\n",
    "}"
   ]
  },
  {
   "cell_type": "markdown",
   "metadata": {},
   "source": [
    "The adequation of a model with a CTL property can be assessed using a *model-checker* such as NuSMV <cite data-citep=\"Abou-Jaoude2015\">(<a href=\"http://doi.org/10.3389/fbioe.2014.00086\">Abou-Jaoudé et al., 2015</a>)</cite>.\n",
    "\n",
    "Pint provides a conversion to NuSMV models. By default, the NuSMV model considers any initial state. With the `skip_init=False` option, we enforce that the properties are verified only from the initial states defined earlier."
   ]
  },
  {
   "cell_type": "code",
   "execution_count": 27,
   "metadata": {},
   "outputs": [],
   "source": [
    "smv = mut_an.to_nusmv(skip_init=False)"
   ]
  },
  {
   "cell_type": "markdown",
   "metadata": {},
   "source": [
    "We then add the properties defined above, and ask NuSMV to verify them."
   ]
  },
  {
   "cell_type": "code",
   "execution_count": 28,
   "metadata": {},
   "outputs": [
    {
     "name": "stdout",
     "output_type": "stream",
     "text": [
      "CPU times: user 5.07 ms, sys: 129 µs, total: 5.19 ms\n",
      "Wall time: 13.4 s\n"
     ]
    },
    {
     "data": {
      "text/plain": [
       "{'reach-apoptosis': True, 'stable-apoptosis': False}"
      ]
     },
     "execution_count": 28,
     "metadata": {},
     "output_type": "execute_result"
    }
   ],
   "source": [
    "smv.add_ctls(ctl_specs)\n",
    "%time smv.verify()"
   ]
  },
  {
   "cell_type": "markdown",
   "metadata": {},
   "source": [
    "Interestingly, the Notch++/p53-- double mutant can still reach an apoptotic state, but only transiently: the property `stable-apoptosis` being false, it is guaranteed that all trajectories eventually lead to stable apoptosis inactivation.\n",
    "\n",
    "To complete our analysis,  we now consider the triple mutant obtained by adding a loss-of-function of `p73`. As predicted by Pint, transient reachability of apoptosis is impossible in this triple mutant. We can use NuSMV to further verify that it is the case, using the following code:"
   ]
  },
  {
   "cell_type": "code",
   "execution_count": 29,
   "metadata": {},
   "outputs": [
    {
     "data": {
      "text/plain": [
       "{'reach-apoptosis': False, 'stable-apoptosis': False}"
      ]
     },
     "execution_count": 29,
     "metadata": {},
     "output_type": "execute_result"
    }
   ],
   "source": [
    "smv_mut3 = an.lock(NICD=1, p53=0, p73=0).to_nusmv(skip_init=False)\n",
    "smv_mut3.add_ctls(ctl_specs)\n",
    "smv_mut3.verify()"
   ]
  },
  {
   "cell_type": "markdown",
   "metadata": {},
   "source": [
    "### Analysis of formally predicted SNAI2++/ZEB1++/miR203++ triple mutant\n",
    "\n",
    "The mutant combinations predicted with Pint should be refined when the aim is to control specifically stable behaviours. In general, given a set of mutations guaranteed to block any transient activation of a node, one may verify whether only a subset of them are sufficient to achieve proper control of the sole stable states.\n",
    "\n",
    "We show here how we can take advantage of the Python environment to provide a small program, which, for each subset of mutations of a multiple mutant (here a triple gain-of-function for SNAI2, ZEB1 and miR203), performs stochastic simulations with MaBoSS to assess the probabilities to reach the different stable behaviours from the specified set of states.\n",
    "\n",
    "The computation can take a couple of minutes. The results are shown in a graphical form (coloured pie charts) for each single and double loss-of-function combination. In the pie charts, \"Others\" regroup states with an individual probability less than 1%, which often correspond to simulated trajectories having not reached an attractor in the given amount of time."
   ]
  },
  {
   "cell_type": "code",
   "execution_count": 30,
   "metadata": {
    "nbconvert_latex": {
     "figures": {
      "includegraphics_args": "height=6cm",
      "skip_source": true
     }
    }
   },
   "outputs": [
    {
     "data": {
      "image/png": "[encoded data removed]",
      "text/plain": [
       "<Figure size 432x288 with 1 Axes>"
      ]
     },
     "metadata": {},
     "output_type": "display_data"
    },
    {
     "data": {
      "image/png": "[encoded data removed]",
      "text/plain": [
       "<Figure size 432x288 with 1 Axes>"
      ]
     },
     "metadata": {},
     "output_type": "display_data"
    },
    {
     "data": {
      "image/png": "[encoded data removed]",
      "text/plain": [
       "<Figure size 432x288 with 1 Axes>"
      ]
     },
     "metadata": {},
     "output_type": "display_data"
    },
    {
     "data": {
      "image/png": "[encoded data removed]",
      "text/plain": [
       "<Figure size 432x288 with 1 Axes>"
      ]
     },
     "metadata": {},
     "output_type": "display_data"
    },
    {
     "data": {
      "image/png": "[encoded data removed]",
      "text/plain": [
       "<Figure size 432x288 with 1 Axes>"
      ]
     },
     "metadata": {},
     "output_type": "display_data"
    },
    {
     "data": {
      "image/png": "[encoded data removed]",
      "text/plain": [
       "<Figure size 432x288 with 1 Axes>"
      ]
     },
     "metadata": {},
     "output_type": "display_data"
    }
   ],
   "source": [
    "formal_mutant = {'SNAI2': 1, 'ZEB1': 1, 'miR203': 1}\n",
    "for i in [1, 2]:\n",
    "    # for any subset of mutations of size 1 then 2\n",
    "    for mutants in combinations(formal_mutant, i):\n",
    "        # copy the wild-type MaBoSS model\n",
    "        masim = wt_sim.copy()\n",
    "        # apply the mutations\n",
    "        for m in mutants:\n",
    "            masim.mutate(m, \"ON\" if formal_mutant[m] else \"OFF\")\n",
    "        # run the simulations\n",
    "        mares = masim.run()\n",
    "        # plot the piechart of stable states\n",
    "        mares.plot_piechart()\n",
    "        # print the mutation in the title\n",
    "        def mutname(m):\n",
    "            return m + (\"++\" if formal_mutant[m] else \"--\")\n",
    "        name = \"/\".join(map(mutname, mutants))\n",
    "        plt.title(\"%s mutant\" % name)"
   ]
  },
  {
   "cell_type": "markdown",
   "metadata": {},
   "source": [
    "Note that only one of the pie charts shows an absence of apoptotic state: the SNAI2++/miR203++ double mutant.\n",
    "\n",
    "This can be formally verified with NuSMV, as we did for the Notch++/p53-- mutant:"
   ]
  },
  {
   "cell_type": "code",
   "execution_count": 31,
   "metadata": {},
   "outputs": [
    {
     "data": {
      "text/plain": [
       "{'reach-apoptosis': True, 'stable-apoptosis': False}"
      ]
     },
     "execution_count": 31,
     "metadata": {},
     "output_type": "execute_result"
    }
   ],
   "source": [
    "smv_mut_test = an.lock(SNAI2=1, miR203=1).to_nusmv(skip_init=False)\n",
    "smv_mut_test.add_ctls(ctl_specs)\n",
    "smv_mut_test.verify()"
   ]
  },
  {
   "cell_type": "markdown",
   "metadata": {
    "collapsed": true
   },
   "source": [
    "# Anticipated Results\n",
    "\n",
    "With this protocol, we showed how the Python interface and Jupyter integration of GINsim, bioLQM, MaBoSS, and Pint ease the delineation of sophisticated re-executable computational analyses of qualitative models of biological networks, combining and chaining different software with a unified interface.\n",
    "\n",
    "Leaning on the CoLoMoTo Docker image and on the companion Jupyter notebook, we have demonstrated the benefits of this framework by revisiting the analysis of a recent Boolean model of the signalling network controlling cancer cell metastasis.\n",
    "We could reproduce results previously obtained with GINsim and MaBoSS, which demonstrate that the Notch++/p53-- double mutant can suppress the apoptotic outcome.\n",
    "Furthermore, a formal analysis of trajectories with Pint enabled us to deduce novel \"anti-apoptotic\" combinations of mutations, including a triple mutant that forbids even transient activation of apoptosis, which were subsequently quantified using MaBoSS.\n",
    "\n",
    "\n",
    "The resulting combinations of mutations point to potential synergistic genetic interactions underlying uncontrolled tumour proliferation.\n",
    "These combinations would deserve further analysis, in particular regarding potential correlations with specific clinical outcomes.\n",
    "For example, one could check whether the loss of apoptosis triggering correlates with higher tumour grades.\n",
    "\n",
    "Similar computational analyses could be performed to predict combinations of perturbations enforcing the existence of a given stable phenotype, *e.g.* apoptosis, which could then serve as a basis to design novel therapeutic strategies.\n",
    "\n",
    "\n",
    "# Conflict of Interest Statement\n",
    "\n",
    "The authors declare that the research was conducted in the absence of any commercial or financial relationships that could be construed as a potential conflict of interest.\n",
    "\n",
    "# Author Contributions\n",
    "\n",
    "NL, AN, CH, LP implemented the necessary Python modules, their integration\n",
    "in the Jupyter interface, and the Docker image.\n",
    "NL, AN, GS, DT, AZ, LC, LP participated to the general design of the notebook.\n",
    "All authors participated to the writing of the article.\n",
    "\n",
    "# Funding\n",
    "\n",
    "DT and CH acknowledge support from the  French Plan Cancer, in the context of the projects CoMET (2014-2017) and SYSTAIM (2015-2019).\n",
    "DT and AN acknowledge support from the French  Agence Nationale pour la\n",
    "Recherche (ANR), in the context of the project SCAPIN [ANR-15-CE15-0006-01].\n",
    "AZ and LC acknowledge support from ITMO Cancer, in the context of the INVADE grant (Call Systems Biology 2012), and\n",
    "from the EU ERACoSysMed programme, in the context of the COLOSYS project.\n",
    "AZ, LC, and LP acknowledge support from the ANR in context of the ANR-FNR project AlgoReCell [ANR-16-CE12-0034].\n",
    "LP acknowledge support from Paris Ile-de-France Region (DIM RFSI) and\n",
    "Labex DigiCosme [ANR-11-LABEX-0045-DIGICOSME] operated by ANR as part of the program \n",
    "\"Investissement d'Avenir\" Idex Paris-Saclay [ANR-11-IDEX-0003-02]."
   ]
  },
  {
   "cell_type": "markdown",
   "metadata": {
    "nbconvert_ignore": 1
   },
   "source": [
    "# Bibliography\n",
    "\n",
    "<small>Abou-Jaoudé, W., Monteiro, P. T., Naldi, A., Grandclaudon, M., Soumelis, V., Chaouiya, C., et al. (2015). Model checking to assess t-helper cell plasticity. <em>Front. Bioeng. Biotechnol.</em> 2, 86. doi:<a href=\"https://doi.org/10.3389/fbioe.2014.00086\">10.3389/fbioe.2014.00086</a>.</small>\n",
    "\n",
    "<small>Cimatti, A., Clarke, E., Giunchiglia, E., Giunchiglia, F., Pistore, M., Roveri, M., et al. (2002). “NuSMV 2: An opensource tool for symbolic model checking,” in <em>Computer aided verification</em> Lect. notes comput. sci., 241–268. doi:<a href=\"https://doi.org/10.1007/3-540-45657-0_29\">10.1007/3-540-45657-0_29</a>.</small>\n",
    "\n",
    "<small>Clarke, E. M., and Emerson, E. A. (1981). Design and synthesis of synchronization skeletons using branching-time temporal logic. in <em>Logic of programs</em>, 52–71. doi:<a href=\"https://doi.org/10.1007/BFb0025774\">10.1007/BFb0025774</a>.</small>\n",
    "\n",
    "<small>Cohen, D. P. A., Martignetti, L., Robine, S., Barillot, E., Zinovyev, A., and Calzone, L. (2015). Mathematical modelling of molecular pathways enabling tumour cell invasion and migration. <em>PLoS Comput. Biol.</em> 11, e1004571. doi:<a href=\"https://doi.org/10.1371/journal.pcbi.1004571\">10.1371/journal.pcbi.1004571</a>.</small>\n",
    "\n",
    "<small>Collombet, S., Oevelen, C. van, Sardina Ortega, J. L., Abou-Jaoudé, W., Di Stefano, B., Thomas-Chollier, M., et al. (2017). Logical modeling of lymphoid and myeloid cell specification and transdifferentiation. <em>Proc. Natl. Acad. Sci.</em> 114, 5792–5799. doi:<a href=\"https://doi.org/10.1073/pnas.1610622114\">10.1073/pnas.1610622114</a>.</small>\n",
    "\n",
    "<small>Helikar, T., Kowal, B., McClenathan, S., Bruckner, M., Rowley, T., Madrahimov, A., et al. (2012). The cell collective: Toward an open and collaborative approach to systems biology. <em>BMC Syst. Biol.</em> 6, 96. doi:<a href=\"https://doi.org/10.1186/1752-0509-6-96\">10.1186/1752-0509-6-96</a>.</small>\n",
    "\n",
    "<small>Klarner, H., Streck, A., and Siebert, H. (2017). PyBoolNet: A python package for the generation, analysis and visualization of boolean networks. <em>Bioinformatics</em> 33, 770–772. doi:<a href=\"https://doi.org/10.1093/bioinformatics/btw682\">10.1093/bioinformatics/btw682</a>.</small>\n",
    "\n",
    "<small>Naldi, A. (2018). bioLQM: a java library for the manipulation and conversion of Logical Qualitative Models of biological networks. <em>bioRxiv</em>. doi:<a href=\"https://doi.org/10.1101/287011\">10.1101/287011</a>.</small>\n",
    "\n",
    "<small>Naldi, A., Berenguier, D., Fauré, A., Lopez, F., Thieffry, D., and Chaouiya, C. (2009). Logical modelling of regulatory networks with GINsim 2.3. <em>BioSystems</em> 97, 134–9. doi:<a href=\"https://doi.org/10.1016/j.biosystems.2009.04.008\">10.1016/j.biosystems.2009.04.008</a>.</small>\n",
    "\n",
    "<small>Naldi, A., Hernandez, C., Abou-Jaoudé, W., Monteiro, P. T., Chaouiya, C., and Thieffry, D. (2018a). Logical modelling and analysis of cellular regulatory networks with GINsim 3.0. <em>Front. Physiol.</em> doi:<a href=\"https://doi.org/10.3389/fphys.2018.00646\">10.3389/fphys.2018.00646</a>.</small>\n",
    "\n",
    "<small>Naldi, A., Hernandez, C., Levy, N., Stoll, G., Monteiro, P. T., Chaouiya, C., et al. (2018b). The CoLoMoTo Interactive Notebook: Accessible and Reproducible Computational Analyses for Qualitative Biological Networks. <em>Front. Physiol.</em> doi:<a href=\"https://doi.org/10.3389/fphys.2018.00680\">10.3389/fphys.2018.00680</a>.</small>\n",
    "\n",
    "<small>Paulevé, L. (2017). Pint: a static analyzer for transient dynamics of qualitative networks with IPython interface. in <em>CMSB 2017 - 15th conference on Computational Methods for Systems Biology</em> Lect. notes comput. sci., 309–316. doi:<a href=\"https://doi.org/10.1007/978-3-319-67471-1_20\">10.1007/978-3-319-67471-1_20</a>.</small>\n",
    "\n",
    "<small>Stoll, G., Caron, B., Viara, E., Dugourd, A., Zinovyev, A., Naldi, A., et al. (2017). MaBoSS 2.0: an environment for stochastic Boolean modeling. <em>Bioinformatics</em> 33, 2226–2228. doi:<a href=\"https://doi.org/10.1093/bioinformatics/btx123\">10.1093/bioinformatics/btx123</a>.</small>\n",
    "\n",
    "<small>Zañudo, R., Jorge G. T. AND Albert (2015). Cell fate reprogramming by control of intracellular network dynamics. <em>PLOS Comput. Biol.</em> 11, 1–24. doi:<a href=\"https://doi.org/10.1371/journal.pcbi.1004193\">10.1371/journal.pcbi.1004193</a>.</small>\n"
   ]
  }
 ],
 "metadata": {
  "kernelspec": {
   "display_name": "Python 3",
   "language": "python",
   "name": "python3"
  },
  "language_info": {
   "codemirror_mode": {
    "name": "ipython",
    "version": 3
   },
   "file_extension": ".py",
   "mimetype": "text/x-python",
   "name": "python",
   "nbconvert_exporter": "python",
   "pygments_lexer": "ipython3",
   "version": "3.7.7"
  },
  "widgets": {
   "application/vnd.jupyter.widget-state+json": {
    "state": {
     "007d708ea0b148f0b97d4470c16f7d39": {
      "model_module": "@jupyter-widgets/controls",
      "model_module_version": "1.0.0",
      "model_name": "SelectMultipleModel",
      "state": {
       "_options_labels": [
        "ECMicroenv",
        "DNAdamage",
        "Metastasis",
        "Migration",
        "Invasion",
        "EMT",
        "Apoptosis",
        "CellCycleArrest",
        "GF",
        "TGFbeta",
        "p21",
        "CDH1",
        "CDH2",
        "VIM",
        "TWIST1",
        "SNAI1",
        "SNAI2",
        "ZEB1",
        "ZEB2",
        "AKT1",
        "DKK1",
        "CTNNB1",
        "NICD",
        "p63",
        "p53",
        "p73",
        "miR200",
        "miR203",
        "miR34",
        "AKT2",
        "ERK",
        "SMAD"
       ],
       "description": "Nodes",
       "index": [],
       "layout": "IPY_MODEL_ab677750f14c4cf89f6a6962bd6e2604",
       "rows": 5,
       "style": "IPY_MODEL_1e86c920e65d429599d64768e9d93424"
      }
     },
     "00b3810ef38e402db9019bc81e39ebdd": {
      "model_module": "@jupyter-widgets/controls",
      "model_module_version": "1.0.0",
      "model_name": "DescriptionStyleModel",
      "state": {
       "description_width": ""
      }
     },
     "0367006a3911402dad78eed69d930cc8": {
      "model_module": "@jupyter-widgets/base",
      "model_module_version": "1.0.0",
      "model_name": "LayoutModel",
      "state": {}
     },
     "0483a405e7c04fd5b98a6b84af792b48": {
      "model_module": "@jupyter-widgets/controls",
      "model_module_version": "1.0.0",
      "model_name": "ButtonModel",
      "state": {
       "description": "Ok",
       "layout": "IPY_MODEL_0367006a3911402dad78eed69d930cc8",
       "style": "IPY_MODEL_526194af00f747d4a9a60f8c2a8bae90"
      }
     },
     "095f6366bc134d45a93a4d12b8587264": {
      "model_module": "@jupyter-widgets/controls",
      "model_module_version": "1.0.0",
      "model_name": "DescriptionStyleModel",
      "state": {
       "description_width": ""
      }
     },
     "0bd997ccbe244083b99dc00703bae062": {
      "model_module": "@jupyter-widgets/controls",
      "model_module_version": "1.0.0",
      "model_name": "DescriptionStyleModel",
      "state": {
       "description_width": ""
      }
     },
     "14a0ba1e2bb54c5089ee2fce1661ac27": {
      "model_module": "@jupyter-widgets/controls",
      "model_module_version": "1.0.0",
      "model_name": "SelectMultipleModel",
      "state": {
       "_options_labels": [
        "ECMicroenv",
        "DNAdamage",
        "Metastasis",
        "Migration",
        "Invasion",
        "EMT",
        "Apoptosis",
        "CellCycleArrest",
        "GF",
        "TGFbeta",
        "p21",
        "CDH1",
        "CDH2",
        "VIM",
        "TWIST1",
        "SNAI1",
        "SNAI2",
        "ZEB1",
        "ZEB2",
        "AKT1",
        "DKK1",
        "CTNNB1",
        "NICD",
        "p63",
        "p53",
        "p73",
        "miR200",
        "miR203",
        "miR34",
        "AKT2",
        "ERK",
        "SMAD"
       ],
       "description": "Nodes",
       "index": [
        0,
        1
       ],
       "layout": "IPY_MODEL_f996b24283874eac9108f978497ca847",
       "rows": 5,
       "style": "IPY_MODEL_8bc6899014054516a3215e63fb016f37"
      }
     },
     "188f45061d2c45e3bea32673d6bf18f8": {
      "model_module": "@jupyter-widgets/controls",
      "model_module_version": "1.0.0",
      "model_name": "TextModel",
      "state": {
       "description": "istate",
       "layout": "IPY_MODEL_201567efe22d4781ab9081dd5e904200",
       "style": "IPY_MODEL_00b3810ef38e402db9019bc81e39ebdd"
      }
     },
     "1aac458170cf4c6f9805e597745b4bda": {
      "model_module": "@jupyter-widgets/controls",
      "model_module_version": "1.0.0",
      "model_name": "ButtonModel",
      "state": {
       "description": "Ok",
       "layout": "IPY_MODEL_3d158b4693f54103843ef8d709931efa",
       "style": "IPY_MODEL_9754f6d4b56f406a83dc8adadb359455"
      }
     },
     "1be5135161254d439da1de6646f4233a": {
      "model_module": "@jupyter-widgets/controls",
      "model_module_version": "1.0.0",
      "model_name": "SelectMultipleModel",
      "state": {
       "_options_labels": [
        "ECMicroenv",
        "DNAdamage",
        "Metastasis",
        "Migration",
        "Invasion",
        "EMT",
        "Apoptosis",
        "CellCycleArrest",
        "GF",
        "TGFbeta",
        "p21",
        "CDH1",
        "CDH2",
        "VIM",
        "TWIST1",
        "SNAI1",
        "SNAI2",
        "ZEB1",
        "ZEB2",
        "AKT1",
        "DKK1",
        "CTNNB1",
        "NICD",
        "p63",
        "p53",
        "p73",
        "miR200",
        "miR203",
        "miR34",
        "AKT2",
        "ERK",
        "SMAD"
       ],
       "description": "Nodes",
       "index": [],
       "layout": "IPY_MODEL_f16073116bc546b7a76ced20fb5e627b",
       "rows": 5,
       "style": "IPY_MODEL_0bd997ccbe244083b99dc00703bae062"
      }
     },
     "1e86c920e65d429599d64768e9d93424": {
      "model_module": "@jupyter-widgets/controls",
      "model_module_version": "1.0.0",
      "model_name": "DescriptionStyleModel",
      "state": {
       "description_width": ""
      }
     },
     "201567efe22d4781ab9081dd5e904200": {
      "model_module": "@jupyter-widgets/base",
      "model_module_version": "1.0.0",
      "model_name": "LayoutModel",
      "state": {}
     },
     "233adc84ef7a47bbbd419b3b70f5ccd9": {
      "model_module": "@jupyter-widgets/controls",
      "model_module_version": "1.0.0",
      "model_name": "DescriptionStyleModel",
      "state": {
       "description_width": ""
      }
     },
     "24690a0b54af448297b8a24f9312a325": {
      "model_module": "@jupyter-widgets/controls",
      "model_module_version": "1.0.0",
      "model_name": "ButtonModel",
      "state": {
       "description": "Ok",
       "layout": "IPY_MODEL_ae3898cb5d71440ea7d9d48879807c83",
       "style": "IPY_MODEL_b3970df4ecb1486f9dd8564eaf1f4c8b"
      }
     },
     "2786847c6bbe421693e5a3cbf7947392": {
      "model_module": "@jupyter-widgets/controls",
      "model_module_version": "1.0.0",
      "model_name": "ButtonModel",
      "state": {
       "description": "Ok",
       "layout": "IPY_MODEL_4ace1d9448b141ba808e6bc16b42e475",
       "style": "IPY_MODEL_87d85a8e6c9b4797b1c492928e50f6e2"
      }
     },
     "2cae4c9113294bfc954b0aa74d06cd07": {
      "model_module": "@jupyter-widgets/controls",
      "model_module_version": "1.0.0",
      "model_name": "ButtonModel",
      "state": {
       "description": "Ok",
       "layout": "IPY_MODEL_c7b17e48442742168a59c39aa4a359bb",
       "style": "IPY_MODEL_91fcb16addee486fbe20642a715545dc"
      }
     },
     "32bbd9c092214244b3e3b3ce6361868a": {
      "model_module": "@jupyter-widgets/base",
      "model_module_version": "1.0.0",
      "model_name": "LayoutModel",
      "state": {}
     },
     "3d158b4693f54103843ef8d709931efa": {
      "model_module": "@jupyter-widgets/base",
      "model_module_version": "1.0.0",
      "model_name": "LayoutModel",
      "state": {}
     },
     "3f02a34cc1dd47d78d7e109b3d3d75ff": {
      "model_module": "@jupyter-widgets/base",
      "model_module_version": "1.0.0",
      "model_name": "LayoutModel",
      "state": {}
     },
     "40c36584c854402896c8200d116a3ed7": {
      "model_module": "@jupyter-widgets/base",
      "model_module_version": "1.0.0",
      "model_name": "LayoutModel",
      "state": {}
     },
     "43c0979831a04a299f9f59446a90fd4c": {
      "model_module": "@jupyter-widgets/base",
      "model_module_version": "1.0.0",
      "model_name": "LayoutModel",
      "state": {}
     },
     "4ace1d9448b141ba808e6bc16b42e475": {
      "model_module": "@jupyter-widgets/base",
      "model_module_version": "1.0.0",
      "model_name": "LayoutModel",
      "state": {}
     },
     "4b7a569b0cd9491daf6d693cc49b8239": {
      "model_module": "@jupyter-widgets/controls",
      "model_module_version": "1.0.0",
      "model_name": "ButtonModel",
      "state": {
       "description": "Ok",
       "layout": "IPY_MODEL_d0befbb9fd0d4534bd983f32958fee8d",
       "style": "IPY_MODEL_ad20b84a5c434b10b838772e63953680"
      }
     },
     "4b991774aae5403083602d7e12a4caeb": {
      "model_module": "@jupyter-widgets/base",
      "model_module_version": "1.0.0",
      "model_name": "LayoutModel",
      "state": {}
     },
     "526194af00f747d4a9a60f8c2a8bae90": {
      "model_module": "@jupyter-widgets/controls",
      "model_module_version": "1.0.0",
      "model_name": "ButtonStyleModel",
      "state": {}
     },
     "5bb8e42c007c4985860a12799dc162dc": {
      "model_module": "@jupyter-widgets/controls",
      "model_module_version": "1.0.0",
      "model_name": "SelectMultipleModel",
      "state": {
       "_options_labels": [
        "ECMicroenv",
        "DNAdamage",
        "Metastasis",
        "Migration",
        "Invasion",
        "EMT",
        "Apoptosis",
        "CellCycleArrest",
        "GF",
        "TGFbeta",
        "p21",
        "CDH1",
        "CDH2",
        "VIM",
        "TWIST1",
        "SNAI1",
        "SNAI2",
        "ZEB1",
        "ZEB2",
        "AKT1",
        "DKK1",
        "CTNNB1",
        "NICD",
        "p63",
        "p53",
        "p73",
        "miR200",
        "miR203",
        "miR34",
        "AKT2",
        "ERK",
        "SMAD"
       ],
       "description": "Nodes",
       "index": [],
       "layout": "IPY_MODEL_795baae23a7e4fd599d4b7451482b278",
       "rows": 5,
       "style": "IPY_MODEL_944e2da5372840218ab815d634bafed5"
      }
     },
     "5c387e84c91448a8aac4eb9e639ce6da": {
      "model_module": "@jupyter-widgets/controls",
      "model_module_version": "1.0.0",
      "model_name": "TextModel",
      "state": {
       "description": "istate",
       "layout": "IPY_MODEL_3f02a34cc1dd47d78d7e109b3d3d75ff",
       "style": "IPY_MODEL_896ecb417ba54f7a87d51a1d8428dd65",
       "value": "[0.5, 0.5]"
      }
     },
     "604689af94f641889a4958ad5f1bdd9e": {
      "model_module": "@jupyter-widgets/controls",
      "model_module_version": "1.0.0",
      "model_name": "ButtonStyleModel",
      "state": {}
     },
     "623f7775b8b64b6d9d647ea5a3703c73": {
      "model_module": "@jupyter-widgets/controls",
      "model_module_version": "1.0.0",
      "model_name": "TextModel",
      "state": {
       "description": "istate",
       "layout": "IPY_MODEL_af488fd7d703460eaf577082caa40854",
       "style": "IPY_MODEL_655534602e3448ce8043e28a62e82fea",
       "value": "[0.5, 0.5]"
      }
     },
     "655534602e3448ce8043e28a62e82fea": {
      "model_module": "@jupyter-widgets/controls",
      "model_module_version": "1.0.0",
      "model_name": "DescriptionStyleModel",
      "state": {
       "description_width": ""
      }
     },
     "766503f53527406ca29faddd1b32f1fc": {
      "model_module": "@jupyter-widgets/base",
      "model_module_version": "1.0.0",
      "model_name": "LayoutModel",
      "state": {}
     },
     "795baae23a7e4fd599d4b7451482b278": {
      "model_module": "@jupyter-widgets/base",
      "model_module_version": "1.0.0",
      "model_name": "LayoutModel",
      "state": {}
     },
     "7982929fbfdb40bcb94424e51a25bf97": {
      "model_module": "@jupyter-widgets/controls",
      "model_module_version": "1.0.0",
      "model_name": "DescriptionStyleModel",
      "state": {
       "description_width": ""
      }
     },
     "7f299276f1ae40c9ada3c55242e2b87e": {
      "model_module": "@jupyter-widgets/controls",
      "model_module_version": "1.0.0",
      "model_name": "DescriptionStyleModel",
      "state": {
       "description_width": ""
      }
     },
     "811f8d86841d4899948197dffcda8a0f": {
      "model_module": "@jupyter-widgets/controls",
      "model_module_version": "1.0.0",
      "model_name": "SelectMultipleModel",
      "state": {
       "_options_labels": [
        "ECMicroenv",
        "DNAdamage",
        "Metastasis",
        "Migration",
        "Invasion",
        "EMT",
        "Apoptosis",
        "CellCycleArrest",
        "GF",
        "TGFbeta",
        "p21",
        "CDH1",
        "CDH2",
        "VIM",
        "TWIST1",
        "SNAI1",
        "SNAI2",
        "ZEB1",
        "ZEB2",
        "AKT1",
        "DKK1",
        "CTNNB1",
        "NICD",
        "p63",
        "p53",
        "p73",
        "miR200",
        "miR203",
        "miR34",
        "AKT2",
        "ERK",
        "SMAD"
       ],
       "description": "Nodes",
       "index": [],
       "layout": "IPY_MODEL_4b991774aae5403083602d7e12a4caeb",
       "rows": 5,
       "style": "IPY_MODEL_095f6366bc134d45a93a4d12b8587264"
      }
     },
     "818574fdde984b94a182dc219d5d0f5f": {
      "model_module": "@jupyter-widgets/controls",
      "model_module_version": "1.0.0",
      "model_name": "DescriptionStyleModel",
      "state": {
       "description_width": ""
      }
     },
     "8640bbcf640649b3919cdb74542fb38d": {
      "model_module": "@jupyter-widgets/controls",
      "model_module_version": "1.0.0",
      "model_name": "SelectMultipleModel",
      "state": {
       "_options_labels": [
        "ECMicroenv",
        "DNAdamage",
        "Metastasis",
        "Migration",
        "Invasion",
        "EMT",
        "Apoptosis",
        "CellCycleArrest",
        "GF",
        "TGFbeta",
        "p21",
        "CDH1",
        "CDH2",
        "VIM",
        "TWIST1",
        "SNAI1",
        "SNAI2",
        "ZEB1",
        "ZEB2",
        "AKT1",
        "DKK1",
        "CTNNB1",
        "NICD",
        "p63",
        "p53",
        "p73",
        "miR200",
        "miR203",
        "miR34",
        "AKT2",
        "ERK",
        "SMAD"
       ],
       "description": "Nodes",
       "index": [
        0,
        1
       ],
       "layout": "IPY_MODEL_900dec63f75e4b2793ecf154a5002777",
       "rows": 5,
       "style": "IPY_MODEL_9f716c9b1d9046f5baa59ceddd86e776"
      }
     },
     "87d85a8e6c9b4797b1c492928e50f6e2": {
      "model_module": "@jupyter-widgets/controls",
      "model_module_version": "1.0.0",
      "model_name": "ButtonStyleModel",
      "state": {}
     },
     "896ecb417ba54f7a87d51a1d8428dd65": {
      "model_module": "@jupyter-widgets/controls",
      "model_module_version": "1.0.0",
      "model_name": "DescriptionStyleModel",
      "state": {
       "description_width": ""
      }
     },
     "8bc6899014054516a3215e63fb016f37": {
      "model_module": "@jupyter-widgets/controls",
      "model_module_version": "1.0.0",
      "model_name": "DescriptionStyleModel",
      "state": {
       "description_width": ""
      }
     },
     "8ffc7dbbe6104eefaa477f1c816ba49e": {
      "model_module": "@jupyter-widgets/controls",
      "model_module_version": "1.0.0",
      "model_name": "TextModel",
      "state": {
       "description": "istate",
       "layout": "IPY_MODEL_32bbd9c092214244b3e3b3ce6361868a",
       "style": "IPY_MODEL_f1fb40aa1052487ea2e5bb4e9372c528"
      }
     },
     "900dec63f75e4b2793ecf154a5002777": {
      "model_module": "@jupyter-widgets/base",
      "model_module_version": "1.0.0",
      "model_name": "LayoutModel",
      "state": {}
     },
     "91fcb16addee486fbe20642a715545dc": {
      "model_module": "@jupyter-widgets/controls",
      "model_module_version": "1.0.0",
      "model_name": "ButtonStyleModel",
      "state": {}
     },
     "944e2da5372840218ab815d634bafed5": {
      "model_module": "@jupyter-widgets/controls",
      "model_module_version": "1.0.0",
      "model_name": "DescriptionStyleModel",
      "state": {
       "description_width": ""
      }
     },
     "94922650fa534755a21bbddc825c61bf": {
      "model_module": "@jupyter-widgets/controls",
      "model_module_version": "1.0.0",
      "model_name": "TextModel",
      "state": {
       "description": "istate",
       "layout": "IPY_MODEL_aa72a3d55fb3437da742e391e5618c3c",
       "style": "IPY_MODEL_ffd5a1522757447e9983c628375991ce"
      }
     },
     "9754f6d4b56f406a83dc8adadb359455": {
      "model_module": "@jupyter-widgets/controls",
      "model_module_version": "1.0.0",
      "model_name": "ButtonStyleModel",
      "state": {}
     },
     "9b9791abaca34c1b84b90bc19ed4d8d7": {
      "model_module": "@jupyter-widgets/controls",
      "model_module_version": "1.0.0",
      "model_name": "TextModel",
      "state": {
       "description": "istate",
       "layout": "IPY_MODEL_b899bebeed694804a6e0ea462100d179",
       "style": "IPY_MODEL_7f299276f1ae40c9ada3c55242e2b87e"
      }
     },
     "9f716c9b1d9046f5baa59ceddd86e776": {
      "model_module": "@jupyter-widgets/controls",
      "model_module_version": "1.0.0",
      "model_name": "DescriptionStyleModel",
      "state": {
       "description_width": ""
      }
     },
     "a8fe1e57db99472e98942afce42069f6": {
      "model_module": "@jupyter-widgets/base",
      "model_module_version": "1.0.0",
      "model_name": "LayoutModel",
      "state": {}
     },
     "aa72a3d55fb3437da742e391e5618c3c": {
      "model_module": "@jupyter-widgets/base",
      "model_module_version": "1.0.0",
      "model_name": "LayoutModel",
      "state": {}
     },
     "ab677750f14c4cf89f6a6962bd6e2604": {
      "model_module": "@jupyter-widgets/base",
      "model_module_version": "1.0.0",
      "model_name": "LayoutModel",
      "state": {}
     },
     "ad20b84a5c434b10b838772e63953680": {
      "model_module": "@jupyter-widgets/controls",
      "model_module_version": "1.0.0",
      "model_name": "ButtonStyleModel",
      "state": {}
     },
     "ae3898cb5d71440ea7d9d48879807c83": {
      "model_module": "@jupyter-widgets/base",
      "model_module_version": "1.0.0",
      "model_name": "LayoutModel",
      "state": {}
     },
     "af488fd7d703460eaf577082caa40854": {
      "model_module": "@jupyter-widgets/base",
      "model_module_version": "1.0.0",
      "model_name": "LayoutModel",
      "state": {}
     },
     "b00c17d197ce44c09e07c4dfec2ef00b": {
      "model_module": "@jupyter-widgets/controls",
      "model_module_version": "1.0.0",
      "model_name": "TextModel",
      "state": {
       "description": "istate",
       "layout": "IPY_MODEL_766503f53527406ca29faddd1b32f1fc",
       "style": "IPY_MODEL_818574fdde984b94a182dc219d5d0f5f",
       "value": "[0.5, 0.5]"
      }
     },
     "b1d9d55a7b664057848aa647e61abb5a": {
      "model_module": "@jupyter-widgets/controls",
      "model_module_version": "1.0.0",
      "model_name": "SelectMultipleModel",
      "state": {
       "_options_labels": [
        "ECMicroenv",
        "DNAdamage",
        "Metastasis",
        "Migration",
        "Invasion",
        "EMT",
        "Apoptosis",
        "CellCycleArrest",
        "GF",
        "TGFbeta",
        "p21",
        "CDH1",
        "CDH2",
        "VIM",
        "TWIST1",
        "SNAI1",
        "SNAI2",
        "ZEB1",
        "ZEB2",
        "AKT1",
        "DKK1",
        "CTNNB1",
        "NICD",
        "p63",
        "p53",
        "p73",
        "miR200",
        "miR203",
        "miR34",
        "AKT2",
        "ERK",
        "SMAD"
       ],
       "description": "Nodes",
       "index": [
        0,
        1
       ],
       "layout": "IPY_MODEL_40c36584c854402896c8200d116a3ed7",
       "rows": 5,
       "style": "IPY_MODEL_7982929fbfdb40bcb94424e51a25bf97"
      }
     },
     "b3970df4ecb1486f9dd8564eaf1f4c8b": {
      "model_module": "@jupyter-widgets/controls",
      "model_module_version": "1.0.0",
      "model_name": "ButtonStyleModel",
      "state": {}
     },
     "b45e3ad1fcca48578cf26a342da8fc7e": {
      "model_module": "@jupyter-widgets/controls",
      "model_module_version": "1.0.0",
      "model_name": "DescriptionStyleModel",
      "state": {
       "description_width": ""
      }
     },
     "b899bebeed694804a6e0ea462100d179": {
      "model_module": "@jupyter-widgets/base",
      "model_module_version": "1.0.0",
      "model_name": "LayoutModel",
      "state": {}
     },
     "c04cdbec18be4fa8b878be3b2d69ac4b": {
      "model_module": "@jupyter-widgets/controls",
      "model_module_version": "1.0.0",
      "model_name": "SelectMultipleModel",
      "state": {
       "_options_labels": [
        "ECMicroenv",
        "DNAdamage",
        "Metastasis",
        "Migration",
        "Invasion",
        "EMT",
        "Apoptosis",
        "CellCycleArrest",
        "GF",
        "TGFbeta",
        "p21",
        "CDH1",
        "CDH2",
        "VIM",
        "TWIST1",
        "SNAI1",
        "SNAI2",
        "ZEB1",
        "ZEB2",
        "AKT1",
        "DKK1",
        "CTNNB1",
        "NICD",
        "p63",
        "p53",
        "p73",
        "miR200",
        "miR203",
        "miR34",
        "AKT2",
        "ERK",
        "SMAD"
       ],
       "description": "Nodes",
       "index": [
        0,
        1
       ],
       "layout": "IPY_MODEL_43c0979831a04a299f9f59446a90fd4c",
       "rows": 5,
       "style": "IPY_MODEL_233adc84ef7a47bbbd419b3b70f5ccd9"
      }
     },
     "c13d9681e56146118a5f0afb7e0ba6ed": {
      "model_module": "@jupyter-widgets/controls",
      "model_module_version": "1.0.0",
      "model_name": "ButtonModel",
      "state": {
       "description": "Ok",
       "layout": "IPY_MODEL_a8fe1e57db99472e98942afce42069f6",
       "style": "IPY_MODEL_c9db5da92bc942068269002e8e319243"
      }
     },
     "c7b17e48442742168a59c39aa4a359bb": {
      "model_module": "@jupyter-widgets/base",
      "model_module_version": "1.0.0",
      "model_name": "LayoutModel",
      "state": {}
     },
     "c9db5da92bc942068269002e8e319243": {
      "model_module": "@jupyter-widgets/controls",
      "model_module_version": "1.0.0",
      "model_name": "ButtonStyleModel",
      "state": {}
     },
     "cd91040bb27c420ab3a4ba0e15998fed": {
      "model_module": "@jupyter-widgets/controls",
      "model_module_version": "1.0.0",
      "model_name": "TextModel",
      "state": {
       "description": "istate",
       "layout": "IPY_MODEL_ecae73c2b56f47e1b9d18b1f1c2383f4",
       "style": "IPY_MODEL_b45e3ad1fcca48578cf26a342da8fc7e",
       "value": "[0.5, 0.5]"
      }
     },
     "d0befbb9fd0d4534bd983f32958fee8d": {
      "model_module": "@jupyter-widgets/base",
      "model_module_version": "1.0.0",
      "model_name": "LayoutModel",
      "state": {}
     },
     "df85be760b144949942fee30dc6dcc64": {
      "model_module": "@jupyter-widgets/controls",
      "model_module_version": "1.0.0",
      "model_name": "ButtonModel",
      "state": {
       "description": "Ok",
       "layout": "IPY_MODEL_f2b981abf9c84be09d880dd2356aad86",
       "style": "IPY_MODEL_604689af94f641889a4958ad5f1bdd9e"
      }
     },
     "ecae73c2b56f47e1b9d18b1f1c2383f4": {
      "model_module": "@jupyter-widgets/base",
      "model_module_version": "1.0.0",
      "model_name": "LayoutModel",
      "state": {}
     },
     "f16073116bc546b7a76ced20fb5e627b": {
      "model_module": "@jupyter-widgets/base",
      "model_module_version": "1.0.0",
      "model_name": "LayoutModel",
      "state": {}
     },
     "f1fb40aa1052487ea2e5bb4e9372c528": {
      "model_module": "@jupyter-widgets/controls",
      "model_module_version": "1.0.0",
      "model_name": "DescriptionStyleModel",
      "state": {
       "description_width": ""
      }
     },
     "f2b981abf9c84be09d880dd2356aad86": {
      "model_module": "@jupyter-widgets/base",
      "model_module_version": "1.0.0",
      "model_name": "LayoutModel",
      "state": {}
     },
     "f996b24283874eac9108f978497ca847": {
      "model_module": "@jupyter-widgets/base",
      "model_module_version": "1.0.0",
      "model_name": "LayoutModel",
      "state": {}
     },
     "ffd5a1522757447e9983c628375991ce": {
      "model_module": "@jupyter-widgets/controls",
      "model_module_version": "1.0.0",
      "model_name": "DescriptionStyleModel",
      "state": {
       "description_width": ""
      }
     }
    },
    "version_major": 2,
    "version_minor": 0
   }
  }
 },
 "nbformat": 4,
 "nbformat_minor": 2
}
