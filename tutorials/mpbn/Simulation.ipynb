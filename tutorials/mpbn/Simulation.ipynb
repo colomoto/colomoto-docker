{
 "cells": [
  {
   "cell_type": "markdown",
   "id": "140849ff",
   "metadata": {},
   "source": [
    "# Simulation of Most Permissive Boolean networks\n",
    "\n",
    "The module `mpbn.simulation` implements random walks into the Most Permissive (MP) dynamics of a given Boolean networks, for estimating the stationnary distribution.\n",
    "\n",
    "The method is described in the paper [Variable-Depth Simulation of Most Permissive Boolean Networks](https://hal.archives-ouvertes.fr/hal-03704761/file/cmsb22.pdf) by Roncalli et al. (2022).\n",
    "The random walk is performed from a given initial configurations and transition probabilies are computed according to two parameters:\n",
    "- the *permissivity depth* of the transition, where depth 1 corresponds to asynchronous transitions, and further depth characterize the transitions that require permissive interpretation of transitions.\n",
    "- the numer of components that change of value in one transition.\n",
    "The parametrization allow scaling the probability of the transition as a function of these two quantities.\n",
    "\n",
    "This notebook demonstrates how to use to employ the `mpbn.simulation` module. Alternatively, the simulations can be performed using the command line utility `mpbn-sim`. See `mpbn-sim --help` for usage, and https://github.com/bnediction/mpbn/tree/master/examples for examples of configuration files (e.g., [simulation_bladder.json](https://github.com/bnediction/mpbn/blob/master/examples/simulation_bladder.json) and [simulation_i3ffl2.json](https://github.com/bnediction/mpbn/blob/master/examples/simulation_i3ffl2.json) files).\n",
    "\n",
    "Simulations are performed with `estimate_reachable_attractors_probabilities` and `parallel_estimate_reachable_attractors_probabilities` functions. These functions require\n",
    "\n",
    "- a Boolean network `f`, being either a `mpbn.MPBooleanNetwork` object or any object supported by its constructor (e.g., `colomini.minibn.BooleanNetwork` object, Python dictionnary, filename in BoolNet format, GINsim or bioLQM objects)\n",
    "- an initial configuration `x`, being a dictionnary associating components to a Boolean value\n",
    "- a list `A` of attractors reachable from `x`, as obtained with `f.attractors(reachable_from=init)` provided that `f` is a `mpbn.MPBooleanNetwork` object\n",
    "- a number `nb_sims` of trajectories to simulate\n",
    "- a function `depth()` which is called at each simulation step to determine the maximum permissivity depth of transitions to consider\n",
    "- a vector `W` of `n` reals (where `n` is the number of components of `f`) for determining the rate of a transition in function of the number of components that change of value.\n",
    "\n",
    "The simulation returns a dictionnary associating the index of the attrarctor in `A` with its estimated stationnary probability.\n",
    "\n",
    "The function for the `depth` parameter can be generated using:\n",
    "- `constant_maximum_depth(f)`: consider all MP transitions for the BN `f`\n",
    "- `constant_unitary_depth(f)`: consider only (general) asynchronous transitions of `f`\n",
    "- `poly_depth(f, power=1.2)`: random depth with polynomially decreasing probability: if $n$ is the number of components of `f`: it will draw a maximum depth $d$ with probability proportional to $(n-d-1)^{power}$\n",
    "- `reciprocal_depth(f)`:  draw a maximum depth $d$ with probability proportional to $1/d$\n",
    "- `nexponential_depth(f, base=2)`: draw a maximum depth $d$ with probability proportional to `base`$^{-d+1}$\n",
    "\n",
    "The function for the `rate` parameter can be generated using:\n",
    "- `uniform_rates(f)`: constant uniform rate\n",
    "- `fully_asynchronous_rates(f)`: assigns a rate of 1 for transition changing exactly one components, and 0 otherwise\n",
    "- `reciprocal_rates(f)`: assigns a rate of $1/k$ for a transition changing the value of $k$ components\n",
    "- `nexponential_rates(f, base=2)`: assigns a rate of `base`$^{-k-1}$ for a transition changing the value of $k$ components"
   ]
  },
  {
   "cell_type": "code",
   "execution_count": 1,
   "id": "1c317823",
   "metadata": {},
   "outputs": [
    {
     "data": {
      "text/html": [
       "<script type=\"text/javascript\" id=\"colomoto-setup-7846286\" class=\"to-be-removed\">\n",
       "        if (typeof Jupyter != 'undefined') {\n",
       "            \n",
       "function detect_import(cell, module) {\n",
       "    var code = cell.get_text();\n",
       "    code = code.replace(/\\\\\\n/g, \"\");\n",
       "    var lines = code.split(\"\\n\");\n",
       "    var r_simple = new RegExp(\"^(\"+module+\")$\");\n",
       "    var r_alias = new RegExp(\"^\"+module+\"\\\\s+as\\\\s+(\\\\w+)$\");\n",
       "    for (var i = 0; i < lines.length; ++i) {\n",
       "        if (/^import\\s/.test(lines[i])) {\n",
       "            code = lines[i].substr(7);\n",
       "            var parts = code.split(\",\")\n",
       "            for (var j = 0; j < parts.length; ++j) {\n",
       "                code = parts[j].trim();\n",
       "                var m = code.match(r_simple);\n",
       "                if (!m) {\n",
       "                    m = code.match(r_alias);\n",
       "                }\n",
       "                if (m) {\n",
       "                    return m[1];\n",
       "                }\n",
       "            }\n",
       "        }\n",
       "    }\n",
       "    return module;\n",
       "}\n",
       "\n",
       "function colomoto_replace_call(cell, orig, dest, args, comment=false) {\n",
       "    var call_regexp = new RegExp(\"\\\\.\"+orig.replace(\".\",\"\\\\.\")+\"\\\\(\");\n",
       "    var call_replacer = new RegExp(\"\\\\.\"+orig.replace(\".\",\"\\\\.\")\n",
       "                    + \"\\\\(\\\\s*([^\\\\)]*)?\\\\)\");\n",
       "    var code = cell.get_text();\n",
       "    var lines = code.split(\"\\n\");\n",
       "    if (args) {\n",
       "        var strargs = \", \"+args.join(\", \");\n",
       "    } else {\n",
       "        var strargs = \"\";\n",
       "    }\n",
       "    for (var i = 0; i < lines.length; ++i) {\n",
       "        if (call_regexp.test(lines[i])) {\n",
       "            var code = \"\"\n",
       "            if (comment) {\n",
       "                code += \"#\"+lines[i]+\"\\n\";\n",
       "            }\n",
       "            code += lines[i].replace(call_replacer, \".\"+dest+\"($1\"+strargs+\")\")\n",
       "            lines[i] = code;\n",
       "        }\n",
       "    }\n",
       "    cell.set_text(code)\n",
       "}\n",
       "\n",
       "function colomoto_upload(Jupyter, ssid, input, py_callback_name, orig, dest) {\n",
       "\n",
       "    function callback(out_data) {\n",
       "        var cell_element = $(\"#\"+ssid).parents('.cell');\n",
       "        var cell_idx = Jupyter.notebook.get_cell_elements().index(cell_element);\n",
       "        var cell = Jupyter.notebook.get_cell(cell_idx);\n",
       "\n",
       "        var filename = out_data.content.text;\n",
       "\n",
       "        var code = cell.get_text();\n",
       "        code = code.replace(new RegExp(\"\\\\b\" + orig.replace('.', '\\\\.')\n",
       "                    + \"\\\\(\\\\s*((\\\\w+)=[^\\\\)]*)?\\\\)\"),\n",
       "                dest+\"(\\\"\"+filename+\"\\\",$1)\");\n",
       "        code = code.replace('\",)', '\")')\n",
       "        cell.set_text(code);\n",
       "\n",
       "        Jupyter.notebook.select(cell_idx);\n",
       "        Jupyter.notebook.execute_cell_and_select_below();\n",
       "    }\n",
       "\n",
       "    if (! (window.File && window.FileReader && window.FileList && window.Blob)) {\n",
       "        alert(\"Interactive file upload is not supported by your browser.\");\n",
       "        return;\n",
       "    }\n",
       "\n",
       "    input.disabled = true;\n",
       "    input.style.cursor = \"wait\";\n",
       "    input.parentElement.style.cursor = \"wait\";\n",
       "\n",
       "    var f = input.files[0];\n",
       "    var reader = new FileReader();\n",
       "    reader.onload = (function(f) {\n",
       "        return function (e) {\n",
       "            var obj = {\n",
       "                content: e.target.result,\n",
       "                name: f.name\n",
       "            };\n",
       "\n",
       "            //var pycb = py_callback_name+\"(\"+JSON.stringify(obj)+\")\"\n",
       "            // hack/workaround:\n",
       "            // it seems that Jupyter does not like very long lines\n",
       "            // so we split the data in chunks\n",
       "            var chunk_length = 100;\n",
       "            var pycb = \"__colomoto_upload_name = \" + JSON.stringify(obj.name) + \"\\n\";\n",
       "            pycb += \"__colomoto_upload_content = \\\\\\n\";\n",
       "            for (var i = 0; i < obj.content.length; i += chunk_length) {\n",
       "                pycb += \"\\\"\" + obj.content.substr(i, chunk_length)+\"\\\"\\\\\\n\"\n",
       "            }\n",
       "            pycb += \"\\n\"\n",
       "            pycb += py_callback_name+\"({'name':__colomoto_upload_name, 'content': __colomoto_upload_content})\\n\";\n",
       "            pycb += \"del __colomoto_upload_name, __colomoto_upload_content\"\n",
       "\n",
       "            IPython.notebook.kernel.execute(pycb, {iopub: {output: callback}});\n",
       "        };\n",
       "    })(f);\n",
       "    reader.readAsDataURL(f);\n",
       "}\n",
       "\n",
       "function resolve_function(tool_api, funcname) {\n",
       "    if (tool_api.hasOwnProperty(funcname)) {\n",
       "        return tool_api[funcname];\n",
       "    } else {\n",
       "        return window[funcname];\n",
       "    }\n",
       "}\n",
       "\n",
       "function colomoto_extension(Jupyter, ssid, name, menu, toolbar, tool_api) {\n",
       "\n",
       "    function insert_snippet_code(snippet) {\n",
       "        var cell = Jupyter.notebook.get_selected_cell();\n",
       "        Jupyter.notebook.edit_mode();\n",
       "        cell.code_mirror.replaceSelection(snippet, 'around');\n",
       "        //cell.focus_editor();\n",
       "    }\n",
       "\n",
       "    /**\n",
       "        from https://github.com/moble/jupyter_boilerplate/blob/master/main.js\n",
       "    */\n",
       "    function callback_insert_snippet (evt) {\n",
       "        // this (or event.currentTarget, see below) always refers to the DOM\n",
       "        // element the listener was attached to - see\n",
       "        // http://stackoverflow.com/questions/12077859\n",
       "        insert_snippet_code($(evt.currentTarget).data('snippet-code'));\n",
       "    }\n",
       "    function build_menu_element (menu_item_spec, direction) {\n",
       "        // Create the menu item html element\n",
       "        var element = $('<li/>');\n",
       "\n",
       "        if (typeof menu_item_spec == 'string') {\n",
       "            if (menu_item_spec != '---') {\n",
       "                return element.html(menu_item_spec)\n",
       "                        .addClass('ui-state-disabled')\n",
       "                        .attr({\"style\": \"padding:2px .4em\"})\n",
       "                       ;\n",
       "            }\n",
       "            return element.addClass('divider');\n",
       "        }\n",
       "\n",
       "        var a = $('<a/>')\n",
       "            .attr('href', '#')\n",
       "            .html(menu_item_spec.name)\n",
       "            .appendTo(element);\n",
       "        if (menu_item_spec.hasOwnProperty('snippet')) {\n",
       "            var snippet = menu_item_spec.snippet;\n",
       "            if (typeof snippet == 'string' || snippet instanceof String) {\n",
       "                snippet = [snippet];\n",
       "            }\n",
       "            a.attr({\n",
       "                'title' : \"\", // Do not remove this, even though it's empty!\n",
       "                'data-snippet-code' : snippet.join('\\n'),\n",
       "            })\n",
       "            .on('click', callback_insert_snippet)\n",
       "            .addClass('snippet');\n",
       "        }\n",
       "        else if (menu_item_spec.hasOwnProperty('internal-link')) {\n",
       "            a.attr('href', menu_item_spec['internal-link']);\n",
       "        }\n",
       "        else if (menu_item_spec.hasOwnProperty('external-link')) {\n",
       "            a.empty();\n",
       "            a.attr('href', menu_item_spec['external-link']);\n",
       "            a.attr({\n",
       "                'target' : '_blank',\n",
       "                'title' : 'Opens in a new window',\n",
       "            });\n",
       "            $('<i class=\"fa fa-external-link menu-icon pull-right\"/>').appendTo(a);\n",
       "            $('<span/>').html(menu_item_spec.name).appendTo(a);\n",
       "        }\n",
       "\n",
       "        if (menu_item_spec.hasOwnProperty('sub-menu')) {\n",
       "            element\n",
       "                .addClass('dropdown-submenu')\n",
       "                .toggleClass('dropdown-submenu-left', direction === 'left');\n",
       "            var sub_element = $('<ul class=\"dropdown-menu\"/>')\n",
       "                .toggleClass('dropdown-menu-compact', menu_item_spec.overlay === true) // For space-saving menus\n",
       "                .appendTo(element);\n",
       "\n",
       "            var new_direction = (menu_item_spec['sub-menu-direction'] === 'left') ? 'left' : 'right';\n",
       "            for (var j=0; j<menu_item_spec['sub-menu'].length; ++j) {\n",
       "                var sub_menu_item_spec = build_menu_element(menu_item_spec['sub-menu'][j], new_direction);\n",
       "                if(sub_menu_item_spec !== null) {\n",
       "                    sub_menu_item_spec.appendTo(sub_element);\n",
       "                }\n",
       "            }\n",
       "        }\n",
       "\n",
       "        return element;\n",
       "    }\n",
       "\n",
       "    function menu_setup (menu_item_specs, sibling, insert_before_sibling) {\n",
       "        for (var i=0; i<menu_item_specs.length; ++i) {\n",
       "            var menu_item_spec;\n",
       "            if (insert_before_sibling) {\n",
       "                menu_item_spec = menu_item_specs[i];\n",
       "            } else {\n",
       "                menu_item_spec = menu_item_specs[menu_item_specs.length-1-i];\n",
       "            }\n",
       "            var direction = (menu_item_spec['menu-direction'] == 'left') ? 'left' : 'right';\n",
       "            var menu_element = build_menu_element(menu_item_spec, direction);\n",
       "            // We need special properties if this item is in the navbar\n",
       "            if ($(sibling).parent().is('ul.nav.navbar-nav')) {\n",
       "                menu_element\n",
       "                    .addClass('dropdown')\n",
       "                    .removeClass('dropdown-submenu dropdown-submenu-left');\n",
       "                menu_element.children('a')\n",
       "                    .addClass('dropdown-toggle')\n",
       "                    .attr({\n",
       "                        'id': name+'_menu',\n",
       "                        'data-toggle' : 'dropdown',\n",
       "                        'aria-expanded' : 'false'\n",
       "                    });\n",
       "            }\n",
       "\n",
       "            // Insert the menu element into DOM\n",
       "            menu_element[insert_before_sibling ? 'insertBefore': 'insertAfter'](sibling);\n",
       "        }\n",
       "    }\n",
       "    /** end from */\n",
       "\n",
       "\n",
       "    function self_cleanup() {\n",
       "        var cell_element = $(\"script[class='to-be-removed']\").parents('.cell');\n",
       "        var cell_idx = Jupyter.notebook.get_cell_elements().index(cell_element);\n",
       "        var cell = Jupyter.notebook.get_cell(cell_idx);\n",
       "        var to_remove = -1;\n",
       "        for (var i = 0; i < cell.output_area.outputs.length; ++i) {\n",
       "            var oa = cell.output_area.outputs[i];\n",
       "            if (oa.output_type == \"display_data\"\n",
       "                && typeof oa.data[\"text/html\"] != 'undefined'\n",
       "                && oa.data[\"text/html\"].indexOf(' class=\"to-be-removed\"') >= 0) {\n",
       "                to_remove = i;\n",
       "                break;\n",
       "            }\n",
       "        }\n",
       "        if (to_remove == -1) {\n",
       "            console.log(\"cannot find toberemoved\");\n",
       "        } else {\n",
       "            cell.output_area.outputs.splice(to_remove, 1);\n",
       "        }\n",
       "    }\n",
       "\n",
       "    function toolbar_setup(actions) {\n",
       "        var buttons = [];\n",
       "        for (var i = 0; i < actions.length; ++i) {\n",
       "            var setup = actions[i].setup;\n",
       "            if (typeof setup.handler == 'string') {\n",
       "                setup.handler = resolve_function(tool_api, setup.handler);\n",
       "            }\n",
       "            buttons.push(Jupyter.actions.register(actions[i].setup,\n",
       "                actions[i].name, name));\n",
       "        }\n",
       "        $(\"#\"+name+\"-toolbar\").remove();\n",
       "        Jupyter.toolbar.add_buttons_group(buttons, name+\"-toolbar\");\n",
       "    }\n",
       "\n",
       "    function replace_menu_snippets(menu_spec, orig, dest) {\n",
       "        if (menu_spec.hasOwnProperty(\"snippet\")) {\n",
       "            var snippet = menu_spec.snippet;\n",
       "            if (typeof snippet == \"string\" || snippet instanceof String) {\n",
       "                menu_spec[\"snippet\"] = snippet.replace(orig, dest);\n",
       "            } else {\n",
       "                for (var i = 0; i < snippet.length; ++i) {\n",
       "                    menu_spec[\"snippet\"][i] = snippet[i].replace(orig, dest);\n",
       "                }\n",
       "            }\n",
       "        }\n",
       "        if (menu_spec.hasOwnProperty(\"sub-menu\")) {\n",
       "            for (var i = 0; i < menu_spec[\"sub-menu\"].length; ++i) {\n",
       "                replace_menu_snippets(menu_spec[\"sub-menu\"][i], orig, dest);\n",
       "            }\n",
       "        }\n",
       "    }\n",
       "\n",
       "    function load_ipython_extension() {\n",
       "\n",
       "        var mycellelt = $(\"#\"+ssid).parents('.cell');\n",
       "        var myidx = Jupyter.notebook.get_cell_elements().index(mycellelt);\n",
       "        var import_cell = Jupyter.notebook.get_cell(myidx);\n",
       "\n",
       "        var alias = detect_import(import_cell, name);\n",
       "        tool_api.module_alias = alias;\n",
       "        if (alias && alias != name) {\n",
       "            var orig = new RegExp(\"\\\\b\"+name+\"\\\\b\", \"g\");\n",
       "            replace_menu_snippets(menu, orig, alias);\n",
       "        }\n",
       "\n",
       "        if (toolbar) {\n",
       "            toolbar_setup(toolbar);\n",
       "        }\n",
       "\n",
       "        $(\"#\"+name+\"_menu\").parent().remove();\n",
       "        if (menu) {\n",
       "            menu_setup([menu], $(\"#help_menu\").parent(), true);\n",
       "        }\n",
       "\n",
       "        if (tool_api.hasOwnProperty(\"post_install_callback\")) {\n",
       "            tool_api.post_install_callback();\n",
       "        }\n",
       "\n",
       "        setTimeout(self_cleanup, 5000);\n",
       "    };\n",
       "\n",
       "    load_ipython_extension();\n",
       "}\n",
       "\n",
       "function resolve_toolbar_handlers(tool_api, toolbar_spec) {\n",
       "    for (var i = 0; i < toolbar_spec.length; ++i) {\n",
       "        func = resolve_function(tool_api, toolbar_spec[i][\"setup\"][\"handler\"]);\n",
       "        toolbar_spec[i][\"setup\"][\"handler\"] = func;\n",
       "    }\n",
       "    return toolbar_spec\n",
       "}\n",
       "\n",
       "\n",
       "    var minibn_jsapi = {  };\n",
       "    colomoto_extension(Jupyter, \"colomoto-setup-7846286\", \"minibn\", null, null, minibn_jsapi);\n",
       "     }</script>"
      ],
      "text/plain": [
       "<IPython.core.display.HTML object>"
      ]
     },
     "metadata": {},
     "output_type": "display_data"
    }
   ],
   "source": [
    "import mpbn\n",
    "import mpbn.simulation as mpsim\n",
    "from colomoto_jupyter import tabulate # for pretty display"
   ]
  },
  {
   "cell_type": "markdown",
   "id": "cad918ee",
   "metadata": {},
   "source": [
    "## Simple model\n",
    "\n",
    "Let us consider the following simple Boolean network we define with `mpbn.MPBooleanNetwork`:"
   ]
  },
  {
   "cell_type": "code",
   "execution_count": 2,
   "id": "99b12217",
   "metadata": {},
   "outputs": [
    {
     "data": {
      "text/plain": [
       "a <- 1\n",
       "b <- a\n",
       "c <- c|(!a&b)"
      ]
     },
     "execution_count": 2,
     "metadata": {},
     "output_type": "execute_result"
    }
   ],
   "source": [
    "f = mpbn.MPBooleanNetwork({\n",
    "    \"a\": 1,\n",
    "    \"b\": \"a\",\n",
    "    \"c\": \"(!a & b)|c\"\n",
    "})\n",
    "f"
   ]
  },
  {
   "cell_type": "markdown",
   "id": "55d1fd65",
   "metadata": {},
   "source": [
    "Its full most permissive dynamics from the configuration 000 is the following:"
   ]
  },
  {
   "cell_type": "code",
   "execution_count": 3,
   "id": "4e8b93f8",
   "metadata": {},
   "outputs": [
    {
     "data": {
      "text/plain": [
       "{'a': 0, 'b': 0, 'c': 0}"
      ]
     },
     "execution_count": 3,
     "metadata": {},
     "output_type": "execute_result"
    }
   ],
   "source": [
    "x = f.zero()\n",
    "x"
   ]
  },
  {
   "cell_type": "code",
   "execution_count": 4,
   "id": "2ab7732a",
   "metadata": {},
   "outputs": [
    {
     "name": "stdout",
     "output_type": "stream",
     "text": [
      "# computing graph layout...\n"
     ]
    },
    {
     "data": {
      "image/svg+xml": [
       "<?xml version=\"1.0\" encoding=\"UTF-8\" standalone=\"no\"?>\n",
       "<!DOCTYPE svg PUBLIC \"-//W3C//DTD SVG 1.1//EN\"\n",
       " \"http://www.w3.org/Graphics/SVG/1.1/DTD/svg11.dtd\">\n",
       "<!-- Generated by graphviz version 7.0.2 (20221119.0110)\n",
       " -->\n",
       "<!-- Pages: 1 -->\n",
       "<svg width=\"199pt\" height=\"188pt\"\n",
       " viewBox=\"0.00 0.00 199.00 188.00\" xmlns=\"http://www.w3.org/2000/svg\" xmlns:xlink=\"http://www.w3.org/1999/xlink\">\n",
       "<g id=\"graph0\" class=\"graph\" transform=\"scale(1 1) rotate(0) translate(4 184)\">\n",
       "<polygon fill=\"white\" stroke=\"none\" points=\"-4,4 -4,-184 195,-184 195,4 -4,4\"/>\n",
       "<!-- 000 -->\n",
       "<g id=\"node1\" class=\"node\">\n",
       "<title>000</title>\n",
       "<ellipse fill=\"none\" stroke=\"black\" cx=\"109\" cy=\"-162\" rx=\"27\" ry=\"18\"/>\n",
       "<text text-anchor=\"middle\" x=\"109\" y=\"-158.3\" font-family=\"Times,serif\" font-size=\"14.00\">000</text>\n",
       "</g>\n",
       "<!-- 100 -->\n",
       "<g id=\"node2\" class=\"node\">\n",
       "<title>100</title>\n",
       "<ellipse fill=\"none\" stroke=\"black\" cx=\"27\" cy=\"-90\" rx=\"27\" ry=\"18\"/>\n",
       "<text text-anchor=\"middle\" x=\"27\" y=\"-86.3\" font-family=\"Times,serif\" font-size=\"14.00\">100</text>\n",
       "</g>\n",
       "<!-- 000&#45;&gt;100 -->\n",
       "<g id=\"edge1\" class=\"edge\">\n",
       "<title>000&#45;&gt;100</title>\n",
       "<path fill=\"none\" stroke=\"black\" d=\"M92.8,-147.17C81.12,-137.2 65.14,-123.56 51.85,-112.21\"/>\n",
       "<polygon fill=\"black\" stroke=\"black\" points=\"54.2,-109.61 44.32,-105.78 49.65,-114.94 54.2,-109.61\"/>\n",
       "</g>\n",
       "<!-- 101 -->\n",
       "<g id=\"node3\" class=\"node\">\n",
       "<title>101</title>\n",
       "<ellipse fill=\"none\" stroke=\"black\" cx=\"137\" cy=\"-90\" rx=\"27\" ry=\"18\"/>\n",
       "<text text-anchor=\"middle\" x=\"137\" y=\"-86.3\" font-family=\"Times,serif\" font-size=\"14.00\">101</text>\n",
       "</g>\n",
       "<!-- 000&#45;&gt;101 -->\n",
       "<g id=\"edge2\" class=\"edge\">\n",
       "<title>000&#45;&gt;101</title>\n",
       "<path fill=\"none\" stroke=\"black\" d=\"M115.64,-144.41C118.77,-136.57 122.6,-126.99 126.15,-118.13\"/>\n",
       "<polygon fill=\"black\" stroke=\"black\" points=\"129.39,-119.46 129.85,-108.88 122.89,-116.86 129.39,-119.46\"/>\n",
       "</g>\n",
       "<!-- 110 -->\n",
       "<g id=\"node4\" class=\"node\">\n",
       "<title>110</title>\n",
       "<ellipse fill=\"none\" stroke=\"black\" cx=\"46\" cy=\"-18\" rx=\"27\" ry=\"18\"/>\n",
       "<text text-anchor=\"middle\" x=\"46\" y=\"-14.3\" font-family=\"Times,serif\" font-size=\"14.00\">110</text>\n",
       "</g>\n",
       "<!-- 000&#45;&gt;110 -->\n",
       "<g id=\"edge3\" class=\"edge\">\n",
       "<title>000&#45;&gt;110</title>\n",
       "<path fill=\"none\" stroke=\"black\" d=\"M101.65,-144.43C90.89,-120.17 70.72,-74.71 57.85,-45.7\"/>\n",
       "<polygon fill=\"black\" stroke=\"black\" points=\"61.17,-44.57 53.92,-36.85 54.77,-47.41 61.17,-44.57\"/>\n",
       "</g>\n",
       "<!-- 111 -->\n",
       "<g id=\"node5\" class=\"node\">\n",
       "<title>111</title>\n",
       "<ellipse fill=\"none\" stroke=\"black\" cx=\"164\" cy=\"-18\" rx=\"27\" ry=\"18\"/>\n",
       "<text text-anchor=\"middle\" x=\"164\" y=\"-14.3\" font-family=\"Times,serif\" font-size=\"14.00\">111</text>\n",
       "</g>\n",
       "<!-- 000&#45;&gt;111 -->\n",
       "<g id=\"edge4\" class=\"edge\">\n",
       "<title>000&#45;&gt;111</title>\n",
       "<path fill=\"none\" stroke=\"black\" d=\"M129.95,-150.24C145.01,-141.22 164.16,-126.8 173,-108 182.04,-88.77 178.85,-64.67 173.91,-46.41\"/>\n",
       "<polygon fill=\"black\" stroke=\"black\" points=\"177.33,-45.61 171.06,-37.06 170.64,-47.65 177.33,-45.61\"/>\n",
       "</g>\n",
       "<!-- 100&#45;&gt;110 -->\n",
       "<g id=\"edge5\" class=\"edge\">\n",
       "<title>100&#45;&gt;110</title>\n",
       "<path fill=\"none\" stroke=\"black\" d=\"M31.6,-72.05C33.65,-64.49 36.13,-55.37 38.44,-46.85\"/>\n",
       "<polygon fill=\"black\" stroke=\"black\" points=\"41.8,-47.82 41.05,-37.25 35.05,-45.98 41.8,-47.82\"/>\n",
       "</g>\n",
       "<!-- 101&#45;&gt;111 -->\n",
       "<g id=\"edge6\" class=\"edge\">\n",
       "<title>101&#45;&gt;111</title>\n",
       "<path fill=\"none\" stroke=\"black\" d=\"M143.54,-72.05C146.52,-64.32 150.13,-54.96 153.48,-46.27\"/>\n",
       "<polygon fill=\"black\" stroke=\"black\" points=\"156.65,-47.79 156.98,-37.2 150.12,-45.27 156.65,-47.79\"/>\n",
       "</g>\n",
       "</g>\n",
       "</svg>\n"
      ],
      "text/plain": [
       "<networkx.classes.digraph.DiGraph at 0x7fdbd5b8de10>"
      ]
     },
     "execution_count": 4,
     "metadata": {},
     "output_type": "execute_result"
    }
   ],
   "source": [
    "f.dynamics(init=x)"
   ]
  },
  {
   "cell_type": "markdown",
   "id": "7510debe",
   "metadata": {},
   "source": [
    "its fully asynchronous dynamics is the following:"
   ]
  },
  {
   "cell_type": "code",
   "execution_count": 5,
   "id": "ff9b0ba7",
   "metadata": {},
   "outputs": [
    {
     "name": "stdout",
     "output_type": "stream",
     "text": [
      "# computing graph layout...\n"
     ]
    },
    {
     "data": {
      "image/svg+xml": [
       "<?xml version=\"1.0\" encoding=\"UTF-8\" standalone=\"no\"?>\n",
       "<!DOCTYPE svg PUBLIC \"-//W3C//DTD SVG 1.1//EN\"\n",
       " \"http://www.w3.org/Graphics/SVG/1.1/DTD/svg11.dtd\">\n",
       "<!-- Generated by graphviz version 7.0.2 (20221119.0110)\n",
       " -->\n",
       "<!-- Pages: 1 -->\n",
       "<svg width=\"62pt\" height=\"188pt\"\n",
       " viewBox=\"0.00 0.00 62.00 188.00\" xmlns=\"http://www.w3.org/2000/svg\" xmlns:xlink=\"http://www.w3.org/1999/xlink\">\n",
       "<g id=\"graph0\" class=\"graph\" transform=\"scale(1 1) rotate(0) translate(4 184)\">\n",
       "<polygon fill=\"white\" stroke=\"none\" points=\"-4,4 -4,-184 58,-184 58,4 -4,4\"/>\n",
       "<!-- 000 -->\n",
       "<g id=\"node1\" class=\"node\">\n",
       "<title>000</title>\n",
       "<ellipse fill=\"none\" stroke=\"black\" cx=\"27\" cy=\"-162\" rx=\"27\" ry=\"18\"/>\n",
       "<text text-anchor=\"middle\" x=\"27\" y=\"-158.3\" font-family=\"Times,serif\" font-size=\"14.00\">000</text>\n",
       "</g>\n",
       "<!-- 100 -->\n",
       "<g id=\"node2\" class=\"node\">\n",
       "<title>100</title>\n",
       "<ellipse fill=\"none\" stroke=\"black\" cx=\"27\" cy=\"-90\" rx=\"27\" ry=\"18\"/>\n",
       "<text text-anchor=\"middle\" x=\"27\" y=\"-86.3\" font-family=\"Times,serif\" font-size=\"14.00\">100</text>\n",
       "</g>\n",
       "<!-- 000&#45;&gt;100 -->\n",
       "<g id=\"edge1\" class=\"edge\">\n",
       "<title>000&#45;&gt;100</title>\n",
       "<path fill=\"none\" stroke=\"black\" d=\"M27,-143.7C27,-136.41 27,-127.73 27,-119.54\"/>\n",
       "<polygon fill=\"black\" stroke=\"black\" points=\"30.5,-119.62 27,-109.62 23.5,-119.62 30.5,-119.62\"/>\n",
       "</g>\n",
       "<!-- 110 -->\n",
       "<g id=\"node3\" class=\"node\">\n",
       "<title>110</title>\n",
       "<ellipse fill=\"none\" stroke=\"black\" cx=\"27\" cy=\"-18\" rx=\"27\" ry=\"18\"/>\n",
       "<text text-anchor=\"middle\" x=\"27\" y=\"-14.3\" font-family=\"Times,serif\" font-size=\"14.00\">110</text>\n",
       "</g>\n",
       "<!-- 100&#45;&gt;110 -->\n",
       "<g id=\"edge2\" class=\"edge\">\n",
       "<title>100&#45;&gt;110</title>\n",
       "<path fill=\"none\" stroke=\"black\" d=\"M27,-71.7C27,-64.41 27,-55.73 27,-47.54\"/>\n",
       "<polygon fill=\"black\" stroke=\"black\" points=\"30.5,-47.62 27,-37.62 23.5,-47.62 30.5,-47.62\"/>\n",
       "</g>\n",
       "</g>\n",
       "</svg>\n"
      ],
      "text/plain": [
       "<networkx.classes.digraph.DiGraph at 0x7fdba29e3750>"
      ]
     },
     "execution_count": 5,
     "metadata": {},
     "output_type": "execute_result"
    }
   ],
   "source": [
    "f.dynamics(\"asynchronous\", init=x)"
   ]
  },
  {
   "cell_type": "markdown",
   "id": "6ce58aea",
   "metadata": {},
   "source": [
    "Thus, we can deduce that the MP transition `000 -> 101` has requires a permissive depth strictly greater than 1 (see the method paper for details).\n",
    "\n",
    "The simulation functions requires as input the list of reachable attractors.\n",
    "These can be obtained as follows (two fixed point in this example):"
   ]
  },
  {
   "cell_type": "code",
   "execution_count": 6,
   "id": "f2ea81cf",
   "metadata": {},
   "outputs": [
    {
     "data": {
      "text/html": [
       "<div>\n",
       "<style scoped>\n",
       "    .dataframe tbody tr th:only-of-type {\n",
       "        vertical-align: middle;\n",
       "    }\n",
       "\n",
       "    .dataframe tbody tr th {\n",
       "        vertical-align: top;\n",
       "    }\n",
       "\n",
       "    .dataframe thead th {\n",
       "        text-align: right;\n",
       "    }\n",
       "</style>\n",
       "<table border=\"1\" class=\"dataframe\">\n",
       "  <thead>\n",
       "    <tr style=\"text-align: right;\">\n",
       "      <th></th>\n",
       "      <th>a</th>\n",
       "      <th>b</th>\n",
       "      <th>c</th>\n",
       "    </tr>\n",
       "  </thead>\n",
       "  <tbody>\n",
       "    <tr>\n",
       "      <th>0</th>\n",
       "      <td>1</td>\n",
       "      <td>1</td>\n",
       "      <td>0</td>\n",
       "    </tr>\n",
       "    <tr>\n",
       "      <th>1</th>\n",
       "      <td>1</td>\n",
       "      <td>1</td>\n",
       "      <td>1</td>\n",
       "    </tr>\n",
       "  </tbody>\n",
       "</table>\n",
       "</div>"
      ],
      "text/plain": [
       "   a  b  c\n",
       "0  1  1  0\n",
       "1  1  1  1"
      ]
     },
     "execution_count": 6,
     "metadata": {},
     "output_type": "execute_result"
    }
   ],
   "source": [
    "A = list(f.attractors(reachable_from=x))\n",
    "A.sort(key=lambda a: [a[i] for i in f]) # stable ordering, for notebook reproducibility only\n",
    "tabulate(A)"
   ]
  },
  {
   "cell_type": "markdown",
   "id": "45df790c",
   "metadata": {},
   "source": [
    "We first estimate their propability in the stationnary distribution from 1,000 simulations of a unform random walk in the full MP dynamics from `x`:"
   ]
  },
  {
   "cell_type": "code",
   "execution_count": 7,
   "id": "90dd7ec0",
   "metadata": {},
   "outputs": [
    {
     "name": "stderr",
     "output_type": "stream",
     "text": [
      "100%|███████████████████████████████████████████████████████████████| 1000/1000 [00:00<00:00, 7634.96it/s]\n"
     ]
    },
    {
     "data": {
      "text/plain": [
       "{0: 52.1, 1: 47.9}"
      ]
     },
     "execution_count": 7,
     "metadata": {},
     "output_type": "execute_result"
    }
   ],
   "source": [
    "nb_sims = int(1e3)\n",
    "urw = mpsim.estimate_reachable_attractors_probabilities(f, x, A, nb_sims,\n",
    "                        depth = mpsim.constant_maximum_depth(f), # full MP dynamics\n",
    "                        W = mpsim.uniform_rates(f)) # uniform random walk\n",
    "urw"
   ]
  },
  {
   "cell_type": "markdown",
   "id": "be89cba6",
   "metadata": {},
   "source": [
    "Let us compare with exponentially decreasing depth and rate..."
   ]
  },
  {
   "cell_type": "code",
   "execution_count": 8,
   "id": "54ad9380",
   "metadata": {},
   "outputs": [
    {
     "name": "stderr",
     "output_type": "stream",
     "text": [
      "100%|███████████████████████████████████████████████████████████████| 1000/1000 [00:00<00:00, 4209.22it/s]\n"
     ]
    },
    {
     "data": {
      "text/plain": [
       "{0: 94.9, 1: 5.1}"
      ]
     },
     "execution_count": 8,
     "metadata": {},
     "output_type": "execute_result"
    }
   ],
   "source": [
    "edw = mpsim.estimate_reachable_attractors_probabilities(f, x, A, nb_sims,\n",
    "                        depth = mpsim.nexponential_depth(f),\n",
    "                        W = mpsim.nexponential_rates(f))\n",
    "edw"
   ]
  },
  {
   "cell_type": "markdown",
   "id": "36cd1ecb",
   "metadata": {},
   "source": [
    "... and considering only fully-asynchronous transitions:"
   ]
  },
  {
   "cell_type": "code",
   "execution_count": 9,
   "id": "69d21078",
   "metadata": {},
   "outputs": [
    {
     "name": "stderr",
     "output_type": "stream",
     "text": [
      "100%|███████████████████████████████████████████████████████████████| 1000/1000 [00:00<00:00, 6010.25it/s]\n"
     ]
    },
    {
     "data": {
      "text/plain": [
       "{0: 100.0, 1: 0.0}"
      ]
     },
     "execution_count": 9,
     "metadata": {},
     "output_type": "execute_result"
    }
   ],
   "source": [
    "faw = mpsim.estimate_reachable_attractors_probabilities(f, x, A, nb_sims,\n",
    "                        depth = mpsim.constant_unitary_depth(f),\n",
    "                        W = mpsim.fully_asynchronous_rates(f))\n",
    "faw"
   ]
  },
  {
   "cell_type": "code",
   "execution_count": 10,
   "id": "a096cbbb",
   "metadata": {},
   "outputs": [
    {
     "data": {
      "image/png": "[encoded data removed]",
      "text/plain": [
       "<Figure size 900x300 with 3 Axes>"
      ]
     },
     "metadata": {},
     "output_type": "display_data"
    }
   ],
   "source": [
    "import matplotlib.pyplot as plt\n",
    "\n",
    "def make_pie(probs, ax=plt):\n",
    "    labels=[n for n in names if probs.get(n,0) > 0]\n",
    "    patches, _, _ = ax.pie([probs[n] for n in names if probs.get(n,0) > 0],\n",
    "                wedgeprops=dict(width=.75),\n",
    "                colors=[colors[n] for n in names if probs.get(n,0) > 0],\n",
    "                autopct=lambda pct: f\"{pct:.1f}%\")\n",
    "    return dict(zip(labels, patches))\n",
    "def make_plot(results):\n",
    "    nb_cols = len(list(results))\n",
    "    nb_rows = 1\n",
    "    fig, axes = plt.subplots(nb_rows, nb_cols, figsize=(3*nb_cols, 3*nb_rows))\n",
    "    patches = {}\n",
    "    for col, (label, p) in enumerate(results):\n",
    "        ax = axes[col]\n",
    "        patches.update(make_pie(p, ax))\n",
    "        ax.set_title(label)\n",
    "\n",
    "    axes[1].legend(patches.values(), patches.keys(),\n",
    "                            bbox_to_anchor=(0.5, -0.2), # Legend position\n",
    "                            loc='lower center',  \n",
    "                            ncol=2, \n",
    "                            fancybox=True)\n",
    "names = [0,1]\n",
    "colors = [\"#3f90da\",  \"#bd1f01\"]\n",
    "make_plot([\n",
    "    (\"uniform MP\", urw),\n",
    "    (\"nexp MP\", edw),\n",
    "    (\"fully-async\", faw)])"
   ]
  },
  {
   "cell_type": "markdown",
   "id": "11483996",
   "metadata": {},
   "source": [
    "## Larger scale model\n",
    "\n",
    "We demonstrate how to import a model in GINsim format and perform simulations in different mutation conditions."
   ]
  },
  {
   "cell_type": "code",
   "execution_count": 11,
   "id": "510d912d",
   "metadata": {},
   "outputs": [],
   "source": [
    "import ginsim"
   ]
  },
  {
   "cell_type": "code",
   "execution_count": 12,
   "id": "b81594a9",
   "metadata": {},
   "outputs": [
    {
     "data": {
      "text/html": [
       "Using local file <a href='SuppMat_Model_Master_Model.zginml' target='_blank'>SuppMat_Model_Master_Model.zginml</a><br>"
      ],
      "text/plain": [
       "/home/pauleve/orga/projects/mpbn/code/examples/SuppMat_Model_Master_Model.zginml"
      ]
     },
     "metadata": {},
     "output_type": "display_data"
    },
    {
     "data": {
      "text/html": [
       "<img class=\"unconfined\" width=\"100%\" src=\"data:image/svg+xml;base64,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\">"
      ],
      "text/plain": [
       "<IPython.core.display.HTML object>"
      ]
     },
     "execution_count": 12,
     "metadata": {},
     "output_type": "execute_result"
    }
   ],
   "source": [
    "wt_model = ginsim.load(\"http://ginsim.org/sites/default/files/SuppMat_Model_Master_Model.zginml\")\n",
    "ginsim.show(wt_model)"
   ]
  },
  {
   "cell_type": "markdown",
   "id": "373b8fb2",
   "metadata": {},
   "source": [
    "We convert the model to an `mpbn.MPBooleanNetwork` object and define its initial state according to the original publications (all nodes but microRNAs inactives, and DNA damage and ECMicroenv active."
   ]
  },
  {
   "cell_type": "code",
   "execution_count": 13,
   "id": "d74e12bf",
   "metadata": {},
   "outputs": [],
   "source": [
    "f = mpbn.MPBooleanNetwork(wt_model)\n",
    "init_active = [\"miR200\", \"miR203\", \"miR34\", \"DNAdamage\", \"ECMicroenv\"]\n",
    "x = {node: node in init_active for node in f}\n",
    "nb_sims = int(1e3)"
   ]
  },
  {
   "cell_type": "markdown",
   "id": "7f24322e",
   "metadata": {},
   "source": [
    "We compute the reachable attractors from the initial state. The first two attractors correspond to apoptosis while the latter to metastasis."
   ]
  },
  {
   "cell_type": "code",
   "execution_count": 14,
   "id": "59a20afb",
   "metadata": {},
   "outputs": [
    {
     "data": {
      "text/html": [
       "<div>\n",
       "<style scoped>\n",
       "    .dataframe tbody tr th:only-of-type {\n",
       "        vertical-align: middle;\n",
       "    }\n",
       "\n",
       "    .dataframe tbody tr th {\n",
       "        vertical-align: top;\n",
       "    }\n",
       "\n",
       "    .dataframe thead th {\n",
       "        text-align: right;\n",
       "    }\n",
       "</style>\n",
       "<table border=\"1\" class=\"dataframe\">\n",
       "  <thead>\n",
       "    <tr style=\"text-align: right;\">\n",
       "      <th></th>\n",
       "      <th>AKT1</th>\n",
       "      <th>AKT2</th>\n",
       "      <th>Apoptosis</th>\n",
       "      <th>CDH1</th>\n",
       "      <th>CDH2</th>\n",
       "      <th>CTNNB1</th>\n",
       "      <th>CellCycleArrest</th>\n",
       "      <th>DKK1</th>\n",
       "      <th>DNAdamage</th>\n",
       "      <th>ECMicroenv</th>\n",
       "      <th>EMT</th>\n",
       "      <th>ERK</th>\n",
       "      <th>GF</th>\n",
       "      <th>Invasion</th>\n",
       "      <th>Metastasis</th>\n",
       "      <th>Migration</th>\n",
       "      <th>NICD</th>\n",
       "      <th>SMAD</th>\n",
       "      <th>SNAI1</th>\n",
       "      <th>SNAI2</th>\n",
       "      <th>TGFbeta</th>\n",
       "      <th>TWIST1</th>\n",
       "      <th>VIM</th>\n",
       "      <th>ZEB1</th>\n",
       "      <th>ZEB2</th>\n",
       "      <th>miR200</th>\n",
       "      <th>miR203</th>\n",
       "      <th>miR34</th>\n",
       "      <th>p21</th>\n",
       "      <th>p53</th>\n",
       "      <th>p63</th>\n",
       "      <th>p73</th>\n",
       "    </tr>\n",
       "  </thead>\n",
       "  <tbody>\n",
       "    <tr>\n",
       "      <th>0</th>\n",
       "      <td>0</td>\n",
       "      <td>0</td>\n",
       "      <td>1</td>\n",
       "      <td>1</td>\n",
       "      <td>0</td>\n",
       "      <td>0</td>\n",
       "      <td>1</td>\n",
       "      <td>0</td>\n",
       "      <td>1</td>\n",
       "      <td>1</td>\n",
       "      <td>0</td>\n",
       "      <td>0</td>\n",
       "      <td>0</td>\n",
       "      <td>0</td>\n",
       "      <td>0</td>\n",
       "      <td>0</td>\n",
       "      <td>0</td>\n",
       "      <td>0</td>\n",
       "      <td>0</td>\n",
       "      <td>0</td>\n",
       "      <td>1</td>\n",
       "      <td>0</td>\n",
       "      <td>0</td>\n",
       "      <td>0</td>\n",
       "      <td>0</td>\n",
       "      <td>1</td>\n",
       "      <td>0</td>\n",
       "      <td>0</td>\n",
       "      <td>1</td>\n",
       "      <td>0</td>\n",
       "      <td>1</td>\n",
       "      <td>1</td>\n",
       "    </tr>\n",
       "    <tr>\n",
       "      <th>1</th>\n",
       "      <td>0</td>\n",
       "      <td>0</td>\n",
       "      <td>1</td>\n",
       "      <td>1</td>\n",
       "      <td>0</td>\n",
       "      <td>0</td>\n",
       "      <td>1</td>\n",
       "      <td>0</td>\n",
       "      <td>1</td>\n",
       "      <td>1</td>\n",
       "      <td>0</td>\n",
       "      <td>0</td>\n",
       "      <td>0</td>\n",
       "      <td>0</td>\n",
       "      <td>0</td>\n",
       "      <td>0</td>\n",
       "      <td>0</td>\n",
       "      <td>0</td>\n",
       "      <td>0</td>\n",
       "      <td>0</td>\n",
       "      <td>1</td>\n",
       "      <td>0</td>\n",
       "      <td>0</td>\n",
       "      <td>0</td>\n",
       "      <td>0</td>\n",
       "      <td>1</td>\n",
       "      <td>1</td>\n",
       "      <td>0</td>\n",
       "      <td>1</td>\n",
       "      <td>1</td>\n",
       "      <td>0</td>\n",
       "      <td>0</td>\n",
       "    </tr>\n",
       "    <tr>\n",
       "      <th>2</th>\n",
       "      <td>0</td>\n",
       "      <td>1</td>\n",
       "      <td>0</td>\n",
       "      <td>0</td>\n",
       "      <td>1</td>\n",
       "      <td>0</td>\n",
       "      <td>1</td>\n",
       "      <td>1</td>\n",
       "      <td>1</td>\n",
       "      <td>1</td>\n",
       "      <td>1</td>\n",
       "      <td>1</td>\n",
       "      <td>1</td>\n",
       "      <td>1</td>\n",
       "      <td>1</td>\n",
       "      <td>1</td>\n",
       "      <td>1</td>\n",
       "      <td>1</td>\n",
       "      <td>1</td>\n",
       "      <td>1</td>\n",
       "      <td>1</td>\n",
       "      <td>1</td>\n",
       "      <td>1</td>\n",
       "      <td>1</td>\n",
       "      <td>1</td>\n",
       "      <td>0</td>\n",
       "      <td>0</td>\n",
       "      <td>0</td>\n",
       "      <td>0</td>\n",
       "      <td>0</td>\n",
       "      <td>0</td>\n",
       "      <td>0</td>\n",
       "    </tr>\n",
       "  </tbody>\n",
       "</table>\n",
       "</div>"
      ],
      "text/plain": [
       "   AKT1  AKT2  Apoptosis  CDH1  CDH2  CTNNB1  CellCycleArrest  DKK1  \\\n",
       "0     0     0          1     1     0       0                1     0   \n",
       "1     0     0          1     1     0       0                1     0   \n",
       "2     0     1          0     0     1       0                1     1   \n",
       "\n",
       "   DNAdamage  ECMicroenv  EMT  ERK  GF  Invasion  Metastasis  Migration  NICD  \\\n",
       "0          1           1    0    0   0         0           0          0     0   \n",
       "1          1           1    0    0   0         0           0          0     0   \n",
       "2          1           1    1    1   1         1           1          1     1   \n",
       "\n",
       "   SMAD  SNAI1  SNAI2  TGFbeta  TWIST1  VIM  ZEB1  ZEB2  miR200  miR203  \\\n",
       "0     0      0      0        1       0    0     0     0       1       0   \n",
       "1     0      0      0        1       0    0     0     0       1       1   \n",
       "2     1      1      1        1       1    1     1     1       0       0   \n",
       "\n",
       "   miR34  p21  p53  p63  p73  \n",
       "0      0    1    0    1    1  \n",
       "1      0    1    1    0    0  \n",
       "2      0    0    0    0    0  "
      ]
     },
     "execution_count": 14,
     "metadata": {},
     "output_type": "execute_result"
    }
   ],
   "source": [
    "A = list(f.attractors(reachable_from=x))\n",
    "A.sort(key=lambda a: [a[i] for i in f]) # stable ordering, for notebook reproducibility only\n",
    "tabulate(A)"
   ]
  },
  {
   "cell_type": "markdown",
   "id": "5945471b",
   "metadata": {},
   "source": [
    "We perform parallel simulations with the specified number of parallel jobs."
   ]
  },
  {
   "cell_type": "code",
   "execution_count": 15,
   "id": "63a0a58b",
   "metadata": {},
   "outputs": [
    {
     "name": "stderr",
     "output_type": "stream",
     "text": [
      "100%|█████████████████████████████████████████████████████████████████| 1000/1000 [00:25<00:00, 39.98it/s]\n"
     ]
    },
    {
     "data": {
      "text/plain": [
       "{0: 28.8, 1: 51.0, 2: 20.2}"
      ]
     },
     "execution_count": 15,
     "metadata": {},
     "output_type": "execute_result"
    }
   ],
   "source": [
    "mp_wt = mpsim.parallel_estimate_reachable_attractors_probabilities(f, x, A, nb_sims,\n",
    "                        depth = mpsim.nexponential_depth(f),\n",
    "                        W = mpsim.nexponential_rates(f), nb_jobs=8)\n",
    "mp_wt"
   ]
  },
  {
   "cell_type": "markdown",
   "id": "572e6cfc",
   "metadata": {},
   "source": [
    "Now, we apply a mutation (p53 loss of function):"
   ]
  },
  {
   "cell_type": "code",
   "execution_count": 16,
   "id": "10835137",
   "metadata": {},
   "outputs": [],
   "source": [
    "f_ko = f.copy()\n",
    "f_ko[\"p53\"] = 0"
   ]
  },
  {
   "cell_type": "markdown",
   "id": "24677074",
   "metadata": {},
   "source": [
    "We compute the reachable attractors..."
   ]
  },
  {
   "cell_type": "code",
   "execution_count": 17,
   "id": "ab9adbbb",
   "metadata": {},
   "outputs": [
    {
     "data": {
      "text/html": [
       "<div>\n",
       "<style scoped>\n",
       "    .dataframe tbody tr th:only-of-type {\n",
       "        vertical-align: middle;\n",
       "    }\n",
       "\n",
       "    .dataframe tbody tr th {\n",
       "        vertical-align: top;\n",
       "    }\n",
       "\n",
       "    .dataframe thead th {\n",
       "        text-align: right;\n",
       "    }\n",
       "</style>\n",
       "<table border=\"1\" class=\"dataframe\">\n",
       "  <thead>\n",
       "    <tr style=\"text-align: right;\">\n",
       "      <th></th>\n",
       "      <th>AKT1</th>\n",
       "      <th>AKT2</th>\n",
       "      <th>Apoptosis</th>\n",
       "      <th>CDH1</th>\n",
       "      <th>CDH2</th>\n",
       "      <th>CTNNB1</th>\n",
       "      <th>CellCycleArrest</th>\n",
       "      <th>DKK1</th>\n",
       "      <th>DNAdamage</th>\n",
       "      <th>ECMicroenv</th>\n",
       "      <th>EMT</th>\n",
       "      <th>ERK</th>\n",
       "      <th>GF</th>\n",
       "      <th>Invasion</th>\n",
       "      <th>Metastasis</th>\n",
       "      <th>Migration</th>\n",
       "      <th>NICD</th>\n",
       "      <th>SMAD</th>\n",
       "      <th>SNAI1</th>\n",
       "      <th>SNAI2</th>\n",
       "      <th>TGFbeta</th>\n",
       "      <th>TWIST1</th>\n",
       "      <th>VIM</th>\n",
       "      <th>ZEB1</th>\n",
       "      <th>ZEB2</th>\n",
       "      <th>miR200</th>\n",
       "      <th>miR203</th>\n",
       "      <th>miR34</th>\n",
       "      <th>p21</th>\n",
       "      <th>p53</th>\n",
       "      <th>p63</th>\n",
       "      <th>p73</th>\n",
       "    </tr>\n",
       "  </thead>\n",
       "  <tbody>\n",
       "    <tr>\n",
       "      <th>0</th>\n",
       "      <td>0</td>\n",
       "      <td>0</td>\n",
       "      <td>1</td>\n",
       "      <td>1</td>\n",
       "      <td>0</td>\n",
       "      <td>0</td>\n",
       "      <td>1</td>\n",
       "      <td>0</td>\n",
       "      <td>1</td>\n",
       "      <td>1</td>\n",
       "      <td>0</td>\n",
       "      <td>0</td>\n",
       "      <td>0</td>\n",
       "      <td>0</td>\n",
       "      <td>0</td>\n",
       "      <td>0</td>\n",
       "      <td>0</td>\n",
       "      <td>0</td>\n",
       "      <td>0</td>\n",
       "      <td>0</td>\n",
       "      <td>1</td>\n",
       "      <td>0</td>\n",
       "      <td>0</td>\n",
       "      <td>0</td>\n",
       "      <td>0</td>\n",
       "      <td>1</td>\n",
       "      <td>0</td>\n",
       "      <td>0</td>\n",
       "      <td>1</td>\n",
       "      <td>0</td>\n",
       "      <td>1</td>\n",
       "      <td>1</td>\n",
       "    </tr>\n",
       "    <tr>\n",
       "      <th>1</th>\n",
       "      <td>0</td>\n",
       "      <td>1</td>\n",
       "      <td>0</td>\n",
       "      <td>0</td>\n",
       "      <td>1</td>\n",
       "      <td>0</td>\n",
       "      <td>1</td>\n",
       "      <td>1</td>\n",
       "      <td>1</td>\n",
       "      <td>1</td>\n",
       "      <td>1</td>\n",
       "      <td>1</td>\n",
       "      <td>1</td>\n",
       "      <td>1</td>\n",
       "      <td>1</td>\n",
       "      <td>1</td>\n",
       "      <td>1</td>\n",
       "      <td>1</td>\n",
       "      <td>1</td>\n",
       "      <td>1</td>\n",
       "      <td>1</td>\n",
       "      <td>1</td>\n",
       "      <td>1</td>\n",
       "      <td>1</td>\n",
       "      <td>1</td>\n",
       "      <td>0</td>\n",
       "      <td>0</td>\n",
       "      <td>0</td>\n",
       "      <td>0</td>\n",
       "      <td>0</td>\n",
       "      <td>0</td>\n",
       "      <td>0</td>\n",
       "    </tr>\n",
       "  </tbody>\n",
       "</table>\n",
       "</div>"
      ],
      "text/plain": [
       "   AKT1  AKT2  Apoptosis  CDH1  CDH2  CTNNB1  CellCycleArrest  DKK1  \\\n",
       "0     0     0          1     1     0       0                1     0   \n",
       "1     0     1          0     0     1       0                1     1   \n",
       "\n",
       "   DNAdamage  ECMicroenv  EMT  ERK  GF  Invasion  Metastasis  Migration  NICD  \\\n",
       "0          1           1    0    0   0         0           0          0     0   \n",
       "1          1           1    1    1   1         1           1          1     1   \n",
       "\n",
       "   SMAD  SNAI1  SNAI2  TGFbeta  TWIST1  VIM  ZEB1  ZEB2  miR200  miR203  \\\n",
       "0     0      0      0        1       0    0     0     0       1       0   \n",
       "1     1      1      1        1       1    1     1     1       0       0   \n",
       "\n",
       "   miR34  p21  p53  p63  p73  \n",
       "0      0    1    0    1    1  \n",
       "1      0    0    0    0    0  "
      ]
     },
     "execution_count": 17,
     "metadata": {},
     "output_type": "execute_result"
    }
   ],
   "source": [
    "A_ko = list(f_ko.attractors(reachable_from=x))\n",
    "A_ko.sort(key=lambda a: [a[i] for i in f]) # stable ordering, for notebook reproducibility only\n",
    "tabulate(A_ko)"
   ]
  },
  {
   "cell_type": "markdown",
   "id": "7e83fe95",
   "metadata": {},
   "source": [
    "... in this example, they are a subset of the attractors reachable in the wild type model:"
   ]
  },
  {
   "cell_type": "code",
   "execution_count": 18,
   "id": "0e773bf7",
   "metadata": {},
   "outputs": [
    {
     "data": {
      "text/plain": [
       "[True, True]"
      ]
     },
     "execution_count": 18,
     "metadata": {},
     "output_type": "execute_result"
    }
   ],
   "source": [
    "[a in A for a in A_ko]"
   ]
  },
  {
   "cell_type": "markdown",
   "id": "0100f64b",
   "metadata": {},
   "source": [
    "We perform simulations on the mutated model giving the wild type attractors for make comparison easier."
   ]
  },
  {
   "cell_type": "code",
   "execution_count": 19,
   "id": "7d31ae26",
   "metadata": {},
   "outputs": [
    {
     "name": "stderr",
     "output_type": "stream",
     "text": [
      "100%|█████████████████████████████████████████████████████████████████| 1000/1000 [00:19<00:00, 51.08it/s]\n"
     ]
    },
    {
     "data": {
      "text/plain": [
       "{0: 60.0, 1: 0.0, 2: 40.0}"
      ]
     },
     "execution_count": 19,
     "metadata": {},
     "output_type": "execute_result"
    }
   ],
   "source": [
    "mp_KO = mpsim.parallel_estimate_reachable_attractors_probabilities(f_ko, x, A, nb_sims,\n",
    "                        depth = mpsim.nexponential_depth(f),\n",
    "                        W = mpsim.nexponential_rates(f), nb_jobs=8)\n",
    "mp_KO"
   ]
  },
  {
   "cell_type": "markdown",
   "id": "baed5840",
   "metadata": {},
   "source": [
    "We observe that the mutation substantially increases the probability of the metastasis attractor."
   ]
  },
  {
   "cell_type": "code",
   "execution_count": null,
   "id": "90168ee2",
   "metadata": {},
   "outputs": [],
   "source": []
  }
 ],
 "metadata": {
  "kernelspec": {
   "display_name": "Python 3 (ipykernel)",
   "language": "python",
   "name": "python3"
  },
  "language_info": {
   "codemirror_mode": {
    "name": "ipython",
    "version": 3
   },
   "file_extension": ".py",
   "mimetype": "text/x-python",
   "name": "python",
   "nbconvert_exporter": "python",
   "pygments_lexer": "ipython3",
   "version": "3.11.0"
  }
 },
 "nbformat": 4,
 "nbformat_minor": 5
}
