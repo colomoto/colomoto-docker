{
 "cells": [
  {
   "cell_type": "markdown",
   "metadata": {
    "cell_id": "00000-9c3cda86-6e93-405a-bbb2-816c16218eae",
    "deepnote_app_coordinates": {
     "h": 5,
     "w": 12,
     "x": 0,
     "y": null
    },
    "deepnote_cell_height": 608.578125,
    "deepnote_cell_type": "markdown",
    "tags": []
   },
   "source": [
    "# Symbolic computation using BDDs in AEON.py\n",
    "\n",
    "This notebook shows examples of how to use binary decision diagrams (BDDs) available in the AEON.py tool. It assumes that you already know what BDDs are and their capabilities (i.e., we will not talk about BDDs, just the technical implementation of the library).\n",
    "\n",
    "Compared to other BDD libraries, here we do not have a single shared \"BDD storage\" or \"BDD manager\". Instead, **every BDD is a separate object**, which means it can be more easily passed around during asynchronous or parallel computing (i.e. more than one BDD operation can be running at the same time).\n",
    "\n",
    "That being said, we still use a separate `BddVariableSet` to manage the mapping from *names* to the BDD variables, since these are not used as often and there is no need to keep them around in each BDD. This `BddVariableSet` object is also used to initially create atomic BDDs, so it is probably the first thing that you'll need to create before creating the BDDs. However, each BDD actually maintains the *number* of variables that it supports (which is injected based on the `BddVariableSet`), and you **cannot mix BDDs with a different variable count**. So in practice, you should try to only use together BDDs created using the same `BddVariableSet` (You can migrate BDDs between variable sets using `BddVariableSet.transfer_from` as long as the relevant variables appear in both sets). "
   ]
  },
  {
   "cell_type": "code",
   "execution_count": 1,
   "metadata": {
    "cell_id": "00001-13ec6659-4a0f-40a7-84bb-28684bbfa711",
    "deepnote_app_coordinates": {
     "h": 5,
     "w": 12,
     "x": 0,
     "y": 6
    },
    "deepnote_cell_height": 81,
    "deepnote_cell_type": "code",
    "deepnote_to_be_reexecuted": false,
    "execution_millis": 44,
    "execution_start": 1647976186903,
    "source_hash": "1370dff5",
    "tags": []
   },
   "outputs": [],
   "source": [
    "from biodivine_aeon import *"
   ]
  },
  {
   "cell_type": "markdown",
   "metadata": {
    "cell_id": "00001-6fdbbc9e-2cd9-471d-af64-ef167d5a24b5",
    "deepnote_app_coordinates": {
     "h": 5,
     "w": 12,
     "x": 0,
     "y": 12
    },
    "deepnote_cell_height": 74.796875,
    "deepnote_cell_type": "markdown",
    "tags": []
   },
   "source": [
    "To create a `BddVariableSet`, you have two options: If you already know the number of variables (and their names), you can create it directly. Alternatively, you can create it gradually using a `BddVariableSetBuilder` while figuring out what variables to use."
   ]
  },
  {
   "cell_type": "code",
   "execution_count": 2,
   "metadata": {
    "cell_id": "00000-03bcff83-4489-454d-bc8b-948df30269a3",
    "deepnote_app_coordinates": {
     "h": 5,
     "w": 12,
     "x": 0,
     "y": 18
    },
    "deepnote_cell_height": 550.1875,
    "deepnote_cell_type": "code",
    "deepnote_output_heights": [
     21.1875
    ],
    "deepnote_to_be_reexecuted": false,
    "execution_millis": 12,
    "execution_start": 1647976186947,
    "source_hash": "f1dff02e",
    "tags": []
   },
   "outputs": [
    {
     "name": "stdout",
     "output_type": "stream",
     "text": [
      "['x_0', 'x_1', 'x_2', 'x_3', 'x_4', 'x_5', 'x_6', 'x_7', 'x_8', 'x_9']\n",
      "['x_0', 'x_1', 'x_2', 'x_3', 'x_4', 'x_5', 'x_6', 'x_7', 'x_8', 'x_9']\n"
     ]
    }
   ],
   "source": [
    "# Create a BddVariableSet with 5 variables names a, b, c, d, e.\n",
    "vars = BddVariableSet([\"a\", \"b\", \"c\", \"d\", \"e\"])\n",
    "assert vars.variable_count() == 5\n",
    "# To actually use the variables in the future, we have to use a reference. \n",
    "# Here, v_a now contains a BDD variable reference. \n",
    "v_a = vars.find_variable(\"a\")\n",
    "v_c = vars.find_variable(\"c\")\n",
    "\n",
    "# For example, we can use the variable reference to create a literal.\n",
    "# That is, a BDD which corresponds either to just \"a\", or to \"!a\".\n",
    "positive_bdd_literal = vars.mk_literal(v_a, True)\n",
    "negative_bdd_literal = vars.mk_literal(v_a, False)\n",
    "\n",
    "# We can also use the variable set to create constants:\n",
    "bdd_true = vars.mk_const(True)\n",
    "\n",
    "assert positive_bdd_literal.is_true() == False\n",
    "assert bdd_true.is_true() == True  \n",
    "\n",
    "# You can create an \"anonymous\" variable set, where the names of \n",
    "# the variables are \"x_0\", \"x_1\", ... , \"x_{n-1}\" by default\n",
    "anonymous_vars = BddVariableSet(10)\n",
    "\n",
    "# It is always possible to obtain all variables in the set, just in case:\n",
    "actual_anonymous_vars = anonymous_vars.variable_ids()\n",
    "\n",
    "# This gives you a list of all \"variable references\". \n",
    "# You can however read back their names easily:\n",
    "print([ anonymous_vars.get_variable_name(v) for v in actual_anonymous_vars ])\n",
    "# Since this is a common operation, we also have a utility function for that:\n",
    "print(anonymous_vars.variable_names())"
   ]
  },
  {
   "cell_type": "markdown",
   "metadata": {
    "cell_id": "00004-129e740e-07e0-4989-ace9-a38c4302f633",
    "deepnote_app_coordinates": {
     "h": 5,
     "w": 12,
     "x": 0,
     "y": 24
    },
    "deepnote_cell_height": 74.796875,
    "deepnote_cell_type": "markdown",
    "tags": []
   },
   "source": [
    "In some cases, you don't know the number (or names) of variables initially. For example, you want to have a function that creates the variables while reading the problem input, and saves the BDD variable references for future use:"
   ]
  },
  {
   "cell_type": "code",
   "execution_count": 3,
   "metadata": {
    "cell_id": "00005-1e2f1981-6dc4-42e4-ac68-5ec5b09c9a28",
    "deepnote_app_coordinates": {
     "h": 5,
     "w": 12,
     "x": 0,
     "y": 30
    },
    "deepnote_cell_height": 316.1875,
    "deepnote_cell_type": "code",
    "deepnote_output_heights": [
     21.1875
    ],
    "deepnote_to_be_reexecuted": false,
    "execution_millis": 394,
    "execution_start": 1647976186990,
    "source_hash": "61443f38",
    "tags": []
   },
   "outputs": [
    {
     "data": {
      "text/plain": [
       "4"
      ]
     },
     "execution_count": 3,
     "metadata": {},
     "output_type": "execute_result"
    }
   ],
   "source": [
    "builder = BddVariableSetBuilder()\n",
    "\n",
    "# You can create variables one by one, and the builder will always \n",
    "# give you the variable reference for later use.\n",
    "v_first = builder.add(\"first\")\n",
    "\n",
    "# You can also create multiple variable at the same time if you want to.\n",
    "created = builder.add_all([\"second\", \"third\", \"fourth\"])\n",
    "v_third = created[1]\n",
    "\n",
    "# In the end, you can just call build to turn the builder into \n",
    "# a valid variable set.\n",
    "four_vars = builder.build()\n",
    "four_vars.variable_count()"
   ]
  },
  {
   "cell_type": "markdown",
   "metadata": {
    "cell_id": "00006-cc682d42-034c-4dce-acbd-b6155fdcf6af",
    "deepnote_app_coordinates": {
     "h": 5,
     "w": 12,
     "x": 0,
     "y": 36
    },
    "deepnote_cell_height": 111.1875,
    "deepnote_cell_type": "markdown",
    "tags": []
   },
   "source": [
    "Note that the library will automatically check whether you used duplicate variables. Furthermore, some special characters (like `!` or other logical operators) cannot be used in a variable name.\n",
    "\n",
    "The reason for this is mainly that `BddVariableSet` can actually do quite a bit more than what we've shown already:"
   ]
  },
  {
   "cell_type": "code",
   "execution_count": 4,
   "metadata": {
    "cell_id": "00007-d0aba704-3d53-4103-9b04-439996288d91",
    "deepnote_app_coordinates": {
     "h": 5,
     "w": 12,
     "x": 0,
     "y": 42
    },
    "deepnote_cell_height": 316.1875,
    "deepnote_cell_type": "code",
    "deepnote_output_heights": [
     21.1875
    ],
    "deepnote_to_be_reexecuted": false,
    "execution_millis": 393,
    "execution_start": 1647976186991,
    "source_hash": "c81f7362",
    "tags": []
   },
   "outputs": [
    {
     "data": {
      "text/plain": [
       "4"
      ]
     },
     "execution_count": 4,
     "metadata": {},
     "output_type": "execute_result"
    }
   ],
   "source": [
    "# If you have a formula that you want to quickly turn into a BDD, you can simply evaluate it as a string:\n",
    "# (as long as the variable names match the ones in your BddVariableSet)\n",
    "formula = vars.eval_expression(\"a & (b => !c) & (d <=> (c & !a))\")\n",
    "\n",
    "# Furthermore, if you have a formula saved in CNF/DNF, you can also build it quite easily.\n",
    "# Each element in the list is a dictionary containing the literals in the CNF/DNF clause. \n",
    "# These can use either the BDD variable references, or the names of the variables\n",
    "conjunction = vars.mk_cnf([{v_a: True, \"b\": False}, {\"c\": False, \"d\": False}, {v_a: True, \"c\": True}])\n",
    "\n",
    "# If you only want to create one clause, you can do that as well:\n",
    "clause = vars.mk_conjunctive_clause({v_a: True, \"b\": False, \"c\": True})\n",
    "clause.cardinality() # Get the number of valuations satisfied in this BDD."
   ]
  },
  {
   "cell_type": "markdown",
   "metadata": {
    "cell_id": "00008-eeeac323-340f-40a4-a578-f1a064173163",
    "deepnote_app_coordinates": {
     "h": 5,
     "w": 12,
     "x": 0,
     "y": 48
    },
    "deepnote_cell_height": 52.390625,
    "deepnote_cell_type": "markdown",
    "tags": []
   },
   "source": [
    "To visually inspect the BDDs, you can use a conversion to `.dot`. Here, we are using `graphviz` to actually show the pictures of the BDD:"
   ]
  },
  {
   "cell_type": "code",
   "execution_count": 5,
   "metadata": {
    "cell_id": "00009-4ebaf19c-04c0-427b-add6-229c6e4ee693",
    "deepnote_app_coordinates": {
     "h": 5,
     "w": 12,
     "x": 0,
     "y": 54
    },
    "deepnote_cell_height": 609.65625,
    "deepnote_cell_type": "code",
    "deepnote_output_heights": [
     476.65625
    ],
    "deepnote_to_be_reexecuted": false,
    "execution_millis": 395,
    "execution_start": 1647976186992,
    "source_hash": "91a95f1f",
    "tags": []
   },
   "outputs": [
    {
     "data": {
      "image/svg+xml": [
       "<?xml version=\"1.0\" encoding=\"UTF-8\" standalone=\"no\"?>\n",
       "<!DOCTYPE svg PUBLIC \"-//W3C//DTD SVG 1.1//EN\"\n",
       " \"http://www.w3.org/Graphics/SVG/1.1/DTD/svg11.dtd\">\n",
       "<!-- Generated by graphviz version 11.0.0 (20240428.1522)\n",
       " -->\n",
       "<!-- Title: G Pages: 1 -->\n",
       "<svg width=\"90pt\" height=\"358pt\"\n",
       " viewBox=\"0.00 0.00 90.00 357.94\" xmlns=\"http://www.w3.org/2000/svg\" xmlns:xlink=\"http://www.w3.org/1999/xlink\">\n",
       "<g id=\"graph0\" class=\"graph\" transform=\"scale(1 1) rotate(0) translate(4 353.94)\">\n",
       "<title>G</title>\n",
       "<polygon fill=\"white\" stroke=\"none\" points=\"-4,4 -4,-353.94 86,-353.94 86,4 -4,4\"/>\n",
       "<!-- init__ -->\n",
       "<!-- 5 -->\n",
       "<g id=\"node2\" class=\"node\">\n",
       "<title>5</title>\n",
       "<ellipse fill=\"none\" stroke=\"black\" cx=\"27\" cy=\"-294.5\" rx=\"27\" ry=\"18\"/>\n",
       "<text text-anchor=\"middle\" x=\"27\" y=\"-289.45\" font-family=\"Times,serif\" font-size=\"14.00\">a</text>\n",
       "</g>\n",
       "<!-- init__&#45;&gt;5 -->\n",
       "<g id=\"edge1\" class=\"edge\">\n",
       "<title>init__&#45;&gt;5</title>\n",
       "<path fill=\"none\" stroke=\"black\" d=\"M27,-348.35C27,-346.94 27,-335.91 27,-324.29\"/>\n",
       "<polygon fill=\"black\" stroke=\"black\" points=\"30.5,-324.32 27,-314.32 23.5,-324.32 30.5,-324.32\"/>\n",
       "</g>\n",
       "<!-- 4 -->\n",
       "<g id=\"node6\" class=\"node\">\n",
       "<title>4</title>\n",
       "<ellipse fill=\"none\" stroke=\"black\" cx=\"27\" cy=\"-222.5\" rx=\"27\" ry=\"18\"/>\n",
       "<text text-anchor=\"middle\" x=\"27\" y=\"-217.45\" font-family=\"Times,serif\" font-size=\"14.00\">b</text>\n",
       "</g>\n",
       "<!-- 5&#45;&gt;4 -->\n",
       "<g id=\"edge6\" class=\"edge\">\n",
       "<title>5&#45;&gt;4</title>\n",
       "<path fill=\"none\" stroke=\"black\" d=\"M27,-276.2C27,-268.91 27,-260.23 27,-252.04\"/>\n",
       "<polygon fill=\"black\" stroke=\"black\" points=\"30.5,-252.12 27,-242.12 23.5,-252.12 30.5,-252.12\"/>\n",
       "</g>\n",
       "<!-- 1 -->\n",
       "<g id=\"node3\" class=\"node\">\n",
       "<title>1</title>\n",
       "<polygon fill=\"lightgrey\" stroke=\"black\" points=\"38.38,-24.5 15.62,-24.5 15.62,0 38.38,0 38.38,-24.5\"/>\n",
       "<text text-anchor=\"middle\" x=\"27\" y=\"-7.2\" font-family=\"Times,serif\" font-size=\"14.00\">1</text>\n",
       "</g>\n",
       "<!-- 2 -->\n",
       "<g id=\"node4\" class=\"node\">\n",
       "<title>2</title>\n",
       "<ellipse fill=\"none\" stroke=\"black\" cx=\"27\" cy=\"-78.5\" rx=\"27\" ry=\"18\"/>\n",
       "<text text-anchor=\"middle\" x=\"27\" y=\"-73.45\" font-family=\"Times,serif\" font-size=\"14.00\">d</text>\n",
       "</g>\n",
       "<!-- 2&#45;&gt;1 -->\n",
       "<g id=\"edge2\" class=\"edge\">\n",
       "<title>2&#45;&gt;1</title>\n",
       "<path fill=\"none\" stroke=\"black\" stroke-dasharray=\"1,5\" d=\"M27,-60.28C27,-52.87 27,-44.09 27,-36.14\"/>\n",
       "<polygon fill=\"black\" stroke=\"black\" points=\"30.5,-36.15 27,-26.15 23.5,-36.15 30.5,-36.15\"/>\n",
       "</g>\n",
       "<!-- 3 -->\n",
       "<g id=\"node5\" class=\"node\">\n",
       "<title>3</title>\n",
       "<ellipse fill=\"none\" stroke=\"black\" cx=\"55\" cy=\"-150.5\" rx=\"27\" ry=\"18\"/>\n",
       "<text text-anchor=\"middle\" x=\"55\" y=\"-145.45\" font-family=\"Times,serif\" font-size=\"14.00\">c</text>\n",
       "</g>\n",
       "<!-- 3&#45;&gt;2 -->\n",
       "<g id=\"edge3\" class=\"edge\">\n",
       "<title>3&#45;&gt;2</title>\n",
       "<path fill=\"none\" stroke=\"black\" stroke-dasharray=\"1,5\" d=\"M48.36,-132.91C45.23,-125.07 41.4,-115.49 37.85,-106.63\"/>\n",
       "<polygon fill=\"black\" stroke=\"black\" points=\"41.11,-105.36 34.15,-97.38 34.61,-107.96 41.11,-105.36\"/>\n",
       "</g>\n",
       "<!-- 4&#45;&gt;2 -->\n",
       "<g id=\"edge5\" class=\"edge\">\n",
       "<title>4&#45;&gt;2</title>\n",
       "<path fill=\"none\" stroke=\"black\" stroke-dasharray=\"1,5\" d=\"M23.75,-204.39C21.95,-194.04 19.91,-180.56 19,-168.5 17.8,-152.54 17.8,-148.46 19,-132.5 19.6,-124.49 20.71,-115.85 21.91,-107.93\"/>\n",
       "<polygon fill=\"black\" stroke=\"black\" points=\"25.35,-108.54 23.51,-98.11 18.45,-107.41 25.35,-108.54\"/>\n",
       "</g>\n",
       "<!-- 4&#45;&gt;3 -->\n",
       "<g id=\"edge4\" class=\"edge\">\n",
       "<title>4&#45;&gt;3</title>\n",
       "<path fill=\"none\" stroke=\"black\" d=\"M33.64,-204.91C36.77,-197.07 40.6,-187.49 44.15,-178.63\"/>\n",
       "<polygon fill=\"black\" stroke=\"black\" points=\"47.39,-179.96 47.85,-169.38 40.89,-177.36 47.39,-179.96\"/>\n",
       "</g>\n",
       "</g>\n",
       "</svg>\n"
      ],
      "text/plain": [
       "<graphviz.sources.Source at 0x106a3a2b0>"
      ]
     },
     "execution_count": 5,
     "metadata": {},
     "output_type": "execute_result"
    }
   ],
   "source": [
    "import graphviz\n",
    "\n",
    "graphviz.Source(formula.to_dot())"
   ]
  },
  {
   "cell_type": "markdown",
   "metadata": {
    "cell_id": "00010-79ddeca4-2d57-4217-8069-9022a3be6e1e",
    "deepnote_app_coordinates": {
     "h": 5,
     "w": 12,
     "x": 0,
     "y": 60
    },
    "deepnote_cell_height": 74.796875,
    "deepnote_cell_type": "markdown",
    "tags": []
   },
   "source": [
    "For readability, the generated plot omits edges that lead to the `zero` terminal node. We can show these edges with an optional argument:"
   ]
  },
  {
   "cell_type": "code",
   "execution_count": 6,
   "metadata": {
    "cell_id": "00011-b86b95bc-607b-4ee8-9df7-81b801fc107d",
    "deepnote_app_coordinates": {
     "h": 5,
     "w": 12,
     "x": 0,
     "y": 66
    },
    "deepnote_cell_height": 573.65625,
    "deepnote_cell_type": "code",
    "deepnote_output_heights": [
     476.65625
    ],
    "deepnote_to_be_reexecuted": false,
    "execution_millis": 182,
    "execution_start": 1647976187206,
    "source_hash": "eb7f5b43",
    "tags": []
   },
   "outputs": [
    {
     "data": {
      "image/svg+xml": [
       "<?xml version=\"1.0\" encoding=\"UTF-8\" standalone=\"no\"?>\n",
       "<!DOCTYPE svg PUBLIC \"-//W3C//DTD SVG 1.1//EN\"\n",
       " \"http://www.w3.org/Graphics/SVG/1.1/DTD/svg11.dtd\">\n",
       "<!-- Generated by graphviz version 11.0.0 (20240428.1522)\n",
       " -->\n",
       "<!-- Title: G Pages: 1 -->\n",
       "<svg width=\"136pt\" height=\"358pt\"\n",
       " viewBox=\"0.00 0.00 136.00 357.94\" xmlns=\"http://www.w3.org/2000/svg\" xmlns:xlink=\"http://www.w3.org/1999/xlink\">\n",
       "<g id=\"graph0\" class=\"graph\" transform=\"scale(1 1) rotate(0) translate(4 353.94)\">\n",
       "<title>G</title>\n",
       "<polygon fill=\"white\" stroke=\"none\" points=\"-4,4 -4,-353.94 132,-353.94 132,4 -4,4\"/>\n",
       "<!-- init__ -->\n",
       "<!-- 5 -->\n",
       "<g id=\"node2\" class=\"node\">\n",
       "<title>5</title>\n",
       "<ellipse fill=\"none\" stroke=\"black\" cx=\"27\" cy=\"-294.5\" rx=\"27\" ry=\"18\"/>\n",
       "<text text-anchor=\"middle\" x=\"27\" y=\"-289.45\" font-family=\"Times,serif\" font-size=\"14.00\">a</text>\n",
       "</g>\n",
       "<!-- init__&#45;&gt;5 -->\n",
       "<g id=\"edge1\" class=\"edge\">\n",
       "<title>init__&#45;&gt;5</title>\n",
       "<path fill=\"none\" stroke=\"black\" d=\"M27,-348.35C27,-346.94 27,-335.91 27,-324.29\"/>\n",
       "<polygon fill=\"black\" stroke=\"black\" points=\"30.5,-324.32 27,-314.32 23.5,-324.32 30.5,-324.32\"/>\n",
       "</g>\n",
       "<!-- 0 -->\n",
       "<g id=\"node3\" class=\"node\">\n",
       "<title>0</title>\n",
       "<polygon fill=\"lightgrey\" stroke=\"black\" points=\"57.38,-24.5 34.62,-24.5 34.62,0 57.38,0 57.38,-24.5\"/>\n",
       "<text text-anchor=\"middle\" x=\"46\" y=\"-7.2\" font-family=\"Times,serif\" font-size=\"14.00\">0</text>\n",
       "</g>\n",
       "<!-- 5&#45;&gt;0 -->\n",
       "<g id=\"edge9\" class=\"edge\">\n",
       "<title>5&#45;&gt;0</title>\n",
       "<path fill=\"none\" stroke=\"black\" stroke-dasharray=\"1,5\" d=\"M23.75,-276.39C21.95,-266.04 19.91,-252.56 19,-240.5 15.41,-192.63 13.67,-180.2 19,-132.5 22.82,-98.37 32.59,-59.75 39.27,-35.94\"/>\n",
       "<polygon fill=\"black\" stroke=\"black\" points=\"42.62,-36.98 42.02,-26.4 35.89,-35.05 42.62,-36.98\"/>\n",
       "</g>\n",
       "<!-- 4 -->\n",
       "<g id=\"node7\" class=\"node\">\n",
       "<title>4</title>\n",
       "<ellipse fill=\"none\" stroke=\"black\" cx=\"55\" cy=\"-222.5\" rx=\"27\" ry=\"18\"/>\n",
       "<text text-anchor=\"middle\" x=\"55\" y=\"-217.45\" font-family=\"Times,serif\" font-size=\"14.00\">b</text>\n",
       "</g>\n",
       "<!-- 5&#45;&gt;4 -->\n",
       "<g id=\"edge8\" class=\"edge\">\n",
       "<title>5&#45;&gt;4</title>\n",
       "<path fill=\"none\" stroke=\"black\" d=\"M33.64,-276.91C36.77,-269.07 40.6,-259.49 44.15,-250.63\"/>\n",
       "<polygon fill=\"black\" stroke=\"black\" points=\"47.39,-251.96 47.85,-241.38 40.89,-249.36 47.39,-251.96\"/>\n",
       "</g>\n",
       "<!-- 1 -->\n",
       "<g id=\"node4\" class=\"node\">\n",
       "<title>1</title>\n",
       "<polygon fill=\"lightgrey\" stroke=\"black\" points=\"112.38,-24.5 89.62,-24.5 89.62,0 112.38,0 112.38,-24.5\"/>\n",
       "<text text-anchor=\"middle\" x=\"101\" y=\"-7.2\" font-family=\"Times,serif\" font-size=\"14.00\">1</text>\n",
       "</g>\n",
       "<!-- 2 -->\n",
       "<g id=\"node5\" class=\"node\">\n",
       "<title>2</title>\n",
       "<ellipse fill=\"none\" stroke=\"black\" cx=\"101\" cy=\"-78.5\" rx=\"27\" ry=\"18\"/>\n",
       "<text text-anchor=\"middle\" x=\"101\" y=\"-73.45\" font-family=\"Times,serif\" font-size=\"14.00\">d</text>\n",
       "</g>\n",
       "<!-- 2&#45;&gt;0 -->\n",
       "<g id=\"edge2\" class=\"edge\">\n",
       "<title>2&#45;&gt;0</title>\n",
       "<path fill=\"none\" stroke=\"black\" d=\"M87.97,-62.27C80.63,-53.7 71.37,-42.89 63.42,-33.59\"/>\n",
       "<polygon fill=\"black\" stroke=\"black\" points=\"66.16,-31.42 57,-26.1 60.85,-35.98 66.16,-31.42\"/>\n",
       "</g>\n",
       "<!-- 2&#45;&gt;1 -->\n",
       "<g id=\"edge3\" class=\"edge\">\n",
       "<title>2&#45;&gt;1</title>\n",
       "<path fill=\"none\" stroke=\"black\" stroke-dasharray=\"1,5\" d=\"M101,-60.28C101,-52.87 101,-44.09 101,-36.14\"/>\n",
       "<polygon fill=\"black\" stroke=\"black\" points=\"104.5,-36.15 101,-26.15 97.5,-36.15 104.5,-36.15\"/>\n",
       "</g>\n",
       "<!-- 3 -->\n",
       "<g id=\"node6\" class=\"node\">\n",
       "<title>3</title>\n",
       "<ellipse fill=\"none\" stroke=\"black\" cx=\"55\" cy=\"-150.5\" rx=\"27\" ry=\"18\"/>\n",
       "<text text-anchor=\"middle\" x=\"55\" y=\"-145.45\" font-family=\"Times,serif\" font-size=\"14.00\">c</text>\n",
       "</g>\n",
       "<!-- 3&#45;&gt;0 -->\n",
       "<g id=\"edge4\" class=\"edge\">\n",
       "<title>3&#45;&gt;0</title>\n",
       "<path fill=\"none\" stroke=\"black\" d=\"M53.86,-132.24C52.25,-107.89 49.31,-63.38 47.52,-36.24\"/>\n",
       "<polygon fill=\"black\" stroke=\"black\" points=\"51.01,-36.06 46.86,-26.31 44.03,-36.52 51.01,-36.06\"/>\n",
       "</g>\n",
       "<!-- 3&#45;&gt;2 -->\n",
       "<g id=\"edge5\" class=\"edge\">\n",
       "<title>3&#45;&gt;2</title>\n",
       "<path fill=\"none\" stroke=\"black\" stroke-dasharray=\"1,5\" d=\"M65.44,-133.62C71.03,-125.11 78.04,-114.44 84.36,-104.82\"/>\n",
       "<polygon fill=\"black\" stroke=\"black\" points=\"87.21,-106.87 89.77,-96.59 81.36,-103.02 87.21,-106.87\"/>\n",
       "</g>\n",
       "<!-- 4&#45;&gt;2 -->\n",
       "<g id=\"edge7\" class=\"edge\">\n",
       "<title>4&#45;&gt;2</title>\n",
       "<path fill=\"none\" stroke=\"black\" stroke-dasharray=\"1,5\" d=\"M68.21,-206.39C76.21,-196.35 85.83,-182.48 91,-168.5 98.14,-149.19 100.57,-126.04 101.25,-108.19\"/>\n",
       "<polygon fill=\"black\" stroke=\"black\" points=\"104.75,-108.37 101.45,-98.31 97.75,-108.23 104.75,-108.37\"/>\n",
       "</g>\n",
       "<!-- 4&#45;&gt;3 -->\n",
       "<g id=\"edge6\" class=\"edge\">\n",
       "<title>4&#45;&gt;3</title>\n",
       "<path fill=\"none\" stroke=\"black\" d=\"M55,-204.2C55,-196.91 55,-188.23 55,-180.04\"/>\n",
       "<polygon fill=\"black\" stroke=\"black\" points=\"58.5,-180.12 55,-170.12 51.5,-180.12 58.5,-180.12\"/>\n",
       "</g>\n",
       "</g>\n",
       "</svg>\n"
      ],
      "text/plain": [
       "<graphviz.sources.Source at 0x106a89760>"
      ]
     },
     "execution_count": 6,
     "metadata": {},
     "output_type": "execute_result"
    }
   ],
   "source": [
    "graphviz.Source(formula.to_dot(zero_pruned=False))"
   ]
  },
  {
   "cell_type": "markdown",
   "metadata": {
    "cell_id": "00012-14e1fa98-e712-478d-b9a6-19e52aefe0c3",
    "deepnote_app_coordinates": {
     "h": 5,
     "w": 12,
     "x": 0,
     "y": 72
    },
    "deepnote_cell_height": 74.796875,
    "deepnote_cell_type": "markdown",
    "tags": []
   },
   "source": [
    "We can also convert the BDD back to a Boolean expression. However, we are not doing any special minification of the formula here, so the result will be probably larger than the original formula:"
   ]
  },
  {
   "cell_type": "code",
   "execution_count": 7,
   "metadata": {
    "cell_id": "00013-18879db0-9e86-44a6-b0a7-b43416ae95a6",
    "deepnote_app_coordinates": {
     "h": 5,
     "w": 12,
     "x": 0,
     "y": 78
    },
    "deepnote_cell_height": 111.6875,
    "deepnote_cell_type": "code",
    "deepnote_to_be_reexecuted": false,
    "execution_millis": 123,
    "execution_start": 1647976187266,
    "source_hash": "a369336b",
    "tags": []
   },
   "outputs": [
    {
     "data": {
      "text/plain": [
       "BooleanExpression(\"(a & ((b & (!c & !d)) | (!b & !d)))\")"
      ]
     },
     "execution_count": 7,
     "metadata": {},
     "output_type": "execute_result"
    }
   ],
   "source": [
    "formula.to_expression()"
   ]
  },
  {
   "cell_type": "markdown",
   "metadata": {
    "cell_id": "00016-6e4c4f7c-cd0b-4dc0-b6a4-d3fbd4b9a2d7",
    "deepnote_app_coordinates": {
     "h": 5,
     "w": 12,
     "x": 0,
     "y": 96
    },
    "deepnote_cell_height": 74.796875,
    "deepnote_cell_type": "markdown",
    "tags": []
   },
   "source": [
    "To actually manipulate the BDDs, we can use normal logical operators, as well as projection and selection. But note that Python automatically translates methods `and` and `or` to reserved operators, even if used as method names. Therefore, we opted to use a prefix `l_*` to denote the logical operations and `r_*` to denote relational operations:"
   ]
  },
  {
   "cell_type": "code",
   "execution_count": 8,
   "metadata": {
    "cell_id": "00017-25f4af71-30db-432d-ba30-9573d9490f35",
    "deepnote_app_coordinates": {
     "h": 5,
     "w": 12,
     "x": 0,
     "y": 102
    },
    "deepnote_cell_height": 747.65625,
    "deepnote_cell_type": "code",
    "deepnote_output_heights": [
     380.65625
    ],
    "deepnote_to_be_reexecuted": false,
    "execution_millis": 122,
    "execution_start": 1647976187268,
    "source_hash": "478dd516",
    "tags": []
   },
   "outputs": [
    {
     "data": {
      "image/svg+xml": [
       "<?xml version=\"1.0\" encoding=\"UTF-8\" standalone=\"no\"?>\n",
       "<!DOCTYPE svg PUBLIC \"-//W3C//DTD SVG 1.1//EN\"\n",
       " \"http://www.w3.org/Graphics/SVG/1.1/DTD/svg11.dtd\">\n",
       "<!-- Generated by graphviz version 11.0.0 (20240428.1522)\n",
       " -->\n",
       "<!-- Title: G Pages: 1 -->\n",
       "<svg width=\"90pt\" height=\"286pt\"\n",
       " viewBox=\"0.00 0.00 90.00 285.94\" xmlns=\"http://www.w3.org/2000/svg\" xmlns:xlink=\"http://www.w3.org/1999/xlink\">\n",
       "<g id=\"graph0\" class=\"graph\" transform=\"scale(1 1) rotate(0) translate(4 281.94)\">\n",
       "<title>G</title>\n",
       "<polygon fill=\"white\" stroke=\"none\" points=\"-4,4 -4,-281.94 86,-281.94 86,4 -4,4\"/>\n",
       "<!-- init__ -->\n",
       "<!-- 4 -->\n",
       "<g id=\"node2\" class=\"node\">\n",
       "<title>4</title>\n",
       "<ellipse fill=\"none\" stroke=\"black\" cx=\"27\" cy=\"-222.5\" rx=\"27\" ry=\"18\"/>\n",
       "<text text-anchor=\"middle\" x=\"27\" y=\"-217.45\" font-family=\"Times,serif\" font-size=\"14.00\">b</text>\n",
       "</g>\n",
       "<!-- init__&#45;&gt;4 -->\n",
       "<g id=\"edge1\" class=\"edge\">\n",
       "<title>init__&#45;&gt;4</title>\n",
       "<path fill=\"none\" stroke=\"black\" d=\"M27,-276.35C27,-274.94 27,-263.91 27,-252.29\"/>\n",
       "<polygon fill=\"black\" stroke=\"black\" points=\"30.5,-252.32 27,-242.32 23.5,-252.32 30.5,-252.32\"/>\n",
       "</g>\n",
       "<!-- 2 -->\n",
       "<g id=\"node4\" class=\"node\">\n",
       "<title>2</title>\n",
       "<ellipse fill=\"none\" stroke=\"black\" cx=\"27\" cy=\"-78.5\" rx=\"27\" ry=\"18\"/>\n",
       "<text text-anchor=\"middle\" x=\"27\" y=\"-73.45\" font-family=\"Times,serif\" font-size=\"14.00\">d</text>\n",
       "</g>\n",
       "<!-- 4&#45;&gt;2 -->\n",
       "<g id=\"edge5\" class=\"edge\">\n",
       "<title>4&#45;&gt;2</title>\n",
       "<path fill=\"none\" stroke=\"black\" stroke-dasharray=\"1,5\" d=\"M23.75,-204.39C21.95,-194.04 19.91,-180.56 19,-168.5 17.8,-152.54 17.8,-148.46 19,-132.5 19.6,-124.49 20.71,-115.85 21.91,-107.93\"/>\n",
       "<polygon fill=\"black\" stroke=\"black\" points=\"25.35,-108.54 23.51,-98.11 18.45,-107.41 25.35,-108.54\"/>\n",
       "</g>\n",
       "<!-- 3 -->\n",
       "<g id=\"node5\" class=\"node\">\n",
       "<title>3</title>\n",
       "<ellipse fill=\"none\" stroke=\"black\" cx=\"55\" cy=\"-150.5\" rx=\"27\" ry=\"18\"/>\n",
       "<text text-anchor=\"middle\" x=\"55\" y=\"-145.45\" font-family=\"Times,serif\" font-size=\"14.00\">c</text>\n",
       "</g>\n",
       "<!-- 4&#45;&gt;3 -->\n",
       "<g id=\"edge4\" class=\"edge\">\n",
       "<title>4&#45;&gt;3</title>\n",
       "<path fill=\"none\" stroke=\"black\" d=\"M33.64,-204.91C36.77,-197.07 40.6,-187.49 44.15,-178.63\"/>\n",
       "<polygon fill=\"black\" stroke=\"black\" points=\"47.39,-179.96 47.85,-169.38 40.89,-177.36 47.39,-179.96\"/>\n",
       "</g>\n",
       "<!-- 1 -->\n",
       "<g id=\"node3\" class=\"node\">\n",
       "<title>1</title>\n",
       "<polygon fill=\"lightgrey\" stroke=\"black\" points=\"38.38,-24.5 15.62,-24.5 15.62,0 38.38,0 38.38,-24.5\"/>\n",
       "<text text-anchor=\"middle\" x=\"27\" y=\"-7.2\" font-family=\"Times,serif\" font-size=\"14.00\">1</text>\n",
       "</g>\n",
       "<!-- 2&#45;&gt;1 -->\n",
       "<g id=\"edge2\" class=\"edge\">\n",
       "<title>2&#45;&gt;1</title>\n",
       "<path fill=\"none\" stroke=\"black\" stroke-dasharray=\"1,5\" d=\"M27,-60.28C27,-52.87 27,-44.09 27,-36.14\"/>\n",
       "<polygon fill=\"black\" stroke=\"black\" points=\"30.5,-36.15 27,-26.15 23.5,-36.15 30.5,-36.15\"/>\n",
       "</g>\n",
       "<!-- 3&#45;&gt;2 -->\n",
       "<g id=\"edge3\" class=\"edge\">\n",
       "<title>3&#45;&gt;2</title>\n",
       "<path fill=\"none\" stroke=\"black\" stroke-dasharray=\"1,5\" d=\"M48.36,-132.91C45.23,-125.07 41.4,-115.49 37.85,-106.63\"/>\n",
       "<polygon fill=\"black\" stroke=\"black\" points=\"41.11,-105.36 34.15,-97.38 34.61,-107.96 41.11,-105.36\"/>\n",
       "</g>\n",
       "</g>\n",
       "</svg>\n"
      ],
      "text/plain": [
       "<graphviz.sources.Source at 0x106a9b670>"
      ]
     },
     "execution_count": 8,
     "metadata": {},
     "output_type": "execute_result"
    }
   ],
   "source": [
    "# Basic logical operators:\n",
    "\n",
    "formula.l_and(conjunction)\n",
    "formula.l_or(conjunction)\n",
    "formula.l_xor(conjunction)\n",
    "formula.l_imp(conjunction)\n",
    "formula.l_iff(conjunction)\n",
    "formula.l_and_not(conjunction)\n",
    "\n",
    "# Projection, either using one variable, or a set of variables.\n",
    "# Here, we have to use variable references instead of names though, \n",
    "# since the BDD object has no idea what the actual names of the variables are.\n",
    "formula.r_exists([v_a, v_c])\n",
    "formula.r_for_all([v_a, v_c])\n",
    "\n",
    "# Projection \"removes\" the influence of a particular variable: F = F[a/0] | F[a/1]\n",
    "graphviz.Source(formula.r_exists(v_a).to_dot())"
   ]
  },
  {
   "cell_type": "markdown",
   "metadata": {},
   "source": [
    "Similarly, we can use selection to actually fix a variable to a specific value. Here, we have to also include the Boolean value to which we are fixing. The argument is therefore a dictionary whose keys are BDD variable references."
   ]
  },
  {
   "cell_type": "code",
   "execution_count": 9,
   "metadata": {
    "cell_id": "00018-215df1c3-7c75-4ba3-a157-a2186d3c0e1a",
    "deepnote_app_coordinates": {
     "h": 5,
     "w": 12,
     "x": 0,
     "y": 108
    },
    "deepnote_cell_height": 531.65625,
    "deepnote_cell_type": "code",
    "deepnote_output_heights": [
     380.65625
    ],
    "deepnote_to_be_reexecuted": false,
    "execution_millis": 89,
    "execution_start": 1647976187301,
    "source_hash": "d73965a1",
    "tags": []
   },
   "outputs": [
    {
     "data": {
      "image/svg+xml": [
       "<?xml version=\"1.0\" encoding=\"UTF-8\" standalone=\"no\"?>\n",
       "<!DOCTYPE svg PUBLIC \"-//W3C//DTD SVG 1.1//EN\"\n",
       " \"http://www.w3.org/Graphics/SVG/1.1/DTD/svg11.dtd\">\n",
       "<!-- Generated by graphviz version 11.0.0 (20240428.1522)\n",
       " -->\n",
       "<!-- Title: G Pages: 1 -->\n",
       "<svg width=\"62pt\" height=\"286pt\"\n",
       " viewBox=\"0.00 0.00 62.00 285.94\" xmlns=\"http://www.w3.org/2000/svg\" xmlns:xlink=\"http://www.w3.org/1999/xlink\">\n",
       "<g id=\"graph0\" class=\"graph\" transform=\"scale(1 1) rotate(0) translate(4 281.94)\">\n",
       "<title>G</title>\n",
       "<polygon fill=\"white\" stroke=\"none\" points=\"-4,4 -4,-281.94 58,-281.94 58,4 -4,4\"/>\n",
       "<!-- init__ -->\n",
       "<!-- 4 -->\n",
       "<g id=\"node2\" class=\"node\">\n",
       "<title>4</title>\n",
       "<ellipse fill=\"none\" stroke=\"black\" cx=\"27\" cy=\"-222.5\" rx=\"27\" ry=\"18\"/>\n",
       "<text text-anchor=\"middle\" x=\"27\" y=\"-217.45\" font-family=\"Times,serif\" font-size=\"14.00\">a</text>\n",
       "</g>\n",
       "<!-- init__&#45;&gt;4 -->\n",
       "<g id=\"edge1\" class=\"edge\">\n",
       "<title>init__&#45;&gt;4</title>\n",
       "<path fill=\"none\" stroke=\"black\" d=\"M27,-276.35C27,-274.94 27,-263.91 27,-252.29\"/>\n",
       "<polygon fill=\"black\" stroke=\"black\" points=\"30.5,-252.32 27,-242.32 23.5,-252.32 30.5,-252.32\"/>\n",
       "</g>\n",
       "<!-- 3 -->\n",
       "<g id=\"node5\" class=\"node\">\n",
       "<title>3</title>\n",
       "<ellipse fill=\"none\" stroke=\"black\" cx=\"27\" cy=\"-150.5\" rx=\"27\" ry=\"18\"/>\n",
       "<text text-anchor=\"middle\" x=\"27\" y=\"-145.45\" font-family=\"Times,serif\" font-size=\"14.00\">c</text>\n",
       "</g>\n",
       "<!-- 4&#45;&gt;3 -->\n",
       "<g id=\"edge4\" class=\"edge\">\n",
       "<title>4&#45;&gt;3</title>\n",
       "<path fill=\"none\" stroke=\"black\" d=\"M27,-204.2C27,-196.91 27,-188.23 27,-180.04\"/>\n",
       "<polygon fill=\"black\" stroke=\"black\" points=\"30.5,-180.12 27,-170.12 23.5,-180.12 30.5,-180.12\"/>\n",
       "</g>\n",
       "<!-- 1 -->\n",
       "<g id=\"node3\" class=\"node\">\n",
       "<title>1</title>\n",
       "<polygon fill=\"lightgrey\" stroke=\"black\" points=\"38.38,-24.5 15.62,-24.5 15.62,0 38.38,0 38.38,-24.5\"/>\n",
       "<text text-anchor=\"middle\" x=\"27\" y=\"-7.2\" font-family=\"Times,serif\" font-size=\"14.00\">1</text>\n",
       "</g>\n",
       "<!-- 2 -->\n",
       "<g id=\"node4\" class=\"node\">\n",
       "<title>2</title>\n",
       "<ellipse fill=\"none\" stroke=\"black\" cx=\"27\" cy=\"-78.5\" rx=\"27\" ry=\"18\"/>\n",
       "<text text-anchor=\"middle\" x=\"27\" y=\"-73.45\" font-family=\"Times,serif\" font-size=\"14.00\">d</text>\n",
       "</g>\n",
       "<!-- 2&#45;&gt;1 -->\n",
       "<g id=\"edge2\" class=\"edge\">\n",
       "<title>2&#45;&gt;1</title>\n",
       "<path fill=\"none\" stroke=\"black\" stroke-dasharray=\"1,5\" d=\"M27,-60.28C27,-52.87 27,-44.09 27,-36.14\"/>\n",
       "<polygon fill=\"black\" stroke=\"black\" points=\"30.5,-36.15 27,-26.15 23.5,-36.15 30.5,-36.15\"/>\n",
       "</g>\n",
       "<!-- 3&#45;&gt;2 -->\n",
       "<g id=\"edge3\" class=\"edge\">\n",
       "<title>3&#45;&gt;2</title>\n",
       "<path fill=\"none\" stroke=\"black\" stroke-dasharray=\"1,5\" d=\"M27,-132.2C27,-124.91 27,-116.23 27,-108.04\"/>\n",
       "<polygon fill=\"black\" stroke=\"black\" points=\"30.5,-108.12 27,-98.12 23.5,-108.12 30.5,-108.12\"/>\n",
       "</g>\n",
       "</g>\n",
       "</svg>\n"
      ],
      "text/plain": [
       "<graphviz.sources.Source at 0x106a9bb20>"
      ]
     },
     "execution_count": 9,
     "metadata": {},
     "output_type": "execute_result"
    }
   ],
   "source": [
    "graphviz.Source(formula.r_select({ v_c: False }).to_dot())"
   ]
  },
  {
   "cell_type": "markdown",
   "metadata": {
    "cell_id": "00019-2160c2ce-e7ef-4bf9-b8d2-493bf62f0130",
    "deepnote_app_coordinates": {
     "h": 5,
     "w": 12,
     "x": 0,
     "y": 114
    },
    "deepnote_cell_height": 52.390625,
    "deepnote_cell_type": "markdown",
    "tags": []
   },
   "source": [
    "Finally, to transfer and save BDDs, you can use a simple string format that encodes the directed graph. However, a BDD can be also saved using `pickle`."
   ]
  },
  {
   "cell_type": "code",
   "execution_count": 10,
   "metadata": {
    "cell_id": "00020-1b064503-facd-4a62-a805-bd45847f9e9f",
    "deepnote_app_coordinates": {
     "h": 5,
     "w": 12,
     "x": 0,
     "y": 120
    },
    "deepnote_cell_height": 154.1875,
    "deepnote_cell_type": "code",
    "deepnote_output_heights": [
     21.1875
    ],
    "deepnote_to_be_reexecuted": false,
    "execution_millis": 37,
    "execution_start": 1647976187354,
    "source_hash": "2be41127",
    "tags": []
   },
   "outputs": [
    {
     "data": {
      "text/plain": [
       "'|5,0,0|5,1,1|3,1,0|2,2,0|1,2,3|0,0,4|'"
      ]
     },
     "execution_count": 10,
     "metadata": {},
     "output_type": "execute_result"
    }
   ],
   "source": [
    "# Note that you need to provide the variable set together with the data string:\n",
    "assert Bdd(vars, formula.data_string()).data_string() == formula.data_string()\n",
    "\n",
    "# formula.data_bytes() also exists.\n",
    "formula.data_string()"
   ]
  },
  {
   "cell_type": "markdown",
   "metadata": {
    "cell_id": "00021-1b4d8939-a1a9-40bb-901c-71eed5261e3d",
    "deepnote_app_coordinates": {
     "h": 5,
     "w": 12,
     "x": 0,
     "y": 126
    },
    "deepnote_cell_height": 111.1875,
    "deepnote_cell_type": "markdown",
    "tags": []
   },
   "source": [
    "Now you've covered most of the BDD functionality available in AEON. For more details, you can explore the [tutorial](https://docs.rs/biodivine-lib-bdd/latest/biodivine_lib_bdd/tutorial/index.html) which describes the original Rust implementation of BDDs (it has some extra details on certain topics). The rest of the Rust documentation can be also helpful to get deeper insight into how the library works. \n",
    "\n",
    "Alternatively, you can also explore the documentation for the Python bindings [here](https://biodivine.fi.muni.cz/docs/aeon-py/latest/), where you'll find the actual list of methods that is available in Python."
   ]
  },
  {
   "cell_type": "code",
   "execution_count": null,
   "metadata": {},
   "outputs": [],
   "source": []
  }
 ],
 "metadata": {
  "deepnote": {
   "is_reactive": false
  },
  "deepnote_app_layout": "article",
  "deepnote_execution_queue": [],
  "deepnote_notebook_id": "25553fc9-b6fe-495a-b9e6-c7b7ed242600",
  "kernelspec": {
   "display_name": "Python 3 (ipykernel)",
   "language": "python",
   "name": "python3"
  },
  "language_info": {
   "codemirror_mode": {
    "name": "ipython",
    "version": 3
   },
   "file_extension": ".py",
   "mimetype": "text/x-python",
   "name": "python",
   "nbconvert_exporter": "python",
   "pygments_lexer": "ipython3",
   "version": "3.9.6"
  }
 },
 "nbformat": 4,
 "nbformat_minor": 4
}
