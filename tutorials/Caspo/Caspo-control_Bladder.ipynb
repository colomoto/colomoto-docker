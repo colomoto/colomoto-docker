{
 "cells": [
  {
   "cell_type": "code",
   "execution_count": 1,
   "metadata": {},
   "outputs": [],
   "source": [
    "import caspo_control\n",
    "import biolqm"
   ]
  },
  {
   "cell_type": "markdown",
   "metadata": {},
   "source": [
    "Downloading of the model"
   ]
  },
  {
   "cell_type": "code",
   "execution_count": 2,
   "metadata": {},
   "outputs": [
    {
     "data": {
      "text/markdown": [
       "Downloading http://ginsim.org/sites/default/files/Bladder_Model.zginml"
      ],
      "text/plain": [
       "<IPython.core.display.Markdown object>"
      ]
     },
     "metadata": {},
     "output_type": "display_data"
    }
   ],
   "source": [
    "model = biolqm.load(\"http://ginsim.org/sites/default/files/Bladder_Model.zginml\")"
   ]
  },
  {
   "cell_type": "markdown",
   "metadata": {},
   "source": [
    "Conversion of the model from multivalued to Boolean "
   ]
  },
  {
   "cell_type": "code",
   "execution_count": 3,
   "metadata": {},
   "outputs": [],
   "source": [
    "inputs = {\n",
    "    \"GrowthInhibitors\":1,\n",
    "    \"EGFR_stimulus\":1,\n",
    "    \"FGFR3_stimulus\":1\n",
    "}\n",
    "target = {\"Apoptosis_b1\": 1, \"RB1\": 1}"
   ]
  },
  {
   "cell_type": "code",
   "execution_count": 4,
   "metadata": {},
   "outputs": [],
   "source": [
    "cc = caspo_control.load(model, inputs)"
   ]
  },
  {
   "cell_type": "code",
   "execution_count": 5,
   "metadata": {},
   "outputs": [
    {
     "data": {
      "text/plain": [
       "[FromCondition('input', PermanentPerturbation(DNAdamage=1, RB1=1)),\n",
       " FromCondition('input', PermanentPerturbation(ATM_b1=1, RB1=1)),\n",
       " FromCondition('input', PermanentPerturbation(Apoptosis_b1=1, RB1=1)),\n",
       " FromCondition('input', PermanentPerturbation(RB1=1, TP53=1))]"
      ]
     },
     "execution_count": 5,
     "metadata": {},
     "output_type": "execute_result"
    }
   ],
   "source": [
    "s = cc.reprogramming_to_attractor(target, maxsize=2)\n",
    "s"
   ]
  },
  {
   "cell_type": "code",
   "execution_count": 6,
   "metadata": {},
   "outputs": [
    {
     "data": {
      "text/html": [
       "<style  type=\"text/css\" >\n",
       "    #T_3f39a194_b4d8_11ea_8140_9cb6d093e143 th {\n",
       "          border-right: 1px solid black;\n",
       "    }    #T_3f39a194_b4d8_11ea_8140_9cb6d093e143 td {\n",
       "          border-right: 1px solid black;\n",
       "          min-width: 2em;\n",
       "    }    #T_3f39a194_b4d8_11ea_8140_9cb6d093e143 th.col_heading {\n",
       "          writing-mode: vertical-lr;\n",
       "          transform: rotateZ(180deg);\n",
       "          vertical-align: top;\n",
       "          border-bottom: 1px solid black;\n",
       "          text-orientation: mixed;\n",
       "    }    #T_3f39a194_b4d8_11ea_8140_9cb6d093e143row0_col3 {\n",
       "            color:  black;\n",
       "             background-color:  red;\n",
       "        }    #T_3f39a194_b4d8_11ea_8140_9cb6d093e143row0_col4 {\n",
       "            color:  black;\n",
       "             background-color:  red;\n",
       "        }    #T_3f39a194_b4d8_11ea_8140_9cb6d093e143row1_col2 {\n",
       "            color:  black;\n",
       "             background-color:  red;\n",
       "        }    #T_3f39a194_b4d8_11ea_8140_9cb6d093e143row1_col3 {\n",
       "            color:  black;\n",
       "             background-color:  red;\n",
       "        }    #T_3f39a194_b4d8_11ea_8140_9cb6d093e143row2_col1 {\n",
       "            color:  black;\n",
       "             background-color:  red;\n",
       "        }    #T_3f39a194_b4d8_11ea_8140_9cb6d093e143row2_col3 {\n",
       "            color:  black;\n",
       "             background-color:  red;\n",
       "        }    #T_3f39a194_b4d8_11ea_8140_9cb6d093e143row3_col0 {\n",
       "            color:  black;\n",
       "             background-color:  red;\n",
       "        }    #T_3f39a194_b4d8_11ea_8140_9cb6d093e143row3_col3 {\n",
       "            color:  black;\n",
       "             background-color:  red;\n",
       "        }</style><table id=\"T_3f39a194_b4d8_11ea_8140_9cb6d093e143\" ><thead>    <tr>        <th class=\"blank level0\" ></th>        <th class=\"col_heading level0 col0\" >ATM_b1</th>        <th class=\"col_heading level0 col1\" >Apoptosis_b1</th>        <th class=\"col_heading level0 col2\" >DNAdamage</th>        <th class=\"col_heading level0 col3\" >RB1</th>        <th class=\"col_heading level0 col4\" >TP53</th>    </tr></thead><tbody>\n",
       "                <tr>\n",
       "                        <th id=\"T_3f39a194_b4d8_11ea_8140_9cb6d093e143level0_row0\" class=\"row_heading level0 row0\" >0</th>\n",
       "                        <td id=\"T_3f39a194_b4d8_11ea_8140_9cb6d093e143row0_col0\" class=\"data row0 col0\" ></td>\n",
       "                        <td id=\"T_3f39a194_b4d8_11ea_8140_9cb6d093e143row0_col1\" class=\"data row0 col1\" ></td>\n",
       "                        <td id=\"T_3f39a194_b4d8_11ea_8140_9cb6d093e143row0_col2\" class=\"data row0 col2\" ></td>\n",
       "                        <td id=\"T_3f39a194_b4d8_11ea_8140_9cb6d093e143row0_col3\" class=\"data row0 col3\" >1</td>\n",
       "                        <td id=\"T_3f39a194_b4d8_11ea_8140_9cb6d093e143row0_col4\" class=\"data row0 col4\" >1</td>\n",
       "            </tr>\n",
       "            <tr>\n",
       "                        <th id=\"T_3f39a194_b4d8_11ea_8140_9cb6d093e143level0_row1\" class=\"row_heading level0 row1\" >1</th>\n",
       "                        <td id=\"T_3f39a194_b4d8_11ea_8140_9cb6d093e143row1_col0\" class=\"data row1 col0\" ></td>\n",
       "                        <td id=\"T_3f39a194_b4d8_11ea_8140_9cb6d093e143row1_col1\" class=\"data row1 col1\" ></td>\n",
       "                        <td id=\"T_3f39a194_b4d8_11ea_8140_9cb6d093e143row1_col2\" class=\"data row1 col2\" >1</td>\n",
       "                        <td id=\"T_3f39a194_b4d8_11ea_8140_9cb6d093e143row1_col3\" class=\"data row1 col3\" >1</td>\n",
       "                        <td id=\"T_3f39a194_b4d8_11ea_8140_9cb6d093e143row1_col4\" class=\"data row1 col4\" ></td>\n",
       "            </tr>\n",
       "            <tr>\n",
       "                        <th id=\"T_3f39a194_b4d8_11ea_8140_9cb6d093e143level0_row2\" class=\"row_heading level0 row2\" >2</th>\n",
       "                        <td id=\"T_3f39a194_b4d8_11ea_8140_9cb6d093e143row2_col0\" class=\"data row2 col0\" ></td>\n",
       "                        <td id=\"T_3f39a194_b4d8_11ea_8140_9cb6d093e143row2_col1\" class=\"data row2 col1\" >1</td>\n",
       "                        <td id=\"T_3f39a194_b4d8_11ea_8140_9cb6d093e143row2_col2\" class=\"data row2 col2\" ></td>\n",
       "                        <td id=\"T_3f39a194_b4d8_11ea_8140_9cb6d093e143row2_col3\" class=\"data row2 col3\" >1</td>\n",
       "                        <td id=\"T_3f39a194_b4d8_11ea_8140_9cb6d093e143row2_col4\" class=\"data row2 col4\" ></td>\n",
       "            </tr>\n",
       "            <tr>\n",
       "                        <th id=\"T_3f39a194_b4d8_11ea_8140_9cb6d093e143level0_row3\" class=\"row_heading level0 row3\" >3</th>\n",
       "                        <td id=\"T_3f39a194_b4d8_11ea_8140_9cb6d093e143row3_col0\" class=\"data row3 col0\" >1</td>\n",
       "                        <td id=\"T_3f39a194_b4d8_11ea_8140_9cb6d093e143row3_col1\" class=\"data row3 col1\" ></td>\n",
       "                        <td id=\"T_3f39a194_b4d8_11ea_8140_9cb6d093e143row3_col2\" class=\"data row3 col2\" ></td>\n",
       "                        <td id=\"T_3f39a194_b4d8_11ea_8140_9cb6d093e143row3_col3\" class=\"data row3 col3\" >1</td>\n",
       "                        <td id=\"T_3f39a194_b4d8_11ea_8140_9cb6d093e143row3_col4\" class=\"data row3 col4\" ></td>\n",
       "            </tr>\n",
       "    </tbody></table>"
      ],
      "text/plain": [
       "<pandas.io.formats.style.Styler at 0x7f50ce706ed0>"
      ]
     },
     "execution_count": 6,
     "metadata": {},
     "output_type": "execute_result"
    }
   ],
   "source": [
    "s.as_table()"
   ]
  },
  {
   "cell_type": "code",
   "execution_count": 7,
   "metadata": {},
   "outputs": [
    {
     "data": {
      "image/svg+xml": [
       "<?xml version=\"1.0\" encoding=\"UTF-8\" standalone=\"no\"?>\n",
       "<!DOCTYPE svg PUBLIC \"-//W3C//DTD SVG 1.1//EN\"\n",
       " \"http://www.w3.org/Graphics/SVG/1.1/DTD/svg11.dtd\">\n",
       "<!-- Generated by graphviz version 2.44.0 (20200408.0750)\n",
       " -->\n",
       "<!-- Pages: 1 -->\n",
       "<svg width=\"303pt\" height=\"105pt\"\n",
       " viewBox=\"0.00 0.00 302.60 104.59\" xmlns=\"http://www.w3.org/2000/svg\" xmlns:xlink=\"http://www.w3.org/1999/xlink\">\n",
       "<g id=\"graph0\" class=\"graph\" transform=\"scale(1 1) rotate(0) translate(4 100.59)\">\n",
       "<polygon fill=\"white\" stroke=\"transparent\" points=\"-4,4 -4,-100.59 298.6,-100.59 298.6,4 -4,4\"/>\n",
       "<!-- target -->\n",
       "<g id=\"node1\" class=\"node\">\n",
       "<title>target</title>\n",
       "<polygon fill=\"palegreen\" stroke=\"black\" points=\"251.4,-65.59 207.99,-47.59 251.4,-29.59 294.8,-47.59 251.4,-65.59\"/>\n",
       "<polyline fill=\"none\" stroke=\"black\" points=\"219.08,-52.18 219.08,-42.99 \"/>\n",
       "<polyline fill=\"none\" stroke=\"black\" points=\"240.31,-34.18 262.48,-34.18 \"/>\n",
       "<polyline fill=\"none\" stroke=\"black\" points=\"283.71,-42.99 283.71,-52.18 \"/>\n",
       "<polyline fill=\"none\" stroke=\"black\" points=\"262.48,-60.99 240.31,-60.99 \"/>\n",
       "<text text-anchor=\"middle\" x=\"251.4\" y=\"-43.89\" font-family=\"Times,serif\" font-size=\"14.00\">target</text>\n",
       "</g>\n",
       "<!-- input -->\n",
       "<g id=\"node2\" class=\"node\">\n",
       "<title>input</title>\n",
       "<g id=\"a_node2\"><a xlink:title=\"Condition\">\n",
       "<ellipse fill=\"none\" stroke=\"black\" cx=\"28.6\" cy=\"-47.59\" rx=\"28.7\" ry=\"18\"/>\n",
       "<text text-anchor=\"middle\" x=\"28.6\" y=\"-43.89\" font-family=\"Times,serif\" font-size=\"14.00\">input</text>\n",
       "</a>\n",
       "</g>\n",
       "</g>\n",
       "<!-- input&#45;&gt;target -->\n",
       "<g id=\"edge1\" class=\"edge\">\n",
       "<title>input&#45;&gt;target</title>\n",
       "<path fill=\"none\" stroke=\"black\" d=\"M46.64,-61.7C54.76,-67.52 64.93,-73.6 75.19,-76.59 124.27,-90.87 140.37,-87.96 190.19,-76.59 202.06,-73.88 214.31,-68.52 224.63,-63.14\"/>\n",
       "<polygon fill=\"black\" stroke=\"black\" points=\"226.43,-66.15 233.51,-58.27 223.06,-60.01 226.43,-66.15\"/>\n",
       "<g id=\"a_edge1&#45;label\"><a xlink:title=\"PermanentPerturbation(DNAdamage=1, RB1=1)\">\n",
       "<text text-anchor=\"middle\" x=\"132.69\" y=\"-88.59\" font-family=\"Times,serif\" font-size=\"10.00\">P(DNAdamage=1, RB1=1)</text>\n",
       "</a>\n",
       "</g>\n",
       "</g>\n",
       "<!-- input&#45;&gt;target -->\n",
       "<g id=\"edge2\" class=\"edge\">\n",
       "<title>input&#45;&gt;target</title>\n",
       "<path fill=\"none\" stroke=\"black\" d=\"M57.56,-47.59C92.69,-47.59 153.69,-47.59 197.69,-47.59\"/>\n",
       "<polygon fill=\"black\" stroke=\"black\" points=\"197.92,-51.09 207.92,-47.59 197.92,-44.09 197.92,-51.09\"/>\n",
       "<g id=\"a_edge2&#45;label\"><a xlink:title=\"PermanentPerturbation(ATM_b1=1, RB1=1)\">\n",
       "<text text-anchor=\"middle\" x=\"132.69\" y=\"-50.59\" font-family=\"Times,serif\" font-size=\"10.00\">P(ATM_b1=1, RB1=1)</text>\n",
       "</a>\n",
       "</g>\n",
       "</g>\n",
       "<!-- input&#45;&gt;target -->\n",
       "<g id=\"edge3\" class=\"edge\">\n",
       "<title>input&#45;&gt;target</title>\n",
       "<path fill=\"none\" stroke=\"black\" d=\"M53.38,-38.18C60.3,-35.88 67.95,-33.75 75.19,-32.59 125.66,-24.5 139.46,-26.36 190.19,-32.59 198.71,-33.63 207.75,-35.48 216.17,-37.52\"/>\n",
       "<polygon fill=\"black\" stroke=\"black\" points=\"215.49,-40.96 226.05,-40.08 217.24,-34.19 215.49,-40.96\"/>\n",
       "<g id=\"a_edge3&#45;label\"><a xlink:title=\"PermanentPerturbation(Apoptosis_b1=1, RB1=1)\">\n",
       "<text text-anchor=\"middle\" x=\"132.69\" y=\"-35.59\" font-family=\"Times,serif\" font-size=\"10.00\">P(Apoptosis_b1=1, RB1=1)</text>\n",
       "</a>\n",
       "</g>\n",
       "</g>\n",
       "<!-- input&#45;&gt;target -->\n",
       "<g id=\"edge4\" class=\"edge\">\n",
       "<title>input&#45;&gt;target</title>\n",
       "<path fill=\"none\" stroke=\"black\" d=\"M44.04,-32.01C52.31,-24.26 63.38,-15.69 75.19,-11.59 123.48,5.18 140.93,2.02 190.19,-11.59 203.4,-15.23 216.63,-22.63 227.3,-29.77\"/>\n",
       "<polygon fill=\"black\" stroke=\"black\" points=\"225.42,-32.73 235.62,-35.62 229.45,-27.01 225.42,-32.73\"/>\n",
       "<g id=\"a_edge4&#45;label\"><a xlink:title=\"PermanentPerturbation(RB1=1, TP53=1)\">\n",
       "<text text-anchor=\"middle\" x=\"132.69\" y=\"-14.59\" font-family=\"Times,serif\" font-size=\"10.00\">P(RB1=1, TP53=1)</text>\n",
       "</a>\n",
       "</g>\n",
       "</g>\n",
       "</g>\n",
       "</svg>\n"
      ],
      "text/plain": [
       "<pydot.Dot at 0x7f50bb592fd0>"
      ]
     },
     "execution_count": 7,
     "metadata": {},
     "output_type": "execute_result"
    }
   ],
   "source": [
    "s.as_graph()"
   ]
  },
  {
   "cell_type": "code",
   "execution_count": 8,
   "metadata": {},
   "outputs": [
    {
     "data": {
      "text/html": [
       "<div>\n",
       "<style scoped>\n",
       "    .dataframe tbody tr th:only-of-type {\n",
       "        vertical-align: middle;\n",
       "    }\n",
       "\n",
       "    .dataframe tbody tr th {\n",
       "        vertical-align: top;\n",
       "    }\n",
       "\n",
       "    .dataframe thead th {\n",
       "        text-align: right;\n",
       "    }\n",
       "</style>\n",
       "<table border=\"1\" class=\"dataframe\">\n",
       "  <thead>\n",
       "    <tr style=\"text-align: right;\">\n",
       "      <th></th>\n",
       "      <th>EGFR_stimulus</th>\n",
       "      <th>FGFR3_stimulus</th>\n",
       "      <th>GrowthInhibitors</th>\n",
       "    </tr>\n",
       "  </thead>\n",
       "  <tbody>\n",
       "    <tr>\n",
       "      <th>input</th>\n",
       "      <td>1</td>\n",
       "      <td>1</td>\n",
       "      <td>1</td>\n",
       "    </tr>\n",
       "  </tbody>\n",
       "</table>\n",
       "</div>"
      ],
      "text/plain": [
       "       EGFR_stimulus  FGFR3_stimulus  GrowthInhibitors\n",
       "input              1               1                 1"
      ]
     },
     "execution_count": 8,
     "metadata": {},
     "output_type": "execute_result"
    }
   ],
   "source": [
    "s.aliases"
   ]
  },
  {
   "cell_type": "code",
   "execution_count": 9,
   "metadata": {},
   "outputs": [],
   "source": [
    "from colomoto_jupyter import tabulate"
   ]
  },
  {
   "cell_type": "code",
   "execution_count": 10,
   "metadata": {},
   "outputs": [],
   "source": [
    "test = biolqm.to_minibn(model, ensure_boolean=True)\n",
    "for n, v in inputs.items():\n",
    "    test[n] = v\n",
    "test[\"RB1\"] = 1\n",
    "test[\"TP53\"] = 1"
   ]
  },
  {
   "cell_type": "code",
   "execution_count": 11,
   "metadata": {},
   "outputs": [
    {
     "data": {
      "text/html": [
       "<div>\n",
       "<style scoped>\n",
       "    .dataframe tbody tr th:only-of-type {\n",
       "        vertical-align: middle;\n",
       "    }\n",
       "\n",
       "    .dataframe tbody tr th {\n",
       "        vertical-align: top;\n",
       "    }\n",
       "\n",
       "    .dataframe thead th {\n",
       "        text-align: right;\n",
       "    }\n",
       "</style>\n",
       "<table border=\"1\" class=\"dataframe\">\n",
       "  <thead>\n",
       "    <tr style=\"text-align: right;\">\n",
       "      <th></th>\n",
       "      <th>AKT</th>\n",
       "      <th>ATM_b1</th>\n",
       "      <th>ATM_b2</th>\n",
       "      <th>Apoptosis_b1</th>\n",
       "      <th>Apoptosis_b2</th>\n",
       "      <th>CDC25A</th>\n",
       "      <th>CHEK1_2_b1</th>\n",
       "      <th>CHEK1_2_b2</th>\n",
       "      <th>CyclinA</th>\n",
       "      <th>CyclinD1</th>\n",
       "      <th>CyclinE1</th>\n",
       "      <th>DNAdamage</th>\n",
       "      <th>E2F1_b1</th>\n",
       "      <th>E2F1_b2</th>\n",
       "      <th>E2F3_b1</th>\n",
       "      <th>E2F3_b2</th>\n",
       "      <th>EGFR</th>\n",
       "      <th>EGFR_stimulus</th>\n",
       "      <th>FGFR3</th>\n",
       "      <th>FGFR3_stimulus</th>\n",
       "      <th>GRB2</th>\n",
       "      <th>GrowthInhibitors</th>\n",
       "      <th>Growth_Arrest</th>\n",
       "      <th>MDM2</th>\n",
       "      <th>PI3K</th>\n",
       "      <th>PTEN</th>\n",
       "      <th>Proliferation</th>\n",
       "      <th>RAS</th>\n",
       "      <th>RB1</th>\n",
       "      <th>RBL2</th>\n",
       "      <th>SPRY</th>\n",
       "      <th>TP53</th>\n",
       "      <th>p14ARF</th>\n",
       "      <th>p16INK4a</th>\n",
       "      <th>p21CIP</th>\n",
       "    </tr>\n",
       "  </thead>\n",
       "  <tbody>\n",
       "    <tr>\n",
       "      <th>0</th>\n",
       "      <td>0</td>\n",
       "      <td>0</td>\n",
       "      <td>0</td>\n",
       "      <td>1</td>\n",
       "      <td>0</td>\n",
       "      <td>0</td>\n",
       "      <td>0</td>\n",
       "      <td>0</td>\n",
       "      <td>0</td>\n",
       "      <td>0</td>\n",
       "      <td>0</td>\n",
       "      <td>0</td>\n",
       "      <td>0</td>\n",
       "      <td>0</td>\n",
       "      <td>0</td>\n",
       "      <td>0</td>\n",
       "      <td>0</td>\n",
       "      <td>1</td>\n",
       "      <td>1</td>\n",
       "      <td>1</td>\n",
       "      <td>0</td>\n",
       "      <td>1</td>\n",
       "      <td>1</td>\n",
       "      <td>0</td>\n",
       "      <td>0</td>\n",
       "      <td>1</td>\n",
       "      <td>0</td>\n",
       "      <td>1</td>\n",
       "      <td>1</td>\n",
       "      <td>1</td>\n",
       "      <td>1</td>\n",
       "      <td>1</td>\n",
       "      <td>0</td>\n",
       "      <td>0</td>\n",
       "      <td>1</td>\n",
       "    </tr>\n",
       "    <tr>\n",
       "      <th>1</th>\n",
       "      <td>0</td>\n",
       "      <td>1</td>\n",
       "      <td>0</td>\n",
       "      <td>1</td>\n",
       "      <td>0</td>\n",
       "      <td>0</td>\n",
       "      <td>1</td>\n",
       "      <td>0</td>\n",
       "      <td>0</td>\n",
       "      <td>0</td>\n",
       "      <td>0</td>\n",
       "      <td>1</td>\n",
       "      <td>0</td>\n",
       "      <td>0</td>\n",
       "      <td>0</td>\n",
       "      <td>0</td>\n",
       "      <td>0</td>\n",
       "      <td>1</td>\n",
       "      <td>1</td>\n",
       "      <td>1</td>\n",
       "      <td>0</td>\n",
       "      <td>1</td>\n",
       "      <td>1</td>\n",
       "      <td>0</td>\n",
       "      <td>0</td>\n",
       "      <td>1</td>\n",
       "      <td>0</td>\n",
       "      <td>1</td>\n",
       "      <td>1</td>\n",
       "      <td>1</td>\n",
       "      <td>1</td>\n",
       "      <td>1</td>\n",
       "      <td>0</td>\n",
       "      <td>0</td>\n",
       "      <td>1</td>\n",
       "    </tr>\n",
       "  </tbody>\n",
       "</table>\n",
       "</div>"
      ],
      "text/plain": [
       "   AKT  ATM_b1  ATM_b2  Apoptosis_b1  Apoptosis_b2  CDC25A  CHEK1_2_b1  \\\n",
       "0    0       0       0             1             0       0           0   \n",
       "1    0       1       0             1             0       0           1   \n",
       "\n",
       "   CHEK1_2_b2  CyclinA  CyclinD1  CyclinE1  DNAdamage  E2F1_b1  E2F1_b2  \\\n",
       "0           0        0         0         0          0        0        0   \n",
       "1           0        0         0         0          1        0        0   \n",
       "\n",
       "   E2F3_b1  E2F3_b2  EGFR  EGFR_stimulus  FGFR3  FGFR3_stimulus  GRB2  \\\n",
       "0        0        0     0              1      1               1     0   \n",
       "1        0        0     0              1      1               1     0   \n",
       "\n",
       "   GrowthInhibitors  Growth_Arrest  MDM2  PI3K  PTEN  Proliferation  RAS  RB1  \\\n",
       "0                 1              1     0     0     1              0    1    1   \n",
       "1                 1              1     0     0     1              0    1    1   \n",
       "\n",
       "   RBL2  SPRY  TP53  p14ARF  p16INK4a  p21CIP  \n",
       "0     1     1     1       0         0       1  \n",
       "1     1     1     1       0         0       1  "
      ]
     },
     "execution_count": 11,
     "metadata": {},
     "output_type": "execute_result"
    }
   ],
   "source": [
    "tabulate(biolqm.fixpoints(test.to_biolqm()))"
   ]
  },
  {
   "cell_type": "code",
   "execution_count": null,
   "metadata": {},
   "outputs": [],
   "source": []
  }
 ],
 "metadata": {
  "kernelspec": {
   "display_name": "Python 3",
   "language": "python",
   "name": "python3"
  },
  "language_info": {
   "codemirror_mode": {
    "name": "ipython",
    "version": 3
   },
   "file_extension": ".py",
   "mimetype": "text/x-python",
   "name": "python",
   "nbconvert_exporter": "python",
   "pygments_lexer": "ipython3",
   "version": "3.7.7"
  }
 },
 "nbformat": 4,
 "nbformat_minor": 2
}
